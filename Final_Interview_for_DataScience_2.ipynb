{
  "nbformat": 4,
  "nbformat_minor": 0,
  "metadata": {
    "colab": {
      "name": "Final Interview for DataScience - 2.ipynb",
      "provenance": [],
      "collapsed_sections": [],
      "include_colab_link": true
    },
    "kernelspec": {
      "display_name": "Python 3",
      "name": "python3"
    }
  },
  "cells": [
    {
      "cell_type": "markdown",
      "metadata": {
        "id": "view-in-github",
        "colab_type": "text"
      },
      "source": [
        "<a href=\"https://colab.research.google.com/github/FrankGangWang/AppliedML_Python_Coursera/blob/master/Final_Interview_for_DataScience_2.ipynb\" target=\"_parent\"><img src=\"https://colab.research.google.com/assets/colab-badge.svg\" alt=\"Open In Colab\"/></a>"
      ]
    },
    {
      "cell_type": "markdown",
      "metadata": {
        "id": "rqlyZk0Z-kf0"
      },
      "source": [
        "**Interview questions to test data science skills**\n",
        "\n",
        "---\n",
        "\n",
        "\n"
      ]
    },
    {
      "cell_type": "markdown",
      "metadata": {
        "id": "1aR3yaVg-6FC"
      },
      "source": [
        "# Let's load the data from public GitHub account"
      ]
    },
    {
      "cell_type": "code",
      "metadata": {
        "id": "zMU3MFw0-ZRS"
      },
      "source": [
        "import pandas as pd\n",
        "import numpy as np\n",
        "import datetime\n",
        "import math\n",
        "\n",
        "import matplotlib.pyplot as plt\n",
        "import seaborn as sns\n"
      ],
      "execution_count": 1,
      "outputs": []
    },
    {
      "cell_type": "markdown",
      "metadata": {
        "id": "BDSqgzAExHrS"
      },
      "source": [
        ""
      ]
    },
    {
      "cell_type": "code",
      "metadata": {
        "id": "0VEsPDVv-jp-"
      },
      "source": [
        "# load data and check condation of NA\n",
        "df = pd.read_pickle(\"https://github.com/manjiler/interview_for_datascience/raw/master/interview_storage.pkl\")\n",
        "df['timestamp_seconds'] = df.pop('timestamp')/1.0e3\n"
      ],
      "execution_count": 52,
      "outputs": []
    },
    {
      "cell_type": "code",
      "metadata": {
        "id": "os9MD_wzmZPx"
      },
      "source": [
        "# check missing data; result: no missing data\n",
        "print(f'*** There are {df.isna().sum().sum()} NA data')\n",
        "df.info()\n",
        "df.describe()"
      ],
      "execution_count": null,
      "outputs": []
    },
    {
      "cell_type": "markdown",
      "metadata": {
        "id": "ANYv7bdPEdpX"
      },
      "source": [
        "## Now that the data is loaded. let's begin!!!\n",
        "\n",
        "# **About the data**\n",
        "\n",
        "---\n",
        "This is time series data for one month collected for N number of devices\n",
        "\n",
        "Columns\n",
        "\n",
        "systemId - Device name\n",
        "\n",
        "timestamp_seconds - epoch time when the sensor data was collected\n",
        "\n",
        "model_type - Different versions/release/model of the device (similar to mobile models)\n",
        "\n",
        "cpu_utilization - this percentage of how much the CPU is used on the device.\n",
        "\n",
        "read_cache_miss - Percentage of read that were not present in the Cache\n",
        "\n",
        "write_cache_miss - Percentage of write that were not present in the Cache\n",
        "\n",
        "read_iops -  Number of read IOs per second (Input/Output)\n",
        "\n",
        "write_iops -  Nummber of write IOs per second (Input/Output)\n",
        "\n",
        "read_throughput - the read bandwidth per second (Units kbps)\n",
        "\n",
        "write_throughput - the write bandwidth per second (Units kbps)\n",
        "\n",
        "read_iosz - the block size for read Input/Output operations\n",
        "\n",
        "write_iosz - the block size for write Input/Output operations\n",
        "\n",
        "\n",
        "y -> cpu_utilization\n",
        "\n"
      ]
    },
    {
      "cell_type": "markdown",
      "metadata": {
        "id": "yw8r7vKGEklC"
      },
      "source": [
        "## Q1. Do an EDA on the data, correlation plots, features that might be important for the modeling. Share your observations. Comment on how the data looks from modeling perspective"
      ]
    },
    {
      "cell_type": "code",
      "metadata": {
        "id": "F5nRUk_z1Jtv"
      },
      "source": [
        "#SYSTEM_ID_SELECTED = ['All']\n",
        "SYSTEM_ID_SELECTED = ['sys1']\n",
        "TEST_SIZE = 0.2 # Not yet used; TODO\n",
        "USE_TIME_TRANSFORMED = True # NOTE: PowerTransform only accept positive input\n",
        "USE_TIME_STAMP = True\n",
        "\n",
        "# We separately process sub-sets of columns and concatenate them in a numpy array called data \n",
        "target_col = ['cpu_utilization']\n",
        "numerical_transform_cols = ['read_cache_miss', 'write_cache_miss', 'read_iops', 'write_iops',\n",
        "                            'read_throughput', 'write_throughput', 'read_iosz', 'write_iosz']\n",
        "time_col = ['timestamp_seconds']\n",
        "time_transformed_cols = ['Week_Sin', 'Week_Cos', 'Day_Sin', 'Day_Cos', 'Hour_Sin', 'Hour_Cos']\n",
        "cols_to_encode = ['systemId', 'model_type']\n",
        "\n",
        "#AS timestamp_seconds is appended after numerical_transform_cols are added to data\n",
        "TIMESTAMP_INDEX_DATA = len(time_col) + len(numerical_transform_cols) \n",
        "Y_INDEX_DATA = 0 # index of target in data\n",
        "X_FIRST_INDEX_DATA = 1 # first index in data for X\n",
        "\n",
        "hour = 60*60\n",
        "day = 24*hour\n",
        "week = 7*day\n",
        "\n",
        "data_cols = []"
      ],
      "execution_count": 53,
      "outputs": []
    },
    {
      "cell_type": "code",
      "metadata": {
        "id": "Y479tMw7kg3v"
      },
      "source": [
        "# RUN: add sorted datetime index\n",
        "df.set_index(pd.to_datetime(df['timestamp_seconds'], unit='s', origin='unix'), inplace=True)\n",
        "df.sort_index(inplace=True)\n",
        "\n",
        "# add some artificial features maybe useful for classification\n",
        "# add sin/cos for day/hour\n",
        "# To help finding time periodicity (hourly/daily/weekly/monthly/yearly), \n",
        "#    add additional features like \"time of day/week\" by appling cos and sin to timestamp_seconds \n",
        "df['Hour_Sin'] = np.sin(df['timestamp_seconds'] * (2 * np.pi / hour))\n",
        "df['Hour_Cos'] = np.cos(df['timestamp_seconds'] * (2 * np.pi / hour))\n",
        "df['Day_Sin'] = np.sin(df['timestamp_seconds'] * (2 * np.pi / day))\n",
        "df['Day_Cos'] = np.cos(df['timestamp_seconds'] * (2 * np.pi / day))\n",
        "week_offset = 3*day # as epoch 0 is Thursday 1970-01-01, and leap seconds 23:59:60\n",
        "df['Week_Sin'] = np.sin((df['timestamp_seconds']+week_offset) * (2 * np.pi / week))\n",
        "df['Week_Cos'] = np.cos((df['timestamp_seconds']+week_offset) * (2 * np.pi / week))"
      ],
      "execution_count": 54,
      "outputs": []
    },
    {
      "cell_type": "code",
      "metadata": {
        "id": "tn1iql0ioxBH"
      },
      "source": [
        "df[df['systemId']==SYSTEM_ID_SELECTED[0]].head(5)"
      ],
      "execution_count": null,
      "outputs": []
    },
    {
      "cell_type": "code",
      "metadata": {
        "id": "aGN2iPaLQ5j8"
      },
      "source": [
        "df[df['systemId']==SYSTEM_ID_SELECTED[0]].tail(5)"
      ],
      "execution_count": null,
      "outputs": []
    },
    {
      "cell_type": "code",
      "metadata": {
        "id": "WhvgbIJNOakr"
      },
      "source": [
        "# plot histogram of systemId_selected\n",
        "def plot_df_hist(df_tmp, systemId_selected, title_str, cols, bins):\n",
        "  if systemId_selected[0] != 'All':\n",
        "    df_tmp = df_tmp[df_tmp['systemId']==systemId_selected[0]]\n",
        "  df_tmp = df_tmp[cols]\n",
        "  df_tmp.hist(bins=bins)\n",
        "  fig = plt.gcf()\n",
        "  fig.set_size_inches(18, 8)\n",
        "  fig.suptitle(f'{title_str}, systemId {systemId_selected[0]}')\n",
        "  plt.tight_layout()\n",
        "  fig.subplots_adjust(top=0.9)\n"
      ],
      "execution_count": 8,
      "outputs": []
    },
    {
      "cell_type": "code",
      "metadata": {
        "id": "edyDh42I8B-T"
      },
      "source": [
        "# RUN: plot hist of all systemIds: \n",
        "# Conclusion: a few columns are far from Gaussian distribution\n",
        "title_str = 'Before transformation!'\n",
        "plot_df_hist(df, SYSTEM_ID_SELECTED, title_str, df.columns, 30)\n",
        "#NOTE: Hour_Sin AND Hour_Cos have only 7 distinct bins at [0, 30, 60, 90, -30, -60, -90] degress as \n",
        "# as sampling perid=5 minutes, thus 2pi*5min/60min=pi/6=30degree"
      ],
      "execution_count": null,
      "outputs": []
    },
    {
      "cell_type": "markdown",
      "metadata": {
        "id": "tOwZ76uV-RDA"
      },
      "source": [
        "The histograms show that we need apply normalization and power transformation\n"
      ]
    },
    {
      "cell_type": "code",
      "metadata": {
        "id": "kv3KA4XdRdhf"
      },
      "source": [
        "# utility hist2d plot xcols against target ycol\n",
        "def hist2d_plot(df_temp, systemId, xcols, ycol, xbins, ybins, vmax):\n",
        "  print(f\"hist2d_plot 1 Initial address of df_temp: {id(df_temp)}, shape={df_temp.shape}\")\n",
        "  if systemId != 'All': \n",
        "    df_temp = df[df['systemId']==systemId]\n",
        "  print(f\"hist2d_plot 2 Initial address of df_temp: {id(df_temp)}, shape={df_temp.shape}\")\n",
        "  print(df_temp.shape)\n",
        "  len_x = len(xcols)\n",
        "  num_rows = math.ceil(math.sqrt(len_x))\n",
        "  num_cols = math.ceil(len_x/num_rows)\n",
        "  x_index = 0\n",
        "  for row in range(num_rows):\n",
        "    for col in range(num_cols):\n",
        "      if x_index == len_x:\n",
        "        break\n",
        "      plt.subplot(num_rows, num_cols, x_index+1)\n",
        "      plt.hist2d(df_temp[xcols[x_index]], df_temp[ycol], bins=[xbins, ybins], vmax=vmax) #\n",
        "      plt.colorbar()\n",
        "      plt.xlabel(xcols[x_index])\n",
        "      plt.ylabel(ycol)\n",
        "      x_index = x_index + 1\n",
        "  fig = plt.gcf()\n",
        "  fig.set_size_inches(18.5, 3*num_rows)\n",
        "  fig.suptitle(f'systemId={systemId}')\n",
        "  plt.tight_layout() # 2nd last step in fig setting\n",
        "  fig.subplots_adjust(top=0.88) # last in fig setting\n",
        "  plt.show()\n"
      ],
      "execution_count": null,
      "outputs": []
    },
    {
      "cell_type": "code",
      "metadata": {
        "id": "YtyLQmcWebEX"
      },
      "source": [
        "#  plot hist2d: xcols against target ycol\n",
        "vmax = 100; xbins = 50; ybins = 50\n",
        "ycol = 'cpu_utilization'\n",
        "xcols_group = [\n",
        "  ['read_cache_miss', 'write_cache_miss', 'read_iops', 'write_iops'],\n",
        "  ['read_throughput', 'write_throughput', 'read_iosz', 'write_iosz'],\n",
        "  ['Week_Sin', 'Week_Cos', 'Day_Sin', 'Day_Cos', 'Hour_Sin', 'Hour_Cos']]\n",
        "for xcols in xcols_group:\n",
        "  hist2d_plot(df, SYSTEM_ID_SELECTED, xcols, ycol, xbins, ybins, vmax)"
      ],
      "execution_count": null,
      "outputs": []
    },
    {
      "cell_type": "code",
      "metadata": {
        "id": "wNIlYT9P1Rrm"
      },
      "source": [
        "vmax = 100; xbins = 50; ybins = 50\n",
        "ycol = 'read_throughput'\n",
        "xcols_group = [\n",
        "  ['write_throughput', 'read_iosz', 'write_iosz', 'read_cache_miss']]\n",
        "for xcols in xcols_group:\n",
        "  hist2d_plot(df, SYSTEM_ID_SELECTED, xcols, ycol, xbins, ybins, vmax)"
      ],
      "execution_count": null,
      "outputs": []
    },
    {
      "cell_type": "code",
      "metadata": {
        "id": "3vMT39fHGAh9"
      },
      "source": [
        "# Transform to make data more Gaussian-like \n",
        "# Standarize to make close Norml(0, 1)\n",
        "# Only to numerical_transform_cols, not for timestamp, categoricals\n",
        "def get_target_for_transform(df, systemId_selected, numerical_transform_cols, print_flag=False):\n",
        "  from sklearn.preprocessing import PowerTransformer\n",
        "  #from sklearn.preprocessing import QuantileTransformer\n",
        "  if systemId_selected[0] == 'All':\n",
        "    df_tmp = df[numerical_transform_cols]\n",
        "  else:  \n",
        "    df_tmp = df[df['systemId']==systemId_selected[0]][numerical_transform_cols]\n",
        "  if print_flag:\n",
        "    print(f'*** Inside get_target_for_transform(): df_tmp.shape={df_tmp.shape}')\n",
        "  # Start Transformation\n",
        "  data = df_tmp.values\n",
        "  return data"
      ],
      "execution_count": 19,
      "outputs": []
    },
    {
      "cell_type": "markdown",
      "metadata": {
        "id": "geDYFuM9cMJB"
      },
      "source": [
        "Compare hists of each single systemId ('sys1' vs 'sys2', etc) and single systemId with hist of all systemIds 'All' case:\n",
        "1. each systemId has different hist patterns\n",
        "2. Hour_Sin and Hour_Cos show a pattern at certain times per hour\n"
      ]
    },
    {
      "cell_type": "code",
      "metadata": {
        "id": "IxKVbmg5dj36"
      },
      "source": [
        "# Transform to make data more Gaussian-like \n",
        "# Standarize to make close Norml(0, 1)\n",
        "# Only to numerical_transform_cols, not for timestamp, categoricals\n",
        "def transform_features(df, systemId_selected, numerical_transform_cols, print_flag=False):\n",
        "  from sklearn.preprocessing import PowerTransformer\n",
        "  #from sklearn.preprocessing import QuantileTransformer\n",
        "  if systemId_selected[0] == 'All':\n",
        "    df_tmp = df[numerical_transform_cols]\n",
        "  else:  \n",
        "    df_tmp = df[df['systemId']==systemId_selected[0]][numerical_transform_cols]\n",
        "  # Start Transformation\n",
        "  data = df_tmp.values\n",
        "  power = PowerTransformer(method='box-cox', standardize=True)\n",
        "  data = power.fit_transform(data)\n",
        "  if print_flag:\n",
        "    print(f'*** Inside transform_features(): df_tmp.shape={df_tmp.shape}')\n",
        "    print(f'  transform_features: {power.get_params(deep=True)}')\n",
        "    print(f'  power.lambdas_: {power.lambdas_}')\n",
        "  return data, power"
      ],
      "execution_count": 20,
      "outputs": []
    },
    {
      "cell_type": "code",
      "metadata": {
        "id": "934XvmclVFiQ"
      },
      "source": [
        "# RUN: LabelEncoder + OneHotEncoder for categorical columns\n",
        "# return np.array oflabel encoded data and encoders\n",
        "def label_encode(df_in, systemId_selected, cols_to_encode, print_flag=False):\n",
        "  from sklearn.preprocessing import LabelEncoder\n",
        "  from sklearn.preprocessing import OneHotEncoder\n",
        "  if systemId_selected[0] == 'All':\n",
        "    df = df_in\n",
        "  else:  \n",
        "    df = df_in[df_in['systemId']==systemId_selected[0]]\n",
        "  print(f'inside label_encode: systemId={systemId_selected}, df shape={df.shape}')\n",
        "  first_col = True\n",
        "  label_encoders = []\n",
        "  my_onehot_encoders = []\n",
        "  for col in cols_to_encode:\n",
        "    label_encoder = LabelEncoder()\n",
        "    X = df[col].values\n",
        "    X = label_encoder.fit_transform(X)\n",
        "    label_encoders.append({col:label_encoder})\n",
        "    X = X.reshape(X.shape[0], 1)\n",
        "    onehot_encoder = OneHotEncoder(sparse=False, categories='auto')\n",
        "    X = onehot_encoder.fit_transform(X)\n",
        "    if print_flag:\n",
        "      print(f'******Inside label_encode: just after my_OneHotEncoder: col={col}, X.shape={X.shape}')\n",
        "      print(f'******Inside label_encode: just after my_OneHotEncoder: col={col}, onehot_encoder={onehot_encoder}')\n",
        "    if first_col:\n",
        "      data = X\n",
        "      #print(f'first_col={first_col}, col={col}, X.shape={X.shape}, data.shape={data.shape}')\n",
        "      first_col = False\n",
        "    else:        \n",
        "      data = np.concatenate((data, X), axis=1)\n",
        "      #print(f'first_col={first_col}, col={col}, X.shape={X.shape}, data.shape={data.shape}')\n",
        "  return data, label_encoders, my_onehot_encoders"
      ],
      "execution_count": 21,
      "outputs": []
    },
    {
      "cell_type": "code",
      "metadata": {
        "id": "8iiqul6j395l"
      },
      "source": [
        "def minmax_scaler_time(df, systemId_selected, cols):\n",
        "  from sklearn.preprocessing import MinMaxScaler\n",
        "  if systemId_selected[0] == 'All':\n",
        "    df_tmp = df[cols].values\n",
        "  else:  \n",
        "    df_tmp = df[df['systemId']==systemId_selected[0]][cols].values\n",
        "  minmax_scaler = MinMaxScaler()\n",
        "  df_tmp = minmax_scaler.fit_transform(df_tmp)\n",
        "  return df_tmp"
      ],
      "execution_count": 22,
      "outputs": []
    },
    {
      "cell_type": "code",
      "metadata": {
        "id": "P8UcedkVMFac"
      },
      "source": [
        "print(df.columns.shape, '\\n', df.columns)\n"
      ],
      "execution_count": null,
      "outputs": []
    },
    {
      "cell_type": "code",
      "metadata": {
        "id": "4htquO_NTH9p",
        "colab": {
          "base_uri": "https://localhost:8080/"
        },
        "outputId": "b5417e3e-ae4e-4dd1-e01d-71adb5ee3ef9"
      },
      "source": [
        "# Step 1: transform AND standarization FOR numerical_transform_cols\n",
        "# Step 1.1: transform target Y\n",
        "# MUST first use numerical_transform_cols THEN use cols_to_encode\n",
        "# MUST NOT transform timestamp_seconds !!! \n",
        "from sklearn.preprocessing import PowerTransformer\n",
        "\n",
        "data_cols = []\n",
        "data = get_target_for_transform(df, SYSTEM_ID_SELECTED, target_col)\n",
        "target_transformer = PowerTransformer(method='box-cox', standardize=True)\n",
        "data = target_transformer.fit_transform(data)\n",
        "data_cols = data_cols + target_col\n",
        "\n",
        "print(f'After Y PowerTransformer, data shape={data.shape}, target_col len = {len(target_col)}, data_cols={len(data_cols)}')\n",
        "print(f'  target_transformer.get_params = : {target_transformer.get_params(deep=True)}')\n",
        "print(f'  target_transformer.lambdas_= {target_transformer.lambdas_}')"
      ],
      "execution_count": 58,
      "outputs": [
        {
          "output_type": "stream",
          "text": [
            "After Y PowerTransformer, data shape=(7926, 1), target_col len = 1, data_cols=1\n",
            "  target_transformer.get_params = : {'copy': True, 'method': 'box-cox', 'standardize': True}\n",
            "  target_transformer.lambdas_= [0.07711959]\n"
          ],
          "name": "stdout"
        }
      ]
    },
    {
      "cell_type": "code",
      "metadata": {
        "id": "bOqsCYGUuBnV",
        "colab": {
          "base_uri": "https://localhost:8080/"
        },
        "outputId": "ab51eb5b-a2f3-43e0-beff-3edf418c4ff3"
      },
      "source": [
        "# Step 1.2: transform AND standarization FOR numerical_transform_cols\n",
        "# MUST first use numerical_transform_cols THEN use cols_to_encode\n",
        "# MUST NOT transform timestamp_seconds !!! \n",
        "\n",
        "print(f'Before X numericals transformation:')\n",
        "print(f'  data shape = {data.shape}')\n",
        "print(f'  len of numerical_transform_cols = {len(numerical_transform_cols)}')\n",
        "data_new, numerical_X_transformer = transform_features(df, SYSTEM_ID_SELECTED, numerical_transform_cols)\n",
        "data_cols = data_cols + numerical_transform_cols\n",
        "data = np.concatenate((data, data_new), axis=1)\n",
        "print(f'After X numericals transformation:')\n",
        "print(f'  data shape={data.shape}')\n",
        "print(f'  data_cols len={len(data_cols)},\\n  data_cols={data_cols}')\n"
      ],
      "execution_count": 59,
      "outputs": [
        {
          "output_type": "stream",
          "text": [
            "Before X numericals transformation:\n",
            "  data shape = (7926, 1)\n",
            "  len of numerical_transform_cols = 8\n",
            "After X numericals transformation:\n",
            "  data shape=(7926, 9)\n",
            "  data_cols len=9,\n",
            "  data_cols=['cpu_utilization', 'read_cache_miss', 'write_cache_miss', 'read_iops', 'write_iops', 'read_throughput', 'write_throughput', 'read_iosz', 'write_iosz']\n"
          ],
          "name": "stdout"
        }
      ]
    },
    {
      "cell_type": "code",
      "metadata": {
        "id": "32eIR6U3t7A2",
        "colab": {
          "base_uri": "https://localhost:8080/"
        },
        "outputId": "b51c58e0-3874-4f70-9701-c5c7893ace2b"
      },
      "source": [
        "# process timestamp_seconds\n",
        "if USE_TIME_STAMP:\n",
        "  print(f'Before add new column {time_col}:\\n  data shape={data.shape},\\n  len time_col={len(time_col)}')\n",
        "  data_new = minmax_scaler_time(df, SYSTEM_ID_SELECTED, time_col)\n",
        "  data_cols = data_cols + time_col\n",
        "  data = np.concatenate((data, data_new), axis=1)\n",
        "  print(f'After add {time_col}:\\n  data shape={data.shape},\\n  len data_cols={len(data_cols)}')"
      ],
      "execution_count": 60,
      "outputs": [
        {
          "output_type": "stream",
          "text": [
            "Before add new column ['timestamp_seconds']:\n",
            "  data shape=(7926, 9),\n",
            "  len time_col=1\n",
            "After add ['timestamp_seconds']:\n",
            "  data shape=(7926, 10),\n",
            "  len data_cols=10\n"
          ],
          "name": "stdout"
        }
      ]
    },
    {
      "cell_type": "code",
      "metadata": {
        "id": "4Lr_2nEAkkP5"
      },
      "source": [
        "print(f'After add {time_col}:\\n  data shape={data.shape},\\n  len data_cols={len(data_cols)}')\n",
        "plt.subplot(2,1,1)\n",
        "plt.plot(data[:, TIMESTAMP_INDEX_DATA])\n",
        "plt.subplot(2,1,2)\n",
        "plt.plot(data[:, TIMESTAMP_INDEX_DATA], data[:, 0])\n"
      ],
      "execution_count": null,
      "outputs": []
    },
    {
      "cell_type": "code",
      "metadata": {
        "id": "BtEszSKm0dMU",
        "colab": {
          "base_uri": "https://localhost:8080/"
        },
        "outputId": "c940fbc1-17be-40c4-a33a-1683a2cea00d"
      },
      "source": [
        "# RUN: MinMax timestamp_seconds, not StandardScaler\n",
        "# timestamp_seconds will be mapped to data[:,9] AND X[:,8]\n",
        "if USE_TIME_TRANSFORMED:\n",
        "  data_cols = data_cols + time_transformed_cols\n",
        "  data_new = minmax_scaler_time(df, SYSTEM_ID_SELECTED, time_transformed_cols)\n",
        "  print(f'Before add {len(time_transformed_cols)} columns {time_transformed_cols}:\\n  data shape={data.shape},\\n  data_new shape={data_new.shape}')\n",
        "  data = np.concatenate((data, data_new), axis=1)\n",
        "  print(f'After add time_transformed_cols:\\n  data shape={data.shape},\\n  data_cols ={data_cols}')\n"
      ],
      "execution_count": 62,
      "outputs": [
        {
          "output_type": "stream",
          "text": [
            "Before add 6 time_transformed_cols:\n",
            "  data shape=(7926, 10),\n",
            "  data_new shape=(7926, 6)\n",
            "After add time_transformed_cols:\n",
            "  data shape=(7926, 16),\n",
            "  data_cols =['cpu_utilization', 'read_cache_miss', 'write_cache_miss', 'read_iops', 'write_iops', 'read_throughput', 'write_throughput', 'read_iosz', 'write_iosz', 'timestamp_seconds', 'Week_Sin', 'Week_Cos', 'Day_Sin', 'Day_Cos', 'Hour_Sin', 'Hour_Cos']\n"
          ],
          "name": "stdout"
        }
      ]
    },
    {
      "cell_type": "code",
      "metadata": {
        "id": "e-A2sXeP6JXj",
        "colab": {
          "base_uri": "https://localhost:8080/"
        },
        "outputId": "f0b368e1-a5d1-45e6-e0f5-5d0338e5e350"
      },
      "source": [
        "  print(f'data_cols len={len(data_cols)}, \\n data_cols={data_cols}')\n"
      ],
      "execution_count": 63,
      "outputs": [
        {
          "output_type": "stream",
          "text": [
            "data_cols len=16, \n",
            " data_cols=['cpu_utilization', 'read_cache_miss', 'write_cache_miss', 'read_iops', 'write_iops', 'read_throughput', 'write_throughput', 'read_iosz', 'write_iosz', 'timestamp_seconds', 'Week_Sin', 'Week_Cos', 'Day_Sin', 'Day_Cos', 'Hour_Sin', 'Hour_Cos']\n"
          ],
          "name": "stdout"
        }
      ]
    },
    {
      "cell_type": "code",
      "metadata": {
        "id": "BkcnctcgQbMn",
        "colab": {
          "base_uri": "https://localhost:8080/"
        },
        "outputId": "0ba0f5c4-de00-4d31-97c0-6e342ae1156b"
      },
      "source": [
        "# Step 2: label encoder categorical columns (model_type only) (sysemId)\n",
        "# concatenate new data\n",
        "# WARNING: only run once to avoid add the same columns more than 1 times\n",
        "\n",
        "data_new, label_encoders, my_onehot_encoders = label_encode(df, SYSTEM_ID_SELECTED, cols_to_encode)\n",
        "print(f'Before add {len(cols_to_encode)} columns {cols_to_encode}:\\n  data shape={data.shape},\\n  data_new shape={data_new.shape}')\n",
        "data = np.concatenate((data, data_new), axis=1)\n",
        "data_cols = data_cols + cols_to_encode\n",
        "\n",
        "print(f'After concatenate:\\n  data shape={data.shape}')\n",
        "print(f'  data_cols len={len(data_cols)},\\n  data_cols={data_cols}')"
      ],
      "execution_count": 64,
      "outputs": [
        {
          "output_type": "stream",
          "text": [
            "Before add 2 columns ['systemId', 'model_type']:\n",
            "  data shape=(7926, 16),\n",
            "  data_new shape=(7926, 6)\n",
            "inside label_encode: systemId=['sys1'], df shape=(7926, 18)\n",
            "After concatenate:\n",
            "  data shape=(7926, 18)\n",
            "  data_cols len=18,\n",
            "  data_cols=['cpu_utilization', 'read_cache_miss', 'write_cache_miss', 'read_iops', 'write_iops', 'read_throughput', 'write_throughput', 'read_iosz', 'write_iosz', 'timestamp_seconds', 'Week_Sin', 'Week_Cos', 'Day_Sin', 'Day_Cos', 'Hour_Sin', 'Hour_Cos', 'systemId', 'model_type']\n"
          ],
          "name": "stdout"
        }
      ]
    },
    {
      "cell_type": "code",
      "metadata": {
        "id": "sGb2Pevnr3mP"
      },
      "source": [
        ""
      ],
      "execution_count": null,
      "outputs": []
    },
    {
      "cell_type": "code",
      "metadata": {
        "colab": {
          "base_uri": "https://localhost:8080/"
        },
        "id": "7ooYmKqMqbKz",
        "outputId": "4b48652d-9c58-4025-9447-59523beeacb3"
      },
      "source": [
        "df.shape"
      ],
      "execution_count": 65,
      "outputs": [
        {
          "output_type": "execute_result",
          "data": {
            "text/plain": [
              "(175505, 18)"
            ]
          },
          "metadata": {
            "tags": []
          },
          "execution_count": 65
        }
      ]
    },
    {
      "cell_type": "code",
      "metadata": {
        "id": "i-tXQCqCxF4b",
        "colab": {
          "base_uri": "https://localhost:8080/",
          "height": 208
        },
        "outputId": "3115f427-a8cf-4935-ee9c-d699f5fec079"
      },
      "source": [
        "# check time transformations are all right\n",
        "plt.rcParams['figure.figsize'] = (38, 6)\n",
        "plt.figure()\n",
        "index_to_plots = [1,3,5,7,8]\n",
        "L = len(index_to_plots)\n",
        "for k in range(L):\n",
        "  plt.subplot(L,1,k+1)\n",
        "  plt.plot(data[:, TIMESTAMP_INDEX_DATA], data[:, TIMESTAMP_INDEX_DATA + index_to_plots[k]],)\n"
      ],
      "execution_count": 69,
      "outputs": [
        {
          "output_type": "display_data",
          "data": {
            "image/png": "[encoded data removed]",
            "text/plain": [
              "<Figure size 2736x432 with 5 Axes>"
            ]
          },
          "metadata": {
            "tags": [],
            "needs_background": "light"
          }
        }
      ]
    },
    {
      "cell_type": "code",
      "metadata": {
        "id": "JUJpb4HLwPnm",
        "colab": {
          "base_uri": "https://localhost:8080/"
        },
        "outputId": "f01d5b16-8a1e-4dfb-ec24-a48e6f8f372e"
      },
      "source": [
        "print(f'data_cols len={len(data_cols)},\\n  data_cols={data_cols}')"
      ],
      "execution_count": 70,
      "outputs": [
        {
          "output_type": "stream",
          "text": [
            "data_cols len=18,\n",
            "  data_cols=['cpu_utilization', 'read_cache_miss', 'write_cache_miss', 'read_iops', 'write_iops', 'read_throughput', 'write_throughput', 'read_iosz', 'write_iosz', 'timestamp_seconds', 'Week_Sin', 'Week_Cos', 'Day_Sin', 'Day_Cos', 'Hour_Sin', 'Hour_Cos', 'systemId', 'model_type']\n"
          ],
          "name": "stdout"
        }
      ]
    },
    {
      "cell_type": "code",
      "metadata": {
        "id": "IeNDWMD6jyqv"
      },
      "source": [
        "# Compare hist before/after transformation/scaling \n",
        "# Before transformation: hist\n",
        "title_str = 'Before transformation!'\n",
        "plot_df_hist(df, SYSTEM_ID_SELECTED, title_str, df.columns, 30)\n",
        "#NOTE: Hour_Sin AND Hour_Cos have only 7 distinct bins at [0, 30, 60, 90, -30, -60, -90] degress as \n",
        "# as sampling perid=5 minutes, thus 2pi*5min/60min=pi/6=30degree\n",
        "\n",
        "# After transformation: hist\n",
        "title_str = 'After transformation!'\n",
        "data_df = pd.DataFrame(data, columns=data_cols)\n",
        "plot_df_hist(data_df, ['All'], title_str, data_df.columns, 30)\n",
        "del data_df"
      ],
      "execution_count": null,
      "outputs": []
    },
    {
      "cell_type": "code",
      "metadata": {
        "id": "7rgBQtTjz5HD"
      },
      "source": [
        ""
      ],
      "execution_count": null,
      "outputs": []
    },
    {
      "cell_type": "markdown",
      "metadata": {
        "id": "ayriUf62sfFV"
      },
      "source": [
        "Feature selection:\n",
        "1. correlation based\n",
        "2. L1 norm\n",
        "3. p-value"
      ]
    },
    {
      "cell_type": "code",
      "metadata": {
        "id": "71mXegL8seAG"
      },
      "source": [
        "# RUN: feature selection based on correlation  \n",
        "# NOTE: this is done separately for each of systemId, not for all systemIds altogether\n",
        "#label encoder for model\n",
        "def select_feature_by_correlation(data, data_cols, corr_threshold):\n",
        "  df = pd.DataFrame(data, columns=data_cols)\n",
        "  corr = df.corr()\n",
        "  columns = np.full((corr.shape[0],), True, dtype=bool)\n",
        "  for i in range(corr.shape[0]):\n",
        "      for j in range(i+1, corr.shape[0]):\n",
        "          if corr.iloc[i,j] >= corr_threshold:\n",
        "              if columns[j]:\n",
        "                  columns[j] = False\n",
        "  selected_columns = df.columns[columns]\n",
        "  removed_columns = [x for x in df.columns if x in selected_columns]\n",
        "  removed_columns = [x for x in df.columns if x not in selected_columns]\n",
        "\n",
        "  print(f'*** type corr_threshold={type(corr)}')\n",
        "  print(f'df shape={df.shape}; corr shape={corr.shape};')\n",
        "  print(f'selected_columns={selected_columns}')\n",
        "  print(f'removed_columns={removed_columns}')\n",
        "  return selected_columns, corr"
      ],
      "execution_count": 112,
      "outputs": []
    },
    {
      "cell_type": "code",
      "metadata": {
        "colab": {
          "base_uri": "https://localhost:8080/"
        },
        "id": "fAjXFW92seEO",
        "outputId": "50452e10-e0db-4597-b029-a19b2761267c"
      },
      "source": [
        "# RUN: feature selection based on correlation  \n",
        "corr_threshold=0.8;\n",
        "pd.set_option('display.max_columns', None)\n",
        "selected_columns, corr = select_feature_by_correlation(data, data_cols, corr_threshold)  "
      ],
      "execution_count": 113,
      "outputs": [
        {
          "output_type": "stream",
          "text": [
            "*** type corr_threshold=<class 'pandas.core.frame.DataFrame'>\n",
            "df shape=(7926, 18); corr shape=(18, 18);\n",
            "selected_columns=Index(['cpu_utilization', 'read_cache_miss', 'write_cache_miss', 'read_iops',\n",
            "       'write_iops', 'read_iosz', 'write_iosz', 'timestamp_seconds',\n",
            "       'Week_Sin', 'Week_Cos', 'Day_Sin', 'Day_Cos', 'Hour_Sin', 'Hour_Cos',\n",
            "       'systemId', 'model_type'],\n",
            "      dtype='object')\n",
            "removed_columns=['read_throughput', 'write_throughput']\n"
          ],
          "name": "stdout"
        }
      ]
    },
    {
      "cell_type": "code",
      "metadata": {
        "colab": {
          "base_uri": "https://localhost:8080/"
        },
        "id": "cEZD9hbKseL7",
        "outputId": "d0b5da2b-c76b-4bc0-fd53-d999da76dfd1"
      },
      "source": [
        "print(f'corr={type(corr)}, corr.shape={corr.shape}\\n')\n"
      ],
      "execution_count": 120,
      "outputs": [
        {
          "output_type": "stream",
          "text": [
            "corr=<class 'pandas.core.frame.DataFrame'>, corr.shape=(18, 18)\n",
            "\n"
          ],
          "name": "stdout"
        }
      ]
    },
    {
      "cell_type": "code",
      "metadata": {
        "colab": {
          "base_uri": "https://localhost:8080/",
          "height": 217
        },
        "id": "r1p268uL0447",
        "outputId": "9ee8599e-d12a-42a7-fe18-202a083b19b1"
      },
      "source": [
        "corr.head(2)"
      ],
      "execution_count": 115,
      "outputs": [
        {
          "output_type": "execute_result",
          "data": {
            "text/html": [
              "<div>\n",
              "<style scoped>\n",
              "    .dataframe tbody tr th:only-of-type {\n",
              "        vertical-align: middle;\n",
              "    }\n",
              "\n",
              "    .dataframe tbody tr th {\n",
              "        vertical-align: top;\n",
              "    }\n",
              "\n",
              "    .dataframe thead th {\n",
              "        text-align: right;\n",
              "    }\n",
              "</style>\n",
              "<table border=\"1\" class=\"dataframe\">\n",
              "  <thead>\n",
              "    <tr style=\"text-align: right;\">\n",
              "      <th></th>\n",
              "      <th>cpu_utilization</th>\n",
              "      <th>read_cache_miss</th>\n",
              "      <th>write_cache_miss</th>\n",
              "      <th>read_iops</th>\n",
              "      <th>write_iops</th>\n",
              "      <th>read_throughput</th>\n",
              "      <th>write_throughput</th>\n",
              "      <th>read_iosz</th>\n",
              "      <th>write_iosz</th>\n",
              "      <th>timestamp_seconds</th>\n",
              "      <th>Week_Sin</th>\n",
              "      <th>Week_Cos</th>\n",
              "      <th>Day_Sin</th>\n",
              "      <th>Day_Cos</th>\n",
              "      <th>Hour_Sin</th>\n",
              "      <th>Hour_Cos</th>\n",
              "      <th>systemId</th>\n",
              "      <th>model_type</th>\n",
              "    </tr>\n",
              "  </thead>\n",
              "  <tbody>\n",
              "    <tr>\n",
              "      <th>cpu_utilization</th>\n",
              "      <td>1.000000</td>\n",
              "      <td>0.636348</td>\n",
              "      <td>0.451695</td>\n",
              "      <td>0.388049</td>\n",
              "      <td>0.752087</td>\n",
              "      <td>0.522006</td>\n",
              "      <td>0.817047</td>\n",
              "      <td>0.179495</td>\n",
              "      <td>0.291353</td>\n",
              "      <td>-0.196569</td>\n",
              "      <td>0.141783</td>\n",
              "      <td>-0.158514</td>\n",
              "      <td>0.008389</td>\n",
              "      <td>0.181613</td>\n",
              "      <td>0.129975</td>\n",
              "      <td>0.020847</td>\n",
              "      <td>NaN</td>\n",
              "      <td>NaN</td>\n",
              "    </tr>\n",
              "    <tr>\n",
              "      <th>read_cache_miss</th>\n",
              "      <td>0.636348</td>\n",
              "      <td>1.000000</td>\n",
              "      <td>0.253870</td>\n",
              "      <td>0.434719</td>\n",
              "      <td>0.206712</td>\n",
              "      <td>0.862791</td>\n",
              "      <td>0.399167</td>\n",
              "      <td>0.482730</td>\n",
              "      <td>0.320716</td>\n",
              "      <td>-0.202882</td>\n",
              "      <td>0.001960</td>\n",
              "      <td>-0.018029</td>\n",
              "      <td>-0.001469</td>\n",
              "      <td>0.116875</td>\n",
              "      <td>0.100366</td>\n",
              "      <td>0.020240</td>\n",
              "      <td>NaN</td>\n",
              "      <td>NaN</td>\n",
              "    </tr>\n",
              "    <tr>\n",
              "      <th>write_cache_miss</th>\n",
              "      <td>0.451695</td>\n",
              "      <td>0.253870</td>\n",
              "      <td>1.000000</td>\n",
              "      <td>0.267662</td>\n",
              "      <td>0.093395</td>\n",
              "      <td>0.107571</td>\n",
              "      <td>0.656955</td>\n",
              "      <td>-0.133179</td>\n",
              "      <td>0.709189</td>\n",
              "      <td>-0.222075</td>\n",
              "      <td>0.075771</td>\n",
              "      <td>-0.082607</td>\n",
              "      <td>0.561278</td>\n",
              "      <td>0.041016</td>\n",
              "      <td>0.006958</td>\n",
              "      <td>-0.029153</td>\n",
              "      <td>NaN</td>\n",
              "      <td>NaN</td>\n",
              "    </tr>\n",
              "    <tr>\n",
              "      <th>read_iops</th>\n",
              "      <td>0.388049</td>\n",
              "      <td>0.434719</td>\n",
              "      <td>0.267662</td>\n",
              "      <td>1.000000</td>\n",
              "      <td>-0.003380</td>\n",
              "      <td>0.482019</td>\n",
              "      <td>0.189295</td>\n",
              "      <td>-0.405299</td>\n",
              "      <td>0.247496</td>\n",
              "      <td>0.034116</td>\n",
              "      <td>-0.084888</td>\n",
              "      <td>0.017587</td>\n",
              "      <td>0.348187</td>\n",
              "      <td>-0.337790</td>\n",
              "      <td>0.162567</td>\n",
              "      <td>0.080019</td>\n",
              "      <td>NaN</td>\n",
              "      <td>NaN</td>\n",
              "    </tr>\n",
              "    <tr>\n",
              "      <th>write_iops</th>\n",
              "      <td>0.752087</td>\n",
              "      <td>0.206712</td>\n",
              "      <td>0.093395</td>\n",
              "      <td>-0.003380</td>\n",
              "      <td>1.000000</td>\n",
              "      <td>0.072865</td>\n",
              "      <td>0.590566</td>\n",
              "      <td>0.062843</td>\n",
              "      <td>-0.207606</td>\n",
              "      <td>-0.105401</td>\n",
              "      <td>0.202497</td>\n",
              "      <td>-0.210589</td>\n",
              "      <td>-0.252057</td>\n",
              "      <td>0.292933</td>\n",
              "      <td>0.073676</td>\n",
              "      <td>0.019812</td>\n",
              "      <td>NaN</td>\n",
              "      <td>NaN</td>\n",
              "    </tr>\n",
              "  </tbody>\n",
              "</table>\n",
              "</div>"
            ],
            "text/plain": [
              "                  cpu_utilization  read_cache_miss  write_cache_miss  \\\n",
              "cpu_utilization          1.000000         0.636348          0.451695   \n",
              "read_cache_miss          0.636348         1.000000          0.253870   \n",
              "write_cache_miss         0.451695         0.253870          1.000000   \n",
              "read_iops                0.388049         0.434719          0.267662   \n",
              "write_iops               0.752087         0.206712          0.093395   \n",
              "\n",
              "                  read_iops  write_iops  read_throughput  write_throughput  \\\n",
              "cpu_utilization    0.388049    0.752087         0.522006          0.817047   \n",
              "read_cache_miss    0.434719    0.206712         0.862791          0.399167   \n",
              "write_cache_miss   0.267662    0.093395         0.107571          0.656955   \n",
              "read_iops          1.000000   -0.003380         0.482019          0.189295   \n",
              "write_iops        -0.003380    1.000000         0.072865          0.590566   \n",
              "\n",
              "                  read_iosz  write_iosz  timestamp_seconds  Week_Sin  \\\n",
              "cpu_utilization    0.179495    0.291353          -0.196569  0.141783   \n",
              "read_cache_miss    0.482730    0.320716          -0.202882  0.001960   \n",
              "write_cache_miss  -0.133179    0.709189          -0.222075  0.075771   \n",
              "read_iops         -0.405299    0.247496           0.034116 -0.084888   \n",
              "write_iops         0.062843   -0.207606          -0.105401  0.202497   \n",
              "\n",
              "                  Week_Cos   Day_Sin   Day_Cos  Hour_Sin  Hour_Cos  systemId  \\\n",
              "cpu_utilization  -0.158514  0.008389  0.181613  0.129975  0.020847       NaN   \n",
              "read_cache_miss  -0.018029 -0.001469  0.116875  0.100366  0.020240       NaN   \n",
              "write_cache_miss -0.082607  0.561278  0.041016  0.006958 -0.029153       NaN   \n",
              "read_iops         0.017587  0.348187 -0.337790  0.162567  0.080019       NaN   \n",
              "write_iops       -0.210589 -0.252057  0.292933  0.073676  0.019812       NaN   \n",
              "\n",
              "                  model_type  \n",
              "cpu_utilization          NaN  \n",
              "read_cache_miss          NaN  \n",
              "write_cache_miss         NaN  \n",
              "read_iops                NaN  \n",
              "write_iops               NaN  "
            ]
          },
          "metadata": {
            "tags": []
          },
          "execution_count": 115
        }
      ]
    },
    {
      "cell_type": "code",
      "metadata": {
        "colab": {
          "base_uri": "https://localhost:8080/",
          "height": 607
        },
        "id": "qtz3mb422O8l",
        "outputId": "272e9922-4834-461e-9efa-be4c16281c93"
      },
      "source": [
        "corr[corr>0.8]"
      ],
      "execution_count": 123,
      "outputs": [
        {
          "output_type": "execute_result",
          "data": {
            "text/html": [
              "<div>\n",
              "<style scoped>\n",
              "    .dataframe tbody tr th:only-of-type {\n",
              "        vertical-align: middle;\n",
              "    }\n",
              "\n",
              "    .dataframe tbody tr th {\n",
              "        vertical-align: top;\n",
              "    }\n",
              "\n",
              "    .dataframe thead th {\n",
              "        text-align: right;\n",
              "    }\n",
              "</style>\n",
              "<table border=\"1\" class=\"dataframe\">\n",
              "  <thead>\n",
              "    <tr style=\"text-align: right;\">\n",
              "      <th></th>\n",
              "      <th>cpu_utilization</th>\n",
              "      <th>read_cache_miss</th>\n",
              "      <th>write_cache_miss</th>\n",
              "      <th>read_iops</th>\n",
              "      <th>write_iops</th>\n",
              "      <th>read_throughput</th>\n",
              "      <th>write_throughput</th>\n",
              "      <th>read_iosz</th>\n",
              "      <th>write_iosz</th>\n",
              "      <th>timestamp_seconds</th>\n",
              "      <th>Week_Sin</th>\n",
              "      <th>Week_Cos</th>\n",
              "      <th>Day_Sin</th>\n",
              "      <th>Day_Cos</th>\n",
              "      <th>Hour_Sin</th>\n",
              "      <th>Hour_Cos</th>\n",
              "      <th>systemId</th>\n",
              "      <th>model_type</th>\n",
              "    </tr>\n",
              "  </thead>\n",
              "  <tbody>\n",
              "    <tr>\n",
              "      <th>cpu_utilization</th>\n",
              "      <td>1.000000</td>\n",
              "      <td>NaN</td>\n",
              "      <td>NaN</td>\n",
              "      <td>NaN</td>\n",
              "      <td>NaN</td>\n",
              "      <td>NaN</td>\n",
              "      <td>0.817047</td>\n",
              "      <td>NaN</td>\n",
              "      <td>NaN</td>\n",
              "      <td>NaN</td>\n",
              "      <td>NaN</td>\n",
              "      <td>NaN</td>\n",
              "      <td>NaN</td>\n",
              "      <td>NaN</td>\n",
              "      <td>NaN</td>\n",
              "      <td>NaN</td>\n",
              "      <td>NaN</td>\n",
              "      <td>NaN</td>\n",
              "    </tr>\n",
              "    <tr>\n",
              "      <th>read_cache_miss</th>\n",
              "      <td>NaN</td>\n",
              "      <td>1.000000</td>\n",
              "      <td>NaN</td>\n",
              "      <td>NaN</td>\n",
              "      <td>NaN</td>\n",
              "      <td>0.862791</td>\n",
              "      <td>NaN</td>\n",
              "      <td>NaN</td>\n",
              "      <td>NaN</td>\n",
              "      <td>NaN</td>\n",
              "      <td>NaN</td>\n",
              "      <td>NaN</td>\n",
              "      <td>NaN</td>\n",
              "      <td>NaN</td>\n",
              "      <td>NaN</td>\n",
              "      <td>NaN</td>\n",
              "      <td>NaN</td>\n",
              "      <td>NaN</td>\n",
              "    </tr>\n",
              "    <tr>\n",
              "      <th>write_cache_miss</th>\n",
              "      <td>NaN</td>\n",
              "      <td>NaN</td>\n",
              "      <td>1.0</td>\n",
              "      <td>NaN</td>\n",
              "      <td>NaN</td>\n",
              "      <td>NaN</td>\n",
              "      <td>NaN</td>\n",
              "      <td>NaN</td>\n",
              "      <td>NaN</td>\n",
              "      <td>NaN</td>\n",
              "      <td>NaN</td>\n",
              "      <td>NaN</td>\n",
              "      <td>NaN</td>\n",
              "      <td>NaN</td>\n",
              "      <td>NaN</td>\n",
              "      <td>NaN</td>\n",
              "      <td>NaN</td>\n",
              "      <td>NaN</td>\n",
              "    </tr>\n",
              "    <tr>\n",
              "      <th>read_iops</th>\n",
              "      <td>NaN</td>\n",
              "      <td>NaN</td>\n",
              "      <td>NaN</td>\n",
              "      <td>1.0</td>\n",
              "      <td>NaN</td>\n",
              "      <td>NaN</td>\n",
              "      <td>NaN</td>\n",
              "      <td>NaN</td>\n",
              "      <td>NaN</td>\n",
              "      <td>NaN</td>\n",
              "      <td>NaN</td>\n",
              "      <td>NaN</td>\n",
              "      <td>NaN</td>\n",
              "      <td>NaN</td>\n",
              "      <td>NaN</td>\n",
              "      <td>NaN</td>\n",
              "      <td>NaN</td>\n",
              "      <td>NaN</td>\n",
              "    </tr>\n",
              "    <tr>\n",
              "      <th>write_iops</th>\n",
              "      <td>NaN</td>\n",
              "      <td>NaN</td>\n",
              "      <td>NaN</td>\n",
              "      <td>NaN</td>\n",
              "      <td>1.0</td>\n",
              "      <td>NaN</td>\n",
              "      <td>NaN</td>\n",
              "      <td>NaN</td>\n",
              "      <td>NaN</td>\n",
              "      <td>NaN</td>\n",
              "      <td>NaN</td>\n",
              "      <td>NaN</td>\n",
              "      <td>NaN</td>\n",
              "      <td>NaN</td>\n",
              "      <td>NaN</td>\n",
              "      <td>NaN</td>\n",
              "      <td>NaN</td>\n",
              "      <td>NaN</td>\n",
              "    </tr>\n",
              "    <tr>\n",
              "      <th>read_throughput</th>\n",
              "      <td>NaN</td>\n",
              "      <td>0.862791</td>\n",
              "      <td>NaN</td>\n",
              "      <td>NaN</td>\n",
              "      <td>NaN</td>\n",
              "      <td>1.000000</td>\n",
              "      <td>NaN</td>\n",
              "      <td>NaN</td>\n",
              "      <td>NaN</td>\n",
              "      <td>NaN</td>\n",
              "      <td>NaN</td>\n",
              "      <td>NaN</td>\n",
              "      <td>NaN</td>\n",
              "      <td>NaN</td>\n",
              "      <td>NaN</td>\n",
              "      <td>NaN</td>\n",
              "      <td>NaN</td>\n",
              "      <td>NaN</td>\n",
              "    </tr>\n",
              "    <tr>\n",
              "      <th>write_throughput</th>\n",
              "      <td>0.817047</td>\n",
              "      <td>NaN</td>\n",
              "      <td>NaN</td>\n",
              "      <td>NaN</td>\n",
              "      <td>NaN</td>\n",
              "      <td>NaN</td>\n",
              "      <td>1.000000</td>\n",
              "      <td>NaN</td>\n",
              "      <td>NaN</td>\n",
              "      <td>NaN</td>\n",
              "      <td>NaN</td>\n",
              "      <td>NaN</td>\n",
              "      <td>NaN</td>\n",
              "      <td>NaN</td>\n",
              "      <td>NaN</td>\n",
              "      <td>NaN</td>\n",
              "      <td>NaN</td>\n",
              "      <td>NaN</td>\n",
              "    </tr>\n",
              "    <tr>\n",
              "      <th>read_iosz</th>\n",
              "      <td>NaN</td>\n",
              "      <td>NaN</td>\n",
              "      <td>NaN</td>\n",
              "      <td>NaN</td>\n",
              "      <td>NaN</td>\n",
              "      <td>NaN</td>\n",
              "      <td>NaN</td>\n",
              "      <td>1.0</td>\n",
              "      <td>NaN</td>\n",
              "      <td>NaN</td>\n",
              "      <td>NaN</td>\n",
              "      <td>NaN</td>\n",
              "      <td>NaN</td>\n",
              "      <td>NaN</td>\n",
              "      <td>NaN</td>\n",
              "      <td>NaN</td>\n",
              "      <td>NaN</td>\n",
              "      <td>NaN</td>\n",
              "    </tr>\n",
              "    <tr>\n",
              "      <th>write_iosz</th>\n",
              "      <td>NaN</td>\n",
              "      <td>NaN</td>\n",
              "      <td>NaN</td>\n",
              "      <td>NaN</td>\n",
              "      <td>NaN</td>\n",
              "      <td>NaN</td>\n",
              "      <td>NaN</td>\n",
              "      <td>NaN</td>\n",
              "      <td>1.0</td>\n",
              "      <td>NaN</td>\n",
              "      <td>NaN</td>\n",
              "      <td>NaN</td>\n",
              "      <td>NaN</td>\n",
              "      <td>NaN</td>\n",
              "      <td>NaN</td>\n",
              "      <td>NaN</td>\n",
              "      <td>NaN</td>\n",
              "      <td>NaN</td>\n",
              "    </tr>\n",
              "    <tr>\n",
              "      <th>timestamp_seconds</th>\n",
              "      <td>NaN</td>\n",
              "      <td>NaN</td>\n",
              "      <td>NaN</td>\n",
              "      <td>NaN</td>\n",
              "      <td>NaN</td>\n",
              "      <td>NaN</td>\n",
              "      <td>NaN</td>\n",
              "      <td>NaN</td>\n",
              "      <td>NaN</td>\n",
              "      <td>1.0</td>\n",
              "      <td>NaN</td>\n",
              "      <td>NaN</td>\n",
              "      <td>NaN</td>\n",
              "      <td>NaN</td>\n",
              "      <td>NaN</td>\n",
              "      <td>NaN</td>\n",
              "      <td>NaN</td>\n",
              "      <td>NaN</td>\n",
              "    </tr>\n",
              "    <tr>\n",
              "      <th>Week_Sin</th>\n",
              "      <td>NaN</td>\n",
              "      <td>NaN</td>\n",
              "      <td>NaN</td>\n",
              "      <td>NaN</td>\n",
              "      <td>NaN</td>\n",
              "      <td>NaN</td>\n",
              "      <td>NaN</td>\n",
              "      <td>NaN</td>\n",
              "      <td>NaN</td>\n",
              "      <td>NaN</td>\n",
              "      <td>1.0</td>\n",
              "      <td>NaN</td>\n",
              "      <td>NaN</td>\n",
              "      <td>NaN</td>\n",
              "      <td>NaN</td>\n",
              "      <td>NaN</td>\n",
              "      <td>NaN</td>\n",
              "      <td>NaN</td>\n",
              "    </tr>\n",
              "    <tr>\n",
              "      <th>Week_Cos</th>\n",
              "      <td>NaN</td>\n",
              "      <td>NaN</td>\n",
              "      <td>NaN</td>\n",
              "      <td>NaN</td>\n",
              "      <td>NaN</td>\n",
              "      <td>NaN</td>\n",
              "      <td>NaN</td>\n",
              "      <td>NaN</td>\n",
              "      <td>NaN</td>\n",
              "      <td>NaN</td>\n",
              "      <td>NaN</td>\n",
              "      <td>1.0</td>\n",
              "      <td>NaN</td>\n",
              "      <td>NaN</td>\n",
              "      <td>NaN</td>\n",
              "      <td>NaN</td>\n",
              "      <td>NaN</td>\n",
              "      <td>NaN</td>\n",
              "    </tr>\n",
              "    <tr>\n",
              "      <th>Day_Sin</th>\n",
              "      <td>NaN</td>\n",
              "      <td>NaN</td>\n",
              "      <td>NaN</td>\n",
              "      <td>NaN</td>\n",
              "      <td>NaN</td>\n",
              "      <td>NaN</td>\n",
              "      <td>NaN</td>\n",
              "      <td>NaN</td>\n",
              "      <td>NaN</td>\n",
              "      <td>NaN</td>\n",
              "      <td>NaN</td>\n",
              "      <td>NaN</td>\n",
              "      <td>1.0</td>\n",
              "      <td>NaN</td>\n",
              "      <td>NaN</td>\n",
              "      <td>NaN</td>\n",
              "      <td>NaN</td>\n",
              "      <td>NaN</td>\n",
              "    </tr>\n",
              "    <tr>\n",
              "      <th>Day_Cos</th>\n",
              "      <td>NaN</td>\n",
              "      <td>NaN</td>\n",
              "      <td>NaN</td>\n",
              "      <td>NaN</td>\n",
              "      <td>NaN</td>\n",
              "      <td>NaN</td>\n",
              "      <td>NaN</td>\n",
              "      <td>NaN</td>\n",
              "      <td>NaN</td>\n",
              "      <td>NaN</td>\n",
              "      <td>NaN</td>\n",
              "      <td>NaN</td>\n",
              "      <td>NaN</td>\n",
              "      <td>1.0</td>\n",
              "      <td>NaN</td>\n",
              "      <td>NaN</td>\n",
              "      <td>NaN</td>\n",
              "      <td>NaN</td>\n",
              "    </tr>\n",
              "    <tr>\n",
              "      <th>Hour_Sin</th>\n",
              "      <td>NaN</td>\n",
              "      <td>NaN</td>\n",
              "      <td>NaN</td>\n",
              "      <td>NaN</td>\n",
              "      <td>NaN</td>\n",
              "      <td>NaN</td>\n",
              "      <td>NaN</td>\n",
              "      <td>NaN</td>\n",
              "      <td>NaN</td>\n",
              "      <td>NaN</td>\n",
              "      <td>NaN</td>\n",
              "      <td>NaN</td>\n",
              "      <td>NaN</td>\n",
              "      <td>NaN</td>\n",
              "      <td>1.0</td>\n",
              "      <td>NaN</td>\n",
              "      <td>NaN</td>\n",
              "      <td>NaN</td>\n",
              "    </tr>\n",
              "    <tr>\n",
              "      <th>Hour_Cos</th>\n",
              "      <td>NaN</td>\n",
              "      <td>NaN</td>\n",
              "      <td>NaN</td>\n",
              "      <td>NaN</td>\n",
              "      <td>NaN</td>\n",
              "      <td>NaN</td>\n",
              "      <td>NaN</td>\n",
              "      <td>NaN</td>\n",
              "      <td>NaN</td>\n",
              "      <td>NaN</td>\n",
              "      <td>NaN</td>\n",
              "      <td>NaN</td>\n",
              "      <td>NaN</td>\n",
              "      <td>NaN</td>\n",
              "      <td>NaN</td>\n",
              "      <td>1.0</td>\n",
              "      <td>NaN</td>\n",
              "      <td>NaN</td>\n",
              "    </tr>\n",
              "    <tr>\n",
              "      <th>systemId</th>\n",
              "      <td>NaN</td>\n",
              "      <td>NaN</td>\n",
              "      <td>NaN</td>\n",
              "      <td>NaN</td>\n",
              "      <td>NaN</td>\n",
              "      <td>NaN</td>\n",
              "      <td>NaN</td>\n",
              "      <td>NaN</td>\n",
              "      <td>NaN</td>\n",
              "      <td>NaN</td>\n",
              "      <td>NaN</td>\n",
              "      <td>NaN</td>\n",
              "      <td>NaN</td>\n",
              "      <td>NaN</td>\n",
              "      <td>NaN</td>\n",
              "      <td>NaN</td>\n",
              "      <td>NaN</td>\n",
              "      <td>NaN</td>\n",
              "    </tr>\n",
              "    <tr>\n",
              "      <th>model_type</th>\n",
              "      <td>NaN</td>\n",
              "      <td>NaN</td>\n",
              "      <td>NaN</td>\n",
              "      <td>NaN</td>\n",
              "      <td>NaN</td>\n",
              "      <td>NaN</td>\n",
              "      <td>NaN</td>\n",
              "      <td>NaN</td>\n",
              "      <td>NaN</td>\n",
              "      <td>NaN</td>\n",
              "      <td>NaN</td>\n",
              "      <td>NaN</td>\n",
              "      <td>NaN</td>\n",
              "      <td>NaN</td>\n",
              "      <td>NaN</td>\n",
              "      <td>NaN</td>\n",
              "      <td>NaN</td>\n",
              "      <td>NaN</td>\n",
              "    </tr>\n",
              "  </tbody>\n",
              "</table>\n",
              "</div>"
            ],
            "text/plain": [
              "                   cpu_utilization  read_cache_miss  write_cache_miss  \\\n",
              "cpu_utilization           1.000000              NaN               NaN   \n",
              "read_cache_miss                NaN         1.000000               NaN   \n",
              "write_cache_miss               NaN              NaN               1.0   \n",
              "read_iops                      NaN              NaN               NaN   \n",
              "write_iops                     NaN              NaN               NaN   \n",
              "read_throughput                NaN         0.862791               NaN   \n",
              "write_throughput          0.817047              NaN               NaN   \n",
              "read_iosz                      NaN              NaN               NaN   \n",
              "write_iosz                     NaN              NaN               NaN   \n",
              "timestamp_seconds              NaN              NaN               NaN   \n",
              "Week_Sin                       NaN              NaN               NaN   \n",
              "Week_Cos                       NaN              NaN               NaN   \n",
              "Day_Sin                        NaN              NaN               NaN   \n",
              "Day_Cos                        NaN              NaN               NaN   \n",
              "Hour_Sin                       NaN              NaN               NaN   \n",
              "Hour_Cos                       NaN              NaN               NaN   \n",
              "systemId                       NaN              NaN               NaN   \n",
              "model_type                     NaN              NaN               NaN   \n",
              "\n",
              "                   read_iops  write_iops  read_throughput  write_throughput  \\\n",
              "cpu_utilization          NaN         NaN              NaN          0.817047   \n",
              "read_cache_miss          NaN         NaN         0.862791               NaN   \n",
              "write_cache_miss         NaN         NaN              NaN               NaN   \n",
              "read_iops                1.0         NaN              NaN               NaN   \n",
              "write_iops               NaN         1.0              NaN               NaN   \n",
              "read_throughput          NaN         NaN         1.000000               NaN   \n",
              "write_throughput         NaN         NaN              NaN          1.000000   \n",
              "read_iosz                NaN         NaN              NaN               NaN   \n",
              "write_iosz               NaN         NaN              NaN               NaN   \n",
              "timestamp_seconds        NaN         NaN              NaN               NaN   \n",
              "Week_Sin                 NaN         NaN              NaN               NaN   \n",
              "Week_Cos                 NaN         NaN              NaN               NaN   \n",
              "Day_Sin                  NaN         NaN              NaN               NaN   \n",
              "Day_Cos                  NaN         NaN              NaN               NaN   \n",
              "Hour_Sin                 NaN         NaN              NaN               NaN   \n",
              "Hour_Cos                 NaN         NaN              NaN               NaN   \n",
              "systemId                 NaN         NaN              NaN               NaN   \n",
              "model_type               NaN         NaN              NaN               NaN   \n",
              "\n",
              "                   read_iosz  write_iosz  timestamp_seconds  Week_Sin  \\\n",
              "cpu_utilization          NaN         NaN                NaN       NaN   \n",
              "read_cache_miss          NaN         NaN                NaN       NaN   \n",
              "write_cache_miss         NaN         NaN                NaN       NaN   \n",
              "read_iops                NaN         NaN                NaN       NaN   \n",
              "write_iops               NaN         NaN                NaN       NaN   \n",
              "read_throughput          NaN         NaN                NaN       NaN   \n",
              "write_throughput         NaN         NaN                NaN       NaN   \n",
              "read_iosz                1.0         NaN                NaN       NaN   \n",
              "write_iosz               NaN         1.0                NaN       NaN   \n",
              "timestamp_seconds        NaN         NaN                1.0       NaN   \n",
              "Week_Sin                 NaN         NaN                NaN       1.0   \n",
              "Week_Cos                 NaN         NaN                NaN       NaN   \n",
              "Day_Sin                  NaN         NaN                NaN       NaN   \n",
              "Day_Cos                  NaN         NaN                NaN       NaN   \n",
              "Hour_Sin                 NaN         NaN                NaN       NaN   \n",
              "Hour_Cos                 NaN         NaN                NaN       NaN   \n",
              "systemId                 NaN         NaN                NaN       NaN   \n",
              "model_type               NaN         NaN                NaN       NaN   \n",
              "\n",
              "                   Week_Cos  Day_Sin  Day_Cos  Hour_Sin  Hour_Cos  systemId  \\\n",
              "cpu_utilization         NaN      NaN      NaN       NaN       NaN       NaN   \n",
              "read_cache_miss         NaN      NaN      NaN       NaN       NaN       NaN   \n",
              "write_cache_miss        NaN      NaN      NaN       NaN       NaN       NaN   \n",
              "read_iops               NaN      NaN      NaN       NaN       NaN       NaN   \n",
              "write_iops              NaN      NaN      NaN       NaN       NaN       NaN   \n",
              "read_throughput         NaN      NaN      NaN       NaN       NaN       NaN   \n",
              "write_throughput        NaN      NaN      NaN       NaN       NaN       NaN   \n",
              "read_iosz               NaN      NaN      NaN       NaN       NaN       NaN   \n",
              "write_iosz              NaN      NaN      NaN       NaN       NaN       NaN   \n",
              "timestamp_seconds       NaN      NaN      NaN       NaN       NaN       NaN   \n",
              "Week_Sin                NaN      NaN      NaN       NaN       NaN       NaN   \n",
              "Week_Cos                1.0      NaN      NaN       NaN       NaN       NaN   \n",
              "Day_Sin                 NaN      1.0      NaN       NaN       NaN       NaN   \n",
              "Day_Cos                 NaN      NaN      1.0       NaN       NaN       NaN   \n",
              "Hour_Sin                NaN      NaN      NaN       1.0       NaN       NaN   \n",
              "Hour_Cos                NaN      NaN      NaN       NaN       1.0       NaN   \n",
              "systemId                NaN      NaN      NaN       NaN       NaN       NaN   \n",
              "model_type              NaN      NaN      NaN       NaN       NaN       NaN   \n",
              "\n",
              "                   model_type  \n",
              "cpu_utilization           NaN  \n",
              "read_cache_miss           NaN  \n",
              "write_cache_miss          NaN  \n",
              "read_iops                 NaN  \n",
              "write_iops                NaN  \n",
              "read_throughput           NaN  \n",
              "write_throughput          NaN  \n",
              "read_iosz                 NaN  \n",
              "write_iosz                NaN  \n",
              "timestamp_seconds         NaN  \n",
              "Week_Sin                  NaN  \n",
              "Week_Cos                  NaN  \n",
              "Day_Sin                   NaN  \n",
              "Day_Cos                   NaN  \n",
              "Hour_Sin                  NaN  \n",
              "Hour_Cos                  NaN  \n",
              "systemId                  NaN  \n",
              "model_type                NaN  "
            ]
          },
          "metadata": {
            "tags": []
          },
          "execution_count": 123
        }
      ]
    },
    {
      "cell_type": "code",
      "metadata": {
        "colab": {
          "base_uri": "https://localhost:8080/",
          "height": 587
        },
        "id": "FpY0VQD41BrY",
        "outputId": "4b370882-6732-41d8-8508-5bd16222b97c"
      },
      "source": [
        "corr[['cpu_utilization', 'read_throughput', 'write_throughput']]"
      ],
      "execution_count": 118,
      "outputs": [
        {
          "output_type": "execute_result",
          "data": {
            "text/html": [
              "<div>\n",
              "<style scoped>\n",
              "    .dataframe tbody tr th:only-of-type {\n",
              "        vertical-align: middle;\n",
              "    }\n",
              "\n",
              "    .dataframe tbody tr th {\n",
              "        vertical-align: top;\n",
              "    }\n",
              "\n",
              "    .dataframe thead th {\n",
              "        text-align: right;\n",
              "    }\n",
              "</style>\n",
              "<table border=\"1\" class=\"dataframe\">\n",
              "  <thead>\n",
              "    <tr style=\"text-align: right;\">\n",
              "      <th></th>\n",
              "      <th>cpu_utilization</th>\n",
              "      <th>read_throughput</th>\n",
              "      <th>write_throughput</th>\n",
              "    </tr>\n",
              "  </thead>\n",
              "  <tbody>\n",
              "    <tr>\n",
              "      <th>cpu_utilization</th>\n",
              "      <td>1.000000</td>\n",
              "      <td>0.522006</td>\n",
              "      <td>0.817047</td>\n",
              "    </tr>\n",
              "    <tr>\n",
              "      <th>read_cache_miss</th>\n",
              "      <td>0.636348</td>\n",
              "      <td>0.862791</td>\n",
              "      <td>0.399167</td>\n",
              "    </tr>\n",
              "    <tr>\n",
              "      <th>write_cache_miss</th>\n",
              "      <td>0.451695</td>\n",
              "      <td>0.107571</td>\n",
              "      <td>0.656955</td>\n",
              "    </tr>\n",
              "    <tr>\n",
              "      <th>read_iops</th>\n",
              "      <td>0.388049</td>\n",
              "      <td>0.482019</td>\n",
              "      <td>0.189295</td>\n",
              "    </tr>\n",
              "    <tr>\n",
              "      <th>write_iops</th>\n",
              "      <td>0.752087</td>\n",
              "      <td>0.072865</td>\n",
              "      <td>0.590566</td>\n",
              "    </tr>\n",
              "    <tr>\n",
              "      <th>read_throughput</th>\n",
              "      <td>0.522006</td>\n",
              "      <td>1.000000</td>\n",
              "      <td>0.246023</td>\n",
              "    </tr>\n",
              "    <tr>\n",
              "      <th>write_throughput</th>\n",
              "      <td>0.817047</td>\n",
              "      <td>0.246023</td>\n",
              "      <td>1.000000</td>\n",
              "    </tr>\n",
              "    <tr>\n",
              "      <th>read_iosz</th>\n",
              "      <td>0.179495</td>\n",
              "      <td>0.594804</td>\n",
              "      <td>0.069185</td>\n",
              "    </tr>\n",
              "    <tr>\n",
              "      <th>write_iosz</th>\n",
              "      <td>0.291353</td>\n",
              "      <td>0.260125</td>\n",
              "      <td>0.644265</td>\n",
              "    </tr>\n",
              "    <tr>\n",
              "      <th>timestamp_seconds</th>\n",
              "      <td>-0.196569</td>\n",
              "      <td>-0.033685</td>\n",
              "      <td>-0.337874</td>\n",
              "    </tr>\n",
              "    <tr>\n",
              "      <th>Week_Sin</th>\n",
              "      <td>0.141783</td>\n",
              "      <td>-0.094522</td>\n",
              "      <td>0.170706</td>\n",
              "    </tr>\n",
              "    <tr>\n",
              "      <th>Week_Cos</th>\n",
              "      <td>-0.158514</td>\n",
              "      <td>-0.020824</td>\n",
              "      <td>-0.176065</td>\n",
              "    </tr>\n",
              "    <tr>\n",
              "      <th>Day_Sin</th>\n",
              "      <td>0.008389</td>\n",
              "      <td>-0.036255</td>\n",
              "      <td>0.110266</td>\n",
              "    </tr>\n",
              "    <tr>\n",
              "      <th>Day_Cos</th>\n",
              "      <td>0.181613</td>\n",
              "      <td>0.102384</td>\n",
              "      <td>0.090185</td>\n",
              "    </tr>\n",
              "    <tr>\n",
              "      <th>Hour_Sin</th>\n",
              "      <td>0.129975</td>\n",
              "      <td>0.105029</td>\n",
              "      <td>0.069972</td>\n",
              "    </tr>\n",
              "    <tr>\n",
              "      <th>Hour_Cos</th>\n",
              "      <td>0.020847</td>\n",
              "      <td>-0.008035</td>\n",
              "      <td>0.002169</td>\n",
              "    </tr>\n",
              "    <tr>\n",
              "      <th>systemId</th>\n",
              "      <td>NaN</td>\n",
              "      <td>NaN</td>\n",
              "      <td>NaN</td>\n",
              "    </tr>\n",
              "    <tr>\n",
              "      <th>model_type</th>\n",
              "      <td>NaN</td>\n",
              "      <td>NaN</td>\n",
              "      <td>NaN</td>\n",
              "    </tr>\n",
              "  </tbody>\n",
              "</table>\n",
              "</div>"
            ],
            "text/plain": [
              "                   cpu_utilization  read_throughput  write_throughput\n",
              "cpu_utilization           1.000000         0.522006          0.817047\n",
              "read_cache_miss           0.636348         0.862791          0.399167\n",
              "write_cache_miss          0.451695         0.107571          0.656955\n",
              "read_iops                 0.388049         0.482019          0.189295\n",
              "write_iops                0.752087         0.072865          0.590566\n",
              "read_throughput           0.522006         1.000000          0.246023\n",
              "write_throughput          0.817047         0.246023          1.000000\n",
              "read_iosz                 0.179495         0.594804          0.069185\n",
              "write_iosz                0.291353         0.260125          0.644265\n",
              "timestamp_seconds        -0.196569        -0.033685         -0.337874\n",
              "Week_Sin                  0.141783        -0.094522          0.170706\n",
              "Week_Cos                 -0.158514        -0.020824         -0.176065\n",
              "Day_Sin                   0.008389        -0.036255          0.110266\n",
              "Day_Cos                   0.181613         0.102384          0.090185\n",
              "Hour_Sin                  0.129975         0.105029          0.069972\n",
              "Hour_Cos                  0.020847        -0.008035          0.002169\n",
              "systemId                       NaN              NaN               NaN\n",
              "model_type                     NaN              NaN               NaN"
            ]
          },
          "metadata": {
            "tags": []
          },
          "execution_count": 118
        }
      ]
    },
    {
      "cell_type": "code",
      "metadata": {
        "id": "hA33dDYjgnCc",
        "colab": {
          "base_uri": "https://localhost:8080/",
          "height": 1000
        },
        "outputId": "9e6d5201-15e5-4979-fc3c-6c01d3ed63ec"
      },
      "source": [
        "NUM_SPLITS = 5\n",
        "NUM_EPOCHS = 2\n",
        "BATCH_SIZE = 10\n",
        "\n",
        "# Regression\n",
        "from keras.models import Sequential\n",
        "from keras.layers import Dense\n",
        "from keras.wrappers.scikit_learn import KerasRegressor\n",
        "from sklearn.model_selection import cross_val_score\n",
        "from sklearn.model_selection import KFold\n",
        "from sklearn.pipeline import Pipeline\n",
        "\n",
        "X = data[:, X_FIRST_INDEX_DATA:]\n",
        "Y = data[:, Y_INDEX_DATA]\n",
        "\n",
        "# define base model\n",
        "def baseline_model():\n",
        "\t# create model\n",
        "\tmodel = Sequential()\n",
        "\tmodel.add(Dense(18, input_dim=X.shape[1], kernel_initializer='normal', activation='relu'))\n",
        "\tmodel.add(Dense(8, kernel_initializer='normal', activation='relu'))\n",
        "\tmodel.add(Dense(8, kernel_initializer='normal', activation='relu'))\n",
        "\tmodel.add(Dense(1, kernel_initializer='normal'))\n",
        "\t# Compile model\n",
        "\tmodel.compile(loss='mean_squared_error', optimizer='adam')\n",
        "\treturn model\n",
        "  \n",
        "# Step: evaluate model with standardized dataset\n",
        "estimators = []\n",
        "estimators.append(('mlp', KerasRegressor(build_fn=baseline_model, epochs=NUM_EPOCHS, batch_size=BATCH_SIZE, verbose=1)))\n",
        "pipeline = Pipeline(estimators)\n",
        "\n",
        "kfold = KFold(n_splits = NUM_SPLITS) # shuffle=False\n",
        "#results = cross_val_score(pipeline, X, Y, cv=kfold)\n",
        "print(f'X shape={X.shape}, Y shape = {Y.shape}')\n",
        "results = cross_val_score(pipeline, X, Y, cv=kfold)\n",
        "print(\"Standardized: %.2f (%.2f) MSE\" % (results.mean(), results.std()))\n",
        "print(results)\n",
        "\n",
        "from sklearn.model_selection import cross_val_predict\n",
        "# TRY this also\n",
        "#from sklearn import linear_model\n",
        "\n",
        "# cross_val_predict returns an array of the same size as `y` where each entry\n",
        "# is a prediction obtained by cross validation:\n",
        "predicted = cross_val_predict(pipeline, X, Y, cv=kfold)\n",
        "fig, ax = plt.subplots()\n",
        "ax.scatter(Y, predicted)\n",
        "ax.plot([Y.min(), Y.max()], [Y.min(), Y.max()], 'k--', lw=4)\n",
        "ax.set_xlabel('Measured')\n",
        "ax.set_ylabel('Predicted')\n",
        "ax.grid()\n",
        "plt.show()\n"
      ],
      "execution_count": 71,
      "outputs": [
        {
          "output_type": "stream",
          "text": [
            "X shape=(7926, 17), Y shape = (7926,)\n",
            "Epoch 1/2\n",
            "634/634 [==============================] - 1s 1ms/step - loss: 0.4853\n",
            "Epoch 2/2\n",
            "634/634 [==============================] - 1s 1ms/step - loss: 0.0580\n",
            "159/159 [==============================] - 0s 902us/step - loss: 0.0544\n",
            "Epoch 1/2\n",
            "635/635 [==============================] - 1s 1ms/step - loss: 0.5551\n",
            "Epoch 2/2\n",
            "635/635 [==============================] - 1s 1ms/step - loss: 0.0524\n",
            "159/159 [==============================] - 0s 816us/step - loss: 0.0615\n",
            "Epoch 1/2\n",
            "635/635 [==============================] - 1s 1ms/step - loss: 0.5715\n",
            "Epoch 2/2\n",
            "635/635 [==============================] - 1s 1ms/step - loss: 0.0524\n",
            "159/159 [==============================] - 0s 826us/step - loss: 0.0584\n",
            "Epoch 1/2\n",
            "635/635 [==============================] - 1s 1ms/step - loss: 0.6026\n",
            "Epoch 2/2\n",
            "635/635 [==============================] - 1s 1ms/step - loss: 0.0582\n",
            "159/159 [==============================] - 0s 842us/step - loss: 0.0526\n",
            "Epoch 1/2\n",
            "635/635 [==============================] - 1s 1ms/step - loss: 0.4951\n",
            "Epoch 2/2\n",
            "635/635 [==============================] - 1s 1ms/step - loss: 0.0543\n",
            "159/159 [==============================] - 0s 887us/step - loss: 0.0679\n",
            "Standardized: -0.06 (0.01) MSE\n",
            "[-0.05440934 -0.06152866 -0.05837788 -0.05260021 -0.06785967]\n",
            "Epoch 1/2\n",
            "634/634 [==============================] - 1s 1ms/step - loss: 0.6704\n",
            "Epoch 2/2\n",
            "634/634 [==============================] - 1s 1ms/step - loss: 0.2403\n",
            "159/159 [==============================] - 0s 762us/step\n",
            "Epoch 1/2\n",
            "635/635 [==============================] - 1s 1ms/step - loss: 0.5400\n",
            "Epoch 2/2\n",
            "635/635 [==============================] - 1s 1ms/step - loss: 0.0524\n",
            "159/159 [==============================] - 0s 690us/step\n",
            "Epoch 1/2\n",
            "635/635 [==============================] - 1s 1ms/step - loss: 0.5449\n",
            "Epoch 2/2\n",
            "635/635 [==============================] - 1s 1ms/step - loss: 0.0601\n",
            "159/159 [==============================] - 0s 733us/step\n",
            "Epoch 1/2\n",
            "635/635 [==============================] - 1s 1ms/step - loss: 0.5524\n",
            "Epoch 2/2\n",
            "635/635 [==============================] - 1s 1ms/step - loss: 0.0573\n",
            "159/159 [==============================] - 0s 782us/step\n",
            "Epoch 1/2\n",
            "635/635 [==============================] - 1s 1ms/step - loss: 0.5260\n",
            "Epoch 2/2\n",
            "635/635 [==============================] - 1s 1ms/step - loss: 0.0495\n",
            "159/159 [==============================] - 0s 757us/step\n"
          ],
          "name": "stdout"
        },
        {
          "output_type": "display_data",
          "data": {
            "image/png": "[encoded data removed]",
            "text/plain": [
              "<Figure size 2736x432 with 1 Axes>"
            ]
          },
          "metadata": {
            "tags": [],
            "needs_background": "light"
          }
        }
      ]
    },
    {
      "cell_type": "code",
      "metadata": {
        "id": "p1sZLY0RwFuE"
      },
      "source": [
        "print(data.shape, X.shape, Y.shape, type(X))\n",
        "plt.plot(data[:, TIMESTAMP_INDEX_DATA])\n"
      ],
      "execution_count": null,
      "outputs": []
    },
    {
      "cell_type": "code",
      "metadata": {
        "id": "wxCsofhfhijW",
        "colab": {
          "base_uri": "https://localhost:8080/",
          "height": 200
        },
        "outputId": "3339ddbb-3b71-4141-ff50-17f0521e193b"
      },
      "source": [
        "# plot against time IN transformed/scaled version\n",
        "def plot_prediction_time(start, stop, X, Y, predicted):\n",
        "  fig, ax = plt.subplots()\n",
        "  ax.plot(X[start:stop, TIME_INDEX_IN_X], Y[start:stop], 'b-+')\n",
        "  ax.plot(X[start:stop, TIME_INDEX_IN_X], predicted[start:stop], 'g-o')\n",
        "  #ax.plot([Y.min(), Y.max()], [Y.min(), Y.max()], 'k--', lw=4)\n",
        "  ax.set_xlabel('time')\n",
        "  ax.set_ylabel('Predicted')\n",
        "  ax.grid()\n",
        "  fig.set_size_inches(22.5, 3)\n",
        "  plt.show()\n",
        "  predicted.shape\n",
        "\n",
        "TIME_INDEX_IN_X = 8\n",
        "#TIME_INDEX_IN_DATA = 9 as X=data[:, 1:]\n",
        "start= int(0*24*60/5)\n",
        "stop = int(0.2*24*60/5)\n",
        "plot_prediction_time(start, stop, X, Y, predicted)\n"
      ],
      "execution_count": 89,
      "outputs": [
        {
          "output_type": "display_data",
          "data": {
            "image/png": "[encoded data removed]",
            "text/plain": [
              "<Figure size 1620x216 with 1 Axes>"
            ]
          },
          "metadata": {
            "tags": [],
            "needs_background": "light"
          }
        }
      ]
    },
    {
      "cell_type": "code",
      "metadata": {
        "id": "WBkHs8Gdxp6Y"
      },
      "source": [
        "# Get orignal target w/o transformation from df\n",
        "def get_target(df, systemId_selected, numerical_transform_cols):\n",
        "  if systemId_selected[0] == 'All':\n",
        "    df_tmp = df[numerical_transform_cols]\n",
        "  else:  \n",
        "    df_tmp = df[df['systemId']==systemId_selected[0]][numerical_transform_cols]\n",
        "  return df_tmp.values\n",
        "\n",
        "y_real = get_target(df, SYSTEM_ID_SELECTED, 'cpu_utilization' )"
      ],
      "execution_count": 92,
      "outputs": []
    },
    {
      "cell_type": "code",
      "metadata": {
        "id": "7edDXw2TxBV1",
        "colab": {
          "base_uri": "https://localhost:8080/"
        },
        "outputId": "613a04a2-c735-4ef2-c7ad-6d5a0f68516c"
      },
      "source": [
        "# RUN: inverse_transform of predicted target \n",
        "y_hat = target_transformer.inverse_transform( predicted.reshape(predicted.shape[0], 1) )\n",
        "print(predicted.shape, y_hat.shape, type(y_hat))\n"
      ],
      "execution_count": 90,
      "outputs": [
        {
          "output_type": "stream",
          "text": [
            "(7926,) (7926, 1) <class 'numpy.ndarray'>\n"
          ],
          "name": "stdout"
        }
      ]
    },
    {
      "cell_type": "code",
      "metadata": {
        "id": "HDkxtKHexa_C",
        "colab": {
          "base_uri": "https://localhost:8080/"
        },
        "outputId": "83d20e1c-ea85-4159-f2a4-64972b837108"
      },
      "source": [
        "# RUN: inverse_transform TRUE target transformed\n",
        "y_real_inverse_transfomred = target_transformer.inverse_transform( Y.reshape(Y.shape[0], 1) )\n",
        "print(Y.shape, y_real_inverse_transfomred.shape, type(y_real_inverse_transfomred))\n"
      ],
      "execution_count": 91,
      "outputs": [
        {
          "output_type": "stream",
          "text": [
            "(7926,) (7926, 1) <class 'numpy.ndarray'>\n"
          ],
          "name": "stdout"
        }
      ]
    },
    {
      "cell_type": "code",
      "metadata": {
        "id": "wdxBPl5XzBQ4"
      },
      "source": [
        "plt.plot(y_real, y_real_inverse_transfomred, '+')\n",
        "plt.grid()\n",
        "fig = plt.gcf()\n",
        "fig.set_size_inches(22.5, 5)"
      ],
      "execution_count": null,
      "outputs": []
    },
    {
      "cell_type": "code",
      "metadata": {
        "id": "mkFDk0ASyHea"
      },
      "source": [
        "plt.plot(y_real_inverse_transfomred, y_hat, '+')\n",
        "plt.grid()\n",
        "fig = plt.gcf()\n",
        "fig.set_size_inches(22.5, 5)\n"
      ],
      "execution_count": null,
      "outputs": []
    },
    {
      "cell_type": "code",
      "metadata": {
        "id": "1iKuQORI0GEQ",
        "colab": {
          "base_uri": "https://localhost:8080/",
          "height": 217
        },
        "outputId": "6c0c7cc0-038a-4080-b80a-31a323c09fa3"
      },
      "source": [
        "# TODO: get real time in timedate\n",
        "#plot inverse transformed y_hat against time\n",
        "fig, ax = plt.subplots()\n",
        "start= int(0*24*60/5)\n",
        "stop = int(0.2*24*60/5)\n",
        "\n",
        "ax.plot(X[:, TIME_INDEX_IN_X][start:stop], y_real[start:stop], 'b-+', label='real')\n",
        "ax.plot(X[:, TIME_INDEX_IN_X][start:stop], y_hat[:, 0][start:stop], 'g-o', label='predicted')\n",
        "ax.set_xlabel('scaled time')\n",
        "ax.set_ylabel('Predicted')\n",
        "ax.grid()\n",
        "ax.legend()\n",
        "fig = plt.gcf()\n",
        "fig.set_size_inches(22.5, 3)\n",
        "plt.show()\n"
      ],
      "execution_count": 96,
      "outputs": [
        {
          "output_type": "display_data",
          "data": {
            "image/png": "[encoded data removed]",
            "text/plain": [
              "<Figure size 1620x216 with 1 Axes>"
            ]
          },
          "metadata": {
            "tags": [],
            "needs_background": "light"
          }
        },
        {
          "output_type": "execute_result",
          "data": {
            "text/plain": [
              "(7926,)"
            ]
          },
          "metadata": {
            "tags": []
          },
          "execution_count": 96
        }
      ]
    },
    {
      "cell_type": "code",
      "metadata": {
        "id": "EgtNPUf0xp-x",
        "colab": {
          "base_uri": "https://localhost:8080/",
          "height": 352
        },
        "outputId": "3de04569-527b-4c01-eab6-4e4b8abcc38f"
      },
      "source": [
        "\n",
        "fig, ax = plt.subplots()\n",
        "ax.scatter(y_real, y_hat[:, 0])\n",
        "ax.plot([y_real.min(), y_real.max()], [y_real.min(), y_real.max()], 'k--', lw=4)\n",
        "ax.set_xlabel('Measured')\n",
        "ax.set_ylabel('Predicted')\n",
        "ax.grid()\n",
        "fig = plt.gcf()\n",
        "fig.set_size_inches(18.5, 5)\n",
        "plt.show()\n",
        "predicted.shape\n"
      ],
      "execution_count": 97,
      "outputs": [
        {
          "output_type": "display_data",
          "data": {
            "image/png": "[encoded data removed]",
            "text/plain": [
              "<Figure size 1332x360 with 1 Axes>"
            ]
          },
          "metadata": {
            "tags": [],
            "needs_background": "light"
          }
        },
        {
          "output_type": "execute_result",
          "data": {
            "text/plain": [
              "(7926,)"
            ]
          },
          "metadata": {
            "tags": []
          },
          "execution_count": 97
        }
      ]
    },
    {
      "cell_type": "code",
      "metadata": {
        "id": "UcgEv1n7xqD-"
      },
      "source": [
        ""
      ],
      "execution_count": null,
      "outputs": []
    },
    {
      "cell_type": "code",
      "metadata": {
        "id": "TyVV3Z8pvqgK"
      },
      "source": [
        ""
      ],
      "execution_count": null,
      "outputs": []
    },
    {
      "cell_type": "markdown",
      "metadata": {
        "id": "BMZkqYdVz_Gu"
      },
      "source": [
        "Finished regression here"
      ]
    },
    {
      "cell_type": "code",
      "metadata": {
        "id": "IqOQt7XBLb-s"
      },
      "source": [
        "# Run this after Standardarization\n",
        "# Add nonlinear transformation of features\n",
        "df['rw_cache_miss_ratio'] = df['read_cache_miss'] / df['write_cache_miss']\n",
        "df['rw_iops_ratio'] = df['read_iops'] / df['write_iops']\n",
        "df['rw_throughput_ratio'] = df['read_throughput'] / df['write_throughput']\n",
        "df['rw_iosz_ratio'] = df['read_iosz'] / df['write_iosz']\n",
        "\n",
        "df['rw_cache_miss_diff'] = df['read_cache_miss'] - df['write_cache_miss']\n",
        "df['rw_iops_diff'] = df['read_iops'] - df['write_iops']\n",
        "df['rw_throughput_diff'] = df['read_throughput'] - df['write_throughput']\n",
        "df['rw_iosz_diff'] = df['read_iosz'] - df['write_iosz']"
      ],
      "execution_count": null,
      "outputs": []
    },
    {
      "cell_type": "code",
      "metadata": {
        "id": "7vjiyYZ1U7x7"
      },
      "source": [
        "# remove cols_remove from cols;\n",
        "# divide cols into array of lists of size W \n",
        "def split_columns(cols, cols_remove, W):\n",
        "  for col in cols_remove:\n",
        "    cols.remove(col)\n",
        "  L = len(cols)\n",
        "  R = int(L/W)\n",
        "  x1 = list(np.array(cols[:R*W]).reshape(R,W))\n",
        "  x2 = cols[R*W:]\n",
        "  x1.append(x2)\n",
        "  return x1"
      ],
      "execution_count": null,
      "outputs": []
    },
    {
      "cell_type": "code",
      "metadata": {
        "id": "TM0rK8fcJAC4"
      },
      "source": [
        "# RUN: pairplotr VERY SLOW for larger number of features! !!\n",
        "def pairplot(df, systemId_selected, cols, title_str):\n",
        "  if len(systemId_selected)>0:\n",
        "    df = df[df['systemId']==systemId_selected]\n",
        "  sns.pairplot(df[cols], corner=True)\n",
        "  fig = plt.gcf()\n",
        "  fig.set_size_inches(15.5, 3*2)\n",
        "  fig.suptitle(f'{title_str}, systemId {systemId_selected[0]}')\n",
        "  plt.show()"
      ],
      "execution_count": null,
      "outputs": []
    },
    {
      "cell_type": "code",
      "metadata": {
        "id": "mHKHE7h5Z91t"
      },
      "source": [
        ""
      ],
      "execution_count": null,
      "outputs": []
    },
    {
      "cell_type": "code",
      "metadata": {
        "id": "nKyG7xdKHobv"
      },
      "source": [
        "systemId = 'sys1'\n",
        "cols = list(df.columns.values)\n",
        "cols_remove = ['timestamp_seconds', 'systemId', 'model_type']\n",
        "W = 4\n",
        "cols_groups = split_columns(cols, cols_remove, W)\n",
        "print(f'cols_groups={cols_groups}')\n",
        "title_str = 'Before Transformation'\n",
        "\n",
        "for col_subset in cols_groups:\n",
        "  pairplot(df, systemId, col_subset, title_str)"
      ],
      "execution_count": null,
      "outputs": []
    },
    {
      "cell_type": "code",
      "metadata": {
        "id": "SmqsItbZ_bCR"
      },
      "source": [
        "print(f' data.shape={data.shape}, data_cols len={len(data_cols)}\\n data_cols={data_cols}')\n"
      ],
      "execution_count": null,
      "outputs": []
    },
    {
      "cell_type": "code",
      "metadata": {
        "id": "3_jGhaNqH-FO"
      },
      "source": [
        ""
      ],
      "execution_count": null,
      "outputs": []
    },
    {
      "cell_type": "code",
      "metadata": {
        "id": "pj6UjlSoAuos"
      },
      "source": [
        ""
      ],
      "execution_count": null,
      "outputs": []
    },
    {
      "cell_type": "code",
      "metadata": {
        "id": "b1VHRo1rCCx7"
      },
      "source": [
        "selected_columns"
      ],
      "execution_count": null,
      "outputs": []
    },
    {
      "cell_type": "code",
      "metadata": {
        "id": "DZFhIRWIeR56"
      },
      "source": [
        "data_cols\n"
      ],
      "execution_count": null,
      "outputs": []
    },
    {
      "cell_type": "code",
      "metadata": {
        "id": "D6R9hub8eq9T"
      },
      "source": [
        "read_throughput = data[:,5]\n",
        "write_throughput = data[:,6]\n",
        "np.correlate(read_throughput, write_throughput )"
      ],
      "execution_count": null,
      "outputs": []
    },
    {
      "cell_type": "code",
      "metadata": {
        "id": "XFQB0jytCF2C"
      },
      "source": [
        "# Why read_throughput and write_throughput are correlated highly\n",
        "plt.plot(data[:, 5], data[:, 6], '+')\n"
      ],
      "execution_count": null,
      "outputs": []
    },
    {
      "cell_type": "code",
      "metadata": {
        "id": "rtHEATGpeGC7"
      },
      "source": [
        "|help(np.correlate)"
      ],
      "execution_count": null,
      "outputs": []
    },
    {
      "cell_type": "code",
      "metadata": {
        "id": "G_fL6GzTCC6T"
      },
      "source": [
        "corr['read_throughput'].T"
      ],
      "execution_count": null,
      "outputs": []
    },
    {
      "cell_type": "code",
      "metadata": {
        "id": "jhezEvcWd8ci"
      },
      "source": [
        "# compare a single selected systemId AGAINST whole systemIds\n",
        "plot_corr(df, SYSTEM_ID_SELECTED)"
      ],
      "execution_count": null,
      "outputs": []
    },
    {
      "cell_type": "code",
      "metadata": {
        "id": "G_PLsg9bhyfx"
      },
      "source": [
        "def plot_corr(df, systemId_selected):\n",
        "  if systemId_selected[0] == 'All':\n",
        "    df_tmp = df\n",
        "  else:  \n",
        "    df_tmp = df[df['systemId']==systemId_selected[0]]\n",
        "  sns.set_theme(style=\"white\")\n",
        "  # Compute the correlation matrix\n",
        "  corr = df_tmp.corr()\n",
        "  # Generate a mask for the upper triangle\n",
        "  mask = np.triu(np.ones_like(corr, dtype=bool))\n",
        "\n",
        "  # Set up the matplotlib figure\n",
        "  f, ax = plt.subplots(figsize=(15, 9))\n",
        "\n",
        "  # Generate a custom diverging colormap\n",
        "  cmap = sns.diverging_palette(230, 20, as_cmap=True)\n",
        "  # Draw the heatmap with the mask and correct aspect ratio\n",
        "  sns.heatmap(corr, mask=mask, cmap=cmap, vmax=.9, center=0, square=True, linewidths=.5, cbar_kws={\"shrink\": .5})\n",
        "  f.suptitle(f'systemId {systemId_selected[0]}')\n",
        "\n",
        "  "
      ],
      "execution_count": null,
      "outputs": []
    },
    {
      "cell_type": "code",
      "metadata": {
        "id": "ycSgHqE5LXMR"
      },
      "source": [
        "plot_corr(df, systemId_selected)\n"
      ],
      "execution_count": null,
      "outputs": []
    },
    {
      "cell_type": "markdown",
      "metadata": {
        "id": "QquxwQdyOfVe"
      },
      "source": [
        "**Observation** \n",
        "After comparison Correlation plots of two cases:\n",
        "-- Case_SINGLE: Only extract a single systemId (here 'sys1') case; \n",
        "-- Case_ALL:  Use all systemIds as a whole;\n",
        "\n",
        "Conclusion:\n",
        "1. timestamp_seconds has low correlation with all the rest features; and is less useful directly;\n",
        "2. Day_Cos and Day_Sin have good correlation with a few columns and shall help prediction;\n",
        "\n",
        "\n",
        "Case_SINGLE clearly exposes a larger nuber of columns having high correlations with the target 'cpu_utilization' than  that of Case_ALL. \n",
        "\n",
        "1.1 columns having good correlation with 'cpu_utilization':\n",
        "Case_SINGLE: ['write_throughput', 'write_iops', 'read_cache_miss', 'read_throughput', 'read_iops', 'write_cache_miss']\n",
        "\n",
        "Case_ALL: ['read_throughput', 'read_cache_miss'] \n",
        "['write_cache_miss',  'read_iops', 'write_throughput', 'write_iosz' ]\n",
        "\n",
        "1.1 columns having good correlation with Day_sin:  \n",
        "Case_SINGLE ['write_cache_miss', 'read_iops', 'write_iosz' ]\n",
        "Case_ALL: None\n",
        "\n",
        "1.2 Day_Cos has good correlation with 2 columns:\n",
        "Case_SINGLE: ['write_iops', 'read_iosz']\n",
        "Case_ALL: None\n",
        "\n",
        "\n",
        "\n"
      ]
    },
    {
      "cell_type": "code",
      "metadata": {
        "id": "a3HYKew1UHfa"
      },
      "source": [
        "df.columns"
      ],
      "execution_count": null,
      "outputs": []
    },
    {
      "cell_type": "code",
      "metadata": {
        "id": "ArbVaWPQL-Dm"
      },
      "source": [
        "plot_corr(df, systemId_selected)"
      ],
      "execution_count": null,
      "outputs": []
    },
    {
      "cell_type": "code",
      "metadata": {
        "id": "jFCeFr9XoPbA"
      },
      "source": [
        "# normalize, average, and plot\n",
        "\n",
        "def plot_columns_average(df, AVERAGE_METHOD, Window_Length):\n",
        "  df1 = df[df['systemId']=='sys1']\n",
        "\n",
        "  start_hour = 24*1+15;\n",
        "  interval_hour= 24*20 + 10\n",
        "  start = int(start_hour*hour/(5*60))\n",
        "  stop = int((start_hour + interval_hour)*hour/(5*60))\n",
        "\n",
        "  #x = df1['timestamp_seconds']\n",
        "  df1['iops_rw_diff'] = df1['read_iops'] - df1['write_iops']\n",
        "  df1['iops_rw_ratio'] = df1['read_iops']/df1['write_iops']\n",
        "\n",
        "  df1['throughput_rw_diff'] = df1['read_throughput'] - df1['write_throughput']\n",
        "  df1['throughput_rw_ratio'] = df1['read_throughput'] / df1['write_throughput']\n",
        "\n",
        "  cols = ['write_cache_miss',  'read_iops', 'write_iosz', 'cpu_utilization', 'read_cache_miss', \n",
        "          'read_iosz', 'read_throughput', 'write_throughput', 'throughput_rw_diff', 'throughput_rw_ratio',\n",
        "          'write_iops', 'iops_rw_diff', 'iops_rw_ratio', 'Day_Sin', 'Week_Sin']#, 'Hour_Sin']\n",
        "\n",
        "  ### moving average and standarization\n",
        "  cols_to_avg = ['cpu_utilization', 'read_cache_miss', 'write_cache_miss',\n",
        "                'read_iosz', 'write_iosz', 'read_throughput', 'write_throughput', 'read_iops',\n",
        "          'write_iops','throughput_rw_diff', 'throughput_rw_ratio', 'iops_rw_diff', 'iops_rw_ratio']\n",
        "\n",
        "  for f in cols_to_avg:\n",
        "    if AVERAGE_METHOD == 'rolling_moving_average':\n",
        "      df1[f] = df1[f].rolling(window=Window_Length).mean()\n",
        "    elif AVERAGE_METHOD == 'exponential_moving_average':\n",
        "      df1[f] = df1[f].ewm(span=Window_Length, adjust=False).mean()\n",
        "    elif AVERAGE_METHOD == 'cumulative_average': \n",
        "      df1[f] = df1[f].expanding(min_periods=Window_Length, adjust=False).mean()\n",
        "    else:\n",
        "      raise ValueError(f'AVERAGE_METHOD ={AVERAGE_METHOD} is not implemented!')\n",
        "        \n",
        "  cols_normalization = ['cpu_utilization', 'read_cache_miss', 'write_cache_miss', 'read_iosz', 'write_iosz', \n",
        "                        'read_throughput', 'write_throughput', 'read_iops',\n",
        "          'write_iops', 'throughput_rw_diff', 'throughput_rw_ratio', 'iops_rw_diff', 'iops_rw_ratio']\n",
        "\n",
        "  from sklearn.preprocessing import StandardScaler\n",
        "  autoscaler = StandardScaler()\n",
        "  df1.loc[:, cols_normalization] = autoscaler.fit_transform(df1.loc[:, cols_normalization])\n",
        "\n",
        "  x = df1['datetime']\n",
        "  linepattern = '-+'\n",
        "  fig = 1\n",
        "  num_cols = len(cols)\n",
        "  for f in cols:\n",
        "    y = df1[f]\n",
        "    plt.subplot(num_cols, 1, fig)\n",
        "    plt.plot(x[start:stop], y[start:stop], linepattern)\n",
        "    if f == 'write_iops' or f=='read_iosz':\n",
        "      plt.plot(x[start:stop], df1['Day_Cos'][start-60:stop-60], 'g-o')\n",
        "    else:\n",
        "      plt.plot(x[start:stop], df1['Day_Sin'][start-60:stop-60], 'g-o')\n",
        "\n",
        "    #plt.plot(x[start:stop], df1['Day_Cos'][start:stop], 'y-')\n",
        "    plt.ylabel(f)\n",
        "    fig= fig+1\n",
        "    plt.grid(True)\n",
        "\n",
        "  fig = plt.gcf()\n",
        "  fig.set_size_inches(22.5, num_cols*3)\n",
        "\n"
      ],
      "execution_count": null,
      "outputs": []
    },
    {
      "cell_type": "code",
      "metadata": {
        "id": "LKmVk9usLmrc"
      },
      "source": [
        "# most sampling periods are 5 min, so window in mins is Window_Length*5 mins\n",
        "# when Window_Length = int(2*60/5) in samples, it is in time interval of 120min=2hr\n",
        "Window_Length = int(2*60/5) \n",
        "\n",
        "AVERAGE_METHOD_LIST = ['rolling_moving_average', 'exponential_moving_average', 'cumulative_average']\n",
        "AVERAGE_METHOD = AVERAGE_METHOD_LIST[1] \n",
        "plot_columns_average(df, AVERAGE_METHOD, Window_Length)\n"
      ],
      "execution_count": null,
      "outputs": []
    },
    {
      "cell_type": "code",
      "metadata": {
        "id": "2p0hETXoVx8X"
      },
      "source": [
        "# check outliers; conclusion: no apparent outliers\n",
        "df_stat = df.describe().T\n",
        "df_stat['50% to 75%'] = (df_stat['50%']/df_stat['75%'])\n",
        "df_stat['max to 75%'] = (df_stat['max']/df_stat['75%'])\n",
        "df_stat"
      ],
      "execution_count": null,
      "outputs": []
    },
    {
      "cell_type": "code",
      "metadata": {
        "id": "1oJIeiO45BHR"
      },
      "source": [
        "print(f\" df.shape={df.shape},\\n df.columns={df.columns}\")\n",
        "sysIDs = np.unique(df['systemId'])\n",
        "print(f\" sysIDs shape={sysIDs.shape},\\n sysIDs={sysIDs}\")\n",
        "model_types = np.unique(df['model_type'])\n",
        "print(f\" model_types shape={model_types.shape}, model_types ={model_types}\")"
      ],
      "execution_count": null,
      "outputs": []
    },
    {
      "cell_type": "code",
      "metadata": {
        "id": "rkrv845LJCK4"
      },
      "source": [
        ""
      ],
      "execution_count": null,
      "outputs": []
    },
    {
      "cell_type": "code",
      "metadata": {
        "id": "DbCZIVV2HgBW"
      },
      "source": [
        "print((np.unique(df['model_type'])))\n",
        "for sysId in np.unique(df['systemId']):\n",
        "  data = df[df['systemId']==sysId]\n",
        "  x = np.unique(data['model_type'])\n",
        "  print(f'sysId={sysId}, {x}')\n"
      ],
      "execution_count": null,
      "outputs": []
    },
    {
      "cell_type": "code",
      "metadata": {
        "id": "jLTZZghjAi3Y"
      },
      "source": [
        "# GANG WANG\n",
        "# RUN this: select feature based on p-value\n",
        "\n",
        "systemId = 'sys1'\n",
        "data = df[df['systemId']==systemId]\n",
        "print(np.unique(data['model_type'])\n",
        "\n",
        "from sklearn.preprocessing import StandardScaler\n",
        "from sklearn.preprocessing import LabelEncoder\n",
        "from sklearn.preprocessing import OneHotEncoder\n",
        "\n",
        "\n",
        "columns_to_scale=['timestamp_seconds', 'cpu_utilization', 'read_cache_miss', 'write_cache_miss', 'read_iops', 'write_iops', 'read_throughput', 'write_throughput', 'read_iosz', 'write_iosz']\n",
        "autoscaler = StandardScaler()\n",
        "data[columns_to_scale] = autoscaler.fit_transform(data[columns_to_scale])\n",
        "\n",
        "y_column = ['cpu_utilization']; \n",
        "x_columns = ['timestamp_seconds', 'read_cache_miss', 'write_cache_miss', 'read_iops', 'write_iops', 'read_throughput', 'write_throughput', 'read_iosz','write_iosz'] #, 'datetime']\n",
        "\n",
        "x_in = data[x_columns].values\n",
        "onehot_encoder = OneHotEncoder(sparse=False, categories='auto')\n",
        "label_encoder2 = LabelEncoder()\n",
        "data['model_type'] = label_encoder2.fit_transform(data['model_type'])\n",
        "feature = data['model_type'].values\n",
        "print(\"feature shape BEFORE reshape:\", feature.shape)\n",
        "feature = feature.reshape(feature.shape[0], 1)\n",
        "print(\"feature shape AFTER reshape:\", feature.shape)\n",
        "\n",
        "print(\"x_in shape BEFORE one-hot-encoder:\", x_in.shape)\n",
        "\n",
        "feature = onehot_encoder.fit_transform(feature)\n",
        "print(f'feature shape={feature.shape}')\n",
        "x_in = np.concatenate((x_in, feature), axis=1)\n",
        "print(\"x_in shape AFTER one-hot-encoder: : \", x_in.shape)\n",
        "\n",
        "\n",
        "y_in = data[y_column].values\n",
        "selected_columns = ['timestamp_seconds', 'read_cache_miss', 'write_cache_miss', 'read_iops',\n",
        "                    'write_iops', 'read_throughput', 'write_throughput', 'read_iosz',\n",
        "                    'write_iosz', 'model_type'] #, 'datetime']\n",
        "\n",
        "import statsmodels.api as sm\n",
        "def backwardElimination(x, Y, sl, columns):\n",
        "    print(f'x={x[:2,:]}')\n",
        "    print(f'Y={Y[:2]}')\n",
        "    print(f'len(x[0]) = {len(x[0])}')\n",
        "    print(f'x shape = {x.shape}')\n",
        "\n",
        "    numVars = len(x[0])\n",
        "    for i in range(0, numVars):\n",
        "        regressor_OLS = sm.OLS(Y, x).fit()\n",
        "        maxVar = max(regressor_OLS.pvalues).astype(float)\n",
        "        if maxVar > sl:\n",
        "            for j in range(0, numVars - i):\n",
        "                if (regressor_OLS.pvalues[j].astype(float) == maxVar):\n",
        "                    x = np.delete(x, j, 1)\n",
        "                    columns = np.delete(columns, j)\n",
        "        print(f'**** backwardElimination i={i}, p-values={regressor_OLS.pvalues}')\n",
        "        print(f'inside loop: x shape = {x.shape}')\n",
        "                    \n",
        "    print(regressor_OLS.summary())\n",
        "    return x, columns\n",
        "\n",
        "SL = 0.05\n",
        "data_modeled, selected_columns = backwardElimination(x_in, y_in, SL, selected_columns)\n"
      ],
      "execution_count": null,
      "outputs": []
    },
    {
      "cell_type": "code",
      "metadata": {
        "id": "XxyNL1tpAl7w"
      },
      "source": [
        "def old_OneHotEncoder():\n",
        "  systemId = 'sys1'\n",
        "  data = df[df['systemId']==systemId]\n",
        "  print(np.unique(data['model_type'])\n",
        "\n",
        "  columns_to_scale=['timestamp_seconds', 'cpu_utilization', 'read_cache_miss', 'write_cache_miss', 'read_iops', 'write_iops', 'read_throughput', 'write_throughput', 'read_iosz', 'write_iosz']\n",
        "  autoscaler = StandardScaler()\n",
        "  data[columns_to_scale] = autoscaler.fit_transform(data[columns_to_scale])\n",
        "\n",
        "  y_column = ['cpu_utilization']; \n",
        "  x_columns = ['timestamp_seconds', 'read_cache_miss', 'write_cache_miss', 'read_iops', 'write_iops', 'read_throughput', 'write_throughput', 'read_iosz','write_iosz'] #, 'datetime']\n",
        "\n",
        "  x_in = data[x_columns].values\n",
        "  onehot_encoder = OneHotEncoder(sparse=False, categories='auto')\n",
        "  label_encoder2 = LabelEncoder()\n",
        "  data['model_type'] = label_encoder2.fit_transform(data['model_type'])\n",
        "  feature = data['model_type'].values\n",
        "  print(\"feature shape BEFORE reshape:\", feature.shape)\n",
        "  feature = feature.reshape(feature.shape[0], 1)\n",
        "  print(\"feature shape AFTER reshape:\", feature.shape)\n",
        "\n",
        "  print(\"x_in shape BEFORE one-hot-encoder:\", x_in.shape)\n",
        "\n",
        "  feature = onehot_encoder.fit_transform(feature)\n",
        "  print(f'feature shape={feature.shape}')\n",
        "  x_in = np.concatenate((x_in, feature), axis=1)\n",
        "  print(\"x_in shape AFTER one-hot-encoder: : \", x_in.shape)\n",
        "\n",
        "\n",
        "  y_in = data[y_column].values\n",
        "  selected_columns = ['timestamp_seconds', 'read_cache_miss', 'write_cache_miss', 'read_iops',\n",
        "                      'write_iops', 'read_throughput', 'write_throughput', 'read_iosz',\n",
        "                      'write_iosz', 'model_type'] #, 'datetime']\n"
      ],
      "execution_count": null,
      "outputs": []
    },
    {
      "cell_type": "code",
      "metadata": {
        "id": "w1aqd14xoFIU"
      },
      "source": [
        "# RUN this: utility function for plotting x vs y for a selected systemId  \n",
        "# x MUST be a list with a SINGLE string;  x=['cpu_utilization'];\n",
        "# y can be a list of any number of numerical features;\n",
        "def plot_multx_y(df, systemId, x, y, start_fraction, stop_fraction, linepattern, plot_1_column):\n",
        "  if len(x)>1:\n",
        "    raise ValueError(f'x-axis MUST be a list with a SINGLE string !')\n",
        "  df_temp = df[df['systemId']==systemId]\n",
        "  start = int(len(df_temp)*start_fraction)\n",
        "  stop = int(len(df_temp)*stop_fraction)\n",
        "  len_y = len(y)\n",
        "\n",
        "  if plot_1_column:\n",
        "    num_rows = len_y\n",
        "    num_cols = 1\n",
        "  else:\n",
        "    num_rows = math.ceil(math.sqrt(len_y))\n",
        "    num_cols = math.ceil(len_y/num_rows)\n",
        "\n",
        "  print(f'{len_y} figures, {num_rows} rows, {num_cols} columns')\n",
        "  y_index = 0\n",
        "  for row in range(num_rows):\n",
        "    for col in range(num_cols):\n",
        "      if y_index == (len_y):\n",
        "        break\n",
        "      plt.subplot(num_rows, num_cols, y_index+1)\n",
        "      plt.plot(df_temp[x[0]][start:stop], df_temp[y[y_index]][start:stop], linepattern)\n",
        "      plt.ylabel(f'{y[y_index]}')\n",
        "\n",
        "      plt.grid(True)\n",
        "      y_index = y_index + 1  \n",
        "  fig = plt.gcf()\n",
        "  fig.set_size_inches(18.5, 3*num_rows)\n",
        "  fig.suptitle(f'systemId={systemId}, all the X-axes are from the column of {x[0]}')\n",
        "  plt.tight_layout() # 2nd last step in fig setting\n",
        "  fig.subplots_adjust(top=0.88) # last in fig setting\n",
        "  plt.show()\n",
        "  del df_temp"
      ],
      "execution_count": null,
      "outputs": []
    },
    {
      "cell_type": "code",
      "metadata": {
        "id": "QQEmSQhlbYDE"
      },
      "source": [
        "# RUN this: plot the 'cpu_utilization' against each of the rest columns\n",
        "plot_1_column=False; x = ['cpu_utilization']; y = ['read_cache_miss', 'write_cache_miss', 'read_iops', 'write_iops', 'read_throughput', 'write_throughput', 'read_iosz','write_iosz', 'datetime']\n",
        "#x = ['datetime']; y = ['read_cache_miss', 'write_cache_miss', 'read_iops', 'write_iops', 'read_throughput', 'write_throughput', 'read_iosz','write_iosz', 'datetime']\n",
        "#x = ['read_iops']; y =['cpu_utilization']\n",
        "plot_multx_y(df, SYSTEM_ID_SELECTED, x ,y, 0.2, 0.3, '+', plot_1_column)"
      ],
      "execution_count": null,
      "outputs": []
    },
    {
      "cell_type": "code",
      "metadata": {
        "id": "qOz1Vvge_UjI"
      },
      "source": [
        "#x = ['cpu_utilization']; y = ['read_cache_miss', 'write_cache_miss', 'read_iops', 'write_iops', 'read_throughput', 'write_throughput', 'read_iosz','write_iosz', 'datetime']\n",
        "plot_1_column=True; x = ['datetime']; y = ['read_cache_miss', 'write_cache_miss', 'read_iops', 'write_iops', 'read_throughput', 'write_throughput', 'read_iosz','write_iosz', 'datetime']\n",
        "#x = ['read_iops']; y =['cpu_utilization']\n",
        "plot_multx_y(df, SYSTEM_ID_SELECTED, x ,y, 0.2, 0.23, '+', plot_1_column)"
      ],
      "execution_count": null,
      "outputs": []
    },
    {
      "cell_type": "code",
      "metadata": {
        "id": "aJKivAI7y2Mm"
      },
      "source": [
        ""
      ],
      "execution_count": null,
      "outputs": []
    },
    {
      "cell_type": "code",
      "metadata": {
        "id": "YyKrqN2PBzjT"
      },
      "source": [
        "#x = ['cpu_utilization']; y = ['read_cache_miss', 'write_cache_miss', 'read_iops', 'write_iops', 'read_throughput', 'write_throughput', 'read_iosz','write_iosz', 'datetime']\n",
        "plot_1_column=True; x = ['datetime']; y = ['read_cache_miss', 'write_cache_miss', 'read_iops', 'write_iops', 'read_throughput', 'write_throughput', 'read_iosz','write_iosz', 'datetime']\n",
        "#x = ['read_iops']; y =['cpu_utilization']\n",
        "plot_multx_y(df, systemId_selected, x ,y, 0.2, 0.21, '-+', plot_1_column)"
      ],
      "execution_count": null,
      "outputs": []
    },
    {
      "cell_type": "code",
      "metadata": {
        "id": "Gja2Lth0Q_zO"
      },
      "source": [
        "def plot_all_timestamp_seconds(df_in, systemId, start_fraction, stop_fraction, linepattern ):\n",
        "  df = df_in\n",
        "  if (systemId[0] != 'all') & len(systemId)==1:\n",
        "    df = df_in[df_in['systemId']==systemId[0]]\n",
        "  start = int(len(df)*start_fraction)\n",
        "  stop = int(len(df)*stop_fraction)\n",
        "\n",
        "  print(f'len df={len(df)}')\n",
        "  fig, axs = plt.subplots(2)\n",
        "  fig.suptitle('timestamp_seconds')\n",
        "\n",
        "  axs[0].plot( df['timestamp_seconds'][start:stop], linepattern)\n",
        "  axs[0].set_title(f'systemId={systemId}:: series type')\n",
        "\n",
        "  axs[1].plot( np.array(df['timestamp_seconds'][start:stop]), linepattern)\n",
        "  axs[1].set_title(f'systemId={systemId}: array type')\n",
        "  fig.set_size_inches(12.5, 7.5)\n",
        "  del df"
      ],
      "execution_count": null,
      "outputs": []
    },
    {
      "cell_type": "code",
      "metadata": {
        "id": "_0rNnGd9S3Cy"
      },
      "source": [
        "plot_all_timestamp_seconds(df, ['all'], 0, 1, '+')\n",
        "plot_all_timestamp_seconds(df, ['all'], 0, 0.1, '+')\n"
      ],
      "execution_count": null,
      "outputs": []
    },
    {
      "cell_type": "code",
      "metadata": {
        "id": "4criErlDVgWW"
      },
      "source": [
        "plot_all_timestamp_seconds(df, ['sys1'], 0, 1, '+')\n",
        "plot_all_timestamp_seconds(df, ['sys1'], 0, 0.1, '+')\n"
      ],
      "execution_count": null,
      "outputs": []
    },
    {
      "cell_type": "code",
      "metadata": {
        "id": "SZU4c1oDa2e2"
      },
      "source": [
        "y = ['cpu_utilization']\n",
        "x = ['read_cache_miss', 'write_cache_miss', 'read_iops', 'write_iops',\n",
        "       'read_throughput', 'write_throughput', 'read_iosz','write_iosz', 'datetime']\n",
        "plot_multx_y(df, systemId_selected, x ,y,'+', 0, 1)\n"
      ],
      "execution_count": null,
      "outputs": []
    },
    {
      "cell_type": "code",
      "metadata": {
        "id": "Hjyp35qibC1Z"
      },
      "source": [
        "SYSTEM_ID_SELECTED = 'sys2'\n",
        "y = ['datetime']\n",
        "x = ['read_cache_miss', 'write_cache_miss', 'read_iops', 'write_iops',\n",
        "       'read_throughput', 'write_throughput', 'read_iosz','write_iosz', 'datetime']\n",
        "plot_multx_y(df, SYSTEM_ID_SELECTED, x ,y,'+', 0, 1)\n"
      ],
      "execution_count": null,
      "outputs": []
    },
    {
      "cell_type": "code",
      "metadata": {
        "id": "GVh8vQeYp3Mx"
      },
      "source": [
        "def plot_diffby_datetime(df, systemId, x, periods, linepattern):\n",
        "  if type(periods) != int:\n",
        "    raise ValueError(f'periods {periods} must be a single integer!')\n",
        "\n",
        "  df_temp = df[df['systemId']==systemId]\n",
        "  t = df_temp['datetime']\n",
        "    \n",
        "  len_x = len(x)\n",
        "  num_rows = math.ceil(math.sqrt(len_x))\n",
        "  num_cols = math.ceil(len_x/num_rows)\n",
        "  print(f'{len_x} figures, {num_rows} rows, {num_cols} columns')\n",
        "\n",
        "  x_index = 0\n",
        "  for row in range(num_rows):\n",
        "    for col in range(num_cols):\n",
        "      x_array = df_temp[x[x_index]].diff(periods)\n",
        "      if x_index == (len_x):\n",
        "        break\n",
        "\n",
        "      plt.subplot(num_rows, num_cols, x_index+1)\n",
        "      plt.plot( t[periods:], x_array[periods:], linepattern)\n",
        "      plt.ylabel(f'{x[x_index]}')\n",
        "      plt.grid(True)\n",
        "      x_index = x_index + 1  \n",
        "\n",
        "  fig = plt.gcf()\n",
        "  fig.suptitle(f'systemId={systemId}, time diff {periods}, x axis is df[datetime]')\n",
        "  plt.tight_layout()\n",
        "  fig.subplots_adjust(top=0.88)\n",
        "  fig.set_size_inches(12.5, 3*num_rows)\n",
        "  plt.show()\n",
        "  del df_temp\n",
        "  "
      ],
      "execution_count": null,
      "outputs": []
    },
    {
      "cell_type": "code",
      "metadata": {
        "id": "ju8rxEUXbNh3"
      },
      "source": [
        ""
      ],
      "execution_count": null,
      "outputs": []
    },
    {
      "cell_type": "code",
      "metadata": {
        "id": "2mZhM-xNz1K3"
      },
      "source": [
        "def boxplot_diffby(df, systemId, x, periods):\n",
        "  if type(periods) != int:\n",
        "    raise ValueError(f'periods {periods} must be a single integer!')\n",
        "\n",
        "  df_temp = df[df['systemId']==systemId]\n",
        "    \n",
        "  len_x = len(x)\n",
        "  num_rows = math.ceil(math.sqrt(len_x))\n",
        "  num_cols = math.ceil(len_x/num_rows)\n",
        "  print(f'{len_x} figures, {num_rows} rows, {num_cols} columns')\n",
        "\n",
        "  x_index = 0\n",
        "  for row in range(num_rows):\n",
        "    for col in range(num_cols):\n",
        "      x_array = df_temp[x[x_index]].diff(periods)\n",
        "      if x_index == (len_x):\n",
        "        break\n",
        "\n",
        "      plt.subplot(num_rows, num_cols, x_index+1)\n",
        "      plt.boxplot( x_array[periods:])\n",
        "      plt.xlabel(f'{x[x_index]}')\n",
        "      plt.grid(True)\n",
        "      x_index = x_index + 1  \n",
        "\n",
        "  fig = plt.gcf()\n",
        "  fig.suptitle(f'systemId={systemId}, time diff {periods}, x axis is df[datetime]')\n",
        "  plt.tight_layout()\n",
        "  fig.subplots_adjust(top=0.88)\n",
        "  fig.set_size_inches(12.5, 3*num_rows)\n",
        "  plt.show()\n",
        "  del df_temp\n",
        "  "
      ],
      "execution_count": null,
      "outputs": []
    },
    {
      "cell_type": "code",
      "metadata": {
        "id": "RSMEL6CBtHHK"
      },
      "source": [
        "periods = 1\n",
        "linepattern = '+'\n",
        "x = ['read_cache_miss', 'write_cache_miss', 'read_iops', 'write_iops',\n",
        "       'read_throughput', 'write_throughput', 'read_iosz','write_iosz', 'datetime']\n",
        "plot_diffby_datetime(df, systemId_selected, x, periods, linepattern)\n"
      ],
      "execution_count": null,
      "outputs": []
    },
    {
      "cell_type": "code",
      "metadata": {
        "id": "M6PpUpgIzD5N"
      },
      "source": [
        "periods = 1\n",
        "linepattern = '+'\n",
        "x = ['read_cache_miss', 'write_cache_miss', 'read_iops', 'write_iops',\n",
        "       'read_throughput', 'write_throughput', 'read_iosz','write_iosz', 'datetime']\n",
        "plot_diffby_datetime(df, systemId_selected, x, periods, linepattern)"
      ],
      "execution_count": null,
      "outputs": []
    },
    {
      "cell_type": "code",
      "metadata": {
        "id": "F-8aj7xE0SX4"
      },
      "source": [
        "periods = 1\n",
        "systemId = 'sys2'\n",
        "x = ['read_cache_miss', 'write_cache_miss', 'read_iops', 'write_iops',\n",
        "       'read_throughput', 'write_throughput', 'read_iosz','write_iosz', 'datetime']\n",
        "boxplot_diffby(df, systemId, x, periods)\n",
        "\n"
      ],
      "execution_count": null,
      "outputs": []
    },
    {
      "cell_type": "code",
      "metadata": {
        "id": "LnhrFWxjvV3c"
      },
      "source": [
        "df.columns\n",
        "#plot_x_y(df, systemId, x, y, start_fraction, stop_fraction)\n",
        "plot_x_y(df, 'sys1', 'datetime','cpu_utilization',0.2, 0.3, '+')\n"
      ],
      "execution_count": null,
      "outputs": []
    },
    {
      "cell_type": "code",
      "metadata": {
        "id": "SZX4owfqYqhC"
      },
      "source": [
        "df.columns\n",
        "y = ['cpu_utilization']\n",
        "print(len(y))\n"
      ],
      "execution_count": null,
      "outputs": []
    },
    {
      "cell_type": "code",
      "metadata": {
        "id": "fg-ETow7YnRf"
      },
      "source": [
        ""
      ],
      "execution_count": null,
      "outputs": []
    },
    {
      "cell_type": "code",
      "metadata": {
        "id": "e3QZF7rl9B5W"
      },
      "source": [
        "plot_x_y(df, 'sys1', 'timestamp_seconds','cpu_utilization',)\n",
        "plot_all_timestamp_seconds(df)\n",
        "plot_sys1_timestamp_seconds(df)\n",
        "plot_part_sys1_timestamp_seconds(df)"
      ],
      "execution_count": null,
      "outputs": []
    },
    {
      "cell_type": "code",
      "metadata": {
        "id": "kVHCUaKdxDRw"
      },
      "source": [
        "plot_x_y(df, 'sys1', 'timestamp_seconds','cpu_utilization',)\n"
      ],
      "execution_count": null,
      "outputs": []
    },
    {
      "cell_type": "code",
      "metadata": {
        "id": "4HcP9kuU58A1"
      },
      "source": [
        "plot_all_timestamp_seconds(df)\n",
        "plot_sys1_timestamp_seconds(df)\n",
        "plot_part_sys1_timestamp_seconds(df)"
      ],
      "execution_count": null,
      "outputs": []
    },
    {
      "cell_type": "code",
      "metadata": {
        "id": "eC6r1OGBfdwW"
      },
      "source": [
        ""
      ],
      "execution_count": null,
      "outputs": []
    },
    {
      "cell_type": "code",
      "metadata": {
        "id": "SkrTqqSxxH7T"
      },
      "source": [
        "plot_x_y(df, 'sys1', 'timestamp_seconds','cpu_utilization',)\n"
      ],
      "execution_count": null,
      "outputs": []
    },
    {
      "cell_type": "code",
      "metadata": {
        "id": "wacBOaBOqdyw"
      },
      "source": [
        "plot_all_timestamp_seconds(df)\n",
        "plot_sys1_timestamp_seconds(df)\n",
        "plot_part_sys1_timestamp_seconds(df)"
      ],
      "execution_count": null,
      "outputs": []
    },
    {
      "cell_type": "code",
      "metadata": {
        "id": "fjH4osTLmG20"
      },
      "source": [
        "df['timestamp_seconds'].hist()\n",
        "pyplot.show()"
      ],
      "execution_count": null,
      "outputs": []
    },
    {
      "cell_type": "code",
      "metadata": {
        "id": "j0hR8smNm9bN"
      },
      "source": [
        "df['timestamp_seconds'].plot(kind='box')\n"
      ],
      "execution_count": null,
      "outputs": []
    },
    {
      "cell_type": "code",
      "metadata": {
        "id": "7Ma4blmJfPSM"
      },
      "source": [
        "from sklearn.model_selection import train_test_split\n",
        "X = df.values\n",
        "X_train, X_test = train_test_split(X, test_size=TEST_SIZE)\n"
      ],
      "execution_count": null,
      "outputs": []
    },
    {
      "cell_type": "code",
      "metadata": {
        "id": "Ke48eRpwff-n"
      },
      "source": [
        "print(f\"df.shape={df.shape}, type(X)={type(X)}, X.shape={X.shape}\") \n",
        "print(f\"X_train.shape={X_train.shape}, X_test.shape={X_test.shape}\")\n",
        "df.columns"
      ],
      "execution_count": null,
      "outputs": []
    },
    {
      "cell_type": "code",
      "metadata": {
        "id": "mh-aVY29XAO0"
      },
      "source": [
        ""
      ],
      "execution_count": null,
      "outputs": []
    },
    {
      "cell_type": "code",
      "metadata": {
        "id": "2SeGiqSHyz72"
      },
      "source": [
        "df.hist()\n",
        "fig = plt.gcf()\n",
        "fig.set_size_inches(18.5, 8.5)\n",
        "pyplot.show()\n"
      ],
      "execution_count": null,
      "outputs": []
    },
    {
      "cell_type": "code",
      "metadata": {
        "id": "OesKKX99zmFy"
      },
      "source": [
        ""
      ],
      "execution_count": null,
      "outputs": []
    },
    {
      "cell_type": "code",
      "metadata": {
        "id": "ZZdJu9d4DK8L"
      },
      "source": [
        "df.head()\n"
      ],
      "execution_count": null,
      "outputs": []
    },
    {
      "cell_type": "code",
      "metadata": {
        "id": "R04J4kXxwLXy"
      },
      "source": [
        "# StandardScaler Gaussian like features\n",
        "# LabelEncoder\n",
        "from sklearn.preprocessing import StandardScaler\n",
        "from sklearn.preprocessing import LabelEncoder\n",
        "\n",
        "# defiine columns_to_scale: exclude categorical columns\n",
        "columns_to_scale = list(df.columns)\n",
        "columns_to_scale.remove('systemId')\n",
        "columns_to_scale.remove('model_type')\n",
        "print(f'columns_to_scale={columns_to_scale}')\n",
        "\n",
        "autoscaler = StandardScaler()\n",
        "df[columns_to_scale] = autoscaler.fit_transform(df[columns_to_scale])\n",
        "\n",
        "# add labelencoder to systemId and model_type\n",
        "label_encoder1 = LabelEncoder()\n",
        "df['systemId'] = label_encoder1.fit_transform(df['systemId'])\n",
        "label_encoder2 = LabelEncoder()\n",
        "df['model_type'] = label_encoder2.fit_transform(df['model_type'])"
      ],
      "execution_count": null,
      "outputs": []
    },
    {
      "cell_type": "code",
      "metadata": {
        "id": "U-tX0p_vCqCr"
      },
      "source": [
        "df.head()"
      ],
      "execution_count": null,
      "outputs": []
    },
    {
      "cell_type": "code",
      "metadata": {
        "id": "a57elgsnyjK-"
      },
      "source": [
        ""
      ],
      "execution_count": null,
      "outputs": []
    },
    {
      "cell_type": "markdown",
      "metadata": {
        "id": "mF5qqPmeErjG"
      },
      "source": [
        "## Q2. Group on systemId and one week's duration and then calculate following custom metrics\n",
        "- std/median on columns read_iops, read_cache_miss\n",
        "- rolling mean on columns write_throughput and write_iosz\n",
        "- exponential moving average on column write_cache_miss and write_iops\n"
      ]
    },
    {
      "cell_type": "code",
      "metadata": {
        "id": "dbo5DppFI8Z5"
      },
      "source": [
        "features = [['read_iops', 'read_cache_miss'],\n",
        "            ['write_throughput', 'write_iosz'],\n",
        "            ['write_cache_miss', 'write_iops']]\n",
        "\n",
        "for k in range(len(features)):\n",
        "  print(features[k])\n",
        "  for x in features[k]:\n",
        "    print(x)\n"
      ],
      "execution_count": null,
      "outputs": []
    },
    {
      "cell_type": "code",
      "metadata": {
        "id": "iGTrcA4qzwpl"
      },
      "source": [
        "dftemp = df[['systemId', 'read_iops', 'read_cache_miss']]\n",
        "df_grouped = dftemp.groupby('systemId')\n",
        "\n",
        "ct = 0\n",
        "for group_name, df_group in df_grouped:\n",
        "  ct = ct + 1\n",
        "  if ct>2: \n",
        "    break\n",
        "  \n",
        "  df_group = df_group.sort_index()\n",
        "\n",
        "  print(f'\\n\\n ****** {group_name} , shape={df_group.shape}****') \n",
        "  print(df_group.head())\n",
        "\n",
        "  stat = df_group.resample('W', origin='start').sum()\n",
        "  print(f'\\n ****** {group_name} sum, shape={stat.shape}****') \n",
        "  print(stat)\n",
        "\n",
        "  stat = df_group.resample('W', origin='start').median()\n",
        "  print(f'\\n ****** {group_name} median, shape={stat.shape}****') \n",
        "  print(stat)\n",
        "    \n",
        "  stat = df_group.resample('W', origin='start').std()\n",
        "  print(f'\\n ****** {group_name} std, shape={stat.shape}****') \n",
        "  print(stat)\n"
      ],
      "execution_count": null,
      "outputs": []
    },
    {
      "cell_type": "code",
      "metadata": {
        "id": "X95XEn3P-NBO"
      },
      "source": [
        "# normalization\n",
        "# defiine columns_to_scale\n",
        "df_plot = df.copy()\n",
        "\n",
        "columns_to_scale = list(df_plot.columns)\n",
        "columns_to_scale.remove('systemId')\n",
        "columns_to_scale.remove('model_type')\n",
        "print(columns_to_scale)\n"
      ],
      "execution_count": null,
      "outputs": []
    },
    {
      "cell_type": "code",
      "metadata": {
        "id": "UeCApQCy_FfT"
      },
      "source": [
        "from sklearn.preprocessing import StandardScaler, LabelEncoder\n",
        "autoscaler = StandardScaler()\n",
        "df_plot[columns_to_scale] = autoscaler.fit_transform(df_plot[columns_to_scale])\n"
      ],
      "execution_count": null,
      "outputs": []
    },
    {
      "cell_type": "code",
      "metadata": {
        "id": "sHkU25Ue_rzP"
      },
      "source": [
        "df_plot.head()"
      ],
      "execution_count": null,
      "outputs": []
    },
    {
      "cell_type": "code",
      "metadata": {
        "id": "u1dscO5lqEYv"
      },
      "source": [
        "from sklearn.preprocessing import LabelEncoder\n",
        "# add labelencoder to systemId and model_type\n",
        "label_encoder1 = LabelEncoder()\n",
        "df_plot['systemId'] = label_encoder1.fit_transform(df_plot['systemId'])\n",
        "label_encoder2 = LabelEncoder()\n",
        "df_plot['model_type'] = label_encoder2.fit_transform(df_plot['model_type'])"
      ],
      "execution_count": null,
      "outputs": []
    },
    {
      "cell_type": "code",
      "metadata": {
        "id": "FbdtFZOv21OA"
      },
      "source": [
        "df_plot.head()\n",
        "columns_to_scale = df_plot.columns\n",
        "print(columns_to_scale)"
      ],
      "execution_count": null,
      "outputs": []
    },
    {
      "cell_type": "code",
      "metadata": {
        "id": "Cb5g-ThshpIg"
      },
      "source": [
        "plot_features = df_plot[columns_to_scale]\n",
        "plot_features.index = df_plot['timestamp_seconds']\n",
        "_ = plot_features.plot(subplots=True)\n",
        "fig = plt.gcf()\n",
        "fig.set_size_inches(18.5, 10.5)\n"
      ],
      "execution_count": null,
      "outputs": []
    },
    {
      "cell_type": "code",
      "metadata": {
        "id": "H_9uStkFBSk4"
      },
      "source": [
        "samples = int(24*60/5)\n",
        "plot_features = df_plot[columns_to_scale][:samples]\n",
        "plot_features.index = df_plot['timestamp_seconds'][:samples]\n",
        "_ = plot_features.plot(subplots=True)\n",
        "fig = plt.gcf()\n",
        "fig.set_size_inches(18.5, 10.5)"
      ],
      "execution_count": null,
      "outputs": []
    },
    {
      "cell_type": "code",
      "metadata": {
        "id": "0_mF9RDClDYa"
      },
      "source": [
        "# sample period is 5 min\n",
        "sample_period = 5\n",
        "plot_len = int(24*60/5)\n",
        "plot_features = df[columns_to_scale][:plot_len]\n",
        "plot_features.index = df_temp_sysId['timestamp_seconds'][:plot_len]\n",
        "_ = plot_features.plot(subplots=True)\n",
        "fig = plt.gcf()\n",
        "fig.set_size_inches(18.5, 10.5)"
      ],
      "execution_count": null,
      "outputs": []
    },
    {
      "cell_type": "code",
      "metadata": {
        "id": "Zz4m1j8LrneQ"
      },
      "source": [
        "\n",
        "boxplot = df_temp_sysId.boxplot(column=columns_to_scale)\n",
        "fig = plt.gcf()\n",
        "fig.set_size_inches(18.5, 10.5)\n"
      ],
      "execution_count": null,
      "outputs": []
    },
    {
      "cell_type": "code",
      "metadata": {
        "id": "aq-oR6Synoq9"
      },
      "source": [
        ""
      ],
      "execution_count": null,
      "outputs": []
    },
    {
      "cell_type": "code",
      "metadata": {
        "id": "RQm1OUQ6wDkt"
      },
      "source": [
        ""
      ],
      "execution_count": null,
      "outputs": []
    },
    {
      "cell_type": "code",
      "metadata": {
        "id": "LLLwCg1lo2qO"
      },
      "source": [
        "sample_period = 5\n",
        "plot_len = int(2*24*60/5) # plot 2 day\n",
        "\n",
        "plt.plot(np.array(df_temp_sysId['Day sin'])[:plot_len], '+')\n",
        "plt.plot(np.array(df_temp_sysId['Day cos'])[:plot_len], '+')\n",
        "plt.xlabel('Time [h]')\n",
        "plt.title('Time of day signal')"
      ],
      "execution_count": null,
      "outputs": []
    },
    {
      "cell_type": "code",
      "metadata": {
        "id": "2SlxA04JpkXD"
      },
      "source": [
        "plt.plot(np.array(df_temp_sysId['Year sin'])[:plot_len], '+')\n",
        "plt.plot(np.array(df_temp_sysId['Year cos'])[:plot_len], '+')\n",
        "plt.xlabel('Time [h]')\n",
        "plt.title('Time of Year signal')"
      ],
      "execution_count": null,
      "outputs": []
    },
    {
      "cell_type": "code",
      "metadata": {
        "id": "rmM33BT-oV9B"
      },
      "source": [
        "df_temp_sysId.describe().T\n"
      ],
      "execution_count": null,
      "outputs": []
    },
    {
      "cell_type": "code",
      "metadata": {
        "id": "V74KW2qUp1Bm"
      },
      "source": [
        "# fft plot TODO: for time ordered and single systemId \n",
        "import tensorflow as tf\n",
        "fft = tf.signal.rfft(df_temp_sysId['cpu_utilization'])\n",
        "f_per_dataset = np.arange(0, len(fft))\n",
        "\n",
        "n_samples_h = len(df_temp_sysId['cpu_utilization'])\n",
        "hours_per_year = 24*365.2524\n",
        "years_per_dataset = n_samples_h/(hours_per_year)\n",
        "\n",
        "f_per_year = f_per_dataset/years_per_dataset\n",
        "plt.step(f_per_year, np.abs(fft))\n",
        "plt.xscale('log')\n",
        "#plt.ylim(0, 400000)\n",
        "plt.xlim([0.1, max(plt.xlim())])\n",
        "plt.xticks([1, 365.2524], labels=['1/Year', '1/day'])\n",
        "_ = plt.xlabel('Frequency (log scale)')\n"
      ],
      "execution_count": null,
      "outputs": []
    },
    {
      "cell_type": "code",
      "metadata": {
        "id": "DBkUWwHglsuq"
      },
      "source": [
        "cols_std =  ['read_iops', 'read_cache_miss']\n",
        "cols_rolling_mean = ['write_throughput', 'write_iosz']\n",
        "cols_exp_mvavg = ['write_cache_miss', 'write_iops']\n",
        "\n",
        "group_by_systemId = df_temp.groupby(\"systemId\") #, axis=\"columns\"\n",
        "group = group_by_systemId.get_group('sys1')\n",
        "group = group[['timestamp_seconds', 'write_throughput', 'write_iosz']]\n",
        "\n",
        "print(f'len ={len(group)}')\n",
        "group.head(8)\n",
        "\n"
      ],
      "execution_count": null,
      "outputs": []
    },
    {
      "cell_type": "code",
      "metadata": {
        "id": "1v2tIIpH30oO"
      },
      "source": [
        ""
      ],
      "execution_count": null,
      "outputs": []
    },
    {
      "cell_type": "code",
      "metadata": {
        "id": "rpwL0lf1304n"
      },
      "source": [
        ""
      ],
      "execution_count": null,
      "outputs": []
    },
    {
      "cell_type": "code",
      "metadata": {
        "id": "YMvlqIcDwVoC"
      },
      "source": [
        "group = group.sort_values(by='timestamp_seconds')\n",
        "group.head(8)"
      ],
      "execution_count": null,
      "outputs": []
    },
    {
      "cell_type": "code",
      "metadata": {
        "id": "pRDklfCQwcGf"
      },
      "source": [
        "tmp = group.rolling(2).mean()\n",
        "tmp.head(8)"
      ],
      "execution_count": null,
      "outputs": []
    },
    {
      "cell_type": "code",
      "metadata": {
        "id": "_tkAAvJ2wKDP"
      },
      "source": [
        "group['rmean_write_throughput'] = tmp['write_throughput']\n",
        "group['rmean_write_iosz'] = tmp['write_iosz']\n",
        "group.head(8)"
      ],
      "execution_count": null,
      "outputs": []
    },
    {
      "cell_type": "code",
      "metadata": {
        "id": "aVK4DMG6E5DQ"
      },
      "source": [
        "\n",
        "if 0:\n",
        "  summary = []\n",
        "  for name, group in group_by_systemId:\n",
        "    summary.append(\n",
        "      {\n",
        "        name : \n",
        "          {\n",
        "            'length': len(group),\n",
        "            'min': group['read_iops'].min(),\n",
        "            'max': group['read_iops'].max(),\n",
        "            'mean': group['read_iops'].mean(),\n",
        "            'std': group['read_iops'].std(),\n",
        "            'median': group['read_iops'].median()\n",
        "          }\n",
        "      }\n",
        "    )\n",
        "  if 0:\n",
        "    print(f'name={name}, len = {len(group)}\\n')\n",
        "    print('systemId uniques=', np.unique(group['systemId']))\n",
        "    #print(f'group={group.head(2)}\\n')\n",
        "    print(f'summary={summary}')\n"
      ],
      "execution_count": null,
      "outputs": []
    },
    {
      "cell_type": "markdown",
      "metadata": {
        "id": "dpcmd8lhQwDh"
      },
      "source": [
        "## Q3. Generate a random distribution of samples from data such that each day should contain 12 continous samples and start of the sample should be random with that day"
      ]
    },
    {
      "cell_type": "code",
      "metadata": {
        "id": "IyzNxQmp3OkJ"
      },
      "source": [
        "df.columns"
      ],
      "execution_count": null,
      "outputs": []
    },
    {
      "cell_type": "code",
      "metadata": {
        "id": "XBnxojpJ3j8R"
      },
      "source": [
        "# note timestamp_seconds is converted to sin cos of day hour so not used here\n",
        "df_X = df[['systemId', 'model_type']].copy()\n",
        "\n",
        "print(f'df_X: {df_X.columns}')\n",
        "print(f'df: {df.columns}')\n",
        "\n",
        "print(f'y: {df_Y}')\n",
        "print(df['cpu_utilization'])\n",
        "\n"
      ],
      "execution_count": null,
      "outputs": []
    },
    {
      "cell_type": "code",
      "metadata": {
        "id": "GyMd1Yi66lAc"
      },
      "source": [
        "# one-hot-encoder of systemId and model_type\n",
        "from sklearn.preprocessing import LabelEncoder\n",
        "from sklearn.preprocessing import OneHotEncoder\n",
        "\n",
        "X = df_X.values\n",
        "X = X.astype(str)\n",
        "\n",
        "print(f'X={X[:3, :]}')\n",
        "print(f'Y={Y[:3]}')\n",
        "print(f'X shape={X.shape}')\n",
        "print(f'Y shape={Y.shape}')"
      ],
      "execution_count": null,
      "outputs": []
    },
    {
      "cell_type": "code",
      "metadata": {
        "id": "AsThehZX7zeB"
      },
      "source": [
        "# encode string input values as integers\n",
        "encoded_x = None\n",
        "for i in range(0, X.shape[1]):\n",
        "\tlabel_encoder = LabelEncoder()\n",
        "\tfeature = label_encoder.fit_transform(X[:,i])\n",
        "\tfeature = feature.reshape(X.shape[0], 1)\n",
        "\tonehot_encoder = OneHotEncoder(sparse=False, categories='auto')\n",
        "\tfeature = onehot_encoder.fit_transform(feature)\n",
        "\tprint(f'i={i}, shape={feature.shape}')\n",
        "\tif encoded_x is None:\n",
        "\t\tencoded_x = feature\n",
        "\telse:\n",
        "\t\tencoded_x = np.concatenate((encoded_x, feature), axis=1)\n",
        "  \n",
        "print(\"X shape: : \", encoded_x.shape)"
      ],
      "execution_count": null,
      "outputs": []
    },
    {
      "cell_type": "code",
      "metadata": {
        "id": "6qOasz4I9HQ7"
      },
      "source": [
        "df_X = df.copy()\n",
        "features_added_X = ['timestamp_seconds', 'cpu_utilization', 'systemId', 'model_type']\n",
        "for i in features_added_X:\n",
        "  del df_X[i]\n"
      ],
      "execution_count": null,
      "outputs": []
    },
    {
      "cell_type": "code",
      "metadata": {
        "id": "CSBTdVSU_Wj4"
      },
      "source": [
        "print(df_X.columns)\n",
        "print(df_X.shape)\n",
        "print(encoded_x.shape)\n",
        "df_X.head()\n"
      ],
      "execution_count": null,
      "outputs": []
    },
    {
      "cell_type": "code",
      "metadata": {
        "id": "hGQ2QDUA-UQC"
      },
      "source": [
        "# Now encoded_x  contains the (27 for systemId) + (3 for model) = 30 categorical columns \n",
        "# Here, concatenate X's non-categorical 12 columns df_X with encoded_x to get a total of 42 columns\n",
        "X = np.concatenate((encoded_x, df_X.values), axis=1)\n",
        "print(\"X shape: : \", X.shape)\n",
        "\n"
      ],
      "execution_count": null,
      "outputs": []
    },
    {
      "cell_type": "code",
      "metadata": {
        "id": "PEpxO2G7EBmY"
      },
      "source": [
        "Y = df['cpu_utilization'].values\n",
        "print(\"Y shape: : \", Y.shape)\n"
      ],
      "execution_count": null,
      "outputs": []
    },
    {
      "cell_type": "markdown",
      "metadata": {
        "id": "_kX575JMFcdg"
      },
      "source": [
        "## Q4. Fit a linear regression to this data with y as \"cpu_utilization\" column. Comment on the fit of the model"
      ]
    },
    {
      "cell_type": "code",
      "metadata": {
        "colab": {
          "background_save": true
        },
        "id": "y62yuBBoFkLN"
      },
      "source": [
        "CV_FOLDS = 2\n",
        "# Regression\n",
        "from keras.models import Sequential\n",
        "from keras.layers import Dense\n",
        "from keras.wrappers.scikit_learn import KerasRegressor\n",
        "from sklearn.model_selection import cross_val_score\n",
        "from sklearn.model_selection import KFold\n",
        "from sklearn.preprocessing import StandardScaler\n",
        "from sklearn.pipeline import Pipeline\n",
        "\n",
        "# define base model\n",
        "def baseline_model():\n",
        "\t# create model\n",
        "\tmodel = Sequential()\n",
        "\tmodel.add(Dense(13, input_dim=X.shape[1], kernel_initializer='normal', activation='relu'))\n",
        "\tmodel.add(Dense(1, kernel_initializer='normal'))\n",
        "\t# Compile model\n",
        "\tmodel.compile(loss='mean_squared_error', optimizer='adam')\n",
        "\treturn model\n",
        "  \n",
        "# evaluate model with standardized dataset\n",
        "estimators = []\n",
        "estimators.append(('standardize', StandardScaler()))\n",
        "estimators.append(('mlp', KerasRegressor(build_fn=baseline_model, epochs=2, batch_size=5, verbose=0)))\n",
        "pipeline = Pipeline(estimators)\n",
        "kfold = KFold(n_splits = CV_FOLDS)\n",
        "results = cross_val_score(pipeline, X, Y, cv=kfold)\n",
        "print(\"Standardized: %.2f (%.2f) MSE\" % (results.mean(), results.std()))"
      ],
      "execution_count": null,
      "outputs": []
    },
    {
      "cell_type": "markdown",
      "metadata": {
        "id": "_zREitEanNuH"
      },
      "source": [
        "## Q5. Create a column where cpu_utilization < 20 is 0 and cpu_utilization >= 20 as 1. Using this newly created column build a logistic regression. Commment on the evaluation of the model."
      ]
    },
    {
      "cell_type": "code",
      "metadata": {
        "id": "Twy9oe8xnNRM"
      },
      "source": [
        ""
      ],
      "execution_count": null,
      "outputs": []
    },
    {
      "cell_type": "code",
      "metadata": {
        "id": "8bjufSXFnND8"
      },
      "source": [
        ""
      ],
      "execution_count": null,
      "outputs": []
    },
    {
      "cell_type": "code",
      "metadata": {
        "id": "33Bd9EmonM2_"
      },
      "source": [
        ""
      ],
      "execution_count": null,
      "outputs": []
    },
    {
      "cell_type": "markdown",
      "metadata": {
        "id": "bWPq13WoFkwb"
      },
      "source": [
        "## Q6. Fit a simple decision tree regressor to this data. Comment about the fit of the model"
      ]
    },
    {
      "cell_type": "code",
      "metadata": {
        "id": "Cm-XHcuoFzD9"
      },
      "source": [
        ""
      ],
      "execution_count": null,
      "outputs": []
    },
    {
      "cell_type": "markdown",
      "metadata": {
        "id": "ISHSD3FTQV2H"
      },
      "source": [
        "## Q7. Fit a Random forest regressor. Compare this with simple dicision tree. If Random forest is better then why"
      ]
    },
    {
      "cell_type": "code",
      "metadata": {
        "id": "Qq5mWNf3QkUD"
      },
      "source": [
        ""
      ],
      "execution_count": null,
      "outputs": []
    },
    {
      "cell_type": "markdown",
      "metadata": {
        "id": "4_oc59AaQl_2"
      },
      "source": [
        "## Q8. How do improve the accuracy of Random forest regressor"
      ]
    },
    {
      "cell_type": "code",
      "metadata": {
        "id": "UPz1m2MCQs5C"
      },
      "source": [
        ""
      ],
      "execution_count": null,
      "outputs": []
    },
    {
      "cell_type": "code",
      "metadata": {
        "id": "el_i1OMb9Gmh"
      },
      "source": [
        ""
      ],
      "execution_count": null,
      "outputs": []
    },
    {
      "cell_type": "markdown",
      "metadata": {
        "id": "o1BGrdNA8gSE"
      },
      "source": [
        "## Q9. Cluster the input variables using KMeans and GMM.\n",
        "       \n",
        "1.   Draw the contour plots\n",
        "2.   Explain the hyper-parameters you choose and why?\n",
        "\n"
      ]
    },
    {
      "cell_type": "code",
      "metadata": {
        "id": "auoYiJQXTNNW"
      },
      "source": [
        "df.plot(subplots=True)"
      ],
      "execution_count": null,
      "outputs": []
    }
  ]
}