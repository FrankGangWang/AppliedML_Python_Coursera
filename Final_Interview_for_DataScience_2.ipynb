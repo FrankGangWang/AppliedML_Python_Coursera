{
  "nbformat": 4,
  "nbformat_minor": 0,
  "metadata": {
    "colab": {
      "name": "Final Interview for DataScience - 2.ipynb",
      "provenance": [],
      "collapsed_sections": [],
      "include_colab_link": true
    },
    "kernelspec": {
      "display_name": "Python 3",
      "name": "python3"
    }
  },
  "cells": [
    {
      "cell_type": "markdown",
      "metadata": {
        "id": "view-in-github",
        "colab_type": "text"
      },
      "source": [
        "<a href=\"https://colab.research.google.com/github/FrankGangWang/AppliedML_Python_Coursera/blob/master/Final_Interview_for_DataScience_2.ipynb\" target=\"_parent\"><img src=\"https://colab.research.google.com/assets/colab-badge.svg\" alt=\"Open In Colab\"/></a>"
      ]
    },
    {
      "cell_type": "markdown",
      "metadata": {
        "id": "rqlyZk0Z-kf0"
      },
      "source": [
        "**Interview questions to test data science skills**\n",
        "\n",
        "---\n",
        "\n",
        "\n"
      ]
    },
    {
      "cell_type": "markdown",
      "metadata": {
        "id": "1aR3yaVg-6FC"
      },
      "source": [
        "# Let's load the data from public GitHub account"
      ]
    },
    {
      "cell_type": "code",
      "metadata": {
        "id": "zMU3MFw0-ZRS"
      },
      "source": [
        "import pandas as pd\n",
        "import numpy as np\n",
        "import datetime\n",
        "import math\n",
        "import matplotlib.pyplot as plt\n",
        "\n",
        "# load data\n",
        "df = pd.read_pickle(\"https://github.com/manjiler/interview_for_datascience/raw/master/interview_storage.pkl\")\n",
        "\n",
        "# add sorted datetime index\n",
        "df['timestamp_seconds'] = df.pop('timestamp')/1000\n",
        "df.set_index(pd.to_datetime(df['timestamp_seconds'], unit='s', origin='unix'), inplace=True)\n",
        "df.sort_index(inplace=True)\n",
        "\n",
        "# Define Constants\n",
        "SYSTEM_ID_SELECTED = ['sys1'] # ['sys1'] or ['All']\n",
        "TEST_SIZE = 0.2 # Not yet used\n",
        "USE_TIME_TRANSFORMED = True \n",
        "USE_TIME_STAMP = True\n",
        "\n",
        "# We separately process sub-sets of columns and concatenate them in a numpy array called data \n",
        "target_col = ['cpu_utilization']\n",
        "numerical_transform_cols = ['read_cache_miss', 'write_cache_miss', 'read_iops', 'write_iops',\n",
        "                            'read_throughput', 'write_throughput', 'read_iosz', 'write_iosz']\n",
        "time_col = ['timestamp_seconds']\n",
        "time_transformed_cols = ['Week_Sin', 'Week_Cos', 'Day_Sin', 'Day_Cos', 'Hour_Sin', 'Hour_Cos']\n",
        "cols_to_encode = ['systemId', 'model_type']\n",
        "\n",
        "#AS timestamp_seconds is appended after numerical_transform_cols are added to data\n",
        "# As feature selection can be RFE thus standarize/normalize data first;\n",
        "# Feature selection also cause time poition dymanic thus need be decided after all feature selection\n",
        "Y_INDEX_DATA = 0 # index of target in data\n",
        "X_FIRST_INDEX_DATA = 1 # first index in data for X\n",
        "\n",
        "# time constants in seconds\n",
        "hour = 60*60\n",
        "day = 24*hour\n",
        "week = 7*day\n",
        "\n",
        "data_cols = []\n"
      ],
      "execution_count": null,
      "outputs": []
    },
    {
      "cell_type": "code",
      "metadata": {
        "id": "sbq-3PQo0XLj"
      },
      "source": [
        "# Basic checking\n",
        "# check NA and basic stats\n",
        "print(f'*** There are {df.isna().sum().sum()} NA data')\n",
        "df.describe()\n",
        "\n",
        "print(df.info())\n",
        "print(df.describe())\n",
        "\n",
        "print(df[df['systemId']==SYSTEM_ID_SELECTED[0]].loc[:, ['systemId', 'model_type', 'cpu_utilization']] .tail(5))\n",
        "print(df[df['systemId']==SYSTEM_ID_SELECTED[0]].loc[:, ['systemId', 'model_type', 'cpu_utilization']] .head(5))\n"
      ],
      "execution_count": null,
      "outputs": []
    },
    {
      "cell_type": "code",
      "metadata": {
        "id": "bUgoar1zmGno"
      },
      "source": [
        "#Run: check time series conditions\n",
        "def plot_time_y(df):\n",
        "  t = df[df['systemId']==SYSTEM_ID_SELECTED[0]].loc[:, ['timestamp_seconds']].values\n",
        "  t = t/60 # in minutes\n",
        "  num_figs= 4\n",
        "  plt.figure()\n",
        "\n",
        "  plt.subplot(num_figs,1,1)\n",
        "  plt.plot( t[1:], 'g-+')\n",
        "  plt.grid()\n",
        "  plt.ylabel('time in minutes')\n",
        "\n",
        "  t = t[1:]- t[0:-1]\n",
        "  plt.subplot(num_figs,1,2)\n",
        "  plt.plot(t)\n",
        "  plt.ylabel(f'time interval (minutes)')\n",
        "  plt.grid()\n",
        "\n",
        "  num_days = 7\n",
        "  stop_index = int(num_days*24*60/5)\n",
        "  plt.subplot(num_figs,1,3)\n",
        "  dftmp = df[df['systemId']==SYSTEM_ID_SELECTED[0]].loc[:, ['timestamp_seconds', 'cpu_utilization']]\n",
        "  plt.plot(dftmp.index, dftmp['cpu_utilization'].values)\n",
        "  plt.plot(dftmp.index[:stop_index], dftmp['cpu_utilization'].values[:stop_index], 'g-+')\n",
        "  plt.ylabel('cpu_utilization')\n",
        "  plt.grid()\n",
        "\n",
        "  plt.subplot(num_figs,1,4)\n",
        "  plt.plot(dftmp.index[:stop_index], dftmp['cpu_utilization'].values[:stop_index], '-+')\n",
        "  plt.ylabel('cpu_utilization')\n",
        "  plt.grid()\n",
        "\n",
        "  fig = plt.gcf()\n",
        "  fig.set_size_inches(18.5, num_figs*3)\n",
        "  fig.suptitle(f'time series check: min interval={t.min()}, max interval={t.max()}')\n",
        "  plt.tight_layout() # 2nd last step in fig setting\n",
        "  fig.subplots_adjust(top=0.88) # last in fig setting\n",
        "  plt.show()\n",
        "\n",
        "# plot y[n]-y[n-1] with decimation by D\n",
        "def plot_y_decimated(D, df):\n",
        "  dftmp = df[df['systemId']==SYSTEM_ID_SELECTED[0]].loc[:, ['timestamp_seconds', 'cpu_utilization']]\n",
        "  L = len(dftmp)\n",
        "  plt.figure()\n",
        "  plt.plot( dftmp.index[1:L:D], dftmp['cpu_utilization'][1:L:D].values, '-+', label='cpu_utilization')\n",
        "  plt.plot( dftmp.index[1:L:D], dftmp['cpu_utilization'][1:L:D].values - dftmp['cpu_utilization'][:L-1:D].values, 'g-+', label='delta cpu_utilization')\n",
        "  plt.legend()\n",
        "  fig = plt.gcf()\n",
        "  fig.set_size_inches(18.5, 3)\n",
        "  ax = plt.gca()\n",
        "  ax.grid()\n",
        "\n"
      ],
      "execution_count": 62,
      "outputs": []
    },
    {
      "cell_type": "code",
      "metadata": {
        "id": "DaEgR5YAMtw4",
        "colab": {
          "base_uri": "https://localhost:8080/",
          "height": 701
        },
        "outputId": "d4ef5666-b889-447c-f7eb-f07e9935b065"
      },
      "source": [
        "plot_time_y(df)  \n",
        "\n"
      ],
      "execution_count": 64,
      "outputs": [
        {
          "output_type": "display_data",
          "data": {
            "image/png": "[encoded data removed]",
            "text/plain": [
              "<Figure size 1332x864 with 4 Axes>"
            ]
          },
          "metadata": {
            "tags": [],
            "needs_background": "light"
          }
        }
      ]
    },
    {
      "cell_type": "code",
      "metadata": {
        "colab": {
          "base_uri": "https://localhost:8080/",
          "height": 208
        },
        "id": "nAmUnIhL0ID0",
        "outputId": "b59fd0c1-9b1d-46ab-ab11-2010b97f3162"
      },
      "source": [
        "D = 1*12 # decimate by D*5 mins\n",
        "plot_y_decimated(D, df)\n"
      ],
      "execution_count": 66,
      "outputs": [
        {
          "output_type": "display_data",
          "data": {
            "image/png": "[encoded data removed]",
            "text/plain": [
              "<Figure size 1332x216 with 1 Axes>"
            ]
          },
          "metadata": {
            "tags": [],
            "needs_background": "light"
          }
        }
      ]
    },
    {
      "cell_type": "markdown",
      "metadata": {
        "id": "QoT_jbnGLYHX"
      },
      "source": [
        "It is not a strict time series data as can be shown with time interval between adjacent samples are not always same (though mostly 5 minutes).\n",
        "So, it cannot be modelled with ARIMA-like methods.\n"
      ]
    },
    {
      "cell_type": "markdown",
      "metadata": {
        "id": "ANYv7bdPEdpX"
      },
      "source": [
        "## Now that the data is loaded. let's begin!!!\n",
        "\n",
        "# **About the data**\n",
        "\n",
        "---\n",
        "This is time series data for one month collected for N number of devices\n",
        "\n",
        "12 Columns\n",
        "\n",
        "systemId - Device name\n",
        "\n",
        "timestamp_seconds - epoch time when the sensor data was collected\n",
        "\n",
        "model_type - Different versions/release/model of the device (similar to mobile models)\n",
        "\n",
        "cpu_utilization - this percentage of how much the CPU is used on the device.\n",
        "\n",
        "read_cache_miss - Percentage of read that were not present in the Cache\n",
        "\n",
        "write_cache_miss - Percentage of write that were not present in the Cache\n",
        "\n",
        "read_iops -  Number of read IOs per second (Input/Output)\n",
        "\n",
        "write_iops -  Nummber of write IOs per second (Input/Output)\n",
        "\n",
        "read_throughput - the read bandwidth per second (Units kbps)\n",
        "\n",
        "write_throughput - the write bandwidth per second (Units kbps)\n",
        "\n",
        "read_iosz - the block size for read Input/Output operations\n",
        "\n",
        "write_iosz - the block size for write Input/Output operations\n",
        "\n",
        "\n",
        "y -> cpu_utilization\n",
        "\n"
      ]
    },
    {
      "cell_type": "markdown",
      "metadata": {
        "id": "yw8r7vKGEklC"
      },
      "source": [
        "## Q1. Do an EDA on the data, correlation plots, features that might be important for the modeling. Share your observations. Comment on how the data looks from modeling perspective"
      ]
    },
    {
      "cell_type": "code",
      "metadata": {
        "id": "Y479tMw7kg3v",
        "colab": {
          "base_uri": "https://localhost:8080/"
        },
        "outputId": "dd6ca60a-b7a1-40ee-f4e3-b96e77984a12"
      },
      "source": [
        "# RUN to add some artificial features maybe useful for classification\n",
        "# add sin/cos for day/hour\n",
        "# To help finding time periodicity (hourly/daily/weekly/monthly/yearly), \n",
        "#    add additional features like \"time of day/week\" by appling cos and sin to timestamp_seconds \n",
        "df['Hour_Sin'] = np.sin(df['timestamp_seconds'] * (2 * np.pi / hour))\n",
        "df['Hour_Cos'] = np.cos(df['timestamp_seconds'] * (2 * np.pi / hour))\n",
        "df['Day_Sin'] = np.sin(df['timestamp_seconds'] * (2 * np.pi / day))\n",
        "df['Day_Cos'] = np.cos(df['timestamp_seconds'] * (2 * np.pi / day))\n",
        "week_offset = 3*day # as epoch 0 is Thursday 1970-01-01, and leap seconds 23:59:60\n",
        "df['Week_Sin'] = np.sin((df['timestamp_seconds']+week_offset) * (2 * np.pi / week))\n",
        "df['Week_Cos'] = np.cos((df['timestamp_seconds']+week_offset) * (2 * np.pi / week))\n",
        "\n",
        "print(df.shape, df.index.shape, df.columns)\n"
      ],
      "execution_count": 70,
      "outputs": [
        {
          "output_type": "stream",
          "text": [
            "(175505, 18) (175505,) Index(['systemId', 'model_type', 'cpu_utilization', 'read_cache_miss',\n",
            "       'write_cache_miss', 'read_iops', 'write_iops', 'read_throughput',\n",
            "       'write_throughput', 'read_iosz', 'write_iosz', 'timestamp_seconds',\n",
            "       'Hour_Sin', 'Hour_Cos', 'Day_Sin', 'Day_Cos', 'Week_Sin', 'Week_Cos'],\n",
            "      dtype='object')\n"
          ],
          "name": "stdout"
        }
      ]
    },
    {
      "cell_type": "code",
      "metadata": {
        "id": "WhvgbIJNOakr"
      },
      "source": [
        "# plot utilities\n",
        "\n",
        "def plot_corr(df, systemId_selected):\n",
        "  import seaborn as sns\n",
        "  if systemId_selected[0] == 'All':\n",
        "    df_tmp = df\n",
        "  else:  \n",
        "    df_tmp = df[df['systemId']==systemId_selected[0]]\n",
        "  sns.set_theme(style=\"white\")\n",
        "  # Compute the correlation matrix\n",
        "  corr = df_tmp.corr()\n",
        "  # Generate a mask for the upper triangle\n",
        "  mask = np.triu(np.ones_like(corr, dtype=bool))\n",
        "\n",
        "  # Set up the matplotlib figure\n",
        "  f, ax = plt.subplots(figsize=(15, 9))\n",
        "\n",
        "  # Generate a custom diverging colormap\n",
        "  cmap = sns.diverging_palette(230, 20, as_cmap=True)\n",
        "  # Draw the heatmap with the mask and correct aspect ratio\n",
        "  sns.heatmap(corr, mask=mask, cmap=cmap, vmax=.9, center=0, square=True, linewidths=.5, cbar_kws={\"shrink\": .5})\n",
        "  f.suptitle(f'systemId {systemId_selected[0]}')\n",
        "\n",
        "  \n",
        "# plot histogram of systemId_selected\n",
        "def plot_df_hist(df_tmp, systemId_selected, title_str, cols, bins):\n",
        "  if systemId_selected[0] != 'All':\n",
        "    df_tmp = df_tmp[df_tmp['systemId']==systemId_selected[0]]\n",
        "  df_tmp = df_tmp[cols]\n",
        "  df_tmp.hist(bins=bins)\n",
        "  fig = plt.gcf()\n",
        "  fig.set_size_inches(18, 8)\n",
        "  fig.suptitle(f'{title_str}, systemId {systemId_selected[0]}')\n",
        "  plt.tight_layout()\n",
        "  fig.subplots_adjust(top=0.9)\n",
        "\n",
        "# utility hist2d plot xcols against target ycol\n",
        "def hist2d_plot(df_temp, systemId, xcols, ycol, xbins, ybins, vmax):\n",
        "  print(f\"hist2d_plot 1 Initial address of df_temp: {id(df_temp)}, shape={df_temp.shape}\")\n",
        "  if systemId != 'All': \n",
        "    df_temp = df[df['systemId']==systemId[0]]\n",
        "  print(f\"hist2d_plot 2 Initial address of df_temp: {id(df_temp)}, shape={df_temp.shape}\")\n",
        "  print(df_temp.shape)\n",
        "  len_x = len(xcols)\n",
        "  num_rows = math.ceil(math.sqrt(len_x))\n",
        "  num_cols = math.ceil(len_x/num_rows)\n",
        "  x_index = 0\n",
        "  for row in range(num_rows):\n",
        "    for col in range(num_cols):\n",
        "      if x_index == len_x:\n",
        "        break\n",
        "      plt.subplot(num_rows, num_cols, x_index+1)\n",
        "      plt.hist2d(df_temp[xcols[x_index]], df_temp[ycol], bins=[xbins, ybins], vmax=vmax) #\n",
        "      plt.colorbar()\n",
        "      plt.xlabel(xcols[x_index])\n",
        "      plt.ylabel(ycol)\n",
        "      x_index = x_index + 1\n",
        "  fig = plt.gcf()\n",
        "  fig.set_size_inches(18.5, 3*num_rows)\n",
        "  fig.suptitle(f'systemId={systemId}')\n",
        "  plt.tight_layout() # 2nd last step in fig setting\n",
        "  fig.subplots_adjust(top=0.88) # last in fig setting\n",
        "  plt.show()\n"
      ],
      "execution_count": null,
      "outputs": []
    },
    {
      "cell_type": "code",
      "metadata": {
        "id": "edyDh42I8B-T"
      },
      "source": [
        "# RUN: plot hist\n",
        "# Conclusion: a few columns are far from Gaussian distribution\n",
        "plot_corr(df, SYSTEM_ID_SELECTED)\n",
        "title_str = 'Before transformation!'\n",
        "plot_df_hist(df, SYSTEM_ID_SELECTED, title_str, df.columns, 30)\n",
        "#NOTE: Hour_Sin AND Hour_Cos have only 7 distinct bins at [0, 30, 60, 90, -30, -60, -90] degress as \n",
        "# as sampling perid=5 minutes, thus 2pi*5min/60min=pi/6=30degree"
      ],
      "execution_count": null,
      "outputs": []
    },
    {
      "cell_type": "markdown",
      "metadata": {
        "id": "tOwZ76uV-RDA"
      },
      "source": [
        "The histograms show that we need apply normalization and power transformation\n"
      ]
    },
    {
      "cell_type": "code",
      "metadata": {
        "id": "YtyLQmcWebEX"
      },
      "source": [
        "#Plot hist2d: xcols against target ycol\n",
        "vmax = 100; xbins = 50; ybins = 50\n",
        "ycol = 'cpu_utilization'\n",
        "xcols_group = [\n",
        "  ['read_cache_miss', 'write_cache_miss', 'read_iops', 'write_iops'],\n",
        "  ['read_throughput', 'write_throughput', 'read_iosz', 'write_iosz'],\n",
        "  ['Week_Sin', 'Week_Cos', 'Day_Sin', 'Day_Cos', 'Hour_Sin', 'Hour_Cos']]\n",
        "for xcols in xcols_group:\n",
        "  hist2d_plot(df, SYSTEM_ID_SELECTED, xcols, ycol, xbins, ybins, vmax)"
      ],
      "execution_count": null,
      "outputs": []
    },
    {
      "cell_type": "markdown",
      "metadata": {
        "id": "aX2yFbs00w8M"
      },
      "source": [
        "# Start preprocessing data: transform to Gaussian, scale, label ategorical featurures and one-hot encode;\n",
        "\n",
        "\n"
      ]
    },
    {
      "cell_type": "code",
      "metadata": {
        "id": "3vMT39fHGAh9"
      },
      "source": [
        "# All pre-processing functions\n",
        "# Transform to make data more Gaussian-like \n",
        "# Standarize to make close Norml(0, 1)\n",
        "# Only to numerical_transform_cols, not for timestamp, categoricals\n",
        "def get_target_for_transform(df, systemId_selected, numerical_transform_cols, print_flag=False):\n",
        "  from sklearn.preprocessing import PowerTransformer\n",
        "  #from sklearn.preprocessing import QuantileTransformer\n",
        "  if systemId_selected[0] == 'All':\n",
        "    df_tmp = df[numerical_transform_cols]\n",
        "  else:  \n",
        "    df_tmp = df[df['systemId']==systemId_selected[0]][numerical_transform_cols]\n",
        "  if print_flag:\n",
        "    print(f'*** Inside get_target_for_transform(): df_tmp.shape={df_tmp.shape}')\n",
        "  # Start Transformation\n",
        "  data = df_tmp.values\n",
        "  return data\n",
        "\n",
        "# Transform to make data more Gaussian-like \n",
        "# Standarize to make close Norml(0, 1)\n",
        "# Only to numerical_transform_cols, not for timestamp, categoricals\n",
        "def transform_features(df, systemId_selected, numerical_transform_cols, print_flag=False):\n",
        "  from sklearn.preprocessing import PowerTransformer\n",
        "  #from sklearn.preprocessing import QuantileTransformer\n",
        "  if systemId_selected[0] == 'All':\n",
        "    df_tmp = df[numerical_transform_cols]\n",
        "  else:  \n",
        "    df_tmp = df[df['systemId']==systemId_selected[0]][numerical_transform_cols]\n",
        "  # Start Transformation\n",
        "  data = df_tmp.values\n",
        "  power = PowerTransformer(method='box-cox', standardize=True)\n",
        "  data = power.fit_transform(data)\n",
        "  if print_flag:\n",
        "    print(f'*** Inside transform_features(): df_tmp.shape={df_tmp.shape}')\n",
        "    print(f'  transform_features: {power.get_params(deep=True)}')\n",
        "    print(f'  power.lambdas_: {power.lambdas_}')\n",
        "  return data, power\n",
        "\n",
        "# RUN: LabelEncoder + OneHotEncoder for categorical columns\n",
        "# return np.array oflabel encoded data and encoders\n",
        "def label_encode(df_in, systemId_selected, cols_to_encode, print_flag=False):\n",
        "  from sklearn.preprocessing import LabelEncoder\n",
        "  from sklearn.preprocessing import OneHotEncoder\n",
        "  if systemId_selected[0] == 'All':\n",
        "    df = df_in\n",
        "  else:  \n",
        "    df = df_in[df_in['systemId']==systemId_selected[0]]\n",
        "  print(f'inside label_encode: systemId={systemId_selected}, df shape={df.shape}')\n",
        "  first_col = True\n",
        "  label_encoders = []\n",
        "  my_onehot_encoders = []\n",
        "  for col in cols_to_encode:\n",
        "    label_encoder = LabelEncoder()\n",
        "    X = df[col].values\n",
        "    X = label_encoder.fit_transform(X)\n",
        "    label_encoders.append({col:label_encoder})\n",
        "    X = X.reshape(X.shape[0], 1)\n",
        "    onehot_encoder = OneHotEncoder(sparse=False, categories='auto')\n",
        "    X = onehot_encoder.fit_transform(X)\n",
        "    if print_flag:\n",
        "      print(f'******Inside label_encode: just after my_OneHotEncoder: col={col}, X.shape={X.shape}')\n",
        "      print(f'******Inside label_encode: just after my_OneHotEncoder: col={col}, onehot_encoder={onehot_encoder}')\n",
        "    if first_col:\n",
        "      data = X\n",
        "      #print(f'first_col={first_col}, col={col}, X.shape={X.shape}, data.shape={data.shape}')\n",
        "      first_col = False\n",
        "    else:        \n",
        "      data = np.concatenate((data, X), axis=1)\n",
        "      #print(f'first_col={first_col}, col={col}, X.shape={X.shape}, data.shape={data.shape}')\n",
        "  return data, label_encoders, my_onehot_encoders \n",
        "\n",
        "def minmax_scaler_time(df, systemId_selected, cols):\n",
        "  from sklearn.preprocessing import MinMaxScaler\n",
        "  if systemId_selected[0] == 'All':\n",
        "    df_tmp = df[cols].values\n",
        "  else:  \n",
        "    df_tmp = df[df['systemId']==systemId_selected[0]][cols].values\n",
        "  minmax_scaler = MinMaxScaler()\n",
        "  df_tmp = minmax_scaler.fit_transform(df_tmp)\n",
        "  return df_tmp"
      ],
      "execution_count": 72,
      "outputs": []
    },
    {
      "cell_type": "markdown",
      "metadata": {
        "id": "geDYFuM9cMJB"
      },
      "source": [
        "Compare hists of each single systemId ('sys1' vs 'sys2', etc) and single systemId with hist of all systemIds 'All' case:\n",
        "1. each systemId has different hist patterns\n",
        "2. Hour_Sin and Hour_Cos show a pattern at certain times per hour\n"
      ]
    },
    {
      "cell_type": "markdown",
      "metadata": {
        "id": "fImgk3-41x9T"
      },
      "source": [
        "# Apply transforms and extract X, Y, x_cols;\n"
      ]
    },
    {
      "cell_type": "code",
      "metadata": {
        "id": "4htquO_NTH9p",
        "colab": {
          "base_uri": "https://localhost:8080/"
        },
        "outputId": "a933491e-c19d-49a4-828b-46888e820ce9"
      },
      "source": [
        "# RUN: apply transforms to df and extract X, Y, x_cols;\n",
        "\n",
        "# Step 1: transform AND standarization FOR numerical_transform_cols\n",
        "# Step 1.1: transform target Y\n",
        "# MUST first use numerical_transform_cols THEN use cols_to_encode\n",
        "# MUST NOT transform timestamp_seconds !!! \n",
        "from sklearn.preprocessing import PowerTransformer\n",
        "\n",
        "data_cols = []\n",
        "data = get_target_for_transform(df, SYSTEM_ID_SELECTED, target_col)\n",
        "target_transformer = PowerTransformer(method='box-cox', standardize=True)\n",
        "data = target_transformer.fit_transform(data)\n",
        "data_cols = data_cols + target_col\n",
        "\n",
        "print(f'After Y PowerTransformer, data shape={data.shape}, target_col len = {len(target_col)}, data_cols={len(data_cols)}')\n",
        "print(f'  target_transformer.get_params = : {target_transformer.get_params(deep=True)}')\n",
        "print(f'  target_transformer.lambdas_= {target_transformer.lambdas_}')\n",
        "\n",
        "# Step 1.2: transform AND standarization FOR numerical_transform_cols\n",
        "# MUST first use numerical_transform_cols THEN use cols_to_encode\n",
        "# MUST NOT transform timestamp_seconds !!! \n",
        "\n",
        "print(f'Before X numericals transformation:')\n",
        "print(f'  data shape = {data.shape}')\n",
        "print(f'  len of numerical_transform_cols = {len(numerical_transform_cols)}')\n",
        "data_new, numerical_X_transformer = transform_features(df, SYSTEM_ID_SELECTED, numerical_transform_cols)\n",
        "data_cols = data_cols + numerical_transform_cols\n",
        "data = np.concatenate((data, data_new), axis=1)\n",
        "print(f'After X numericals transformation:')\n",
        "print(f'  data shape={data.shape}')\n",
        "print(f'  data_cols len={len(data_cols)},\\n  data_cols={data_cols}')\n",
        "\n",
        "\n",
        "# process timestamp_seconds\n",
        "if USE_TIME_STAMP:\n",
        "  print(f'Before add new column {time_col}:\\n  data shape={data.shape},\\n  len time_col={len(time_col)}')\n",
        "  data_new = minmax_scaler_time(df, SYSTEM_ID_SELECTED, time_col)\n",
        "  data_cols = data_cols + time_col\n",
        "  data = np.concatenate((data, data_new), axis=1)\n",
        "  print(f'After add {time_col}:\\n  data shape={data.shape},\\n  len data_cols={len(data_cols)}')\n",
        "\n",
        "# RUN: MinMax timestamp_seconds, not StandardScaler\n",
        "# timestamp_seconds will be mapped to data[:,9] AND X[:,8]\n",
        "if USE_TIME_TRANSFORMED:\n",
        "  data_cols = data_cols + time_transformed_cols\n",
        "  data_new = minmax_scaler_time(df, SYSTEM_ID_SELECTED, time_transformed_cols)\n",
        "  print(f'Before add {len(time_transformed_cols)} columns {time_transformed_cols}:\\n  data shape={data.shape},\\n  data_new shape={data_new.shape}')\n",
        "  data = np.concatenate((data, data_new), axis=1)\n",
        "  print(f'After add time_transformed_cols:\\n  data shape={data.shape},\\n  data_cols ={data_cols}')\n",
        "\n",
        "\n",
        "# Add label encoder categorical columns (model_type only) (sysemId)\n",
        "# Note: This is only useful is model all systemIds together;\n",
        "# WARNING: only run once to avoid add the same columns more than 1 times\n",
        "\n",
        "data_new, label_encoders, my_onehot_encoders = label_encode(df, SYSTEM_ID_SELECTED, cols_to_encode)\n",
        "print(f'Before add {len(cols_to_encode)} columns {cols_to_encode}:\\n  data shape={data.shape},\\n  data_new shape={data_new.shape}')\n",
        "data = np.concatenate((data, data_new), axis=1)\n",
        "data_cols = data_cols + cols_to_encode\n",
        "\n",
        "print(f'After concatenate:\\n  data shape={data.shape}')\n",
        "print(f'  data_cols len={len(data_cols)},\\n  data_cols={data_cols}')\n",
        "\n",
        "X = data[:, X_FIRST_INDEX_DATA:]\n",
        "Y = data[:, Y_INDEX_DATA]\n",
        "x_cols = data_cols[1:]\n"
      ],
      "execution_count": 73,
      "outputs": [
        {
          "output_type": "stream",
          "text": [
            "After Y PowerTransformer, data shape=(7926, 1), target_col len = 1, data_cols=1\n",
            "  target_transformer.get_params = : {'copy': True, 'method': 'box-cox', 'standardize': True}\n",
            "  target_transformer.lambdas_= [0.07711959]\n",
            "Before X numericals transformation:\n",
            "  data shape = (7926, 1)\n",
            "  len of numerical_transform_cols = 8\n",
            "After X numericals transformation:\n",
            "  data shape=(7926, 9)\n",
            "  data_cols len=9,\n",
            "  data_cols=['cpu_utilization', 'read_cache_miss', 'write_cache_miss', 'read_iops', 'write_iops', 'read_throughput', 'write_throughput', 'read_iosz', 'write_iosz']\n",
            "Before add new column ['timestamp_seconds']:\n",
            "  data shape=(7926, 9),\n",
            "  len time_col=1\n",
            "After add ['timestamp_seconds']:\n",
            "  data shape=(7926, 10),\n",
            "  len data_cols=10\n",
            "Before add 6 columns ['Week_Sin', 'Week_Cos', 'Day_Sin', 'Day_Cos', 'Hour_Sin', 'Hour_Cos']:\n",
            "  data shape=(7926, 10),\n",
            "  data_new shape=(7926, 6)\n",
            "After add time_transformed_cols:\n",
            "  data shape=(7926, 16),\n",
            "  data_cols =['cpu_utilization', 'read_cache_miss', 'write_cache_miss', 'read_iops', 'write_iops', 'read_throughput', 'write_throughput', 'read_iosz', 'write_iosz', 'timestamp_seconds', 'Week_Sin', 'Week_Cos', 'Day_Sin', 'Day_Cos', 'Hour_Sin', 'Hour_Cos']\n",
            "inside label_encode: systemId=['sys1'], df shape=(7926, 18)\n",
            "Before add 2 columns ['systemId', 'model_type']:\n",
            "  data shape=(7926, 16),\n",
            "  data_new shape=(7926, 2)\n",
            "After concatenate:\n",
            "  data shape=(7926, 18)\n",
            "  data_cols len=18,\n",
            "  data_cols=['cpu_utilization', 'read_cache_miss', 'write_cache_miss', 'read_iops', 'write_iops', 'read_throughput', 'write_throughput', 'read_iosz', 'write_iosz', 'timestamp_seconds', 'Week_Sin', 'Week_Cos', 'Day_Sin', 'Day_Cos', 'Hour_Sin', 'Hour_Cos', 'systemId', 'model_type']\n"
          ],
          "name": "stdout"
        }
      ]
    },
    {
      "cell_type": "code",
      "metadata": {
        "id": "7SoypBGi0658",
        "colab": {
          "base_uri": "https://localhost:8080/"
        },
        "outputId": "f5e82cb0-5e26-44e4-d733-4a056ffaf772"
      },
      "source": [
        "# Run to check results in good shape \n",
        "dftemp = df[df['systemId']==SYSTEM_ID_SELECTED[0]]\n",
        "print(f' df with {SYSTEM_ID_SELECTED} shape = {dftemp.shape}\\n')\n",
        "del dftemp\n",
        "print(f' data.shape = {data.shape}, len(data_cols) = {len(data_cols)}\\n')\n",
        "print(f' len(x_cols)={len(x_cols)}, X.shape = {X.shape}, Y.shape = {Y.shape}\\n')\n",
        "print(f' data_cols = {data_cols}, \\n x_cols = {x_cols}\\n' )\n"
      ],
      "execution_count": 97,
      "outputs": [
        {
          "output_type": "stream",
          "text": [
            " df with ['sys1'] shape = (7926, 18)\n",
            "\n",
            " data.shape = (7926, 18), len(data_cols) = 18\n",
            "\n",
            " len(x_cols)=17, X.shape = (7926, 17), Y.shape = (7926,)\n",
            "\n",
            " data_cols = ['cpu_utilization', 'read_cache_miss', 'write_cache_miss', 'read_iops', 'write_iops', 'read_throughput', 'write_throughput', 'read_iosz', 'write_iosz', 'timestamp_seconds', 'Week_Sin', 'Week_Cos', 'Day_Sin', 'Day_Cos', 'Hour_Sin', 'Hour_Cos', 'systemId', 'model_type'], \n",
            " x_cols = ['read_cache_miss', 'write_cache_miss', 'read_iops', 'write_iops', 'read_throughput', 'write_throughput', 'read_iosz', 'write_iosz', 'timestamp_seconds', 'Week_Sin', 'Week_Cos', 'Day_Sin', 'Day_Cos', 'Hour_Sin', 'Hour_Cos', 'systemId', 'model_type']\n",
            "\n"
          ],
          "name": "stdout"
        }
      ]
    },
    {
      "cell_type": "code",
      "metadata": {
        "id": "4Lr_2nEAkkP5",
        "colab": {
          "base_uri": "https://localhost:8080/",
          "height": 335
        },
        "outputId": "c6329605-91b5-4381-e905-aeaa7649fa63"
      },
      "source": [
        "print(f'After add {time_col}:\\n  data shape={data.shape},\\n  len data_cols={len(data_cols)}')\n",
        "plt.subplot(2,1,1)\n",
        "plt.plot(data[:, data_cols.index('timestamp_seconds')])\n",
        "plt.subplot(2,1,2)\n",
        "plt.plot(data[:, data_cols.index('timestamp_seconds')], data[:, 0])\n"
      ],
      "execution_count": 77,
      "outputs": [
        {
          "output_type": "stream",
          "text": [
            "After add ['timestamp_seconds']:\n",
            "  data shape=(7926, 18),\n",
            "  len data_cols=18\n"
          ],
          "name": "stdout"
        },
        {
          "output_type": "execute_result",
          "data": {
            "text/plain": [
              "[<matplotlib.lines.Line2D at 0x7f6444a98dd0>]"
            ]
          },
          "metadata": {
            "tags": []
          },
          "execution_count": 77
        },
        {
          "output_type": "display_data",
          "data": {
            "image/png": "[encoded data removed]",
            "text/plain": [
              "<Figure size 432x288 with 2 Axes>"
            ]
          },
          "metadata": {
            "tags": [],
            "needs_background": "light"
          }
        }
      ]
    },
    {
      "cell_type": "code",
      "metadata": {
        "id": "i-tXQCqCxF4b",
        "colab": {
          "base_uri": "https://localhost:8080/",
          "height": 267
        },
        "outputId": "6b75e05f-0744-478b-fd7c-534fbb6ed38e"
      },
      "source": [
        "# check time transformations are all right\n",
        "plt.figure()\n",
        "index_to_plots = [1,3,5,7,8]\n",
        "L = len(index_to_plots)\n",
        "for k in range(L):\n",
        "  plt.subplot(L,1,k+1)\n",
        "  plt.plot(data[:, data_cols.index('timestamp_seconds')], data[:, data_cols.index('timestamp_seconds') + index_to_plots[k]],)\n"
      ],
      "execution_count": 78,
      "outputs": [
        {
          "output_type": "display_data",
          "data": {
            "image/png": "[encoded data removed]",
            "text/plain": [
              "<Figure size 432x288 with 5 Axes>"
            ]
          },
          "metadata": {
            "tags": [],
            "needs_background": "light"
          }
        }
      ]
    },
    {
      "cell_type": "code",
      "metadata": {
        "id": "IeNDWMD6jyqv"
      },
      "source": [
        "# Compare hist before/after transformation/scaling \n",
        "# Before transformation: hist\n",
        "title_str = 'Before transformation!'\n",
        "plot_df_hist(df, SYSTEM_ID_SELECTED, title_str, df.columns, 30)\n",
        "#NOTE: Hour_Sin AND Hour_Cos have only 7 distinct bins at [0, 30, 60, 90, -30, -60, -90] degress as \n",
        "# as sampling perid=5 minutes, thus 2pi*5min/60min=pi/6=30degree\n",
        "\n",
        "# After transformation: hist\n",
        "title_str = 'After transformation!'\n",
        "data_df = pd.DataFrame(data, columns=data_cols)\n",
        "plot_df_hist(data_df, ['All'], title_str, data_df.columns, 30)\n",
        "del data_df"
      ],
      "execution_count": null,
      "outputs": []
    },
    {
      "cell_type": "markdown",
      "metadata": {
        "id": "ayriUf62sfFV"
      },
      "source": [
        "Feature selection:\n",
        "1. correlation based\n",
        "2. L1 norm\n",
        "3. p-value"
      ]
    },
    {
      "cell_type": "code",
      "metadata": {
        "id": "daCEstTKvKjS"
      },
      "source": [
        ""
      ],
      "execution_count": null,
      "outputs": []
    },
    {
      "cell_type": "code",
      "metadata": {
        "id": "71mXegL8seAG"
      },
      "source": [
        "# RUN: feature selection based on correlation  \n",
        "# NOTE: this is done separately for each of systemId, not for all systemIds altogether\n",
        "#label encoder for model\n",
        "def select_feature_by_correlation(data, data_cols, target_col, corr_threshold):\n",
        "  df = pd.DataFrame(data, columns=data_cols)\n",
        "  corr = df.corr()\n",
        "  columns = np.full((corr.shape[0],), True, dtype=bool)\n",
        "  for i in range(corr.shape[0]):\n",
        "    for j in range(i+1, corr.shape[0]):\n",
        "      if corr.iloc[i,j] >= corr_threshold:\n",
        "        columns[j] = False\n",
        "  selected_columns = df.columns[columns]\n",
        "  removed_columns = [x for x in df.columns if x not in selected_columns]\n",
        "\n",
        "  print(f'df shape={df.shape}; corr shape={corr.shape};')\n",
        "  print(f'df.columns={df.columns}')\n",
        "  print(f'columns={columns}')\n",
        "  print(f'selected_columns={selected_columns}')\n",
        "  print(f'removed_columns={removed_columns}')\n",
        "  return selected_columns, removed_columns, corr\n",
        "\n"
      ],
      "execution_count": null,
      "outputs": []
    },
    {
      "cell_type": "code",
      "metadata": {
        "id": "3YeRXt7Ewd0c"
      },
      "source": [
        "# RUN: feature selection based on correlation  \n",
        "CORR_THRESHOLD_FEATURE_SELECTION = 0.8;\n",
        "pd.set_option('display.max_columns', None)\n",
        "\n",
        "#corr of X\n",
        "selected_columns, removed_columns, corr_X = select_feature_by_correlation(X, x_cols, target_col, CORR_THRESHOLD_FEATURE_SELECTION)    \n"
      ],
      "execution_count": null,
      "outputs": []
    },
    {
      "cell_type": "code",
      "metadata": {
        "id": "2e2vpiv_xEW7"
      },
      "source": [
        "# corr of data\n",
        "_, _, corr_data = select_feature_by_correlation(data, data_cols, target_col, CORR_THRESHOLD_FEATURE_SELECTION)    "
      ],
      "execution_count": null,
      "outputs": []
    },
    {
      "cell_type": "code",
      "metadata": {
        "id": "t5oT80EIxvV8"
      },
      "source": [
        "corr_X"
      ],
      "execution_count": null,
      "outputs": []
    },
    {
      "cell_type": "code",
      "metadata": {
        "id": "_T93dvZn7a0u"
      },
      "source": [
        "# plot 'read_throughput', 'read_cache_miss'\n",
        "cols_correlated = ['read_throughput', 'read_cache_miss', 'read_iops', 'write_iops']\n",
        "cols_correlated_index = [data_cols.index(x) for x in cols_correlated]\n",
        "\n",
        "print(len(data_cols), data.shape)\n",
        "print(cols_correlated_index, data_cols)\n",
        "plt.figure()\n",
        "plt.plot(data[:, cols_correlated_index[0]], data[:, cols_correlated_index[1]], '+')\n",
        "\n",
        "plt.figure()\n",
        "plt.plot(data[:, cols_correlated_index[0]], data[:, cols_correlated_index[2]], '+')\n",
        "\n",
        "plt.figure()\n",
        "plt.plot(data[:, cols_correlated_index[0]], data[:, cols_correlated_index[3]], '+')\n",
        "\n",
        "plt.figure()\n",
        "plt.plot(data[:, cols_correlated_index[2]], data[:, cols_correlated_index[3]], '+')\n"
      ],
      "execution_count": null,
      "outputs": []
    },
    {
      "cell_type": "code",
      "metadata": {
        "id": "SauEIOzh6PbF"
      },
      "source": [
        "# list all sklearn allowed scoring \n",
        "import sklearn\n",
        "sorted(sklearn.metrics.SCORERS.keys())\n"
      ],
      "execution_count": null,
      "outputs": []
    },
    {
      "cell_type": "code",
      "metadata": {
        "id": "HygDlXOKAXK2"
      },
      "source": [
        "# make a regression prediction with an RFE pipeline\n",
        "# Observation: Features are selected almost according to their correlation with target\n",
        "from numpy import mean\n",
        "from numpy import std\n",
        "from sklearn.datasets import make_regression\n",
        "from sklearn.feature_selection import RFE\n",
        "from sklearn.tree import DecisionTreeRegressor\n",
        "from sklearn.pipeline import Pipeline\n",
        "# create pipeline\n",
        "for num_features in range(2,17):\n",
        "  rfe = RFE(estimator=DecisionTreeRegressor(), n_features_to_select=num_features)\n",
        "  #model = DecisionTreeRegressor()\n",
        "  #pipeline = Pipeline(steps=[('s',rfe),('m',model)])\n",
        "  # fit the model on all available data\n",
        "  #pipeline.fit(X, Y)\n",
        "  rfe.fit(X, Y)\n",
        "  scores = rfe.score(X, Y)\n",
        "  selected_features = rfe.get_support(indices=True)\n",
        "  print(num_features, selected_features, scores)\n",
        "  selected_feature_str = [x_cols[x] for x in selected_features]\n",
        "  print(f'  {selected_feature_str}')\n",
        "  #print(f\"  {corr_data.loc[selected_feature_str, target_col[0]]}\")\n"
      ],
      "execution_count": null,
      "outputs": []
    },
    {
      "cell_type": "code",
      "metadata": {
        "id": "kimaSZmqwCgN"
      },
      "source": [
        "# Start RFE feature selection; \n",
        "# Input: X, Y, num_features_to_select\n",
        "NUM_SPLITS = 10\n",
        "\n",
        "num_features_to_select = [12,13]\n",
        "# evaluate RFE for regression\n",
        "from numpy import mean\n",
        "from numpy import std\n",
        "from sklearn.datasets import make_regression\n",
        "from sklearn.model_selection import cross_val_score\n",
        "from sklearn.feature_selection import RFE\n",
        "from sklearn.tree import DecisionTreeRegressor\n",
        "from sklearn.pipeline import Pipeline\n",
        "from sklearn.model_selection import KFold\n",
        "\n",
        "# get a list of models to evaluate\n",
        "def get_models():\n",
        "\tmodels = dict()\n",
        "\tfor i in range(num_features_to_select[0], num_features_to_select[1]):\n",
        "\t\trfe = RFE(estimator=DecisionTreeRegressor(), n_features_to_select=i)\n",
        "\t\tmodel = DecisionTreeRegressor()\n",
        "\t\tmodels[str(i)] = Pipeline(steps=[('s',rfe),('m',model)])\n",
        "\treturn models\n",
        "\n",
        "# evaluate a give model using cross-validation\n",
        "def evaluate_model(model, X, y):\n",
        "  #cv = RepeatedStratifiedKFold(n_splits=10, n_repeats=3, random_state=1)\n",
        "  kfold = KFold(n_splits = NUM_SPLITS) # shuffle=False\n",
        "  scores = cross_val_score(model, X, y, scoring='neg_mean_squared_error', \n",
        "                           cv=kfold, n_jobs=-1, error_score='raise')\n",
        "  return scores\n",
        "\n",
        "# get the models to evaluate\n",
        "models = get_models()\n",
        "# evaluate the models and store results\n",
        "results, names = list(), list()\n",
        "for name, model in models.items():\n",
        "  scores = evaluate_model(model, X, Y)\n",
        "  results.append(scores)\n",
        "  names.append(name)\n",
        "  print('>%s %.3f (%.3f)' % (name, mean(scores), std(scores)))\n",
        "  #print(model.support_, model.ranking_)\n",
        "  print(model)\n",
        "# plot model performance for comparison\n",
        "plt.boxplot(results, labels=names, showmeans=True)\n",
        "plt.show()\n"
      ],
      "execution_count": null,
      "outputs": []
    },
    {
      "cell_type": "markdown",
      "metadata": {
        "id": "SmwqmTSlmWkp"
      },
      "source": [
        "Observation:\n",
        "1. read_throughput and read_cache_miss are highly correlated (0.862791);\n",
        "2. model_type and systemId are unrelated in case of single case systemId\n",
        "3. timestamps not contribute much\n",
        "4. transfomred times have some correlation with a few columns\n",
        "\n"
      ]
    },
    {
      "cell_type": "code",
      "metadata": {
        "id": "hfSUUplsnQ1Y"
      },
      "source": [
        "removed_columns = removed_columns + ['model_type', 'systemId']\n",
        "removed_columns"
      ],
      "execution_count": null,
      "outputs": []
    },
    {
      "cell_type": "code",
      "metadata": {
        "id": "Mv55QQPZrs-m"
      },
      "source": [
        "def remove_data_columns(data, data_cols, removed_columns):\n",
        "  data_index_remove = [data_cols.index(x) for x in removed_columns]\n",
        "  print(f'data_index_remove = {data_index_remove}')\n",
        "  data = np.delete(data, data_index_remove, axis=1)\n",
        "  data_cols_updated = [ x for x in data_cols if x not in removed_columns]\n",
        "  print(data.shape, len(data_cols_updated), data_cols_updated)\n",
        "  return data_cols_updated, data  \n"
      ],
      "execution_count": null,
      "outputs": []
    },
    {
      "cell_type": "code",
      "metadata": {
        "id": "ETtdxZbwoRG2"
      },
      "source": [
        "# WARNING: only run this ONCE\n",
        "data_cols, data = remove_data_columns(data, data_cols, removed_columns)\n",
        "TIMESTAMP_INDEX_AFTER_FS = data_cols.index('timestamp_seconds')"
      ],
      "execution_count": null,
      "outputs": []
    },
    {
      "cell_type": "markdown",
      "metadata": {
        "id": "QquxwQdyOfVe"
      },
      "source": [
        "**Observation** \n",
        "After comparison Correlation plots of two cases:\n",
        "-- Case_SINGLE: Only extract a single systemId (here 'sys1') case; \n",
        "-- Case_ALL:  Use all systemIds as a whole;\n",
        "\n",
        "Conclusion:\n",
        "1. timestamp_seconds has low correlation with all the rest features; and is less useful directly;\n",
        "2. Day_Cos and Day_Sin have good correlation with a few columns and shall help prediction;\n",
        "\n",
        "\n",
        "Case_SINGLE clearly exposes a larger nuber of columns having high correlations with the target 'cpu_utilization' than  that of Case_ALL. \n",
        "\n",
        "1.1 columns having good correlation with 'cpu_utilization':\n",
        "Case_SINGLE: ['write_throughput', 'write_iops', 'read_cache_miss', 'read_throughput', 'read_iops', 'write_cache_miss']\n",
        "\n",
        "Case_ALL: ['read_throughput', 'read_cache_miss'] \n",
        "['write_cache_miss',  'read_iops', 'write_throughput', 'write_iosz' ]\n",
        "\n",
        "1.1 columns having good correlation with Day_sin:  \n",
        "Case_SINGLE ['write_cache_miss', 'read_iops', 'write_iosz' ]\n",
        "Case_ALL: None\n",
        "\n",
        "1.2 Day_Cos has good correlation with 2 columns:\n",
        "Case_SINGLE: ['write_iops', 'read_iosz']\n",
        "Case_ALL: None\n",
        "\n",
        "\n",
        "\n"
      ]
    },
    {
      "cell_type": "code",
      "metadata": {
        "id": "jFCeFr9XoPbA"
      },
      "source": [
        ""
      ],
      "execution_count": null,
      "outputs": []
    },
    {
      "cell_type": "code",
      "metadata": {
        "id": "LKmVk9usLmrc"
      },
      "source": [
        ""
      ],
      "execution_count": null,
      "outputs": []
    },
    {
      "cell_type": "code",
      "metadata": {
        "id": "2p0hETXoVx8X"
      },
      "source": [
        "# check outliers; conclusion: no apparent outliers\n",
        "df_stat = df.describe().T\n",
        "df_stat['50% to 75%'] = (df_stat['50%']/df_stat['75%'])\n",
        "df_stat['max to 75%'] = (df_stat['max']/df_stat['75%'])\n"
      ],
      "execution_count": null,
      "outputs": []
    },
    {
      "cell_type": "code",
      "metadata": {
        "id": "DlFAoZhAFnpP"
      },
      "source": [
        "# RUN: backwardElimination\n",
        "import statsmodels.api as sm\n",
        "def backwardElimination(x, Y, sl, columns):\n",
        "    print(f'x={x[:2,:]}')\n",
        "    print(f'Y={Y[:2]}')\n",
        "    print(f'len(x[0]) = {len(x[0])}')\n",
        "    print(f'x shape = {x.shape}')\n",
        "\n",
        "    numVars = len(x[0])\n",
        "    for i in range(0, numVars):\n",
        "        regressor_OLS = sm.OLS(Y, x).fit()\n",
        "        maxVar = max(regressor_OLS.pvalues).astype(float)\n",
        "        if maxVar > sl:\n",
        "            for j in range(0, numVars - i):\n",
        "                if (regressor_OLS.pvalues[j].astype(float) == maxVar):\n",
        "                    x = np.delete(x, j, 1)\n",
        "                    columns = np.delete(columns, j)\n",
        "        print(f'**** backwardElimination i={i}, p-values={regressor_OLS.pvalues}')\n",
        "        print(f'inside loop: x shape = {x.shape}')\n",
        "                    \n",
        "    print(regressor_OLS.summary())\n",
        "    return x, columns\n"
      ],
      "execution_count": null,
      "outputs": []
    },
    {
      "cell_type": "code",
      "metadata": {
        "id": "2TAeNfiAFJ_t"
      },
      "source": [
        "SL = 0.05\n",
        "data_modeled, selected_columns = backwardElimination(x_in, y_in, SL, selected_columns)"
      ],
      "execution_count": null,
      "outputs": []
    },
    {
      "cell_type": "markdown",
      "metadata": {
        "id": "mF5qqPmeErjG"
      },
      "source": [
        "## Q2. Group on systemId and one week's duration and then calculate following custom metrics\n",
        "- std/median on columns read_iops, read_cache_miss\n",
        "- rolling mean on columns write_throughput and write_iosz\n",
        "- exponential moving average on column write_cache_miss and write_iops\n"
      ]
    },
    {
      "cell_type": "code",
      "metadata": {
        "id": "kZx1kgeW-WMD"
      },
      "source": [
        "features = [['systemId', 'read_iops', 'read_cache_miss'],\n",
        "            ['systemId', 'write_throughput', 'write_iosz'],\n",
        "            ['systemId', 'write_cache_miss', 'write_iops']]\n",
        "\n"
      ],
      "execution_count": null,
      "outputs": []
    },
    {
      "cell_type": "code",
      "metadata": {
        "id": "e_ZRtJ9aEkSJ"
      },
      "source": [
        "dftemp = df[['systemId', 'read_iops', 'read_cache_miss']]\n",
        "metrics = []\n",
        "metrics_sum = dftemp.groupby('systemId').resample('W').sum()\n",
        "metrics_std = dftemp.groupby('systemId').resample('W').std()\n",
        "metrics_std = dftemp.groupby('systemId').resample('W').median()\n"
      ],
      "execution_count": null,
      "outputs": []
    },
    {
      "cell_type": "code",
      "metadata": {
        "id": "2zriHZDhU5aK"
      },
      "source": [
        "type(metrics_sum.index.values)\n",
        "\n"
      ],
      "execution_count": null,
      "outputs": []
    },
    {
      "cell_type": "code",
      "metadata": {
        "id": "YUwZyG-KWAmh"
      },
      "source": [
        "print(metrics_sum.index.values.shape)\n",
        "print(type(metrics_sum.index.values))\n",
        "print(type(metrics_sum.index.values[0]))\n",
        "print(type(metrics_sum.index.values[0][0]))\n",
        "\n",
        "print(metrics_sum.index.values.shape)\n",
        "print(metrics_sum.index.values[0])\n",
        "print(metrics_sum.index.values[:10][0])\n",
        "\n",
        "     \n"
      ],
      "execution_count": null,
      "outputs": []
    },
    {
      "cell_type": "code",
      "metadata": {
        "id": "viu_0x0EYT-R"
      },
      "source": [
        "print(metrics_sum.index.values[:10][:][:][0])\n"
      ],
      "execution_count": null,
      "outputs": []
    },
    {
      "cell_type": "code",
      "metadata": {
        "id": "3RWQa6oLGHhw"
      },
      "source": [
        "dftemp = df[['systemId', 'read_iops', 'read_cache_miss']]\n",
        "metrics = []\n",
        "metrics.append(dftemp.groupby('systemId').resample('W').sum())\n",
        "metrics.append(dftemp.groupby('systemId').resample('W').std())\n",
        "metrics.append(dftemp.groupby('systemId').resample('W').median())\n"
      ],
      "execution_count": null,
      "outputs": []
    },
    {
      "cell_type": "code",
      "metadata": {
        "id": "HKp7q1UuGWHF"
      },
      "source": [
        "metrics[2]['read_iops'].plot(subplots=True)"
      ],
      "execution_count": null,
      "outputs": []
    },
    {
      "cell_type": "code",
      "metadata": {
        "id": "mm5MN7DfSrfk"
      },
      "source": [
        "metrics[2].index.names\n",
        " \n",
        "\n"
      ],
      "execution_count": null,
      "outputs": []
    },
    {
      "cell_type": "code",
      "metadata": {
        "id": "1wfIH2u_F2gy"
      },
      "source": [
        "metrics_sum"
      ],
      "execution_count": null,
      "outputs": []
    },
    {
      "cell_type": "code",
      "metadata": {
        "id": "flt2v0TOCX8F"
      },
      "source": [
        "print(f'{type(dfx)}, \\n {df.shape}, \\n {dfx.shape}, \\n, {dfx.columns}, \\n, {dfx.index}')\n"
      ],
      "execution_count": null,
      "outputs": []
    },
    {
      "cell_type": "code",
      "metadata": {
        "id": "lcfSFbzJCYE0"
      },
      "source": [
        "print(f'{dfx}')"
      ],
      "execution_count": null,
      "outputs": []
    },
    {
      "cell_type": "code",
      "metadata": {
        "id": "tZIV1shOEKC-"
      },
      "source": [
        "df[df['systemId'] =='sys1']['cpu_utilization']"
      ],
      "execution_count": null,
      "outputs": []
    },
    {
      "cell_type": "code",
      "metadata": {
        "id": "JxyA-lKUCYOb"
      },
      "source": [
        "dfx.loc['sys1']"
      ],
      "execution_count": null,
      "outputs": []
    },
    {
      "cell_type": "code",
      "metadata": {
        "id": "ZBxVR8F6DnQ0"
      },
      "source": [
        "df[df['systemId'] =='sys1']"
      ],
      "execution_count": null,
      "outputs": []
    },
    {
      "cell_type": "code",
      "metadata": {
        "id": "zN4wTbrjOy0p"
      },
      "source": [
        "\n",
        "dftemp = df[['systemId', 'read_iops', 'read_cache_miss']]\n",
        "df_grouped = dftemp.groupby('systemId')\n",
        "\n",
        "ct = 0\n",
        "for group_name, df_group in df_grouped:\n",
        "  ct = ct + 1\n",
        "  if ct>5: \n",
        "    break\n",
        "\n",
        "  print(f'\\n\\n ****** ct={ct}, {group_name} , shape={df_group.shape}****') \n",
        "  #print(df_group.index)\n",
        "  #print(df_group.head())\n",
        "\n",
        "  stat = df_group.resample('W', origin='start').median()\n",
        "  # rename columns\n",
        "  stat.columns = [group_name+'_read_iops_median', group_name+'_read_cache_miss_median']\n",
        "  #reset index to get grouped columns back\n",
        "  #stat = stat.reset_index()\n",
        "\n",
        "  print(f'\\n ****** {group_name} mean, shape={stat.shape}, stat type ={type(stat)}****') \n",
        "  print(stat)\n",
        "\n",
        "  if ct==1:\n",
        "    df_merged = stat\n",
        "  else:        \n",
        "    df_merged = pd.concat([df_merged, stat], axis=1) #ignore_index=True, \n",
        "\n",
        "  print(f'\\n ****** {group_name} mean, df_merged shape={df_merged.shape}, df_merged columns ={df_merged.columns}****') \n",
        "  print(f'**************** df_merged=\\n{df_merged}')\n"
      ],
      "execution_count": null,
      "outputs": []
    },
    {
      "cell_type": "code",
      "metadata": {
        "id": "a8GLpaQ3DlLY"
      },
      "source": [
        ""
      ],
      "execution_count": null,
      "outputs": []
    },
    {
      "cell_type": "code",
      "metadata": {
        "id": "VaZgnF3qd6Lr"
      },
      "source": [
        "df_merged"
      ],
      "execution_count": null,
      "outputs": []
    },
    {
      "cell_type": "code",
      "metadata": {
        "id": "4vWfj1TSd6PF"
      },
      "source": [
        ""
      ],
      "execution_count": null,
      "outputs": []
    },
    {
      "cell_type": "code",
      "metadata": {
        "id": "mmzmkY1Id6Wu"
      },
      "source": [
        ""
      ],
      "execution_count": null,
      "outputs": []
    },
    {
      "cell_type": "code",
      "metadata": {
        "id": "JsaaUUMHOgxD"
      },
      "source": [
        "features = ['systemId','read_iops', 'read_cache_miss'] #, 'write_throughput', 'write_iosz', 'write_cache_miss', 'write_iops']\n",
        "dftemp = df[features]\n",
        "df_grouped = dftemp.groupby('systemId')\n"
      ],
      "execution_count": null,
      "outputs": []
    },
    {
      "cell_type": "code",
      "metadata": {
        "id": "KF6LAISRPB_U"
      },
      "source": [
        "df_grouped.head()"
      ],
      "execution_count": null,
      "outputs": []
    },
    {
      "cell_type": "code",
      "metadata": {
        "id": "Sj5AGYs4P2-p"
      },
      "source": [
        "type(df_grouped)"
      ],
      "execution_count": null,
      "outputs": []
    },
    {
      "cell_type": "code",
      "metadata": {
        "id": "H-tVtKgJPi4Q"
      },
      "source": [
        "df_grouped[df_grouped['systemId'] == 'sys1']"
      ],
      "execution_count": null,
      "outputs": []
    },
    {
      "cell_type": "code",
      "metadata": {
        "id": "m5nvj3fVQPXd"
      },
      "source": [
        "len(df_grouped)\n"
      ],
      "execution_count": null,
      "outputs": []
    },
    {
      "cell_type": "code",
      "metadata": {
        "id": "0_16duswP64S"
      },
      "source": [
        "for x in df_grouped:\n",
        "  print(x)"
      ],
      "execution_count": null,
      "outputs": []
    },
    {
      "cell_type": "code",
      "metadata": {
        "id": "CDA9j-X7P67a"
      },
      "source": [
        ""
      ],
      "execution_count": null,
      "outputs": []
    },
    {
      "cell_type": "code",
      "metadata": {
        "id": "EHHa5u4APCeC"
      },
      "source": [
        ""
      ],
      "execution_count": null,
      "outputs": []
    },
    {
      "cell_type": "code",
      "metadata": {
        "id": "Yl3dKXHTK0ua"
      },
      "source": [
        "def make_metrics_std_median(X, x_cols, std_median_cols, print_flag=False):\n",
        "  print(f' *** Inside make_metrics_std_median(): systemId={systemId_selected}, df shape={df.shape}')\n",
        "\n",
        "\n",
        "\n",
        "  df1[f] = df1[f].rolling(window=Window_Length).mean()\n",
        "\n",
        "# Run to add metrics\n",
        "std_median_cols = ['read_iops', 'read_cache_miss']\n",
        "make_metrics_std_median(X, x_cols, std_median_cols, True)\n"
      ],
      "execution_count": null,
      "outputs": []
    },
    {
      "cell_type": "code",
      "metadata": {
        "id": "YGPnrBE7OJbm"
      },
      "source": [
        "features = [['read_iops', 'read_cache_miss'],\n",
        "            ['write_throughput', 'write_iosz'],\n",
        "            ['write_cache_miss', 'write_iops']]\n",
        "\n",
        "for k in range(len(features)):\n",
        "  print(features[k])\n",
        "  for x in features[k]:\n",
        "    print(x)\n",
        "\n",
        "\n",
        "dftemp = df[['systemId', 'read_iops', 'read_cache_miss']]\n",
        "df_grouped = dftemp.groupby('systemId')\n",
        "\n",
        "ct = 0\n",
        "for group_name, df_group in df_grouped:\n",
        "  ct = ct + 1\n",
        "  if ct>2: \n",
        "    break\n",
        "  \n",
        "  df_group = df_group.sort_index()\n",
        "\n",
        "  print(f'\\n\\n ****** {group_name} , shape={df_group.shape}****') \n",
        "  print(df_group.head())\n",
        "\n",
        "  stat = df_group.resample('W', origin='start').sum()\n",
        "  print(f'\\n ****** {group_name} sum, shape={stat.shape}****') \n",
        "  print(stat)\n",
        "\n",
        "  stat = df_group.resample('W', origin='start').median()\n",
        "  print(f'\\n ****** {group_name} median, shape={stat.shape}****') \n",
        "  print(stat)\n",
        "    \n",
        "  stat = df_group.resample('W', origin='start').std()\n",
        "  print(f'\\n ****** {group_name} std, shape={stat.shape}****') \n",
        "  print(stat)"
      ],
      "execution_count": null,
      "outputs": []
    },
    {
      "cell_type": "code",
      "metadata": {
        "id": "isadwiEsLeu_"
      },
      "source": [
        "print(X.shape, len(x_cols))\n"
      ],
      "execution_count": null,
      "outputs": []
    },
    {
      "cell_type": "code",
      "metadata": {
        "id": "IwZYLRwrJtNM"
      },
      "source": [
        "\n",
        "# normalize, average, and plot\n",
        "def plot_columns_average(df, AVERAGE_METHOD, Window_Length):\n",
        "  df1 = df[df['systemId']=='sys1']\n",
        "\n",
        "  start_hour = 24*1+15;\n",
        "  interval_hour= 24*20 + 10\n",
        "  start = int(start_hour*hour/(5*60))\n",
        "  stop = int((start_hour + interval_hour)*hour/(5*60))\n",
        "\n",
        "  for f in cols_to_avg:\n",
        "    if AVERAGE_METHOD == 'rolling_moving_average':\n",
        "      df1[f] = df1[f].rolling(window=Window_Length).mean()\n",
        "    elif AVERAGE_METHOD == 'exponential_moving_average':\n",
        "      df1[f] = df1[f].ewm(span=Window_Length, adjust=False).mean()\n",
        "    elif AVERAGE_METHOD == 'cumulative_average': \n",
        "      df1[f] = df1[f].expanding(min_periods=Window_Length, adjust=False).mean()\n",
        "    else:\n",
        "      raise ValueError(f'AVERAGE_METHOD ={AVERAGE_METHOD} is not implemented!')\n",
        "        \n",
        "Window_Length = int(2*60/5) \n",
        "\n",
        "AVERAGE_METHOD_LIST = ['rolling_moving_average', 'exponential_moving_average', 'cumulative_average']\n",
        "AVERAGE_METHOD = AVERAGE_METHOD_LIST[1] \n",
        "plot_columns_average(df, AVERAGE_METHOD, Window_Length)\n"
      ],
      "execution_count": null,
      "outputs": []
    },
    {
      "cell_type": "code",
      "metadata": {
        "id": "33R0k37jKLxc"
      },
      "source": [
        "group = group.sort_values(by='timestamp_seconds')\n",
        "group.head(8)tmp = group.rolling(2).mean()\n",
        "tmp.head(8)\n",
        "\n",
        "group['rmean_write_throughput'] = tmp['write_throughput']\n",
        "group['rmean_write_iosz'] = tmp['write_iosz']\n",
        "group.head(8)"
      ],
      "execution_count": null,
      "outputs": []
    },
    {
      "cell_type": "code",
      "metadata": {
        "id": "V74KW2qUp1Bm"
      },
      "source": [
        "# fft plot TODO: for time ordered and single systemId \n",
        "def plot_fft(df_in, col_choice):\n",
        "  import tensorflow as tf\n",
        "  df = df_in[df_in['systemId']==SYSTEM_ID_SELECTED[0]]\n",
        "  fft = tf.signal.rfft(df[col_choice])\n",
        "  f_per_dataset = np.arange(0, len(fft))\n",
        "  print(f'df.shape={df.shape}, fft.shape={fft.shape}')\n",
        "  n_samples_h = len(df[col_choice])\n",
        "  plt.plot(f_per_dataset, np.abs(fft), '-+')\n",
        "  #plt.xscale('log')\n",
        "  plt.ylim(0, np.mean(np.abs(fft))*10)\n",
        "  plt.xlim([0.1, max(plt.xlim())])\n",
        "  _ = plt.xlabel('Frequency (log scale)')\n",
        "  plt.grid()\n"
      ],
      "execution_count": null,
      "outputs": []
    },
    {
      "cell_type": "code",
      "metadata": {
        "id": "JXWbL1MKUHUK"
      },
      "source": [
        "plot_fft(df, 'cpu_utilization')\n"
      ],
      "execution_count": null,
      "outputs": []
    },
    {
      "cell_type": "code",
      "metadata": {
        "id": "4Zkw_1g-NEAx"
      },
      "source": [
        "plot_fft(df, 'read_throughput')"
      ],
      "execution_count": null,
      "outputs": []
    },
    {
      "cell_type": "code",
      "metadata": {
        "id": "OnFVO6ylYnIl"
      },
      "source": [
        "plot_fft(df, 'write_throughput')"
      ],
      "execution_count": null,
      "outputs": []
    },
    {
      "cell_type": "code",
      "metadata": {
        "id": "Bk984iciULm4"
      },
      "source": [
        "plot_fft(df, 'Hour_Cos')\n"
      ],
      "execution_count": null,
      "outputs": []
    },
    {
      "cell_type": "code",
      "metadata": {
        "id": "Lw8C45N6VCMj"
      },
      "source": [
        "plot_fft(df, 'Day_Cos')\n",
        "7966/24/12"
      ],
      "execution_count": null,
      "outputs": []
    },
    {
      "cell_type": "code",
      "metadata": {
        "id": "Ix-gkEm8VOnH"
      },
      "source": [
        "plot_fft(df, 'Week_Cos')\n"
      ],
      "execution_count": null,
      "outputs": []
    },
    {
      "cell_type": "code",
      "metadata": {
        "id": "YMvlqIcDwVoC"
      },
      "source": [
        ""
      ],
      "execution_count": null,
      "outputs": []
    },
    {
      "cell_type": "code",
      "metadata": {
        "id": "pRDklfCQwcGf"
      },
      "source": [
        ""
      ],
      "execution_count": null,
      "outputs": []
    },
    {
      "cell_type": "code",
      "metadata": {
        "id": "_tkAAvJ2wKDP"
      },
      "source": [
        ""
      ],
      "execution_count": null,
      "outputs": []
    },
    {
      "cell_type": "code",
      "metadata": {
        "id": "aVK4DMG6E5DQ"
      },
      "source": [
        "\n",
        "if 0:\n",
        "  summary = []\n",
        "  for name, group in group_by_systemId:\n",
        "    summary.append(\n",
        "      {\n",
        "        name : \n",
        "          {\n",
        "            'length': len(group),\n",
        "            'min': group['read_iops'].min(),\n",
        "            'max': group['read_iops'].max(),\n",
        "            'mean': group['read_iops'].mean(),\n",
        "            'std': group['read_iops'].std(),\n",
        "            'median': group['read_iops'].median()\n",
        "          }\n",
        "      }\n",
        "    )\n",
        "  if 0:\n",
        "    print(f'name={name}, len = {len(group)}\\n')\n",
        "    print('systemId uniques=', np.unique(group['systemId']))\n",
        "    #print(f'group={group.head(2)}\\n')\n",
        "    print(f'summary={summary}')\n"
      ],
      "execution_count": null,
      "outputs": []
    },
    {
      "cell_type": "markdown",
      "metadata": {
        "id": "dpcmd8lhQwDh"
      },
      "source": [
        "## Q3. Generate a random distribution of samples from data such that each day should contain 12 continous samples and start of the sample should be random with that day"
      ]
    },
    {
      "cell_type": "code",
      "metadata": {
        "id": "IyzNxQmp3OkJ",
        "colab": {
          "base_uri": "https://localhost:8080/"
        },
        "outputId": "9da91475-96c8-468a-fd0f-7aaca1f7bdf4"
      },
      "source": [
        "data.shape"
      ],
      "execution_count": 98,
      "outputs": [
        {
          "output_type": "execute_result",
          "data": {
            "text/plain": [
              "(7926, 18)"
            ]
          },
          "metadata": {
            "tags": []
          },
          "execution_count": 98
        }
      ]
    },
    {
      "cell_type": "markdown",
      "metadata": {
        "id": "_kX575JMFcdg"
      },
      "source": [
        "## Q4. Fit a linear regression to this data with y as \"cpu_utilization\" column. Comment on the fit of the model"
      ]
    },
    {
      "cell_type": "code",
      "metadata": {
        "id": "VZeVOVe9FGPg"
      },
      "source": [
        ""
      ],
      "execution_count": null,
      "outputs": []
    },
    {
      "cell_type": "markdown",
      "metadata": {
        "id": "P4_jA_iqFHL-"
      },
      "source": [
        "The effect of time in this data set is not clear as shown be correlation of time with target.\n",
        "Thus we can use KFold for cross-validation.\n"
      ]
    },
    {
      "cell_type": "code",
      "metadata": {
        "id": "rIB0EOqZYNOT"
      },
      "source": [
        "# Use LinearRegression for regression, DecisionTreeRegressor for feature selection\n",
        "# explore the number of selected features for RFE\n",
        "# Try Ridge, Lasso, ElasticNet for regularization and feature selection\n",
        "from numpy import mean\n",
        "from numpy import std\n",
        "from sklearn.datasets import make_classification\n",
        "from sklearn.model_selection import cross_val_score\n",
        "from sklearn.model_selection import KFold\n",
        "from sklearn.feature_selection import RFE\n",
        "from sklearn.linear_model import LinearRegression, Ridge, Lasso, ElasticNet\n",
        "from sklearn.tree import DecisionTreeRegressor\n",
        "from sklearn.pipeline import Pipeline\n",
        "from matplotlib import pyplot\n",
        "\n",
        "n_features_to_select = [2, len(x_cols)]\n",
        "ridge_alpha = 0.1 # larger alpha stronger regularisation\n",
        "lasso_alpha = 0.1 # larger alpha stronger regularisation\n",
        "\n",
        "from enum import Enum\n",
        "class LRModel(Enum):\n",
        "   LR = 1\n",
        "   RIDGE = 2\n",
        "   LASSO = 3\n",
        "   ELASTICNET = 4\n",
        "\n",
        "\n",
        "# get the dataset\n",
        "def get_dataset(X, Y):\n",
        "\tX, y = X, Y\n",
        "\treturn X, y\n",
        "\n",
        "# get a list of models to evaluate\n",
        "def get_models(model_choice):\n",
        "\tmodels = dict()\n",
        "\tfor i in range(n_features_to_select[0], n_features_to_select[1]):\n",
        "\t\t#rfe = RFE(estimator=LinearRegression(), n_features_to_select=i)\n",
        "\t\trfe = RFE(estimator=DecisionTreeRegressor(), n_features_to_select=i)\n",
        "    if model_choice == LRModel.LR:\n",
        "  \t\tmodel = LinearRegression()\n",
        "    elif model_choice == LRModel.RIDGE:\n",
        "  \t\tmodel = Ridge()\n",
        "    elif model_choice == LRModel.LASSO:\n",
        "  \t\tmodel = Lasso()\n",
        "    elif model_choice == LRModel.ELASTICNET:\n",
        "  \t\tmodel = ElasticNet()\n",
        "    else:\n",
        "      print(\"Unexpected arg for LR model\")\n",
        "      raise\n",
        "\n",
        "\n",
        "\t\tmodels[str(i)] = Pipeline(steps=[('s',rfe),('m',model)])\n",
        "\treturn models\n",
        "\n",
        "# evaluate a give model using cross-validation\n",
        "def evaluate_model(model, X, y):\n",
        "\tcv = KFold(n_splits=10, shuffle=False, random_state=1)\n",
        "\tscores = cross_val_score(model, X, y, scoring='neg_mean_squared_error', cv=cv, n_jobs=-1, error_score='raise')\n",
        "\treturn scores\n",
        "\n",
        "\n",
        "# define dataset\n",
        "X, y = get_dataset(X, Y)\n"
      ],
      "execution_count": null,
      "outputs": []
    },
    {
      "cell_type": "code",
      "metadata": {
        "id": "yhl4lvM1F2Sp"
      },
      "source": [
        "# get the models to evaluate\n",
        "models = get_models(LRModel.Ridge)\n",
        "\n",
        "# KFOLD Cross-validation\n",
        "# evaluate the models and store results\n",
        "results, names = list(), list()\n",
        "for name, model in models.items():\n",
        "\tscores = evaluate_model(model, X, y)\n",
        "\tresults.append(scores)\n",
        "\tnames.append(name)\n",
        "\tprint('>%s %.3f (%.3f)' % (name, mean(scores), std(scores)))\n",
        "# plot model performance for comparison\n",
        "pyplot.boxplot(results, labels=names, showmeans=True)\n",
        "pyplot.show()\n"
      ],
      "execution_count": null,
      "outputs": []
    },
    {
      "cell_type": "code",
      "metadata": {
        "id": "GlOcaazcGfeq"
      },
      "source": [
        "# Time-series split with time continuity kept\n",
        "# evaluate the models and store results\n",
        "\n",
        "TRAIN_FRACTION = 0.7\n",
        "L_train = int(len(Y)*TRAIN_FRACTION)\n",
        "\n",
        "X_train = X[:L_train, :]\n",
        "Y_train = Y[:L_train]\n",
        "X_test = X[L_train:, :]\n",
        "Y_test = Y[L_train:]\n",
        "\n",
        "results, names = list(), list()\n",
        "model.fit(X_train, Y_train)\n",
        "predicted = model.predict(X_test, Y_test)\n",
        "\n",
        "pyplot.boxplot(results, labels=names, showmeans=True)\n",
        "pyplot.show()"
      ],
      "execution_count": null,
      "outputs": []
    },
    {
      "cell_type": "code",
      "metadata": {
        "id": "NNwjNOPrGzl1"
      },
      "source": [
        ""
      ],
      "execution_count": null,
      "outputs": []
    },
    {
      "cell_type": "code",
      "metadata": {
        "id": "s5vgA3c2vtXx"
      },
      "source": [
        "# DNN regression\n",
        "NUM_SPLITS = 5\n",
        "NUM_EPOCHS = 1\n",
        "BATCH_SIZE = 10\n",
        "\n",
        "# Regression\n",
        "from keras.models import Sequential\n",
        "from keras.layers import Dense\n",
        "from keras.wrappers.scikit_learn import KerasRegressor\n",
        "from sklearn.model_selection import cross_val_score\n",
        "from sklearn.model_selection import KFold\n",
        "from sklearn.pipeline import Pipeline\n",
        "\n",
        "Y = data[:, Y_INDEX_DATA]\n",
        "X = data[:, X_FIRST_INDEX_DATA:]\n",
        "\n",
        "# define base model\n",
        "def baseline_model():\n",
        "\tmodel = Sequential()\n",
        "\tmodel.add(Dense(18, input_dim=X.shape[1], kernel_initializer='normal', activation='relu'))\n",
        "\tmodel.add(Dense(8, kernel_initializer='normal', activation='relu'))\n",
        "\tmodel.add(Dense(8, kernel_initializer='normal', activation='relu'))\n",
        "\tmodel.add(Dense(1, kernel_initializer='normal'))\n",
        "\tmodel.compile(loss='mean_squared_error', optimizer='adam')\n",
        "\treturn model\n",
        "  \n",
        "# Step: evaluate model with standardized dataset\n",
        "estimators = []\n",
        "estimators.append(('mlp', KerasRegressor(build_fn=baseline_model, epochs=NUM_EPOCHS, batch_size=BATCH_SIZE, verbose=2)))\n",
        "pipeline = Pipeline(estimators)\n",
        "\n",
        "kfold = KFold(n_splits = NUM_SPLITS, shuffle=False)\n",
        "print(f'X shape={X.shape}, Y shape = {Y.shape}')\n",
        "results = cross_val_score(pipeline, X, Y, cv=kfold)\n",
        "print(f'results of cross_val_score = {results}')\n",
        "print(\"Standardized: %.2f (%.2f) MSE\" % (results.mean(), results.std()))\n"
      ],
      "execution_count": null,
      "outputs": []
    },
    {
      "cell_type": "code",
      "metadata": {
        "id": "SSLnCrYavtk7"
      },
      "source": [
        "# DNN/MLP: get predicted values\n",
        "from sklearn.model_selection import cross_val_predict\n",
        "# TRY this also\n",
        "#from sklearn import linear_model\n",
        "\n",
        "# cross_val_predict returns an array of the same size as `y` where each entry\n",
        "# is a prediction obtained by cross validation:\n",
        "#results = cross_val_score(pipeline, X, Y, cv=kfold)\n",
        "predicted = cross_val_predict(pipeline, X, Y, cv=kfold)\n",
        "# method='predict', \n",
        "# X: array-like of shape (n_samples, n_features)\n",
        "# Returns: When method is ‘predict’: (n_samples,)\n",
        "\n",
        "fig, ax = plt.subplots()\n",
        "ax.scatter(Y, predicted)\n",
        "ax.plot([Y.min(), Y.max()], [Y.min(), Y.max()], 'k--', lw=4)\n",
        "ax.set_xlabel('Measured')\n",
        "ax.set_ylabel('Predicted')\n",
        "ax.grid()\n",
        "plt.show()"
      ],
      "execution_count": null,
      "outputs": []
    },
    {
      "cell_type": "code",
      "metadata": {
        "id": "fCTuPWtTwzAW"
      },
      "source": [
        ""
      ],
      "execution_count": null,
      "outputs": []
    },
    {
      "cell_type": "code",
      "metadata": {
        "id": "ENohUc3EwzEh",
        "colab": {
          "base_uri": "https://localhost:8080/"
        },
        "outputId": "76de96b5-9263-4824-8acc-e1ca8cf540a7"
      },
      "source": [
        "print(x_cols.index('timestamp_seconds'))\n"
      ],
      "execution_count": 83,
      "outputs": [
        {
          "output_type": "stream",
          "text": [
            "8\n"
          ],
          "name": "stdout"
        }
      ]
    },
    {
      "cell_type": "code",
      "metadata": {
        "id": "wxCsofhfhijW"
      },
      "source": [
        "# plot against time IN transformed/scaled version\n",
        "def plot_prediction_time(start, stop, X, Y, predicted):\n",
        "  num_cols = 3\n",
        "  plt.subplot(num_cols, 1, 1)\n",
        "  plt.plot(X[start:stop, TIMESTAMP_INDEX_AFTER_FS-1], Y[start:stop], 'b-+', label='rea target')\n",
        "  #plt.plot(X[start:stop, TIMESTAMP_INDEX_AFTER_FS-1], ( predicted[start:stop]), 'g-o', label='predicted target')\n",
        "  plt.plot(X[start:stop, TIMESTAMP_INDEX_AFTER_FS-1], (Y[start:stop] - predicted[start:stop]), 'g-o', label='error')\n",
        "  plt.ylabel('scaled target')\n",
        "  plt.xlabel('scaled time')\n",
        "  plt.grid(True)\n",
        "  plt.legend()\n",
        "\n",
        "  plt.subplot(num_cols, 1, 2)\n",
        "  plt.plot(data[start:stop, TIMESTAMP_INDEX_AFTER_FS], (Y[start:stop] - predicted[start:stop])/(Y[start:stop]), 'r-*', label='error/real')\n",
        "  plt.ylim(0, 1)\n",
        "  plt.ylabel('scaled target')\n",
        "  plt.xlabel('scaled time')\n",
        "  plt.grid(True)\n",
        "  plt.legend()\n",
        "\n",
        "  plt.subplot(num_cols, 1, 3)\n",
        "  #plt.plot(X[start:stop, TIMESTAMP_INDEX_AFTER_FS-1])\n",
        "  plt.hist((Y[start:stop] - predicted[start:stop])/(Y[start:stop]), bins=100)\n",
        "  plt.ylabel('scaled time')\n",
        "\n",
        "  fig = plt.gcf()\n",
        "  fig.set_size_inches(22.5, num_cols*3)\n",
        "\n",
        "\n",
        "# Get orignal target w/o transformation from df\n",
        "def get_target(df, systemId_selected, numerical_transform_cols):\n",
        "  if systemId_selected[0] == 'All':\n",
        "    df_tmp = df[numerical_transform_cols]\n",
        "  else:  \n",
        "    df_tmp = df[df['systemId']==systemId_selected[0]][numerical_transform_cols]\n",
        "  return df_tmp.values\n"
      ],
      "execution_count": null,
      "outputs": []
    },
    {
      "cell_type": "code",
      "metadata": {
        "id": "WBkHs8Gdxp6Y"
      },
      "source": [
        "start= 1000 #int(0*24*60/5)\n",
        "stop = 1111 #len(Y) #int(1*24*60/5)\n",
        "plot_prediction_time(start, stop, X, Y, predicted)\n",
        "\n"
      ],
      "execution_count": null,
      "outputs": []
    },
    {
      "cell_type": "code",
      "metadata": {
        "id": "YmJANDYhGtX8"
      },
      "source": [
        "start=100; stop=110\n",
        "print(Y[start:stop], '\\n',predicted[start:stop], '\\n',\n",
        "      Y[start:stop]- predicted[start:stop], '\\n', (Y[start:stop]- predicted[start:stop])/Y[start:stop])\n"
      ],
      "execution_count": null,
      "outputs": []
    },
    {
      "cell_type": "code",
      "metadata": {
        "id": "rGHpeYz6GIA3"
      },
      "source": [
        "plt.plot(Y, predicted, '+')\n",
        "plt.grid()\n",
        "fig = plt.gcf()\n",
        "fig.set_size_inches(22.5, 5)"
      ],
      "execution_count": null,
      "outputs": []
    },
    {
      "cell_type": "code",
      "metadata": {
        "id": "7edDXw2TxBV1"
      },
      "source": [
        "y_real = get_target(df, SYSTEM_ID_SELECTED, 'cpu_utilization' )\n",
        "\n",
        "# RUN: inverse_transform of predicted target \n",
        "y_hat = target_transformer.inverse_transform( predicted.reshape(predicted.shape[0], 1) )\n",
        "print(predicted.shape, y_hat.shape, type(y_hat))\n"
      ],
      "execution_count": null,
      "outputs": []
    },
    {
      "cell_type": "code",
      "metadata": {
        "id": "HDkxtKHexa_C"
      },
      "source": [
        "# RUN: inverse_transform TRUE target transformed\n",
        "y_real_inverse_transfomred = target_transformer.inverse_transform( Y.reshape(Y.shape[0], 1) )\n",
        "print(Y.shape, y_real_inverse_transfomred.shape, type(y_real_inverse_transfomred))\n"
      ],
      "execution_count": null,
      "outputs": []
    },
    {
      "cell_type": "code",
      "metadata": {
        "id": "wdxBPl5XzBQ4"
      },
      "source": [
        "plt.plot(y_real, y_real_inverse_transfomred, '+')\n",
        "plt.grid()\n",
        "fig = plt.gcf()\n",
        "fig.set_size_inches(22.5, 5)"
      ],
      "execution_count": null,
      "outputs": []
    },
    {
      "cell_type": "code",
      "metadata": {
        "id": "mkFDk0ASyHea"
      },
      "source": [
        "plt.plot(y_real_inverse_transfomred, y_hat, '+')\n",
        "plt.grid()\n",
        "fig = plt.gcf()\n",
        "fig.set_size_inches(22.5, 5)\n"
      ],
      "execution_count": null,
      "outputs": []
    },
    {
      "cell_type": "code",
      "metadata": {
        "id": "1iKuQORI0GEQ",
        "colab": {
          "base_uri": "https://localhost:8080/",
          "height": 492
        },
        "outputId": "4de84777-42a8-4d4b-a34d-62e989d4b821"
      },
      "source": [
        "# TODO: get real time in timedate\n",
        "#plot inverse transformed y_hat against time\n",
        "fig, ax = plt.subplots()\n",
        "start= int(0*24*60/5)\n",
        "stop = int(0.2*24*60/5)\n",
        "\n",
        "ax.plot(X[:, x_cols.index('timestamp_seconds')][start:stop], y_real[start:stop], 'b-+', label='real')\n",
        "ax.plot(X[:, x_cols.index('timestamp_seconds')][start:stop], y_hat[:, 0][start:stop], 'g-o', label='predicted')\n",
        "ax.set_xlabel('scaled time')\n",
        "ax.set_ylabel('Predicted')\n",
        "ax.grid()\n",
        "ax.legend()\n",
        "fig = plt.gcf()\n",
        "fig.set_size_inches(22.5, 3)\n",
        "plt.show()\n"
      ],
      "execution_count": 85,
      "outputs": [
        {
          "output_type": "error",
          "ename": "NameError",
          "evalue": "ignored",
          "traceback": [
            "\u001b[0;31m---------------------------------------------------------------------------\u001b[0m",
            "\u001b[0;31mNameError\u001b[0m                                 Traceback (most recent call last)",
            "\u001b[0;32m<ipython-input-85-2d93f17bbcfd>\u001b[0m in \u001b[0;36m<module>\u001b[0;34m()\u001b[0m\n\u001b[1;32m      5\u001b[0m \u001b[0mstop\u001b[0m \u001b[0;34m=\u001b[0m \u001b[0mint\u001b[0m\u001b[0;34m(\u001b[0m\u001b[0;36m0.2\u001b[0m\u001b[0;34m*\u001b[0m\u001b[0;36m24\u001b[0m\u001b[0;34m*\u001b[0m\u001b[0;36m60\u001b[0m\u001b[0;34m/\u001b[0m\u001b[0;36m5\u001b[0m\u001b[0;34m)\u001b[0m\u001b[0;34m\u001b[0m\u001b[0;34m\u001b[0m\u001b[0m\n\u001b[1;32m      6\u001b[0m \u001b[0;34m\u001b[0m\u001b[0m\n\u001b[0;32m----> 7\u001b[0;31m \u001b[0max\u001b[0m\u001b[0;34m.\u001b[0m\u001b[0mplot\u001b[0m\u001b[0;34m(\u001b[0m\u001b[0mX\u001b[0m\u001b[0;34m[\u001b[0m\u001b[0;34m:\u001b[0m\u001b[0;34m,\u001b[0m \u001b[0mx_cols\u001b[0m\u001b[0;34m.\u001b[0m\u001b[0mindex\u001b[0m\u001b[0;34m(\u001b[0m\u001b[0;34m'timestamp_seconds'\u001b[0m\u001b[0;34m)\u001b[0m\u001b[0;34m]\u001b[0m\u001b[0;34m[\u001b[0m\u001b[0mstart\u001b[0m\u001b[0;34m:\u001b[0m\u001b[0mstop\u001b[0m\u001b[0;34m]\u001b[0m\u001b[0;34m,\u001b[0m \u001b[0my_real\u001b[0m\u001b[0;34m[\u001b[0m\u001b[0mstart\u001b[0m\u001b[0;34m:\u001b[0m\u001b[0mstop\u001b[0m\u001b[0;34m]\u001b[0m\u001b[0;34m,\u001b[0m \u001b[0;34m'b-+'\u001b[0m\u001b[0;34m,\u001b[0m \u001b[0mlabel\u001b[0m\u001b[0;34m=\u001b[0m\u001b[0;34m'real'\u001b[0m\u001b[0;34m)\u001b[0m\u001b[0;34m\u001b[0m\u001b[0;34m\u001b[0m\u001b[0m\n\u001b[0m\u001b[1;32m      8\u001b[0m \u001b[0max\u001b[0m\u001b[0;34m.\u001b[0m\u001b[0mplot\u001b[0m\u001b[0;34m(\u001b[0m\u001b[0mX\u001b[0m\u001b[0;34m[\u001b[0m\u001b[0;34m:\u001b[0m\u001b[0;34m,\u001b[0m \u001b[0mx_cols\u001b[0m\u001b[0;34m.\u001b[0m\u001b[0mindex\u001b[0m\u001b[0;34m(\u001b[0m\u001b[0;34m'timestamp_seconds'\u001b[0m\u001b[0;34m)\u001b[0m\u001b[0;34m]\u001b[0m\u001b[0;34m[\u001b[0m\u001b[0mstart\u001b[0m\u001b[0;34m:\u001b[0m\u001b[0mstop\u001b[0m\u001b[0;34m]\u001b[0m\u001b[0;34m,\u001b[0m \u001b[0my_hat\u001b[0m\u001b[0;34m[\u001b[0m\u001b[0;34m:\u001b[0m\u001b[0;34m,\u001b[0m \u001b[0;36m0\u001b[0m\u001b[0;34m]\u001b[0m\u001b[0;34m[\u001b[0m\u001b[0mstart\u001b[0m\u001b[0;34m:\u001b[0m\u001b[0mstop\u001b[0m\u001b[0;34m]\u001b[0m\u001b[0;34m,\u001b[0m \u001b[0;34m'g-o'\u001b[0m\u001b[0;34m,\u001b[0m \u001b[0mlabel\u001b[0m\u001b[0;34m=\u001b[0m\u001b[0;34m'predicted'\u001b[0m\u001b[0;34m)\u001b[0m\u001b[0;34m\u001b[0m\u001b[0;34m\u001b[0m\u001b[0m\n\u001b[1;32m      9\u001b[0m \u001b[0max\u001b[0m\u001b[0;34m.\u001b[0m\u001b[0mset_xlabel\u001b[0m\u001b[0;34m(\u001b[0m\u001b[0;34m'scaled time'\u001b[0m\u001b[0;34m)\u001b[0m\u001b[0;34m\u001b[0m\u001b[0;34m\u001b[0m\u001b[0m\n",
            "\u001b[0;31mNameError\u001b[0m: name 'y_real' is not defined"
          ]
        },
        {
          "output_type": "display_data",
          "data": {
            "image/png": "[encoded data removed]",
            "text/plain": [
              "<Figure size 432x288 with 1 Axes>"
            ]
          },
          "metadata": {
            "tags": [],
            "needs_background": "light"
          }
        }
      ]
    },
    {
      "cell_type": "code",
      "metadata": {
        "id": "IqOQt7XBLb-s"
      },
      "source": [
        "# Run this after Standardarization\n",
        "# Add nonlinear transformation of features\n",
        "df['rw_cache_miss_ratio'] = df['read_cache_miss'] / df['write_cache_miss']\n",
        "df['rw_iops_ratio'] = df['read_iops'] / df['write_iops']\n",
        "df['rw_throughput_ratio'] = df['read_throughput'] / df['write_throughput']\n",
        "df['rw_iosz_ratio'] = df['read_iosz'] / df['write_iosz']\n",
        "\n",
        "df['rw_cache_miss_diff'] = df['read_cache_miss'] - df['write_cache_miss']\n",
        "df['rw_iops_diff'] = df['read_iops'] - df['write_iops']\n",
        "df['rw_throughput_diff'] = df['read_throughput'] - df['write_throughput']\n",
        "df['rw_iosz_diff'] = df['read_iosz'] - df['write_iosz']"
      ],
      "execution_count": null,
      "outputs": []
    },
    {
      "cell_type": "code",
      "metadata": {
        "id": "7vjiyYZ1U7x7"
      },
      "source": [
        "# remove cols_remove from cols;\n",
        "# divide cols into array of lists of size W \n",
        "def split_columns(cols, cols_remove, W):\n",
        "  for col in cols_remove:\n",
        "    cols.remove(col)\n",
        "  L = len(cols)\n",
        "  R = int(L/W)\n",
        "  x1 = list(np.array(cols[:R*W]).reshape(R,W))\n",
        "  x2 = cols[R*W:]\n",
        "  x1.append(x2)\n",
        "  return x1"
      ],
      "execution_count": null,
      "outputs": []
    },
    {
      "cell_type": "code",
      "metadata": {
        "id": "TM0rK8fcJAC4"
      },
      "source": [
        "# RUN: pairplotr VERY SLOW for larger number of features! !!\n",
        "def pairplot(df, systemId_selected, cols, title_str):\n",
        "  if len(systemId_selected)>0:\n",
        "    df = df[df['systemId']==systemId_selected]\n",
        "  sns.pairplot(df[cols], corner=True)\n",
        "  fig = plt.gcf()\n",
        "  fig.set_size_inches(15.5, 3*2)\n",
        "  fig.suptitle(f'{title_str}, systemId {systemId_selected[0]}')\n",
        "  plt.show()"
      ],
      "execution_count": null,
      "outputs": []
    },
    {
      "cell_type": "code",
      "metadata": {
        "id": "mHKHE7h5Z91t"
      },
      "source": [
        ""
      ],
      "execution_count": null,
      "outputs": []
    },
    {
      "cell_type": "code",
      "metadata": {
        "id": "nKyG7xdKHobv"
      },
      "source": [
        "systemId = 'sys1'\n",
        "cols = list(df.columns.values)\n",
        "cols_remove = ['timestamp_seconds', 'systemId', 'model_type']\n",
        "W = 4\n",
        "cols_groups = split_columns(cols, cols_remove, W)\n",
        "print(f'cols_groups={cols_groups}')\n",
        "title_str = 'Before Transformation'\n",
        "\n",
        "for col_subset in cols_groups:\n",
        "  pairplot(df, systemId, col_subset, title_str)"
      ],
      "execution_count": null,
      "outputs": []
    },
    {
      "cell_type": "code",
      "metadata": {
        "id": "SmqsItbZ_bCR"
      },
      "source": [
        "print(f' data.shape={data.shape}, data_cols len={len(data_cols)}\\n data_cols={data_cols}')\n"
      ],
      "execution_count": null,
      "outputs": []
    },
    {
      "cell_type": "code",
      "metadata": {
        "id": "3_jGhaNqH-FO"
      },
      "source": [
        ""
      ],
      "execution_count": null,
      "outputs": []
    },
    {
      "cell_type": "code",
      "metadata": {
        "id": "EgtNPUf0xp-x"
      },
      "source": [
        "\n",
        "fig, ax = plt.subplots()\n",
        "ax.scatter(y_real, y_hat[:, 0])\n",
        "ax.plot([y_real.min(), y_real.max()], [y_real.min(), y_real.max()], 'k--', lw=4)\n",
        "ax.set_xlabel('Measured')\n",
        "ax.set_ylabel('Predicted')\n",
        "ax.grid()\n",
        "fig = plt.gcf()\n",
        "fig.set_size_inches(18.5, 5)\n",
        "plt.show()\n",
        "predicted.shape\n"
      ],
      "execution_count": null,
      "outputs": []
    },
    {
      "cell_type": "code",
      "metadata": {
        "id": "UcgEv1n7xqD-"
      },
      "source": [
        ""
      ],
      "execution_count": null,
      "outputs": []
    },
    {
      "cell_type": "code",
      "metadata": {
        "id": "TyVV3Z8pvqgK"
      },
      "source": [
        ""
      ],
      "execution_count": null,
      "outputs": []
    },
    {
      "cell_type": "markdown",
      "metadata": {
        "id": "BMZkqYdVz_Gu"
      },
      "source": [
        "Finished regression here"
      ]
    },
    {
      "cell_type": "code",
      "metadata": {
        "id": "XiUKOXZmwzL9"
      },
      "source": [
        ""
      ],
      "execution_count": null,
      "outputs": []
    },
    {
      "cell_type": "code",
      "metadata": {
        "id": "9aJCP5YHwzPC"
      },
      "source": [
        ""
      ],
      "execution_count": null,
      "outputs": []
    },
    {
      "cell_type": "code",
      "metadata": {
        "id": "1eL3dMJyUnxm"
      },
      "source": [
        "# Use LinearRegression for regression, LinearRegression for feature selection\n",
        "# DecisionTreeRegressor for feature selection ??? TODO\n",
        "# explore the number of selected features for RFE\n",
        "from numpy import mean\n",
        "from numpy import std\n",
        "from sklearn.datasets import make_classification\n",
        "from sklearn.model_selection import cross_val_score\n",
        "from sklearn.model_selection import KFold\n",
        "from sklearn.feature_selection import RFE\n",
        "from sklearn.linear_model import LinearRegression\n",
        "from sklearn.tree import DecisionTreeRegressor\n",
        "\n",
        "\n",
        "\n",
        "from sklearn.pipeline import Pipeline\n",
        "from matplotlib import pyplot\n",
        "\n",
        "n_features_to_select = [2, len(x_cols)]\n",
        "\n",
        "# get the dataset\n",
        "def get_dataset(X, Y):\n",
        "\tX, y = X, Y\n",
        "\treturn X, y\n",
        "\n",
        "# get a list of models to evaluate\n",
        "def get_models():\n",
        "\tmodels = dict()\n",
        "\tfor i in range(n_features_to_select[0], n_features_to_select[1]):\n",
        "\t\t#rfe = RFE(estimator=LinearRegression(), n_features_to_select=i)\n",
        "\t\trfe = RFE(estimator=DecisionTreeRegressor(), n_features_to_select=i)\n",
        "\t\tmodel = LinearRegression()\n",
        "\t\tmodels[str(i)] = Pipeline(steps=[('s',rfe),('m',model)])\n",
        "\treturn models\n",
        "\n",
        "# evaluate a give model using cross-validation\n",
        "def evaluate_model(model, X, y):\n",
        "\tcv = KFold(n_splits=10, shuffle=False, random_state=1)\n",
        "\tscores = cross_val_score(model, X, y, scoring='neg_mean_squared_error', cv=cv, n_jobs=-1, error_score='raise')\n",
        "\treturn scores\n",
        "\n",
        "# define dataset\n",
        "X, y = get_dataset(X, Y)\n",
        "# get the models to evaluate\n",
        "models = get_models()\n",
        "# evaluate the models and store results\n",
        "results, names = list(), list()\n",
        "for name, model in models.items():\n",
        "\tscores = evaluate_model(model, X, y)\n",
        "\tresults.append(scores)\n",
        "\tnames.append(name)\n",
        "\tprint('>%s %.3f (%.3f)' % (name, mean(scores), std(scores)))\n",
        "# plot model performance for comparison\n",
        "pyplot.boxplot(results, labels=names, showmeans=True)\n",
        "pyplot.show()\n",
        "pyplot.grid()"
      ],
      "execution_count": null,
      "outputs": []
    },
    {
      "cell_type": "code",
      "metadata": {
        "id": "gCQb4VZIVVFd"
      },
      "source": [
        "import sklearn.metrics as skmetrics\n",
        "sorted(skmetrics.SCORERS.keys())\n"
      ],
      "execution_count": null,
      "outputs": []
    },
    {
      "cell_type": "markdown",
      "metadata": {
        "id": "_zREitEanNuH"
      },
      "source": [
        "## Q5. Create a column where cpu_utilization < 20 is 0 and cpu_utilization >= 20 as 1. Using this newly created column build a logistic regression. Commment on the evaluation of the model."
      ]
    },
    {
      "cell_type": "code",
      "metadata": {
        "id": "Twy9oe8xnNRM",
        "colab": {
          "base_uri": "https://localhost:8080/"
        },
        "outputId": "237cd889-478c-49ee-989b-97809bf41b9d"
      },
      "source": [
        "print(X.shape, Y.shape)\n",
        "print(data_cols, '\\n', x_cols)\n",
        "print(type(X))"
      ],
      "execution_count": 99,
      "outputs": [
        {
          "output_type": "stream",
          "text": [
            "(7926, 17) (7926,)\n",
            "['cpu_utilization', 'read_cache_miss', 'write_cache_miss', 'read_iops', 'write_iops', 'read_throughput', 'write_throughput', 'read_iosz', 'write_iosz', 'timestamp_seconds', 'Week_Sin', 'Week_Cos', 'Day_Sin', 'Day_Cos', 'Hour_Sin', 'Hour_Cos', 'systemId', 'model_type'] \n",
            " ['read_cache_miss', 'write_cache_miss', 'read_iops', 'write_iops', 'read_throughput', 'write_throughput', 'read_iosz', 'write_iosz', 'timestamp_seconds', 'Week_Sin', 'Week_Cos', 'Day_Sin', 'Day_Cos', 'Hour_Sin', 'Hour_Cos', 'systemId', 'model_type']\n",
            "<class 'numpy.ndarray'>\n"
          ],
          "name": "stdout"
        }
      ]
    },
    {
      "cell_type": "code",
      "metadata": {
        "id": "fG8Kz56q2VPx"
      },
      "source": [
        "target_threshold = target_transformer.transform([[20]])\n",
        "target_threshold = target_threshold[0]"
      ],
      "execution_count": 100,
      "outputs": []
    },
    {
      "cell_type": "code",
      "metadata": {
        "id": "8bjufSXFnND8"
      },
      "source": [
        "f = lambda x: x>target_threshold\n",
        "Y_cat = f(Y)*1\n"
      ],
      "execution_count": 101,
      "outputs": []
    },
    {
      "cell_type": "code",
      "metadata": {
        "id": "v13ctAru_D86"
      },
      "source": [
        ""
      ],
      "execution_count": null,
      "outputs": []
    },
    {
      "cell_type": "code",
      "metadata": {
        "id": "5hBbzJ8G3Tht",
        "colab": {
          "base_uri": "https://localhost:8080/",
          "height": 264
        },
        "outputId": "eff55806-d015-4f05-9e7f-aeff5802fe0b"
      },
      "source": [
        "# Get orignal target w/o transformation from df\n",
        "def get_target(df, systemId_selected, numerical_transform_cols):\n",
        "  if systemId_selected[0] == 'All':\n",
        "    df_tmp = df[numerical_transform_cols]\n",
        "  else:  \n",
        "    df_tmp = df[df['systemId']==systemId_selected[0]][numerical_transform_cols]\n",
        "  return df_tmp.values\n",
        "\n",
        "y_real = get_target(df, SYSTEM_ID_SELECTED, 'cpu_utilization' )\n",
        "_= plt.hist(y_real)\n",
        "\n",
        "\n",
        "_=plt.hist(Y)"
      ],
      "execution_count": 110,
      "outputs": [
        {
          "output_type": "display_data",
          "data": {
            "image/png": "[encoded data removed]",
            "text/plain": [
              "<Figure size 432x288 with 1 Axes>"
            ]
          },
          "metadata": {
            "tags": [],
            "needs_background": "light"
          }
        }
      ]
    },
    {
      "cell_type": "code",
      "metadata": {
        "id": "cd5FUhHC2JCb"
      },
      "source": [
        ""
      ],
      "execution_count": null,
      "outputs": []
    },
    {
      "cell_type": "code",
      "metadata": {
        "colab": {
          "base_uri": "https://localhost:8080/",
          "height": 264
        },
        "id": "Pu0fFZWt_MB1",
        "outputId": "2436f691-3454-4d05-d633-43239a4a4624"
      },
      "source": [
        "f1 = lambda x: x>20\n",
        "y_real_cat = f1(y_real)*1\n",
        "_= plt.hist(y_real_cat)"
      ],
      "execution_count": 108,
      "outputs": [
        {
          "output_type": "display_data",
          "data": {
            "image/png": "[encoded data removed]",
            "text/plain": [
              "<Figure size 432x288 with 1 Axes>"
            ]
          },
          "metadata": {
            "tags": [],
            "needs_background": "light"
          }
        }
      ]
    },
    {
      "cell_type": "code",
      "metadata": {
        "id": "33Bd9EmonM2_",
        "colab": {
          "base_uri": "https://localhost:8080/",
          "height": 264
        },
        "outputId": "15581b19-9dc3-4890-9097-d4a00cc8cebd"
      },
      "source": [
        "_= plt.hist(Y_cat)"
      ],
      "execution_count": 103,
      "outputs": [
        {
          "output_type": "display_data",
          "data": {
            "image/png": "[encoded data removed]",
            "text/plain": [
              "<Figure size 432x288 with 1 Axes>"
            ]
          },
          "metadata": {
            "tags": [],
            "needs_background": "light"
          }
        }
      ]
    },
    {
      "cell_type": "code",
      "metadata": {
        "id": "1f4_54yf88xW"
      },
      "source": [
        "# Use LogisticRegression for classification, DecisionTreeClassifier for feature selection\n",
        "\n",
        "# explore the number of selected features for RFE\n",
        "from numpy import mean\n",
        "from numpy import std\n",
        "from sklearn.datasets import make_classification\n",
        "from sklearn.model_selection import cross_val_score\n",
        "from sklearn.model_selection import RepeatedStratifiedKFold\n",
        "from sklearn.feature_selection import RFE\n",
        "from sklearn.tree import DecisionTreeClassifier\n",
        "from sklearn.linear_model import LogisticRegression\n",
        "\n",
        "from sklearn.ensemble import RandomForestClassifier\n",
        "\n",
        "from sklearn.pipeline import Pipeline\n",
        "from matplotlib import pyplot\n",
        "\n",
        "n_features_to_select = [2, len(x_cols)]\n",
        "\n",
        "# get the dataset\n",
        "def get_dataset(X, Y):\n",
        "\tX, y = X, Y\n",
        "\treturn X, y\n",
        "\n",
        "# get a list of models to evaluate\n",
        "def get_models():\n",
        "\tmodels = dict()\n",
        "\tfor i in range(n_features_to_select[0], n_features_to_select[1]):\n",
        "\t\trfe = RFE(estimator=DecisionTreeClassifier(), n_features_to_select=i)\n",
        "\t\tmodel = LogisticRegression()\n",
        "\t\tmodels[str(i)] = Pipeline(steps=[('s',rfe),('m',model)])\n",
        "\treturn models\n",
        "\n",
        "# evaluate a give model using cross-validation\n",
        "def evaluate_model(model, X, y):\n",
        "\tcv = RepeatedStratifiedKFold(n_splits=10, n_repeats=3, random_state=1)\n",
        "\tscores = cross_val_score(model, X, y, scoring='accuracy', cv=cv, n_jobs=-1, error_score='raise')\n",
        "\treturn scores\n",
        "\n",
        "# define dataset\n",
        "X, y = get_dataset(X, Y_cat)\n",
        "# get the models to evaluate\n",
        "models = get_models()\n",
        "# evaluate the models and store results\n",
        "results, names = list(), list()\n",
        "for name, model in models.items():\n",
        "\tscores = evaluate_model(model, X, y)\n",
        "\tresults.append(scores)\n",
        "\tnames.append(name)\n",
        "\tprint('>%s %.3f (%.3f)' % (name, mean(scores), std(scores)))\n",
        "# plot model performance for comparison\n",
        "pyplot.boxplot(results, labels=names, showmeans=True)\n",
        "pyplot.show()"
      ],
      "execution_count": null,
      "outputs": []
    },
    {
      "cell_type": "markdown",
      "metadata": {
        "id": "bWPq13WoFkwb"
      },
      "source": [
        "## Q6. Fit a simple decision tree regressor to this data. Comment about the fit of the model"
      ]
    },
    {
      "cell_type": "code",
      "metadata": {
        "id": "Cm-XHcuoFzD9"
      },
      "source": [
        "# explore the number of selected features for RFE\n",
        "from numpy import mean\n",
        "from numpy import std\n",
        "from sklearn.datasets import make_classification\n",
        "from sklearn.model_selection import cross_val_score\n",
        "from sklearn.model_selection import RepeatedStratifiedKFold\n",
        "from sklearn.feature_selection import RFE\n",
        "from sklearn.tree import DecisionTreeClassifier\n",
        "from sklearn.pipeline import Pipeline\n",
        "from matplotlib import pyplot\n",
        "\n",
        "n_features_to_select = [2, len(x_cols)]\n",
        "\n",
        "# get the dataset\n",
        "def get_dataset(X, Y):\n",
        "\tX, y = X, Y\n",
        "\treturn X, y\n",
        "\n",
        "# get a list of models to evaluate\n",
        "def get_models():\n",
        "\tmodels = dict()\n",
        "\tfor i in range(n_features_to_select[0], n_features_to_select[1]):\n",
        "\t\trfe = RFE(estimator=DecisionTreeClassifier(), n_features_to_select=i)\n",
        "\t\tmodel = DecisionTreeClassifier()\n",
        "\t\tmodels[str(i)] = Pipeline(steps=[('s',rfe),('m',model)])\n",
        "\treturn models\n",
        "\n",
        "# evaluate a give model using cross-validation\n",
        "def evaluate_model(model, X, y):\n",
        "\tcv = RepeatedStratifiedKFold(n_splits=10, n_repeats=3, random_state=1)\n",
        "\tscores = cross_val_score(model, X, y, scoring='accuracy', cv=cv, n_jobs=-1, error_score='raise')\n",
        "\treturn scores\n",
        "\n",
        "# define dataset\n",
        "X, y = get_dataset(X, Y_cat)\n",
        "# get the models to evaluate\n",
        "models = get_models()\n",
        "# evaluate the models and store results\n",
        "results, names = list(), list()\n",
        "for name, model in models.items():\n",
        "\tscores = evaluate_model(model, X, y)\n",
        "\tresults.append(scores)\n",
        "\tnames.append(name)\n",
        "\tprint('>%s %.3f (%.3f)' % (name, mean(scores), std(scores)))\n",
        "# plot model performance for comparison\n",
        "pyplot.boxplot(results, labels=names, showmeans=True)\n",
        "pyplot.show()"
      ],
      "execution_count": null,
      "outputs": []
    },
    {
      "cell_type": "markdown",
      "metadata": {
        "id": "ISHSD3FTQV2H"
      },
      "source": [
        "## Q7. Fit a Random forest regressor. Compare this with simple dicision tree. If Random forest is better then why"
      ]
    },
    {
      "cell_type": "code",
      "metadata": {
        "id": "Qq5mWNf3QkUD"
      },
      "source": [
        "# Use RandomForestClassifier for classification, DecisionTreeClassifier for feature selection\n",
        "# TODO: add f1-score for biased classification\n",
        "# explore the number of selected features for RFE\n",
        "from numpy import mean\n",
        "from numpy import std\n",
        "from sklearn.datasets import make_classification\n",
        "from sklearn.model_selection import cross_val_score\n",
        "from sklearn.model_selection import RepeatedStratifiedKFold\n",
        "from sklearn.feature_selection import RFE\n",
        "from sklearn.tree import DecisionTreeClassifier\n",
        "from sklearn.ensemble import RandomForestClassifier\n",
        "\n",
        "from sklearn.pipeline import Pipeline\n",
        "from matplotlib import pyplot\n",
        "\n",
        "n_features_to_select = [2, len(x_cols)]\n",
        "\n",
        "# get the dataset\n",
        "def get_dataset(X, Y):\n",
        "\tX, y = X, Y\n",
        "\treturn X, y\n",
        "\n",
        "# get a list of models to evaluate\n",
        "def get_models():\n",
        "\tmodels = dict()\n",
        "\tfor i in range(n_features_to_select[0], n_features_to_select[1]):\n",
        "\t\trfe = RFE(estimator=DecisionTreeClassifier(), n_features_to_select=i)\n",
        "\t\tmodel = RandomForestClassifier()\n",
        "\t\tmodels[str(i)] = Pipeline(steps=[('s',rfe),('m',model)])\n",
        "\treturn models\n",
        "\n",
        "# evaluate a give model using cross-validation\n",
        "def evaluate_model(model, X, y):\n",
        "\tcv = RepeatedStratifiedKFold(n_splits=10, n_repeats=3, random_state=1)\n",
        "\tscores = cross_val_score(model, X, y, scoring='accuracy', cv=cv, n_jobs=-1, error_score='raise')\n",
        "\treturn scores\n",
        "\n",
        "# define dataset\n",
        "X, y = get_dataset(X, Y_cat)\n",
        "# get the models to evaluate\n",
        "models = get_models()\n",
        "# evaluate the models and store results\n",
        "results, names = list(), list()\n",
        "for name, model in models.items():\n",
        "\tscores = evaluate_model(model, X, y)\n",
        "\tresults.append(scores)\n",
        "\tnames.append(name)\n",
        "\tprint('>%s %.3f (%.3f)' % (name, mean(scores), std(scores)))\n",
        "# plot model performance for comparison\n",
        "pyplot.boxplot(results, labels=names, showmeans=True)\n",
        "pyplot.show()"
      ],
      "execution_count": null,
      "outputs": []
    },
    {
      "cell_type": "markdown",
      "metadata": {
        "id": "4_oc59AaQl_2"
      },
      "source": [
        "## Q8. How do improve the accuracy of Random forest regressor"
      ]
    },
    {
      "cell_type": "code",
      "metadata": {
        "id": "UPz1m2MCQs5C"
      },
      "source": [
        "df.head()"
      ],
      "execution_count": null,
      "outputs": []
    },
    {
      "cell_type": "code",
      "metadata": {
        "id": "el_i1OMb9Gmh"
      },
      "source": [
        ""
      ],
      "execution_count": null,
      "outputs": []
    },
    {
      "cell_type": "markdown",
      "metadata": {
        "id": "o1BGrdNA8gSE"
      },
      "source": [
        "## Q9. Cluster the input variables using KMeans and GMM.\n",
        "       \n",
        "1.   Draw the contour plots\n",
        "2.   Explain the hyper-parameters you choose and why?\n",
        "\n",
        "PCA t-SNE \n"
      ]
    },
    {
      "cell_type": "code",
      "metadata": {
        "id": "auoYiJQXTNNW",
        "colab": {
          "base_uri": "https://localhost:8080/"
        },
        "outputId": "1c1e5054-ab16-4385-a1d2-7ff9d17dd2bf"
      },
      "source": [
        "from sklearn.cluster import KMeans\n",
        "from sklearn.decomposition import PCA\n",
        "pca = PCA()\n",
        "pca.fit(X)"
      ],
      "execution_count": 113,
      "outputs": [
        {
          "output_type": "execute_result",
          "data": {
            "text/plain": [
              "PCA(copy=True, iterated_power='auto', n_components=None, random_state=None,\n",
              "    svd_solver='auto', tol=0.0, whiten=False)"
            ]
          },
          "metadata": {
            "tags": []
          },
          "execution_count": 113
        }
      ]
    },
    {
      "cell_type": "code",
      "metadata": {
        "colab": {
          "base_uri": "https://localhost:8080/",
          "height": 673
        },
        "id": "WviOnEKoU0MO",
        "outputId": "538ab403-6e57-40c1-f3d7-a08d3280cfe5"
      },
      "source": [
        "print(pca.explained_variance_) \n",
        "print(pca.explained_variance_ratio_)\n",
        "print(pca.explained_variance_ratio_.cumsum())\n",
        "\n",
        "plt.figure(figsize=(10,8))\n",
        "plt.plot(range(1, X.shape[1]+1), pca.explained_variance_ratio_.cumsum(), marker='o', linestyle='--')\n",
        "plt.title('explained variance by components')\n",
        "plt.xlabel('Number of components')\n",
        "plt.ylabel('cumulative explained variance')\n",
        "plt.grid()\n",
        "\n"
      ],
      "execution_count": 122,
      "outputs": [
        {
          "output_type": "stream",
          "text": [
            "[3.16774289 1.90798773 1.42574181 1.17145948 0.31357353 0.17087548\n",
            " 0.12563483 0.12132785 0.11582626 0.11176209 0.07583207 0.05713354\n",
            " 0.0453886  0.01556034 0.00663498 0.         0.        ]\n",
            "[0.35864699 0.21601944 0.1614203  0.13263084 0.03550231 0.01934626\n",
            " 0.01422418 0.01373655 0.01311367 0.01265353 0.00858559 0.00646857\n",
            " 0.00513883 0.00176172 0.0007512  0.         0.        ]\n",
            "[0.35864699 0.57466643 0.73608673 0.86871758 0.90421989 0.92356615\n",
            " 0.93779033 0.95152689 0.96464056 0.97729409 0.98587968 0.99234825\n",
            " 0.99748708 0.9992488  1.         1.         1.        ]\n"
          ],
          "name": "stdout"
        },
        {
          "output_type": "display_data",
          "data": {
            "image/png": "[encoded data removed]",
            "text/plain": [
              "<Figure size 720x576 with 1 Axes>"
            ]
          },
          "metadata": {
            "tags": [],
            "needs_background": "light"
          }
        }
      ]
    },
    {
      "cell_type": "code",
      "metadata": {
        "colab": {
          "base_uri": "https://localhost:8080/"
        },
        "id": "_KZwtbRgX1Pc",
        "outputId": "9b093e07-b570-4ac7-cf3a-40308b875557"
      },
      "source": [
        "# We keep the first 4 components to get a cumulative variance of 86 per cent;\n",
        "\n",
        "num_components_pca = 4\n",
        "pca = PCA(n_components = num_components_pca)\n",
        "pca.fit(X)\n",
        "\n"
      ],
      "execution_count": 123,
      "outputs": [
        {
          "output_type": "execute_result",
          "data": {
            "text/plain": [
              "PCA(copy=True, iterated_power='auto', n_components=4, random_state=None,\n",
              "    svd_solver='auto', tol=0.0, whiten=False)"
            ]
          },
          "metadata": {
            "tags": []
          },
          "execution_count": 123
        }
      ]
    },
    {
      "cell_type": "code",
      "metadata": {
        "id": "vfVtvX2EX1Y3"
      },
      "source": [
        "pca_out = pca.transform(X)\n",
        "score_pca = pca.transform(X)\n"
      ],
      "execution_count": 124,
      "outputs": []
    },
    {
      "cell_type": "code",
      "metadata": {
        "colab": {
          "base_uri": "https://localhost:8080/"
        },
        "id": "b9Sb0rfwYtlF",
        "outputId": "ba717453-bfc5-4b31-ccec-f08c9c94e8ce"
      },
      "source": [
        "print(pca_out.shape, X.shape)"
      ],
      "execution_count": 126,
      "outputs": [
        {
          "output_type": "stream",
          "text": [
            "(7926, 4) (7926, 17)\n"
          ],
          "name": "stdout"
        }
      ]
    },
    {
      "cell_type": "code",
      "metadata": {
        "id": "1zPInUDfZkQo"
      },
      "source": [
        "def plot_kmeans_inertia(title, wcss):\n",
        "  plt.figure(figsize=(10,8))\n",
        "  plt.plot(range(1,num_clusters), wcss, marker='o', linestyle='--')\n",
        "  plt.xlabel('Number of Clusters')\n",
        "  plt.ylabel('WCSS')\n",
        "  plt.title(title)\n",
        "  plt.grid()\n",
        "  plt.show()\n"
      ],
      "execution_count": 136,
      "outputs": []
    },
    {
      "cell_type": "code",
      "metadata": {
        "id": "cikA0xwdbRvB"
      },
      "source": [
        "# K-Means with PCA outputs\n",
        "num_clusters = 27\n",
        "wcss = [] # Sum of squared distances of samples to their closest cluster center.\n",
        "\n",
        "for i in range(1, num_clusters):\n",
        "    kmeans = KMeans(n_clusters = i, init = 'k-means++', random_state=0)\n",
        "    kmeans.fit(pca_out)\n",
        "    wcss.append(kmeans.inertia_)\n",
        "\n",
        "    "
      ],
      "execution_count": 134,
      "outputs": []
    },
    {
      "cell_type": "code",
      "metadata": {
        "id": "B98f3cliZkIv"
      },
      "source": [
        "# K-Means with whole X (17 columns)\n",
        "num_clusters = 27\n",
        "wcss_no_pca = [] # Sum of squared distances of samples to their closest cluster center.\n",
        "\n",
        "for i in range(1, num_clusters):\n",
        "    kmeans = KMeans(n_clusters = i, init = 'k-means++', random_state=0)\n",
        "    kmeans.fit(X)\n",
        "    wcss_no_pca.append(kmeans.inertia_)\n",
        "\n",
        "    "
      ],
      "execution_count": 128,
      "outputs": []
    },
    {
      "cell_type": "code",
      "metadata": {
        "colab": {
          "base_uri": "https://localhost:8080/",
          "height": 513
        },
        "id": "tF16jNOxb973",
        "outputId": "362e4c2e-e40b-4273-b6bb-c63a06fdd376"
      },
      "source": [
        "title = 'K-Means with PCA'\n",
        "plot_kmeans_inertia(title, wcss)"
      ],
      "execution_count": 137,
      "outputs": [
        {
          "output_type": "display_data",
          "data": {
            "image/png": "[encoded data removed]",
            "text/plain": [
              "<Figure size 720x576 with 1 Axes>"
            ]
          },
          "metadata": {
            "tags": [],
            "needs_background": "light"
          }
        }
      ]
    },
    {
      "cell_type": "code",
      "metadata": {
        "id": "Ct6LA6O6Zka6"
      },
      "source": [
        "title = 'K-Means without PCA'\n",
        "plot_kmeans_inertia(title, wcss_no_pca)"
      ],
      "execution_count": null,
      "outputs": []
    },
    {
      "cell_type": "code",
      "metadata": {
        "id": "SbND_g7WU0dx"
      },
      "source": [
        "\n",
        "kmeans = KMeans(n_clusters=2, random_state=0).fit(X)\n",
        "kmeans.labels_\n"
      ],
      "execution_count": null,
      "outputs": []
    },
    {
      "cell_type": "code",
      "metadata": {
        "id": "6Tm4Zb2WYta-"
      },
      "source": [
        ""
      ],
      "execution_count": null,
      "outputs": []
    },
    {
      "cell_type": "code",
      "metadata": {
        "id": "8bA8VodTTKF9"
      },
      "source": [
        "kmeans.predict([[0, 0], [12, 3]])\n",
        "kmeans.cluster_centers_\n"
      ],
      "execution_count": null,
      "outputs": []
    }
  ]
}