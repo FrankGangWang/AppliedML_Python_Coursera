{
  "nbformat": 4,
  "nbformat_minor": 0,
  "metadata": {
    "colab": {
      "name": "Copy of Copy of Interview for DataScience - 2.ipynb",
      "provenance": [],
      "collapsed_sections": [],
      "include_colab_link": true
    },
    "kernelspec": {
      "name": "python3",
      "display_name": "Python 3"
    }
  },
  "cells": [
    {
      "cell_type": "markdown",
      "metadata": {
        "id": "view-in-github",
        "colab_type": "text"
      },
      "source": [
        "<a href=\"https://colab.research.google.com/github/FrankGangWang/AppliedML_Python_Coursera/blob/master/Copy_of_Copy_of_Interview_for_DataScience_2.ipynb\" target=\"_parent\"><img src=\"https://colab.research.google.com/assets/colab-badge.svg\" alt=\"Open In Colab\"/></a>"
      ]
    },
    {
      "cell_type": "markdown",
      "metadata": {
        "id": "rqlyZk0Z-kf0"
      },
      "source": [
        "**Interview questions to test data science skills**\n",
        "\n",
        "---\n",
        "\n",
        "\n"
      ]
    },
    {
      "cell_type": "markdown",
      "metadata": {
        "id": "1aR3yaVg-6FC"
      },
      "source": [
        "# Let's load the data from public GitHub account"
      ]
    },
    {
      "cell_type": "code",
      "metadata": {
        "id": "zMU3MFw0-ZRS"
      },
      "source": [
        "import pandas as pd\n",
        "import numpy as np"
      ],
      "execution_count": 1,
      "outputs": []
    },
    {
      "cell_type": "markdown",
      "metadata": {
        "id": "BDSqgzAExHrS"
      },
      "source": [
        ""
      ]
    },
    {
      "cell_type": "code",
      "metadata": {
        "id": "0VEsPDVv-jp-"
      },
      "source": [
        "df = pd.read_pickle(\"https://github.com/manjiler/interview_for_datascience/raw/master/interview_storage.pkl\")"
      ],
      "execution_count": 2,
      "outputs": []
    },
    {
      "cell_type": "markdown",
      "metadata": {
        "id": "FcKfvKIUxHXP"
      },
      "source": [
        ""
      ]
    },
    {
      "cell_type": "code",
      "metadata": {
        "id": "qogfkFckDERq",
        "colab": {
          "base_uri": "https://localhost:8080/",
          "height": 224
        },
        "outputId": "7041bca4-5804-4e26-b70d-ff98041c7f7e"
      },
      "source": [
        "df.head(5)"
      ],
      "execution_count": 3,
      "outputs": [
        {
          "output_type": "execute_result",
          "data": {
            "text/html": [
              "<div>\n",
              "<style scoped>\n",
              "    .dataframe tbody tr th:only-of-type {\n",
              "        vertical-align: middle;\n",
              "    }\n",
              "\n",
              "    .dataframe tbody tr th {\n",
              "        vertical-align: top;\n",
              "    }\n",
              "\n",
              "    .dataframe thead th {\n",
              "        text-align: right;\n",
              "    }\n",
              "</style>\n",
              "<table border=\"1\" class=\"dataframe\">\n",
              "  <thead>\n",
              "    <tr style=\"text-align: right;\">\n",
              "      <th></th>\n",
              "      <th>systemId</th>\n",
              "      <th>timestamp</th>\n",
              "      <th>model_type</th>\n",
              "      <th>cpu_utilization</th>\n",
              "      <th>read_cache_miss</th>\n",
              "      <th>write_cache_miss</th>\n",
              "      <th>read_iops</th>\n",
              "      <th>write_iops</th>\n",
              "      <th>read_throughput</th>\n",
              "      <th>write_throughput</th>\n",
              "      <th>read_iosz</th>\n",
              "      <th>write_iosz</th>\n",
              "    </tr>\n",
              "  </thead>\n",
              "  <tbody>\n",
              "    <tr>\n",
              "      <th>0</th>\n",
              "      <td>sys1</td>\n",
              "      <td>1.572807e+12</td>\n",
              "      <td>A</td>\n",
              "      <td>18.701342</td>\n",
              "      <td>24.334389</td>\n",
              "      <td>71.529175</td>\n",
              "      <td>12990.702148</td>\n",
              "      <td>13171.539062</td>\n",
              "      <td>502967.31250</td>\n",
              "      <td>359029.093750</td>\n",
              "      <td>38.720345</td>\n",
              "      <td>27.258642</td>\n",
              "    </tr>\n",
              "    <tr>\n",
              "      <th>1</th>\n",
              "      <td>sys2</td>\n",
              "      <td>1.572812e+12</td>\n",
              "      <td>A</td>\n",
              "      <td>10.630484</td>\n",
              "      <td>11.163696</td>\n",
              "      <td>64.186844</td>\n",
              "      <td>34157.523438</td>\n",
              "      <td>25964.236328</td>\n",
              "      <td>482210.59375</td>\n",
              "      <td>537779.562500</td>\n",
              "      <td>14.117196</td>\n",
              "      <td>20.712614</td>\n",
              "    </tr>\n",
              "    <tr>\n",
              "      <th>2</th>\n",
              "      <td>sys3</td>\n",
              "      <td>1.572812e+12</td>\n",
              "      <td>B</td>\n",
              "      <td>5.637269</td>\n",
              "      <td>7.230949</td>\n",
              "      <td>62.729401</td>\n",
              "      <td>11787.345703</td>\n",
              "      <td>5525.521484</td>\n",
              "      <td>394009.28125</td>\n",
              "      <td>172450.578125</td>\n",
              "      <td>33.425911</td>\n",
              "      <td>31.209654</td>\n",
              "    </tr>\n",
              "    <tr>\n",
              "      <th>3</th>\n",
              "      <td>sys4</td>\n",
              "      <td>1.572813e+12</td>\n",
              "      <td>A</td>\n",
              "      <td>3.380666</td>\n",
              "      <td>13.382729</td>\n",
              "      <td>56.605385</td>\n",
              "      <td>28032.042969</td>\n",
              "      <td>14931.455078</td>\n",
              "      <td>412009.06250</td>\n",
              "      <td>205794.531250</td>\n",
              "      <td>14.697840</td>\n",
              "      <td>13.782779</td>\n",
              "    </tr>\n",
              "    <tr>\n",
              "      <th>4</th>\n",
              "      <td>sys5</td>\n",
              "      <td>1.572817e+12</td>\n",
              "      <td>A</td>\n",
              "      <td>2.641213</td>\n",
              "      <td>17.485886</td>\n",
              "      <td>69.983536</td>\n",
              "      <td>22266.902344</td>\n",
              "      <td>7150.452148</td>\n",
              "      <td>658391.06250</td>\n",
              "      <td>225116.828125</td>\n",
              "      <td>29.568398</td>\n",
              "      <td>31.482992</td>\n",
              "    </tr>\n",
              "  </tbody>\n",
              "</table>\n",
              "</div>"
            ],
            "text/plain": [
              "  systemId     timestamp model_type  ...  write_throughput  read_iosz  write_iosz\n",
              "0     sys1  1.572807e+12          A  ...     359029.093750  38.720345   27.258642\n",
              "1     sys2  1.572812e+12          A  ...     537779.562500  14.117196   20.712614\n",
              "2     sys3  1.572812e+12          B  ...     172450.578125  33.425911   31.209654\n",
              "3     sys4  1.572813e+12          A  ...     205794.531250  14.697840   13.782779\n",
              "4     sys5  1.572817e+12          A  ...     225116.828125  29.568398   31.482992\n",
              "\n",
              "[5 rows x 12 columns]"
            ]
          },
          "metadata": {
            "tags": []
          },
          "execution_count": 3
        }
      ]
    },
    {
      "cell_type": "markdown",
      "metadata": {
        "id": "ANYv7bdPEdpX"
      },
      "source": [
        "## Now that the data is loaded. let's begin!!!\n",
        "\n",
        "# **About the data**\n",
        "\n",
        "---\n",
        "This is time series data for one month collected for N number of devices\n",
        "\n",
        "Columns\n",
        "\n",
        "systemId - Device name\n",
        "\n",
        "timestamp - epoch time when the sensor data was collected\n",
        "\n",
        "model_type - Different versions/release/model of the device (similar to mobile models)\n",
        "\n",
        "cpu_utilization - this percentage of how much the CPU is used on the device.\n",
        "\n",
        "read_cache_miss - Percentage of read that were not present in the Cache\n",
        "\n",
        "write_cache_miss - Percentage of write that were not present in the Cache\n",
        "\n",
        "read_iops -  Number of read IOs per second (Input/Output)\n",
        "\n",
        "write_iops -  Nummber of write IOs per second (Input/Output)\n",
        "\n",
        "read_throughput - the read bandwidth per second (Units kbps)\n",
        "\n",
        "write_throughput - the write bandwidth per second (Units kbps)\n",
        "\n",
        "read_iosz - the block size for read Input/Output operations\n",
        "\n",
        "write_iosz - the block size for write Input/Output operations\n",
        "\n",
        "\n",
        "y -> cpu_utilization\n",
        "\n"
      ]
    },
    {
      "cell_type": "code",
      "metadata": {
        "colab": {
          "base_uri": "https://localhost:8080/"
        },
        "id": "zHSb8UfwgCH2",
        "outputId": "bc230b6b-476c-4601-e5b6-4aafa4b5f225"
      },
      "source": [
        "print(f\" df.shape={df.shape},\\n df.columns={df.columns}\")\n",
        "sysIDs = np.unique(df['systemId'])\n",
        "print(f\" sysIDs shape={sysIDs.shape},\\n sysIDs={sysIDs}\")\n",
        "model_types = np.unique(df['model_type'])\n",
        "print(f\" model_types shape={model_types.shape}, model_types ={model_types}\")"
      ],
      "execution_count": 4,
      "outputs": [
        {
          "output_type": "stream",
          "text": [
            "df.shape=(175505, 12),\n",
            " df.columns=Index(['systemId', 'timestamp', 'model_type', 'cpu_utilization',\n",
            "       'read_cache_miss', 'write_cache_miss', 'read_iops', 'write_iops',\n",
            "       'read_throughput', 'write_throughput', 'read_iosz', 'write_iosz'],\n",
            "      dtype='object')\n",
            "sysIDs shape=(27,),\n",
            " sysIDs=['sys1' 'sys10' 'sys11' 'sys12' 'sys13' 'sys14' 'sys15' 'sys16' 'sys17'\n",
            " 'sys18' 'sys19' 'sys2' 'sys20' 'sys21' 'sys22' 'sys23' 'sys24' 'sys25'\n",
            " 'sys26' 'sys27' 'sys3' 'sys4' 'sys5' 'sys6' 'sys7' 'sys8' 'sys9']\n",
            "model_types shape=(3,), model_types =['A' 'B' 'C']\n"
          ],
          "name": "stdout"
        }
      ]
    },
    {
      "cell_type": "markdown",
      "metadata": {
        "id": "yw8r7vKGEklC"
      },
      "source": [
        "## Q1. Do an EDA on the data, correlation plots, features that might be important for the modeling. Share your observations. Comment on how the data looks from modeling perspective"
      ]
    },
    {
      "cell_type": "code",
      "metadata": {
        "id": "xspOUHMGDf8o"
      },
      "source": [
        "from string import ascii_letters\n",
        "import numpy as np\n",
        "import pandas as pd\n",
        "import seaborn as sns\n",
        "import matplotlib.pyplot as plt\n",
        "\n",
        "sns.set_theme(style=\"white\")\n",
        "\n",
        "# Compute the correlation matrix\n",
        "corr = df.corr()\n",
        "\n",
        "# Generate a mask for the upper triangle\n",
        "mask = np.triu(np.ones_like(corr, dtype=bool))\n",
        "\n",
        "# Set up the matplotlib figure\n",
        "f, ax = plt.subplots(figsize=(11, 9))\n",
        "\n",
        "# Generate a custom diverging colormap\n",
        "cmap = sns.diverging_palette(230, 20, as_cmap=True)\n",
        "\n",
        "# Draw the heatmap with the mask and correct aspect ratio\n",
        "sns.heatmap(corr, mask=mask, cmap=cmap, vmax=.3, center=0,\n",
        "            square=True, linewidths=.5, cbar_kws={\"shrink\": .5})"
      ],
      "execution_count": null,
      "outputs": []
    },
    {
      "cell_type": "markdown",
      "metadata": {
        "id": "mF5qqPmeErjG"
      },
      "source": [
        "## Q2. Group on systemId and one week's duration and then calculate following custom metrics\n",
        "- std/median on columns read_iops, read_cache_miss\n",
        "- rolling mean on columns write_throughput and write_iosz\n",
        "- exponential moving average on column write_cache_miss and write_iops\n"
      ]
    },
    {
      "cell_type": "code",
      "metadata": {
        "colab": {
          "base_uri": "https://localhost:8080/"
        },
        "id": "PTcTkKQPlP2k",
        "outputId": "18b43c4a-3ef3-418c-8886-7b0ecdfb9eb3"
      },
      "source": [
        "import datetime\n",
        "df['timestamp'] = pd.to_datetime(df['timestamp'], unit='ms', origin='unix')\n",
        "print(f\" time min={df['timestamp'].min()}, \\n time max={df['timestamp'].max()}\")\n",
        "print(df.head(3))\n",
        "print(df.tail(3))\n",
        "t_week = datetime.timedelta(weeks=1)\n",
        "t_start = df['timestamp'].min()\n",
        "t_stop = t_start + t_week\n",
        "df1 = df[(df['timestamp'] > t_start) & (df['timestamp'] <= t_stop )]\n",
        "print(f\"t_start={t_start}, t_stop={t_stop}\")\n",
        "print(f\" time min={df1['timestamp'].min()}, \\n time max={df1['timestamp'].max()}\")\n",
        "print(f\"df shape={df.shape}, df1 shape={df1.shape}\")"
      ],
      "execution_count": 5,
      "outputs": [
        {
          "output_type": "stream",
          "text": [
            " time min=2019-11-01 00:00:00, \n",
            " time max=2019-11-30 23:55:00\n",
            "  systemId           timestamp  ...  read_iosz  write_iosz\n",
            "0     sys1 2019-11-03 18:45:00  ...  38.720345   27.258642\n",
            "1     sys2 2019-11-03 20:10:00  ...  14.117196   20.712614\n",
            "2     sys3 2019-11-03 20:20:00  ...  33.425911   31.209654\n",
            "\n",
            "[3 rows x 12 columns]\n",
            "       systemId           timestamp  ...  read_iosz  write_iosz\n",
            "175502    sys11 2019-11-05 17:30:00  ...  22.286919   28.591885\n",
            "175503    sys16 2019-11-05 17:35:00  ...  25.663826   15.902384\n",
            "175504    sys19 2019-11-05 17:35:00  ...  15.130266   21.385305\n",
            "\n",
            "[3 rows x 12 columns]\n",
            "t_start=2019-11-01 00:00:00, t_stop=2019-11-08 00:00:00\n",
            " time min=2019-11-01 00:05:00, \n",
            " time max=2019-11-08 00:00:00\n",
            "df shape=(175505, 12), df1 shape=(49862, 12)\n"
          ],
          "name": "stdout"
        }
      ]
    },
    {
      "cell_type": "code",
      "metadata": {
        "id": "fdBAfRgwpHjI"
      },
      "source": [
        "df1_sysId = df1[df1['systemId']=='sys1']\n",
        "del df1_sysId['systemId']\n",
        "df1_sysId.head()"
      ],
      "execution_count": null,
      "outputs": []
    },
    {
      "cell_type": "code",
      "metadata": {
        "id": "KeLHQNA8p4ar"
      },
      "source": [
        "df1_sysId = df1_sysId.sort_values(by='timestamp')\n",
        "df1_sysId.head(8)"
      ],
      "execution_count": null,
      "outputs": []
    },
    {
      "cell_type": "code",
      "metadata": {
        "colab": {
          "base_uri": "https://localhost:8080/",
          "height": 296
        },
        "id": "xmzvyY9eqEPX",
        "outputId": "1fb27256-d1e4-4b3f-c19e-4a96aaa0fb76"
      },
      "source": [
        "df1_sysId.plot.scatter(x=\"timestamp\", y=\"cpu_utilization\", alpha=0.5)\n",
        "\n"
      ],
      "execution_count": 11,
      "outputs": [
        {
          "output_type": "execute_result",
          "data": {
            "text/plain": [
              "<matplotlib.axes._subplots.AxesSubplot at 0x7f2c1bb41310>"
            ]
          },
          "metadata": {
            "tags": []
          },
          "execution_count": 11
        },
        {
          "output_type": "display_data",
          "data": {
            "image/png": "[encoded data removed]",
            "text/plain": [
              "<Figure size 432x288 with 1 Axes>"
            ]
          },
          "metadata": {
            "tags": [],
            "needs_background": "light"
          }
        }
      ]
    },
    {
      "cell_type": "code",
      "metadata": {
        "colab": {
          "base_uri": "https://localhost:8080/",
          "height": 313
        },
        "id": "u1dscO5lqEYv",
        "outputId": "a0e262cd-ba31-4123-8ab6-73c9ec0229db"
      },
      "source": [
        "df1_sysId.plot(x=\"timestamp\", alpha=0.5)\n"
      ],
      "execution_count": 12,
      "outputs": [
        {
          "output_type": "execute_result",
          "data": {
            "text/plain": [
              "<matplotlib.axes._subplots.AxesSubplot at 0x7f2c1b5ff0d0>"
            ]
          },
          "metadata": {
            "tags": []
          },
          "execution_count": 12
        },
        {
          "output_type": "display_data",
          "data": {
            "image/png": "[encoded data removed]",
            "text/plain": [
              "<Figure size 432x288 with 1 Axes>"
            ]
          },
          "metadata": {
            "tags": [],
            "needs_background": "light"
          }
        }
      ]
    },
    {
      "cell_type": "code",
      "metadata": {
        "colab": {
          "base_uri": "https://localhost:8080/"
        },
        "id": "GSAD2edRrnpr",
        "outputId": "533539f8-0529-4d47-e65c-57c56b5d1759"
      },
      "source": [
        "print(df1_sysId.columns)\n",
        "print(df1_sysId.index)\n",
        "\n"
      ],
      "execution_count": 22,
      "outputs": [
        {
          "output_type": "stream",
          "text": [
            "Index(['timestamp', 'model_type', 'cpu_utilization', 'read_cache_miss',\n",
            "       'write_cache_miss', 'read_iops', 'write_iops', 'read_throughput',\n",
            "       'write_throughput', 'read_iosz', 'write_iosz'],\n",
            "      dtype='object')\n",
            "Int64Index([ 39319, 168399,  19678, 172625, 171162, 157734, 155093, 172252,\n",
            "             52218, 167539,\n",
            "            ...\n",
            "             86337,  89831, 128861,  22817, 103978, 154471, 116105, 102943,\n",
            "            138264, 111559],\n",
            "           dtype='int64', length=1952)\n"
          ],
          "name": "stdout"
        }
      ]
    },
    {
      "cell_type": "code",
      "metadata": {
        "colab": {
          "base_uri": "https://localhost:8080/",
          "height": 596
        },
        "id": "Zz4m1j8LrneQ",
        "outputId": "39e769ce-8f8b-404c-a7ab-c70b68357e05"
      },
      "source": [
        "boxplot = df1_sysId.boxplot(column=[ 'cpu_utilization', 'read_cache_miss', 'write_cache_miss', 'read_iosz', 'write_iosz'])\n",
        "fig = plt.gcf()\n",
        "fig.set_size_inches(18.5, 10.5)\n"
      ],
      "execution_count": 32,
      "outputs": [
        {
          "output_type": "display_data",
          "data": {
            "image/png": "[encoded data removed]",
            "text/plain": [
              "<Figure size 1332x756 with 1 Axes>"
            ]
          },
          "metadata": {
            "tags": []
          }
        }
      ]
    },
    {
      "cell_type": "code",
      "metadata": {
        "colab": {
          "base_uri": "https://localhost:8080/",
          "height": 269
        },
        "id": "8nDckrPHupLB",
        "outputId": "40432131-07b3-4dd2-a392-d8f790ec460c"
      },
      "source": [
        "boxplot = df1_sysId.boxplot(column=['read_iops', 'write_iops' ])\n"
      ],
      "execution_count": 34,
      "outputs": [
        {
          "output_type": "display_data",
          "data": {
            "image/png": "[encoded data removed]",
            "text/plain": [
              "<Figure size 432x288 with 1 Axes>"
            ]
          },
          "metadata": {
            "tags": []
          }
        }
      ]
    },
    {
      "cell_type": "code",
      "metadata": {
        "colab": {
          "base_uri": "https://localhost:8080/",
          "height": 280
        },
        "id": "jNpBhR_5u_xB",
        "outputId": "74262c5a-426b-4973-aef4-fcf0e6d85d59"
      },
      "source": [
        "boxplot = df1_sysId.boxplot(column=[ 'read_throughput','write_throughput' ])\n"
      ],
      "execution_count": 35,
      "outputs": [
        {
          "output_type": "display_data",
          "data": {
            "image/png": "[encoded data removed]",
            "text/plain": [
              "<Figure size 432x288 with 1 Axes>"
            ]
          },
          "metadata": {
            "tags": []
          }
        }
      ]
    },
    {
      "cell_type": "code",
      "metadata": {
        "colab": {
          "base_uri": "https://localhost:8080/",
          "height": 314
        },
        "id": "DBkUWwHglsuq",
        "outputId": "272a39d7-808a-4c66-fb8a-34834a2ee4be"
      },
      "source": [
        "cols_std =  ['read_iops', 'read_cache_miss']\n",
        "cols_rolling_mean = ['write_throughput', 'write_iosz']\n",
        "cols_exp_mvavg = ['write_cache_miss', 'write_iops']\n",
        "\n",
        "group_by_systemId = df1.groupby(\"systemId\") #, axis=\"columns\"\n",
        "group = group_by_systemId.get_group('sys1')\n",
        "group = group[['timestamp', 'write_throughput', 'write_iosz']]\n",
        "\n",
        "print(f'len ={len(group)}')\n",
        "group.head(8)\n",
        "\n"
      ],
      "execution_count": 6,
      "outputs": [
        {
          "output_type": "stream",
          "text": [
            "len =1952\n"
          ],
          "name": "stdout"
        },
        {
          "output_type": "execute_result",
          "data": {
            "text/html": [
              "<div>\n",
              "<style scoped>\n",
              "    .dataframe tbody tr th:only-of-type {\n",
              "        vertical-align: middle;\n",
              "    }\n",
              "\n",
              "    .dataframe tbody tr th {\n",
              "        vertical-align: top;\n",
              "    }\n",
              "\n",
              "    .dataframe thead th {\n",
              "        text-align: right;\n",
              "    }\n",
              "</style>\n",
              "<table border=\"1\" class=\"dataframe\">\n",
              "  <thead>\n",
              "    <tr style=\"text-align: right;\">\n",
              "      <th></th>\n",
              "      <th>timestamp</th>\n",
              "      <th>write_throughput</th>\n",
              "      <th>write_iosz</th>\n",
              "    </tr>\n",
              "  </thead>\n",
              "  <tbody>\n",
              "    <tr>\n",
              "      <th>0</th>\n",
              "      <td>2019-11-03 18:45:00</td>\n",
              "      <td>359029.093750</td>\n",
              "      <td>27.258642</td>\n",
              "    </tr>\n",
              "    <tr>\n",
              "      <th>24</th>\n",
              "      <td>2019-11-04 11:10:00</td>\n",
              "      <td>391059.843750</td>\n",
              "      <td>33.317554</td>\n",
              "    </tr>\n",
              "    <tr>\n",
              "      <th>49</th>\n",
              "      <td>2019-11-05 06:30:00</td>\n",
              "      <td>644081.062500</td>\n",
              "      <td>27.810186</td>\n",
              "    </tr>\n",
              "    <tr>\n",
              "      <th>76</th>\n",
              "      <td>2019-11-05 22:55:00</td>\n",
              "      <td>588804.312500</td>\n",
              "      <td>22.281116</td>\n",
              "    </tr>\n",
              "    <tr>\n",
              "      <th>103</th>\n",
              "      <td>2019-11-06 14:25:00</td>\n",
              "      <td>593935.125000</td>\n",
              "      <td>18.569221</td>\n",
              "    </tr>\n",
              "    <tr>\n",
              "      <th>113</th>\n",
              "      <td>2019-11-06 19:15:00</td>\n",
              "      <td>539323.062500</td>\n",
              "      <td>24.459118</td>\n",
              "    </tr>\n",
              "    <tr>\n",
              "      <th>127</th>\n",
              "      <td>2019-11-07 08:50:00</td>\n",
              "      <td>206256.484375</td>\n",
              "      <td>19.043331</td>\n",
              "    </tr>\n",
              "    <tr>\n",
              "      <th>743</th>\n",
              "      <td>2019-11-05 10:45:00</td>\n",
              "      <td>377669.687500</td>\n",
              "      <td>20.309162</td>\n",
              "    </tr>\n",
              "  </tbody>\n",
              "</table>\n",
              "</div>"
            ],
            "text/plain": [
              "              timestamp  write_throughput  write_iosz\n",
              "0   2019-11-03 18:45:00     359029.093750   27.258642\n",
              "24  2019-11-04 11:10:00     391059.843750   33.317554\n",
              "49  2019-11-05 06:30:00     644081.062500   27.810186\n",
              "76  2019-11-05 22:55:00     588804.312500   22.281116\n",
              "103 2019-11-06 14:25:00     593935.125000   18.569221\n",
              "113 2019-11-06 19:15:00     539323.062500   24.459118\n",
              "127 2019-11-07 08:50:00     206256.484375   19.043331\n",
              "743 2019-11-05 10:45:00     377669.687500   20.309162"
            ]
          },
          "metadata": {
            "tags": []
          },
          "execution_count": 6
        }
      ]
    },
    {
      "cell_type": "code",
      "metadata": {
        "colab": {
          "base_uri": "https://localhost:8080/",
          "height": 297
        },
        "id": "YMvlqIcDwVoC",
        "outputId": "805bc406-367d-45ab-8008-08eec785d25b"
      },
      "source": [
        "group = group.sort_values(by='timestamp')\n",
        "group.head(8)"
      ],
      "execution_count": null,
      "outputs": [
        {
          "output_type": "execute_result",
          "data": {
            "text/html": [
              "<div>\n",
              "<style scoped>\n",
              "    .dataframe tbody tr th:only-of-type {\n",
              "        vertical-align: middle;\n",
              "    }\n",
              "\n",
              "    .dataframe tbody tr th {\n",
              "        vertical-align: top;\n",
              "    }\n",
              "\n",
              "    .dataframe thead th {\n",
              "        text-align: right;\n",
              "    }\n",
              "</style>\n",
              "<table border=\"1\" class=\"dataframe\">\n",
              "  <thead>\n",
              "    <tr style=\"text-align: right;\">\n",
              "      <th></th>\n",
              "      <th>timestamp</th>\n",
              "      <th>write_throughput</th>\n",
              "      <th>write_iosz</th>\n",
              "    </tr>\n",
              "  </thead>\n",
              "  <tbody>\n",
              "    <tr>\n",
              "      <th>39319</th>\n",
              "      <td>2019-11-01 04:25:00</td>\n",
              "      <td>643395.06250</td>\n",
              "      <td>44.144405</td>\n",
              "    </tr>\n",
              "    <tr>\n",
              "      <th>168399</th>\n",
              "      <td>2019-11-01 04:30:00</td>\n",
              "      <td>452817.37500</td>\n",
              "      <td>33.769337</td>\n",
              "    </tr>\n",
              "    <tr>\n",
              "      <th>19678</th>\n",
              "      <td>2019-11-01 04:35:00</td>\n",
              "      <td>354100.65625</td>\n",
              "      <td>26.051140</td>\n",
              "    </tr>\n",
              "    <tr>\n",
              "      <th>172625</th>\n",
              "      <td>2019-11-01 04:40:00</td>\n",
              "      <td>402049.09375</td>\n",
              "      <td>28.529280</td>\n",
              "    </tr>\n",
              "    <tr>\n",
              "      <th>171162</th>\n",
              "      <td>2019-11-01 04:45:00</td>\n",
              "      <td>375960.68750</td>\n",
              "      <td>28.852577</td>\n",
              "    </tr>\n",
              "    <tr>\n",
              "      <th>157734</th>\n",
              "      <td>2019-11-01 04:50:00</td>\n",
              "      <td>336585.21875</td>\n",
              "      <td>26.842281</td>\n",
              "    </tr>\n",
              "    <tr>\n",
              "      <th>155093</th>\n",
              "      <td>2019-11-01 04:55:00</td>\n",
              "      <td>519666.68750</td>\n",
              "      <td>37.744625</td>\n",
              "    </tr>\n",
              "    <tr>\n",
              "      <th>172252</th>\n",
              "      <td>2019-11-01 05:00:00</td>\n",
              "      <td>568910.81250</td>\n",
              "      <td>37.253868</td>\n",
              "    </tr>\n",
              "  </tbody>\n",
              "</table>\n",
              "</div>"
            ],
            "text/plain": [
              "                 timestamp  write_throughput  write_iosz\n",
              "39319  2019-11-01 04:25:00      643395.06250   44.144405\n",
              "168399 2019-11-01 04:30:00      452817.37500   33.769337\n",
              "19678  2019-11-01 04:35:00      354100.65625   26.051140\n",
              "172625 2019-11-01 04:40:00      402049.09375   28.529280\n",
              "171162 2019-11-01 04:45:00      375960.68750   28.852577\n",
              "157734 2019-11-01 04:50:00      336585.21875   26.842281\n",
              "155093 2019-11-01 04:55:00      519666.68750   37.744625\n",
              "172252 2019-11-01 05:00:00      568910.81250   37.253868"
            ]
          },
          "metadata": {
            "tags": []
          },
          "execution_count": 54
        }
      ]
    },
    {
      "cell_type": "code",
      "metadata": {
        "colab": {
          "base_uri": "https://localhost:8080/",
          "height": 297
        },
        "id": "pRDklfCQwcGf",
        "outputId": "a752ee8e-e0a8-41df-c6a5-6fb251d7ec86"
      },
      "source": [
        "tmp = group.rolling(2).mean()\n",
        "tmp.head(8)"
      ],
      "execution_count": null,
      "outputs": [
        {
          "output_type": "execute_result",
          "data": {
            "text/html": [
              "<div>\n",
              "<style scoped>\n",
              "    .dataframe tbody tr th:only-of-type {\n",
              "        vertical-align: middle;\n",
              "    }\n",
              "\n",
              "    .dataframe tbody tr th {\n",
              "        vertical-align: top;\n",
              "    }\n",
              "\n",
              "    .dataframe thead th {\n",
              "        text-align: right;\n",
              "    }\n",
              "</style>\n",
              "<table border=\"1\" class=\"dataframe\">\n",
              "  <thead>\n",
              "    <tr style=\"text-align: right;\">\n",
              "      <th></th>\n",
              "      <th>write_throughput</th>\n",
              "      <th>write_iosz</th>\n",
              "      <th>rmean_write_throughput</th>\n",
              "      <th>rmean_write_iosz</th>\n",
              "    </tr>\n",
              "  </thead>\n",
              "  <tbody>\n",
              "    <tr>\n",
              "      <th>39319</th>\n",
              "      <td>NaN</td>\n",
              "      <td>NaN</td>\n",
              "      <td>NaN</td>\n",
              "      <td>NaN</td>\n",
              "    </tr>\n",
              "    <tr>\n",
              "      <th>168399</th>\n",
              "      <td>548106.218750</td>\n",
              "      <td>38.956871</td>\n",
              "      <td>NaN</td>\n",
              "      <td>NaN</td>\n",
              "    </tr>\n",
              "    <tr>\n",
              "      <th>19678</th>\n",
              "      <td>403459.015625</td>\n",
              "      <td>29.910238</td>\n",
              "      <td>475782.617188</td>\n",
              "      <td>34.433555</td>\n",
              "    </tr>\n",
              "    <tr>\n",
              "      <th>172625</th>\n",
              "      <td>378074.875000</td>\n",
              "      <td>27.290210</td>\n",
              "      <td>390766.945312</td>\n",
              "      <td>28.600224</td>\n",
              "    </tr>\n",
              "    <tr>\n",
              "      <th>171162</th>\n",
              "      <td>389004.890625</td>\n",
              "      <td>28.690928</td>\n",
              "      <td>383539.882812</td>\n",
              "      <td>27.990569</td>\n",
              "    </tr>\n",
              "    <tr>\n",
              "      <th>157734</th>\n",
              "      <td>356272.953125</td>\n",
              "      <td>27.847429</td>\n",
              "      <td>372638.921875</td>\n",
              "      <td>28.269179</td>\n",
              "    </tr>\n",
              "    <tr>\n",
              "      <th>155093</th>\n",
              "      <td>428125.953125</td>\n",
              "      <td>32.293453</td>\n",
              "      <td>392199.453125</td>\n",
              "      <td>30.070441</td>\n",
              "    </tr>\n",
              "    <tr>\n",
              "      <th>172252</th>\n",
              "      <td>544288.750000</td>\n",
              "      <td>37.499247</td>\n",
              "      <td>486207.351562</td>\n",
              "      <td>34.896350</td>\n",
              "    </tr>\n",
              "  </tbody>\n",
              "</table>\n",
              "</div>"
            ],
            "text/plain": [
              "        write_throughput  write_iosz  rmean_write_throughput  rmean_write_iosz\n",
              "39319                NaN         NaN                     NaN               NaN\n",
              "168399     548106.218750   38.956871                     NaN               NaN\n",
              "19678      403459.015625   29.910238           475782.617188         34.433555\n",
              "172625     378074.875000   27.290210           390766.945312         28.600224\n",
              "171162     389004.890625   28.690928           383539.882812         27.990569\n",
              "157734     356272.953125   27.847429           372638.921875         28.269179\n",
              "155093     428125.953125   32.293453           392199.453125         30.070441\n",
              "172252     544288.750000   37.499247           486207.351562         34.896350"
            ]
          },
          "metadata": {
            "tags": []
          },
          "execution_count": 61
        }
      ]
    },
    {
      "cell_type": "code",
      "metadata": {
        "colab": {
          "base_uri": "https://localhost:8080/",
          "height": 297
        },
        "id": "_tkAAvJ2wKDP",
        "outputId": "45d26643-275a-4723-dbfc-830372fa9c5b"
      },
      "source": [
        "group['rmean_write_throughput'] = tmp['write_throughput']\n",
        "group['rmean_write_iosz'] = tmp['write_iosz']\n",
        "group.head(8)"
      ],
      "execution_count": null,
      "outputs": [
        {
          "output_type": "execute_result",
          "data": {
            "text/html": [
              "<div>\n",
              "<style scoped>\n",
              "    .dataframe tbody tr th:only-of-type {\n",
              "        vertical-align: middle;\n",
              "    }\n",
              "\n",
              "    .dataframe tbody tr th {\n",
              "        vertical-align: top;\n",
              "    }\n",
              "\n",
              "    .dataframe thead th {\n",
              "        text-align: right;\n",
              "    }\n",
              "</style>\n",
              "<table border=\"1\" class=\"dataframe\">\n",
              "  <thead>\n",
              "    <tr style=\"text-align: right;\">\n",
              "      <th></th>\n",
              "      <th>timestamp</th>\n",
              "      <th>write_throughput</th>\n",
              "      <th>write_iosz</th>\n",
              "      <th>rmean_write_throughput</th>\n",
              "      <th>rmean_write_iosz</th>\n",
              "    </tr>\n",
              "  </thead>\n",
              "  <tbody>\n",
              "    <tr>\n",
              "      <th>39319</th>\n",
              "      <td>2019-11-01 04:25:00</td>\n",
              "      <td>643395.06250</td>\n",
              "      <td>44.144405</td>\n",
              "      <td>NaN</td>\n",
              "      <td>NaN</td>\n",
              "    </tr>\n",
              "    <tr>\n",
              "      <th>168399</th>\n",
              "      <td>2019-11-01 04:30:00</td>\n",
              "      <td>452817.37500</td>\n",
              "      <td>33.769337</td>\n",
              "      <td>548106.218750</td>\n",
              "      <td>38.956871</td>\n",
              "    </tr>\n",
              "    <tr>\n",
              "      <th>19678</th>\n",
              "      <td>2019-11-01 04:35:00</td>\n",
              "      <td>354100.65625</td>\n",
              "      <td>26.051140</td>\n",
              "      <td>403459.015625</td>\n",
              "      <td>29.910238</td>\n",
              "    </tr>\n",
              "    <tr>\n",
              "      <th>172625</th>\n",
              "      <td>2019-11-01 04:40:00</td>\n",
              "      <td>402049.09375</td>\n",
              "      <td>28.529280</td>\n",
              "      <td>378074.875000</td>\n",
              "      <td>27.290210</td>\n",
              "    </tr>\n",
              "    <tr>\n",
              "      <th>171162</th>\n",
              "      <td>2019-11-01 04:45:00</td>\n",
              "      <td>375960.68750</td>\n",
              "      <td>28.852577</td>\n",
              "      <td>389004.890625</td>\n",
              "      <td>28.690928</td>\n",
              "    </tr>\n",
              "    <tr>\n",
              "      <th>157734</th>\n",
              "      <td>2019-11-01 04:50:00</td>\n",
              "      <td>336585.21875</td>\n",
              "      <td>26.842281</td>\n",
              "      <td>356272.953125</td>\n",
              "      <td>27.847429</td>\n",
              "    </tr>\n",
              "    <tr>\n",
              "      <th>155093</th>\n",
              "      <td>2019-11-01 04:55:00</td>\n",
              "      <td>519666.68750</td>\n",
              "      <td>37.744625</td>\n",
              "      <td>428125.953125</td>\n",
              "      <td>32.293453</td>\n",
              "    </tr>\n",
              "    <tr>\n",
              "      <th>172252</th>\n",
              "      <td>2019-11-01 05:00:00</td>\n",
              "      <td>568910.81250</td>\n",
              "      <td>37.253868</td>\n",
              "      <td>544288.750000</td>\n",
              "      <td>37.499247</td>\n",
              "    </tr>\n",
              "  </tbody>\n",
              "</table>\n",
              "</div>"
            ],
            "text/plain": [
              "                 timestamp  ...  rmean_write_iosz\n",
              "39319  2019-11-01 04:25:00  ...               NaN\n",
              "168399 2019-11-01 04:30:00  ...         38.956871\n",
              "19678  2019-11-01 04:35:00  ...         29.910238\n",
              "172625 2019-11-01 04:40:00  ...         27.290210\n",
              "171162 2019-11-01 04:45:00  ...         28.690928\n",
              "157734 2019-11-01 04:50:00  ...         27.847429\n",
              "155093 2019-11-01 04:55:00  ...         32.293453\n",
              "172252 2019-11-01 05:00:00  ...         37.499247\n",
              "\n",
              "[8 rows x 5 columns]"
            ]
          },
          "metadata": {
            "tags": []
          },
          "execution_count": 60
        }
      ]
    },
    {
      "cell_type": "code",
      "metadata": {
        "id": "aVK4DMG6E5DQ"
      },
      "source": [
        "\n",
        "if 0:\n",
        "  summary = []\n",
        "  for name, group in group_by_systemId:\n",
        "    summary.append(\n",
        "      {\n",
        "        name : \n",
        "          {\n",
        "            'length': len(group),\n",
        "            'min': group['read_iops'].min(),\n",
        "            'max': group['read_iops'].max(),\n",
        "            'mean': group['read_iops'].mean(),\n",
        "            'std': group['read_iops'].std(),\n",
        "            'median': group['read_iops'].median()\n",
        "          }\n",
        "      }\n",
        "    )\n",
        "  if 0:\n",
        "    print(f'name={name}, len = {len(group)}\\n')\n",
        "    print('systemId uniques=', np.unique(group['systemId']))\n",
        "    #print(f'group={group.head(2)}\\n')\n",
        "    print(f'summary={summary}')\n"
      ],
      "execution_count": null,
      "outputs": []
    },
    {
      "cell_type": "markdown",
      "metadata": {
        "id": "dpcmd8lhQwDh"
      },
      "source": [
        "## Q3. Generate a random distribution of samples from data such that each day should contain 12 continous samples and start of the sample should be random with that day"
      ]
    },
    {
      "cell_type": "code",
      "metadata": {
        "id": "_TqavuROuSza"
      },
      "source": [
        ""
      ],
      "execution_count": null,
      "outputs": []
    },
    {
      "cell_type": "markdown",
      "metadata": {
        "id": "_kX575JMFcdg"
      },
      "source": [
        "## Q4. Fit a linear regression to this data with y as \"cpu_utilization\" column. Comment on the fit of the model"
      ]
    },
    {
      "cell_type": "code",
      "metadata": {
        "id": "y62yuBBoFkLN"
      },
      "source": [
        ""
      ],
      "execution_count": null,
      "outputs": []
    },
    {
      "cell_type": "markdown",
      "metadata": {
        "id": "_zREitEanNuH"
      },
      "source": [
        "## Q5. Create a column where cpu_utilization < 20 is 0 and cpu_utilization >= 20 as 1. Using this newly created column build a logistic regression. Commment on the evaluation of the model."
      ]
    },
    {
      "cell_type": "code",
      "metadata": {
        "id": "Twy9oe8xnNRM"
      },
      "source": [
        ""
      ],
      "execution_count": null,
      "outputs": []
    },
    {
      "cell_type": "code",
      "metadata": {
        "id": "8bjufSXFnND8"
      },
      "source": [
        ""
      ],
      "execution_count": null,
      "outputs": []
    },
    {
      "cell_type": "code",
      "metadata": {
        "id": "33Bd9EmonM2_"
      },
      "source": [
        ""
      ],
      "execution_count": null,
      "outputs": []
    },
    {
      "cell_type": "markdown",
      "metadata": {
        "id": "bWPq13WoFkwb"
      },
      "source": [
        "## Q6. Fit a simple decision tree regressor to this data. Comment about the fit of the model"
      ]
    },
    {
      "cell_type": "code",
      "metadata": {
        "id": "Cm-XHcuoFzD9"
      },
      "source": [
        ""
      ],
      "execution_count": null,
      "outputs": []
    },
    {
      "cell_type": "markdown",
      "metadata": {
        "id": "ISHSD3FTQV2H"
      },
      "source": [
        "## Q7. Fit a Random forest regressor. Compare this with simple dicision tree. If Random forest is better then why"
      ]
    },
    {
      "cell_type": "code",
      "metadata": {
        "id": "Qq5mWNf3QkUD"
      },
      "source": [
        ""
      ],
      "execution_count": null,
      "outputs": []
    },
    {
      "cell_type": "markdown",
      "metadata": {
        "id": "4_oc59AaQl_2"
      },
      "source": [
        "## Q8. How do improve the accuracy of Random forest regressor"
      ]
    },
    {
      "cell_type": "code",
      "metadata": {
        "id": "UPz1m2MCQs5C"
      },
      "source": [
        ""
      ],
      "execution_count": null,
      "outputs": []
    },
    {
      "cell_type": "code",
      "metadata": {
        "id": "el_i1OMb9Gmh"
      },
      "source": [
        ""
      ],
      "execution_count": null,
      "outputs": []
    },
    {
      "cell_type": "markdown",
      "metadata": {
        "id": "o1BGrdNA8gSE"
      },
      "source": [
        "## Q9. Cluster the input variables using KMeans and GMM.\n",
        "       \n",
        "1.   Draw the contour plots\n",
        "2.   Explain the hyper-parameters you choose and why?\n",
        "\n"
      ]
    },
    {
      "cell_type": "code",
      "metadata": {
        "id": "auoYiJQXTNNW"
      },
      "source": [
        ""
      ],
      "execution_count": null,
      "outputs": []
    }
  ]
}