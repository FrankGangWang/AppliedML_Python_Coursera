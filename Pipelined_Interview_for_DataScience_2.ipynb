{
  "nbformat": 4,
  "nbformat_minor": 0,
  "metadata": {
    "colab": {
      "name": "Pipelined Interview for DataScience - 2.ipynb",
      "provenance": [],
      "collapsed_sections": [],
      "include_colab_link": true
    },
    "kernelspec": {
      "display_name": "Python 3",
      "name": "python3"
    }
  },
  "cells": [
    {
      "cell_type": "markdown",
      "metadata": {
        "id": "view-in-github",
        "colab_type": "text"
      },
      "source": [
        "<a href=\"https://colab.research.google.com/github/FrankGangWang/AppliedML_Python_Coursera/blob/master/Pipelined_Interview_for_DataScience_2.ipynb\" target=\"_parent\"><img src=\"https://colab.research.google.com/assets/colab-badge.svg\" alt=\"Open In Colab\"/></a>"
      ]
    },
    {
      "cell_type": "markdown",
      "metadata": {
        "id": "rqlyZk0Z-kf0"
      },
      "source": [
        "**Interview questions to test data science skills**\n",
        "\n",
        "---\n",
        "\n",
        "\n"
      ]
    },
    {
      "cell_type": "markdown",
      "metadata": {
        "id": "1aR3yaVg-6FC"
      },
      "source": [
        "# Let's load the data from public GitHub account"
      ]
    },
    {
      "cell_type": "code",
      "metadata": {
        "id": "zMU3MFw0-ZRS"
      },
      "source": [
        "# RUN: load data AND add common constants here\n",
        "import pandas as pd\n",
        "import numpy as np\n",
        "import matplotlib.pyplot as plt\n",
        "\n",
        "# Common constants here\n",
        "TEST_SIZE = 0.2\n",
        "MODEL_SINGLE_SYSTEM = False\n",
        "SYSTEM_ID_USED = ['sys1']\n",
        "\n",
        "# load data\n",
        "df = pd.read_pickle(\"https://github.com/manjiler/interview_for_datascience/raw/master/interview_storage.pkl\")"
      ],
      "execution_count": 1,
      "outputs": []
    },
    {
      "cell_type": "code",
      "metadata": {
        "colab": {
          "base_uri": "https://localhost:8080/"
        },
        "id": "pAoCC-ppRoLT",
        "outputId": "5ed345e7-61fd-497b-df67-2ecb35833d70"
      },
      "source": [
        "#Checking whether there are any missing values\n",
        "np.sum(df.isna().sum())"
      ],
      "execution_count": 35,
      "outputs": [
        {
          "output_type": "execute_result",
          "data": {
            "text/plain": [
              "0"
            ]
          },
          "metadata": {
            "tags": []
          },
          "execution_count": 35
        }
      ]
    },
    {
      "cell_type": "code",
      "metadata": {
        "id": "kTfAK0_y5ppN"
      },
      "source": [
        "from sklearn.model_selection import train_test_split\n",
        "#StratifiedKFold, StratifiedShuffleSplit,\n",
        "df_train, df_test = train_test_split(df, stratify=df.systemId, test_size=0.2)\n",
        "\n"
      ],
      "execution_count": 40,
      "outputs": []
    },
    {
      "cell_type": "code",
      "metadata": {
        "colab": {
          "base_uri": "https://localhost:8080/"
        },
        "id": "rp1kjIBw7Avq",
        "outputId": "200965ea-8232-4b27-840f-ddc0c01ebd4a"
      },
      "source": [
        "sys_size = {}\n",
        "for k, systemId in enumerate(np.unique(df.systemId)):\n",
        "  l1 = np.sum(df_train.systemId==systemId)\n",
        "  l2 = np.sum(df_test.systemId==systemId)\n",
        "  print(k, systemId, (l1/l2), l1, l2)\n",
        "  sys_size[systemId] = l1+l2 #[len(df[df.systemId==systemId]), l1+l2]\n"
      ],
      "execution_count": 68,
      "outputs": [
        {
          "output_type": "stream",
          "text": [
            "0 sys1 4 6341 1585\n",
            "1 sys10 3 5254 1314\n",
            "2 sys11 4 6128 1532\n",
            "3 sys12 4 5261 1315\n",
            "4 sys13 4 6765 1691\n",
            "5 sys14 4 5246 1311\n",
            "6 sys15 4 5261 1315\n",
            "7 sys16 3 6855 1714\n",
            "8 sys17 3 5255 1314\n",
            "9 sys18 4 5280 1320\n",
            "10 sys19 4 5226 1306\n",
            "11 sys2 4 5157 1289\n",
            "12 sys20 4 6150 1537\n",
            "13 sys21 4 6612 1653\n",
            "14 sys22 4 4812 1203\n",
            "15 sys23 4 5173 1293\n",
            "16 sys24 3 5258 1315\n",
            "17 sys25 4 5290 1322\n",
            "18 sys26 3 686 172\n",
            "19 sys27 3 491 123\n",
            "20 sys3 3 6362 1591\n",
            "21 sys4 4 5260 1315\n",
            "22 sys5 4 5252 1313\n",
            "23 sys6 4 5205 1301\n",
            "24 sys7 4 5280 1320\n",
            "25 sys8 3 5290 1323\n",
            "26 sys9 3 5254 1314\n"
          ],
          "name": "stdout"
        }
      ]
    },
    {
      "cell_type": "code",
      "metadata": {
        "id": "GA35QYkI9EWm"
      },
      "source": [
        "sorted_x = sorted(sys_size.items(), key=lambda kv: kv[1])\n"
      ],
      "execution_count": 66,
      "outputs": []
    },
    {
      "cell_type": "code",
      "metadata": {
        "colab": {
          "base_uri": "https://localhost:8080/"
        },
        "id": "lhM_z_pO_eT7",
        "outputId": "5aab440b-4109-405b-c7ca-346849a3131e"
      },
      "source": [
        "sorted_x"
      ],
      "execution_count": 67,
      "outputs": [
        {
          "output_type": "execute_result",
          "data": {
            "text/plain": [
              "[('sys27', 614),\n",
              " ('sys26', 858),\n",
              " ('sys22', 6015),\n",
              " ('sys2', 6446),\n",
              " ('sys23', 6466),\n",
              " ('sys6', 6506),\n",
              " ('sys19', 6532),\n",
              " ('sys14', 6557),\n",
              " ('sys5', 6565),\n",
              " ('sys10', 6568),\n",
              " ('sys9', 6568),\n",
              " ('sys17', 6569),\n",
              " ('sys24', 6573),\n",
              " ('sys4', 6575),\n",
              " ('sys12', 6576),\n",
              " ('sys15', 6576),\n",
              " ('sys18', 6600),\n",
              " ('sys7', 6600),\n",
              " ('sys25', 6612),\n",
              " ('sys8', 6613),\n",
              " ('sys11', 7660),\n",
              " ('sys20', 7687),\n",
              " ('sys1', 7926),\n",
              " ('sys3', 7953),\n",
              " ('sys21', 8265),\n",
              " ('sys13', 8456),\n",
              " ('sys16', 8569)]"
            ]
          },
          "metadata": {
            "tags": []
          },
          "execution_count": 67
        }
      ]
    },
    {
      "cell_type": "code",
      "metadata": {
        "colab": {
          "base_uri": "https://localhost:8080/"
        },
        "id": "X9LFmQXljeMp",
        "outputId": "09eea92d-a29b-4d1d-f135-3bd9d8c2e3ca"
      },
      "source": [
        "df.columns"
      ],
      "execution_count": 3,
      "outputs": [
        {
          "output_type": "execute_result",
          "data": {
            "text/plain": [
              "Index(['systemId', 'timestamp', 'model_type', 'cpu_utilization',\n",
              "       'read_cache_miss', 'write_cache_miss', 'read_iops', 'write_iops',\n",
              "       'read_throughput', 'write_throughput', 'read_iosz', 'write_iosz'],\n",
              "      dtype='object')"
            ]
          },
          "metadata": {
            "tags": []
          },
          "execution_count": 3
        }
      ]
    },
    {
      "cell_type": "code",
      "metadata": {
        "colab": {
          "base_uri": "https://localhost:8080/",
          "height": 260
        },
        "id": "02HvjFagiwK4",
        "outputId": "ae7e21b9-018a-4d2c-c3f2-56f11857c517"
      },
      "source": [
        "plt.subplot(2,1,1)\n",
        "plt.plot(df.systemId.value_counts(), '+')\n",
        "plt.title('count of systemId')\n",
        "\n",
        "plt.subplot(2,1,2)\n",
        "plt.plot(df.model_type.value_counts(), '+')\n",
        "plt.title('count of model_type')\n",
        "\n",
        "fig = plt.gcf()\n",
        "fig.set_size_inches(18.5, 6)\n",
        "plt.tight_layout()\n",
        "fig.subplots_adjust(top=0.8) # last in fig setting\n",
        "plt.show()\n"
      ],
      "execution_count": 4,
      "outputs": [
        {
          "output_type": "display_data",
          "data": {
            "image/png": "[encoded data removed]",
            "text/plain": [
              "<Figure size 1332x432 with 2 Axes>"
            ]
          },
          "metadata": {
            "tags": [],
            "needs_background": "light"
          }
        }
      ]
    },
    {
      "cell_type": "code",
      "metadata": {
        "colab": {
          "base_uri": "https://localhost:8080/",
          "height": 284
        },
        "id": "9m4CQFK6lAj3",
        "outputId": "8ee5ccc0-1ded-40c7-f823-c8a4b840d5e6"
      },
      "source": [
        "df.cpu_utilization.hist(bins=100)"
      ],
      "execution_count": 5,
      "outputs": [
        {
          "output_type": "execute_result",
          "data": {
            "text/plain": [
              "<matplotlib.axes._subplots.AxesSubplot at 0x7f342562d110>"
            ]
          },
          "metadata": {
            "tags": []
          },
          "execution_count": 5
        },
        {
          "output_type": "display_data",
          "data": {
            "image/png": "[encoded data removed]",
            "text/plain": [
              "<Figure size 432x288 with 1 Axes>"
            ]
          },
          "metadata": {
            "tags": [],
            "needs_background": "light"
          }
        }
      ]
    },
    {
      "cell_type": "code",
      "metadata": {
        "colab": {
          "base_uri": "https://localhost:8080/",
          "height": 193
        },
        "id": "1i9ZxKGmSMnS",
        "outputId": "6b7fa71a-67cd-4e50-9e66-bec1e451302b"
      },
      "source": [
        "df.groupby(['model_type']).mean().sort_values('cpu_utilization', ascending=False)"
      ],
      "execution_count": 6,
      "outputs": [
        {
          "output_type": "execute_result",
          "data": {
            "text/html": [
              "<div>\n",
              "<style scoped>\n",
              "    .dataframe tbody tr th:only-of-type {\n",
              "        vertical-align: middle;\n",
              "    }\n",
              "\n",
              "    .dataframe tbody tr th {\n",
              "        vertical-align: top;\n",
              "    }\n",
              "\n",
              "    .dataframe thead th {\n",
              "        text-align: right;\n",
              "    }\n",
              "</style>\n",
              "<table border=\"1\" class=\"dataframe\">\n",
              "  <thead>\n",
              "    <tr style=\"text-align: right;\">\n",
              "      <th></th>\n",
              "      <th>timestamp</th>\n",
              "      <th>cpu_utilization</th>\n",
              "      <th>read_cache_miss</th>\n",
              "      <th>write_cache_miss</th>\n",
              "      <th>read_iops</th>\n",
              "      <th>write_iops</th>\n",
              "      <th>read_throughput</th>\n",
              "      <th>write_throughput</th>\n",
              "      <th>read_iosz</th>\n",
              "      <th>write_iosz</th>\n",
              "    </tr>\n",
              "    <tr>\n",
              "      <th>model_type</th>\n",
              "      <th></th>\n",
              "      <th></th>\n",
              "      <th></th>\n",
              "      <th></th>\n",
              "      <th></th>\n",
              "      <th></th>\n",
              "      <th></th>\n",
              "      <th></th>\n",
              "      <th></th>\n",
              "      <th></th>\n",
              "    </tr>\n",
              "  </thead>\n",
              "  <tbody>\n",
              "    <tr>\n",
              "      <th>C</th>\n",
              "      <td>1.573672e+12</td>\n",
              "      <td>14.524896</td>\n",
              "      <td>48.413422</td>\n",
              "      <td>77.438135</td>\n",
              "      <td>16747.982846</td>\n",
              "      <td>9203.197651</td>\n",
              "      <td>5.697724e+05</td>\n",
              "      <td>250962.288230</td>\n",
              "      <td>42.619030</td>\n",
              "      <td>29.491634</td>\n",
              "    </tr>\n",
              "    <tr>\n",
              "      <th>A</th>\n",
              "      <td>1.573695e+12</td>\n",
              "      <td>8.224290</td>\n",
              "      <td>36.204479</td>\n",
              "      <td>70.180194</td>\n",
              "      <td>33100.255071</td>\n",
              "      <td>16691.086485</td>\n",
              "      <td>1.015719e+06</td>\n",
              "      <td>370650.881585</td>\n",
              "      <td>34.705528</td>\n",
              "      <td>21.657970</td>\n",
              "    </tr>\n",
              "    <tr>\n",
              "      <th>B</th>\n",
              "      <td>1.573858e+12</td>\n",
              "      <td>6.701494</td>\n",
              "      <td>42.610641</td>\n",
              "      <td>62.353478</td>\n",
              "      <td>9845.623274</td>\n",
              "      <td>5632.243344</td>\n",
              "      <td>3.349787e+05</td>\n",
              "      <td>111673.872516</td>\n",
              "      <td>30.696169</td>\n",
              "      <td>21.592243</td>\n",
              "    </tr>\n",
              "  </tbody>\n",
              "</table>\n",
              "</div>"
            ],
            "text/plain": [
              "               timestamp  cpu_utilization  ...  read_iosz  write_iosz\n",
              "model_type                                 ...                       \n",
              "C           1.573672e+12        14.524896  ...  42.619030   29.491634\n",
              "A           1.573695e+12         8.224290  ...  34.705528   21.657970\n",
              "B           1.573858e+12         6.701494  ...  30.696169   21.592243\n",
              "\n",
              "[3 rows x 10 columns]"
            ]
          },
          "metadata": {
            "tags": []
          },
          "execution_count": 6
        }
      ]
    },
    {
      "cell_type": "code",
      "metadata": {
        "colab": {
          "base_uri": "https://localhost:8080/",
          "height": 937
        },
        "id": "2XAZzAEaSR2U",
        "outputId": "1fa13777-b439-4c97-c99a-3588b10e54c3"
      },
      "source": [
        "df.groupby(['systemId']).mean().sort_values('cpu_utilization', ascending=False)"
      ],
      "execution_count": 7,
      "outputs": [
        {
          "output_type": "execute_result",
          "data": {
            "text/html": [
              "<div>\n",
              "<style scoped>\n",
              "    .dataframe tbody tr th:only-of-type {\n",
              "        vertical-align: middle;\n",
              "    }\n",
              "\n",
              "    .dataframe tbody tr th {\n",
              "        vertical-align: top;\n",
              "    }\n",
              "\n",
              "    .dataframe thead th {\n",
              "        text-align: right;\n",
              "    }\n",
              "</style>\n",
              "<table border=\"1\" class=\"dataframe\">\n",
              "  <thead>\n",
              "    <tr style=\"text-align: right;\">\n",
              "      <th></th>\n",
              "      <th>timestamp</th>\n",
              "      <th>cpu_utilization</th>\n",
              "      <th>read_cache_miss</th>\n",
              "      <th>write_cache_miss</th>\n",
              "      <th>read_iops</th>\n",
              "      <th>write_iops</th>\n",
              "      <th>read_throughput</th>\n",
              "      <th>write_throughput</th>\n",
              "      <th>read_iosz</th>\n",
              "      <th>write_iosz</th>\n",
              "    </tr>\n",
              "    <tr>\n",
              "      <th>systemId</th>\n",
              "      <th></th>\n",
              "      <th></th>\n",
              "      <th></th>\n",
              "      <th></th>\n",
              "      <th></th>\n",
              "      <th></th>\n",
              "      <th></th>\n",
              "      <th></th>\n",
              "      <th></th>\n",
              "      <th></th>\n",
              "    </tr>\n",
              "  </thead>\n",
              "  <tbody>\n",
              "    <tr>\n",
              "      <th>sys21</th>\n",
              "      <td>1.573864e+12</td>\n",
              "      <td>27.720968</td>\n",
              "      <td>63.018525</td>\n",
              "      <td>81.942720</td>\n",
              "      <td>58157.496075</td>\n",
              "      <td>12432.688662</td>\n",
              "      <td>2.544725e+06</td>\n",
              "      <td>3.475135e+05</td>\n",
              "      <td>50.660398</td>\n",
              "      <td>27.281443</td>\n",
              "    </tr>\n",
              "    <tr>\n",
              "      <th>sys1</th>\n",
              "      <td>1.573836e+12</td>\n",
              "      <td>22.184737</td>\n",
              "      <td>42.452992</td>\n",
              "      <td>70.920738</td>\n",
              "      <td>26671.489575</td>\n",
              "      <td>17971.652046</td>\n",
              "      <td>1.128908e+06</td>\n",
              "      <td>3.464799e+05</td>\n",
              "      <td>44.364585</td>\n",
              "      <td>20.012109</td>\n",
              "    </tr>\n",
              "    <tr>\n",
              "      <th>sys7</th>\n",
              "      <td>1.573672e+12</td>\n",
              "      <td>21.115227</td>\n",
              "      <td>57.350649</td>\n",
              "      <td>89.965771</td>\n",
              "      <td>21703.817035</td>\n",
              "      <td>9987.790419</td>\n",
              "      <td>7.672953e+05</td>\n",
              "      <td>3.656977e+05</td>\n",
              "      <td>37.430755</td>\n",
              "      <td>44.208858</td>\n",
              "    </tr>\n",
              "    <tr>\n",
              "      <th>sys25</th>\n",
              "      <td>1.573673e+12</td>\n",
              "      <td>17.148080</td>\n",
              "      <td>64.089595</td>\n",
              "      <td>78.624186</td>\n",
              "      <td>24337.915327</td>\n",
              "      <td>8521.512114</td>\n",
              "      <td>7.042564e+05</td>\n",
              "      <td>2.198412e+05</td>\n",
              "      <td>31.337595</td>\n",
              "      <td>26.474874</td>\n",
              "    </tr>\n",
              "    <tr>\n",
              "      <th>sys9</th>\n",
              "      <td>1.573669e+12</td>\n",
              "      <td>13.753820</td>\n",
              "      <td>38.007058</td>\n",
              "      <td>79.960804</td>\n",
              "      <td>59207.043591</td>\n",
              "      <td>39924.744386</td>\n",
              "      <td>1.381501e+06</td>\n",
              "      <td>1.470688e+06</td>\n",
              "      <td>23.539498</td>\n",
              "      <td>37.479001</td>\n",
              "    </tr>\n",
              "    <tr>\n",
              "      <th>sys2</th>\n",
              "      <td>1.573680e+12</td>\n",
              "      <td>12.383960</td>\n",
              "      <td>28.696814</td>\n",
              "      <td>66.342869</td>\n",
              "      <td>42238.741893</td>\n",
              "      <td>31672.453132</td>\n",
              "      <td>8.490238e+05</td>\n",
              "      <td>6.727085e+05</td>\n",
              "      <td>20.141026</td>\n",
              "      <td>21.422931</td>\n",
              "    </tr>\n",
              "    <tr>\n",
              "      <th>sys13</th>\n",
              "      <td>1.573865e+12</td>\n",
              "      <td>10.011581</td>\n",
              "      <td>48.282291</td>\n",
              "      <td>52.615669</td>\n",
              "      <td>15182.584259</td>\n",
              "      <td>10026.337808</td>\n",
              "      <td>4.600485e+05</td>\n",
              "      <td>1.240136e+05</td>\n",
              "      <td>29.657188</td>\n",
              "      <td>12.431103</td>\n",
              "    </tr>\n",
              "    <tr>\n",
              "      <th>sys17</th>\n",
              "      <td>1.573670e+12</td>\n",
              "      <td>8.353647</td>\n",
              "      <td>37.250840</td>\n",
              "      <td>78.794962</td>\n",
              "      <td>39813.298384</td>\n",
              "      <td>24295.777236</td>\n",
              "      <td>9.657290e+05</td>\n",
              "      <td>4.875123e+05</td>\n",
              "      <td>24.829146</td>\n",
              "      <td>20.717878</td>\n",
              "    </tr>\n",
              "    <tr>\n",
              "      <th>sys24</th>\n",
              "      <td>1.573667e+12</td>\n",
              "      <td>7.533257</td>\n",
              "      <td>34.633722</td>\n",
              "      <td>79.348329</td>\n",
              "      <td>10914.374889</td>\n",
              "      <td>11640.045211</td>\n",
              "      <td>6.981397e+05</td>\n",
              "      <td>2.498549e+05</td>\n",
              "      <td>59.233560</td>\n",
              "      <td>21.434429</td>\n",
              "    </tr>\n",
              "    <tr>\n",
              "      <th>sys3</th>\n",
              "      <td>1.573840e+12</td>\n",
              "      <td>7.407902</td>\n",
              "      <td>24.240357</td>\n",
              "      <td>63.577700</td>\n",
              "      <td>14319.419064</td>\n",
              "      <td>5965.052483</td>\n",
              "      <td>5.532328e+05</td>\n",
              "      <td>1.969478e+05</td>\n",
              "      <td>40.653062</td>\n",
              "      <td>33.286254</td>\n",
              "    </tr>\n",
              "    <tr>\n",
              "      <th>sys11</th>\n",
              "      <td>1.573826e+12</td>\n",
              "      <td>7.154701</td>\n",
              "      <td>26.169297</td>\n",
              "      <td>81.108820</td>\n",
              "      <td>43249.762625</td>\n",
              "      <td>18885.646552</td>\n",
              "      <td>1.325091e+06</td>\n",
              "      <td>5.453906e+05</td>\n",
              "      <td>31.489178</td>\n",
              "      <td>29.590035</td>\n",
              "    </tr>\n",
              "    <tr>\n",
              "      <th>sys22</th>\n",
              "      <td>1.573568e+12</td>\n",
              "      <td>6.841168</td>\n",
              "      <td>41.345757</td>\n",
              "      <td>61.249602</td>\n",
              "      <td>29531.279274</td>\n",
              "      <td>16963.626446</td>\n",
              "      <td>9.848102e+05</td>\n",
              "      <td>3.479645e+05</td>\n",
              "      <td>33.939585</td>\n",
              "      <td>21.090308</td>\n",
              "    </tr>\n",
              "    <tr>\n",
              "      <th>sys8</th>\n",
              "      <td>1.573676e+12</td>\n",
              "      <td>6.365069</td>\n",
              "      <td>39.013467</td>\n",
              "      <td>64.586244</td>\n",
              "      <td>24456.726535</td>\n",
              "      <td>21712.513524</td>\n",
              "      <td>1.019846e+06</td>\n",
              "      <td>3.515288e+05</td>\n",
              "      <td>44.017448</td>\n",
              "      <td>16.362327</td>\n",
              "    </tr>\n",
              "    <tr>\n",
              "      <th>sys23</th>\n",
              "      <td>1.573670e+12</td>\n",
              "      <td>5.722565</td>\n",
              "      <td>37.506544</td>\n",
              "      <td>68.842548</td>\n",
              "      <td>52481.170517</td>\n",
              "      <td>15569.735910</td>\n",
              "      <td>1.363744e+06</td>\n",
              "      <td>3.866525e+05</td>\n",
              "      <td>26.778465</td>\n",
              "      <td>25.156457</td>\n",
              "    </tr>\n",
              "    <tr>\n",
              "      <th>sys26</th>\n",
              "      <td>1.572695e+12</td>\n",
              "      <td>5.709520</td>\n",
              "      <td>34.037675</td>\n",
              "      <td>76.290853</td>\n",
              "      <td>21537.509734</td>\n",
              "      <td>14546.509729</td>\n",
              "      <td>1.987720e+06</td>\n",
              "      <td>2.668051e+05</td>\n",
              "      <td>96.991647</td>\n",
              "      <td>18.461730</td>\n",
              "    </tr>\n",
              "    <tr>\n",
              "      <th>sys4</th>\n",
              "      <td>1.573667e+12</td>\n",
              "      <td>5.443508</td>\n",
              "      <td>44.279844</td>\n",
              "      <td>58.819643</td>\n",
              "      <td>37740.790075</td>\n",
              "      <td>19727.360643</td>\n",
              "      <td>1.039937e+06</td>\n",
              "      <td>2.946178e+05</td>\n",
              "      <td>28.790692</td>\n",
              "      <td>15.036366</td>\n",
              "    </tr>\n",
              "    <tr>\n",
              "      <th>sys18</th>\n",
              "      <td>1.573670e+12</td>\n",
              "      <td>5.306613</td>\n",
              "      <td>23.771522</td>\n",
              "      <td>63.722293</td>\n",
              "      <td>4188.416299</td>\n",
              "      <td>9101.529847</td>\n",
              "      <td>2.375210e+05</td>\n",
              "      <td>1.674046e+05</td>\n",
              "      <td>59.109252</td>\n",
              "      <td>17.796656</td>\n",
              "    </tr>\n",
              "    <tr>\n",
              "      <th>sys27</th>\n",
              "      <td>1.572658e+12</td>\n",
              "      <td>4.823420</td>\n",
              "      <td>25.541403</td>\n",
              "      <td>61.499851</td>\n",
              "      <td>25070.915663</td>\n",
              "      <td>22189.427373</td>\n",
              "      <td>1.069563e+06</td>\n",
              "      <td>4.279900e+05</td>\n",
              "      <td>44.743681</td>\n",
              "      <td>19.534589</td>\n",
              "    </tr>\n",
              "    <tr>\n",
              "      <th>sys20</th>\n",
              "      <td>1.573809e+12</td>\n",
              "      <td>4.288412</td>\n",
              "      <td>37.404657</td>\n",
              "      <td>69.841518</td>\n",
              "      <td>37007.352169</td>\n",
              "      <td>10172.502053</td>\n",
              "      <td>9.491977e+05</td>\n",
              "      <td>1.505490e+05</td>\n",
              "      <td>28.682984</td>\n",
              "      <td>14.514275</td>\n",
              "    </tr>\n",
              "    <tr>\n",
              "      <th>sys14</th>\n",
              "      <td>1.573671e+12</td>\n",
              "      <td>3.538048</td>\n",
              "      <td>37.005248</td>\n",
              "      <td>69.016606</td>\n",
              "      <td>36373.808320</td>\n",
              "      <td>9975.993362</td>\n",
              "      <td>7.432489e+05</td>\n",
              "      <td>2.174951e+05</td>\n",
              "      <td>20.754799</td>\n",
              "      <td>22.020146</td>\n",
              "    </tr>\n",
              "    <tr>\n",
              "      <th>sys6</th>\n",
              "      <td>1.573676e+12</td>\n",
              "      <td>3.430375</td>\n",
              "      <td>31.998396</td>\n",
              "      <td>65.618753</td>\n",
              "      <td>25726.539309</td>\n",
              "      <td>13737.650226</td>\n",
              "      <td>7.682004e+05</td>\n",
              "      <td>2.675253e+05</td>\n",
              "      <td>30.084706</td>\n",
              "      <td>19.419245</td>\n",
              "    </tr>\n",
              "    <tr>\n",
              "      <th>sys10</th>\n",
              "      <td>1.573666e+12</td>\n",
              "      <td>3.290377</td>\n",
              "      <td>40.082943</td>\n",
              "      <td>62.690677</td>\n",
              "      <td>27621.084336</td>\n",
              "      <td>12460.030019</td>\n",
              "      <td>7.665696e+05</td>\n",
              "      <td>1.885013e+05</td>\n",
              "      <td>29.429477</td>\n",
              "      <td>14.446257</td>\n",
              "    </tr>\n",
              "    <tr>\n",
              "      <th>sys19</th>\n",
              "      <td>1.573671e+12</td>\n",
              "      <td>3.106673</td>\n",
              "      <td>24.164212</td>\n",
              "      <td>59.697654</td>\n",
              "      <td>28104.904664</td>\n",
              "      <td>10760.687752</td>\n",
              "      <td>5.608863e+05</td>\n",
              "      <td>2.728959e+05</td>\n",
              "      <td>20.381169</td>\n",
              "      <td>25.710360</td>\n",
              "    </tr>\n",
              "    <tr>\n",
              "      <th>sys12</th>\n",
              "      <td>1.573679e+12</td>\n",
              "      <td>3.040721</td>\n",
              "      <td>12.742848</td>\n",
              "      <td>53.370462</td>\n",
              "      <td>9000.320828</td>\n",
              "      <td>20107.059144</td>\n",
              "      <td>5.064446e+05</td>\n",
              "      <td>2.208476e+05</td>\n",
              "      <td>65.947300</td>\n",
              "      <td>11.096852</td>\n",
              "    </tr>\n",
              "    <tr>\n",
              "      <th>sys5</th>\n",
              "      <td>1.573671e+12</td>\n",
              "      <td>2.970026</td>\n",
              "      <td>28.250514</td>\n",
              "      <td>66.838462</td>\n",
              "      <td>25717.707824</td>\n",
              "      <td>8685.843817</td>\n",
              "      <td>7.831295e+05</td>\n",
              "      <td>2.079650e+05</td>\n",
              "      <td>30.880763</td>\n",
              "      <td>24.348521</td>\n",
              "    </tr>\n",
              "    <tr>\n",
              "      <th>sys16</th>\n",
              "      <td>1.573870e+12</td>\n",
              "      <td>2.779433</td>\n",
              "      <td>54.063483</td>\n",
              "      <td>70.826657</td>\n",
              "      <td>426.853289</td>\n",
              "      <td>987.209633</td>\n",
              "      <td>8.993650e+03</td>\n",
              "      <td>2.035305e+04</td>\n",
              "      <td>22.480328</td>\n",
              "      <td>19.779210</td>\n",
              "    </tr>\n",
              "    <tr>\n",
              "      <th>sys15</th>\n",
              "      <td>1.573668e+12</td>\n",
              "      <td>2.578217</td>\n",
              "      <td>38.589797</td>\n",
              "      <td>88.586169</td>\n",
              "      <td>9857.165995</td>\n",
              "      <td>1969.323728</td>\n",
              "      <td>3.249310e+05</td>\n",
              "      <td>4.627735e+04</td>\n",
              "      <td>31.112873</td>\n",
              "      <td>23.823117</td>\n",
              "    </tr>\n",
              "  </tbody>\n",
              "</table>\n",
              "</div>"
            ],
            "text/plain": [
              "             timestamp  cpu_utilization  ...  read_iosz  write_iosz\n",
              "systemId                                 ...                       \n",
              "sys21     1.573864e+12        27.720968  ...  50.660398   27.281443\n",
              "sys1      1.573836e+12        22.184737  ...  44.364585   20.012109\n",
              "sys7      1.573672e+12        21.115227  ...  37.430755   44.208858\n",
              "sys25     1.573673e+12        17.148080  ...  31.337595   26.474874\n",
              "sys9      1.573669e+12        13.753820  ...  23.539498   37.479001\n",
              "sys2      1.573680e+12        12.383960  ...  20.141026   21.422931\n",
              "sys13     1.573865e+12        10.011581  ...  29.657188   12.431103\n",
              "sys17     1.573670e+12         8.353647  ...  24.829146   20.717878\n",
              "sys24     1.573667e+12         7.533257  ...  59.233560   21.434429\n",
              "sys3      1.573840e+12         7.407902  ...  40.653062   33.286254\n",
              "sys11     1.573826e+12         7.154701  ...  31.489178   29.590035\n",
              "sys22     1.573568e+12         6.841168  ...  33.939585   21.090308\n",
              "sys8      1.573676e+12         6.365069  ...  44.017448   16.362327\n",
              "sys23     1.573670e+12         5.722565  ...  26.778465   25.156457\n",
              "sys26     1.572695e+12         5.709520  ...  96.991647   18.461730\n",
              "sys4      1.573667e+12         5.443508  ...  28.790692   15.036366\n",
              "sys18     1.573670e+12         5.306613  ...  59.109252   17.796656\n",
              "sys27     1.572658e+12         4.823420  ...  44.743681   19.534589\n",
              "sys20     1.573809e+12         4.288412  ...  28.682984   14.514275\n",
              "sys14     1.573671e+12         3.538048  ...  20.754799   22.020146\n",
              "sys6      1.573676e+12         3.430375  ...  30.084706   19.419245\n",
              "sys10     1.573666e+12         3.290377  ...  29.429477   14.446257\n",
              "sys19     1.573671e+12         3.106673  ...  20.381169   25.710360\n",
              "sys12     1.573679e+12         3.040721  ...  65.947300   11.096852\n",
              "sys5      1.573671e+12         2.970026  ...  30.880763   24.348521\n",
              "sys16     1.573870e+12         2.779433  ...  22.480328   19.779210\n",
              "sys15     1.573668e+12         2.578217  ...  31.112873   23.823117\n",
              "\n",
              "[27 rows x 10 columns]"
            ]
          },
          "metadata": {
            "tags": []
          },
          "execution_count": 7
        }
      ]
    },
    {
      "cell_type": "code",
      "metadata": {
        "colab": {
          "base_uri": "https://localhost:8080/",
          "height": 937
        },
        "id": "NfXS3VNLSCkL",
        "outputId": "403edf1c-343b-4e24-f964-7efc86555021"
      },
      "source": [
        "df.groupby(['model_type','systemId']).mean()\n",
        "#sort_values('cpu_utilization', ascending=False)"
      ],
      "execution_count": 8,
      "outputs": [
        {
          "output_type": "execute_result",
          "data": {
            "text/html": [
              "<div>\n",
              "<style scoped>\n",
              "    .dataframe tbody tr th:only-of-type {\n",
              "        vertical-align: middle;\n",
              "    }\n",
              "\n",
              "    .dataframe tbody tr th {\n",
              "        vertical-align: top;\n",
              "    }\n",
              "\n",
              "    .dataframe thead th {\n",
              "        text-align: right;\n",
              "    }\n",
              "</style>\n",
              "<table border=\"1\" class=\"dataframe\">\n",
              "  <thead>\n",
              "    <tr style=\"text-align: right;\">\n",
              "      <th></th>\n",
              "      <th></th>\n",
              "      <th>timestamp</th>\n",
              "      <th>cpu_utilization</th>\n",
              "      <th>read_cache_miss</th>\n",
              "      <th>write_cache_miss</th>\n",
              "      <th>read_iops</th>\n",
              "      <th>write_iops</th>\n",
              "      <th>read_throughput</th>\n",
              "      <th>write_throughput</th>\n",
              "      <th>read_iosz</th>\n",
              "      <th>write_iosz</th>\n",
              "    </tr>\n",
              "    <tr>\n",
              "      <th>model_type</th>\n",
              "      <th>systemId</th>\n",
              "      <th></th>\n",
              "      <th></th>\n",
              "      <th></th>\n",
              "      <th></th>\n",
              "      <th></th>\n",
              "      <th></th>\n",
              "      <th></th>\n",
              "      <th></th>\n",
              "      <th></th>\n",
              "      <th></th>\n",
              "    </tr>\n",
              "  </thead>\n",
              "  <tbody>\n",
              "    <tr>\n",
              "      <th rowspan=\"21\" valign=\"top\">A</th>\n",
              "      <th>sys1</th>\n",
              "      <td>1.573836e+12</td>\n",
              "      <td>22.184737</td>\n",
              "      <td>42.452992</td>\n",
              "      <td>70.920738</td>\n",
              "      <td>26671.489575</td>\n",
              "      <td>17971.652046</td>\n",
              "      <td>1.128908e+06</td>\n",
              "      <td>3.464799e+05</td>\n",
              "      <td>44.364585</td>\n",
              "      <td>20.012109</td>\n",
              "    </tr>\n",
              "    <tr>\n",
              "      <th>sys10</th>\n",
              "      <td>1.573666e+12</td>\n",
              "      <td>3.290377</td>\n",
              "      <td>40.082943</td>\n",
              "      <td>62.690677</td>\n",
              "      <td>27621.084336</td>\n",
              "      <td>12460.030019</td>\n",
              "      <td>7.665696e+05</td>\n",
              "      <td>1.885013e+05</td>\n",
              "      <td>29.429477</td>\n",
              "      <td>14.446257</td>\n",
              "    </tr>\n",
              "    <tr>\n",
              "      <th>sys11</th>\n",
              "      <td>1.573826e+12</td>\n",
              "      <td>7.154701</td>\n",
              "      <td>26.169297</td>\n",
              "      <td>81.108820</td>\n",
              "      <td>43249.762625</td>\n",
              "      <td>18885.646552</td>\n",
              "      <td>1.325091e+06</td>\n",
              "      <td>5.453906e+05</td>\n",
              "      <td>31.489178</td>\n",
              "      <td>29.590035</td>\n",
              "    </tr>\n",
              "    <tr>\n",
              "      <th>sys12</th>\n",
              "      <td>1.573679e+12</td>\n",
              "      <td>3.040721</td>\n",
              "      <td>12.742848</td>\n",
              "      <td>53.370462</td>\n",
              "      <td>9000.320828</td>\n",
              "      <td>20107.059144</td>\n",
              "      <td>5.064446e+05</td>\n",
              "      <td>2.208476e+05</td>\n",
              "      <td>65.947300</td>\n",
              "      <td>11.096852</td>\n",
              "    </tr>\n",
              "    <tr>\n",
              "      <th>sys14</th>\n",
              "      <td>1.573671e+12</td>\n",
              "      <td>3.538048</td>\n",
              "      <td>37.005248</td>\n",
              "      <td>69.016606</td>\n",
              "      <td>36373.808320</td>\n",
              "      <td>9975.993362</td>\n",
              "      <td>7.432489e+05</td>\n",
              "      <td>2.174951e+05</td>\n",
              "      <td>20.754799</td>\n",
              "      <td>22.020146</td>\n",
              "    </tr>\n",
              "    <tr>\n",
              "      <th>sys15</th>\n",
              "      <td>1.573668e+12</td>\n",
              "      <td>2.578217</td>\n",
              "      <td>38.589797</td>\n",
              "      <td>88.586169</td>\n",
              "      <td>9857.165995</td>\n",
              "      <td>1969.323728</td>\n",
              "      <td>3.249310e+05</td>\n",
              "      <td>4.627735e+04</td>\n",
              "      <td>31.112873</td>\n",
              "      <td>23.823117</td>\n",
              "    </tr>\n",
              "    <tr>\n",
              "      <th>sys17</th>\n",
              "      <td>1.573670e+12</td>\n",
              "      <td>8.353647</td>\n",
              "      <td>37.250840</td>\n",
              "      <td>78.794962</td>\n",
              "      <td>39813.298384</td>\n",
              "      <td>24295.777236</td>\n",
              "      <td>9.657290e+05</td>\n",
              "      <td>4.875123e+05</td>\n",
              "      <td>24.829146</td>\n",
              "      <td>20.717878</td>\n",
              "    </tr>\n",
              "    <tr>\n",
              "      <th>sys19</th>\n",
              "      <td>1.573671e+12</td>\n",
              "      <td>3.106673</td>\n",
              "      <td>24.164212</td>\n",
              "      <td>59.697654</td>\n",
              "      <td>28104.904664</td>\n",
              "      <td>10760.687752</td>\n",
              "      <td>5.608863e+05</td>\n",
              "      <td>2.728959e+05</td>\n",
              "      <td>20.381169</td>\n",
              "      <td>25.710360</td>\n",
              "    </tr>\n",
              "    <tr>\n",
              "      <th>sys2</th>\n",
              "      <td>1.573680e+12</td>\n",
              "      <td>12.383960</td>\n",
              "      <td>28.696814</td>\n",
              "      <td>66.342869</td>\n",
              "      <td>42238.741893</td>\n",
              "      <td>31672.453132</td>\n",
              "      <td>8.490238e+05</td>\n",
              "      <td>6.727085e+05</td>\n",
              "      <td>20.141026</td>\n",
              "      <td>21.422931</td>\n",
              "    </tr>\n",
              "    <tr>\n",
              "      <th>sys20</th>\n",
              "      <td>1.573809e+12</td>\n",
              "      <td>4.288412</td>\n",
              "      <td>37.404657</td>\n",
              "      <td>69.841518</td>\n",
              "      <td>37007.352169</td>\n",
              "      <td>10172.502053</td>\n",
              "      <td>9.491977e+05</td>\n",
              "      <td>1.505490e+05</td>\n",
              "      <td>28.682984</td>\n",
              "      <td>14.514275</td>\n",
              "    </tr>\n",
              "    <tr>\n",
              "      <th>sys21</th>\n",
              "      <td>1.573864e+12</td>\n",
              "      <td>27.720968</td>\n",
              "      <td>63.018525</td>\n",
              "      <td>81.942720</td>\n",
              "      <td>58157.496075</td>\n",
              "      <td>12432.688662</td>\n",
              "      <td>2.544725e+06</td>\n",
              "      <td>3.475135e+05</td>\n",
              "      <td>50.660398</td>\n",
              "      <td>27.281443</td>\n",
              "    </tr>\n",
              "    <tr>\n",
              "      <th>sys22</th>\n",
              "      <td>1.573568e+12</td>\n",
              "      <td>6.841168</td>\n",
              "      <td>41.345757</td>\n",
              "      <td>61.249602</td>\n",
              "      <td>29531.279274</td>\n",
              "      <td>16963.626446</td>\n",
              "      <td>9.848102e+05</td>\n",
              "      <td>3.479645e+05</td>\n",
              "      <td>33.939585</td>\n",
              "      <td>21.090308</td>\n",
              "    </tr>\n",
              "    <tr>\n",
              "      <th>sys23</th>\n",
              "      <td>1.573670e+12</td>\n",
              "      <td>5.722565</td>\n",
              "      <td>37.506544</td>\n",
              "      <td>68.842548</td>\n",
              "      <td>52481.170517</td>\n",
              "      <td>15569.735910</td>\n",
              "      <td>1.363744e+06</td>\n",
              "      <td>3.866525e+05</td>\n",
              "      <td>26.778465</td>\n",
              "      <td>25.156457</td>\n",
              "    </tr>\n",
              "    <tr>\n",
              "      <th>sys24</th>\n",
              "      <td>1.573667e+12</td>\n",
              "      <td>7.533257</td>\n",
              "      <td>34.633722</td>\n",
              "      <td>79.348329</td>\n",
              "      <td>10914.374889</td>\n",
              "      <td>11640.045211</td>\n",
              "      <td>6.981397e+05</td>\n",
              "      <td>2.498549e+05</td>\n",
              "      <td>59.233560</td>\n",
              "      <td>21.434429</td>\n",
              "    </tr>\n",
              "    <tr>\n",
              "      <th>sys26</th>\n",
              "      <td>1.572695e+12</td>\n",
              "      <td>5.709520</td>\n",
              "      <td>34.037675</td>\n",
              "      <td>76.290853</td>\n",
              "      <td>21537.509734</td>\n",
              "      <td>14546.509729</td>\n",
              "      <td>1.987720e+06</td>\n",
              "      <td>2.668051e+05</td>\n",
              "      <td>96.991647</td>\n",
              "      <td>18.461730</td>\n",
              "    </tr>\n",
              "    <tr>\n",
              "      <th>sys27</th>\n",
              "      <td>1.572658e+12</td>\n",
              "      <td>4.823420</td>\n",
              "      <td>25.541403</td>\n",
              "      <td>61.499851</td>\n",
              "      <td>25070.915663</td>\n",
              "      <td>22189.427373</td>\n",
              "      <td>1.069563e+06</td>\n",
              "      <td>4.279900e+05</td>\n",
              "      <td>44.743681</td>\n",
              "      <td>19.534589</td>\n",
              "    </tr>\n",
              "    <tr>\n",
              "      <th>sys4</th>\n",
              "      <td>1.573667e+12</td>\n",
              "      <td>5.443508</td>\n",
              "      <td>44.279844</td>\n",
              "      <td>58.819643</td>\n",
              "      <td>37740.790075</td>\n",
              "      <td>19727.360643</td>\n",
              "      <td>1.039937e+06</td>\n",
              "      <td>2.946178e+05</td>\n",
              "      <td>28.790692</td>\n",
              "      <td>15.036366</td>\n",
              "    </tr>\n",
              "    <tr>\n",
              "      <th>sys5</th>\n",
              "      <td>1.573671e+12</td>\n",
              "      <td>2.970026</td>\n",
              "      <td>28.250514</td>\n",
              "      <td>66.838462</td>\n",
              "      <td>25717.707824</td>\n",
              "      <td>8685.843817</td>\n",
              "      <td>7.831295e+05</td>\n",
              "      <td>2.079650e+05</td>\n",
              "      <td>30.880763</td>\n",
              "      <td>24.348521</td>\n",
              "    </tr>\n",
              "    <tr>\n",
              "      <th>sys6</th>\n",
              "      <td>1.573676e+12</td>\n",
              "      <td>3.430375</td>\n",
              "      <td>31.998396</td>\n",
              "      <td>65.618753</td>\n",
              "      <td>25726.539309</td>\n",
              "      <td>13737.650226</td>\n",
              "      <td>7.682004e+05</td>\n",
              "      <td>2.675253e+05</td>\n",
              "      <td>30.084706</td>\n",
              "      <td>19.419245</td>\n",
              "    </tr>\n",
              "    <tr>\n",
              "      <th>sys8</th>\n",
              "      <td>1.573676e+12</td>\n",
              "      <td>6.365069</td>\n",
              "      <td>39.013467</td>\n",
              "      <td>64.586244</td>\n",
              "      <td>24456.726535</td>\n",
              "      <td>21712.513524</td>\n",
              "      <td>1.019846e+06</td>\n",
              "      <td>3.515288e+05</td>\n",
              "      <td>44.017448</td>\n",
              "      <td>16.362327</td>\n",
              "    </tr>\n",
              "    <tr>\n",
              "      <th>sys9</th>\n",
              "      <td>1.573669e+12</td>\n",
              "      <td>13.753820</td>\n",
              "      <td>38.007058</td>\n",
              "      <td>79.960804</td>\n",
              "      <td>59207.043591</td>\n",
              "      <td>39924.744386</td>\n",
              "      <td>1.381501e+06</td>\n",
              "      <td>1.470688e+06</td>\n",
              "      <td>23.539498</td>\n",
              "      <td>37.479001</td>\n",
              "    </tr>\n",
              "    <tr>\n",
              "      <th rowspan=\"3\" valign=\"top\">B</th>\n",
              "      <th>sys13</th>\n",
              "      <td>1.573865e+12</td>\n",
              "      <td>10.011581</td>\n",
              "      <td>48.282291</td>\n",
              "      <td>52.615669</td>\n",
              "      <td>15182.584259</td>\n",
              "      <td>10026.337808</td>\n",
              "      <td>4.600485e+05</td>\n",
              "      <td>1.240136e+05</td>\n",
              "      <td>29.657188</td>\n",
              "      <td>12.431103</td>\n",
              "    </tr>\n",
              "    <tr>\n",
              "      <th>sys16</th>\n",
              "      <td>1.573870e+12</td>\n",
              "      <td>2.779433</td>\n",
              "      <td>54.063483</td>\n",
              "      <td>70.826657</td>\n",
              "      <td>426.853289</td>\n",
              "      <td>987.209633</td>\n",
              "      <td>8.993650e+03</td>\n",
              "      <td>2.035305e+04</td>\n",
              "      <td>22.480328</td>\n",
              "      <td>19.779210</td>\n",
              "    </tr>\n",
              "    <tr>\n",
              "      <th>sys3</th>\n",
              "      <td>1.573840e+12</td>\n",
              "      <td>7.407902</td>\n",
              "      <td>24.240357</td>\n",
              "      <td>63.577700</td>\n",
              "      <td>14319.419064</td>\n",
              "      <td>5965.052483</td>\n",
              "      <td>5.532328e+05</td>\n",
              "      <td>1.969478e+05</td>\n",
              "      <td>40.653062</td>\n",
              "      <td>33.286254</td>\n",
              "    </tr>\n",
              "    <tr>\n",
              "      <th rowspan=\"3\" valign=\"top\">C</th>\n",
              "      <th>sys18</th>\n",
              "      <td>1.573670e+12</td>\n",
              "      <td>5.306613</td>\n",
              "      <td>23.771522</td>\n",
              "      <td>63.722293</td>\n",
              "      <td>4188.416299</td>\n",
              "      <td>9101.529847</td>\n",
              "      <td>2.375210e+05</td>\n",
              "      <td>1.674046e+05</td>\n",
              "      <td>59.109252</td>\n",
              "      <td>17.796656</td>\n",
              "    </tr>\n",
              "    <tr>\n",
              "      <th>sys25</th>\n",
              "      <td>1.573673e+12</td>\n",
              "      <td>17.148080</td>\n",
              "      <td>64.089595</td>\n",
              "      <td>78.624186</td>\n",
              "      <td>24337.915327</td>\n",
              "      <td>8521.512114</td>\n",
              "      <td>7.042564e+05</td>\n",
              "      <td>2.198412e+05</td>\n",
              "      <td>31.337595</td>\n",
              "      <td>26.474874</td>\n",
              "    </tr>\n",
              "    <tr>\n",
              "      <th>sys7</th>\n",
              "      <td>1.573672e+12</td>\n",
              "      <td>21.115227</td>\n",
              "      <td>57.350649</td>\n",
              "      <td>89.965771</td>\n",
              "      <td>21703.817035</td>\n",
              "      <td>9987.790419</td>\n",
              "      <td>7.672953e+05</td>\n",
              "      <td>3.656977e+05</td>\n",
              "      <td>37.430755</td>\n",
              "      <td>44.208858</td>\n",
              "    </tr>\n",
              "  </tbody>\n",
              "</table>\n",
              "</div>"
            ],
            "text/plain": [
              "                        timestamp  cpu_utilization  ...  read_iosz  write_iosz\n",
              "model_type systemId                                 ...                       \n",
              "A          sys1      1.573836e+12        22.184737  ...  44.364585   20.012109\n",
              "           sys10     1.573666e+12         3.290377  ...  29.429477   14.446257\n",
              "           sys11     1.573826e+12         7.154701  ...  31.489178   29.590035\n",
              "           sys12     1.573679e+12         3.040721  ...  65.947300   11.096852\n",
              "           sys14     1.573671e+12         3.538048  ...  20.754799   22.020146\n",
              "           sys15     1.573668e+12         2.578217  ...  31.112873   23.823117\n",
              "           sys17     1.573670e+12         8.353647  ...  24.829146   20.717878\n",
              "           sys19     1.573671e+12         3.106673  ...  20.381169   25.710360\n",
              "           sys2      1.573680e+12        12.383960  ...  20.141026   21.422931\n",
              "           sys20     1.573809e+12         4.288412  ...  28.682984   14.514275\n",
              "           sys21     1.573864e+12        27.720968  ...  50.660398   27.281443\n",
              "           sys22     1.573568e+12         6.841168  ...  33.939585   21.090308\n",
              "           sys23     1.573670e+12         5.722565  ...  26.778465   25.156457\n",
              "           sys24     1.573667e+12         7.533257  ...  59.233560   21.434429\n",
              "           sys26     1.572695e+12         5.709520  ...  96.991647   18.461730\n",
              "           sys27     1.572658e+12         4.823420  ...  44.743681   19.534589\n",
              "           sys4      1.573667e+12         5.443508  ...  28.790692   15.036366\n",
              "           sys5      1.573671e+12         2.970026  ...  30.880763   24.348521\n",
              "           sys6      1.573676e+12         3.430375  ...  30.084706   19.419245\n",
              "           sys8      1.573676e+12         6.365069  ...  44.017448   16.362327\n",
              "           sys9      1.573669e+12        13.753820  ...  23.539498   37.479001\n",
              "B          sys13     1.573865e+12        10.011581  ...  29.657188   12.431103\n",
              "           sys16     1.573870e+12         2.779433  ...  22.480328   19.779210\n",
              "           sys3      1.573840e+12         7.407902  ...  40.653062   33.286254\n",
              "C          sys18     1.573670e+12         5.306613  ...  59.109252   17.796656\n",
              "           sys25     1.573673e+12        17.148080  ...  31.337595   26.474874\n",
              "           sys7      1.573672e+12        21.115227  ...  37.430755   44.208858\n",
              "\n",
              "[27 rows x 10 columns]"
            ]
          },
          "metadata": {
            "tags": []
          },
          "execution_count": 8
        }
      ]
    },
    {
      "cell_type": "code",
      "metadata": {
        "colab": {
          "base_uri": "https://localhost:8080/"
        },
        "id": "1GQ2AIvhJy0v",
        "outputId": "732202f8-5311-4488-90c1-9d13752c5ef2"
      },
      "source": [
        "# RUN: add and sort by datetime index\n",
        "df['timestamp_seconds'] = df.pop('timestamp')/1000\n",
        "df['Datetime'] = pd.to_datetime(df['timestamp_seconds'], unit='s', origin='unix')\n",
        "df.set_index(df['Datetime'], inplace=True)\n",
        "df.sort_index(inplace=True)\n",
        "print(df.shape, df.index.shape, df.columns)"
      ],
      "execution_count": 9,
      "outputs": [
        {
          "output_type": "stream",
          "text": [
            "(175505, 13) (175505,) Index(['systemId', 'model_type', 'cpu_utilization', 'read_cache_miss',\n",
            "       'write_cache_miss', 'read_iops', 'write_iops', 'read_throughput',\n",
            "       'write_throughput', 'read_iosz', 'write_iosz', 'timestamp_seconds',\n",
            "       'Datetime'],\n",
            "      dtype='object')\n"
          ],
          "name": "stdout"
        }
      ]
    },
    {
      "cell_type": "code",
      "metadata": {
        "colab": {
          "base_uri": "https://localhost:8080/",
          "height": 425
        },
        "id": "jIzfW7oVVU24",
        "outputId": "bef8a96e-0ede-43ed-89b4-0f5beaaa48fb"
      },
      "source": [
        "df.tail()"
      ],
      "execution_count": 10,
      "outputs": [
        {
          "output_type": "execute_result",
          "data": {
            "text/html": [
              "<div>\n",
              "<style scoped>\n",
              "    .dataframe tbody tr th:only-of-type {\n",
              "        vertical-align: middle;\n",
              "    }\n",
              "\n",
              "    .dataframe tbody tr th {\n",
              "        vertical-align: top;\n",
              "    }\n",
              "\n",
              "    .dataframe thead th {\n",
              "        text-align: right;\n",
              "    }\n",
              "</style>\n",
              "<table border=\"1\" class=\"dataframe\">\n",
              "  <thead>\n",
              "    <tr style=\"text-align: right;\">\n",
              "      <th></th>\n",
              "      <th>systemId</th>\n",
              "      <th>model_type</th>\n",
              "      <th>cpu_utilization</th>\n",
              "      <th>read_cache_miss</th>\n",
              "      <th>write_cache_miss</th>\n",
              "      <th>read_iops</th>\n",
              "      <th>write_iops</th>\n",
              "      <th>read_throughput</th>\n",
              "      <th>write_throughput</th>\n",
              "      <th>read_iosz</th>\n",
              "      <th>write_iosz</th>\n",
              "      <th>timestamp_seconds</th>\n",
              "      <th>Datetime</th>\n",
              "    </tr>\n",
              "    <tr>\n",
              "      <th>Datetime</th>\n",
              "      <th></th>\n",
              "      <th></th>\n",
              "      <th></th>\n",
              "      <th></th>\n",
              "      <th></th>\n",
              "      <th></th>\n",
              "      <th></th>\n",
              "      <th></th>\n",
              "      <th></th>\n",
              "      <th></th>\n",
              "      <th></th>\n",
              "      <th></th>\n",
              "      <th></th>\n",
              "    </tr>\n",
              "  </thead>\n",
              "  <tbody>\n",
              "    <tr>\n",
              "      <th>2019-11-30 23:55:00</th>\n",
              "      <td>sys3</td>\n",
              "      <td>B</td>\n",
              "      <td>7.895631</td>\n",
              "      <td>38.595703</td>\n",
              "      <td>59.659000</td>\n",
              "      <td>10460.427734</td>\n",
              "      <td>5015.952637</td>\n",
              "      <td>9.539205e+05</td>\n",
              "      <td>160529.750000</td>\n",
              "      <td>91.192467</td>\n",
              "      <td>32.003635</td>\n",
              "      <td>1.575158e+09</td>\n",
              "      <td>2019-11-30 23:55:00</td>\n",
              "    </tr>\n",
              "    <tr>\n",
              "      <th>2019-11-30 23:55:00</th>\n",
              "      <td>sys1</td>\n",
              "      <td>A</td>\n",
              "      <td>18.350607</td>\n",
              "      <td>48.973640</td>\n",
              "      <td>57.859528</td>\n",
              "      <td>23319.357422</td>\n",
              "      <td>12400.239258</td>\n",
              "      <td>1.432666e+06</td>\n",
              "      <td>186284.531250</td>\n",
              "      <td>61.440762</td>\n",
              "      <td>15.022346</td>\n",
              "      <td>1.575158e+09</td>\n",
              "      <td>2019-11-30 23:55:00</td>\n",
              "    </tr>\n",
              "    <tr>\n",
              "      <th>2019-11-30 23:55:00</th>\n",
              "      <td>sys13</td>\n",
              "      <td>B</td>\n",
              "      <td>7.414141</td>\n",
              "      <td>55.634968</td>\n",
              "      <td>59.683247</td>\n",
              "      <td>12291.347656</td>\n",
              "      <td>6852.115723</td>\n",
              "      <td>1.986594e+05</td>\n",
              "      <td>111150.226562</td>\n",
              "      <td>16.162640</td>\n",
              "      <td>16.221209</td>\n",
              "      <td>1.575158e+09</td>\n",
              "      <td>2019-11-30 23:55:00</td>\n",
              "    </tr>\n",
              "    <tr>\n",
              "      <th>2019-11-30 23:55:00</th>\n",
              "      <td>sys21</td>\n",
              "      <td>A</td>\n",
              "      <td>26.925968</td>\n",
              "      <td>62.950211</td>\n",
              "      <td>85.841400</td>\n",
              "      <td>44811.687500</td>\n",
              "      <td>9049.357422</td>\n",
              "      <td>3.123106e+06</td>\n",
              "      <td>301661.312500</td>\n",
              "      <td>69.694115</td>\n",
              "      <td>33.334808</td>\n",
              "      <td>1.575158e+09</td>\n",
              "      <td>2019-11-30 23:55:00</td>\n",
              "    </tr>\n",
              "    <tr>\n",
              "      <th>2019-11-30 23:55:00</th>\n",
              "      <td>sys11</td>\n",
              "      <td>A</td>\n",
              "      <td>5.612619</td>\n",
              "      <td>12.618309</td>\n",
              "      <td>73.308243</td>\n",
              "      <td>29159.146484</td>\n",
              "      <td>16994.300781</td>\n",
              "      <td>1.354422e+06</td>\n",
              "      <td>397047.187500</td>\n",
              "      <td>46.447330</td>\n",
              "      <td>23.363342</td>\n",
              "      <td>1.575158e+09</td>\n",
              "      <td>2019-11-30 23:55:00</td>\n",
              "    </tr>\n",
              "  </tbody>\n",
              "</table>\n",
              "</div>"
            ],
            "text/plain": [
              "                    systemId model_type  ...  timestamp_seconds            Datetime\n",
              "Datetime                                 ...                                       \n",
              "2019-11-30 23:55:00     sys3          B  ...       1.575158e+09 2019-11-30 23:55:00\n",
              "2019-11-30 23:55:00     sys1          A  ...       1.575158e+09 2019-11-30 23:55:00\n",
              "2019-11-30 23:55:00    sys13          B  ...       1.575158e+09 2019-11-30 23:55:00\n",
              "2019-11-30 23:55:00    sys21          A  ...       1.575158e+09 2019-11-30 23:55:00\n",
              "2019-11-30 23:55:00    sys11          A  ...       1.575158e+09 2019-11-30 23:55:00\n",
              "\n",
              "[5 rows x 13 columns]"
            ]
          },
          "metadata": {
            "tags": []
          },
          "execution_count": 10
        }
      ]
    },
    {
      "cell_type": "code",
      "metadata": {
        "id": "vy_BPP7hdQOd"
      },
      "source": [
        "# RUN to add some artificial features maybe useful\n",
        "# add sin/cos for day/hour\n",
        "import numpy as np\n",
        "def add_features(df):\n",
        "  hour = 60*60\n",
        "  day = 24*hour\n",
        "  week = 7*day\n",
        "  df['Hour_Sin'] = np.sin(df['timestamp_seconds'] * (2 * np.pi / hour))\n",
        "  df['Hour_Cos'] = np.cos(df['timestamp_seconds'] * (2 * np.pi / hour))\n",
        "  df['Day_Sin'] = np.sin(df['timestamp_seconds'] * (2 * np.pi / day))\n",
        "  df['Day_Cos'] = np.cos(df['timestamp_seconds'] * (2 * np.pi / day))\n",
        "  week_offset = 3*day # as epoch 0 is Thursday 1970-01-01, and leap seconds 23:59:60\n",
        "  df['Week_Sin'] = np.sin((df['timestamp_seconds']+week_offset) * (2 * np.pi / week))\n",
        "  df['Week_Cos'] = np.cos((df['timestamp_seconds']+week_offset) * (2 * np.pi / week))\n",
        "\n",
        "  df['Hours_Of_Datetime'] = df['Datetime'].dt.hour #The hours of the datetime\n",
        "  df['Minutes_Of_Datetime'] = df['Datetime'].dt.minute #The minutes of the datetime\n",
        "\n",
        "  # The day of the week with Monday=0, Sunday=6\n",
        "  # TODO: convert the dayofweek into a categorical variable via one-hot encoding\n",
        "  df['Day_Of_Week'] = df['Datetime'].dt.dayofweek  \n"
      ],
      "execution_count": 11,
      "outputs": []
    },
    {
      "cell_type": "code",
      "metadata": {
        "colab": {
          "base_uri": "https://localhost:8080/"
        },
        "id": "XWIRcjn3Rtlj",
        "outputId": "8627df4d-7fce-4788-dbea-7519548da59e"
      },
      "source": [
        "# RUN: add features\n",
        "print(df.shape, df.index.shape, df.columns)\n",
        "add_features(df)\n",
        "print(df.shape, df.index.shape, df.columns)\n"
      ],
      "execution_count": 12,
      "outputs": [
        {
          "output_type": "stream",
          "text": [
            "(175505, 13) (175505,) Index(['systemId', 'model_type', 'cpu_utilization', 'read_cache_miss',\n",
            "       'write_cache_miss', 'read_iops', 'write_iops', 'read_throughput',\n",
            "       'write_throughput', 'read_iosz', 'write_iosz', 'timestamp_seconds',\n",
            "       'Datetime'],\n",
            "      dtype='object')\n",
            "(175505, 22) (175505,) Index(['systemId', 'model_type', 'cpu_utilization', 'read_cache_miss',\n",
            "       'write_cache_miss', 'read_iops', 'write_iops', 'read_throughput',\n",
            "       'write_throughput', 'read_iosz', 'write_iosz', 'timestamp_seconds',\n",
            "       'Datetime', 'Hour_Sin', 'Hour_Cos', 'Day_Sin', 'Day_Cos', 'Week_Sin',\n",
            "       'Week_Cos', 'Hours_Of_Datetime', 'Minutes_Of_Datetime', 'Day_Of_Week'],\n",
            "      dtype='object')\n"
          ],
          "name": "stdout"
        }
      ]
    },
    {
      "cell_type": "code",
      "metadata": {
        "colab": {
          "base_uri": "https://localhost:8080/"
        },
        "id": "K5ARXTz9ceI7",
        "outputId": "cffeec68-d15d-4ef3-bd10-b0c8064f0d4c"
      },
      "source": [
        "# RUN: extract X and y from df\n",
        "y_column = ['cpu_utilization']\n",
        "\n",
        "X_columns = list(df.columns.values)\n",
        "X_columns.remove(y_column[0])\n",
        "\n",
        "# get X and y\n",
        "if MODEL_SINGLE_SYSTEM:\n",
        "  dftmp = df[df['systemId']==SYSTEM_ID_USED[0]]\n",
        "  X = dftmp[X_columns].copy()\n",
        "  y = dftmp[y_column].copy()\n",
        "else: \n",
        "  X = df[X_columns].copy()\n",
        "  y = df[y_column].copy()\n",
        "\n",
        "y = y/100.0\n",
        "print(f' X.shape = {X.shape}, \\n X.columns={X.columns}, \\n y.shape={y.shape}')\n"
      ],
      "execution_count": 13,
      "outputs": [
        {
          "output_type": "stream",
          "text": [
            " X.shape = (175505, 21), \n",
            " X.columns=Index(['systemId', 'model_type', 'read_cache_miss', 'write_cache_miss',\n",
            "       'read_iops', 'write_iops', 'read_throughput', 'write_throughput',\n",
            "       'read_iosz', 'write_iosz', 'timestamp_seconds', 'Datetime', 'Hour_Sin',\n",
            "       'Hour_Cos', 'Day_Sin', 'Day_Cos', 'Week_Sin', 'Week_Cos',\n",
            "       'Hours_Of_Datetime', 'Minutes_Of_Datetime', 'Day_Of_Week'],\n",
            "      dtype='object'), \n",
            " y.shape=(175505, 1)\n"
          ],
          "name": "stdout"
        }
      ]
    },
    {
      "cell_type": "code",
      "metadata": {
        "colab": {
          "base_uri": "https://localhost:8080/",
          "height": 158
        },
        "id": "nQriN70MpBsR",
        "outputId": "a515cf31-c77c-46e4-8be6-124f482fcc83"
      },
      "source": [
        "# DEBUG only: y's hist before transformer\n",
        "y.hist(bins=100)\n",
        "fig = plt.gcf()\n",
        "fig.set_size_inches(18.5, 3)\n",
        "fig.suptitle(f' hist of y before transformers')\n",
        "plt.tight_layout()\n",
        "fig.subplots_adjust(top=0.8) # last in fig setting\n",
        "plt.show()"
      ],
      "execution_count": 14,
      "outputs": [
        {
          "output_type": "display_data",
          "data": {
            "image/png": "[encoded data removed]",
            "text/plain": [
              "<Figure size 1332x216 with 1 Axes>"
            ]
          },
          "metadata": {
            "tags": [],
            "needs_background": "light"
          }
        }
      ]
    },
    {
      "cell_type": "code",
      "metadata": {
        "colab": {
          "base_uri": "https://localhost:8080/",
          "height": 389
        },
        "id": "xO084lUkoo56",
        "outputId": "bf815e01-9239-4be8-fac4-d7cbc4389355"
      },
      "source": [
        "# DEBUG only: X's hist before transformer\n",
        "X.hist(bins=100)\n",
        "fig = plt.gcf()\n",
        "fig.set_size_inches(18.5, 8)\n",
        "fig.suptitle(f' hist of X before transformers')\n",
        "plt.tight_layout()\n",
        "fig.subplots_adjust(top=0.88) # last in fig setting\n",
        "plt.show()\n"
      ],
      "execution_count": 15,
      "outputs": [
        {
          "output_type": "display_data",
          "data": {
            "image/png": "[encoded data removed]",
            "text/plain": [
              "<Figure size 1332x576 with 20 Axes>"
            ]
          },
          "metadata": {
            "tags": [],
            "needs_background": "light"
          }
        }
      ]
    },
    {
      "cell_type": "code",
      "metadata": {
        "colab": {
          "base_uri": "https://localhost:8080/"
        },
        "id": "0jOFNL1qWRYY",
        "outputId": "2d04def8-f1d0-4cb1-ad19-bf525f729db6"
      },
      "source": [
        "# RUN: train_test_split: fit with train data set, and then transform test data set\n",
        "from sklearn.model_selection import train_test_split\n",
        "\n",
        "X_train, X_test, y_train, y_test = train_test_split(\n",
        "    X, \n",
        "    y, \n",
        "    test_size = TEST_SIZE,\n",
        "    shuffle = False, \n",
        "    random_state = 0\n",
        ")\n",
        "\n",
        "print(f'df.shape = {df.shape}')\n",
        "print(f'  X.shape = {X.shape}, X_train.shape = {X_train.shape}, X_test.shape = {X_test.shape}')\n",
        "print(f'  y.shape = {y.shape}, y_train.shape = {y_train.shape}, y_test.shape = {y_test.shape}')\n",
        "#print(f' X.columns={X.columns},\\n X_train.columns={X_train.columns},\\n X_test.columns={X_test.columns}')\n"
      ],
      "execution_count": 16,
      "outputs": [
        {
          "output_type": "stream",
          "text": [
            "df.shape = (175505, 22)\n",
            "  X.shape = (175505, 21), X_train.shape = (140404, 21), X_test.shape = (35101, 21)\n",
            "  y.shape = (175505, 1), y_train.shape = (140404, 1), y_test.shape = (35101, 1)\n"
          ],
          "name": "stdout"
        }
      ]
    },
    {
      "cell_type": "code",
      "metadata": {
        "colab": {
          "base_uri": "https://localhost:8080/",
          "height": 763
        },
        "id": "gWgGHj1ZXl7z",
        "outputId": "49443f91-2478-41fa-8d2d-1ee4f70051ca"
      },
      "source": [
        "print(X_train.index.min(), X_train.index.max(), X_test.index.min(), X_test.index.max())\n",
        "print(y_train.index.min(), y_train.index.max(), y_test.index.min(), y_test.index.max())\n",
        "(X.describe().T)"
      ],
      "execution_count": 17,
      "outputs": [
        {
          "output_type": "stream",
          "text": [
            "2019-11-01 00:00:00 2019-11-22 09:10:00 2019-11-22 09:10:00 2019-11-30 23:55:00\n",
            "2019-11-01 00:00:00 2019-11-22 09:10:00 2019-11-22 09:10:00 2019-11-30 23:55:00\n"
          ],
          "name": "stdout"
        },
        {
          "output_type": "execute_result",
          "data": {
            "text/html": [
              "<div>\n",
              "<style scoped>\n",
              "    .dataframe tbody tr th:only-of-type {\n",
              "        vertical-align: middle;\n",
              "    }\n",
              "\n",
              "    .dataframe tbody tr th {\n",
              "        vertical-align: top;\n",
              "    }\n",
              "\n",
              "    .dataframe thead th {\n",
              "        text-align: right;\n",
              "    }\n",
              "</style>\n",
              "<table border=\"1\" class=\"dataframe\">\n",
              "  <thead>\n",
              "    <tr style=\"text-align: right;\">\n",
              "      <th></th>\n",
              "      <th>count</th>\n",
              "      <th>mean</th>\n",
              "      <th>std</th>\n",
              "      <th>min</th>\n",
              "      <th>25%</th>\n",
              "      <th>50%</th>\n",
              "      <th>75%</th>\n",
              "      <th>max</th>\n",
              "    </tr>\n",
              "  </thead>\n",
              "  <tbody>\n",
              "    <tr>\n",
              "      <th>read_cache_miss</th>\n",
              "      <td>175505.0</td>\n",
              "      <td>3.849442e+01</td>\n",
              "      <td>16.568591</td>\n",
              "      <td>8.375473e-01</td>\n",
              "      <td>2.710387e+01</td>\n",
              "      <td>3.762103e+01</td>\n",
              "      <td>4.880275e+01</td>\n",
              "      <td>9.701143e+01</td>\n",
              "    </tr>\n",
              "    <tr>\n",
              "      <th>write_cache_miss</th>\n",
              "      <td>175505.0</td>\n",
              "      <td>6.988561e+01</td>\n",
              "      <td>11.579756</td>\n",
              "      <td>3.499316e+01</td>\n",
              "      <td>6.147983e+01</td>\n",
              "      <td>6.875346e+01</td>\n",
              "      <td>7.882584e+01</td>\n",
              "      <td>9.790271e+01</td>\n",
              "    </tr>\n",
              "    <tr>\n",
              "      <th>read_iops</th>\n",
              "      <td>175505.0</td>\n",
              "      <td>2.794470e+04</td>\n",
              "      <td>19489.337648</td>\n",
              "      <td>1.362219e+02</td>\n",
              "      <td>1.389638e+04</td>\n",
              "      <td>2.522726e+04</td>\n",
              "      <td>3.810019e+04</td>\n",
              "      <td>1.534311e+05</td>\n",
              "    </tr>\n",
              "    <tr>\n",
              "      <th>write_iops</th>\n",
              "      <td>175505.0</td>\n",
              "      <td>1.427191e+04</td>\n",
              "      <td>9752.562634</td>\n",
              "      <td>7.639164e+02</td>\n",
              "      <td>7.656506e+03</td>\n",
              "      <td>1.220883e+04</td>\n",
              "      <td>1.836736e+04</td>\n",
              "      <td>7.294602e+04</td>\n",
              "    </tr>\n",
              "    <tr>\n",
              "      <th>read_throughput</th>\n",
              "      <td>175505.0</td>\n",
              "      <td>8.684946e+05</td>\n",
              "      <td>667603.406682</td>\n",
              "      <td>1.476334e+03</td>\n",
              "      <td>4.284607e+05</td>\n",
              "      <td>7.391271e+05</td>\n",
              "      <td>1.128316e+06</td>\n",
              "      <td>6.848337e+06</td>\n",
              "    </tr>\n",
              "    <tr>\n",
              "      <th>write_throughput</th>\n",
              "      <td>175505.0</td>\n",
              "      <td>3.202820e+05</td>\n",
              "      <td>295802.425157</td>\n",
              "      <td>8.749604e+03</td>\n",
              "      <td>1.525863e+05</td>\n",
              "      <td>2.413055e+05</td>\n",
              "      <td>3.892545e+05</td>\n",
              "      <td>3.154118e+06</td>\n",
              "    </tr>\n",
              "    <tr>\n",
              "      <th>read_iosz</th>\n",
              "      <td>175505.0</td>\n",
              "      <td>3.502823e+01</td>\n",
              "      <td>20.814193</td>\n",
              "      <td>4.996913e+00</td>\n",
              "      <td>2.116313e+01</td>\n",
              "      <td>2.967264e+01</td>\n",
              "      <td>4.223311e+01</td>\n",
              "      <td>2.817962e+02</td>\n",
              "    </tr>\n",
              "    <tr>\n",
              "      <th>write_iosz</th>\n",
              "      <td>175505.0</td>\n",
              "      <td>2.253292e+01</td>\n",
              "      <td>11.064237</td>\n",
              "      <td>7.251837e+00</td>\n",
              "      <td>1.566156e+01</td>\n",
              "      <td>2.049095e+01</td>\n",
              "      <td>2.684435e+01</td>\n",
              "      <td>1.913240e+02</td>\n",
              "    </tr>\n",
              "    <tr>\n",
              "      <th>timestamp_seconds</th>\n",
              "      <td>175505.0</td>\n",
              "      <td>1.573716e+09</td>\n",
              "      <td>718766.802412</td>\n",
              "      <td>1.572566e+09</td>\n",
              "      <td>1.573096e+09</td>\n",
              "      <td>1.573658e+09</td>\n",
              "      <td>1.574304e+09</td>\n",
              "      <td>1.575158e+09</td>\n",
              "    </tr>\n",
              "    <tr>\n",
              "      <th>Hour_Sin</th>\n",
              "      <td>175505.0</td>\n",
              "      <td>-1.447687e-03</td>\n",
              "      <td>0.706780</td>\n",
              "      <td>-1.000000e+00</td>\n",
              "      <td>-8.660254e-01</td>\n",
              "      <td>-1.967090e-12</td>\n",
              "      <td>5.000000e-01</td>\n",
              "      <td>1.000000e+00</td>\n",
              "    </tr>\n",
              "    <tr>\n",
              "      <th>Hour_Cos</th>\n",
              "      <td>175505.0</td>\n",
              "      <td>2.264819e-04</td>\n",
              "      <td>0.707436</td>\n",
              "      <td>-1.000000e+00</td>\n",
              "      <td>-8.660254e-01</td>\n",
              "      <td>6.640760e-13</td>\n",
              "      <td>8.660254e-01</td>\n",
              "      <td>1.000000e+00</td>\n",
              "    </tr>\n",
              "    <tr>\n",
              "      <th>Day_Sin</th>\n",
              "      <td>175505.0</td>\n",
              "      <td>1.896962e-03</td>\n",
              "      <td>0.707757</td>\n",
              "      <td>-1.000000e+00</td>\n",
              "      <td>-7.071068e-01</td>\n",
              "      <td>3.490395e-12</td>\n",
              "      <td>7.071068e-01</td>\n",
              "      <td>1.000000e+00</td>\n",
              "    </tr>\n",
              "    <tr>\n",
              "      <th>Day_Cos</th>\n",
              "      <td>175505.0</td>\n",
              "      <td>-2.680106e-03</td>\n",
              "      <td>0.706452</td>\n",
              "      <td>-1.000000e+00</td>\n",
              "      <td>-7.071068e-01</td>\n",
              "      <td>-4.397440e-12</td>\n",
              "      <td>7.071068e-01</td>\n",
              "      <td>1.000000e+00</td>\n",
              "    </tr>\n",
              "    <tr>\n",
              "      <th>Week_Sin</th>\n",
              "      <td>175505.0</td>\n",
              "      <td>-1.664316e-01</td>\n",
              "      <td>0.693868</td>\n",
              "      <td>-1.000000e+00</td>\n",
              "      <td>-8.331971e-01</td>\n",
              "      <td>-3.125718e-01</td>\n",
              "      <td>4.918809e-01</td>\n",
              "      <td>1.000000e+00</td>\n",
              "    </tr>\n",
              "    <tr>\n",
              "      <th>Week_Cos</th>\n",
              "      <td>175505.0</td>\n",
              "      <td>-1.652809e-02</td>\n",
              "      <td>0.700414</td>\n",
              "      <td>-1.000000e+00</td>\n",
              "      <td>-7.048995e-01</td>\n",
              "      <td>-4.050549e-02</td>\n",
              "      <td>6.732891e-01</td>\n",
              "      <td>1.000000e+00</td>\n",
              "    </tr>\n",
              "    <tr>\n",
              "      <th>Hours_Of_Datetime</th>\n",
              "      <td>175505.0</td>\n",
              "      <td>1.150008e+01</td>\n",
              "      <td>6.909431</td>\n",
              "      <td>0.000000e+00</td>\n",
              "      <td>6.000000e+00</td>\n",
              "      <td>1.100000e+01</td>\n",
              "      <td>1.700000e+01</td>\n",
              "      <td>2.300000e+01</td>\n",
              "    </tr>\n",
              "    <tr>\n",
              "      <th>Minutes_Of_Datetime</th>\n",
              "      <td>175505.0</td>\n",
              "      <td>2.752033e+01</td>\n",
              "      <td>17.267205</td>\n",
              "      <td>0.000000e+00</td>\n",
              "      <td>1.000000e+01</td>\n",
              "      <td>3.000000e+01</td>\n",
              "      <td>4.500000e+01</td>\n",
              "      <td>5.500000e+01</td>\n",
              "    </tr>\n",
              "    <tr>\n",
              "      <th>Day_Of_Week</th>\n",
              "      <td>175505.0</td>\n",
              "      <td>3.293319e+00</td>\n",
              "      <td>1.952901</td>\n",
              "      <td>0.000000e+00</td>\n",
              "      <td>2.000000e+00</td>\n",
              "      <td>4.000000e+00</td>\n",
              "      <td>5.000000e+00</td>\n",
              "      <td>6.000000e+00</td>\n",
              "    </tr>\n",
              "  </tbody>\n",
              "</table>\n",
              "</div>"
            ],
            "text/plain": [
              "                        count          mean  ...           75%           max\n",
              "read_cache_miss      175505.0  3.849442e+01  ...  4.880275e+01  9.701143e+01\n",
              "write_cache_miss     175505.0  6.988561e+01  ...  7.882584e+01  9.790271e+01\n",
              "read_iops            175505.0  2.794470e+04  ...  3.810019e+04  1.534311e+05\n",
              "write_iops           175505.0  1.427191e+04  ...  1.836736e+04  7.294602e+04\n",
              "read_throughput      175505.0  8.684946e+05  ...  1.128316e+06  6.848337e+06\n",
              "write_throughput     175505.0  3.202820e+05  ...  3.892545e+05  3.154118e+06\n",
              "read_iosz            175505.0  3.502823e+01  ...  4.223311e+01  2.817962e+02\n",
              "write_iosz           175505.0  2.253292e+01  ...  2.684435e+01  1.913240e+02\n",
              "timestamp_seconds    175505.0  1.573716e+09  ...  1.574304e+09  1.575158e+09\n",
              "Hour_Sin             175505.0 -1.447687e-03  ...  5.000000e-01  1.000000e+00\n",
              "Hour_Cos             175505.0  2.264819e-04  ...  8.660254e-01  1.000000e+00\n",
              "Day_Sin              175505.0  1.896962e-03  ...  7.071068e-01  1.000000e+00\n",
              "Day_Cos              175505.0 -2.680106e-03  ...  7.071068e-01  1.000000e+00\n",
              "Week_Sin             175505.0 -1.664316e-01  ...  4.918809e-01  1.000000e+00\n",
              "Week_Cos             175505.0 -1.652809e-02  ...  6.732891e-01  1.000000e+00\n",
              "Hours_Of_Datetime    175505.0  1.150008e+01  ...  1.700000e+01  2.300000e+01\n",
              "Minutes_Of_Datetime  175505.0  2.752033e+01  ...  4.500000e+01  5.500000e+01\n",
              "Day_Of_Week          175505.0  3.293319e+00  ...  5.000000e+00  6.000000e+00\n",
              "\n",
              "[18 rows x 8 columns]"
            ]
          },
          "metadata": {
            "tags": []
          },
          "execution_count": 17
        }
      ]
    },
    {
      "cell_type": "code",
      "metadata": {
        "id": "cXwtMrRmaLzR"
      },
      "source": [
        "#LogitRegression\n",
        "# Numerical problem TO SOLVE\n",
        "from scipy.special import expit, logit\n",
        "from sklearn.linear_model import LinearRegression\n",
        "class LogitRegression(LinearRegression):\n",
        "    def fit(self, x, p):\n",
        "        p = np.asarray(p)\n",
        "        #y = np.log(p / (1 - p))\n",
        "        y = logit(p)\n",
        "        return super().fit(x, y)\n",
        "\n",
        "    def predict(self, x):\n",
        "        y = super().predict(x)\n",
        "        return expit(y) # 1 / (np.exp(-y) + 1)"
      ],
      "execution_count": 18,
      "outputs": []
    },
    {
      "cell_type": "code",
      "metadata": {
        "colab": {
          "base_uri": "https://localhost:8080/"
        },
        "id": "BYs52Ad0h3K6",
        "outputId": "17832660-5198-45b1-ec5f-cc1f1bf1cdd7"
      },
      "source": [
        "X.columns"
      ],
      "execution_count": 19,
      "outputs": [
        {
          "output_type": "execute_result",
          "data": {
            "text/plain": [
              "Index(['systemId', 'model_type', 'read_cache_miss', 'write_cache_miss',\n",
              "       'read_iops', 'write_iops', 'read_throughput', 'write_throughput',\n",
              "       'read_iosz', 'write_iosz', 'timestamp_seconds', 'Datetime', 'Hour_Sin',\n",
              "       'Hour_Cos', 'Day_Sin', 'Day_Cos', 'Week_Sin', 'Week_Cos',\n",
              "       'Hours_Of_Datetime', 'Minutes_Of_Datetime', 'Day_Of_Week'],\n",
              "      dtype='object')"
            ]
          },
          "metadata": {
            "tags": []
          },
          "execution_count": 19
        }
      ]
    },
    {
      "cell_type": "code",
      "metadata": {
        "id": "_RHAd0ydbKmG"
      },
      "source": [
        "# RUN: define pipeline of preprocessing and estimator\n",
        "from sklearn.compose import ColumnTransformer\n",
        "from sklearn.pipeline import Pipeline\n",
        "from sklearn.preprocessing import StandardScaler, OneHotEncoder, PowerTransformer\n",
        "from sklearn.linear_model import LinearRegression, Ridge, Lasso \n",
        "#from sklearn.linear_model import PoissonRegressor\n",
        "from sklearn.model_selection import train_test_split, GridSearchCV\n",
        "from sklearn.preprocessing import MinMaxScaler\n",
        "from sklearn.preprocessing import PolynomialFeatures\n",
        "\n",
        "#Define preprocessor for X in sequential 3 steps:\n",
        "#1. numeric_features\n",
        "#2. time_features\n",
        "#3. categorical_features\n",
        "numeric_features = ['read_cache_miss', 'write_cache_miss', 'read_iops', 'write_iops', \n",
        "                    'read_throughput', 'write_throughput', 'read_iosz', 'write_iosz']\n",
        "\n",
        "time_features = ['timestamp_seconds', 'Hour_Sin', 'Hour_Cos', \n",
        "                 'Day_Sin', 'Day_Cos', 'Week_Sin', 'Week_Cos']\n",
        "\n",
        "time_features = time_features + ['Hours_Of_Datetime', 'Minutes_Of_Datetime', 'Day_Of_Week']\n",
        "\n",
        "categorical_features = ['systemId', 'model_type']\n",
        "\n",
        "numeric_transformer = Pipeline(\n",
        "  steps = [\n",
        "    #('scaler', StandardScaler()),\n",
        "    ('power_transformer', PowerTransformer(method='box-cox', standardize=True, copy=True)), \n",
        "    ('poly', PolynomialFeatures(degree=3, interaction_only=True, include_bias=False)),\n",
        "    #('power_transformer', PowerTransformer(method='yeo-johnson', standardize=True, copy=True)), \n",
        "  ]\n",
        ")\n",
        "\n",
        "time_transformer = Pipeline(\n",
        "  steps = [\n",
        "    ('scaler', MinMaxScaler()),\n",
        "    #('poly', PolynomialFeatures(degree=2)),\n",
        "  ]\n",
        ")\n",
        "\n",
        "categorical_transformer = OneHotEncoder(handle_unknown='ignore')\n",
        "\n",
        "# preprocessor for X\n",
        "preprocessor = ColumnTransformer(\n",
        "    transformers=[\n",
        "        ('numeric_transformer', numeric_transformer, numeric_features),\n",
        "        ('time_transformer', time_transformer, time_features),\n",
        "        ('categorical_transformer', categorical_transformer, categorical_features)\n",
        "    ],\n",
        "    remainder='drop', \n",
        "    verbose=False\n",
        ")\n",
        "\n",
        "# Append estimator to preprocessing pipeline.\n",
        "# Now we have a full prediction pipeline.\n",
        "pipeline_core = Pipeline(\n",
        "    steps=[\n",
        "      ('preprocessor', preprocessor),\n",
        "      ('ridge_regressor', Ridge(alpha=100))\n",
        "      #('lasso_regressor', Lasso(alpha=0.01))\n",
        "      #('linear_regressor', LinearRegression())\n",
        "      #('PoissonRegressor', PoissonRegressor())\n",
        "      #('LogitRegression', LogitRegression())\n",
        "    ]\n",
        ")\n",
        "\n",
        "\n",
        "#RUN: transform y\n",
        "# ???? Transform y\n",
        "# If transform y as percentage, the y in test can be out of range of (0,1) which will be problem????\n",
        "# Use PoissonRegressor etc w/o transform y\n",
        "\n",
        "# Note: 'yeo-johnson' causes numerical problems\n",
        "y_transformer = Pipeline(\n",
        "  steps = [\n",
        "    #('power_transformer', PowerTransformer(method='yeo-johnson', standardize=False, copy=True)), \n",
        "    ('power_transformer', PowerTransformer(method='box-cox', standardize=False, copy=True)), \n",
        "    ('scaler', MinMaxScaler())\n",
        "  ]\n",
        ")\n",
        "\n",
        "# NOTICE: after fit/transform datatype is changed from DataFrame to ndarray\n",
        "# MUST only train with y_train\n",
        "#y_train_transformed = y_transformer.fit_transform(y_train)\n",
        "#y_test_transformed = y_transformer.transform(y_test)\n",
        "\n",
        "from sklearn.compose import TransformedTargetRegressor\n",
        "\n",
        "regressor_pipeline = TransformedTargetRegressor(regressor=pipeline_core, transformer=y_transformer)\n"
      ],
      "execution_count": 33,
      "outputs": []
    },
    {
      "cell_type": "code",
      "metadata": {
        "colab": {
          "base_uri": "https://localhost:8080/"
        },
        "id": "mg9CmK8RFAJb",
        "outputId": "1818e2a0-f1bc-44f4-f5ce-04150199692e"
      },
      "source": [
        "regressor_pipeline.fit(X_train, y_train)\n",
        "print(\"model score: %.3f\" % regressor_pipeline.score(X_test, y_test))\n"
      ],
      "execution_count": 34,
      "outputs": [
        {
          "output_type": "stream",
          "text": [
            "model score: 0.968\n"
          ],
          "name": "stdout"
        }
      ]
    },
    {
      "cell_type": "code",
      "metadata": {
        "id": "L9aPAd980sq_",
        "colab": {
          "base_uri": "https://localhost:8080/"
        },
        "outputId": "d40d29c8-6183-4293-94f6-83cbd1c5f94c"
      },
      "source": [
        "# grid search for Ridge alpha AND polynomial degree:\n",
        "# Parameters of pipelines can be set using ‘__’ separated parameter names:\n",
        "pipeline_core = Pipeline(\n",
        "    steps=[\n",
        "      ('preprocessor', preprocessor),\n",
        "      #('regressor', LinearRegression()),\n",
        "      #('lasso_regressor', Lasso())\n",
        "      ('regressor', Ridge())\n",
        "      #('LogitRegression', LogitRegression())\n",
        "    ]\n",
        ")\n",
        "\n",
        "from sklearn.model_selection import TimeSeriesSplit\n",
        "#cv = KFold(n_splits=10, shuffle=False, random_state=1)\n",
        "# a large n_splits for TimeSeriesSplit can cause insufficient number of training samples for initial splits\n",
        "cv = TimeSeriesSplit(n_splits=5)\n",
        "     \n",
        "param_grid = {\n",
        "    #'lasso_regressor__alpha': [1e-3, 1e-4, 1e-5],\n",
        "    'regressor__alpha': [100, 10, 1, 0.1],\n",
        "    'preprocessor__numeric_transformer__poly__degree': [2, 3, 4 ]\n",
        "}\n",
        "\n",
        "# scores = ['precision', 'recall']\n",
        "# scoring='%s_macro' % score\n",
        "# For LinearRegression the score is R2 the coefficient of determination  of the prediction\n",
        "grid_search = GridSearchCV(\n",
        "    pipeline_core, \n",
        "    param_grid, \n",
        "    cv=cv, \n",
        "    scoring=['neg_mean_squared_error', 'r2'],\n",
        "    refit='r2',\n",
        "    n_jobs=-1)\n",
        "\n",
        "grid_search.fit(X_train, y_train)\n",
        "# use best_estimator_ as we set GridSearchCV to refit='r2' to fit the an estimator \n",
        "# using the best params on the whole dataset"
      ],
      "execution_count": 22,
      "outputs": [
        {
          "output_type": "stream",
          "text": [
            "/usr/local/lib/python3.7/dist-packages/joblib/externals/loky/process_executor.py:691: UserWarning: A worker stopped while some jobs were given to the executor. This can be caused by a too short worker timeout or by a memory leak.\n",
            "  \"timeout or by a memory leak.\", UserWarning\n"
          ],
          "name": "stderr"
        },
        {
          "output_type": "execute_result",
          "data": {
            "text/plain": [
              "GridSearchCV(cv=TimeSeriesSplit(max_train_size=None, n_splits=5),\n",
              "             error_score=nan,\n",
              "             estimator=Pipeline(memory=None,\n",
              "                                steps=[('preprocessor',\n",
              "                                        ColumnTransformer(n_jobs=None,\n",
              "                                                          remainder='drop',\n",
              "                                                          sparse_threshold=0.3,\n",
              "                                                          transformer_weights=None,\n",
              "                                                          transformers=[('numeric_transformer',\n",
              "                                                                         Pipeline(memory=None,\n",
              "                                                                                  steps=[('power_transformer',\n",
              "                                                                                          PowerTransformer(copy=True,\n",
              "                                                                                                           method='bo...\n",
              "                                              fit_intercept=True, max_iter=None,\n",
              "                                              normalize=False,\n",
              "                                              random_state=None, solver='auto',\n",
              "                                              tol=0.001))],\n",
              "                                verbose=False),\n",
              "             iid='deprecated', n_jobs=-1,\n",
              "             param_grid={'preprocessor__numeric_transformer__poly__degree': [2,\n",
              "                                                                             3,\n",
              "                                                                             4],\n",
              "                         'regressor__alpha': [100, 10, 1, 0.1]},\n",
              "             pre_dispatch='2*n_jobs', refit='r2', return_train_score=False,\n",
              "             scoring=['neg_mean_squared_error', 'r2'], verbose=0)"
            ]
          },
          "metadata": {
            "tags": []
          },
          "execution_count": 22
        }
      ]
    },
    {
      "cell_type": "code",
      "metadata": {
        "id": "oDQ_nKjLEFF1"
      },
      "source": [
        "import pprint as pp\n",
        "def print_gridsearch_results(search, mean_score, std_score):\n",
        "  pp.pprint(\"*** Best parameter (CV score=%0.3f):\" % search.best_score_)\n",
        "  pp.pprint(search.best_params_)\n",
        "\n",
        "  means = search.cv_results_[mean_score]\n",
        "  stds = search.cv_results_[std_score]\n",
        "  print(\"\\n*** Grid scores on development set:\")\n",
        "  for mean, std, params in zip(means, stds, search.cv_results_['params']):\n",
        "      print(\"%0.3f (+/-%0.03f) for %r\"\n",
        "            % (mean, std * 2, params))\n",
        "\n",
        "  print(\"\\n***Grid search cv_results_ :\")\n",
        "  pp.pprint(search.cv_results_)\n",
        "  #pp.pprint(search.scorer_)"
      ],
      "execution_count": 23,
      "outputs": []
    },
    {
      "cell_type": "code",
      "metadata": {
        "id": "JRSVwYUsGd1a"
      },
      "source": [
        "#grid_search.cv_results_\n",
        "grid_search.best_estimator_"
      ],
      "execution_count": null,
      "outputs": []
    },
    {
      "cell_type": "code",
      "metadata": {
        "id": "kp51-evYrcwE",
        "colab": {
          "base_uri": "https://localhost:8080/"
        },
        "outputId": "fe81593e-36cd-4be7-b8f5-9508065ee5a5"
      },
      "source": [
        "mean_scores = ['mean_test_neg_mean_squared_error', 'mean_test_r2']\n",
        "std_scores = ['std_test_neg_mean_squared_error', 'std_test_r2']\n",
        "print_gridsearch_results(grid_search, mean_scores[1], std_scores[1])\n"
      ],
      "execution_count": 25,
      "outputs": [
        {
          "output_type": "stream",
          "text": [
            "'*** Best parameter (CV score=0.970):'\n",
            "{'preprocessor__numeric_transformer__poly__degree': 4, 'regressor__alpha': 10}\n",
            "\n",
            "*** Grid scores on development set:\n",
            "0.948 (+/-0.009) for {'preprocessor__numeric_transformer__poly__degree': 2, 'regressor__alpha': 100}\n",
            "0.951 (+/-0.006) for {'preprocessor__numeric_transformer__poly__degree': 2, 'regressor__alpha': 10}\n",
            "0.948 (+/-0.021) for {'preprocessor__numeric_transformer__poly__degree': 2, 'regressor__alpha': 1}\n",
            "0.945 (+/-0.030) for {'preprocessor__numeric_transformer__poly__degree': 2, 'regressor__alpha': 0.1}\n",
            "0.963 (+/-0.013) for {'preprocessor__numeric_transformer__poly__degree': 3, 'regressor__alpha': 100}\n",
            "0.966 (+/-0.011) for {'preprocessor__numeric_transformer__poly__degree': 3, 'regressor__alpha': 10}\n",
            "0.964 (+/-0.014) for {'preprocessor__numeric_transformer__poly__degree': 3, 'regressor__alpha': 1}\n",
            "0.961 (+/-0.021) for {'preprocessor__numeric_transformer__poly__degree': 3, 'regressor__alpha': 0.1}\n",
            "0.966 (+/-0.015) for {'preprocessor__numeric_transformer__poly__degree': 4, 'regressor__alpha': 100}\n",
            "0.970 (+/-0.011) for {'preprocessor__numeric_transformer__poly__degree': 4, 'regressor__alpha': 10}\n",
            "0.967 (+/-0.022) for {'preprocessor__numeric_transformer__poly__degree': 4, 'regressor__alpha': 1}\n",
            "0.963 (+/-0.037) for {'preprocessor__numeric_transformer__poly__degree': 4, 'regressor__alpha': 0.1}\n",
            "\n",
            "***Grid search cv_results_ :\n",
            "{'mean_fit_time': array([2.13712435, 2.11374073, 2.14767628, 2.14219136, 2.53745027,\n",
            "       2.49503827, 2.51731458, 2.46639237, 4.05928798, 4.02198033,\n",
            "       4.01801238, 3.80101357]),\n",
            " 'mean_score_time': array([0.07746091, 0.08564358, 0.0788033 , 0.08113317, 0.12171841,\n",
            "       0.12457714, 0.12342362, 0.11616311, 0.22363825, 0.2125658 ,\n",
            "       0.20952392, 0.20031252]),\n",
            " 'mean_test_neg_mean_squared_error': array([-0.00028986, -0.00027332, -0.00029447, -0.00030795, -0.00020652,\n",
            "       -0.00018824, -0.00020367, -0.00021795, -0.00019037, -0.00016661,\n",
            "       -0.00018738, -0.00020942]),\n",
            " 'mean_test_r2': array([0.94839944, 0.95139994, 0.94779871, 0.9454763 , 0.96311445,\n",
            "       0.96636702, 0.96366012, 0.96111536, 0.96619181, 0.97027529,\n",
            "       0.96654632, 0.96265012]),\n",
            " 'param_preprocessor__numeric_transformer__poly__degree': masked_array(data=[2, 2, 2, 2, 3, 3, 3, 3, 4, 4, 4, 4],\n",
            "             mask=[False, False, False, False, False, False, False, False,\n",
            "                   False, False, False, False],\n",
            "       fill_value='?',\n",
            "            dtype=object),\n",
            " 'param_regressor__alpha': masked_array(data=[100, 10, 1, 0.1, 100, 10, 1, 0.1, 100, 10, 1, 0.1],\n",
            "             mask=[False, False, False, False, False, False, False, False,\n",
            "                   False, False, False, False],\n",
            "       fill_value='?',\n",
            "            dtype=object),\n",
            " 'params': [{'preprocessor__numeric_transformer__poly__degree': 2,\n",
            "             'regressor__alpha': 100},\n",
            "            {'preprocessor__numeric_transformer__poly__degree': 2,\n",
            "             'regressor__alpha': 10},\n",
            "            {'preprocessor__numeric_transformer__poly__degree': 2,\n",
            "             'regressor__alpha': 1},\n",
            "            {'preprocessor__numeric_transformer__poly__degree': 2,\n",
            "             'regressor__alpha': 0.1},\n",
            "            {'preprocessor__numeric_transformer__poly__degree': 3,\n",
            "             'regressor__alpha': 100},\n",
            "            {'preprocessor__numeric_transformer__poly__degree': 3,\n",
            "             'regressor__alpha': 10},\n",
            "            {'preprocessor__numeric_transformer__poly__degree': 3,\n",
            "             'regressor__alpha': 1},\n",
            "            {'preprocessor__numeric_transformer__poly__degree': 3,\n",
            "             'regressor__alpha': 0.1},\n",
            "            {'preprocessor__numeric_transformer__poly__degree': 4,\n",
            "             'regressor__alpha': 100},\n",
            "            {'preprocessor__numeric_transformer__poly__degree': 4,\n",
            "             'regressor__alpha': 10},\n",
            "            {'preprocessor__numeric_transformer__poly__degree': 4,\n",
            "             'regressor__alpha': 1},\n",
            "            {'preprocessor__numeric_transformer__poly__degree': 4,\n",
            "             'regressor__alpha': 0.1}],\n",
            " 'rank_test_neg_mean_squared_error': array([10,  9, 11, 12,  6,  3,  5,  8,  4,  1,  2,  7], dtype=int32),\n",
            " 'rank_test_r2': array([10,  9, 11, 12,  6,  3,  5,  8,  4,  1,  2,  7], dtype=int32),\n",
            " 'split0_test_neg_mean_squared_error': array([-0.00034264, -0.00030787, -0.00042102, -0.0004857 , -0.00022418,\n",
            "       -0.00018057, -0.00026248, -0.00032605, -0.00020404, -0.0001658 ,\n",
            "       -0.00030027, -0.00042124]),\n",
            " 'split0_test_r2': array([0.94048496, 0.94652364, 0.92686993, 0.91563455, 0.96105966,\n",
            "       0.96863505, 0.95440715, 0.9433662 , 0.96455827, 0.97120055,\n",
            "       0.94784358, 0.92683151]),\n",
            " 'split1_test_neg_mean_squared_error': array([-0.00022387, -0.00021488, -0.00021651, -0.00021797, -0.00014685,\n",
            "       -0.00014196, -0.00014656, -0.00015577, -0.00012408, -0.00012285,\n",
            "       -0.00012493, -0.00013439]),\n",
            " 'split1_test_r2': array([0.95459659, 0.95642008, 0.95608782, 0.95579224, 0.97021611,\n",
            "       0.97120795, 0.97027572, 0.96840766, 0.97483463, 0.97508495,\n",
            "       0.97466291, 0.97274454]),\n",
            " 'split2_test_neg_mean_squared_error': array([-0.00027636, -0.00026515, -0.00025761, -0.00025628, -0.00017715,\n",
            "       -0.00016462, -0.0001597 , -0.00015868, -0.0001453 , -0.00013295,\n",
            "       -0.00012996, -0.00012557]),\n",
            " 'split2_test_r2': array([0.94906223, 0.95112949, 0.95251824, 0.9527646 , 0.96734785,\n",
            "       0.9696573 , 0.97056438, 0.97075375, 0.97321846, 0.97549611,\n",
            "       0.97604681, 0.97685632]),\n",
            " 'split3_test_neg_mean_squared_error': array([-0.0002699 , -0.0002498 , -0.00024259, -0.00024158, -0.00024379,\n",
            "       -0.00022503, -0.00022373, -0.00022477, -0.00023364, -0.0002045 ,\n",
            "       -0.00019938, -0.00019279]),\n",
            " 'split3_test_r2': array([0.94679757, 0.95076131, 0.95218137, 0.95238079, 0.95194503,\n",
            "       0.95564257, 0.95589963, 0.95569526, 0.95394569, 0.95969046,\n",
            "       0.96070004, 0.96199729]),\n",
            " 'split4_test_neg_mean_squared_error': array([-0.00033654, -0.00032891, -0.00033461, -0.00033824, -0.00024064,\n",
            "       -0.00022902, -0.00022585, -0.00022447, -0.00024477, -0.00020694,\n",
            "       -0.00018236, -0.00017313]),\n",
            " 'split4_test_r2': array([0.95105584, 0.95216519, 0.95133621, 0.95080931, 0.9650036 ,\n",
            "       0.96669221, 0.96715371, 0.96735391, 0.96440202, 0.96990438,\n",
            "       0.97347824, 0.97482093]),\n",
            " 'std_fit_time': array([0.96965053, 0.95515236, 0.98130092, 0.96137314, 1.15341736,\n",
            "       1.17951458, 1.13353356, 1.13376843, 1.89401922, 1.714703  ,\n",
            "       1.81521221, 1.44507517]),\n",
            " 'std_score_time': array([0.00256659, 0.01082541, 0.00270051, 0.00662738, 0.00620846,\n",
            "       0.00726147, 0.00322296, 0.00252927, 0.02270891, 0.0237089 ,\n",
            "       0.01978408, 0.02838075]),\n",
            " 'std_test_neg_mean_squared_error': array([4.44964950e-05, 4.07922731e-05, 7.45021297e-05, 9.76567308e-05,\n",
            "       3.81770883e-05, 3.39857210e-05, 4.36991875e-05, 6.18932756e-05,\n",
            "       4.78416759e-05, 3.49596372e-05, 6.34206764e-05, 1.08740360e-04]),\n",
            " 'std_test_r2': array([0.00471392, 0.00316375, 0.0105898 , 0.01500787, 0.0063388 ,\n",
            "       0.00555921, 0.00706375, 0.01028986, 0.00748213, 0.00571703,\n",
            "       0.01084584, 0.01862923])}\n"
          ],
          "name": "stdout"
        }
      ]
    },
    {
      "cell_type": "markdown",
      "metadata": {
        "id": "wbf9TgBPFrFo"
      },
      "source": [
        "1. With applying ('poly', PolynomialFeatures(degree=2)) to numerical features, score is improved from 0.89 to 0.94;\n",
        "2. degree 2: score=0.94\n",
        "3. degree 3: score=0.963\n",
        "\n",
        "\n",
        "\n",
        "2. Applying polynomial to time features has no effect as expected, still score 0.94;\n",
        "\n",
        "3. No use all time features gives score 0.94.\n",
        "\n",
        "4. Not use categorical features give score 0.422, BIG drop.\n"
      ]
    },
    {
      "cell_type": "code",
      "metadata": {
        "id": "51nlRXVisGFq"
      },
      "source": [
        "def plot_predicted_real_allIDs(y_test, y_train):\n",
        "  num_rows = 2\n",
        "  num_cols = 2\n",
        "  y_train = y_train.values\n",
        "  y_test = y_test.values\n",
        "\n",
        "  plt.subplot(num_rows, num_cols, 1)\n",
        "  plt.plot(y_train, y_train_pred, '+')\n",
        "  plt.xlabel('y_train'); plt.ylabel('y_train_pred'); plt.grid()\n",
        "\n",
        "  plt.subplot(num_rows, num_cols, 2)\n",
        "  plt.hist(np.abs(y_train - y_train_pred)/y_train, bins=100)\n",
        "  plt.xlabel('error/real of y_train_pred')\n",
        "  plt.grid(); plt.xlim(0, 2)\n",
        "\n",
        "  plt.subplot(num_rows, num_cols, 3)\n",
        "  plt.plot(y_test, y_test_pred, '+')\n",
        "  plt.xlabel('y_test'); plt.ylabel('y_test_pred'); plt.grid()\n",
        "\n",
        "  plt.subplot(num_rows, num_cols, 4)\n",
        "  plt.hist(np.abs(y_test - y_test_pred)/y_test, bins=100)\n",
        "  plt.xlabel('error/real of y_test_pred')\n",
        "  plt.grid(); plt.xlim(0, 2)\n",
        "\n",
        "  fig=plt.gcf()\n",
        "  fig.set_size_inches(16, 2*3)\n",
        "  fig.suptitle(f' real vs predicted')\n",
        "  plt.tight_layout()\n",
        "  fig.subplots_adjust(top=0.88) # last in fig setting\n",
        "  plt.show()\n",
        "\n"
      ],
      "execution_count": 26,
      "outputs": []
    },
    {
      "cell_type": "code",
      "metadata": {
        "id": "atJKBP2WYvvv"
      },
      "source": [
        "def plot_single_predicted_real(systemID_selected_list, y_test, y_train):\n",
        "\n",
        "  num_cols = 4\n",
        "  num_rows = len(systemID_selected_list)\n",
        "  # get values for easy use\n",
        "  y_train = y_train.values\n",
        "  y_test = y_test.values\n",
        "  fig_idx = 0\n",
        "  for systemID_selected in systemID_selected_list:\n",
        "    fig_idx += 1\n",
        "    plt.subplot(num_rows, num_cols, fig_idx)\n",
        "    selected_idx = X_train['systemId'] == systemID_selected\n",
        "    plt.plot(y_train[selected_idx], y_train_pred[selected_idx], '+', label=f'{len(selected_idx)} samples')\n",
        "    plt.xlabel('y_train '+systemID_selected)\n",
        "    plt.ylabel('y_train_pred '+systemID_selected)\n",
        "    plt.grid(); plt.legend()\n",
        "\n",
        "    fig_idx +=1\n",
        "    plt.subplot(num_rows, num_cols, fig_idx)\n",
        "    selected_idx = X_test['systemId'] == systemID_selected\n",
        "    plt.plot(y_test[selected_idx], y_test_pred[selected_idx], '+', label=f'{len(selected_idx)} samples')\n",
        "    plt.xlabel('y_test ' + systemID_selected)\n",
        "    plt.ylabel('y_test_pred '+systemID_selected)\n",
        "    plt.grid(); plt.legend()\n",
        "    #print(y_test[selected_idx], y_test_pred[selected_idx])\n",
        "\n",
        "    fig_idx +=1\n",
        "    selected_idx = X_train['systemId'] == systemID_selected\n",
        "    plt.subplot(num_rows, num_cols, fig_idx)\n",
        "    plt.hist(np.abs(y_train[selected_idx] - y_train_pred[selected_idx])/y_train[selected_idx], bins=100)\n",
        "    plt.xlabel('error/real of y_train_pred '+systemID_selected)\n",
        "    plt.grid(); plt.xlim(0, 2)\n",
        "\n",
        "\n",
        "    fig_idx +=1\n",
        "    plt.subplot(num_rows, num_cols, fig_idx)\n",
        "    selected_idx = X_test['systemId'] == systemID_selected\n",
        "    plt.hist(np.abs(y_test[selected_idx] - y_test_pred[selected_idx])/y_test[selected_idx], bins=100)\n",
        "    plt.xlabel('error/real of y_test_pred '+systemID_selected)\n",
        "    plt.grid(); plt.xlim(0, 2)\n",
        "\n",
        "\n",
        "  fig=plt.gcf()\n",
        "  fig.set_size_inches(18, 2*num_rows)\n",
        "  fig.suptitle(f' real vs predicted')\n",
        "  plt.tight_layout()\n",
        "  fig.subplots_adjust(top=0.95) # last in fig setting\n",
        "  plt.show()\n",
        "\n"
      ],
      "execution_count": 27,
      "outputs": []
    },
    {
      "cell_type": "code",
      "metadata": {
        "id": "DNfhG72kMjvj"
      },
      "source": [
        "# Skip Grid Search AND directly use its optimum params \n",
        "regressor_pipeline = Pipeline(\n",
        "    steps=[\n",
        "      ('preprocessor', preprocessor),\n",
        "      ('regressor', LinearRegression()),\n",
        "      #('lasso_regressor', Lasso())\n",
        "      #('regressor', Ridge())\n",
        "      #('LogitRegression', LogitRegression())\n",
        "    ]\n",
        ")\n",
        "regressor_pipeline.set_params(preprocessor__numeric_transformer__poly__degree=1)\n",
        "regressor_pipeline.fit(X_train, y_train)\n",
        "\n"
      ],
      "execution_count": null,
      "outputs": []
    },
    {
      "cell_type": "code",
      "metadata": {
        "id": "dxJsliUP1G7Y",
        "colab": {
          "base_uri": "https://localhost:8080/",
          "height": 282
        },
        "outputId": "57534eac-bf4e-43bc-ac60-0c154d939b54"
      },
      "source": [
        "coef = regressor_pipeline.named_steps['regressor'].coef_\n",
        "plt.plot(coef.reshape(coef.shape[1]))\n"
      ],
      "execution_count": 29,
      "outputs": [
        {
          "output_type": "execute_result",
          "data": {
            "text/plain": [
              "[<matplotlib.lines.Line2D at 0x7f3411ba4f90>]"
            ]
          },
          "metadata": {
            "tags": []
          },
          "execution_count": 29
        },
        {
          "output_type": "display_data",
          "data": {
            "image/png": "[encoded data removed]",
            "text/plain": [
              "<Figure size 432x288 with 1 Axes>"
            ]
          },
          "metadata": {
            "tags": [],
            "needs_background": "light"
          }
        }
      ]
    },
    {
      "cell_type": "code",
      "metadata": {
        "colab": {
          "base_uri": "https://localhost:8080/"
        },
        "id": "TZchpV2B6jc_",
        "outputId": "78025b5c-b6ce-4e25-edd4-31b6ee393e21"
      },
      "source": [
        "# MSE and r2_score\n",
        "from sklearn.metrics import mean_squared_error, r2_score\n",
        "y_test_pred = regressor_pipeline.predict(X_test)\n",
        "mse_test = mean_squared_error(y_test, y_test_pred, squared=False)\n",
        "r2_test = r2_score(y_test, y_test_pred)\n",
        "\n",
        "y_train_pred = regressor_pipeline.predict(X_train)\n",
        "mse_train = mean_squared_error(y_train, y_train_pred, squared=False)\n",
        "r2_train = r2_score(y_train, y_train_pred)\n",
        "\n",
        "print(f'mse_test={mse_test}, r2_test={r2_test}')\n",
        "print(\"model score: %.3f\" % regressor_pipeline.score(X_test, y_test))\n",
        "\n",
        "\n",
        "print(f'mse_train={mse_train}, r2_train={r2_train}')\n",
        "print(\"model score: %.3f\" % regressor_pipeline.score(X_train, y_train))\n"
      ],
      "execution_count": 30,
      "outputs": [
        {
          "output_type": "stream",
          "text": [
            "mse_test=0.0209008325242607, r2_test=0.9378841269219386\n",
            "model score: 0.938\n",
            "mse_train=0.019310502118961917, r2_train=0.932370934884835\n",
            "model score: 0.932\n"
          ],
          "name": "stdout"
        }
      ]
    },
    {
      "cell_type": "code",
      "metadata": {
        "id": "Jqy8vxrE7cGd"
      },
      "source": [
        ""
      ],
      "execution_count": 30,
      "outputs": []
    },
    {
      "cell_type": "code",
      "metadata": {
        "id": "9ogZHeNh03kv",
        "colab": {
          "base_uri": "https://localhost:8080/"
        },
        "outputId": "41ac3373-0f83-4007-9932-6595e3241b31"
      },
      "source": [
        "print(type(regressor_pipeline.named_steps['regressor'].coef_))\n",
        "print(regressor_pipeline.named_steps['regressor'].coef_.shape)\n"
      ],
      "execution_count": 32,
      "outputs": [
        {
          "output_type": "stream",
          "text": [
            "<class 'numpy.ndarray'>\n",
            "(1, 49)\n"
          ],
          "name": "stdout"
        }
      ]
    },
    {
      "cell_type": "code",
      "metadata": {
        "id": "gOoQxeza03vJ",
        "colab": {
          "base_uri": "https://localhost:8080/",
          "height": 164
        },
        "outputId": "96ae9e99-791a-472b-cfec-80aa2e70b18c"
      },
      "source": [
        "best_estimator.fit(X_train, y_train)"
      ],
      "execution_count": 33,
      "outputs": [
        {
          "output_type": "error",
          "ename": "NameError",
          "evalue": "ignored",
          "traceback": [
            "\u001b[0;31m---------------------------------------------------------------------------\u001b[0m",
            "\u001b[0;31mNameError\u001b[0m                                 Traceback (most recent call last)",
            "\u001b[0;32m<ipython-input-33-c8cdc05be69d>\u001b[0m in \u001b[0;36m<module>\u001b[0;34m()\u001b[0m\n\u001b[0;32m----> 1\u001b[0;31m \u001b[0mbest_estimator\u001b[0m\u001b[0;34m.\u001b[0m\u001b[0mfit\u001b[0m\u001b[0;34m(\u001b[0m\u001b[0mX_train\u001b[0m\u001b[0;34m,\u001b[0m \u001b[0my_train\u001b[0m\u001b[0;34m)\u001b[0m\u001b[0;34m\u001b[0m\u001b[0;34m\u001b[0m\u001b[0m\n\u001b[0m",
            "\u001b[0;31mNameError\u001b[0m: name 'best_estimator' is not defined"
          ]
        }
      ]
    },
    {
      "cell_type": "code",
      "metadata": {
        "id": "yGLzW6iwA4oN"
      },
      "source": [
        "best_estimator\n"
      ],
      "execution_count": null,
      "outputs": []
    },
    {
      "cell_type": "code",
      "metadata": {
        "id": "8UIP-JQf7bEE"
      },
      "source": [
        "X_train_processed = best_estimator.named_steps.preprocessor.fit_transform(X_train)\n",
        "print(X_train.shape, y_train.shape, X_train_processed.shape)\n"
      ],
      "execution_count": null,
      "outputs": []
    },
    {
      "cell_type": "code",
      "metadata": {
        "colab": {
          "background_save": true,
          "base_uri": "https://localhost:8080/"
        },
        "id": "w4qIfFJK5Q04",
        "outputId": "8043b00b-e414-4bcc-cd36-396c044d9491"
      },
      "source": [
        "# RFE: Feature Selection: cleaned one\n",
        "# grid_search.best_estimator_: PolynomialFeatures degree=4, Ridge alpha=10\n",
        "# Tricks applied: iso directly use best_estimator we use only the regressor step\n",
        "# which has the scoring method, so we do not need to specify the scoring by the getter_call\n",
        "\n",
        "from sklearn.feature_selection import RFE\n",
        "from sklearn.model_selection import RepeatedKFold, KFold, TimeSeriesSplit\n",
        "from sklearn.model_selection import cross_val_score\n",
        "from numpy import std, mean\n",
        "\n",
        "num_features_kept = 10\n",
        "n_splits = 5\n",
        "\n",
        "best_estimator = grid_search.best_estimator_\n",
        "model = best_estimator.named_steps.regressor\n",
        "rfe = RFE(\n",
        "    model, \n",
        "    num_features_kept,\n",
        "    #best_estimator.named_steps.regressor.coef_\n",
        ")\n",
        "# named_steps.clf.feature_importances_ in case of class:~sklearn.pipeline.Pipeline\n",
        "# with its last step named clf\n",
        "# regressor.LinearRegression.feature_importances_\n",
        "\n",
        "pipeline = Pipeline(steps=[('s',rfe),('m',model)])\n",
        "\n",
        "# evaluate model\n",
        "#cv = RepeatedKFold(n_splits=10, n_repeats=3, random_state=1)\n",
        "cv = TimeSeriesSplit(n_splits=n_splits)\n",
        "\n",
        "X_train_processed = best_estimator.named_steps.preprocessor.fit_transform(X_train)\n",
        "\n",
        "n_scores = cross_val_score(\n",
        "    pipeline, \n",
        "    X_train_processed, \n",
        "    y_train, \n",
        "    #scoring='neg_mean_absolute_error', \n",
        "    scoring='r2', \n",
        "    cv=cv, \n",
        "    n_jobs=-1, \n",
        "    error_score='raise'\n",
        ")\n",
        "# report performance\n",
        "print('r2 score: %.3f (%.3f)' % (mean(n_scores), std(n_scores)))\n",
        "print(f'n_scores={n_scores}')\n"
      ],
      "execution_count": null,
      "outputs": [
        {
          "output_type": "stream",
          "text": [
            "/usr/local/lib/python3.7/dist-packages/joblib/externals/loky/process_executor.py:691: UserWarning: A worker stopped while some jobs were given to the executor. This can be caused by a too short worker timeout or by a memory leak.\n",
            "  \"timeout or by a memory leak.\", UserWarning\n"
          ],
          "name": "stderr"
        },
        {
          "output_type": "stream",
          "text": [
            "r2 score: 0.859 (0.008)\n",
            "n_scores=[0.85209424 0.86243478 0.86114214 0.84916012 0.87104996]\n"
          ],
          "name": "stdout"
        }
      ]
    },
    {
      "cell_type": "code",
      "metadata": {
        "colab": {
          "background_save": true,
          "base_uri": "https://localhost:8080/"
        },
        "id": "qNWkBlw_y9eV",
        "outputId": "79648c5c-5a10-4837-97bd-1cedff5c782c"
      },
      "source": [
        "#x1, y1 = \n",
        "rfe.fit(X_train_processed, y_train)\n"
      ],
      "execution_count": null,
      "outputs": [
        {
          "output_type": "stream",
          "text": [
            "/usr/local/lib/python3.7/dist-packages/sklearn/utils/validation.py:760: DataConversionWarning: A column-vector y was passed when a 1d array was expected. Please change the shape of y to (n_samples, ), for example using ravel().\n",
            "  y = column_or_1d(y, warn=True)\n"
          ],
          "name": "stderr"
        },
        {
          "output_type": "execute_result",
          "data": {
            "text/plain": [
              "RFE(estimator=Ridge(alpha=10, copy_X=True, fit_intercept=True, max_iter=None,\n",
              "                    normalize=False, random_state=None, solver='auto',\n",
              "                    tol=0.001),\n",
              "    n_features_to_select=10, step=1, verbose=0)"
            ]
          },
          "metadata": {
            "tags": []
          },
          "execution_count": 0
        }
      ]
    },
    {
      "cell_type": "code",
      "metadata": {
        "id": "ZIvnIxZM0Y-m"
      },
      "source": [
        ""
      ],
      "execution_count": null,
      "outputs": []
    },
    {
      "cell_type": "code",
      "metadata": {
        "id": "qlE6QcHE0aZU"
      },
      "source": [
        ""
      ],
      "execution_count": null,
      "outputs": []
    },
    {
      "cell_type": "code",
      "metadata": {
        "id": "b3foUNGN0aqj"
      },
      "source": [
        ""
      ],
      "execution_count": null,
      "outputs": []
    },
    {
      "cell_type": "markdown",
      "metadata": {
        "id": "qvWBzFse_Xv4"
      },
      "source": [
        "\n",
        "# grid_search.best_estimator_: PolynomialFeatures degree=4, Ridge alpha=10\n",
        "\n",
        "1. KFold: n_splits=2, 10 features: \n",
        "  r2=0.856 std=0.003\n",
        "\n",
        "1. TimeSeriesSplit: n_splits=5, 10 features: \n",
        "r2 score: 0.859 (0.008)\n",
        "n_scores=[0.85209424 0.86243478 0.86114214 0.84916012 0.87104996]\n",
        "\n",
        "\n",
        "2. TimeSeriesSplit: n_splits=5, 20 features: \n",
        "  r2 score: 0.914 (0.006)\n",
        "n_scores=[0.91801578 0.91629245 0.90874749 0.90397424 0.92071314]\n",
        "\n",
        "3. TimeSeriesSplit: n_splits=5, 30 features: \n",
        "r2 score: 0.934 (0.005)\n",
        "n_scores=[0.92804972 0.9442359  0.93245427 0.93193296 0.9349456 ]\n",
        "\n",
        "4. TimeSeriesSplit: n_splits=5, 40 features: \n",
        "r2 score: 0.951 (0.007)\n",
        "n_scores=[0.95949739 0.96006878 0.94439724 0.94704492 0.94298526]\n",
        "\n",
        "\n"
      ]
    },
    {
      "cell_type": "code",
      "metadata": {
        "colab": {
          "base_uri": "https://localhost:8080/",
          "height": 232
        },
        "id": "-z2I6dHnpklg",
        "outputId": "3d0b2395-df33-45fb-d049-5cd5b6e3b755"
      },
      "source": [
        "# RFE: Feature Selection: messy one\n",
        "from sklearn.feature_selection import RFE\n",
        "from numpy import std, mean\n",
        "\n",
        "num_features_kept = 10\n",
        "best_estimator = grid_search.best_estimator_\n",
        "\n",
        "# ust fit sys1\n",
        "y_tmp = y_train[X_train['systemId']=='sys1']\n",
        "X_tmp = X_train[X_train['systemId']=='sys1']\n",
        "\n",
        "\n",
        "#best_estimator.fit(X_tmp, y_tmp)\n",
        "#regressor_pipeline\n",
        "\n",
        "model = best_estimator.named_steps.regressor\n",
        "rfe = RFE(model, \n",
        "          num_features_kept,\n",
        "          #best_estimator.named_steps.regressor.coef_\n",
        "          )\n",
        "\n",
        "# named_steps.clf.feature_importances_ in case of class:~sklearn.pipeline.Pipeline\n",
        "# with its last step named clf\n",
        "# regressor.LinearRegression.feature_importances_\n",
        "\n",
        "X_tmp_processed = best_estimator.named_steps.preprocessor.fit_transform(X_tmp)\n",
        "\n",
        "pipeline = Pipeline(steps=[('s',rfe),('m',model)])\n",
        "from sklearn.model_selection import RepeatedKFold\n",
        "from sklearn.model_selection import cross_val_score\n",
        "\n",
        "# evaluate model\n",
        "#cv = RepeatedKFold(n_splits=10, n_repeats=3, random_state=1)\n",
        "cv = RepeatedKFold(n_splits=10, n_repeats=3, random_state=1)\n",
        "\n",
        "#fit = rfe.fit(X_tmp_processed, y_tmp)\n",
        "\n",
        "n_scores = cross_val_score(\n",
        "    pipeline, \n",
        "    X_tmp_processed, \n",
        "    y_tmp, \n",
        "    scoring='neg_mean_absolute_error', \n",
        "    cv=cv, \n",
        "    n_jobs=-1, \n",
        "    error_score='raise'\n",
        ")\n",
        "# report performance\n",
        "\n",
        "\n"
      ],
      "execution_count": null,
      "outputs": [
        {
          "output_type": "error",
          "ename": "NameError",
          "evalue": "ignored",
          "traceback": [
            "\u001b[0;31m---------------------------------------------------------------------------\u001b[0m",
            "\u001b[0;31mNameError\u001b[0m                                 Traceback (most recent call last)",
            "\u001b[0;32m<ipython-input-88-d8c826949ecc>\u001b[0m in \u001b[0;36m<module>\u001b[0;34m()\u001b[0m\n\u001b[1;32m     39\u001b[0m                            cv=cv, n_jobs=-1, error_score='raise')\n\u001b[1;32m     40\u001b[0m \u001b[0;31m# report performance\u001b[0m\u001b[0;34m\u001b[0m\u001b[0;34m\u001b[0m\u001b[0;34m\u001b[0m\u001b[0m\n\u001b[0;32m---> 41\u001b[0;31m \u001b[0mprint\u001b[0m\u001b[0;34m(\u001b[0m\u001b[0;34m'MAE: %.3f (%.3f)'\u001b[0m \u001b[0;34m%\u001b[0m \u001b[0;34m(\u001b[0m\u001b[0mmean\u001b[0m\u001b[0;34m(\u001b[0m\u001b[0mn_scores\u001b[0m\u001b[0;34m)\u001b[0m\u001b[0;34m,\u001b[0m \u001b[0mstd\u001b[0m\u001b[0;34m(\u001b[0m\u001b[0mn_scores\u001b[0m\u001b[0;34m)\u001b[0m\u001b[0;34m)\u001b[0m\u001b[0;34m)\u001b[0m\u001b[0;34m\u001b[0m\u001b[0;34m\u001b[0m\u001b[0m\n\u001b[0m\u001b[1;32m     42\u001b[0m \u001b[0;34m\u001b[0m\u001b[0m\n\u001b[1;32m     43\u001b[0m \u001b[0;34m\u001b[0m\u001b[0m\n",
            "\u001b[0;31mNameError\u001b[0m: name 'mean' is not defined"
          ]
        }
      ]
    },
    {
      "cell_type": "code",
      "metadata": {
        "colab": {
          "base_uri": "https://localhost:8080/"
        },
        "id": "iUb6qI116V-c",
        "outputId": "bcbed9a3-bf43-4330-b9b1-d71f9c313674"
      },
      "source": [
        "from numpy import std, mean\n",
        "print('MAE: %.3f (%.3f)' % (mean(n_scores), std(n_scores)))\n"
      ],
      "execution_count": null,
      "outputs": [
        {
          "output_type": "stream",
          "text": [
            "MAE: -0.008 (0.000)\n"
          ],
          "name": "stdout"
        }
      ]
    },
    {
      "cell_type": "code",
      "metadata": {
        "colab": {
          "base_uri": "https://localhost:8080/"
        },
        "id": "XW8Y85KByf-U",
        "outputId": "2a18ca79-9f08-48e0-92b6-7b927fd403fd"
      },
      "source": [
        "print(X_tmp.shape, X_tmp_processed.shape)"
      ],
      "execution_count": null,
      "outputs": [
        {
          "output_type": "stream",
          "text": [
            "(5779, 21) (5779, 507)\n"
          ],
          "name": "stdout"
        }
      ]
    },
    {
      "cell_type": "code",
      "metadata": {
        "id": "_5gvhQzQtJwS"
      },
      "source": [
        "print(\"Num Features: %d\" % fit.n_features_)\n",
        "print(\"Selected Features: %s\" % np.sum(fit.support_))\n",
        "print(\"Feature Ranking: %s\" % fit.ranking_.shape)\n",
        "\n",
        "selected_idx = []\n",
        "for i, x in enumerate(fit.support_):\n",
        "  if x:\n",
        "    selected_idx.append(i)\n",
        "\n",
        "print(f\"Selected Features: {selected_idx}\")\n",
        "\n",
        "plt.plot(fit.ranking_[selected_idx])\n",
        "max_rank = fit.ranking_.max()\n",
        "num_ranks = []\n",
        "for k in range(max_rank):\n",
        "  num_ranks.append(np.sum(fit.ranking_==k))\n",
        "plt.plot(num_ranks[:20], 'r-+')"
      ],
      "execution_count": null,
      "outputs": []
    },
    {
      "cell_type": "code",
      "metadata": {
        "id": "PcFeyQe0ygEq"
      },
      "source": [
        ""
      ],
      "execution_count": null,
      "outputs": []
    },
    {
      "cell_type": "code",
      "metadata": {
        "id": "YPk6OhYwwgiF"
      },
      "source": [
        "coef = regressor_pipeline.named_steps['regressor'].coef_\n",
        "plt.plot(coef.reshape(coef.shape[1]))\n",
        "\n"
      ],
      "execution_count": null,
      "outputs": []
    },
    {
      "cell_type": "code",
      "metadata": {
        "id": "wbEJkmcDxalV"
      },
      "source": [
        "coef = best_estimator.named_steps.regressor.coef_\n",
        "plt.plot(coef.reshape(coef.shape[1]))\n",
        "plt.xlim(0,100)\n"
      ],
      "execution_count": null,
      "outputs": []
    },
    {
      "cell_type": "code",
      "metadata": {
        "id": "jJgjRrxOvlHi"
      },
      "source": [
        "y_train[X_train['systemId']=='sys1']\n"
      ],
      "execution_count": null,
      "outputs": []
    },
    {
      "cell_type": "code",
      "metadata": {
        "id": "7OrI_Mhxv1IW"
      },
      "source": [
        "#dir(regressor_pipeline.named_steps['regressor'])\n",
        "#dir(best_estimator.named_steps['regressor'])\n",
        "best_estimator\n",
        "\n"
      ],
      "execution_count": null,
      "outputs": []
    },
    {
      "cell_type": "code",
      "metadata": {
        "id": "ZEG6DrqWrAV-"
      },
      "source": [
        "# create pipeline\n",
        "rfe = RFE(estimator=DecisionTreeRegressor(), n_features_to_select=5)\n",
        "model = DecisionTreeRegressor()\n",
        "pipeline = Pipeline(steps=[('s',rfe),('m',model)])\n",
        "# evaluate model\n",
        "cv = RepeatedKFold(n_splits=10, n_repeats=3, random_state=1)\n",
        "n_scores = cross_val_score(pipeline, X, y, scoring='neg_mean_absolute_error', cv=cv, n_jobs=-1, error_score='raise')\n",
        "# report performance\n",
        "print('MAE: %.3f (%.3f)' % (mean(n_scores), std(n_scores)))\n"
      ],
      "execution_count": null,
      "outputs": []
    },
    {
      "cell_type": "code",
      "metadata": {
        "id": "vmdkIwCgpkxM"
      },
      "source": [
        ""
      ],
      "execution_count": null,
      "outputs": []
    },
    {
      "cell_type": "code",
      "metadata": {
        "id": "zLpHtO7jZ_zZ"
      },
      "source": [
        "# RUN: get predicted for train and test\n",
        "regressor_pipeline.fit(X_train, y_train)\n"
      ],
      "execution_count": null,
      "outputs": []
    },
    {
      "cell_type": "code",
      "metadata": {
        "id": "XSfQfp-x5eYc"
      },
      "source": [
        "regressor_pipeline = grid_search.best_estimator_\n",
        "y_test_pred = regressor_pipeline.predict(X_test)\n",
        "y_train_pred = regressor_pipeline.predict(X_train)\n",
        "plot_predicted_real_allIDs(y_test, y_train)"
      ],
      "execution_count": null,
      "outputs": []
    },
    {
      "cell_type": "code",
      "metadata": {
        "id": "J03WDN6QY4_e"
      },
      "source": [
        "plot_single_predicted_real(list(df['systemId'].unique()), y_test, y_train)"
      ],
      "execution_count": null,
      "outputs": []
    },
    {
      "cell_type": "code",
      "metadata": {
        "id": "L9HflWiN5ekU"
      },
      "source": [
        ""
      ],
      "execution_count": null,
      "outputs": []
    },
    {
      "cell_type": "code",
      "metadata": {
        "id": "8Wtdf3W9dhYZ"
      },
      "source": [
        "def get_samples_per_system(df, systemID_selected_list):\n",
        "  samples_systems = []\n",
        "  for systemID in systemID_selected_list:\n",
        "    num = len(df[df['systemId'] == systemID])\n",
        "    samples_systems.append({systemID: num})\n",
        "  print(samples_systems)\n"
      ],
      "execution_count": null,
      "outputs": []
    },
    {
      "cell_type": "code",
      "metadata": {
        "id": "cdR4VA1na_cS"
      },
      "source": [
        "get_samples_per_system(df, list(df['systemId'].unique())[:3])\n",
        "get_samples_per_system(X_train, list(df['systemId'].unique())[:3])\n",
        "get_samples_per_system(X_test, list(df['systemId'].unique())[:3])"
      ],
      "execution_count": null,
      "outputs": []
    },
    {
      "cell_type": "markdown",
      "metadata": {
        "id": "4lLfgHneiJ3P"
      },
      "source": [
        "Thres are several reasons for prediction per systemID:\n",
        "1. each systemId has different number of samples and time span.\n",
        "Thus a single train/test split will lead to different percent of samples for trains and tests for each system.\n",
        "\n",
        "2. curse of dimensionality when we encode systemId and model for prediction on all systemId samples\n"
      ]
    },
    {
      "cell_type": "code",
      "metadata": {
        "id": "kRxbnl2DRwm8"
      },
      "source": [
        "y.hist(bins=100)\n",
        "fig = plt.gcf()\n",
        "fig.set_size_inches(18.5, 7)\n",
        "fig.suptitle(f' hist of target before transformers')\n"
      ],
      "execution_count": null,
      "outputs": []
    },
    {
      "cell_type": "code",
      "metadata": {
        "id": "tA1k-jSFP008"
      },
      "source": [
        "print(y_train.shape, type(y_train))\n",
        "print(y_train_pred.shape, type(y_train_pred))\n"
      ],
      "execution_count": null,
      "outputs": []
    },
    {
      "cell_type": "code",
      "metadata": {
        "id": "41Vf-EQ1lSwm"
      },
      "source": [
        "#DEBUG only\n",
        "y_train_t = y_transformer.fit_transform(y_train)\n",
        "plt.hist(y_train_t)\n",
        "#y_test_t = y_transformer.transform(y_test)\n",
        "\n"
      ],
      "execution_count": null,
      "outputs": []
    },
    {
      "cell_type": "code",
      "metadata": {
        "id": "5slcK0UETBCN"
      },
      "source": [
        "# DEBUG only\n",
        "preprocessor.fit(X_train)\n",
        "X_train_t = preprocessor.transform(X_train)\n",
        "\n",
        "# X_train_t generated by preprocessor will have x_num_cols columns\n",
        "x_num_cols = len(numeric_features) + len(time_features)\n",
        "for col in categorical_features:\n",
        "  x_num_cols += len(np.unique(df[col]))\n",
        "\n",
        "print(type(X_train_t), X_train_t.shape, x_num_cols)\n",
        "X_train_t = pd.DataFrame(X_train_t)\n",
        "X_train_t.describe()\n",
        "X_train_t.hist()\n",
        "\n",
        "fig = plt.gcf()\n",
        "fig.set_size_inches(18.5, 7*3)\n",
        "fig.suptitle(f' hist of X_train after transformers')\n",
        "plt.tight_layout()\n",
        "fig.subplots_adjust(top=0.88) # last in fig setting\n",
        "plt.show()\n"
      ],
      "execution_count": null,
      "outputs": []
    },
    {
      "cell_type": "code",
      "metadata": {
        "id": "F0GnbhHj8bBx"
      },
      "source": [
        "import sklearn\n",
        "print('The scikit-learn version is {}.'.format(sklearn.__version__))\n",
        "# PoissonRegressor is from 0.23\n"
      ],
      "execution_count": null,
      "outputs": []
    },
    {
      "cell_type": "code",
      "metadata": {
        "id": "5jpMQbTuu12j"
      },
      "source": [
        "\n"
      ],
      "execution_count": null,
      "outputs": []
    },
    {
      "cell_type": "markdown",
      "metadata": {
        "id": "nPu2knj_wc9q"
      },
      "source": [
        "TODO: find outliers characteristics? \n",
        "add benchmark model\n",
        "list scores per systemID\n",
        "feaure importance\n",
        "importance of scaling\n"
      ]
    },
    {
      "cell_type": "code",
      "metadata": {
        "id": "0Kud6Ax5UlQl"
      },
      "source": [
        "print(type(y_train), type(y_train_transformed))\n",
        "print(f'type(X)={type(X)}, type(y)={type(y)}, type(X_train)={type(X_train)}, type(y_train)={type(y_train)}' )\n"
      ],
      "execution_count": null,
      "outputs": []
    },
    {
      "cell_type": "markdown",
      "metadata": {
        "id": "x_drrVK8H2K2"
      },
      "source": [
        ""
      ]
    },
    {
      "cell_type": "markdown",
      "metadata": {
        "id": "IaYvVK_Dnbml"
      },
      "source": [
        "1. w/o power transformer: model score: 0.934\n",
        "2. w/ power transformer: model scroe: 0.931\n",
        "3. w/ power transformer and time_transformer: model scroe: 0.933\n",
        "4. w/ target y transformed,: model score: 0.970\n",
        "\n",
        "1. If use single systemID, much better\n",
        "2. plot transformed data with pipeline\n"
      ]
    },
    {
      "cell_type": "code",
      "metadata": {
        "id": "NyZUZRhTItla"
      },
      "source": [
        ""
      ],
      "execution_count": null,
      "outputs": []
    },
    {
      "cell_type": "code",
      "metadata": {
        "id": "b6YtzmPfjacY"
      },
      "source": [
        "# RUN: predict\n",
        "def plot_predicted(y_predicted):\n",
        "\n",
        "  num_figs = 5\n",
        "  fig_idx =0\n",
        "\n",
        "  fig_idx +=1\n",
        "  plt.subplot(num_figs,1,fig_idx)\n",
        "  plt.plot(y_test, y_predicted, '+')\n",
        "  plt.xlabel('y_test_transformed')\n",
        "  plt.ylabel('y_predicted')\n",
        "  plt.grid()\n",
        "\n",
        "  fig_idx +=1\n",
        "  plt.subplot(num_figs,1,fig_idx)\n",
        "  plt.plot(y_test.index, np.abs(y_test - y_predicted), '+')\n",
        "  plt.xlabel('date')\n",
        "  plt.ylabel('y error')\n",
        "  plt.grid()\n",
        "\n",
        "  fig_idx +=1\n",
        "  plt.subplot(num_figs,1,fig_idx)\n",
        "  plt.plot(y_test.index, y_test, 'b+', label='y_test')\n",
        "  plt.plot(y_test.index, y_predicted, 'go', label='y_predicted_inversed')\n",
        "  plt.xlabel('date')\n",
        "  plt.ylabel('y')\n",
        "  plt.grid(); plt.legend()\n",
        "\n",
        "  # plot time and time distance\n",
        "  fig_idx +=1\n",
        "  plt.subplot(num_figs,1,fig_idx)\n",
        "  t = y_test.index.minute\n",
        "  dt = (t[1:] - t[:-1])\n",
        "  print(y_test.index[1:].shape, dt.shape)\n",
        "  plt.plot(y_test.index[1:], dt, label='delta time')\n",
        "  plt.xlabel('date')\n",
        "  plt.ylabel('time')\n",
        "  plt.grid(); plt.legend()\n",
        "\n",
        "\n",
        "  fig = plt.gcf()\n",
        "  fig.set_size_inches(18.5, num_figs*3)\n",
        "  fig.suptitle(f' regression')\n",
        "  plt.tight_layout()\n",
        "  fig.subplots_adjust(top=0.88) # last in fig setting\n",
        "  plt.show()\n",
        "\n"
      ],
      "execution_count": null,
      "outputs": []
    },
    {
      "cell_type": "code",
      "metadata": {
        "id": "9_XiyHl_2zs3"
      },
      "source": [
        "y_predicted = linear_regressor.predict(X_test)\n",
        "#y_predicted_inversed = y_transformer.inverse_transform(y_predicted)\n",
        "plot_predicted(y_predicted)\n"
      ],
      "execution_count": null,
      "outputs": []
    },
    {
      "cell_type": "code",
      "metadata": {
        "id": "7O2dZQr8jaii"
      },
      "source": [
        "start_date = '2019-11-25'\n",
        "stop_date = '2019-11-28'\n",
        "#df_tmp = df[(df.index > start_date) & (df.index < stop_date) ]\n",
        "df_tmp = X_test[(X_test.index > start_date) & (X_test.index < stop_date) ]\n"
      ],
      "execution_count": null,
      "outputs": []
    },
    {
      "cell_type": "code",
      "metadata": {
        "id": "XV8nYlFWNnHN"
      },
      "source": [
        "df.columns"
      ],
      "execution_count": null,
      "outputs": []
    },
    {
      "cell_type": "code",
      "metadata": {
        "id": "xUwopRSMjaps"
      },
      "source": [
        "print(df_tmp[['systemId', 'model_type']].describe())\n",
        "print(df[['systemId', 'model_type']].describe())\n"
      ],
      "execution_count": null,
      "outputs": []
    },
    {
      "cell_type": "code",
      "metadata": {
        "id": "W3GUSHarhU1w"
      },
      "source": [
        "import matplotlib.pyplot as plt\n",
        "plt.plot(y.values, df['cpu_utilization'].values)\n"
      ],
      "execution_count": null,
      "outputs": []
    },
    {
      "cell_type": "markdown",
      "metadata": {
        "id": "onnuDSHstDGV"
      },
      "source": [
        "To avoid data leakage, split df into train set and test set;\n",
        "1. train set is used for training and cross validation (TimeSeriesSplit)\n",
        "2. test set is used for final sanity check of model\n",
        "\n",
        "Design a pipeline that includes all data preparations including \n",
        "-- standarization, transformation, normalization\n",
        "-- feature selection\n",
        "-- encoding, feature scaling, dimension reduction\n",
        "\n",
        "\n",
        "\n"
      ]
    },
    {
      "cell_type": "code",
      "metadata": {
        "id": "o0fapiaktxdz"
      },
      "source": [
        "df[df['systemId']=='sys1'].head()"
      ],
      "execution_count": null,
      "outputs": []
    },
    {
      "cell_type": "code",
      "metadata": {
        "id": "pSHBiAYRteC9"
      },
      "source": [
        "# Define Constants\n",
        "import numpy as np\n",
        "import datetime\n",
        "import math\n",
        "import matplotlib.pyplot as plt\n",
        "\n",
        "SYSTEM_ID_SELECTED = ['sys1'] # ['sys1'] or ['All']\n",
        "TEST_SIZE = 0.2 # Not yet used\n",
        "USE_TIME_TRANSFORMED = True \n",
        "\n",
        "# We separately process sub-sets of columns and concatenate them in a numpy array called data \n",
        "target_col = ['cpu_utilization']\n",
        "numerical_transform_cols = ['read_cache_miss', 'write_cache_miss', 'read_iops', 'write_iops',\n",
        "                            'read_throughput', 'write_throughput', 'read_iosz', 'write_iosz']\n",
        "time_col = ['timestamp_seconds']\n",
        "time_transformed_cols = ['Week_Sin', 'Week_Cos', 'Day_Sin', 'Day_Cos', 'Hour_Sin', 'Hour_Cos']\n",
        "cols_to_encode = ['systemId', 'model_type']\n",
        "\n",
        "#AS timestamp_seconds is appended after numerical_transform_cols are added to data\n",
        "# As feature selection can be RFE thus standarize/normalize data first;\n",
        "# Feature selection also cause time poition dymanic thus need be decided after all feature selection\n",
        "Y_INDEX_DATA = 0 # index of target in data\n",
        "X_FIRST_INDEX_DATA = 1 # first index in data for X\n",
        "\n",
        "data_cols = []\n",
        "df.describe().T"
      ],
      "execution_count": null,
      "outputs": []
    },
    {
      "cell_type": "markdown",
      "metadata": {
        "id": "Hw9RxlzbLhmH"
      },
      "source": [
        ""
      ]
    },
    {
      "cell_type": "markdown",
      "metadata": {
        "id": "nI7ozhsrLh4A"
      },
      "source": [
        ""
      ]
    },
    {
      "cell_type": "code",
      "metadata": {
        "id": "sbq-3PQo0XLj"
      },
      "source": [
        "# Basic checking and basic stats\n",
        "# check NA for need of imputation\n",
        "print(f'*** There are {df.isna().sum().sum()} NA data')\n",
        "print(df.info())\n",
        "print(df[df['systemId']==SYSTEM_ID_SELECTED[0]].loc[:, ['systemId', 'model_type', 'cpu_utilization']] .tail(5))\n",
        "print(df[df['systemId']==SYSTEM_ID_SELECTED[0]].loc[:, ['systemId', 'model_type', 'cpu_utilization']] .head(5))\n"
      ],
      "execution_count": null,
      "outputs": []
    },
    {
      "cell_type": "code",
      "metadata": {
        "id": "bUgoar1zmGno"
      },
      "source": [
        "# Run: check time series's time is continuous or not\n",
        "# plot timestamp_seconds against target y cpu_utilization;\n",
        "def plot_time_y(df):\n",
        "  num_figs= 4\n",
        "  dftmp = df[df['systemId']==SYSTEM_ID_SELECTED[0]].loc[:, ['timestamp_seconds', 'cpu_utilization']]\n",
        "  t = df[df['systemId']==SYSTEM_ID_SELECTED[0]].loc[:, ['timestamp_seconds']].values/60\n",
        "  plt.figure()\n",
        "\n",
        "  plt.subplot(num_figs,1,1)\n",
        "  plt.plot( dftmp.index[1:], t[1:], 'g+')\n",
        "  plt.grid()\n",
        "  plt.ylabel('time in minutes')\n",
        "\n",
        "  t = t[1:]- t[0:-1] # time difference\n",
        "  plt.subplot(num_figs,1,2)\n",
        "  plt.plot(dftmp.index[1:], t, 'g-+')\n",
        "  plt.ylabel(f'time interval (minutes)')\n",
        "  ax = plt.gca()\n",
        "  ax.legend([f'min={t.min()}, max={t.max()}, mean={t.mean()}'], fontsize='large')\n",
        "  plt.grid()\n",
        "\n",
        "  num_days = 7\n",
        "  stop_index = int(num_days*24*60/5)\n",
        "  plt.subplot(num_figs,1,3)\n",
        "  plt.plot(dftmp.index, dftmp['cpu_utilization'].values)\n",
        "  plt.plot(dftmp.index[:stop_index], dftmp['cpu_utilization'].values[:stop_index], 'g-+')\n",
        "  plt.ylabel('cpu_utilization')\n",
        "  plt.grid()\n",
        "\n",
        "  plt.subplot(num_figs,1,4)\n",
        "  plt.plot(dftmp.index[:stop_index], dftmp['cpu_utilization'].values[:stop_index], 'g-+')\n",
        "  plt.ylabel('cpu_utilization')\n",
        "  ax = plt.gca()\n",
        "  ax.legend([f'zoomed in above figure'], fontsize='large')\n",
        "  plt.grid()\n",
        "\n",
        "  fig = plt.gcf()\n",
        "  fig.set_size_inches(18.5, num_figs*3)\n",
        "  fig.suptitle(f'time series check: min interval={t.min()}, max interval={t.max()}')\n",
        "  plt.tight_layout() # 2nd last step in fig setting\n",
        "  fig.subplots_adjust(top=0.88) # last in fig setting\n",
        "  plt.show()\n"
      ],
      "execution_count": null,
      "outputs": []
    },
    {
      "cell_type": "code",
      "metadata": {
        "id": "DaEgR5YAMtw4"
      },
      "source": [
        "plot_time_y(df)  "
      ],
      "execution_count": null,
      "outputs": []
    },
    {
      "cell_type": "code",
      "metadata": {
        "id": "WGy2QJDDyNag"
      },
      "source": [
        "# plot simple predictor as y[n]=y[n-1] cpu_utilization with decimation by D\n",
        "def plot_baseline_1step_predictor(D, df, systemId):\n",
        "\n",
        "  num_figs = 3\n",
        "  df = df[df['systemId']==systemId[0]].loc[:, ['timestamp_seconds', 'cpu_utilization']]\n",
        "  L = len(df)\n",
        "\n",
        "  plt.figure()\n",
        "  plt.plot( df['cpu_utilization'][0:L-1:D].values, df['cpu_utilization'][1:L:D].values, 'g+')\n"
      ],
      "execution_count": null,
      "outputs": []
    },
    {
      "cell_type": "code",
      "metadata": {
        "id": "jM_bFZh_yawm"
      },
      "source": [
        "plot_baseline_1step_predictor(1, df, SYSTEM_ID_SELECTED)"
      ],
      "execution_count": null,
      "outputs": []
    },
    {
      "cell_type": "code",
      "metadata": {
        "id": "yndckIz7w2JE"
      },
      "source": [
        "# plot y cpu_utilization with decimation by D\n",
        "def plot_y_decimated(D, df, systemId):\n",
        "  num_figs = 3\n",
        "  df = df[df['systemId']==systemId[0]].loc[:, ['timestamp_seconds', 'cpu_utilization']]\n",
        "  L = len(df)\n",
        "  plt.figure()\n",
        "  plt.subplot(num_figs,1,1)\n",
        "  y_diff = df['cpu_utilization'][1:L:D].values - df['cpu_utilization'][:L-1:D].values\n",
        "\n",
        "  plt.plot( df.index[1:L:D], df['cpu_utilization'][1:L:D].values, '-+', label='cpu_utilization')\n",
        "  plt.plot( df.index[1:L:D], y_diff, 'g-+', label='delta cpu_utilization')\n",
        "  plt.legend()\n",
        "\n",
        "  plt.subplot(num_figs,1,2)\n",
        "  plt.plot( df.index[1:L:D], df['cpu_utilization'][0:L-1:D].values, '-+', label='cpu_utilization')\n",
        "  plt.plot( df.index[1:L:D], df['cpu_utilization'][1:L:D].values, 'g-+', label='lag 1 cpu_utilization')\n",
        "  plt.legend()\n",
        "\n",
        "  plt.subplot(num_figs,1,3)\n",
        "  plt.plot( df.index[1:L:D], 100*y_diff/df['cpu_utilization'][1:L:D].values, '-+', label='cpu_utilization delta in percent')\n",
        "  plt.legend()\n",
        "\n",
        "  fig = plt.gcf()\n",
        "  fig.set_size_inches(18.5, 3*num_figs)\n",
        "  ax = plt.gca()\n",
        "  ax.grid()\n"
      ],
      "execution_count": null,
      "outputs": []
    },
    {
      "cell_type": "code",
      "metadata": {
        "id": "nAmUnIhL0ID0"
      },
      "source": [
        "D = 1 # decimate by D*5 mins\n",
        "plot_y_decimated(D, df, SYSTEM_ID_SELECTED)\n"
      ],
      "execution_count": null,
      "outputs": []
    },
    {
      "cell_type": "code",
      "metadata": {
        "id": "2lkYJ3UXxN-P"
      },
      "source": [
        "df.shape, "
      ],
      "execution_count": null,
      "outputs": []
    },
    {
      "cell_type": "markdown",
      "metadata": {
        "id": "QoT_jbnGLYHX"
      },
      "source": [
        "It is not a strict time series data as can be shown with time interval between adjacent samples are not always same (though mostly 5 minutes).\n",
        "So, it cannot be modelled with ARIMA-like methods.\n"
      ]
    },
    {
      "cell_type": "markdown",
      "metadata": {
        "id": "ANYv7bdPEdpX"
      },
      "source": [
        "## Now that the data is loaded. let's begin!!!\n",
        "\n",
        "# **About the data**\n",
        "\n",
        "---\n",
        "This is time series data for one month collected for N number of devices\n",
        "\n",
        "12 Columns\n",
        "\n",
        "systemId - Device name\n",
        "\n",
        "timestamp_seconds - epoch time when the sensor data was collected\n",
        "\n",
        "model_type - Different versions/release/model of the device (similar to mobile models)\n",
        "\n",
        "cpu_utilization - this percentage of how much the CPU is used on the device.\n",
        "\n",
        "read_cache_miss - Percentage of read that were not present in the Cache\n",
        "\n",
        "write_cache_miss - Percentage of write that were not present in the Cache\n",
        "\n",
        "read_iops -  Number of read IOs per second (Input/Output)\n",
        "\n",
        "write_iops -  Nummber of write IOs per second (Input/Output)\n",
        "\n",
        "read_throughput - the read bandwidth per second (Units kbps)\n",
        "\n",
        "write_throughput - the write bandwidth per second (Units kbps)\n",
        "\n",
        "read_iosz - the block size for read Input/Output operations\n",
        "\n",
        "write_iosz - the block size for write Input/Output operations\n",
        "\n",
        "\n",
        "y -> cpu_utilization\n",
        "\n"
      ]
    },
    {
      "cell_type": "code",
      "metadata": {
        "id": "_Q8r1IWOAKIQ"
      },
      "source": [
        "df.head()"
      ],
      "execution_count": null,
      "outputs": []
    },
    {
      "cell_type": "markdown",
      "metadata": {
        "id": "yw8r7vKGEklC"
      },
      "source": [
        "## Q1. Do an EDA on the data, correlation plots, features that might be important for the modeling. Share your observations. Comment on how the data looks from modeling perspective"
      ]
    },
    {
      "cell_type": "code",
      "metadata": {
        "id": "Y479tMw7kg3v"
      },
      "source": [
        ""
      ],
      "execution_count": null,
      "outputs": []
    },
    {
      "cell_type": "code",
      "metadata": {
        "id": "g8qb3jEoy3Ow"
      },
      "source": [
        "# plot utilities\n",
        "def plot_corr(df_tmp, systemId_selected):\n",
        "  import seaborn as sns\n",
        "  if systemId_selected[0] != 'All':\n",
        "    df_tmp = df_tmp[df_tmp['systemId']==systemId_selected[0]]\n",
        "  sns.set_theme(style=\"white\")\n",
        "  # Compute the correlation matrix\n",
        "  corr = df_tmp.corr()\n",
        "  corr_y = corr['cpu_utilization']\n",
        "  corr_y = corr_y.sort_values(ascending=False)\n",
        "  f, ax = plt.subplots(figsize=(15, 5))\n",
        "  corr_y.plot.bar(rot=60)\n",
        "  print(corr_y)\n",
        "  \n",
        "  # Generate a mask for the upper triangle\n",
        "  mask = np.triu(np.ones_like(corr, dtype=bool))\n",
        "  # Set up the matplotlib figure\n",
        "  f, ax = plt.subplots(figsize=(15, 9))\n",
        "  # Generate a custom diverging colormap\n",
        "  cmap = sns.diverging_palette(230, 20, as_cmap=True)\n",
        "  # Draw the heatmap with the mask and correct aspect ratio\n",
        "  sns.heatmap(corr, mask=mask, cmap=cmap, vmax=.9, center=0, square=True, linewidths=.5, cbar_kws={\"shrink\": .5})\n",
        "  f.suptitle(f'systemId {systemId_selected[0]}')"
      ],
      "execution_count": null,
      "outputs": []
    },
    {
      "cell_type": "code",
      "metadata": {
        "id": "QRThy7dPzSt9"
      },
      "source": [
        "# RUN: plot hist\n",
        "# Conclusion: a few columns are far from Gaussian distribution\n",
        "plot_corr(df, SYSTEM_ID_SELECTED)"
      ],
      "execution_count": null,
      "outputs": []
    },
    {
      "cell_type": "code",
      "metadata": {
        "id": "vJA_mJCcySNb"
      },
      "source": [
        "# plot histogram of systemId_selected\n",
        "def plot_df_hist(df_tmp, systemId_selected, title_str, cols, bins):\n",
        "  if systemId_selected[0] != 'All':\n",
        "    df_tmp = df_tmp[df_tmp['systemId']==systemId_selected[0]]\n",
        "  df_tmp = df_tmp[cols]\n",
        "  df_tmp.hist(bins=bins)\n",
        "  fig = plt.gcf()\n",
        "  fig.set_size_inches(18, 8)\n",
        "  fig.suptitle(f'{title_str}, systemId {systemId_selected[0]}')\n",
        "  plt.tight_layout()\n",
        "  fig.subplots_adjust(top=0.9)\n",
        "\n",
        "# utility hist2d plot xcols against target ycol\n",
        "def hist2d_plot(df_temp, systemId, xcols, ycol, xbins, ybins, vmax):\n",
        "  print(f\"hist2d_plot 1 Initial address of df_temp: {id(df_temp)}, shape={df_temp.shape}\")\n",
        "  if systemId != 'All': \n",
        "    df_temp = df[df['systemId']==systemId[0]]\n",
        "  print(f\"hist2d_plot 2 Initial address of df_temp: {id(df_temp)}, shape={df_temp.shape}\")\n",
        "  print(df_temp.shape)\n",
        "  len_x = len(xcols)\n",
        "  num_rows = math.ceil(math.sqrt(len_x))\n",
        "  num_cols = math.ceil(len_x/num_rows)\n",
        "  x_index = 0\n",
        "  for row in range(num_rows):\n",
        "    for col in range(num_cols):\n",
        "      if x_index == len_x:\n",
        "        break\n",
        "      plt.subplot(num_rows, num_cols, x_index+1)\n",
        "      plt.hist2d(df_temp[xcols[x_index]], df_temp[ycol], bins=[xbins, ybins], vmax=vmax) #\n",
        "      plt.colorbar()\n",
        "      plt.xlabel(xcols[x_index])\n",
        "      plt.ylabel(ycol)\n",
        "      x_index = x_index + 1\n",
        "  fig = plt.gcf()\n",
        "  fig.set_size_inches(18.5, 3*num_rows)\n",
        "  fig.suptitle(f'systemId={systemId}')\n",
        "  plt.tight_layout() # 2nd last step in fig setting\n",
        "  fig.subplots_adjust(top=0.88) # last in fig setting\n",
        "  plt.show()\n"
      ],
      "execution_count": null,
      "outputs": []
    },
    {
      "cell_type": "code",
      "metadata": {
        "id": "edyDh42I8B-T"
      },
      "source": [
        "\n",
        "title_str = 'Before transformation!'\n",
        "plot_df_hist(df, SYSTEM_ID_SELECTED, title_str, df.columns, 30)\n",
        "#NOTE: Hour_Sin AND Hour_Cos have only 7 distinct bins at [0, 30, 60, 90, -30, -60, -90] degress as \n",
        "# as sampling perid=5 minutes, thus 2pi*5min/60min=pi/6=30degree"
      ],
      "execution_count": null,
      "outputs": []
    },
    {
      "cell_type": "markdown",
      "metadata": {
        "id": "tOwZ76uV-RDA"
      },
      "source": [
        "The histograms show that we need apply normalization and power transformation\n"
      ]
    },
    {
      "cell_type": "code",
      "metadata": {
        "id": "YtyLQmcWebEX"
      },
      "source": [
        "#Plot hist2d: xcols against target ycol\n",
        "vmax = 100; xbins = 50; ybins = 50\n",
        "ycol = 'cpu_utilization'\n",
        "xcols_group = [\n",
        "  ['read_cache_miss', 'write_cache_miss', 'read_iops', 'write_iops'],\n",
        "  ['read_throughput', 'write_throughput', 'read_iosz', 'write_iosz'],\n",
        "  ['Week_Sin', 'Week_Cos', 'Day_Sin', 'Day_Cos', 'Hour_Sin', 'Hour_Cos']]\n",
        "for xcols in xcols_group:\n",
        "  hist2d_plot(df, SYSTEM_ID_SELECTED, xcols, ycol, xbins, ybins, vmax)"
      ],
      "execution_count": null,
      "outputs": []
    },
    {
      "cell_type": "markdown",
      "metadata": {
        "id": "aX2yFbs00w8M"
      },
      "source": [
        "# Start preprocessing data: transform to Gaussian, scale, label ategorical featurures and one-hot encode;\n",
        "\n",
        "\n"
      ]
    },
    {
      "cell_type": "code",
      "metadata": {
        "id": "3vMT39fHGAh9"
      },
      "source": [
        "# All pre-processing functions\n",
        "# Transform to make data more Gaussian-like \n",
        "# Standarize to make close Norml(0, 1)\n",
        "# Only to numerical_transform_cols, not for timestamp, categoricals\n",
        "def get_target_for_transform(df, systemId_selected, numerical_transform_cols, print_flag=False):\n",
        "  from sklearn.preprocessing import PowerTransformer\n",
        "  #from sklearn.preprocessing import QuantileTransformer\n",
        "  if systemId_selected[0] == 'All':\n",
        "    df_tmp = df[numerical_transform_cols]\n",
        "  else:  \n",
        "    df_tmp = df[df['systemId']==systemId_selected[0]][numerical_transform_cols]\n",
        "  if print_flag:\n",
        "    print(f'*** Inside get_target_for_transform(): df_tmp.shape={df_tmp.shape}')\n",
        "  # Start Transformation\n",
        "  data = df_tmp.values\n",
        "  return data\n",
        "\n",
        "# Transform to make data more Gaussian-like \n",
        "# Standarize to make close Norml(0, 1)\n",
        "# Only to numerical_transform_cols, not for timestamp, categoricals\n",
        "def transform_features(df, systemId_selected, numerical_transform_cols, print_flag=False):\n",
        "  from sklearn.preprocessing import PowerTransformer\n",
        "  #from sklearn.preprocessing import QuantileTransformer\n",
        "  if systemId_selected[0] == 'All':\n",
        "    df_tmp = df[numerical_transform_cols]\n",
        "  else:  \n",
        "    df_tmp = df[df['systemId']==systemId_selected[0]][numerical_transform_cols]\n",
        "  # Start Transformation\n",
        "  data = df_tmp.values\n",
        "  power = PowerTransformer(method='box-cox', standardize=True)\n",
        "  data = power.fit_transform(data)\n",
        "  if print_flag:\n",
        "    print(f'*** Inside transform_features(): df_tmp.shape={df_tmp.shape}')\n",
        "    print(f'  transform_features: {power.get_params(deep=True)}')\n",
        "    print(f'  power.lambdas_: {power.lambdas_}')\n",
        "  return data, power\n",
        "\n",
        "# RUN: LabelEncoder + OneHotEncoder for categorical columns\n",
        "# return np.array oflabel encoded data and encoders\n",
        "def label_encode(df_in, systemId_selected, cols_to_encode, print_flag=False):\n",
        "  from sklearn.preprocessing import LabelEncoder\n",
        "  from sklearn.preprocessing import OneHotEncoder\n",
        "  if systemId_selected[0] == 'All':\n",
        "    df = df_in\n",
        "  else:  \n",
        "    df = df_in[df_in['systemId']==systemId_selected[0]]\n",
        "  print(f'inside label_encode: systemId={systemId_selected}, df shape={df.shape}')\n",
        "  first_col = True\n",
        "  label_encoders = []\n",
        "  my_onehot_encoders = []\n",
        "  for col in cols_to_encode:\n",
        "    label_encoder = LabelEncoder()\n",
        "    X = df[col].values\n",
        "    X = label_encoder.fit_transform(X)\n",
        "    label_encoders.append({col:label_encoder})\n",
        "    X = X.reshape(X.shape[0], 1)\n",
        "    onehot_encoder = OneHotEncoder(sparse=False, categories='auto')\n",
        "    X = onehot_encoder.fit_transform(X)\n",
        "    if print_flag:\n",
        "      print(f'******Inside label_encode: just after my_OneHotEncoder: col={col}, X.shape={X.shape}')\n",
        "      print(f'******Inside label_encode: just after my_OneHotEncoder: col={col}, onehot_encoder={onehot_encoder}')\n",
        "    if first_col:\n",
        "      data = X\n",
        "      #print(f'first_col={first_col}, col={col}, X.shape={X.shape}, data.shape={data.shape}')\n",
        "      first_col = False\n",
        "    else:        \n",
        "      data = np.concatenate((data, X), axis=1)\n",
        "      #print(f'first_col={first_col}, col={col}, X.shape={X.shape}, data.shape={data.shape}')\n",
        "  return data, label_encoders, my_onehot_encoders \n",
        "\n",
        "def minmax_scaler_time(df, systemId_selected, cols):\n",
        "  from sklearn.preprocessing import MinMaxScaler\n",
        "  if systemId_selected[0] == 'All':\n",
        "    df_tmp = df[cols].values\n",
        "  else:  \n",
        "    df_tmp = df[df['systemId']==systemId_selected[0]][cols].values\n",
        "  minmax_scaler = MinMaxScaler()\n",
        "  df_tmp = minmax_scaler.fit_transform(df_tmp)\n",
        "  return df_tmp"
      ],
      "execution_count": null,
      "outputs": []
    },
    {
      "cell_type": "markdown",
      "metadata": {
        "id": "geDYFuM9cMJB"
      },
      "source": [
        "Compare hists of each single systemId ('sys1' vs 'sys2', etc) and single systemId with hist of all systemIds 'All' case:\n",
        "1. each systemId has different hist patterns\n",
        "2. Hour_Sin and Hour_Cos show a pattern at certain times per hour\n"
      ]
    },
    {
      "cell_type": "markdown",
      "metadata": {
        "id": "fImgk3-41x9T"
      },
      "source": [
        "# Apply transforms and extract X, Y, x_cols;\n"
      ]
    },
    {
      "cell_type": "code",
      "metadata": {
        "id": "4htquO_NTH9p"
      },
      "source": [
        "# RUN: apply transforms to df and extract X, Y, x_cols;\n",
        "\n",
        "# Step 1: transform AND standarization FOR numerical_transform_cols\n",
        "# Step 1.1: transform target Y\n",
        "# MUST first use numerical_transform_cols THEN use cols_to_encode\n",
        "# MUST NOT transform timestamp_seconds !!! \n",
        "from sklearn.preprocessing import PowerTransformer\n",
        "\n",
        "data_cols = []\n",
        "data = get_target_for_transform(df, SYSTEM_ID_SELECTED, target_col)\n",
        "target_transformer = PowerTransformer(method='box-cox', standardize=True)\n",
        "data = target_transformer.fit_transform(data)\n",
        "data_cols = data_cols + target_col\n",
        "\n",
        "print(f'After Y PowerTransformer, data shape={data.shape}, target_col len = {len(target_col)}, data_cols={len(data_cols)}')\n",
        "print(f'  target_transformer.get_params = : {target_transformer.get_params(deep=True)}')\n",
        "print(f'  target_transformer.lambdas_= {target_transformer.lambdas_}')\n",
        "\n",
        "# Step 1.2: transform AND standarization FOR numerical_transform_cols\n",
        "# MUST first use numerical_transform_cols THEN use cols_to_encode\n",
        "# MUST NOT transform timestamp_seconds !!! \n",
        "\n",
        "print(f'Before X numericals transformation:')\n",
        "print(f'  data shape = {data.shape}')\n",
        "print(f'  len of numerical_transform_cols = {len(numerical_transform_cols)}')\n",
        "data_new, numerical_X_transformer = transform_features(df, SYSTEM_ID_SELECTED, numerical_transform_cols)\n",
        "data_cols = data_cols + numerical_transform_cols\n",
        "data = np.concatenate((data, data_new), axis=1)\n",
        "print(f'After X numericals transformation:')\n",
        "print(f'  data shape={data.shape}')\n",
        "print(f'  data_cols len={len(data_cols)},\\n  data_cols={data_cols}')\n",
        "\n",
        "\n",
        "# process timestamp_seconds\n",
        "print(f'Before add new column {time_col}:\\n  data shape={data.shape},\\n  len time_col={len(time_col)}')\n",
        "data_new = minmax_scaler_time(df, SYSTEM_ID_SELECTED, time_col)\n",
        "data_cols = data_cols + time_col\n",
        "data = np.concatenate((data, data_new), axis=1)\n",
        "print(f'After add {time_col}:\\n  data shape={data.shape},\\n  len data_cols={len(data_cols)}')\n",
        "\n",
        "# RUN: MinMax timestamp_seconds, not StandardScaler\n",
        "# timestamp_seconds will be mapped to data[:,9] AND X[:,8]\n",
        "if USE_TIME_TRANSFORMED:\n",
        "  data_cols = data_cols + time_transformed_cols\n",
        "  data_new = minmax_scaler_time(df, SYSTEM_ID_SELECTED, time_transformed_cols)\n",
        "  print(f'Before add {len(time_transformed_cols)} columns {time_transformed_cols}:\\n  data shape={data.shape},\\n  data_new shape={data_new.shape}')\n",
        "  data = np.concatenate((data, data_new), axis=1)\n",
        "  print(f'After add time_transformed_cols:\\n  data shape={data.shape},\\n  data_cols ={data_cols}')\n",
        "\n",
        "\n",
        "# Add label encoder categorical columns (model_type only) (sysemId)\n",
        "# Note: This is only useful is model all systemIds together;\n",
        "# WARNING: only run once to avoid add the same columns more than 1 times\n",
        "\n",
        "data_new, label_encoders, my_onehot_encoders = label_encode(df, SYSTEM_ID_SELECTED, cols_to_encode)\n",
        "print(f'Before add {len(cols_to_encode)} columns {cols_to_encode}:\\n  data shape={data.shape},\\n  data_new shape={data_new.shape}')\n",
        "data = np.concatenate((data, data_new), axis=1)\n",
        "data_cols = data_cols + cols_to_encode\n",
        "\n",
        "print(f'After concatenate:\\n  data shape={data.shape}')\n",
        "print(f'  data_cols len={len(data_cols)},\\n  data_cols={data_cols}')\n",
        "\n",
        "X = data[:, X_FIRST_INDEX_DATA:]\n",
        "Y = data[:, Y_INDEX_DATA]\n",
        "x_cols = data_cols[1:]\n"
      ],
      "execution_count": null,
      "outputs": []
    },
    {
      "cell_type": "code",
      "metadata": {
        "id": "DAWSSzMMvNHb"
      },
      "source": [
        ""
      ],
      "execution_count": null,
      "outputs": []
    },
    {
      "cell_type": "code",
      "metadata": {
        "id": "7SoypBGi0658"
      },
      "source": [
        "# Run to check results in good shape \n",
        "def check_data_dims():\n",
        "  dftemp = df[df['systemId']==SYSTEM_ID_SELECTED[0]]\n",
        "  print(f' df with {SYSTEM_ID_SELECTED} shape = {dftemp.shape}\\n')\n",
        "  del dftemp\n",
        "  print(f' data.shape = {data.shape}, len(data_cols) = {len(data_cols)}\\n')\n",
        "  print(f' len(x_cols)={len(x_cols)}, X.shape = {X.shape}, Y.shape = {Y.shape}\\n')\n",
        "  print(f' data_cols = {data_cols}, \\n x_cols = {x_cols}\\n' )\n",
        "check_data_dims()"
      ],
      "execution_count": null,
      "outputs": []
    },
    {
      "cell_type": "markdown",
      "metadata": {
        "id": "vpsSA9rArmM3"
      },
      "source": [
        "Plot ACF and PACF of target cpu_utilization and all numerical features to check correlation in time lags and decide the need of TimeSeriesSplit for strict time series or KFold for iid samples.\n",
        "\n",
        "Note: the time steps are not always 5 minutes thus the ACF and PACF results shall be carefully read.\n",
        "May be need imputation???\n",
        " "
      ]
    },
    {
      "cell_type": "code",
      "metadata": {
        "id": "saXEF7d7m2Me"
      },
      "source": [
        "def plot_y_lag(df, systemId_selected, numerical_transform_cols):\n",
        "  if systemId_selected[0] != 'All':\n",
        "    df = df[df['systemId']==systemId_selected[0]][numerical_transform_cols]\n",
        "  for col in numerical_transform_cols:\n",
        "    y = df[col]\n",
        "\n",
        "    values = pd.DataFrame(y.values)\n",
        "    dataframe = pd.concat([values.shift(2), values.shift(1), values], axis=1)\n",
        "    dataframe.columns = ['t-2', 't-1', 't']\n",
        "    result = dataframe.corr()\n",
        "    print(result)\n",
        "\n",
        "\n",
        "    plt.plot(y[1:].values, y[0:-1].values, '.')\n",
        "    plt.figure()\n",
        "    plt.plot(y[2:].values, y[0:-2].values, '.')\n",
        "\n"
      ],
      "execution_count": null,
      "outputs": []
    },
    {
      "cell_type": "code",
      "metadata": {
        "id": "3r5YW83YrxUl"
      },
      "source": [
        "plot_y_lag(df, ['All'], target_col)\n"
      ],
      "execution_count": null,
      "outputs": []
    },
    {
      "cell_type": "code",
      "metadata": {
        "id": "nsMLRP8xolQu"
      },
      "source": [
        "plot_y_lag(df, ['sys19'], target_col)\n"
      ],
      "execution_count": null,
      "outputs": []
    },
    {
      "cell_type": "markdown",
      "metadata": {
        "id": "PZFso_MfpIiW"
      },
      "source": [
        "By scatter plot of y[n] and y[n-1] for the case of all systemIds, we can see no correlation there.\n",
        "The y[n] and y[n-1] relationship varies for individual single systemId, e.g. sys11 has strong correlation, but sys12 has weak correlation.\n",
        "This justifies the need of separate model for prediction for each sytemId separately.\n",
        "We can use labellled and one-hot encoded systemId as a model feature but this is a cost and add complexity.\n",
        "\n",
        "\n",
        "\n"
      ]
    },
    {
      "cell_type": "code",
      "metadata": {
        "id": "dSmVuQfTs3Vg"
      },
      "source": [
        "from statsmodels.graphics.tsaplots import plot_acf\n",
        "from statsmodels.graphics.tsaplots import plot_pacf\n",
        "def plot_acf_mine(df, systemId_selected, numerical_transform_cols):\n",
        "  if systemId_selected[0] != 'All':\n",
        "    df = df[df['systemId']==systemId_selected[0]][numerical_transform_cols]\n",
        "\n",
        "  for col in numerical_transform_cols:\n",
        "    plot_acf(df[col])\n",
        "    plt.title(f'acf of {col} of systemId {systemId_selected[0]}')\n",
        "\n",
        "    plot_pacf(df[col])\n",
        "    plt.title(f'pacf of {col} of systemId {systemId_selected[0]}')\n",
        "\n",
        "    plt.show()\n"
      ],
      "execution_count": null,
      "outputs": []
    },
    {
      "cell_type": "code",
      "metadata": {
        "id": "ur5lxCnYulpa"
      },
      "source": [
        "plot_acf_mine(df, SYSTEM_ID_SELECTED, target_col)\n"
      ],
      "execution_count": null,
      "outputs": []
    },
    {
      "cell_type": "code",
      "metadata": {
        "id": "yneVyya5u2LY"
      },
      "source": [
        "plot_acf_mine(df, ['All'], target_col)\n"
      ],
      "execution_count": null,
      "outputs": []
    },
    {
      "cell_type": "code",
      "metadata": {
        "id": "urKjWJbKsBSJ"
      },
      "source": [
        "plot_acf_mine(df, SYSTEM_ID_SELECTED, numerical_transform_cols)\n"
      ],
      "execution_count": null,
      "outputs": []
    },
    {
      "cell_type": "code",
      "metadata": {
        "id": "34FY2tj8jKxS"
      },
      "source": [
        "df.head()"
      ],
      "execution_count": null,
      "outputs": []
    },
    {
      "cell_type": "code",
      "metadata": {
        "id": "Fa0vKBm5vRT5"
      },
      "source": [
        "plot_acf_mine(df, ['All'], numerical_transform_cols)\n"
      ],
      "execution_count": null,
      "outputs": []
    },
    {
      "cell_type": "code",
      "metadata": {
        "id": "kel3t2PBAkpN"
      },
      "source": [
        "target_col, data_cols.index(target_col[0])\n",
        "#data_cols.index(target_col)"
      ],
      "execution_count": null,
      "outputs": []
    },
    {
      "cell_type": "code",
      "metadata": {
        "id": "4Lr_2nEAkkP5"
      },
      "source": [
        "print(f'After add {time_col}:\\n  data shape={data.shape},\\n  len data_cols={len(data_cols)}')\n",
        "plt.subplot(2,1,1)\n",
        "plt.plot(data[:, data_cols.index('timestamp_seconds')])\n",
        "plt.subplot(2,1,2)\n",
        "plt.plot(data[:, data_cols.index('timestamp_seconds')], data[:, data_cols.index(target_col[0])])\n"
      ],
      "execution_count": null,
      "outputs": []
    },
    {
      "cell_type": "code",
      "metadata": {
        "id": "i-tXQCqCxF4b"
      },
      "source": [
        "# check time transformations are all right\n",
        "plt.figure()\n",
        "index_to_plots = [1,3,5,7,8]\n",
        "L = len(index_to_plots)\n",
        "for k in range(L):\n",
        "  plt.subplot(L,1,k+1)\n",
        "  plt.plot(data[:, data_cols.index('timestamp_seconds')], data[:, data_cols.index('timestamp_seconds') + index_to_plots[k]],)\n"
      ],
      "execution_count": null,
      "outputs": []
    },
    {
      "cell_type": "code",
      "metadata": {
        "id": "IeNDWMD6jyqv"
      },
      "source": [
        "# Compare hist before/after transformation/scaling \n",
        "# Before transformation: hist\n",
        "title_str = 'Before transformation!'\n",
        "plot_df_hist(df, SYSTEM_ID_SELECTED, title_str, df.columns, 30)\n",
        "#NOTE: Hour_Sin AND Hour_Cos have only 7 distinct bins at [0, 30, 60, 90, -30, -60, -90] degress as \n",
        "# as sampling perid=5 minutes, thus 2pi*5min/60min=pi/6=30degree\n",
        "\n",
        "# After transformation: hist\n",
        "title_str = 'After transformation!'\n",
        "data_df = pd.DataFrame(data, columns=data_cols)\n",
        "plot_df_hist(data_df, ['All'], title_str, data_df.columns, 30)\n",
        "del data_df"
      ],
      "execution_count": null,
      "outputs": []
    },
    {
      "cell_type": "markdown",
      "metadata": {
        "id": "ayriUf62sfFV"
      },
      "source": [
        "Feature selection:\n",
        "1. correlation based\n",
        "2. L1 norm\n",
        "3. p-value"
      ]
    },
    {
      "cell_type": "code",
      "metadata": {
        "id": "daCEstTKvKjS"
      },
      "source": [
        ""
      ],
      "execution_count": null,
      "outputs": []
    },
    {
      "cell_type": "code",
      "metadata": {
        "id": "71mXegL8seAG"
      },
      "source": [
        "# RUN: feature selection based on correlation  \n",
        "# NOTE: this is done separately for each of systemId, not for all systemIds altogether\n",
        "#label encoder for model\n",
        "def select_feature_by_correlation(data, data_cols, target_col, corr_threshold):\n",
        "  df = pd.DataFrame(data, columns=data_cols)\n",
        "  corr = df.corr()\n",
        "  columns = np.full((corr.shape[0],), True, dtype=bool)\n",
        "  for i in range(corr.shape[0]):\n",
        "    for j in range(i+1, corr.shape[0]):\n",
        "      if corr.iloc[i,j] >= corr_threshold:\n",
        "        columns[j] = False\n",
        "  selected_columns = df.columns[columns]\n",
        "  removed_columns = [x for x in df.columns if x not in selected_columns]\n",
        "\n",
        "  print(f'df shape={df.shape}; corr shape={corr.shape};')\n",
        "  print(f'df.columns={df.columns}')\n",
        "  print(f'columns={columns}')\n",
        "  print(f'selected_columns={selected_columns}')\n",
        "  print(f'removed_columns={removed_columns}')\n",
        "  return selected_columns, removed_columns, corr\n",
        "\n"
      ],
      "execution_count": null,
      "outputs": []
    },
    {
      "cell_type": "code",
      "metadata": {
        "id": "3YeRXt7Ewd0c"
      },
      "source": [
        "# RUN: feature selection based on correlation  \n",
        "CORR_THRESHOLD_FEATURE_SELECTION = 0.8;\n",
        "pd.set_option('display.max_columns', None)\n",
        "\n",
        "#corr of X\n",
        "selected_columns, removed_columns, corr_X = select_feature_by_correlation(X, x_cols, target_col, CORR_THRESHOLD_FEATURE_SELECTION)    \n"
      ],
      "execution_count": null,
      "outputs": []
    },
    {
      "cell_type": "code",
      "metadata": {
        "id": "2e2vpiv_xEW7"
      },
      "source": [
        "# corr of data\n",
        "_, _, corr_data = select_feature_by_correlation(data, data_cols, target_col, CORR_THRESHOLD_FEATURE_SELECTION)    "
      ],
      "execution_count": null,
      "outputs": []
    },
    {
      "cell_type": "code",
      "metadata": {
        "id": "_T93dvZn7a0u"
      },
      "source": [
        "# plot 'read_throughput', 'read_cache_miss'\n",
        "cols_correlated = ['read_throughput', 'read_cache_miss', 'read_iops', 'write_iops']\n",
        "cols_correlated_index = [data_cols.index(x) for x in cols_correlated]\n",
        "\n",
        "print(len(data_cols), data.shape)\n",
        "print(cols_correlated_index, data_cols)\n",
        "plt.figure()\n",
        "plt.plot(data[:, cols_correlated_index[0]], data[:, cols_correlated_index[1]], '+')\n",
        "\n",
        "plt.figure()\n",
        "plt.plot(data[:, cols_correlated_index[0]], data[:, cols_correlated_index[2]], '+')\n",
        "\n",
        "plt.figure()\n",
        "plt.plot(data[:, cols_correlated_index[0]], data[:, cols_correlated_index[3]], '+')\n",
        "\n",
        "plt.figure()\n",
        "plt.plot(data[:, cols_correlated_index[2]], data[:, cols_correlated_index[3]], '+')\n"
      ],
      "execution_count": null,
      "outputs": []
    },
    {
      "cell_type": "code",
      "metadata": {
        "id": "HygDlXOKAXK2"
      },
      "source": [
        "# make a regression prediction with an RFE pipeline\n",
        "# Observation: Features are selected almost according to their correlation with target\n",
        "from numpy import mean\n",
        "from numpy import std\n",
        "from sklearn.datasets import make_regression\n",
        "from sklearn.feature_selection import RFE\n",
        "from sklearn.tree import DecisionTreeRegressor\n",
        "from sklearn.pipeline import Pipeline\n",
        "# create pipeline\n",
        "for num_features in range(2,17):\n",
        "  rfe = RFE(estimator=DecisionTreeRegressor(), n_features_to_select=num_features)\n",
        "  #model = DecisionTreeRegressor()\n",
        "  #pipeline = Pipeline(steps=[('s',rfe),('m',model)])\n",
        "  # fit the model on all available data\n",
        "  #pipeline.fit(X, Y)\n",
        "  rfe.fit(X, Y)\n",
        "  scores = rfe.score(X, Y)\n",
        "  selected_features = rfe.get_support(indices=True)\n",
        "  print(num_features, selected_features, scores)\n",
        "  selected_feature_str = [x_cols[x] for x in selected_features]\n",
        "  print(f'  {selected_feature_str}')\n",
        "  #print(f\"  {corr_data.loc[selected_feature_str, target_col[0]]}\")\n"
      ],
      "execution_count": null,
      "outputs": []
    },
    {
      "cell_type": "code",
      "metadata": {
        "id": "kimaSZmqwCgN"
      },
      "source": [
        "# Start RFE feature selection; \n",
        "# Input: X, Y, num_features_to_select\n",
        "NUM_SPLITS = 10\n",
        "\n",
        "num_features_to_select = [12,13]\n",
        "# evaluate RFE for regression\n",
        "from numpy import mean\n",
        "from numpy import std\n",
        "from sklearn.datasets import make_regression\n",
        "from sklearn.model_selection import cross_val_score\n",
        "from sklearn.feature_selection import RFE\n",
        "from sklearn.tree import DecisionTreeRegressor\n",
        "from sklearn.pipeline import Pipeline\n",
        "from sklearn.model_selection import KFold\n",
        "\n",
        "# get a list of models to evaluate\n",
        "def get_models():\n",
        "\tmodels = dict()\n",
        "\tfor i in range(num_features_to_select[0], num_features_to_select[1]):\n",
        "\t\trfe = RFE(estimator=DecisionTreeRegressor(), n_features_to_select=i)\n",
        "\t\tmodel = DecisionTreeRegressor()\n",
        "\t\tmodels[str(i)] = Pipeline(steps=[('s',rfe),('m',model)])\n",
        "\treturn models\n",
        "\n",
        "# evaluate a give model using cross-validation\n",
        "def evaluate_model(model, X, y):\n",
        "  #cv = RepeatedStratifiedKFold(n_splits=10, n_repeats=3, random_state=1)\n",
        "  kfold = KFold(n_splits = NUM_SPLITS) # shuffle=False\n",
        "  scores = cross_val_score(model, X, y, scoring='neg_mean_squared_error', \n",
        "                           cv=kfold, n_jobs=-1, error_score='raise')\n",
        "  return scores\n",
        "\n",
        "# get the models to evaluate\n",
        "models = get_models()\n",
        "# evaluate the models and store results\n",
        "results, names = list(), list()\n",
        "for name, model in models.items():\n",
        "  scores = evaluate_model(model, X, Y)\n",
        "  results.append(scores)\n",
        "  names.append(name)\n",
        "  print('>%s %.3f (%.3f)' % (name, mean(scores), std(scores)))\n",
        "  #print(model.support_, model.ranking_)\n",
        "  print(model)\n",
        "# plot model performance for comparison\n",
        "plt.boxplot(results, labels=names, showmeans=True)\n",
        "plt.show()\n"
      ],
      "execution_count": null,
      "outputs": []
    },
    {
      "cell_type": "markdown",
      "metadata": {
        "id": "SmwqmTSlmWkp"
      },
      "source": [
        "Observation:\n",
        "1. read_throughput and read_cache_miss are highly correlated (0.862791);\n",
        "2. model_type and systemId are unrelated in case of single case systemId\n",
        "3. timestamps not contribute much\n",
        "4. transfomred times have some correlation with a few columns\n",
        "\n"
      ]
    },
    {
      "cell_type": "code",
      "metadata": {
        "id": "hfSUUplsnQ1Y"
      },
      "source": [
        "removed_columns = removed_columns + ['model_type', 'systemId']\n",
        "removed_columns"
      ],
      "execution_count": null,
      "outputs": []
    },
    {
      "cell_type": "code",
      "metadata": {
        "id": "Mv55QQPZrs-m"
      },
      "source": [
        "def remove_data_columns(data, data_cols, removed_columns):\n",
        "  data_index_remove = [data_cols.index(x) for x in removed_columns]\n",
        "  print(f'data_index_remove = {data_index_remove}')\n",
        "  data = np.delete(data, data_index_remove, axis=1)\n",
        "  data_cols_updated = [ x for x in data_cols if x not in removed_columns]\n",
        "  print(data.shape, len(data_cols_updated), data_cols_updated)\n",
        "  return data_cols_updated, data  \n"
      ],
      "execution_count": null,
      "outputs": []
    },
    {
      "cell_type": "code",
      "metadata": {
        "id": "ETtdxZbwoRG2"
      },
      "source": [
        "# WARNING: only run this ONCE\n",
        "data_cols, data = remove_data_columns(data, data_cols, removed_columns)\n"
      ],
      "execution_count": null,
      "outputs": []
    },
    {
      "cell_type": "markdown",
      "metadata": {
        "id": "QquxwQdyOfVe"
      },
      "source": [
        "**Observation** \n",
        "After comparison Correlation plots of two cases:\n",
        "-- Case_SINGLE: Only extract a single systemId (here 'sys1') case; \n",
        "-- Case_ALL:  Use all systemIds as a whole;\n",
        "\n",
        "Conclusion:\n",
        "1. timestamp_seconds has low correlation with all the rest features; and is less useful directly;\n",
        "2. Day_Cos and Day_Sin have good correlation with a few columns and shall help prediction;\n",
        "\n",
        "\n",
        "Case_SINGLE clearly exposes a larger nuber of columns having high correlations with the target 'cpu_utilization' than  that of Case_ALL. \n",
        "\n",
        "1.1 columns having good correlation with 'cpu_utilization':\n",
        "Case_SINGLE: ['write_throughput', 'write_iops', 'read_cache_miss', 'read_throughput', 'read_iops', 'write_cache_miss']\n",
        "\n",
        "Case_ALL: ['read_throughput', 'read_cache_miss'] \n",
        "['write_cache_miss',  'read_iops', 'write_throughput', 'write_iosz' ]\n",
        "\n",
        "1.1 columns having good correlation with Day_sin:  \n",
        "Case_SINGLE ['write_cache_miss', 'read_iops', 'write_iosz' ]\n",
        "Case_ALL: None\n",
        "\n",
        "1.2 Day_Cos has good correlation with 2 columns:\n",
        "Case_SINGLE: ['write_iops', 'read_iosz']\n",
        "Case_ALL: None\n",
        "\n",
        "\n",
        "\n"
      ]
    },
    {
      "cell_type": "code",
      "metadata": {
        "id": "2p0hETXoVx8X"
      },
      "source": [
        "# check outliers; conclusion: no apparent outliers\n",
        "df_stat = df.describe().T\n",
        "df_stat['50% to 75%'] = (df_stat['50%']/df_stat['75%'])\n",
        "df_stat['max to 75%'] = (df_stat['max']/df_stat['75%'])\n"
      ],
      "execution_count": null,
      "outputs": []
    },
    {
      "cell_type": "code",
      "metadata": {
        "id": "DlFAoZhAFnpP"
      },
      "source": [
        "# RUN: backwardElimination\n",
        "import statsmodels.api as sm\n",
        "def backwardElimination(x, Y, sl, columns):\n",
        "    print(f'x={x[:2,:]}')\n",
        "    print(f'Y={Y[:2]}')\n",
        "    print(f'len(x[0]) = {len(x[0])}')\n",
        "    print(f'x shape = {x.shape}')\n",
        "\n",
        "    numVars = len(x[0])\n",
        "    for i in range(0, numVars):\n",
        "        regressor_OLS = sm.OLS(Y, x).fit()\n",
        "        maxVar = max(regressor_OLS.pvalues).astype(float)\n",
        "        if maxVar > sl:\n",
        "            for j in range(0, numVars - i):\n",
        "                if (regressor_OLS.pvalues[j].astype(float) == maxVar):\n",
        "                    x = np.delete(x, j, 1)\n",
        "                    columns = np.delete(columns, j)\n",
        "        print(f'**** backwardElimination i={i}, p-values={regressor_OLS.pvalues}')\n",
        "        print(f'inside loop: x shape = {x.shape}')\n",
        "                    \n",
        "    print(regressor_OLS.summary())\n",
        "    return x, columns\n"
      ],
      "execution_count": null,
      "outputs": []
    },
    {
      "cell_type": "code",
      "metadata": {
        "id": "2TAeNfiAFJ_t"
      },
      "source": [
        "SL = 0.05\n",
        "data_modeled, selected_columns = backwardElimination(X, Y, SL, selected_columns)"
      ],
      "execution_count": null,
      "outputs": []
    },
    {
      "cell_type": "markdown",
      "metadata": {
        "id": "mF5qqPmeErjG"
      },
      "source": [
        "## Q2. Group on systemId and one week's duration and then calculate following custom metrics\n",
        "- std/median on columns read_iops, read_cache_miss\n",
        "- rolling mean on columns write_throughput and write_iosz\n",
        "- exponential moving average on column write_cache_miss and write_iops\n"
      ]
    },
    {
      "cell_type": "code",
      "metadata": {
        "id": "lbWfBocsso4I"
      },
      "source": [
        "check_data_dims()"
      ],
      "execution_count": null,
      "outputs": []
    },
    {
      "cell_type": "code",
      "metadata": {
        "id": "kZx1kgeW-WMD"
      },
      "source": [
        "features = [['systemId', 'read_iops', 'read_cache_miss'],\n",
        "            ['systemId', 'write_throughput', 'write_iosz'],\n",
        "            ['systemId', 'write_cache_miss', 'write_iops']]\n",
        "\n"
      ],
      "execution_count": null,
      "outputs": []
    },
    {
      "cell_type": "code",
      "metadata": {
        "id": "e_ZRtJ9aEkSJ"
      },
      "source": [
        "dftemp = df[['systemId', 'read_iops', 'read_cache_miss']]\n",
        "metrics = []\n",
        "metrics_sum = dftemp.groupby('systemId').resample('W').sum()\n",
        "metrics_std = dftemp.groupby('systemId').resample('W').std()\n",
        "metrics_std = dftemp.groupby('systemId').resample('W').median()\n"
      ],
      "execution_count": null,
      "outputs": []
    },
    {
      "cell_type": "code",
      "metadata": {
        "id": "2zriHZDhU5aK"
      },
      "source": [
        "type(metrics_sum.index.values)\n",
        "\n"
      ],
      "execution_count": null,
      "outputs": []
    },
    {
      "cell_type": "code",
      "metadata": {
        "id": "YUwZyG-KWAmh"
      },
      "source": [
        "print(metrics_sum.index.values.shape)\n",
        "print(type(metrics_sum.index.values))\n",
        "print(type(metrics_sum.index.values[0]))\n",
        "print(type(metrics_sum.index.values[0][0]))\n",
        "\n",
        "print(metrics_sum.index.values.shape)\n",
        "print(metrics_sum.index.values[0])\n",
        "print(metrics_sum.index.values[:10][0])\n",
        "\n",
        "     \n"
      ],
      "execution_count": null,
      "outputs": []
    },
    {
      "cell_type": "code",
      "metadata": {
        "id": "viu_0x0EYT-R"
      },
      "source": [
        "print(metrics_sum.index.values[:10][:][:][0])\n"
      ],
      "execution_count": null,
      "outputs": []
    },
    {
      "cell_type": "code",
      "metadata": {
        "id": "3RWQa6oLGHhw"
      },
      "source": [
        "dftemp = df[['systemId', 'read_iops', 'read_cache_miss']]\n",
        "metrics = []\n",
        "metrics.append(dftemp.groupby('systemId').resample('W').sum())\n",
        "metrics.append(dftemp.groupby('systemId').resample('W').std())\n",
        "metrics.append(dftemp.groupby('systemId').resample('W').median())\n"
      ],
      "execution_count": null,
      "outputs": []
    },
    {
      "cell_type": "code",
      "metadata": {
        "id": "HKp7q1UuGWHF"
      },
      "source": [
        "metrics[2]['read_iops'].plot(subplots=True)"
      ],
      "execution_count": null,
      "outputs": []
    },
    {
      "cell_type": "code",
      "metadata": {
        "id": "mm5MN7DfSrfk"
      },
      "source": [
        "metrics[2].index.names\n",
        " \n",
        "\n"
      ],
      "execution_count": null,
      "outputs": []
    },
    {
      "cell_type": "code",
      "metadata": {
        "id": "1wfIH2u_F2gy"
      },
      "source": [
        "metrics_sum"
      ],
      "execution_count": null,
      "outputs": []
    },
    {
      "cell_type": "code",
      "metadata": {
        "id": "zN4wTbrjOy0p"
      },
      "source": [
        "\n",
        "dftemp = df[['systemId', 'read_iops', 'read_cache_miss']]\n",
        "df_grouped = dftemp.groupby('systemId')\n",
        "\n",
        "ct = 0\n",
        "for group_name, df_group in df_grouped:\n",
        "  ct = ct + 1\n",
        "  if ct>5: \n",
        "    break\n",
        "\n",
        "  print(f'\\n\\n ****** ct={ct}, {group_name} , shape={df_group.shape}****') \n",
        "  #print(df_group.index)\n",
        "  #print(df_group.head())\n",
        "\n",
        "  stat = df_group.resample('W', origin='start').median()\n",
        "  # rename columns\n",
        "  stat.columns = [group_name+'_read_iops_median', group_name+'_read_cache_miss_median']\n",
        "  #reset index to get grouped columns back\n",
        "  #stat = stat.reset_index()\n",
        "\n",
        "  print(f'\\n ****** {group_name} mean, shape={stat.shape}, stat type ={type(stat)}****') \n",
        "  print(stat)\n",
        "\n",
        "  if ct==1:\n",
        "    df_merged = stat\n",
        "  else:        \n",
        "    df_merged = pd.concat([df_merged, stat], axis=1) #ignore_index=True, \n",
        "\n",
        "  print(f'\\n ****** {group_name} mean, df_merged shape={df_merged.shape}, df_merged columns ={df_merged.columns}****') \n",
        "  print(f'**************** df_merged=\\n{df_merged}')\n"
      ],
      "execution_count": null,
      "outputs": []
    },
    {
      "cell_type": "code",
      "metadata": {
        "id": "a8GLpaQ3DlLY"
      },
      "source": [
        ""
      ],
      "execution_count": null,
      "outputs": []
    },
    {
      "cell_type": "code",
      "metadata": {
        "id": "JsaaUUMHOgxD"
      },
      "source": [
        "features = ['systemId','read_iops', 'read_cache_miss'] #, 'write_throughput', 'write_iosz', 'write_cache_miss', 'write_iops']\n",
        "dftemp = df[features]\n",
        "df_grouped = dftemp.groupby('systemId')\n"
      ],
      "execution_count": null,
      "outputs": []
    },
    {
      "cell_type": "code",
      "metadata": {
        "id": "KF6LAISRPB_U"
      },
      "source": [
        "df_grouped.head()"
      ],
      "execution_count": null,
      "outputs": []
    },
    {
      "cell_type": "code",
      "metadata": {
        "id": "Sj5AGYs4P2-p"
      },
      "source": [
        "type(df_grouped)"
      ],
      "execution_count": null,
      "outputs": []
    },
    {
      "cell_type": "code",
      "metadata": {
        "id": "QloeuNMmDaDE"
      },
      "source": [
        "df_grouped"
      ],
      "execution_count": null,
      "outputs": []
    },
    {
      "cell_type": "code",
      "metadata": {
        "id": "m5nvj3fVQPXd"
      },
      "source": [
        "len(df_grouped)\n"
      ],
      "execution_count": null,
      "outputs": []
    },
    {
      "cell_type": "code",
      "metadata": {
        "id": "0_16duswP64S"
      },
      "source": [
        "for x in df_grouped:\n",
        "  print(x)"
      ],
      "execution_count": null,
      "outputs": []
    },
    {
      "cell_type": "code",
      "metadata": {
        "id": "CDA9j-X7P67a"
      },
      "source": [
        "check_data_dims()"
      ],
      "execution_count": null,
      "outputs": []
    },
    {
      "cell_type": "code",
      "metadata": {
        "id": "EHHa5u4APCeC"
      },
      "source": [
        ""
      ],
      "execution_count": null,
      "outputs": []
    },
    {
      "cell_type": "code",
      "metadata": {
        "id": "Yl3dKXHTK0ua"
      },
      "source": [
        "def make_metrics_std_median(X, x_cols, std_median_cols, print_flag=False):\n",
        "  print(f' *** Inside make_metrics_std_median(): systemId={systemId_selected}, df shape={df.shape}')\n",
        "\n",
        "\n",
        "\n",
        "  df1[f] = df1[f].rolling(window=Window_Length).mean()\n",
        "\n",
        "# Run to add metrics\n",
        "std_median_cols = ['read_iops', 'read_cache_miss']\n",
        "make_metrics_std_median(X, x_cols, std_median_cols, True)\n"
      ],
      "execution_count": null,
      "outputs": []
    },
    {
      "cell_type": "code",
      "metadata": {
        "id": "YGPnrBE7OJbm"
      },
      "source": [
        "features = [['read_iops', 'read_cache_miss'],\n",
        "            ['write_throughput', 'write_iosz'],\n",
        "            ['write_cache_miss', 'write_iops']]\n",
        "\n",
        "for k in range(len(features)):\n",
        "  print(features[k])\n",
        "  for x in features[k]:\n",
        "    print(x)\n",
        "\n",
        "\n",
        "dftemp = df[['systemId', 'read_iops', 'read_cache_miss']]\n",
        "df_grouped = dftemp.groupby('systemId')\n",
        "\n",
        "ct = 0\n",
        "for group_name, df_group in df_grouped:\n",
        "  ct = ct + 1\n",
        "  if ct>2: \n",
        "    break\n",
        "  \n",
        "  df_group = df_group.sort_index()\n",
        "\n",
        "  print(f'\\n\\n ****** {group_name} , shape={df_group.shape}****') \n",
        "  print(df_group.head())\n",
        "\n",
        "  stat = df_group.resample('W', origin='start').sum()\n",
        "  print(f'\\n ****** {group_name} sum, shape={stat.shape}****') \n",
        "  print(stat)\n",
        "\n",
        "  stat = df_group.resample('W', origin='start').median()\n",
        "  print(f'\\n ****** {group_name} median, shape={stat.shape}****') \n",
        "  print(stat)\n",
        "    \n",
        "  stat = df_group.resample('W', origin='start').std()\n",
        "  print(f'\\n ****** {group_name} std, shape={stat.shape}****') \n",
        "  print(stat)"
      ],
      "execution_count": null,
      "outputs": []
    },
    {
      "cell_type": "code",
      "metadata": {
        "id": "isadwiEsLeu_"
      },
      "source": [
        "print(X.shape, len(x_cols))\n"
      ],
      "execution_count": null,
      "outputs": []
    },
    {
      "cell_type": "code",
      "metadata": {
        "id": "IwZYLRwrJtNM"
      },
      "source": [
        "\n",
        "# normalize, average, and plot\n",
        "def plot_columns_average(df, AVERAGE_METHOD, Window_Length):\n",
        "  df1 = df[df['systemId']=='sys1']\n",
        "\n",
        "  start_hour = 24*1+15;\n",
        "  interval_hour= 24*20 + 10\n",
        "  start = int(start_hour*hour/(5*60))\n",
        "  stop = int((start_hour + interval_hour)*hour/(5*60))\n",
        "\n",
        "  for f in cols_to_avg:\n",
        "    if AVERAGE_METHOD == 'rolling_moving_average':\n",
        "      df1[f] = df1[f].rolling(window=Window_Length).mean()\n",
        "    elif AVERAGE_METHOD == 'exponential_moving_average':\n",
        "      df1[f] = df1[f].ewm(span=Window_Length, adjust=False).mean()\n",
        "    elif AVERAGE_METHOD == 'cumulative_average': \n",
        "      df1[f] = df1[f].expanding(min_periods=Window_Length, adjust=False).mean()\n",
        "    else:\n",
        "      raise ValueError(f'AVERAGE_METHOD ={AVERAGE_METHOD} is not implemented!')\n",
        "        \n",
        "Window_Length = int(2*60/5) \n",
        "\n",
        "AVERAGE_METHOD_LIST = ['rolling_moving_average', 'exponential_moving_average', 'cumulative_average']\n",
        "AVERAGE_METHOD = AVERAGE_METHOD_LIST[1] \n",
        "plot_columns_average(df, AVERAGE_METHOD, Window_Length)\n"
      ],
      "execution_count": null,
      "outputs": []
    },
    {
      "cell_type": "code",
      "metadata": {
        "id": "33R0k37jKLxc"
      },
      "source": [
        "group = group.sort_values(by='timestamp_seconds')\n",
        "group.head(8)tmp = group.rolling(2).mean()\n",
        "tmp.head(8)\n",
        "\n",
        "group['rmean_write_throughput'] = tmp['write_throughput']\n",
        "group['rmean_write_iosz'] = tmp['write_iosz']\n",
        "group.head(8)"
      ],
      "execution_count": null,
      "outputs": []
    },
    {
      "cell_type": "code",
      "metadata": {
        "id": "V74KW2qUp1Bm"
      },
      "source": [
        "# fft plot TODO: for time ordered and single systemId \n",
        "def plot_fft(df_in, col_choice):\n",
        "  import tensorflow as tf\n",
        "  df = df_in[df_in['systemId']==SYSTEM_ID_SELECTED[0]]\n",
        "  fft = tf.signal.rfft(df[col_choice])\n",
        "  f_per_dataset = np.arange(0, len(fft))\n",
        "  print(f'df.shape={df.shape}, fft.shape={fft.shape}')\n",
        "  n_samples_h = len(df[col_choice])\n",
        "  plt.plot(f_per_dataset, np.abs(fft), '-+')\n",
        "  #plt.xscale('log')\n",
        "  plt.ylim(0, np.mean(np.abs(fft))*10)\n",
        "  plt.xlim([0.1, max(plt.xlim())])\n",
        "  _ = plt.xlabel('Frequency (log scale)')\n",
        "  plt.grid()\n"
      ],
      "execution_count": null,
      "outputs": []
    },
    {
      "cell_type": "code",
      "metadata": {
        "id": "JXWbL1MKUHUK"
      },
      "source": [
        "plot_fft(df, 'cpu_utilization')\n"
      ],
      "execution_count": null,
      "outputs": []
    },
    {
      "cell_type": "code",
      "metadata": {
        "id": "4Zkw_1g-NEAx"
      },
      "source": [
        "plot_fft(df, 'read_throughput')"
      ],
      "execution_count": null,
      "outputs": []
    },
    {
      "cell_type": "code",
      "metadata": {
        "id": "OnFVO6ylYnIl"
      },
      "source": [
        "plot_fft(df, 'write_throughput')"
      ],
      "execution_count": null,
      "outputs": []
    },
    {
      "cell_type": "code",
      "metadata": {
        "id": "Bk984iciULm4"
      },
      "source": [
        "plot_fft(df, 'Hour_Cos')\n"
      ],
      "execution_count": null,
      "outputs": []
    },
    {
      "cell_type": "code",
      "metadata": {
        "id": "Lw8C45N6VCMj"
      },
      "source": [
        "plot_fft(df, 'Day_Cos')\n",
        "7966/24/12"
      ],
      "execution_count": null,
      "outputs": []
    },
    {
      "cell_type": "code",
      "metadata": {
        "id": "Ix-gkEm8VOnH"
      },
      "source": [
        "plot_fft(df, 'Week_Cos')\n"
      ],
      "execution_count": null,
      "outputs": []
    },
    {
      "cell_type": "code",
      "metadata": {
        "id": "YMvlqIcDwVoC"
      },
      "source": [
        ""
      ],
      "execution_count": null,
      "outputs": []
    },
    {
      "cell_type": "code",
      "metadata": {
        "id": "pRDklfCQwcGf"
      },
      "source": [
        ""
      ],
      "execution_count": null,
      "outputs": []
    },
    {
      "cell_type": "code",
      "metadata": {
        "id": "_tkAAvJ2wKDP"
      },
      "source": [
        ""
      ],
      "execution_count": null,
      "outputs": []
    },
    {
      "cell_type": "code",
      "metadata": {
        "id": "aVK4DMG6E5DQ"
      },
      "source": [
        "\n",
        "if 0:\n",
        "  summary = []\n",
        "  for name, group in group_by_systemId:\n",
        "    summary.append(\n",
        "      {\n",
        "        name : \n",
        "          {\n",
        "            'length': len(group),\n",
        "            'min': group['read_iops'].min(),\n",
        "            'max': group['read_iops'].max(),\n",
        "            'mean': group['read_iops'].mean(),\n",
        "            'std': group['read_iops'].std(),\n",
        "            'median': group['read_iops'].median()\n",
        "          }\n",
        "      }\n",
        "    )\n",
        "  if 0:\n",
        "    print(f'name={name}, len = {len(group)}\\n')\n",
        "    print('systemId uniques=', np.unique(group['systemId']))\n",
        "    #print(f'group={group.head(2)}\\n')\n",
        "    print(f'summary={summary}')\n"
      ],
      "execution_count": null,
      "outputs": []
    },
    {
      "cell_type": "markdown",
      "metadata": {
        "id": "dpcmd8lhQwDh"
      },
      "source": [
        "## Q3. Generate a random distribution of samples from data such that each day should contain 12 continous samples and start of the sample should be random with that day"
      ]
    },
    {
      "cell_type": "code",
      "metadata": {
        "id": "IyzNxQmp3OkJ"
      },
      "source": [
        "check_data_dims()"
      ],
      "execution_count": null,
      "outputs": []
    },
    {
      "cell_type": "markdown",
      "metadata": {
        "id": "_kX575JMFcdg"
      },
      "source": [
        "## Q4. Fit a linear regression to this data with y as \"cpu_utilization\" column. Comment on the fit of the model"
      ]
    },
    {
      "cell_type": "markdown",
      "metadata": {
        "id": "jSYOL0BkSrcC"
      },
      "source": [
        "TODO: \n",
        "1. reserve a common test set for comparison scores like mse\n",
        "(time continuity ???)\n",
        "2. define a baseline model simply y[n]=y[n-1]\n",
        "3. Linear Regression, Ridge, Lasso with Grid Search\n",
        "4. GradientBoost, XGBoost\n"
      ]
    },
    {
      "cell_type": "code",
      "metadata": {
        "id": "VZeVOVe9FGPg"
      },
      "source": [
        "check_data_dims()"
      ],
      "execution_count": null,
      "outputs": []
    },
    {
      "cell_type": "code",
      "metadata": {
        "id": "CqYE2sDGM2a-"
      },
      "source": [
        "# First define a baseline prediction model as y[n] = y[n-1];\n",
        "# There are a few discontinuity points which can be ignored.\n",
        "\n",
        "# persistence model\n",
        "def model_persistence(x):\n",
        "\treturn x\n",
        "\n",
        "def baseline_timeseries_predictor_y(Y):\n",
        "  values = pd.DataFrame(Y)\n",
        "  from pandas import concat\n",
        "  from sklearn.metrics import mean_squared_error\n",
        "\n",
        "  # Create lagged dataset\n",
        "  dataframe = concat([values.shift(1), values], axis=1)\n",
        "  dataframe.columns = ['t-1', 't']\n",
        "  print(dataframe.head(5))\n",
        "\n",
        "  # time series is split into train and test sets\n",
        "  X = dataframe.values\n",
        "  train_size = int(len(X) * 0.66)\n",
        "  train, test = X[1:train_size], X[train_size:]\n",
        "  train_X, train_y = train[:,0], train[:,1]\n",
        "  test_X, test_y = test[:,0], test[:,1]\n",
        "\n",
        "  # walk-forward validation\n",
        "  predictions = list()\n",
        "  for x in test_X:\n",
        "    yhat = model_persistence(x)\n",
        "    predictions.append(yhat)\n",
        "\n",
        "  test_score = mean_squared_error(test_y, predictions)\n",
        "\n",
        "  print('Test MSE: %.3f' % test_score)\n",
        "\n",
        "  # plot predictions and expected results\n",
        "  stop_idx = 100 #len(test_y)\n",
        "  plt.figure()\n",
        "  plt.plot(test_y[:stop_idx], 'r-+')\n",
        "  plt.plot(predictions[:stop_idx], 'g-o')\n",
        "  fig = plt.gcf()\n",
        "  fig.set_size_inches(22.5, 3)\n",
        "\n",
        "  stop_idx = 100 #len(test_y)\n",
        "  plt.figure()\n",
        "  plt.plot(test_y[:stop_idx], 'r-+')\n",
        "  plt.plot(test_y[:stop_idx] - predictions[:stop_idx], 'g-o')\n",
        "  fig = plt.gcf()\n",
        "  fig.set_size_inches(22.5, 3)\n",
        "\n",
        "  plt.figure()\n",
        "  plt.plot(test_y, predictions, 'r+')\n",
        "  fig = plt.gcf()\n",
        "  fig.set_size_inches(10, 10)\n"
      ],
      "execution_count": null,
      "outputs": []
    },
    {
      "cell_type": "code",
      "metadata": {
        "id": "8DSqQ1RqNWgH"
      },
      "source": [
        "baseline_timeseries_predictor_y(Y)"
      ],
      "execution_count": null,
      "outputs": []
    },
    {
      "cell_type": "code",
      "metadata": {
        "id": "bt78-HKTG_IR"
      },
      "source": [
        "def RFE_timelagged_y(dataframe):\n",
        "  from sklearn.feature_selection import RFE\n",
        "  from sklearn.ensemble import RandomForestRegressor\n",
        "  from matplotlib import pyplot\n",
        "  array = dataframe.values\n",
        "  X = array[:,0:-1]\n",
        "  y = array[:,-1]\n",
        "  # perform feature selection\n",
        "  rfe = RFE(RandomForestRegressor(n_estimators=500, random_state=1), n_features_to_select=4)\n",
        "  fit = rfe.fit(X, y)\n",
        "  # report selected features\n",
        "  print('Selected Features:')\n",
        "  names = dataframe.columns.values[0:-1]\n",
        "  for i in range(len(fit.support_)):\n",
        "    if fit.support_[i]:\n",
        "      print(names[i])\n",
        "  # plot feature rank\n",
        "  names = dataframe.columns.values[0:-1]\n",
        "  ticks = [i for i in range(len(names))]\n",
        "  pyplot.bar(ticks, fit.ranking_)\n",
        "  pyplot.xticks(ticks, names)\n",
        "  pyplot.show()"
      ],
      "execution_count": null,
      "outputs": []
    },
    {
      "cell_type": "markdown",
      "metadata": {
        "id": "dLOOBhX3HCWo"
      },
      "source": [
        "Selected Features:\n",
        "t-6\n",
        "t-3\n",
        "t-2\n",
        "t-1"
      ]
    },
    {
      "cell_type": "code",
      "metadata": {
        "id": "Y8KFnDZNB8j3"
      },
      "source": [
        "df.shape"
      ],
      "execution_count": null,
      "outputs": []
    },
    {
      "cell_type": "code",
      "metadata": {
        "id": "oCR7KVUWB8xk"
      },
      "source": [
        "# create num_lags number of new columns of shifted observations\n",
        "def baseline_timeseries_multilags_y(Y, num_lags, rolling_window_widths, ewm_alphas):\n",
        "  from sklearn.linear_model import LinearRegression\n",
        "  values = pd.DataFrame(Y)\n",
        "  from sklearn.metrics import mean_squared_error\n",
        "\n",
        "  # Create lagged dataset\n",
        "  dataframe = pd.DataFrame()\n",
        "  for i in range(num_lags+1):\n",
        "    dataframe['t-'+str(i)] = values.shift(i).values[:,0]\n",
        "\n",
        "  if len(rolling_window_widths)>0:\n",
        "    for rolling_window in rolling_window_widths:\n",
        "      # temp solution: add rolling before target y as rolling mean of t-1 as we extract y as last column later\n",
        "      dataframe['rolling std '+str(rolling_window)] = dataframe['t-1'].rolling(window=rolling_window).std()\n",
        "      dataframe['rolling mean '+str(rolling_window)] = dataframe['t-1'].rolling(window=rolling_window).mean()\n",
        "  if len(ewm_alphas)>0:\n",
        "    for alpha in ewm_alphas: \n",
        "      dataframe['ewm_mean '+str(alpha)] = dataframe['t-1'].ewm(alpha=alpha).mean()\n",
        "      dataframe['ewm_std '+str(alpha)] = dataframe['t-1'].ewm(alpha=alpha).std()\n",
        "\n",
        "  #print(dataframe.head(num_lags+1))\n",
        "  ignored_nans = max(num_lags, len(rolling_window_widths), )\n",
        "  dataframe = dataframe[ignored_nans+1:]\n",
        "  dataframe.head(10)\n",
        "  return dataframe"
      ],
      "execution_count": null,
      "outputs": []
    },
    {
      "cell_type": "code",
      "metadata": {
        "id": "bhhnILYFKLXh"
      },
      "source": [
        "def LinearRegression_mse(dataframe):\n",
        "  from sklearn.metrics import mean_squared_error\n",
        "  from sklearn.linear_model import LinearRegression \n",
        "\n",
        "  #X = dataframe.values\n",
        "  train_size = int(len(dataframe) * 0.66)\n",
        "  train_y = dataframe.iloc[:train_size, 0].values\n",
        "  train_X = dataframe.iloc[:train_size, 1:].values\n",
        "\n",
        "  test_y = dataframe.iloc[train_size:, 0].values\n",
        "  test_X = dataframe.iloc[train_size:, 1:].values\n",
        "\n",
        "  train_y = train_y.reshape(train_y.shape[0], 1)\n",
        "  test_y = test_y.reshape(test_y.shape[0], 1)\n",
        "\n",
        "  print(f'**** train_X shape = {train_X.shape}, test_X shape = {test_X.shape}')\n",
        "  print(f'**** train_y shape = {train_y.shape}, test_y shape = {test_y.shape}')\n",
        "\n",
        "  model = LinearRegression()\n",
        "  model.fit(train_X, train_y)\n",
        "  predictions = model.predict(test_X)\n",
        "  test_score = mean_squared_error(test_y, predictions)\n",
        "\n",
        "  if 0:\n",
        "    print(type(train_X), type(train_y))\n",
        "    print(train_X.shape, train_y.shape)\n",
        "    print(test_X.shape, test_y.shape)\n",
        "    print(f'type model.coef_={type(model.coef_)}')\n",
        "  \n",
        "  print(f'model.coef_={model.coef_}')\n",
        "  print('Test MSE: %.3f' % test_score)  \n",
        "  print(f'model.coef_ shape={model.coef_.shape}, columns = {dataframe.columns[1:]}')\n",
        "\n",
        "  plt.figure()\n",
        "  model.coef_ = model.coef_.reshape(model.coef_.shape[1],)\n",
        "  plt.plot(dataframe.columns[1:], model.coef_, 'r-o')\n",
        "  plt.title('model coef')\n",
        "  plt.xticks(rotation = 60)\n",
        "  plt.grid()\n",
        "  fig = plt.gcf()\n",
        "  fig.set_size_inches(22.5, 3)\n",
        "\n",
        "  # plot predictions and expected results\n",
        "  stop_idx = 100 #len(test_y)\n",
        "  plt.figure()\n",
        "  plt.plot(test_y[:stop_idx], 'r-+')\n",
        "  plt.plot(predictions[:stop_idx], 'g-o')\n",
        "  fig = plt.gcf()\n",
        "  fig.set_size_inches(22.5, 3)\n",
        "\n",
        "  stop_idx = 100 #len(test_y)\n",
        "  plt.figure()\n",
        "  plt.plot(test_y[:stop_idx], 'r-+')\n",
        "  plt.plot(test_y[:stop_idx] - predictions[:stop_idx], 'g-o')\n",
        "  fig = plt.gcf()\n",
        "  fig.set_size_inches(22.5, 3)\n",
        "\n",
        "  plt.figure()\n",
        "  plt.plot(test_y, predictions, 'r+')\n",
        "  fig = plt.gcf()\n",
        "  fig.set_size_inches(5, 5)\n",
        "\n",
        "  return test_score\n"
      ],
      "execution_count": null,
      "outputs": []
    },
    {
      "cell_type": "code",
      "metadata": {
        "id": "6I9NCjdeLhkU"
      },
      "source": [
        "num_lags = 1\n",
        "rolling_window = []\n",
        "ewm_alphas = []\n",
        "y_lagged_df = baseline_timeseries_multilags_y(Y, num_lags, rolling_window, ewm_alphas)\n",
        "#y_lagged_df = y_lagged_df[['t-6', 't-3', 't-2', 't-1', 't']]\n",
        "(y_lagged_df.head())"
      ],
      "execution_count": null,
      "outputs": []
    },
    {
      "cell_type": "code",
      "metadata": {
        "id": "0JuwiKJOB8_p"
      },
      "source": [
        "num_lags = 5\n",
        "rolling_window = [6, 12]\n",
        "ewm_alphas = [0.75, 0.5, 0.1]\n",
        "y_lagged_df = baseline_timeseries_multilags_y(Y, num_lags, rolling_window, ewm_alphas)\n",
        "#y_lagged_df = y_lagged_df[['t-6', 't-3', 't-2', 't-1', 't']]\n",
        "(y_lagged_df.head())\n"
      ],
      "execution_count": null,
      "outputs": []
    },
    {
      "cell_type": "code",
      "metadata": {
        "id": "XDF7BXb9H-HP"
      },
      "source": [
        "mse = LinearRegression_mse(y_lagged_df)"
      ],
      "execution_count": null,
      "outputs": []
    },
    {
      "cell_type": "markdown",
      "metadata": {
        "id": "6W72KDRFPoFD"
      },
      "source": [
        "Adding 12 lags of target y yields MSE of 0.5 which is better than mse of 1.0 of naive model of single lag case but still worse;\n",
        "TODO:\n",
        "add lags to the feature sets inckuding read_tput etc;\n",
        "\n"
      ]
    },
    {
      "cell_type": "code",
      "metadata": {
        "id": "kJITjdxZHa2z"
      },
      "source": [
        "print(y_lagged_df.shape, type(y_lagged_df))\n",
        "y_lagged_df.head()"
      ],
      "execution_count": null,
      "outputs": []
    },
    {
      "cell_type": "markdown",
      "metadata": {
        "id": "E2dVi8Ibeiuc"
      },
      "source": [
        "Gradient Boost Regressor mse is 0.04 which is much smaller than mse of baseline mse of 1.02."
      ]
    },
    {
      "cell_type": "code",
      "metadata": {
        "id": "AyuR2EIzH-Y3"
      },
      "source": [
        "y_lagged_df.iloc[:3,:-1]"
      ],
      "execution_count": null,
      "outputs": []
    },
    {
      "cell_type": "code",
      "metadata": {
        "id": "1ehMGxorIyvi"
      },
      "source": [
        "y_lagged_df.iloc[:3,-1]"
      ],
      "execution_count": null,
      "outputs": []
    },
    {
      "cell_type": "code",
      "metadata": {
        "id": "l_3Xm8z7eovv"
      },
      "source": [
        "from sklearn.datasets import make_regression\n",
        "from sklearn.ensemble import GradientBoostingRegressor\n",
        "from sklearn.model_selection import train_test_split\n",
        "X_train, X_test, y_train, y_test = train_test_split(X, Y, random_state=0)\n",
        "reg = GradientBoostingRegressor(random_state=0)\n",
        "reg.fit(X_train, y_train)\n",
        "reg.score(X_test, y_test)\n"
      ],
      "execution_count": null,
      "outputs": []
    },
    {
      "cell_type": "code",
      "metadata": {
        "id": "tVSrXgoHfrIX"
      },
      "source": [
        "from sklearn.metrics import mean_squared_error\n",
        "y_hat = reg.predict(X_test)\n",
        "mse = mean_squared_error(y_test, y_hat)\n",
        "print(f'mse={mse}')\n",
        "plt.plot(y_test, y_hat, '+')"
      ],
      "execution_count": null,
      "outputs": []
    },
    {
      "cell_type": "markdown",
      "metadata": {
        "id": "P4_jA_iqFHL-"
      },
      "source": [
        "The effect of time in this data set is not clear as shown be correlation of time with target.\n",
        "Thus we can use KFold for cross-validation.\n"
      ]
    },
    {
      "cell_type": "markdown",
      "metadata": {
        "id": "xGLIPvv-PhR-"
      },
      "source": [
        ""
      ]
    },
    {
      "cell_type": "code",
      "metadata": {
        "id": "rIB0EOqZYNOT"
      },
      "source": [
        "# Use LinearRegression for regression, DecisionTreeRegressor for feature selection\n",
        "# explore the number of selected features for RFE\n",
        "# Try Ridge, Lasso, ElasticNet for regularization and feature selection\n",
        "from numpy import mean\n",
        "from numpy import std\n",
        "from sklearn.datasets import make_classification\n",
        "from sklearn.model_selection import cross_val_score\n",
        "from sklearn.model_selection import KFold\n",
        "from sklearn.feature_selection import RFE\n",
        "from sklearn.linear_model import LinearRegression, Ridge, Lasso, ElasticNet\n",
        "from sklearn.tree import DecisionTreeRegressor\n",
        "from sklearn.pipeline import Pipeline\n",
        "from matplotlib import pyplot\n",
        "\n",
        "n_features_to_select = [2, len(x_cols)]\n",
        "ridge_alpha = 0.1 # larger alpha stronger regularisation\n",
        "lasso_alpha = 0.1 # larger alpha stronger regularisation\n",
        "\n",
        "from enum import Enum\n",
        "class LRModel(Enum):\n",
        "   LR = 1\n",
        "   RIDGE = 2\n",
        "   LASSO = 3\n",
        "   ELASTICNET = 4\n",
        "\n",
        "# get the dataset\n",
        "def get_dataset(X, Y):\n",
        "\tX, y = X, Y\n",
        "\treturn X, y\n",
        "\n",
        "# get a list of models to evaluate\n",
        "def get_models(model_choice):\n",
        "  models = dict()\n",
        "  for i in range(n_features_to_select[0], n_features_to_select[1]):\n",
        "    #rfe = RFE(estimator=LinearRegression(), n_features_to_select=i)\n",
        "    rfe = RFE(estimator=DecisionTreeRegressor(), n_features_to_select=i)\n",
        "    if model_choice == LRModel.LR:\n",
        "      model = LinearRegression()\n",
        "    elif model_choice == LRModel.RIDGE:\n",
        "      model = Ridge()\n",
        "    elif model_choice == LRModel.LASSO:\n",
        "      model = Lasso()\n",
        "    elif model_choice == LRModel.ELASTICNET:\n",
        "      model = ElasticNet()\n",
        "    else:\n",
        "      print(\"Unexpected arg for LR model\")\n",
        "      raise\n",
        "  models[str(i)] = Pipeline(steps=[('s',rfe),('m',model)])\n",
        "  return models\n",
        "\n",
        "# evaluate a give model using cross-validation\n",
        "def evaluate_model(model, X, y):\n",
        "\tcv = KFold(n_splits=10, shuffle=False, random_state=1)\n",
        "\tscores = cross_val_score(model, X, y, scoring='neg_mean_squared_error', cv=cv, n_jobs=-1, error_score='raise')\n",
        "\treturn scores\n",
        "\n",
        "\n",
        "# define dataset\n",
        "X, y = get_dataset(X, Y)\n"
      ],
      "execution_count": null,
      "outputs": []
    },
    {
      "cell_type": "code",
      "metadata": {
        "id": "yhl4lvM1F2Sp"
      },
      "source": [
        "# RFE + LinearRegression/Ridge/Lasso/ElasticNet + evaluate_model\n",
        "# get the models to evaluate\n",
        "models = get_models(LRModel.RIDGE)\n",
        "\n",
        "# KFOLD Cross-validation\n",
        "# evaluate the models and store results\n",
        "results, names = list(), list()\n",
        "for name, model in models.items():\n",
        "\tscores = evaluate_model(model, X, y)\n",
        "\tresults.append(scores)\n",
        "\tnames.append(name)\n",
        "\tprint('>%s %.3f (%.3f)' % (name, mean(scores), std(scores)))\n",
        "# plot model performance for comparison\n",
        "pyplot.boxplot(results, labels=names, showmeans=True)\n",
        "pyplot.show()\n"
      ],
      "execution_count": null,
      "outputs": []
    },
    {
      "cell_type": "code",
      "metadata": {
        "id": "GlOcaazcGfeq"
      },
      "source": [
        "# Time-series split with time continuity kept\n",
        "# evaluate the models and store results\n",
        "\n",
        "TRAIN_FRACTION = 0.7\n",
        "L_train = int(len(Y)*TRAIN_FRACTION)\n",
        "\n",
        "X_train = X[:L_train, :]\n",
        "Y_train = Y[:L_train]\n",
        "X_test = X[L_train:, :]\n",
        "Y_test = Y[L_train:]\n",
        "\n",
        "results, names = list(), list()\n",
        "model.fit(X_train, Y_train)\n",
        "predicted = model.predict(X_test, Y_test)\n",
        "\n",
        "pyplot.boxplot(results, labels=names, showmeans=True)\n",
        "pyplot.show()"
      ],
      "execution_count": null,
      "outputs": []
    },
    {
      "cell_type": "code",
      "metadata": {
        "id": "NNwjNOPrGzl1"
      },
      "source": [
        ""
      ],
      "execution_count": null,
      "outputs": []
    },
    {
      "cell_type": "code",
      "metadata": {
        "id": "s5vgA3c2vtXx"
      },
      "source": [
        "# DNN regression\n",
        "NUM_SPLITS = 5\n",
        "NUM_EPOCHS = 1\n",
        "BATCH_SIZE = 10\n",
        "\n",
        "# Regression\n",
        "from keras.models import Sequential\n",
        "from keras.layers import Dense\n",
        "from keras.wrappers.scikit_learn import KerasRegressor\n",
        "from sklearn.model_selection import cross_val_score\n",
        "from sklearn.model_selection import KFold\n",
        "from sklearn.pipeline import Pipeline\n",
        "\n",
        "Y = data[:, Y_INDEX_DATA]\n",
        "X = data[:, X_FIRST_INDEX_DATA:]\n",
        "\n",
        "# define base model\n",
        "def baseline_model():\n",
        "\tmodel = Sequential()\n",
        "\tmodel.add(Dense(18, input_dim=X.shape[1], kernel_initializer='normal', activation='relu'))\n",
        "\tmodel.add(Dense(8, kernel_initializer='normal', activation='relu'))\n",
        "\tmodel.add(Dense(8, kernel_initializer='normal', activation='relu'))\n",
        "\tmodel.add(Dense(1, kernel_initializer='normal'))\n",
        "\tmodel.compile(loss='mean_squared_error', optimizer='adam')\n",
        "\treturn model\n",
        "  \n",
        "# Step: evaluate model with standardized dataset\n",
        "estimators = []\n",
        "estimators.append(('mlp', KerasRegressor(build_fn=baseline_model, epochs=NUM_EPOCHS, batch_size=BATCH_SIZE, verbose=2)))\n",
        "pipeline = Pipeline(estimators)\n",
        "\n",
        "kfold = KFold(n_splits = NUM_SPLITS, shuffle=False)\n",
        "print(f'X shape={X.shape}, Y shape = {Y.shape}')\n",
        "results = cross_val_score(pipeline, X, Y, cv=kfold)\n",
        "print(f'results of cross_val_score = {results}')\n",
        "print(\"Standardized: %.2f (%.2f) MSE\" % (results.mean(), results.std()))\n"
      ],
      "execution_count": null,
      "outputs": []
    },
    {
      "cell_type": "code",
      "metadata": {
        "id": "SSLnCrYavtk7"
      },
      "source": [
        "# DNN/MLP: get predicted values\n",
        "from sklearn.model_selection import cross_val_predict\n",
        "# TRY this also\n",
        "#from sklearn import linear_model\n",
        "\n",
        "# cross_val_predict returns an array of the same size as `y` where each entry\n",
        "# is a prediction obtained by cross validation:\n",
        "#results = cross_val_score(pipeline, X, Y, cv=kfold)\n",
        "predicted = cross_val_predict(pipeline, X, Y, cv=kfold)\n",
        "# method='predict', \n",
        "# X: array-like of shape (n_samples, n_features)\n",
        "# Returns: When method is ‘predict’: (n_samples,)\n",
        "\n",
        "fig, ax = plt.subplots()\n",
        "ax.scatter(Y, predicted)\n",
        "ax.plot([Y.min(), Y.max()], [Y.min(), Y.max()], 'k--', lw=4)\n",
        "ax.set_xlabel('Measured')\n",
        "ax.set_ylabel('Predicted')\n",
        "ax.grid()\n",
        "plt.show()"
      ],
      "execution_count": null,
      "outputs": []
    },
    {
      "cell_type": "code",
      "metadata": {
        "id": "fCTuPWtTwzAW"
      },
      "source": [
        "mse = mean_squared_error(Y, predicted)\n",
        "print(f'mse={mse}')\n"
      ],
      "execution_count": null,
      "outputs": []
    },
    {
      "cell_type": "markdown",
      "metadata": {
        "id": "7K1bRffESCD0"
      },
      "source": [
        "# DNN mse 0.06 is worse than GradientBoost 0.04"
      ]
    },
    {
      "cell_type": "code",
      "metadata": {
        "id": "wxCsofhfhijW"
      },
      "source": [
        "# plot against time IN transformed/scaled version\n",
        "def plot_prediction_time(start, stop, X, Y, predicted):\n",
        "  num_cols = 3\n",
        "  plt.subplot(num_cols, 1, 1)\n",
        "  plt.plot(X[start:stop, x_cols.index('timestamp_seconds')], Y[start:stop], 'b-+', label='rea target')\n",
        "  #plt.plot(X[start:stop, x_cols.index('timestamp_seconds')], ( predicted[start:stop]), 'g-o', label='predicted target')\n",
        "  plt.plot(X[start:stop, x_cols.index('timestamp_seconds')], (Y[start:stop] - predicted[start:stop]), 'g-o', label='error')\n",
        "  plt.ylabel('scaled target')\n",
        "  plt.xlabel('scaled time')\n",
        "  plt.grid(True)\n",
        "  plt.legend()\n",
        "\n",
        "  plt.subplot(num_cols, 1, 2)\n",
        "  plt.plot(data[start:stop, data_cols.index('timestamp_seconds')], (Y[start:stop] - predicted[start:stop])/(Y[start:stop]), 'r-*', label='error/real')\n",
        "  plt.ylim(0, 1)\n",
        "  plt.ylabel('scaled target')\n",
        "  plt.xlabel('scaled time')\n",
        "  plt.grid(True)\n",
        "  plt.legend()\n",
        "\n",
        "  plt.subplot(num_cols, 1, 3)\n",
        "  #plt.plot(X[start:stop, x_cols.index('timestamp_seconds')])\n",
        "  plt.hist((Y[start:stop] - predicted[start:stop])/(Y[start:stop]), bins=100)\n",
        "  plt.ylabel('scaled time')\n",
        "\n",
        "  fig = plt.gcf()\n",
        "  fig.set_size_inches(22.5, num_cols*3)\n",
        "\n",
        "\n",
        "# Get orignal target w/o transformation from df\n",
        "def get_target(df, systemId_selected, numerical_transform_cols):\n",
        "  if systemId_selected[0] == 'All':\n",
        "    df_tmp = df[numerical_transform_cols]\n",
        "  else:  \n",
        "    df_tmp = df[df['systemId']==systemId_selected[0]][numerical_transform_cols]\n",
        "  return df_tmp.values\n"
      ],
      "execution_count": null,
      "outputs": []
    },
    {
      "cell_type": "code",
      "metadata": {
        "id": "WBkHs8Gdxp6Y"
      },
      "source": [
        "start= 1000 #int(0*24*60/5)\n",
        "stop = 1111 #len(Y) #int(1*24*60/5)\n",
        "plot_prediction_time(start, stop, X, Y, predicted)\n",
        "\n"
      ],
      "execution_count": null,
      "outputs": []
    },
    {
      "cell_type": "code",
      "metadata": {
        "id": "YmJANDYhGtX8"
      },
      "source": [
        "start=100; stop=110\n",
        "print(Y[start:stop], '\\n',predicted[start:stop], '\\n',\n",
        "      Y[start:stop]- predicted[start:stop], '\\n', (Y[start:stop]- predicted[start:stop])/Y[start:stop])\n"
      ],
      "execution_count": null,
      "outputs": []
    },
    {
      "cell_type": "code",
      "metadata": {
        "id": "rGHpeYz6GIA3"
      },
      "source": [
        "plt.plot(Y, predicted, '+')\n",
        "plt.grid()\n",
        "fig = plt.gcf()\n",
        "fig.set_size_inches(22.5, 5)"
      ],
      "execution_count": null,
      "outputs": []
    },
    {
      "cell_type": "code",
      "metadata": {
        "id": "7edDXw2TxBV1"
      },
      "source": [
        "y_real = get_target(df, SYSTEM_ID_SELECTED, 'cpu_utilization' )\n",
        "\n",
        "# RUN: inverse_transform of predicted target \n",
        "y_hat = target_transformer.inverse_transform( predicted.reshape(predicted.shape[0], 1) )\n",
        "print(predicted.shape, y_hat.shape, type(y_hat))\n"
      ],
      "execution_count": null,
      "outputs": []
    },
    {
      "cell_type": "code",
      "metadata": {
        "id": "HDkxtKHexa_C"
      },
      "source": [
        "# RUN: inverse_transform TRUE target transformed\n",
        "y_real_inverse_transfomred = target_transformer.inverse_transform( Y.reshape(Y.shape[0], 1) )\n",
        "print(Y.shape, y_real_inverse_transfomred.shape, type(y_real_inverse_transfomred))\n"
      ],
      "execution_count": null,
      "outputs": []
    },
    {
      "cell_type": "code",
      "metadata": {
        "id": "wdxBPl5XzBQ4"
      },
      "source": [
        "plt.plot(y_real, y_real_inverse_transfomred, '+')\n",
        "plt.grid()\n",
        "fig = plt.gcf()\n",
        "fig.set_size_inches(22.5, 5)"
      ],
      "execution_count": null,
      "outputs": []
    },
    {
      "cell_type": "code",
      "metadata": {
        "id": "mkFDk0ASyHea"
      },
      "source": [
        "plt.plot(y_real_inverse_transfomred, y_hat, '+')\n",
        "plt.grid()\n",
        "fig = plt.gcf()\n",
        "fig.set_size_inches(22.5, 5)\n"
      ],
      "execution_count": null,
      "outputs": []
    },
    {
      "cell_type": "code",
      "metadata": {
        "id": "1iKuQORI0GEQ"
      },
      "source": [
        "# TODO: get real time in timedate\n",
        "#plot inverse transformed y_hat against time\n",
        "fig, ax = plt.subplots()\n",
        "start= int(0*24*60/5)\n",
        "stop = int(0.2*24*60/5)\n",
        "\n",
        "ax.plot(X[:, x_cols.index('timestamp_seconds')][start:stop], y_real[start:stop], 'b-+', label='real')\n",
        "ax.plot(X[:, x_cols.index('timestamp_seconds')][start:stop], y_hat[:, 0][start:stop], 'g-o', label='predicted')\n",
        "ax.set_xlabel('scaled time')\n",
        "ax.set_ylabel('Predicted')\n",
        "ax.grid()\n",
        "ax.legend()\n",
        "fig = plt.gcf()\n",
        "fig.set_size_inches(22.5, 3)\n",
        "plt.show()\n"
      ],
      "execution_count": null,
      "outputs": []
    },
    {
      "cell_type": "code",
      "metadata": {
        "id": "IqOQt7XBLb-s"
      },
      "source": [
        "# Run this after Standardarization\n",
        "# Add nonlinear transformation of features\n",
        "df['rw_cache_miss_ratio'] = df['read_cache_miss'] / df['write_cache_miss']\n",
        "df['rw_iops_ratio'] = df['read_iops'] / df['write_iops']\n",
        "df['rw_throughput_ratio'] = df['read_throughput'] / df['write_throughput']\n",
        "df['rw_iosz_ratio'] = df['read_iosz'] / df['write_iosz']\n",
        "\n",
        "df['rw_cache_miss_diff'] = df['read_cache_miss'] - df['write_cache_miss']\n",
        "df['rw_iops_diff'] = df['read_iops'] - df['write_iops']\n",
        "df['rw_throughput_diff'] = df['read_throughput'] - df['write_throughput']\n",
        "df['rw_iosz_diff'] = df['read_iosz'] - df['write_iosz']"
      ],
      "execution_count": null,
      "outputs": []
    },
    {
      "cell_type": "code",
      "metadata": {
        "id": "7vjiyYZ1U7x7"
      },
      "source": [
        "# remove cols_remove from cols;\n",
        "# divide cols into array of lists of size W \n",
        "def split_columns(cols, cols_remove, W):\n",
        "  for col in cols_remove:\n",
        "    cols.remove(col)\n",
        "  L = len(cols)\n",
        "  R = int(L/W)\n",
        "  x1 = list(np.array(cols[:R*W]).reshape(R,W))\n",
        "  x2 = cols[R*W:]\n",
        "  x1.append(x2)\n",
        "  return x1"
      ],
      "execution_count": null,
      "outputs": []
    },
    {
      "cell_type": "code",
      "metadata": {
        "id": "TM0rK8fcJAC4"
      },
      "source": [
        "# RUN: pairplotr VERY SLOW for larger number of features! !!\n",
        "def pairplot(df, systemId_selected, cols, title_str):\n",
        "  if len(systemId_selected)>0:\n",
        "    df = df[df['systemId']==systemId_selected]\n",
        "  sns.pairplot(df[cols], corner=True)\n",
        "  fig = plt.gcf()\n",
        "  fig.set_size_inches(15.5, 3*2)\n",
        "  fig.suptitle(f'{title_str}, systemId {systemId_selected[0]}')\n",
        "  plt.show()"
      ],
      "execution_count": null,
      "outputs": []
    },
    {
      "cell_type": "code",
      "metadata": {
        "id": "mHKHE7h5Z91t"
      },
      "source": [
        ""
      ],
      "execution_count": null,
      "outputs": []
    },
    {
      "cell_type": "code",
      "metadata": {
        "id": "nKyG7xdKHobv"
      },
      "source": [
        "systemId = 'sys1'\n",
        "cols = list(df.columns.values)\n",
        "cols_remove = ['timestamp_seconds', 'systemId', 'model_type']\n",
        "W = 4\n",
        "cols_groups = split_columns(cols, cols_remove, W)\n",
        "print(f'cols_groups={cols_groups}')\n",
        "title_str = 'Before Transformation'\n",
        "\n",
        "for col_subset in cols_groups:\n",
        "  pairplot(df, systemId, col_subset, title_str)"
      ],
      "execution_count": null,
      "outputs": []
    },
    {
      "cell_type": "code",
      "metadata": {
        "id": "SmqsItbZ_bCR"
      },
      "source": [
        "print(f' data.shape={data.shape}, data_cols len={len(data_cols)}\\n data_cols={data_cols}')\n"
      ],
      "execution_count": null,
      "outputs": []
    },
    {
      "cell_type": "code",
      "metadata": {
        "id": "3_jGhaNqH-FO"
      },
      "source": [
        ""
      ],
      "execution_count": null,
      "outputs": []
    },
    {
      "cell_type": "code",
      "metadata": {
        "id": "EgtNPUf0xp-x"
      },
      "source": [
        "\n",
        "fig, ax = plt.subplots()\n",
        "ax.scatter(y_real, y_hat[:, 0])\n",
        "ax.plot([y_real.min(), y_real.max()], [y_real.min(), y_real.max()], 'k--', lw=4)\n",
        "ax.set_xlabel('Measured')\n",
        "ax.set_ylabel('Predicted')\n",
        "ax.grid()\n",
        "fig = plt.gcf()\n",
        "fig.set_size_inches(18.5, 5)\n",
        "plt.show()\n",
        "predicted.shape\n"
      ],
      "execution_count": null,
      "outputs": []
    },
    {
      "cell_type": "code",
      "metadata": {
        "id": "UcgEv1n7xqD-"
      },
      "source": [
        ""
      ],
      "execution_count": null,
      "outputs": []
    },
    {
      "cell_type": "code",
      "metadata": {
        "id": "TyVV3Z8pvqgK"
      },
      "source": [
        ""
      ],
      "execution_count": null,
      "outputs": []
    },
    {
      "cell_type": "markdown",
      "metadata": {
        "id": "BMZkqYdVz_Gu"
      },
      "source": [
        "Finished regression here"
      ]
    },
    {
      "cell_type": "code",
      "metadata": {
        "id": "1eL3dMJyUnxm"
      },
      "source": [
        "# Use LinearRegression for regression, LinearRegression for feature selection\n",
        "# DecisionTreeRegressor for feature selection ??? TODO\n",
        "# explore the number of selected features for RFE\n",
        "from numpy import mean\n",
        "from numpy import std\n",
        "from sklearn.datasets import make_classification\n",
        "from sklearn.model_selection import cross_val_score\n",
        "from sklearn.model_selection import KFold\n",
        "from sklearn.feature_selection import RFE\n",
        "from sklearn.linear_model import LinearRegression\n",
        "from sklearn.tree import DecisionTreeRegressor\n",
        "\n",
        "from sklearn.pipeline import Pipeline\n",
        "from matplotlib import pyplot\n",
        "\n",
        "n_features_to_select = [2, len(x_cols)]\n",
        "\n",
        "# get the dataset\n",
        "def get_dataset(X, Y):\n",
        "\tX, y = X, Y\n",
        "\treturn X, y\n",
        "\n",
        "# get a list of models to evaluate\n",
        "def get_models():\n",
        "\tmodels = dict()\n",
        "\tfor i in range(n_features_to_select[0], n_features_to_select[1]):\n",
        "\t\t#rfe = RFE(estimator=LinearRegression(), n_features_to_select=i)\n",
        "\t\trfe = RFE(estimator=DecisionTreeRegressor(), n_features_to_select=i)\n",
        "\t\tmodel = LinearRegression()\n",
        "\t\tmodels[str(i)] = Pipeline(steps=[('s',rfe),('m',model)])\n",
        "\treturn models\n",
        "\n",
        "# evaluate a give model using cross-validation\n",
        "def evaluate_model(model, X, y):\n",
        "\tcv = KFold(n_splits=10, shuffle=False, random_state=1)\n",
        "\tscores = cross_val_score(model, X, y, scoring='neg_mean_squared_error', cv=cv, n_jobs=-1, error_score='raise')\n",
        "\treturn scores\n",
        "\n",
        "\n",
        "# define search space\n",
        "param_space = dict()\n",
        "param_space['n_estimators'] = [10, 100, 500]\n",
        "param_space['max_features'] = [2, 4, 6]\n",
        "\n",
        "def grid_search_regression(model, param_space):\n",
        "  cv_inner = KFold(n_splits=3, shuffle=True, random_state=1)\n",
        "  # define search\n",
        "  search = GridSearchCV(model, space, scoring=‘neg_mean_squared_error’, n_jobs=1, cv=cv_inner, refit=True)\n",
        "  # configure the cross-validation procedure\n",
        "  cv_outer = KFold(n_splits=10, shuffle=True, random_state=1)\n",
        "  # execute the nested cross-validation\n",
        "  scores = cross_val_score(search, X, y, scoring='accuracy', cv=cv_outer, n_jobs=-1)\n",
        "  # report performance\n",
        "  print('mse: %.3f (%.3f)' % (mean(scores), std(scores)))\n",
        "\n",
        "\n",
        "# grid search\n",
        "# define dataset\n",
        "X, y = get_dataset(X, Y)\n",
        "# get the models to evaluate\n",
        "models = get_models()\n",
        "# evaluate the models and store results\n",
        "results, names = list(), list()\n",
        "for name, model in models.items():\n",
        "\tscores = evaluate_model(model, X, y)\n",
        "\tresults.append(scores)\n",
        "\tnames.append(name)\n",
        "\tprint('>%s %.3f (%.3f)' % (name, mean(scores), std(scores)))\n",
        "# plot model performance for comparison\n",
        "pyplot.boxplot(results, labels=names, showmeans=True)\n",
        "pyplot.show()\n",
        "pyplot.grid()"
      ],
      "execution_count": null,
      "outputs": []
    },
    {
      "cell_type": "code",
      "metadata": {
        "id": "jGgXG65RwIAn"
      },
      "source": [
        ""
      ],
      "execution_count": null,
      "outputs": []
    },
    {
      "cell_type": "code",
      "metadata": {
        "id": "gCQb4VZIVVFd"
      },
      "source": [
        "# non grid search:\n",
        "# define dataset\n",
        "X, y = get_dataset(X, Y)\n",
        "# get the models to evaluate\n",
        "models = get_models()\n",
        "# evaluate the models and store results\n",
        "results, names = list(), list()\n",
        "for name, model in models.items():\n",
        "\tscores = evaluate_model(model, X, y)\n",
        "\tresults.append(scores)\n",
        "\tnames.append(name)\n",
        "\tprint('>%s %.3f (%.3f)' % (name, mean(scores), std(scores)))\n",
        "# plot model performance for comparison\n",
        "pyplot.boxplot(results, labels=names, showmeans=True)\n",
        "pyplot.show()\n",
        "pyplot.grid()"
      ],
      "execution_count": null,
      "outputs": []
    },
    {
      "cell_type": "markdown",
      "metadata": {
        "id": "_zREitEanNuH"
      },
      "source": [
        "## Q5. Create a column where cpu_utilization < 20 is 0 and cpu_utilization >= 20 as 1. Using this newly created column build a logistic regression. Commment on the evaluation of the model."
      ]
    },
    {
      "cell_type": "code",
      "metadata": {
        "id": "Twy9oe8xnNRM"
      },
      "source": [
        "check_data_dims()"
      ],
      "execution_count": null,
      "outputs": []
    },
    {
      "cell_type": "code",
      "metadata": {
        "id": "fG8Kz56q2VPx"
      },
      "source": [
        "target_threshold = target_transformer.transform([[20]])\n",
        "target_threshold = target_threshold[0]\n",
        "f = lambda x: x>target_threshold\n",
        "Y_cat = f(Y)"
      ],
      "execution_count": null,
      "outputs": []
    },
    {
      "cell_type": "code",
      "metadata": {
        "id": "NsE8yLmWwqhp"
      },
      "source": [
        ""
      ],
      "execution_count": null,
      "outputs": []
    },
    {
      "cell_type": "markdown",
      "metadata": {
        "id": "hS8EonF0wsTz"
      },
      "source": [
        "permutatation importance for regression"
      ]
    },
    {
      "cell_type": "code",
      "metadata": {
        "id": "-zhphLf4wzm0"
      },
      "source": [
        "# permutation feature importance with knn for regression\n",
        "# define the model\n",
        "def permutation_importance_regression(model, X, Y, x_cols, scoring, title):\n",
        "  from sklearn.model_selection import train_test_split\n",
        "  from sklearn.inspection import permutation_importance\n",
        "  X_train, X_test, y_train, y_test = train_test_split(\n",
        "      X, Y, random_state=0)\n",
        "  # fit the model\n",
        "  model.fit(X_train, y_train)\n",
        "  # perform permutation importance\n",
        "  results = permutation_importance(model, X_train, y_train, scoring=scoring)\n",
        "  # get importance\n",
        "  importance = results.importances_mean\n",
        "  # summarize feature importance\n",
        "  for i,v in enumerate(importance):\n",
        "    print('Feature: %0d, Score: %.5f' % (i,v))\n",
        "  # plot feature importance\n",
        "  plt.bar([x for x in x_cols], importance)\n",
        "  plt.title(title)\n",
        "  plt.xticks(rotation = 60) # Rotates X-Axis Ticks by 45-degrees\n",
        "  fig = plt.gcf()\n",
        "  fig.set_size_inches(18, 7)\n",
        "  plt.show()\n"
      ],
      "execution_count": null,
      "outputs": []
    },
    {
      "cell_type": "code",
      "metadata": {
        "id": "HLZkbebq0hay"
      },
      "source": [
        "from sklearn.neighbors import KNeighborsRegressor\n",
        "from sklearn.ensemble import GradientBoostingRegressor\n",
        "models = [GradientBoostingRegressor(), KNeighborsRegressor()]\n",
        "scoring='neg_mean_squared_error'\n",
        "title = 'Feature importance of GradientBoostingRegressor' +'scoring ' + scoring\n",
        "permutation_importance_regression(models[0], X, Y, x_cols, scoring, title)\n",
        "\n"
      ],
      "execution_count": null,
      "outputs": []
    },
    {
      "cell_type": "markdown",
      "metadata": {
        "id": "ysRLyqmf4Zwi"
      },
      "source": [
        "Base on regression model's permutation importance, the top 5 featurs are:\n",
        "1. write_throughput, \n",
        "2. write_iops, \n",
        "3. read_throughput, \n",
        "4. read_cache_miss,\n",
        "5. read_iops\n",
        "\n",
        "Base on calssification model's permutation importance, the top 5 featurs are:\n",
        " 1. write_iops,   \n",
        " 2. write_throughput, \n",
        " 3. read_throughput, \n",
        " 4. read_cache_miss,\n",
        " 5. read_iops\n",
        "\n",
        "Based on correlation with target cpu_utilization:\n",
        "(run: plot_corr(df, SYSTEM_ID_SELECTED))\n",
        "1. write_throughput     0.774564\n",
        "2. write_iops           0.758773\n",
        "3. read_cache_miss      0.620105\n",
        "4. read_throughput      0.483752\n",
        "5. write_cache_miss     0.453977\n",
        "6. read_iops            0.356857\n",
        "\n",
        "\n",
        "\n",
        "\n",
        "\n",
        "\n"
      ]
    },
    {
      "cell_type": "code",
      "metadata": {
        "id": "_OaEhH2m5V1o"
      },
      "source": [
        "print(type(Y_cat), Y_cat.shape)\n"
      ],
      "execution_count": null,
      "outputs": []
    },
    {
      "cell_type": "markdown",
      "metadata": {
        "id": "imhvnfYXc7ea"
      },
      "source": [
        "Permutation Importance\n"
      ]
    },
    {
      "cell_type": "code",
      "metadata": {
        "id": "Tn3qR1GBc5IX"
      },
      "source": [
        "# permutation importance for classifier\n",
        "from sklearn.ensemble import RandomForestClassifier\n",
        "from sklearn.inspection import permutation_importance\n",
        "from sklearn.model_selection import train_test_split\n",
        "rf = RandomForestClassifier(random_state=0)\n",
        "X_train, X_test, y_train, y_test = train_test_split(\n",
        "    X, Y_cat, stratify=Y_cat, random_state=42)\n",
        "rf.fit(X_train, y_train)\n",
        "\n",
        "print(\"RF train accuracy: %0.3f\" % rf.score(X_train, y_train))\n",
        "print(\"RF test accuracy: %0.3f\" % rf.score(X_test, y_test))\n"
      ],
      "execution_count": null,
      "outputs": []
    },
    {
      "cell_type": "code",
      "metadata": {
        "id": "2LMYKjaWkohN"
      },
      "source": [
        "def plot_permutation_importance(X, Y, title):\n",
        "  result = permutation_importance(rf, X, Y, n_repeats=10,\n",
        "                                  random_state=42, n_jobs=2)\n",
        "  sorted_idx = result.importances_mean.argsort()\n",
        "  fig, ax = plt.subplots()\n",
        "  ax.boxplot(result.importances[sorted_idx].T,\n",
        "            vert=False, labels=[x_cols[k] for k in sorted_idx])\n",
        "  ax.set_title(title)\n",
        "  fig.tight_layout()\n",
        "  plt.grid()\n",
        "  fig.set_size_inches(15, 5)\n",
        "  plt.show()\n",
        "\n"
      ],
      "execution_count": null,
      "outputs": []
    },
    {
      "cell_type": "code",
      "metadata": {
        "id": "UAXww-FSnJ1J"
      },
      "source": [
        "title = \"Permutation Importances (test set)\"\n",
        "plot_permutation_importance(X_test, y_test, title)\n"
      ],
      "execution_count": null,
      "outputs": []
    },
    {
      "cell_type": "code",
      "metadata": {
        "id": "szL7NKl_nJ7q"
      },
      "source": [
        "title = \"Permutation Importances (train set)\"\n",
        "plot_permutation_importance(X_train, y_train, title)\n"
      ],
      "execution_count": null,
      "outputs": []
    },
    {
      "cell_type": "markdown",
      "metadata": {
        "id": "p3ic2XIPYvDY"
      },
      "source": [
        "Tree’s Feature Importance from Mean Decrease in Impurity (MDI)¶\n",
        "\n",
        "\n"
      ]
    },
    {
      "cell_type": "code",
      "metadata": {
        "id": "oFvl_HPrYsAi"
      },
      "source": [
        "from sklearn.ensemble import RandomForestClassifier\n",
        "from sklearn.model_selection import train_test_split\n",
        "\n",
        "X_train, X_test, y_train, y_test = train_test_split(\n",
        "    X, Y_cat, stratify=Y_cat, random_state=42)\n",
        "feature_names = x_cols\n",
        "forest = RandomForestClassifier(random_state=0)\n",
        "\n",
        "forest.fit(X_train, y_train)\n",
        "import time\n",
        "start_time = time.time()\n",
        "importances = forest.feature_importances_\n",
        "std = np.std([\n",
        "    tree.feature_importances_ for tree in forest.estimators_], axis=0)\n",
        "elapsed_time = time.time() - start_time\n",
        "\n",
        "print(f\"Elapsed time to compute the importances: \"\n",
        "      f\"{elapsed_time:.3f} seconds\")\n",
        "import pandas as pd\n",
        "forest_importances = pd.Series(importances, index=feature_names)\n",
        "\n",
        "fig, ax = plt.subplots()\n",
        "forest_importances.plot.bar(yerr=std, ax=ax)\n",
        "ax.set_title(\"Feature importances using MDI\")\n",
        "ax.set_ylabel(\"Mean decrease in impurity\")\n",
        "fig.tight_layout()"
      ],
      "execution_count": null,
      "outputs": []
    },
    {
      "cell_type": "code",
      "metadata": {
        "id": "QdkH8I0faCK8"
      },
      "source": [
        ""
      ],
      "execution_count": null,
      "outputs": []
    },
    {
      "cell_type": "code",
      "metadata": {
        "id": "PY1SniiAaGwQ"
      },
      "source": [
        ""
      ],
      "execution_count": null,
      "outputs": []
    },
    {
      "cell_type": "code",
      "metadata": {
        "id": "0GLu3TcwaxSw"
      },
      "source": [
        "[forest_importances.values, std]"
      ],
      "execution_count": null,
      "outputs": []
    },
    {
      "cell_type": "markdown",
      "metadata": {
        "id": "SzzNQiOavOf6"
      },
      "source": [
        "# Use LDA to reduce dimensitionality and visualise\n",
        "# Use permutation to decide feature importance "
      ]
    },
    {
      "cell_type": "code",
      "metadata": {
        "id": "8bjufSXFnND8"
      },
      "source": [
        "\n"
      ],
      "execution_count": null,
      "outputs": []
    },
    {
      "cell_type": "code",
      "metadata": {
        "id": "v13ctAru_D86"
      },
      "source": [
        ""
      ],
      "execution_count": null,
      "outputs": []
    },
    {
      "cell_type": "code",
      "metadata": {
        "id": "5hBbzJ8G3Tht"
      },
      "source": [
        "# Get orignal target w/o transformation from df\n",
        "def get_target(df, systemId_selected, numerical_transform_cols):\n",
        "  if systemId_selected[0] == 'All':\n",
        "    df_tmp = df[numerical_transform_cols]\n",
        "  else:  \n",
        "    df_tmp = df[df['systemId']==systemId_selected[0]][numerical_transform_cols]\n",
        "  return df_tmp.values\n",
        "\n",
        "y_real = get_target(df, SYSTEM_ID_SELECTED, 'cpu_utilization' )\n",
        "_= plt.hist(y_real)\n",
        "\n",
        "\n",
        "_=plt.hist(Y)"
      ],
      "execution_count": null,
      "outputs": []
    },
    {
      "cell_type": "code",
      "metadata": {
        "id": "cd5FUhHC2JCb"
      },
      "source": [
        ""
      ],
      "execution_count": null,
      "outputs": []
    },
    {
      "cell_type": "code",
      "metadata": {
        "id": "Pu0fFZWt_MB1"
      },
      "source": [
        "f1 = lambda x: x>20\n",
        "y_real_cat = f1(y_real)*1\n",
        "_= plt.hist(y_real_cat)"
      ],
      "execution_count": null,
      "outputs": []
    },
    {
      "cell_type": "code",
      "metadata": {
        "id": "33Bd9EmonM2_"
      },
      "source": [
        "_= plt.hist(Y_cat)"
      ],
      "execution_count": null,
      "outputs": []
    },
    {
      "cell_type": "code",
      "metadata": {
        "id": "1f4_54yf88xW"
      },
      "source": [
        "# Use LogisticRegression for classification, DecisionTreeClassifier for feature selection\n",
        "\n",
        "# explore the number of selected features for RFE\n",
        "from numpy import mean\n",
        "from numpy import std\n",
        "from sklearn.datasets import make_classification\n",
        "from sklearn.model_selection import cross_val_score\n",
        "from sklearn.model_selection import RepeatedStratifiedKFold\n",
        "from sklearn.feature_selection import RFE\n",
        "from sklearn.tree import DecisionTreeClassifier\n",
        "from sklearn.linear_model import LogisticRegression\n",
        "\n",
        "from sklearn.ensemble import RandomForestClassifier\n",
        "\n",
        "from sklearn.pipeline import Pipeline\n",
        "from matplotlib import pyplot\n",
        "\n",
        "n_features_to_select = [2, len(x_cols)]\n",
        "\n",
        "# get the dataset\n",
        "def get_dataset(X, Y):\n",
        "\tX, y = X, Y\n",
        "\treturn X, y\n",
        "\n",
        "# get a list of models to evaluate\n",
        "def get_models():\n",
        "\tmodels = dict()\n",
        "\tfor i in range(n_features_to_select[0], n_features_to_select[1]):\n",
        "\t\trfe = RFE(estimator=DecisionTreeClassifier(), n_features_to_select=i)\n",
        "\t\tmodel = LogisticRegression()\n",
        "\t\tmodels[str(i)] = Pipeline(steps=[('s',rfe),('m',model)])\n",
        "\treturn models\n",
        "\n",
        "# evaluate a give model using cross-validation\n",
        "def evaluate_model(model, X, y):\n",
        "\tcv = RepeatedStratifiedKFold(n_splits=10, n_repeats=3, random_state=1)\n",
        "\tscores = cross_val_score(model, X, y, scoring='accuracy', cv=cv, n_jobs=-1, error_score='raise')\n",
        "\treturn scores\n",
        "\n",
        "# define dataset\n",
        "X, y = get_dataset(X, Y_cat)\n",
        "# get the models to evaluate\n",
        "models = get_models()\n",
        "# evaluate the models and store results\n",
        "results, names = list(), list()\n",
        "for name, model in models.items():\n",
        "\tscores = evaluate_model(model, X, y)\n",
        "\tresults.append(scores)\n",
        "\tnames.append(name)\n",
        "\tprint('>%s %.3f (%.3f)' % (name, mean(scores), std(scores)))\n",
        "# plot model performance for comparison\n",
        "pyplot.boxplot(results, labels=names, showmeans=True)\n",
        "pyplot.show()"
      ],
      "execution_count": null,
      "outputs": []
    },
    {
      "cell_type": "markdown",
      "metadata": {
        "id": "bWPq13WoFkwb"
      },
      "source": [
        "## Q6. Fit a simple decision tree regressor to this data. Comment about the fit of the model"
      ]
    },
    {
      "cell_type": "code",
      "metadata": {
        "id": "SlFfSEKWp2lM"
      },
      "source": [
        "check_data_dims()"
      ],
      "execution_count": null,
      "outputs": []
    },
    {
      "cell_type": "code",
      "metadata": {
        "id": "I6TorxADsQHj"
      },
      "source": [
        ""
      ],
      "execution_count": null,
      "outputs": []
    },
    {
      "cell_type": "code",
      "metadata": {
        "id": "Cm-XHcuoFzD9"
      },
      "source": [
        "# explore the number of selected features for RFE\n",
        "from numpy import mean\n",
        "from numpy import std\n",
        "from sklearn.datasets import make_classification\n",
        "from sklearn.model_selection import cross_val_score\n",
        "from sklearn.model_selection import RepeatedStratifiedKFold\n",
        "from sklearn.feature_selection import RFE\n",
        "from sklearn.tree import DecisionTreeClassifier\n",
        "from sklearn.pipeline import Pipeline\n",
        "from matplotlib import pyplot\n",
        "\n",
        "n_features_to_select = [2, len(x_cols)]\n",
        "\n",
        "# get the dataset\n",
        "def get_dataset(X, Y):\n",
        "\tX, y = X, Y\n",
        "\treturn X, y\n",
        "\n",
        "# get a list of models to evaluate\n",
        "def get_models():\n",
        "\tmodels = dict()\n",
        "\tfor i in range(n_features_to_select[0], n_features_to_select[1]):\n",
        "\t\trfe = RFE(estimator=DecisionTreeClassifier(), n_features_to_select=i)\n",
        "\t\tmodel = DecisionTreeClassifier()\n",
        "\t\tmodels[str(i)] = Pipeline(steps=[('s',rfe),('m',model)])\n",
        "\treturn models\n",
        "\n",
        "# evaluate a give model using cross-validation\n",
        "def evaluate_model(model, X, y):\n",
        "\tcv = RepeatedStratifiedKFold(n_splits=10, n_repeats=3, random_state=1)\n",
        "\tscores = cross_val_score(model, X, y, scoring='accuracy', cv=cv, n_jobs=-1, error_score='raise')\n",
        "\treturn scores\n",
        "\n",
        "# define dataset\n",
        "X, y = get_dataset(X, Y_cat)\n",
        "# get the models to evaluate\n",
        "models = get_models()\n",
        "# evaluate the models and store results\n",
        "results, names = list(), list()\n",
        "for name, model in models.items():\n",
        "\tscores = evaluate_model(model, X, y)\n",
        "\tresults.append(scores)\n",
        "\tnames.append(name)\n",
        "\tprint('>%s %.3f (%.3f)' % (name, mean(scores), std(scores)))\n",
        "# plot model performance for comparison\n",
        "pyplot.boxplot(results, labels=names, showmeans=True)\n",
        "pyplot.show()"
      ],
      "execution_count": null,
      "outputs": []
    },
    {
      "cell_type": "markdown",
      "metadata": {
        "id": "ISHSD3FTQV2H"
      },
      "source": [
        "## Q7. Fit a Random forest regressor. Compare this with simple dicision tree. If Random forest is better then why"
      ]
    },
    {
      "cell_type": "code",
      "metadata": {
        "id": "nvhtU37asU1f"
      },
      "source": [
        "check_data_dims()"
      ],
      "execution_count": null,
      "outputs": []
    },
    {
      "cell_type": "code",
      "metadata": {
        "id": "dErQUbu48RXx"
      },
      "source": [
        ""
      ],
      "execution_count": null,
      "outputs": []
    },
    {
      "cell_type": "markdown",
      "metadata": {
        "id": "deaH7RfM8ScG"
      },
      "source": [
        ""
      ]
    },
    {
      "cell_type": "code",
      "metadata": {
        "id": "GExRlPXA8RjC"
      },
      "source": [
        ""
      ],
      "execution_count": null,
      "outputs": []
    },
    {
      "cell_type": "code",
      "metadata": {
        "id": "Qq5mWNf3QkUD"
      },
      "source": [
        "# Use RandomForestClassifier for classification, DecisionTreeClassifier for feature selection\n",
        "# TODO: add f1-score for biased classification\n",
        "# explore the number of selected features for RFE\n",
        "from numpy import mean\n",
        "from numpy import std\n",
        "from sklearn.datasets import make_classification\n",
        "from sklearn.model_selection import cross_val_score\n",
        "from sklearn.model_selection import RepeatedStratifiedKFold\n",
        "from sklearn.feature_selection import RFE\n",
        "from sklearn.tree import DecisionTreeClassifier\n",
        "from sklearn.ensemble import RandomForestClassifier\n",
        "\n",
        "from sklearn.pipeline import Pipeline\n",
        "from matplotlib import pyplot\n",
        "\n",
        "n_features_to_select = [2, len(x_cols)]\n",
        "\n",
        "# get the dataset\n",
        "def get_dataset(X, Y):\n",
        "\tX, y = X, Y\n",
        "\treturn X, y\n",
        "\n",
        "# get a list of models to evaluate\n",
        "def get_models():\n",
        "\tmodels = dict()\n",
        "\tfor i in range(n_features_to_select[0], n_features_to_select[1]):\n",
        "\t\trfe = RFE(estimator=DecisionTreeClassifier(), n_features_to_select=i)\n",
        "\t\tmodel = RandomForestClassifier()\n",
        "\t\tmodels[str(i)] = Pipeline(steps=[('s',rfe),('m',model)])\n",
        "\treturn models\n",
        "\n",
        "# evaluate a give model using cross-validation\n",
        "def evaluate_model(model, X, y):\n",
        "\tcv = RepeatedStratifiedKFold(n_splits=10, n_repeats=3, random_state=1)\n",
        "\tscores = cross_val_score(model, X, y, scoring='accuracy', cv=cv, n_jobs=-1, error_score='raise')\n",
        "\treturn scores\n",
        "\n",
        "# define dataset\n",
        "X, y = get_dataset(X, Y_cat)\n",
        "# get the models to evaluate\n",
        "models = get_models()\n",
        "# evaluate the models and store results\n",
        "results, names = list(), list()\n",
        "for name, model in models.items():\n",
        "\tscores = evaluate_model(model, X, y)\n",
        "\tresults.append(scores)\n",
        "\tnames.append(name)\n",
        "\tprint('>%s %.3f (%.3f)' % (name, mean(scores), std(scores)))\n",
        "# plot model performance for comparison\n",
        "pyplot.boxplot(results, labels=names, showmeans=True)\n",
        "pyplot.show()"
      ],
      "execution_count": null,
      "outputs": []
    },
    {
      "cell_type": "markdown",
      "metadata": {
        "id": "C0iYXqC-8WF2"
      },
      "source": [
        ""
      ]
    },
    {
      "cell_type": "code",
      "metadata": {
        "id": "CXGqNRcp8VIo"
      },
      "source": [
        "#GridSerachCV for hyperparameters tuning\n",
        "\n",
        "# manual nested cross-validation for random forest on a classification dataset\n",
        "from numpy import mean\n",
        "from numpy import std\n",
        "from sklearn.model_selection import KFold\n",
        "from sklearn.model_selection import GridSearchCV\n",
        "from sklearn.ensemble import RandomForestClassifier\n",
        "from sklearn.metrics import accuracy_score, precision_score, f1_score, recall_score\n",
        "\n",
        "\n",
        "def gridsearch_CV_run(X, Y, scoring, space):\n",
        "  # configure the cross-validation procedure\n",
        "  cv_outer = KFold(n_splits=10, shuffle=True, random_state=1)\n",
        "  # enumerate splits\n",
        "  outer_recall, outer_precision, outer_f1, outer_accuracy = list(),list(),list(),list()\n",
        "  for train_ix, test_ix in cv_outer.split(X):\n",
        "    # split data\n",
        "    X_train, X_test = X[train_ix, :], X[test_ix, :]\n",
        "    y_train, y_test = Y[train_ix], Y[test_ix]\n",
        "    # configure the cross-validation procedure\n",
        "    cv_inner = KFold(n_splits=3, shuffle=True, random_state=1)\n",
        "    # define the model\n",
        "    model = RandomForestClassifier(random_state=1)\n",
        "    # define search\n",
        "    search = GridSearchCV(model, space, scoring=scoring, cv=cv_inner, refit=True)\n",
        "    # execute search\n",
        "    result = search.fit(X_train, y_train)\n",
        "    # get the best performing model fit on the whole training set\n",
        "    best_model = result.best_estimator_\n",
        "    # evaluate model on the hold out dataset\n",
        "    yhat = best_model.predict(X_test)\n",
        "\n",
        "    # evaluate the model\n",
        "    acc = accuracy_score(y_test, yhat)\n",
        "    outer_accuracy.append(acc)\n",
        "\n",
        "    precision = precision_score(y_test, yhat)\n",
        "    outer_precision.append(precision)\n",
        "\n",
        "    f1 = f1_score(y_test, yhat)\n",
        "    outer_f1.append(f1)\n",
        "\n",
        "    recall = recall_score(y_test, yhat)\n",
        "    outer_recall.append(recall)\n",
        "\n",
        "    # report progress\n",
        "    print('est=%.3f, cfg=%s' % (result.best_score_, result.best_params_))\n",
        "    print('acc=%.3f, precision=%.3f, recall=%.3f, f1=%.3f, ' % (acc, precision, recall, f1 ))\n",
        "\n",
        "  # summarize the estimated performance of the model\n",
        "  print(f'outer_accuracy: %.3f (%.3f)' % (mean(outer_accuracy), std(outer_accuracy)))\n",
        "  print(f'outer_precision: %.3f (%.3f)' % (mean(outer_precision), std(outer_precision)))\n",
        "  print(f'outer_recall: %.3f (%.3f)' % (mean(outer_recall), std(outer_recall)))\n",
        "  print(f'outer_f1: %.3f (%.3f)' % (mean(outer_f1), std(outer_f1)))\n"
      ],
      "execution_count": null,
      "outputs": []
    },
    {
      "cell_type": "code",
      "metadata": {
        "id": "iAQNxb2a834h"
      },
      "source": [
        "scoring = 'f1' #'accuracy'\n",
        "# define search space\n",
        "space = dict()\n",
        "space['n_estimators'] = [10, 100, 500]\n",
        "space['max_features'] = [1, 2, 4, 6]\n",
        "\n",
        "gridsearch_CV_run(X, Y_cat, scoring, space)\n"
      ],
      "execution_count": null,
      "outputs": []
    },
    {
      "cell_type": "code",
      "metadata": {
        "id": "_EmvM82G8VT1"
      },
      "source": [
        "X.shape\n"
      ],
      "execution_count": null,
      "outputs": []
    },
    {
      "cell_type": "markdown",
      "metadata": {
        "id": "4_oc59AaQl_2"
      },
      "source": [
        "## Q8. How do improve the accuracy of Random forest regressor"
      ]
    },
    {
      "cell_type": "code",
      "metadata": {
        "id": "UPz1m2MCQs5C"
      },
      "source": [
        "GradientBoost"
      ],
      "execution_count": null,
      "outputs": []
    },
    {
      "cell_type": "code",
      "metadata": {
        "id": "el_i1OMb9Gmh"
      },
      "source": [
        "#GridSerachCV for hyperparameters tuning\n",
        "\n",
        "# manual nested cross-validation for random forest on a classification dataset\n",
        "from numpy import mean\n",
        "from numpy import std\n",
        "from sklearn.model_selection import KFold\n",
        "from sklearn.model_selection import GridSearchCV\n",
        "from sklearn.ensemble import GradientBoostingClassifier\n",
        "from sklearn.metrics import accuracy_score, precision_score, f1_score, recall_score\n",
        "\n",
        "\n",
        "def gridsearch_CV_GBoost(X, Y, scoring, space):\n",
        "  # configure the cross-validation procedure\n",
        "  cv_outer = KFold(n_splits=10, shuffle=True, random_state=1)\n",
        "  # enumerate splits\n",
        "  outer_recall, outer_precision, outer_f1, outer_accuracy = list(),list(),list(),list()\n",
        "  for train_ix, test_ix in cv_outer.split(X):\n",
        "    # split data\n",
        "    X_train, X_test = X[train_ix, :], X[test_ix, :]\n",
        "    y_train, y_test = Y[train_ix], Y[test_ix]\n",
        "    # configure the cross-validation procedure\n",
        "    cv_inner = KFold(n_splits=3, shuffle=True, random_state=1)\n",
        "    # define the model\n",
        "    model = GradientBoostingClassifier(random_state=1)\n",
        "    # define search\n",
        "    search = GridSearchCV(model, space, scoring=scoring, cv=cv_inner, refit=True)\n",
        "    # execute search\n",
        "    result = search.fit(X_train, y_train)\n",
        "    # get the best performing model fit on the whole training set\n",
        "    best_model = result.best_estimator_\n",
        "    # evaluate model on the hold out dataset\n",
        "    yhat = best_model.predict(X_test)\n",
        "\n",
        "    # evaluate the model\n",
        "    acc = accuracy_score(y_test, yhat)\n",
        "    outer_accuracy.append(acc)\n",
        "\n",
        "    precision = precision_score(y_test, yhat)\n",
        "    outer_precision.append(precision)\n",
        "\n",
        "    f1 = f1_score(y_test, yhat)\n",
        "    outer_f1.append(f1)\n",
        "\n",
        "    recall = recall_score(y_test, yhat)\n",
        "    outer_recall.append(recall)\n",
        "\n",
        "    # report progress\n",
        "    print('est=%.3f, cfg=%s' % (result.best_score_, result.best_params_))\n",
        "    print('acc=%.3f, precision=%.3f, recall=%.3f, f1=%.3f, ' % (acc, precision, recall, f1 ))\n",
        "\n",
        "  # summarize the estimated performance of the model\n",
        "  print(f'outer_accuracy: %.3f (%.3f)' % (mean(outer_accuracy), std(outer_accuracy)))\n",
        "  print(f'outer_precision: %.3f (%.3f)' % (mean(outer_precision), std(outer_precision)))\n",
        "  print(f'outer_recall: %.3f (%.3f)' % (mean(outer_recall), std(outer_recall)))\n",
        "  print(f'outer_f1: %.3f (%.3f)' % (mean(outer_f1), std(outer_f1)))\n"
      ],
      "execution_count": null,
      "outputs": []
    },
    {
      "cell_type": "code",
      "metadata": {
        "id": "EzF3EJj2RQK6"
      },
      "source": [
        "\n",
        "scoring = 'f1' #'accuracy'\n",
        "# define search space\n",
        "space = dict()\n",
        "space['n_estimators'] = [10, 100, 500]\n",
        "space['max_features'] = [1, 2, 4, 6]\n",
        "parameters = {'learning_rate': [0.1],\n",
        "              'subsample'    : [0.9, 0.5],\n",
        "              'n_estimators' : [100, 500],\n",
        "              'max_depth'    : [2, 4, 6, 8],\n",
        "              'max_features' : [2, 4, 6]\n",
        "              }\n",
        "gridsearch_CV_GBoost(X, Y_cat, scoring, parameters)\n",
        "\n"
      ],
      "execution_count": null,
      "outputs": []
    },
    {
      "cell_type": "code",
      "metadata": {
        "id": "Kqn9vA-QdH8L"
      },
      "source": [
        "# 2nd time run\n",
        "# TODO: start with faster HalvingGridSearchCV, Try XGBoost iso GradientBoost\n",
        "scoring = 'f1' #'accuracy'\n",
        "# define search space\n",
        "space = dict()\n",
        "space['n_estimators'] = [10, 100, 500]\n",
        "space['max_features'] = [1, 2, 4, 6]\n",
        "parameters = {'learning_rate': [0.1],\n",
        "              'n_estimators' : [100, 500],\n",
        "              'max_depth'    : [2, 4, 6, 8],\n",
        "              'max_features' : [2, 4, 6]\n",
        "              }\n",
        "gridsearch_CV_GBoost(X, Y_cat, scoring, parameters)\n"
      ],
      "execution_count": null,
      "outputs": []
    },
    {
      "cell_type": "code",
      "metadata": {
        "id": "VhUdpuvqi0QC"
      },
      "source": [
        "# 3rd time run\n",
        "# TODO: start with faster HalvingGridSearchCV, Try XGBoost iso GradientBoost\n",
        "scoring = 'f1' #'accuracy'\n",
        "# define search space\n",
        "parameters = {'learning_rate': [0.1],\n",
        "              'n_estimators' : [1000],\n",
        "              'max_depth'    : [2, 4],\n",
        "              'max_features' : [2, 4, 6]\n",
        "              }\n",
        "gridsearch_CV_GBoost(X, Y_cat, scoring, parameters)"
      ],
      "execution_count": null,
      "outputs": []
    },
    {
      "cell_type": "markdown",
      "metadata": {
        "id": "o1BGrdNA8gSE"
      },
      "source": [
        "## Q9. Cluster the input variables using KMeans and GMM.\n",
        "       \n",
        "1.   Draw the contour plots\n",
        "2.   Explain the hyper-parameters you choose and why?\n",
        "\n",
        "use t-SNE for visualization\n",
        "\n",
        "PCA  + K-means OR DBSCAN\n",
        "1. PCA + cluster\n",
        "2. DBSCAN\n",
        "2. Clustering on the output of t-SNE with 80 perplexity; beware, t-SNE can produce \"fake\" patterns!\n",
        "If we would instead further increase the perplexity, the uniformity would increase, and the separation would reduce again.\n",
        "\n",
        "\n"
      ]
    },
    {
      "cell_type": "code",
      "metadata": {
        "id": "LPsuDzmHsXJ8"
      },
      "source": [
        "check_data_dims()"
      ],
      "execution_count": null,
      "outputs": []
    },
    {
      "cell_type": "code",
      "metadata": {
        "id": "auoYiJQXTNNW"
      },
      "source": [
        "#First, decide how many features we’d like to keep based on the cumulative variance plot.\n",
        "from sklearn.cluster import KMeans\n",
        "from sklearn.decomposition import PCA\n",
        "pca = PCA()\n",
        "pca.fit(X)\n",
        "print(len(pca.explained_variance_), pca.explained_variance_) \n",
        "print(len(pca.explained_variance_ratio_), pca.explained_variance_ratio_)\n",
        "print(pca.explained_variance_ratio_.cumsum())\n",
        "\n",
        "plt.figure(figsize=(10,8))\n",
        "plt.plot(range(1, X.shape[1]+1), pca.explained_variance_ratio_.cumsum(), marker='o', linestyle='--')\n",
        "plt.title('explained variance by components')\n",
        "plt.xlabel('Number of components')\n",
        "plt.ylabel('cumulative explained variance')\n",
        "plt.grid()"
      ],
      "execution_count": null,
      "outputs": []
    },
    {
      "cell_type": "code",
      "metadata": {
        "id": "_KZwtbRgX1Pc"
      },
      "source": [
        "# We keep the first 4 components to get a cumulative variance of 86 per cent;\n",
        "from sklearn.decomposition import PCA\n",
        "num_components_pca = 4\n",
        "pca = PCA(n_components = num_components_pca)\n",
        "pca.fit(X)\n",
        "pca_out = pca.transform(X)\n",
        "score_pca = pca.transform(X)\n",
        "print(pca_out.shape, X.shape)"
      ],
      "execution_count": null,
      "outputs": []
    },
    {
      "cell_type": "markdown",
      "metadata": {
        "id": "y--UyOYJrjbS"
      },
      "source": [
        "visualize clusters with PCA output as input to KMeans"
      ]
    },
    {
      "cell_type": "code",
      "metadata": {
        "id": "0Wc9-QorriIb"
      },
      "source": [
        "def plot_cluster_mesh(data, n_clusters, use_PCA, title):\n",
        "  if use_PCA:\n",
        "    reduced_data = PCA(n_components=2).fit_transform(data)\n",
        "  else:\n",
        "    reduced_data = data  \n",
        "  kmeans = KMeans(init=\"k-means++\", n_clusters=n_clusters, n_init=10)\n",
        "  kmeans.fit(reduced_data)\n",
        "\n",
        "  # Step size of the mesh. Decrease to increase the quality of the VQ.\n",
        "  h = .02     # point in the mesh [x_min, x_max]x[y_min, y_max].\n",
        "\n",
        "  # Plot the decision boundary. For that, we will assign a color to each\n",
        "  x_min, x_max = reduced_data[:, 0].min() - 1, reduced_data[:, 0].max() + 1\n",
        "  y_min, y_max = reduced_data[:, 1].min() - 1, reduced_data[:, 1].max() + 1\n",
        "  xx, yy = np.meshgrid(np.arange(x_min, x_max, h), np.arange(y_min, y_max, h))\n",
        "\n",
        "  # Obtain labels for each point in mesh. Use last trained model.\n",
        "  Z = kmeans.predict(np.c_[xx.ravel(), yy.ravel()])\n",
        "\n",
        "  # Put the result into a color plot\n",
        "  Z = Z.reshape(xx.shape)\n",
        "  plt.figure(1)\n",
        "  plt.clf()\n",
        "  plt.imshow(Z, interpolation=\"nearest\",\n",
        "            extent=(xx.min(), xx.max(), yy.min(), yy.max()),\n",
        "            cmap=plt.cm.Paired, aspect=\"auto\", origin=\"lower\")\n",
        "\n",
        "  plt.plot(reduced_data[:, 0], reduced_data[:, 1], 'k.', markersize=2)\n",
        "  # Plot the centroids as a white X\n",
        "  centroids = kmeans.cluster_centers_\n",
        "  plt.scatter(centroids[:, 0], centroids[:, 1], marker=\"x\", s=169, linewidths=3,\n",
        "              color=\"w\", zorder=10)\n",
        "  plt.title(title+ \" K-means clustering\"\n",
        "            \"Centroids are marked with white cross\")\n",
        "  plt.xlim(x_min, x_max)\n",
        "  plt.ylim(y_min, y_max)\n",
        "  plt.xticks(())\n",
        "  plt.yticks(())\n",
        "  plt.show()\n"
      ],
      "execution_count": null,
      "outputs": []
    },
    {
      "cell_type": "code",
      "metadata": {
        "id": "mxTE69T1smwV"
      },
      "source": [
        "n_clusters = 4\n",
        "use_PCA = False\n",
        "title = 'Not use PCA output;'\n",
        "plot_cluster_mesh(X[:,:2], n_clusters, use_PCA, title)\n",
        "\n"
      ],
      "execution_count": null,
      "outputs": []
    },
    {
      "cell_type": "code",
      "metadata": {
        "id": "lf9LIQgcsm5u"
      },
      "source": [
        "n_clusters = 4\n",
        "use_PCA = True\n",
        "title = 'use PCA output;'\n",
        "# TODO: add x_cols[:2]\n",
        "plot_cluster_mesh(X[:,:2], n_clusters, use_PCA, title)\n",
        "\n"
      ],
      "execution_count": null,
      "outputs": []
    },
    {
      "cell_type": "code",
      "metadata": {
        "id": "5CDc4s4Wt_dg"
      },
      "source": [
        "x_cols[:2]\n"
      ],
      "execution_count": null,
      "outputs": []
    },
    {
      "cell_type": "code",
      "metadata": {
        "id": "1_3WcMeo9FaA"
      },
      "source": [
        "# determine the optimal number of clusters;\n",
        "# apply Elbow method by plotting WCSS vs K \n",
        "def plot_kmeans_inertia(title, wcss):\n",
        "  plt.figure(figsize=(10,8))\n",
        "  plt.plot(range(1,num_clusters), wcss, marker='o', linestyle='--')\n",
        "  plt.xlabel('Number of Clusters')\n",
        "  plt.ylabel('WCSS')\n",
        "  plt.title(title)\n",
        "  plt.grid()\n",
        "  plt.show()\n",
        "\n",
        "def plot_elbow(data, title, num_clusters, random_state):\n",
        "  wcss = [] \n",
        "  for i in range(1, num_clusters):\n",
        "    kmeans = KMeans(n_clusters = i, init = 'k-means++', random_state=random_state)\n",
        "    kmeans.fit(data)\n",
        "    wcss.append(kmeans.inertia_)\n",
        "  plot_kmeans_inertia(title, wcss)\n",
        "\n",
        "\n"
      ],
      "execution_count": null,
      "outputs": []
    },
    {
      "cell_type": "code",
      "metadata": {
        "id": "Ct6LA6O6Zka6"
      },
      "source": [
        "title = 'K-Means without PCA'\n",
        "num_clusters = 27\n",
        "random_state_kmeans = 0\n",
        "plot_elbow(X, title, num_clusters, random_state_kmeans)"
      ],
      "execution_count": null,
      "outputs": []
    },
    {
      "cell_type": "code",
      "metadata": {
        "id": "tF16jNOxb973"
      },
      "source": [
        "title = f'K-Means using top {num_components_pca} components after PCA transform'\n",
        "num_clusters = 27\n",
        "random_state_kmeans = 0\n",
        "plot_elbow(pca_out, title, num_clusters, random_state_kmeans)"
      ],
      "execution_count": null,
      "outputs": []
    },
    {
      "cell_type": "markdown",
      "metadata": {
        "id": "SW9qQ7qVBY5r"
      },
      "source": [
        "From Elbow plot we can set final number of clusters as 4 where the WCSS starts decrease slower."
      ]
    },
    {
      "cell_type": "code",
      "metadata": {
        "id": "PDzhKQzmBlV4"
      },
      "source": [
        "# plot 3D of clusters \n",
        "from mpl_toolkits.mplot3d import Axes3D\n",
        "\n",
        "def plot_3d(X, opt_num_clusters, index_3d, axes_labels, title):\n",
        "\n",
        "  estimators = [('kmeans_opt_num_clusters', KMeans(n_clusters=opt_num_clusters))]\n",
        "\n",
        "  fignum = 1\n",
        "  for name, est in estimators:\n",
        "      fig = plt.figure(fignum, figsize=[8, 8])\n",
        "      ax = Axes3D(fig, rect=[0, 0, .95, 1], elev=48, azim=134)\n",
        "      est.fit(X)\n",
        "      labels = est.labels_\n",
        "\n",
        "      ax.scatter(X[:, index_3d[0]], X[:, index_3d[1]], X[:, index_3d[2]],\n",
        "                c=labels.astype(float), edgecolor='k')\n",
        "\n",
        "      ax.w_xaxis.set_ticklabels([])\n",
        "      ax.w_yaxis.set_ticklabels([])\n",
        "      ax.w_zaxis.set_ticklabels([])\n",
        "      ax.set_xlabel(axes_labels[0])\n",
        "      ax.set_ylabel(axes_labels[1])\n",
        "      ax.set_zlabel(axes_labels[2])\n",
        "      ax.set_title(title)\n",
        "      ax.dist = 12\n",
        "      fignum = fignum + 1\n",
        "  "
      ],
      "execution_count": null,
      "outputs": []
    },
    {
      "cell_type": "code",
      "metadata": {
        "id": "3Aav-WqoCdDt"
      },
      "source": [
        "# K-Means not using PCA outputs\n",
        "opt_num_clusters = 3\n",
        "title = f'{opt_num_clusters} cluster K-Means without using PCA outputs'\n",
        "index_3d = [0, 1, 2]\n",
        "plot_3d(X, opt_num_clusters, index_3d, x_cols, title)\n"
      ],
      "execution_count": null,
      "outputs": []
    },
    {
      "cell_type": "code",
      "metadata": {
        "id": "zGcHqVpJKrs9"
      },
      "source": [
        ""
      ],
      "execution_count": null,
      "outputs": []
    },
    {
      "cell_type": "code",
      "metadata": {
        "id": "vZIJfzsiMDPH"
      },
      "source": [
        "# plot 2d of clusters \n",
        "from mpl_toolkits.mplot3d import Axes3D\n",
        "\n",
        "def plot_2d(X, x_index_col, opt_num_clusters, axes_labels, title):\n",
        "  kmeans = KMeans(n_clusters = opt_num_clusters, init = \"k-means++\", random_state = 0)\n",
        "  y_kmeans = kmeans.fit_predict(X)\n",
        "  color_list = ['red', 'blue', 'green', 'yellow', 'violet']\n",
        "  plt.figure(figsize=(10,8))\n",
        "  for label in range(opt_num_clusters):\n",
        "    color = color_list[label]\n",
        "    x = X[y_kmeans == label, x_index_col[0]]\n",
        "    y = X[y_kmeans == label, x_index_col[1]]\n",
        "    plt.scatter(x, y, s = 60, c=color, label = f'Cluster{label}')\n",
        "  plt.scatter(kmeans.cluster_centers_[:, 0], kmeans.cluster_centers_[:, 1], s = 100, c = 'black', label = 'Centroids')\n",
        "  plt.xlabel(axes_labels[0]) \n",
        "  plt.ylabel(axes_labels[1]) \n",
        "  plt.legend() \n",
        "  plt.title(title)\n",
        "  plt.show()"
      ],
      "execution_count": null,
      "outputs": []
    },
    {
      "cell_type": "code",
      "metadata": {
        "id": "D2GHeblSNSX4"
      },
      "source": [
        "# 2-d plot of K-Means using PCA outputs\n",
        "index_col = [0, 1]\n",
        "opt_num_clusters = 3\n",
        "title = f'{opt_num_clusters} cluster K-Means using top {num_components_pca} components after PCA transform'\n",
        "axes_labels = [f'pca component {k}' for k in [1,2,3]]\n",
        "plot_2d(pca_out, index_col, opt_num_clusters, axes_labels, title)\n"
      ],
      "execution_count": null,
      "outputs": []
    },
    {
      "cell_type": "code",
      "metadata": {
        "id": "fsGi5PwkNYwL"
      },
      "source": [
        "# 2-d plot of K-Means not using PCA outputs\n",
        "index_col = [0, 1]\n",
        "opt_num_clusters = 3\n",
        "title = f'{opt_num_clusters} cluster K-Means not using PCA transform'\n",
        "plot_2d(pca_out, index_col, opt_num_clusters, x_cols, title)\n"
      ],
      "execution_count": null,
      "outputs": []
    },
    {
      "cell_type": "markdown",
      "metadata": {
        "id": "7MZTqB2GcvN3"
      },
      "source": [
        "DBSCAN\n"
      ]
    },
    {
      "cell_type": "code",
      "metadata": {
        "id": "OXgXgk9-duKV"
      },
      "source": [
        "check_data_dims()"
      ],
      "execution_count": null,
      "outputs": []
    },
    {
      "cell_type": "code",
      "metadata": {
        "id": "Bnxp-FHkd55G"
      },
      "source": [
        "# Use DBSCAN to estimate number of clusters\n",
        "from sklearn.cluster import DBSCAN\n",
        "from sklearn import metrics\n",
        "\n",
        "# Compute DBSCAN\n",
        "db = DBSCAN(eps=0.7, min_samples=20).fit(pca_out)\n",
        "core_samples_mask = np.zeros_like(db.labels_, dtype=bool)\n",
        "core_samples_mask[db.core_sample_indices_] = True\n",
        "labels = db.labels_\n",
        "\n",
        "# Number of clusters in labels, ignoring noise if present.\n",
        "n_clusters_ = len(set(labels)) - (1 if -1 in labels else 0)\n",
        "n_noise_ = list(labels).count(-1)\n",
        "\n",
        "print('Estimated number of clusters: %d' % n_clusters_)\n",
        "print('Estimated number of noise points: %d' % n_noise_)\n",
        "print(\"Silhouette Coefficient: %0.3f\"\n",
        "      % metrics.silhouette_score(X, labels))\n",
        "\n",
        "# Black removed and is used for noise instead.\n",
        "unique_labels = set(labels)\n",
        "for k in unique_labels:\n",
        "  print(k,np.sum(labels==k))\n",
        "\n",
        "print(f'unique_labels={unique_labels}, labels.shape={labels.shape}')\n",
        "colors = [plt.cm.Spectral(each)\n",
        "          for each in np.linspace(0, 1, len(unique_labels))]"
      ],
      "execution_count": null,
      "outputs": []
    },
    {
      "cell_type": "code",
      "metadata": {
        "id": "Kf2Lih1GNY2H"
      },
      "source": [
        "\n",
        "for k, col in zip(unique_labels, colors):\n",
        "    if k == -1:\n",
        "        # Black used for noise.\n",
        "        col = [0, 0, 0, 1]\n",
        "\n",
        "    class_member_mask = (labels == k)\n",
        "\n",
        "    xy = X[class_member_mask & core_samples_mask]\n",
        "    plt.plot(xy[:, 0], xy[:, 1], 'o', markerfacecolor=tuple(col),\n",
        "             markeredgecolor='k', markersize=14)\n",
        "\n",
        "    xy = X[class_member_mask & ~core_samples_mask]\n",
        "    plt.plot(xy[:, 0], xy[:, 1], 'o', markerfacecolor=tuple(col),\n",
        "             markeredgecolor='k', markersize=6)\n",
        "\n",
        "plt.title('Estimated number of clusters: %d' % n_clusters_)\n",
        "plt.show()"
      ],
      "execution_count": null,
      "outputs": []
    },
    {
      "cell_type": "code",
      "metadata": {
        "id": "Z16snsTXfhFa"
      },
      "source": [
        ""
      ],
      "execution_count": null,
      "outputs": []
    },
    {
      "cell_type": "markdown",
      "metadata": {
        "id": "HUlXEDtrWSWB"
      },
      "source": [
        "Decide number of clusters using Silhouette coefficients"
      ]
    },
    {
      "cell_type": "code",
      "metadata": {
        "id": "oIH_ToL3WcsH"
      },
      "source": [
        "def silhouette_cluster_number(X, title):\n",
        "  from sklearn.cluster import KMeans\n",
        "  from sklearn.metrics import silhouette_samples, silhouette_score\n",
        "\n",
        "  import matplotlib.pyplot as plt\n",
        "  import matplotlib.cm as cm\n",
        "  import numpy as np\n",
        "\n",
        "  print(__doc__)\n",
        "\n",
        "  range_n_clusters = [2, 3, 4, 5, 6]\n",
        "\n",
        "  for n_clusters in range_n_clusters:\n",
        "      # Create a subplot with 1 row and 2 columns\n",
        "      fig, (ax1, ax2) = plt.subplots(1, 2)\n",
        "      fig.set_size_inches(18, 7)\n",
        "\n",
        "      # The 1st subplot is the silhouette plot\n",
        "      # The silhouette coefficient can range from -1, 1 but in this example all\n",
        "      # lie within [-0.1, 1]\n",
        "      ax1.set_xlim([-0.1, 1])\n",
        "      # The (n_clusters+1)*10 is for inserting blank space between silhouette\n",
        "      # plots of individual clusters, to demarcate them clearly.\n",
        "      ax1.set_ylim([0, len(X) + (n_clusters + 1) * 10])\n",
        "\n",
        "      # Initialize the clusterer with n_clusters value and a random generator\n",
        "      # seed of 10 for reproducibility.\n",
        "      clusterer = KMeans(n_clusters=n_clusters, random_state=10)\n",
        "      cluster_labels = clusterer.fit_predict(X)\n",
        "\n",
        "      # The silhouette_score gives the average value for all the samples.\n",
        "      # This gives a perspective into the density and separation of the formed\n",
        "      # clusters\n",
        "      silhouette_avg = silhouette_score(X, cluster_labels)\n",
        "      print(\"For n_clusters =\", n_clusters,\n",
        "            \"The average silhouette_score is :\", silhouette_avg)\n",
        "\n",
        "      # Compute the silhouette scores for each sample\n",
        "      sample_silhouette_values = silhouette_samples(X, cluster_labels)\n",
        "\n",
        "      y_lower = 10\n",
        "      for i in range(n_clusters):\n",
        "          # Aggregate the silhouette scores for samples belonging to\n",
        "          # cluster i, and sort them\n",
        "          ith_cluster_silhouette_values = \\\n",
        "              sample_silhouette_values[cluster_labels == i]\n",
        "\n",
        "          ith_cluster_silhouette_values.sort()\n",
        "\n",
        "          size_cluster_i = ith_cluster_silhouette_values.shape[0]\n",
        "          y_upper = y_lower + size_cluster_i\n",
        "\n",
        "          color = cm.nipy_spectral(float(i) / n_clusters)\n",
        "          ax1.fill_betweenx(np.arange(y_lower, y_upper),\n",
        "                            0, ith_cluster_silhouette_values,\n",
        "                            facecolor=color, edgecolor=color, alpha=0.7)\n",
        "\n",
        "          # Label the silhouette plots with their cluster numbers at the middle\n",
        "          ax1.text(-0.05, y_lower + 0.5 * size_cluster_i, str(i))\n",
        "\n",
        "          # Compute the new y_lower for next plot\n",
        "          y_lower = y_upper + 10  # 10 for the 0 samples\n",
        "\n",
        "      ax1.set_title(\"The silhouette plot for the various clusters.\")\n",
        "      ax1.set_xlabel(\"The silhouette coefficient values\")\n",
        "      ax1.set_ylabel(\"Cluster label\")\n",
        "\n",
        "      # The vertical line for average silhouette score of all the values\n",
        "      ax1.axvline(x=silhouette_avg, color=\"red\", linestyle=\"--\")\n",
        "\n",
        "      ax1.set_yticks([])  # Clear the yaxis labels / ticks\n",
        "      ax1.set_xticks([-0.1, 0, 0.2, 0.4, 0.6, 0.8, 1])\n",
        "\n",
        "      # 2nd Plot showing the actual clusters formed\n",
        "      colors = cm.nipy_spectral(cluster_labels.astype(float) / n_clusters)\n",
        "      ax2.scatter(X[:, 0], X[:, 1], marker='.', s=30, lw=0, alpha=0.7,\n",
        "                  c=colors, edgecolor='k')\n",
        "\n",
        "      # Labeling the clusters\n",
        "      centers = clusterer.cluster_centers_\n",
        "      # Draw white circles at cluster centers\n",
        "      ax2.scatter(centers[:, 0], centers[:, 1], marker='o',\n",
        "                  c=\"white\", alpha=1, s=200, edgecolor='k')\n",
        "\n",
        "      for i, c in enumerate(centers):\n",
        "          ax2.scatter(c[0], c[1], marker='$%d$' % i, alpha=1,\n",
        "                      s=50, edgecolor='k')\n",
        "\n",
        "      ax2.set_title(\"The visualization of the clustered data.\")\n",
        "      ax2.set_xlabel(\"Feature space for the 1st feature\")\n",
        "      ax2.set_ylabel(\"Feature space for the 2nd feature\")\n",
        "\n",
        "      plt.suptitle((title + \" Silhouette analysis for KMeans \"\n",
        "                    \", n_clusters = %d\" % n_clusters),\n",
        "                  fontsize=14, fontweight='bold')\n",
        "\n",
        "  plt.show()"
      ],
      "execution_count": null,
      "outputs": []
    },
    {
      "cell_type": "code",
      "metadata": {
        "id": "A3yzNBGiYbt6"
      },
      "source": [
        "title = 'PCA output is used as input;'\n",
        "silhouette_cluster_number(pca_out, title)\n",
        "\n"
      ],
      "execution_count": null,
      "outputs": []
    },
    {
      "cell_type": "code",
      "metadata": {
        "id": "0EyDPSKSZEee"
      },
      "source": [
        "title = 'PCA not used;'\n",
        "silhouette_cluster_number(X, title)\n",
        "\n"
      ],
      "execution_count": null,
      "outputs": []
    },
    {
      "cell_type": "markdown",
      "metadata": {
        "id": "F4CFIQef3Jmo"
      },
      "source": [
        "\n",
        "> Indented block\n",
        "\n"
      ]
    },
    {
      "cell_type": "code",
      "metadata": {
        "id": "WwZTsJzB3334"
      },
      "source": [
        ""
      ],
      "execution_count": null,
      "outputs": []
    }
  ]
}