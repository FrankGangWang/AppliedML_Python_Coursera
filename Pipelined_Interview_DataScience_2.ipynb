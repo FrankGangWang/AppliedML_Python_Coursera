{
  "nbformat": 4,
  "nbformat_minor": 0,
  "metadata": {
    "colab": {
      "name": "Final Interview for DataScience - 2.ipynb",
      "provenance": [],
      "collapsed_sections": [],
      "include_colab_link": true
    },
    "kernelspec": {
      "display_name": "Python 3",
      "name": "python3"
    }
  },
  "cells": [
    {
      "cell_type": "markdown",
      "metadata": {
        "id": "view-in-github",
        "colab_type": "text"
      },
      "source": [
        "<a href=\"https://colab.research.google.com/github/FrankGangWang/AppliedML_Python_Coursera/blob/master/Pipelined_Interview_DataScience_2.ipynb\" target=\"_parent\"><img src=\"https://colab.research.google.com/assets/colab-badge.svg\" alt=\"Open In Colab\"/></a>"
      ]
    },
    {
      "cell_type": "markdown",
      "metadata": {
        "id": "rqlyZk0Z-kf0"
      },
      "source": [
        "**Interview questions to test data science skills**\n",
        "\n",
        "---\n",
        "\n",
        "\n"
      ]
    },
    {
      "cell_type": "markdown",
      "metadata": {
        "id": "1aR3yaVg-6FC"
      },
      "source": [
        "# Let's load the data from public GitHub account"
      ]
    },
    {
      "cell_type": "code",
      "metadata": {
        "id": "zMU3MFw0-ZRS",
        "colab": {
          "base_uri": "https://localhost:8080/"
        },
        "outputId": "a5407093-35b6-49db-aea7-4671552c0779"
      },
      "source": [
        "import pandas as pd\n",
        "\n",
        "# load data\n",
        "df = pd.read_pickle(\"https://github.com/manjiler/interview_for_datascience/raw/master/interview_storage.pkl\")\n",
        "\n",
        "# add sorted datetime index\n",
        "df['timestamp_seconds'] = df.pop('timestamp')/1000\n",
        "df['Datetime'] = pd.to_datetime(df['timestamp_seconds'], unit='s', origin='unix')\n",
        "               \n",
        "df.set_index(df['Datetime'], inplace=True)\n",
        "df.sort_index(inplace=True)\n",
        "\n",
        "df.columns"
      ],
      "execution_count": 5,
      "outputs": [
        {
          "output_type": "execute_result",
          "data": {
            "text/plain": [
              "Index(['systemId', 'model_type', 'cpu_utilization', 'read_cache_miss',\n",
              "       'write_cache_miss', 'read_iops', 'write_iops', 'read_throughput',\n",
              "       'write_throughput', 'read_iosz', 'write_iosz', 'timestamp_seconds',\n",
              "       'Datetime'],\n",
              "      dtype='object')"
            ]
          },
          "metadata": {
            "tags": []
          },
          "execution_count": 5
        }
      ]
    },
    {
      "cell_type": "code",
      "metadata": {
        "id": "vy_BPP7hdQOd"
      },
      "source": [
        "# RUN to add some artificial features maybe useful for classification\n",
        "# add sin/cos for day/hour\n",
        "# To help finding time periodicity (hourly/daily/weekly/monthly/yearly), \n",
        "#    add additional features like \"time of day/week\" by appling cos and sin to timestamp_seconds \n",
        "# time constants in seconds\n",
        "import numpy as np\n",
        "hour = 60*60\n",
        "day = 24*hour\n",
        "week = 7*day\n",
        "\n",
        "df['Hour_Sin'] = np.sin(df['timestamp_seconds'] * (2 * np.pi / hour))\n",
        "df['Hour_Cos'] = np.cos(df['timestamp_seconds'] * (2 * np.pi / hour))\n",
        "df['Day_Sin'] = np.sin(df['timestamp_seconds'] * (2 * np.pi / day))\n",
        "df['Day_Cos'] = np.cos(df['timestamp_seconds'] * (2 * np.pi / day))\n",
        "week_offset = 3*day # as epoch 0 is Thursday 1970-01-01, and leap seconds 23:59:60\n",
        "df['Week_Sin'] = np.sin((df['timestamp_seconds']+week_offset) * (2 * np.pi / week))\n",
        "df['Week_Cos'] = np.cos((df['timestamp_seconds']+week_offset) * (2 * np.pi / week))\n",
        "\n",
        "\n",
        "print(df.head())\n",
        "\n",
        "print(df.shape, df.index.shape, df.columns)\n"
      ],
      "execution_count": null,
      "outputs": []
    },
    {
      "cell_type": "code",
      "metadata": {
        "colab": {
          "base_uri": "https://localhost:8080/"
        },
        "id": "K5ARXTz9ceI7",
        "outputId": "a80a783b-3fe1-4a6c-d6b8-cf331bf3655e"
      },
      "source": [
        "# pipeline of preprocessing, model\n",
        "from sklearn.compose import ColumnTransformer\n",
        "from sklearn.pipeline import Pipeline\n",
        "from sklearn.preprocessing import StandardScaler, OneHotEncoder\n",
        "from sklearn.preprocessing import PowerTransformer\n",
        "from sklearn.linear_model import LinearRegression, Ridge, Lasso\n",
        "from sklearn.model_selection import train_test_split, GridSearchCV\n",
        "\n",
        "y_column = ['cpu_utilization']\n",
        "X_columns = list(df.columns.values)\n",
        "X_columns.remove(y_column[0])\n",
        "print(type(X_columns), X_columns)\n",
        "\n",
        "SYSTEM_ID_USED = 'sys1'\n",
        "MODEL_SINGLE_SYSTEM = True\n",
        "\n",
        "if MODEL_SINGLE_SYSTEM:\n",
        "  dftmp = df[df['systemId']==SYSTEM_ID_USED]\n",
        "  y = dftmp[y_column].copy()\n",
        "  X = dftmp[X_columns].copy()\n",
        "else: \n",
        "  y = df[y_column].copy()\n",
        "  X = df[X_columns].copy()\n",
        "\n",
        "\n",
        "print(f'X.shape = {X.shape}, y.shape={y.shape}')\n",
        "print(f'X.columns={X.columns}')\n",
        "print(f'X.head =\\n{X.head()}')\n",
        "print(f'y.head =\\n{y.head()}')\n",
        "print(X.describe().T)\n"
      ],
      "execution_count": 70,
      "outputs": [
        {
          "output_type": "stream",
          "text": [
            "<class 'list'> ['systemId', 'model_type', 'read_cache_miss', 'write_cache_miss', 'read_iops', 'write_iops', 'read_throughput', 'write_throughput', 'read_iosz', 'write_iosz', 'timestamp_seconds', 'Datetime', 'Hour_Sin', 'Hour_Cos', 'Day_Sin', 'Day_Cos', 'Week_Sin', 'Week_Cos']\n",
            "X.shape = (7926, 18), y.shape=(7926, 1)\n",
            "X.columns=Index(['systemId', 'model_type', 'read_cache_miss', 'write_cache_miss',\n",
            "       'read_iops', 'write_iops', 'read_throughput', 'write_throughput',\n",
            "       'read_iosz', 'write_iosz', 'timestamp_seconds', 'Datetime', 'Hour_Sin',\n",
            "       'Hour_Cos', 'Day_Sin', 'Day_Cos', 'Week_Sin', 'Week_Cos'],\n",
            "      dtype='object')\n",
            "X.head =\n",
            "                    systemId model_type  ...  Week_Sin  Week_Cos\n",
            "Datetime                                 ...                    \n",
            "2019-11-01 04:25:00     sys1          A  ... -0.576127 -0.817360\n",
            "2019-11-01 04:30:00     sys1          A  ... -0.578671 -0.815561\n",
            "2019-11-01 04:35:00     sys1          A  ... -0.581210 -0.813753\n",
            "2019-11-01 04:40:00     sys1          A  ... -0.583744 -0.811938\n",
            "2019-11-01 04:45:00     sys1          A  ... -0.586271 -0.810115\n",
            "\n",
            "[5 rows x 18 columns]\n",
            "y.head =\n",
            "                     cpu_utilization\n",
            "Datetime                            \n",
            "2019-11-01 04:25:00        23.083557\n",
            "2019-11-01 04:30:00        18.258795\n",
            "2019-11-01 04:35:00        17.899469\n",
            "2019-11-01 04:40:00        20.296371\n",
            "2019-11-01 04:45:00        18.300312\n",
            "                    count          mean  ...           75%           max\n",
            "read_cache_miss    7926.0  4.245299e+01  ...  5.017609e+01  7.910313e+01\n",
            "write_cache_miss   7926.0  7.092074e+01  ...  7.776491e+01  9.765615e+01\n",
            "read_iops          7926.0  2.667149e+04  ...  3.177174e+04  6.453898e+04\n",
            "write_iops         7926.0  1.797165e+04  ...  2.227595e+04  4.238536e+04\n",
            "read_throughput    7926.0  1.128908e+06  ...  1.338059e+06  3.673570e+06\n",
            "write_throughput   7926.0  3.464799e+05  ...  4.323913e+05  3.154118e+06\n",
            "read_iosz          7926.0  4.436458e+01  ...  5.077839e+01  1.667199e+02\n",
            "write_iosz         7926.0  2.001211e+01  ...  2.270673e+01  1.584438e+02\n",
            "timestamp_seconds  7926.0  1.573836e+09  ...  1.574463e+09  1.575158e+09\n",
            "Hour_Sin           7926.0 -3.615980e-04  ...  7.745191e-01  1.000000e+00\n",
            "Hour_Cos           7926.0 -1.554442e-04  ...  5.000000e-01  1.000000e+00\n",
            "Day_Sin            7926.0 -1.170462e-02  ...  7.071068e-01  1.000000e+00\n",
            "Day_Cos            7926.0 -1.368651e-02  ...  6.915131e-01  1.000000e+00\n",
            "Week_Sin           7926.0 -1.097173e-01  ...  5.981992e-01  1.000000e+00\n",
            "Week_Cos           7926.0  1.138736e-02  ...  6.847288e-01  1.000000e+00\n",
            "\n",
            "[15 rows x 8 columns]\n"
          ],
          "name": "stdout"
        }
      ]
    },
    {
      "cell_type": "code",
      "metadata": {
        "colab": {
          "base_uri": "https://localhost:8080/"
        },
        "id": "_RHAd0ydbKmG",
        "outputId": "63ac770d-b3ea-4d7a-bd26-77a3dd52dab7"
      },
      "source": [
        "numeric_features = ['read_cache_miss', 'write_cache_miss', 'read_iops', 'write_iops', \n",
        "                            'read_throughput', 'write_throughput', 'read_iosz', 'write_iosz']\n",
        "\n",
        "categorical_features = ['systemId', 'model_type']\n",
        "\n",
        "time_features = [ 'timestamp_seconds', 'Hour_Sin', 'Hour_Cos', 'Day_Sin', 'Day_Cos', 'Week_Sin', 'Week_Cos']\n",
        "\n",
        "numeric_transformer = Pipeline(\n",
        "  steps = [\n",
        "    ('power_transformer', PowerTransformer(method='box-cox', standardize=False)), \n",
        "    ('scaler', StandardScaler())\n",
        "    ]\n",
        ")\n",
        "\n",
        "time_transformer = Pipeline(\n",
        "  steps = [\n",
        "    ('scaler', StandardScaler())\n",
        "    ]\n",
        ")\n",
        "\n",
        "\n",
        "categorical_transformer = OneHotEncoder(handle_unknown='ignore')\n",
        "\n",
        "preprocessor = ColumnTransformer(\n",
        "    transformers=[\n",
        "        ('numeric_transformer', numeric_transformer, numeric_features),\n",
        "        ('time_transformer', time_transformer, time_features),\n",
        "        ('categorical_transformer', categorical_transformer, categorical_features)],\n",
        "        remainder='drop', verbose=False\n",
        ")\n",
        "\n",
        "# Append regressor to preprocessing pipeline.\n",
        "# Now we have a full prediction pipeline.\n",
        "linear_regressor = Pipeline(\n",
        "    steps=[\n",
        "      ('preprocessor', preprocessor),\n",
        "      #('ridge_regressor', Ridge())\n",
        "      #('lasso_regressor', Lasso(alpha=0.01))\n",
        "      ('linear_regressor', LinearRegression())\n",
        "    ]\n",
        ")\n",
        "\n",
        "y_transformer = Pipeline(\n",
        "  steps = [\n",
        "    ('power_transformer', PowerTransformer(method='box-cox', standardize=False)), \n",
        "    ('scaler', StandardScaler())\n",
        "    ]\n",
        ")\n",
        "\n",
        "X_train, X_test, y_train, y_test = train_test_split(X, y, test_size=0.2,\n",
        "                                                    shuffle=False, random_state=0)\n",
        "\n",
        "# MUST only train with y_train then transform\n",
        "y_train_transformed = y_transformer.fit_transform(y_train)\n",
        "y_test_transformed = y_transformer.transform(y_test)\n",
        "\n",
        "\n",
        "linear_regressor.fit(X_train, y_train_transformed)\n",
        "\n",
        "print(\"model score: %.3f\" % linear_regressor.score(X_test, y_test_transformed))\n",
        "print(f'type(X)={type(X)}, type(y)={type(y)}, type(X_train)={type(X_train)}, type(y_train)={type(y_train)}' )\n"
      ],
      "execution_count": 71,
      "outputs": [
        {
          "output_type": "stream",
          "text": [
            "model score: 0.927\n",
            "type(X)=<class 'pandas.core.frame.DataFrame'>, type(y)=<class 'pandas.core.frame.DataFrame'>, type(X_train)=<class 'pandas.core.frame.DataFrame'>, type(y_train)=<class 'pandas.core.frame.DataFrame'>\n"
          ],
          "name": "stdout"
        }
      ]
    },
    {
      "cell_type": "markdown",
      "metadata": {
        "id": "IaYvVK_Dnbml"
      },
      "source": [
        "1. w/o power transformer: model score: 0.934\n",
        "2. w/ power transformer: model scroe: 0.931\n",
        "3. w/ power transformer and time_transformer: model scroe: 0.933\n",
        "4. w/ target y transformed,: model score: 0.970\n"
      ]
    },
    {
      "cell_type": "code",
      "metadata": {
        "colab": {
          "base_uri": "https://localhost:8080/",
          "height": 731
        },
        "id": "b6YtzmPfjacY",
        "outputId": "dcfce636-64db-417a-b2e6-12e7ec2df9ad"
      },
      "source": [
        "import matplotlib.pyplot as plt\n",
        "y_predicted = linear_regressor.predict(X_test)\n",
        "\n",
        "plt.figure()\n",
        "plt.plot(y_test_transformed, y_predicted, '+')\n",
        "fig = plt.gcf()\n",
        "fig.set_size_inches(6, 6)\n",
        "plt.grid()\n",
        "\n",
        "y_predicted_inversed = y_transformer.inverse_transform(y_predicted)\n",
        "\n",
        "plt.figure()\n",
        "plt.plot(y_test, y_predicted_inversed, '+')\n",
        "fig = plt.gcf()\n",
        "fig.set_size_inches(6, 6)\n",
        "plt.grid()"
      ],
      "execution_count": 72,
      "outputs": [
        {
          "output_type": "display_data",
          "data": {
            "image/png": "[encoded data removed]",
            "text/plain": [
              "<Figure size 432x432 with 1 Axes>"
            ]
          },
          "metadata": {
            "tags": [],
            "needs_background": "light"
          }
        },
        {
          "output_type": "display_data",
          "data": {
            "image/png": "[encoded data removed]",
            "text/plain": [
              "<Figure size 432x432 with 1 Axes>"
            ]
          },
          "metadata": {
            "tags": [],
            "needs_background": "light"
          }
        }
      ]
    },
    {
      "cell_type": "code",
      "metadata": {
        "id": "7O2dZQr8jaii"
      },
      "source": [
        ""
      ],
      "execution_count": null,
      "outputs": []
    },
    {
      "cell_type": "code",
      "metadata": {
        "id": "xUwopRSMjaps"
      },
      "source": [
        ""
      ],
      "execution_count": null,
      "outputs": []
    },
    {
      "cell_type": "code",
      "metadata": {
        "id": "W3GUSHarhU1w"
      },
      "source": [
        "import matplotlib.pyplot as plt\n",
        "plt.plot(y.values, df['cpu_utilization'].values)\n"
      ],
      "execution_count": null,
      "outputs": []
    },
    {
      "cell_type": "code",
      "metadata": {
        "id": "hZyfti_xtCOe"
      },
      "source": [
        "# optional TODO\n",
        "df['Year'] = df['Datetime'].dt.year  #The year of datetime\n",
        "df['Month_Of_Year'] = df['Datetime'].dt.month #The month as January=1, December=12\n",
        "df['Week_Of_Year'] = df['Datetime'].dt.week #The week ordinal of the year\n",
        "df['Day_Of_Datetime'] = df['Datetime'].dt.day #The days of the datetime\n",
        "df['Hours_Of_Datetime'] = df['Datetime'].dt.hour #The hours of the datetime\n",
        "df['Minutes_Of_Datetime'] = df['Datetime'].dt.minute #The minutes of the datetime\n",
        "\n",
        "# The day of the week with Monday=0, Sunday=6\n",
        "# TODO: convert the dayofweek into a categorical variable via one-hot encoding\n",
        "df['Day_Of_Week'] = df['Datetime'].dt.dayofweek  "
      ],
      "execution_count": null,
      "outputs": []
    },
    {
      "cell_type": "markdown",
      "metadata": {
        "id": "onnuDSHstDGV"
      },
      "source": [
        "To avoid data leakage, split df into train set and test set;\n",
        "1. train set is used for training and cross validation (TimeSeriesSplit)\n",
        "2. test set is used for final sanity check of model\n",
        "\n",
        "Design a pipeline that includes all data preparations including \n",
        "-- standarization, transformation, normalization\n",
        "-- feature selection\n",
        "-- encoding, feature scaling, dimension reduction\n",
        "\n",
        "\n",
        "\n"
      ]
    },
    {
      "cell_type": "code",
      "metadata": {
        "id": "GgUhtf1FShce"
      },
      "source": [
        "names = ['Year', 'Month_Of_Year', 'Week_Of_Year', 'Day_Of_Datetime',\n",
        "       'Hours_Of_Datetime', 'Minutes_Of_Datetime', 'Day_Of_Week']\n",
        "for name in names:\n",
        "  num = np.unique(df[name])\n",
        "  print(f'The feature {name} has {len(num)} unique values: {num}')\n"
      ],
      "execution_count": null,
      "outputs": []
    },
    {
      "cell_type": "code",
      "metadata": {
        "id": "gHtPl5RSEzAu"
      },
      "source": [
        "#names = ['year', 'month', 'week', 'day', 'hour', 'minute', 'dayofweek']\n",
        "for name in df.columns.values:\n",
        "  num = np.unique(df[name])\n",
        "  print(f'The feature {name} has {len(num)} unique values: {num}')\n",
        "  if len(num)==1:\n",
        "    print(f'***** Warning: The feature {name} is deletd as it only has a single unique value {num}')\n",
        "    del df[name]\n",
        "df.columns \n"
      ],
      "execution_count": null,
      "outputs": []
    },
    {
      "cell_type": "code",
      "metadata": {
        "id": "Vs8eiUT6tvcg"
      },
      "source": [
        "df.head()"
      ],
      "execution_count": null,
      "outputs": []
    },
    {
      "cell_type": "code",
      "metadata": {
        "id": "o0fapiaktxdz"
      },
      "source": [
        "df[df['systemId']=='sys1'].head()"
      ],
      "execution_count": null,
      "outputs": []
    },
    {
      "cell_type": "code",
      "metadata": {
        "id": "pSHBiAYRteC9"
      },
      "source": [
        "# Define Constants\n",
        "import numpy as np\n",
        "import datetime\n",
        "import math\n",
        "import matplotlib.pyplot as plt\n",
        "\n",
        "SYSTEM_ID_SELECTED = ['sys1'] # ['sys1'] or ['All']\n",
        "TEST_SIZE = 0.2 # Not yet used\n",
        "USE_TIME_TRANSFORMED = True \n",
        "\n",
        "# We separately process sub-sets of columns and concatenate them in a numpy array called data \n",
        "target_col = ['cpu_utilization']\n",
        "numerical_transform_cols = ['read_cache_miss', 'write_cache_miss', 'read_iops', 'write_iops',\n",
        "                            'read_throughput', 'write_throughput', 'read_iosz', 'write_iosz']\n",
        "time_col = ['timestamp_seconds']\n",
        "time_transformed_cols = ['Week_Sin', 'Week_Cos', 'Day_Sin', 'Day_Cos', 'Hour_Sin', 'Hour_Cos']\n",
        "cols_to_encode = ['systemId', 'model_type']\n",
        "\n",
        "#AS timestamp_seconds is appended after numerical_transform_cols are added to data\n",
        "# As feature selection can be RFE thus standarize/normalize data first;\n",
        "# Feature selection also cause time poition dymanic thus need be decided after all feature selection\n",
        "Y_INDEX_DATA = 0 # index of target in data\n",
        "X_FIRST_INDEX_DATA = 1 # first index in data for X\n",
        "\n",
        "data_cols = []\n",
        "df.describe().T"
      ],
      "execution_count": null,
      "outputs": []
    },
    {
      "cell_type": "code",
      "metadata": {
        "id": "sbq-3PQo0XLj"
      },
      "source": [
        "# Basic checking and basic stats\n",
        "# check NA for need of imputation\n",
        "print(f'*** There are {df.isna().sum().sum()} NA data')\n",
        "print(df.info())\n",
        "print(df[df['systemId']==SYSTEM_ID_SELECTED[0]].loc[:, ['systemId', 'model_type', 'cpu_utilization']] .tail(5))\n",
        "print(df[df['systemId']==SYSTEM_ID_SELECTED[0]].loc[:, ['systemId', 'model_type', 'cpu_utilization']] .head(5))\n"
      ],
      "execution_count": null,
      "outputs": []
    },
    {
      "cell_type": "code",
      "metadata": {
        "id": "bUgoar1zmGno"
      },
      "source": [
        "# Run: check time series's time is continuous or not\n",
        "# plot timestamp_seconds against target y cpu_utilization;\n",
        "def plot_time_y(df):\n",
        "  num_figs= 4\n",
        "  dftmp = df[df['systemId']==SYSTEM_ID_SELECTED[0]].loc[:, ['timestamp_seconds', 'cpu_utilization']]\n",
        "  t = df[df['systemId']==SYSTEM_ID_SELECTED[0]].loc[:, ['timestamp_seconds']].values/60\n",
        "  plt.figure()\n",
        "\n",
        "  plt.subplot(num_figs,1,1)\n",
        "  plt.plot( dftmp.index[1:], t[1:], 'g+')\n",
        "  plt.grid()\n",
        "  plt.ylabel('time in minutes')\n",
        "\n",
        "  t = t[1:]- t[0:-1] # time difference\n",
        "  plt.subplot(num_figs,1,2)\n",
        "  plt.plot(dftmp.index[1:], t, 'g-+')\n",
        "  plt.ylabel(f'time interval (minutes)')\n",
        "  ax = plt.gca()\n",
        "  ax.legend([f'min={t.min()}, max={t.max()}, mean={t.mean()}'], fontsize='large')\n",
        "  plt.grid()\n",
        "\n",
        "  num_days = 7\n",
        "  stop_index = int(num_days*24*60/5)\n",
        "  plt.subplot(num_figs,1,3)\n",
        "  plt.plot(dftmp.index, dftmp['cpu_utilization'].values)\n",
        "  plt.plot(dftmp.index[:stop_index], dftmp['cpu_utilization'].values[:stop_index], 'g-+')\n",
        "  plt.ylabel('cpu_utilization')\n",
        "  plt.grid()\n",
        "\n",
        "  plt.subplot(num_figs,1,4)\n",
        "  plt.plot(dftmp.index[:stop_index], dftmp['cpu_utilization'].values[:stop_index], 'g-+')\n",
        "  plt.ylabel('cpu_utilization')\n",
        "  ax = plt.gca()\n",
        "  ax.legend([f'zoomed in above figure'], fontsize='large')\n",
        "  plt.grid()\n",
        "\n",
        "  fig = plt.gcf()\n",
        "  fig.set_size_inches(18.5, num_figs*3)\n",
        "  fig.suptitle(f'time series check: min interval={t.min()}, max interval={t.max()}')\n",
        "  plt.tight_layout() # 2nd last step in fig setting\n",
        "  fig.subplots_adjust(top=0.88) # last in fig setting\n",
        "  plt.show()\n"
      ],
      "execution_count": null,
      "outputs": []
    },
    {
      "cell_type": "code",
      "metadata": {
        "id": "DaEgR5YAMtw4"
      },
      "source": [
        "plot_time_y(df)  "
      ],
      "execution_count": null,
      "outputs": []
    },
    {
      "cell_type": "code",
      "metadata": {
        "id": "WGy2QJDDyNag"
      },
      "source": [
        "# plot simple predictor as y[n]=y[n-1] cpu_utilization with decimation by D\n",
        "def plot_baseline_1step_predictor(D, df, systemId):\n",
        "\n",
        "  num_figs = 3\n",
        "  df = df[df['systemId']==systemId[0]].loc[:, ['timestamp_seconds', 'cpu_utilization']]\n",
        "  L = len(df)\n",
        "\n",
        "  plt.figure()\n",
        "  plt.plot( df['cpu_utilization'][0:L-1:D].values, df['cpu_utilization'][1:L:D].values, 'g+')\n"
      ],
      "execution_count": null,
      "outputs": []
    },
    {
      "cell_type": "code",
      "metadata": {
        "id": "jM_bFZh_yawm"
      },
      "source": [
        "plot_baseline_1step_predictor(1, df, SYSTEM_ID_SELECTED)"
      ],
      "execution_count": null,
      "outputs": []
    },
    {
      "cell_type": "code",
      "metadata": {
        "id": "yndckIz7w2JE"
      },
      "source": [
        "# plot y cpu_utilization with decimation by D\n",
        "def plot_y_decimated(D, df, systemId):\n",
        "  num_figs = 3\n",
        "  df = df[df['systemId']==systemId[0]].loc[:, ['timestamp_seconds', 'cpu_utilization']]\n",
        "  L = len(df)\n",
        "  plt.figure()\n",
        "  plt.subplot(num_figs,1,1)\n",
        "  y_diff = df['cpu_utilization'][1:L:D].values - df['cpu_utilization'][:L-1:D].values\n",
        "\n",
        "  plt.plot( df.index[1:L:D], df['cpu_utilization'][1:L:D].values, '-+', label='cpu_utilization')\n",
        "  plt.plot( df.index[1:L:D], y_diff, 'g-+', label='delta cpu_utilization')\n",
        "  plt.legend()\n",
        "\n",
        "  plt.subplot(num_figs,1,2)\n",
        "  plt.plot( df.index[1:L:D], df['cpu_utilization'][0:L-1:D].values, '-+', label='cpu_utilization')\n",
        "  plt.plot( df.index[1:L:D], df['cpu_utilization'][1:L:D].values, 'g-+', label='lag 1 cpu_utilization')\n",
        "  plt.legend()\n",
        "\n",
        "  plt.subplot(num_figs,1,3)\n",
        "  plt.plot( df.index[1:L:D], 100*y_diff/df['cpu_utilization'][1:L:D].values, '-+', label='cpu_utilization delta in percent')\n",
        "  plt.legend()\n",
        "\n",
        "  fig = plt.gcf()\n",
        "  fig.set_size_inches(18.5, 3*num_figs)\n",
        "  ax = plt.gca()\n",
        "  ax.grid()\n"
      ],
      "execution_count": null,
      "outputs": []
    },
    {
      "cell_type": "code",
      "metadata": {
        "id": "nAmUnIhL0ID0"
      },
      "source": [
        "D = 1 # decimate by D*5 mins\n",
        "plot_y_decimated(D, df, SYSTEM_ID_SELECTED)\n"
      ],
      "execution_count": null,
      "outputs": []
    },
    {
      "cell_type": "code",
      "metadata": {
        "id": "2lkYJ3UXxN-P"
      },
      "source": [
        "df.shape, "
      ],
      "execution_count": null,
      "outputs": []
    },
    {
      "cell_type": "markdown",
      "metadata": {
        "id": "QoT_jbnGLYHX"
      },
      "source": [
        "It is not a strict time series data as can be shown with time interval between adjacent samples are not always same (though mostly 5 minutes).\n",
        "So, it cannot be modelled with ARIMA-like methods.\n"
      ]
    },
    {
      "cell_type": "markdown",
      "metadata": {
        "id": "ANYv7bdPEdpX"
      },
      "source": [
        "## Now that the data is loaded. let's begin!!!\n",
        "\n",
        "# **About the data**\n",
        "\n",
        "---\n",
        "This is time series data for one month collected for N number of devices\n",
        "\n",
        "12 Columns\n",
        "\n",
        "systemId - Device name\n",
        "\n",
        "timestamp_seconds - epoch time when the sensor data was collected\n",
        "\n",
        "model_type - Different versions/release/model of the device (similar to mobile models)\n",
        "\n",
        "cpu_utilization - this percentage of how much the CPU is used on the device.\n",
        "\n",
        "read_cache_miss - Percentage of read that were not present in the Cache\n",
        "\n",
        "write_cache_miss - Percentage of write that were not present in the Cache\n",
        "\n",
        "read_iops -  Number of read IOs per second (Input/Output)\n",
        "\n",
        "write_iops -  Nummber of write IOs per second (Input/Output)\n",
        "\n",
        "read_throughput - the read bandwidth per second (Units kbps)\n",
        "\n",
        "write_throughput - the write bandwidth per second (Units kbps)\n",
        "\n",
        "read_iosz - the block size for read Input/Output operations\n",
        "\n",
        "write_iosz - the block size for write Input/Output operations\n",
        "\n",
        "\n",
        "y -> cpu_utilization\n",
        "\n"
      ]
    },
    {
      "cell_type": "code",
      "metadata": {
        "id": "_Q8r1IWOAKIQ"
      },
      "source": [
        "df.head()"
      ],
      "execution_count": null,
      "outputs": []
    },
    {
      "cell_type": "markdown",
      "metadata": {
        "id": "yw8r7vKGEklC"
      },
      "source": [
        "## Q1. Do an EDA on the data, correlation plots, features that might be important for the modeling. Share your observations. Comment on how the data looks from modeling perspective"
      ]
    },
    {
      "cell_type": "code",
      "metadata": {
        "id": "Y479tMw7kg3v"
      },
      "source": [
        ""
      ],
      "execution_count": null,
      "outputs": []
    },
    {
      "cell_type": "code",
      "metadata": {
        "id": "g8qb3jEoy3Ow"
      },
      "source": [
        "# plot utilities\n",
        "def plot_corr(df_tmp, systemId_selected):\n",
        "  import seaborn as sns\n",
        "  if systemId_selected[0] != 'All':\n",
        "    df_tmp = df_tmp[df_tmp['systemId']==systemId_selected[0]]\n",
        "  sns.set_theme(style=\"white\")\n",
        "  # Compute the correlation matrix\n",
        "  corr = df_tmp.corr()\n",
        "  corr_y = corr['cpu_utilization']\n",
        "  corr_y = corr_y.sort_values(ascending=False)\n",
        "  f, ax = plt.subplots(figsize=(15, 5))\n",
        "  corr_y.plot.bar(rot=60)\n",
        "  print(corr_y)\n",
        "  \n",
        "  # Generate a mask for the upper triangle\n",
        "  mask = np.triu(np.ones_like(corr, dtype=bool))\n",
        "  # Set up the matplotlib figure\n",
        "  f, ax = plt.subplots(figsize=(15, 9))\n",
        "  # Generate a custom diverging colormap\n",
        "  cmap = sns.diverging_palette(230, 20, as_cmap=True)\n",
        "  # Draw the heatmap with the mask and correct aspect ratio\n",
        "  sns.heatmap(corr, mask=mask, cmap=cmap, vmax=.9, center=0, square=True, linewidths=.5, cbar_kws={\"shrink\": .5})\n",
        "  f.suptitle(f'systemId {systemId_selected[0]}')"
      ],
      "execution_count": null,
      "outputs": []
    },
    {
      "cell_type": "code",
      "metadata": {
        "id": "QRThy7dPzSt9"
      },
      "source": [
        "# RUN: plot hist\n",
        "# Conclusion: a few columns are far from Gaussian distribution\n",
        "plot_corr(df, SYSTEM_ID_SELECTED)"
      ],
      "execution_count": null,
      "outputs": []
    },
    {
      "cell_type": "code",
      "metadata": {
        "id": "vJA_mJCcySNb"
      },
      "source": [
        "# plot histogram of systemId_selected\n",
        "def plot_df_hist(df_tmp, systemId_selected, title_str, cols, bins):\n",
        "  if systemId_selected[0] != 'All':\n",
        "    df_tmp = df_tmp[df_tmp['systemId']==systemId_selected[0]]\n",
        "  df_tmp = df_tmp[cols]\n",
        "  df_tmp.hist(bins=bins)\n",
        "  fig = plt.gcf()\n",
        "  fig.set_size_inches(18, 8)\n",
        "  fig.suptitle(f'{title_str}, systemId {systemId_selected[0]}')\n",
        "  plt.tight_layout()\n",
        "  fig.subplots_adjust(top=0.9)\n",
        "\n",
        "# utility hist2d plot xcols against target ycol\n",
        "def hist2d_plot(df_temp, systemId, xcols, ycol, xbins, ybins, vmax):\n",
        "  print(f\"hist2d_plot 1 Initial address of df_temp: {id(df_temp)}, shape={df_temp.shape}\")\n",
        "  if systemId != 'All': \n",
        "    df_temp = df[df['systemId']==systemId[0]]\n",
        "  print(f\"hist2d_plot 2 Initial address of df_temp: {id(df_temp)}, shape={df_temp.shape}\")\n",
        "  print(df_temp.shape)\n",
        "  len_x = len(xcols)\n",
        "  num_rows = math.ceil(math.sqrt(len_x))\n",
        "  num_cols = math.ceil(len_x/num_rows)\n",
        "  x_index = 0\n",
        "  for row in range(num_rows):\n",
        "    for col in range(num_cols):\n",
        "      if x_index == len_x:\n",
        "        break\n",
        "      plt.subplot(num_rows, num_cols, x_index+1)\n",
        "      plt.hist2d(df_temp[xcols[x_index]], df_temp[ycol], bins=[xbins, ybins], vmax=vmax) #\n",
        "      plt.colorbar()\n",
        "      plt.xlabel(xcols[x_index])\n",
        "      plt.ylabel(ycol)\n",
        "      x_index = x_index + 1\n",
        "  fig = plt.gcf()\n",
        "  fig.set_size_inches(18.5, 3*num_rows)\n",
        "  fig.suptitle(f'systemId={systemId}')\n",
        "  plt.tight_layout() # 2nd last step in fig setting\n",
        "  fig.subplots_adjust(top=0.88) # last in fig setting\n",
        "  plt.show()\n"
      ],
      "execution_count": null,
      "outputs": []
    },
    {
      "cell_type": "code",
      "metadata": {
        "id": "edyDh42I8B-T"
      },
      "source": [
        "\n",
        "title_str = 'Before transformation!'\n",
        "plot_df_hist(df, SYSTEM_ID_SELECTED, title_str, df.columns, 30)\n",
        "#NOTE: Hour_Sin AND Hour_Cos have only 7 distinct bins at [0, 30, 60, 90, -30, -60, -90] degress as \n",
        "# as sampling perid=5 minutes, thus 2pi*5min/60min=pi/6=30degree"
      ],
      "execution_count": null,
      "outputs": []
    },
    {
      "cell_type": "markdown",
      "metadata": {
        "id": "tOwZ76uV-RDA"
      },
      "source": [
        "The histograms show that we need apply normalization and power transformation\n"
      ]
    },
    {
      "cell_type": "code",
      "metadata": {
        "id": "YtyLQmcWebEX"
      },
      "source": [
        "#Plot hist2d: xcols against target ycol\n",
        "vmax = 100; xbins = 50; ybins = 50\n",
        "ycol = 'cpu_utilization'\n",
        "xcols_group = [\n",
        "  ['read_cache_miss', 'write_cache_miss', 'read_iops', 'write_iops'],\n",
        "  ['read_throughput', 'write_throughput', 'read_iosz', 'write_iosz'],\n",
        "  ['Week_Sin', 'Week_Cos', 'Day_Sin', 'Day_Cos', 'Hour_Sin', 'Hour_Cos']]\n",
        "for xcols in xcols_group:\n",
        "  hist2d_plot(df, SYSTEM_ID_SELECTED, xcols, ycol, xbins, ybins, vmax)"
      ],
      "execution_count": null,
      "outputs": []
    },
    {
      "cell_type": "markdown",
      "metadata": {
        "id": "aX2yFbs00w8M"
      },
      "source": [
        "# Start preprocessing data: transform to Gaussian, scale, label ategorical featurures and one-hot encode;\n",
        "\n",
        "\n"
      ]
    },
    {
      "cell_type": "code",
      "metadata": {
        "id": "3vMT39fHGAh9"
      },
      "source": [
        "# All pre-processing functions\n",
        "# Transform to make data more Gaussian-like \n",
        "# Standarize to make close Norml(0, 1)\n",
        "# Only to numerical_transform_cols, not for timestamp, categoricals\n",
        "def get_target_for_transform(df, systemId_selected, numerical_transform_cols, print_flag=False):\n",
        "  from sklearn.preprocessing import PowerTransformer\n",
        "  #from sklearn.preprocessing import QuantileTransformer\n",
        "  if systemId_selected[0] == 'All':\n",
        "    df_tmp = df[numerical_transform_cols]\n",
        "  else:  \n",
        "    df_tmp = df[df['systemId']==systemId_selected[0]][numerical_transform_cols]\n",
        "  if print_flag:\n",
        "    print(f'*** Inside get_target_for_transform(): df_tmp.shape={df_tmp.shape}')\n",
        "  # Start Transformation\n",
        "  data = df_tmp.values\n",
        "  return data\n",
        "\n",
        "# Transform to make data more Gaussian-like \n",
        "# Standarize to make close Norml(0, 1)\n",
        "# Only to numerical_transform_cols, not for timestamp, categoricals\n",
        "def transform_features(df, systemId_selected, numerical_transform_cols, print_flag=False):\n",
        "  from sklearn.preprocessing import PowerTransformer\n",
        "  #from sklearn.preprocessing import QuantileTransformer\n",
        "  if systemId_selected[0] == 'All':\n",
        "    df_tmp = df[numerical_transform_cols]\n",
        "  else:  \n",
        "    df_tmp = df[df['systemId']==systemId_selected[0]][numerical_transform_cols]\n",
        "  # Start Transformation\n",
        "  data = df_tmp.values\n",
        "  power = PowerTransformer(method='box-cox', standardize=True)\n",
        "  data = power.fit_transform(data)\n",
        "  if print_flag:\n",
        "    print(f'*** Inside transform_features(): df_tmp.shape={df_tmp.shape}')\n",
        "    print(f'  transform_features: {power.get_params(deep=True)}')\n",
        "    print(f'  power.lambdas_: {power.lambdas_}')\n",
        "  return data, power\n",
        "\n",
        "# RUN: LabelEncoder + OneHotEncoder for categorical columns\n",
        "# return np.array oflabel encoded data and encoders\n",
        "def label_encode(df_in, systemId_selected, cols_to_encode, print_flag=False):\n",
        "  from sklearn.preprocessing import LabelEncoder\n",
        "  from sklearn.preprocessing import OneHotEncoder\n",
        "  if systemId_selected[0] == 'All':\n",
        "    df = df_in\n",
        "  else:  \n",
        "    df = df_in[df_in['systemId']==systemId_selected[0]]\n",
        "  print(f'inside label_encode: systemId={systemId_selected}, df shape={df.shape}')\n",
        "  first_col = True\n",
        "  label_encoders = []\n",
        "  my_onehot_encoders = []\n",
        "  for col in cols_to_encode:\n",
        "    label_encoder = LabelEncoder()\n",
        "    X = df[col].values\n",
        "    X = label_encoder.fit_transform(X)\n",
        "    label_encoders.append({col:label_encoder})\n",
        "    X = X.reshape(X.shape[0], 1)\n",
        "    onehot_encoder = OneHotEncoder(sparse=False, categories='auto')\n",
        "    X = onehot_encoder.fit_transform(X)\n",
        "    if print_flag:\n",
        "      print(f'******Inside label_encode: just after my_OneHotEncoder: col={col}, X.shape={X.shape}')\n",
        "      print(f'******Inside label_encode: just after my_OneHotEncoder: col={col}, onehot_encoder={onehot_encoder}')\n",
        "    if first_col:\n",
        "      data = X\n",
        "      #print(f'first_col={first_col}, col={col}, X.shape={X.shape}, data.shape={data.shape}')\n",
        "      first_col = False\n",
        "    else:        \n",
        "      data = np.concatenate((data, X), axis=1)\n",
        "      #print(f'first_col={first_col}, col={col}, X.shape={X.shape}, data.shape={data.shape}')\n",
        "  return data, label_encoders, my_onehot_encoders \n",
        "\n",
        "def minmax_scaler_time(df, systemId_selected, cols):\n",
        "  from sklearn.preprocessing import MinMaxScaler\n",
        "  if systemId_selected[0] == 'All':\n",
        "    df_tmp = df[cols].values\n",
        "  else:  \n",
        "    df_tmp = df[df['systemId']==systemId_selected[0]][cols].values\n",
        "  minmax_scaler = MinMaxScaler()\n",
        "  df_tmp = minmax_scaler.fit_transform(df_tmp)\n",
        "  return df_tmp"
      ],
      "execution_count": null,
      "outputs": []
    },
    {
      "cell_type": "markdown",
      "metadata": {
        "id": "geDYFuM9cMJB"
      },
      "source": [
        "Compare hists of each single systemId ('sys1' vs 'sys2', etc) and single systemId with hist of all systemIds 'All' case:\n",
        "1. each systemId has different hist patterns\n",
        "2. Hour_Sin and Hour_Cos show a pattern at certain times per hour\n"
      ]
    },
    {
      "cell_type": "markdown",
      "metadata": {
        "id": "fImgk3-41x9T"
      },
      "source": [
        "# Apply transforms and extract X, Y, x_cols;\n"
      ]
    },
    {
      "cell_type": "code",
      "metadata": {
        "id": "4htquO_NTH9p"
      },
      "source": [
        "# RUN: apply transforms to df and extract X, Y, x_cols;\n",
        "\n",
        "# Step 1: transform AND standarization FOR numerical_transform_cols\n",
        "# Step 1.1: transform target Y\n",
        "# MUST first use numerical_transform_cols THEN use cols_to_encode\n",
        "# MUST NOT transform timestamp_seconds !!! \n",
        "from sklearn.preprocessing import PowerTransformer\n",
        "\n",
        "data_cols = []\n",
        "data = get_target_for_transform(df, SYSTEM_ID_SELECTED, target_col)\n",
        "target_transformer = PowerTransformer(method='box-cox', standardize=True)\n",
        "data = target_transformer.fit_transform(data)\n",
        "data_cols = data_cols + target_col\n",
        "\n",
        "print(f'After Y PowerTransformer, data shape={data.shape}, target_col len = {len(target_col)}, data_cols={len(data_cols)}')\n",
        "print(f'  target_transformer.get_params = : {target_transformer.get_params(deep=True)}')\n",
        "print(f'  target_transformer.lambdas_= {target_transformer.lambdas_}')\n",
        "\n",
        "# Step 1.2: transform AND standarization FOR numerical_transform_cols\n",
        "# MUST first use numerical_transform_cols THEN use cols_to_encode\n",
        "# MUST NOT transform timestamp_seconds !!! \n",
        "\n",
        "print(f'Before X numericals transformation:')\n",
        "print(f'  data shape = {data.shape}')\n",
        "print(f'  len of numerical_transform_cols = {len(numerical_transform_cols)}')\n",
        "data_new, numerical_X_transformer = transform_features(df, SYSTEM_ID_SELECTED, numerical_transform_cols)\n",
        "data_cols = data_cols + numerical_transform_cols\n",
        "data = np.concatenate((data, data_new), axis=1)\n",
        "print(f'After X numericals transformation:')\n",
        "print(f'  data shape={data.shape}')\n",
        "print(f'  data_cols len={len(data_cols)},\\n  data_cols={data_cols}')\n",
        "\n",
        "\n",
        "# process timestamp_seconds\n",
        "print(f'Before add new column {time_col}:\\n  data shape={data.shape},\\n  len time_col={len(time_col)}')\n",
        "data_new = minmax_scaler_time(df, SYSTEM_ID_SELECTED, time_col)\n",
        "data_cols = data_cols + time_col\n",
        "data = np.concatenate((data, data_new), axis=1)\n",
        "print(f'After add {time_col}:\\n  data shape={data.shape},\\n  len data_cols={len(data_cols)}')\n",
        "\n",
        "# RUN: MinMax timestamp_seconds, not StandardScaler\n",
        "# timestamp_seconds will be mapped to data[:,9] AND X[:,8]\n",
        "if USE_TIME_TRANSFORMED:\n",
        "  data_cols = data_cols + time_transformed_cols\n",
        "  data_new = minmax_scaler_time(df, SYSTEM_ID_SELECTED, time_transformed_cols)\n",
        "  print(f'Before add {len(time_transformed_cols)} columns {time_transformed_cols}:\\n  data shape={data.shape},\\n  data_new shape={data_new.shape}')\n",
        "  data = np.concatenate((data, data_new), axis=1)\n",
        "  print(f'After add time_transformed_cols:\\n  data shape={data.shape},\\n  data_cols ={data_cols}')\n",
        "\n",
        "\n",
        "# Add label encoder categorical columns (model_type only) (sysemId)\n",
        "# Note: This is only useful is model all systemIds together;\n",
        "# WARNING: only run once to avoid add the same columns more than 1 times\n",
        "\n",
        "data_new, label_encoders, my_onehot_encoders = label_encode(df, SYSTEM_ID_SELECTED, cols_to_encode)\n",
        "print(f'Before add {len(cols_to_encode)} columns {cols_to_encode}:\\n  data shape={data.shape},\\n  data_new shape={data_new.shape}')\n",
        "data = np.concatenate((data, data_new), axis=1)\n",
        "data_cols = data_cols + cols_to_encode\n",
        "\n",
        "print(f'After concatenate:\\n  data shape={data.shape}')\n",
        "print(f'  data_cols len={len(data_cols)},\\n  data_cols={data_cols}')\n",
        "\n",
        "X = data[:, X_FIRST_INDEX_DATA:]\n",
        "Y = data[:, Y_INDEX_DATA]\n",
        "x_cols = data_cols[1:]\n"
      ],
      "execution_count": null,
      "outputs": []
    },
    {
      "cell_type": "code",
      "metadata": {
        "id": "DAWSSzMMvNHb"
      },
      "source": [
        ""
      ],
      "execution_count": null,
      "outputs": []
    },
    {
      "cell_type": "code",
      "metadata": {
        "id": "7SoypBGi0658"
      },
      "source": [
        "# Run to check results in good shape \n",
        "def check_data_dims():\n",
        "  dftemp = df[df['systemId']==SYSTEM_ID_SELECTED[0]]\n",
        "  print(f' df with {SYSTEM_ID_SELECTED} shape = {dftemp.shape}\\n')\n",
        "  del dftemp\n",
        "  print(f' data.shape = {data.shape}, len(data_cols) = {len(data_cols)}\\n')\n",
        "  print(f' len(x_cols)={len(x_cols)}, X.shape = {X.shape}, Y.shape = {Y.shape}\\n')\n",
        "  print(f' data_cols = {data_cols}, \\n x_cols = {x_cols}\\n' )\n",
        "check_data_dims()"
      ],
      "execution_count": null,
      "outputs": []
    },
    {
      "cell_type": "markdown",
      "metadata": {
        "id": "vpsSA9rArmM3"
      },
      "source": [
        "Plot ACF and PACF of target cpu_utilization and all numerical features to check correlation in time lags and decide the need of TimeSeriesSplit for strict time series or KFold for iid samples.\n",
        "\n",
        "Note: the time steps are not always 5 minutes thus the ACF and PACF results shall be carefully read.\n",
        "May be need imputation???\n",
        " "
      ]
    },
    {
      "cell_type": "code",
      "metadata": {
        "id": "saXEF7d7m2Me"
      },
      "source": [
        "def plot_y_lag(df, systemId_selected, numerical_transform_cols):\n",
        "  if systemId_selected[0] != 'All':\n",
        "    df = df[df['systemId']==systemId_selected[0]][numerical_transform_cols]\n",
        "  for col in numerical_transform_cols:\n",
        "    y = df[col]\n",
        "\n",
        "    values = pd.DataFrame(y.values)\n",
        "    dataframe = pd.concat([values.shift(2), values.shift(1), values], axis=1)\n",
        "    dataframe.columns = ['t-2', 't-1', 't']\n",
        "    result = dataframe.corr()\n",
        "    print(result)\n",
        "\n",
        "\n",
        "    plt.plot(y[1:].values, y[0:-1].values, '.')\n",
        "    plt.figure()\n",
        "    plt.plot(y[2:].values, y[0:-2].values, '.')\n",
        "\n"
      ],
      "execution_count": null,
      "outputs": []
    },
    {
      "cell_type": "code",
      "metadata": {
        "id": "3r5YW83YrxUl"
      },
      "source": [
        "plot_y_lag(df, ['All'], target_col)\n"
      ],
      "execution_count": null,
      "outputs": []
    },
    {
      "cell_type": "code",
      "metadata": {
        "id": "nsMLRP8xolQu"
      },
      "source": [
        "plot_y_lag(df, ['sys19'], target_col)\n"
      ],
      "execution_count": null,
      "outputs": []
    },
    {
      "cell_type": "markdown",
      "metadata": {
        "id": "PZFso_MfpIiW"
      },
      "source": [
        "By scatter plot of y[n] and y[n-1] for the case of all systemIds, we can see no correlation there.\n",
        "The y[n] and y[n-1] relationship varies for individual single systemId, e.g. sys11 has strong correlation, but sys12 has weak correlation.\n",
        "This justifies the need of separate model for prediction for each sytemId separately.\n",
        "We can use labellled and one-hot encoded systemId as a model feature but this is a cost and add complexity.\n",
        "\n",
        "\n",
        "\n"
      ]
    },
    {
      "cell_type": "code",
      "metadata": {
        "id": "dSmVuQfTs3Vg"
      },
      "source": [
        "from statsmodels.graphics.tsaplots import plot_acf\n",
        "from statsmodels.graphics.tsaplots import plot_pacf\n",
        "def plot_acf_mine(df, systemId_selected, numerical_transform_cols):\n",
        "  if systemId_selected[0] != 'All':\n",
        "    df = df[df['systemId']==systemId_selected[0]][numerical_transform_cols]\n",
        "\n",
        "  for col in numerical_transform_cols:\n",
        "    plot_acf(df[col])\n",
        "    plt.title(f'acf of {col} of systemId {systemId_selected[0]}')\n",
        "\n",
        "    plot_pacf(df[col])\n",
        "    plt.title(f'pacf of {col} of systemId {systemId_selected[0]}')\n",
        "\n",
        "    plt.show()\n"
      ],
      "execution_count": null,
      "outputs": []
    },
    {
      "cell_type": "code",
      "metadata": {
        "id": "ur5lxCnYulpa"
      },
      "source": [
        "plot_acf_mine(df, SYSTEM_ID_SELECTED, target_col)\n"
      ],
      "execution_count": null,
      "outputs": []
    },
    {
      "cell_type": "code",
      "metadata": {
        "id": "yneVyya5u2LY"
      },
      "source": [
        "plot_acf_mine(df, ['All'], target_col)\n"
      ],
      "execution_count": null,
      "outputs": []
    },
    {
      "cell_type": "code",
      "metadata": {
        "id": "urKjWJbKsBSJ"
      },
      "source": [
        "plot_acf_mine(df, SYSTEM_ID_SELECTED, numerical_transform_cols)\n"
      ],
      "execution_count": null,
      "outputs": []
    },
    {
      "cell_type": "code",
      "metadata": {
        "id": "34FY2tj8jKxS"
      },
      "source": [
        "df.head()"
      ],
      "execution_count": null,
      "outputs": []
    },
    {
      "cell_type": "code",
      "metadata": {
        "id": "Fa0vKBm5vRT5"
      },
      "source": [
        "plot_acf_mine(df, ['All'], numerical_transform_cols)\n"
      ],
      "execution_count": null,
      "outputs": []
    },
    {
      "cell_type": "code",
      "metadata": {
        "id": "kel3t2PBAkpN"
      },
      "source": [
        "target_col, data_cols.index(target_col[0])\n",
        "#data_cols.index(target_col)"
      ],
      "execution_count": null,
      "outputs": []
    },
    {
      "cell_type": "code",
      "metadata": {
        "id": "4Lr_2nEAkkP5"
      },
      "source": [
        "print(f'After add {time_col}:\\n  data shape={data.shape},\\n  len data_cols={len(data_cols)}')\n",
        "plt.subplot(2,1,1)\n",
        "plt.plot(data[:, data_cols.index('timestamp_seconds')])\n",
        "plt.subplot(2,1,2)\n",
        "plt.plot(data[:, data_cols.index('timestamp_seconds')], data[:, data_cols.index(target_col[0])])\n"
      ],
      "execution_count": null,
      "outputs": []
    },
    {
      "cell_type": "code",
      "metadata": {
        "id": "i-tXQCqCxF4b"
      },
      "source": [
        "# check time transformations are all right\n",
        "plt.figure()\n",
        "index_to_plots = [1,3,5,7,8]\n",
        "L = len(index_to_plots)\n",
        "for k in range(L):\n",
        "  plt.subplot(L,1,k+1)\n",
        "  plt.plot(data[:, data_cols.index('timestamp_seconds')], data[:, data_cols.index('timestamp_seconds') + index_to_plots[k]],)\n"
      ],
      "execution_count": null,
      "outputs": []
    },
    {
      "cell_type": "code",
      "metadata": {
        "id": "IeNDWMD6jyqv"
      },
      "source": [
        "# Compare hist before/after transformation/scaling \n",
        "# Before transformation: hist\n",
        "title_str = 'Before transformation!'\n",
        "plot_df_hist(df, SYSTEM_ID_SELECTED, title_str, df.columns, 30)\n",
        "#NOTE: Hour_Sin AND Hour_Cos have only 7 distinct bins at [0, 30, 60, 90, -30, -60, -90] degress as \n",
        "# as sampling perid=5 minutes, thus 2pi*5min/60min=pi/6=30degree\n",
        "\n",
        "# After transformation: hist\n",
        "title_str = 'After transformation!'\n",
        "data_df = pd.DataFrame(data, columns=data_cols)\n",
        "plot_df_hist(data_df, ['All'], title_str, data_df.columns, 30)\n",
        "del data_df"
      ],
      "execution_count": null,
      "outputs": []
    },
    {
      "cell_type": "markdown",
      "metadata": {
        "id": "ayriUf62sfFV"
      },
      "source": [
        "Feature selection:\n",
        "1. correlation based\n",
        "2. L1 norm\n",
        "3. p-value"
      ]
    },
    {
      "cell_type": "code",
      "metadata": {
        "id": "daCEstTKvKjS"
      },
      "source": [
        ""
      ],
      "execution_count": null,
      "outputs": []
    },
    {
      "cell_type": "code",
      "metadata": {
        "id": "71mXegL8seAG"
      },
      "source": [
        "# RUN: feature selection based on correlation  \n",
        "# NOTE: this is done separately for each of systemId, not for all systemIds altogether\n",
        "#label encoder for model\n",
        "def select_feature_by_correlation(data, data_cols, target_col, corr_threshold):\n",
        "  df = pd.DataFrame(data, columns=data_cols)\n",
        "  corr = df.corr()\n",
        "  columns = np.full((corr.shape[0],), True, dtype=bool)\n",
        "  for i in range(corr.shape[0]):\n",
        "    for j in range(i+1, corr.shape[0]):\n",
        "      if corr.iloc[i,j] >= corr_threshold:\n",
        "        columns[j] = False\n",
        "  selected_columns = df.columns[columns]\n",
        "  removed_columns = [x for x in df.columns if x not in selected_columns]\n",
        "\n",
        "  print(f'df shape={df.shape}; corr shape={corr.shape};')\n",
        "  print(f'df.columns={df.columns}')\n",
        "  print(f'columns={columns}')\n",
        "  print(f'selected_columns={selected_columns}')\n",
        "  print(f'removed_columns={removed_columns}')\n",
        "  return selected_columns, removed_columns, corr\n",
        "\n"
      ],
      "execution_count": null,
      "outputs": []
    },
    {
      "cell_type": "code",
      "metadata": {
        "id": "3YeRXt7Ewd0c"
      },
      "source": [
        "# RUN: feature selection based on correlation  \n",
        "CORR_THRESHOLD_FEATURE_SELECTION = 0.8;\n",
        "pd.set_option('display.max_columns', None)\n",
        "\n",
        "#corr of X\n",
        "selected_columns, removed_columns, corr_X = select_feature_by_correlation(X, x_cols, target_col, CORR_THRESHOLD_FEATURE_SELECTION)    \n"
      ],
      "execution_count": null,
      "outputs": []
    },
    {
      "cell_type": "code",
      "metadata": {
        "id": "2e2vpiv_xEW7"
      },
      "source": [
        "# corr of data\n",
        "_, _, corr_data = select_feature_by_correlation(data, data_cols, target_col, CORR_THRESHOLD_FEATURE_SELECTION)    "
      ],
      "execution_count": null,
      "outputs": []
    },
    {
      "cell_type": "code",
      "metadata": {
        "id": "_T93dvZn7a0u"
      },
      "source": [
        "# plot 'read_throughput', 'read_cache_miss'\n",
        "cols_correlated = ['read_throughput', 'read_cache_miss', 'read_iops', 'write_iops']\n",
        "cols_correlated_index = [data_cols.index(x) for x in cols_correlated]\n",
        "\n",
        "print(len(data_cols), data.shape)\n",
        "print(cols_correlated_index, data_cols)\n",
        "plt.figure()\n",
        "plt.plot(data[:, cols_correlated_index[0]], data[:, cols_correlated_index[1]], '+')\n",
        "\n",
        "plt.figure()\n",
        "plt.plot(data[:, cols_correlated_index[0]], data[:, cols_correlated_index[2]], '+')\n",
        "\n",
        "plt.figure()\n",
        "plt.plot(data[:, cols_correlated_index[0]], data[:, cols_correlated_index[3]], '+')\n",
        "\n",
        "plt.figure()\n",
        "plt.plot(data[:, cols_correlated_index[2]], data[:, cols_correlated_index[3]], '+')\n"
      ],
      "execution_count": null,
      "outputs": []
    },
    {
      "cell_type": "code",
      "metadata": {
        "id": "HygDlXOKAXK2"
      },
      "source": [
        "# make a regression prediction with an RFE pipeline\n",
        "# Observation: Features are selected almost according to their correlation with target\n",
        "from numpy import mean\n",
        "from numpy import std\n",
        "from sklearn.datasets import make_regression\n",
        "from sklearn.feature_selection import RFE\n",
        "from sklearn.tree import DecisionTreeRegressor\n",
        "from sklearn.pipeline import Pipeline\n",
        "# create pipeline\n",
        "for num_features in range(2,17):\n",
        "  rfe = RFE(estimator=DecisionTreeRegressor(), n_features_to_select=num_features)\n",
        "  #model = DecisionTreeRegressor()\n",
        "  #pipeline = Pipeline(steps=[('s',rfe),('m',model)])\n",
        "  # fit the model on all available data\n",
        "  #pipeline.fit(X, Y)\n",
        "  rfe.fit(X, Y)\n",
        "  scores = rfe.score(X, Y)\n",
        "  selected_features = rfe.get_support(indices=True)\n",
        "  print(num_features, selected_features, scores)\n",
        "  selected_feature_str = [x_cols[x] for x in selected_features]\n",
        "  print(f'  {selected_feature_str}')\n",
        "  #print(f\"  {corr_data.loc[selected_feature_str, target_col[0]]}\")\n"
      ],
      "execution_count": null,
      "outputs": []
    },
    {
      "cell_type": "code",
      "metadata": {
        "id": "kimaSZmqwCgN"
      },
      "source": [
        "# Start RFE feature selection; \n",
        "# Input: X, Y, num_features_to_select\n",
        "NUM_SPLITS = 10\n",
        "\n",
        "num_features_to_select = [12,13]\n",
        "# evaluate RFE for regression\n",
        "from numpy import mean\n",
        "from numpy import std\n",
        "from sklearn.datasets import make_regression\n",
        "from sklearn.model_selection import cross_val_score\n",
        "from sklearn.feature_selection import RFE\n",
        "from sklearn.tree import DecisionTreeRegressor\n",
        "from sklearn.pipeline import Pipeline\n",
        "from sklearn.model_selection import KFold\n",
        "\n",
        "# get a list of models to evaluate\n",
        "def get_models():\n",
        "\tmodels = dict()\n",
        "\tfor i in range(num_features_to_select[0], num_features_to_select[1]):\n",
        "\t\trfe = RFE(estimator=DecisionTreeRegressor(), n_features_to_select=i)\n",
        "\t\tmodel = DecisionTreeRegressor()\n",
        "\t\tmodels[str(i)] = Pipeline(steps=[('s',rfe),('m',model)])\n",
        "\treturn models\n",
        "\n",
        "# evaluate a give model using cross-validation\n",
        "def evaluate_model(model, X, y):\n",
        "  #cv = RepeatedStratifiedKFold(n_splits=10, n_repeats=3, random_state=1)\n",
        "  kfold = KFold(n_splits = NUM_SPLITS) # shuffle=False\n",
        "  scores = cross_val_score(model, X, y, scoring='neg_mean_squared_error', \n",
        "                           cv=kfold, n_jobs=-1, error_score='raise')\n",
        "  return scores\n",
        "\n",
        "# get the models to evaluate\n",
        "models = get_models()\n",
        "# evaluate the models and store results\n",
        "results, names = list(), list()\n",
        "for name, model in models.items():\n",
        "  scores = evaluate_model(model, X, Y)\n",
        "  results.append(scores)\n",
        "  names.append(name)\n",
        "  print('>%s %.3f (%.3f)' % (name, mean(scores), std(scores)))\n",
        "  #print(model.support_, model.ranking_)\n",
        "  print(model)\n",
        "# plot model performance for comparison\n",
        "plt.boxplot(results, labels=names, showmeans=True)\n",
        "plt.show()\n"
      ],
      "execution_count": null,
      "outputs": []
    },
    {
      "cell_type": "markdown",
      "metadata": {
        "id": "SmwqmTSlmWkp"
      },
      "source": [
        "Observation:\n",
        "1. read_throughput and read_cache_miss are highly correlated (0.862791);\n",
        "2. model_type and systemId are unrelated in case of single case systemId\n",
        "3. timestamps not contribute much\n",
        "4. transfomred times have some correlation with a few columns\n",
        "\n"
      ]
    },
    {
      "cell_type": "code",
      "metadata": {
        "id": "hfSUUplsnQ1Y"
      },
      "source": [
        "removed_columns = removed_columns + ['model_type', 'systemId']\n",
        "removed_columns"
      ],
      "execution_count": null,
      "outputs": []
    },
    {
      "cell_type": "code",
      "metadata": {
        "id": "Mv55QQPZrs-m"
      },
      "source": [
        "def remove_data_columns(data, data_cols, removed_columns):\n",
        "  data_index_remove = [data_cols.index(x) for x in removed_columns]\n",
        "  print(f'data_index_remove = {data_index_remove}')\n",
        "  data = np.delete(data, data_index_remove, axis=1)\n",
        "  data_cols_updated = [ x for x in data_cols if x not in removed_columns]\n",
        "  print(data.shape, len(data_cols_updated), data_cols_updated)\n",
        "  return data_cols_updated, data  \n"
      ],
      "execution_count": null,
      "outputs": []
    },
    {
      "cell_type": "code",
      "metadata": {
        "id": "ETtdxZbwoRG2"
      },
      "source": [
        "# WARNING: only run this ONCE\n",
        "data_cols, data = remove_data_columns(data, data_cols, removed_columns)\n"
      ],
      "execution_count": null,
      "outputs": []
    },
    {
      "cell_type": "markdown",
      "metadata": {
        "id": "QquxwQdyOfVe"
      },
      "source": [
        "**Observation** \n",
        "After comparison Correlation plots of two cases:\n",
        "-- Case_SINGLE: Only extract a single systemId (here 'sys1') case; \n",
        "-- Case_ALL:  Use all systemIds as a whole;\n",
        "\n",
        "Conclusion:\n",
        "1. timestamp_seconds has low correlation with all the rest features; and is less useful directly;\n",
        "2. Day_Cos and Day_Sin have good correlation with a few columns and shall help prediction;\n",
        "\n",
        "\n",
        "Case_SINGLE clearly exposes a larger nuber of columns having high correlations with the target 'cpu_utilization' than  that of Case_ALL. \n",
        "\n",
        "1.1 columns having good correlation with 'cpu_utilization':\n",
        "Case_SINGLE: ['write_throughput', 'write_iops', 'read_cache_miss', 'read_throughput', 'read_iops', 'write_cache_miss']\n",
        "\n",
        "Case_ALL: ['read_throughput', 'read_cache_miss'] \n",
        "['write_cache_miss',  'read_iops', 'write_throughput', 'write_iosz' ]\n",
        "\n",
        "1.1 columns having good correlation with Day_sin:  \n",
        "Case_SINGLE ['write_cache_miss', 'read_iops', 'write_iosz' ]\n",
        "Case_ALL: None\n",
        "\n",
        "1.2 Day_Cos has good correlation with 2 columns:\n",
        "Case_SINGLE: ['write_iops', 'read_iosz']\n",
        "Case_ALL: None\n",
        "\n",
        "\n",
        "\n"
      ]
    },
    {
      "cell_type": "code",
      "metadata": {
        "id": "2p0hETXoVx8X"
      },
      "source": [
        "# check outliers; conclusion: no apparent outliers\n",
        "df_stat = df.describe().T\n",
        "df_stat['50% to 75%'] = (df_stat['50%']/df_stat['75%'])\n",
        "df_stat['max to 75%'] = (df_stat['max']/df_stat['75%'])\n"
      ],
      "execution_count": null,
      "outputs": []
    },
    {
      "cell_type": "code",
      "metadata": {
        "id": "DlFAoZhAFnpP"
      },
      "source": [
        "# RUN: backwardElimination\n",
        "import statsmodels.api as sm\n",
        "def backwardElimination(x, Y, sl, columns):\n",
        "    print(f'x={x[:2,:]}')\n",
        "    print(f'Y={Y[:2]}')\n",
        "    print(f'len(x[0]) = {len(x[0])}')\n",
        "    print(f'x shape = {x.shape}')\n",
        "\n",
        "    numVars = len(x[0])\n",
        "    for i in range(0, numVars):\n",
        "        regressor_OLS = sm.OLS(Y, x).fit()\n",
        "        maxVar = max(regressor_OLS.pvalues).astype(float)\n",
        "        if maxVar > sl:\n",
        "            for j in range(0, numVars - i):\n",
        "                if (regressor_OLS.pvalues[j].astype(float) == maxVar):\n",
        "                    x = np.delete(x, j, 1)\n",
        "                    columns = np.delete(columns, j)\n",
        "        print(f'**** backwardElimination i={i}, p-values={regressor_OLS.pvalues}')\n",
        "        print(f'inside loop: x shape = {x.shape}')\n",
        "                    \n",
        "    print(regressor_OLS.summary())\n",
        "    return x, columns\n"
      ],
      "execution_count": null,
      "outputs": []
    },
    {
      "cell_type": "code",
      "metadata": {
        "id": "2TAeNfiAFJ_t"
      },
      "source": [
        "SL = 0.05\n",
        "data_modeled, selected_columns = backwardElimination(X, Y, SL, selected_columns)"
      ],
      "execution_count": null,
      "outputs": []
    },
    {
      "cell_type": "markdown",
      "metadata": {
        "id": "mF5qqPmeErjG"
      },
      "source": [
        "## Q2. Group on systemId and one week's duration and then calculate following custom metrics\n",
        "- std/median on columns read_iops, read_cache_miss\n",
        "- rolling mean on columns write_throughput and write_iosz\n",
        "- exponential moving average on column write_cache_miss and write_iops\n"
      ]
    },
    {
      "cell_type": "code",
      "metadata": {
        "id": "lbWfBocsso4I"
      },
      "source": [
        "check_data_dims()"
      ],
      "execution_count": null,
      "outputs": []
    },
    {
      "cell_type": "code",
      "metadata": {
        "id": "kZx1kgeW-WMD"
      },
      "source": [
        "features = [['systemId', 'read_iops', 'read_cache_miss'],\n",
        "            ['systemId', 'write_throughput', 'write_iosz'],\n",
        "            ['systemId', 'write_cache_miss', 'write_iops']]\n",
        "\n"
      ],
      "execution_count": null,
      "outputs": []
    },
    {
      "cell_type": "code",
      "metadata": {
        "id": "e_ZRtJ9aEkSJ"
      },
      "source": [
        "dftemp = df[['systemId', 'read_iops', 'read_cache_miss']]\n",
        "metrics = []\n",
        "metrics_sum = dftemp.groupby('systemId').resample('W').sum()\n",
        "metrics_std = dftemp.groupby('systemId').resample('W').std()\n",
        "metrics_std = dftemp.groupby('systemId').resample('W').median()\n"
      ],
      "execution_count": null,
      "outputs": []
    },
    {
      "cell_type": "code",
      "metadata": {
        "id": "2zriHZDhU5aK"
      },
      "source": [
        "type(metrics_sum.index.values)\n",
        "\n"
      ],
      "execution_count": null,
      "outputs": []
    },
    {
      "cell_type": "code",
      "metadata": {
        "id": "YUwZyG-KWAmh"
      },
      "source": [
        "print(metrics_sum.index.values.shape)\n",
        "print(type(metrics_sum.index.values))\n",
        "print(type(metrics_sum.index.values[0]))\n",
        "print(type(metrics_sum.index.values[0][0]))\n",
        "\n",
        "print(metrics_sum.index.values.shape)\n",
        "print(metrics_sum.index.values[0])\n",
        "print(metrics_sum.index.values[:10][0])\n",
        "\n",
        "     \n"
      ],
      "execution_count": null,
      "outputs": []
    },
    {
      "cell_type": "code",
      "metadata": {
        "id": "viu_0x0EYT-R"
      },
      "source": [
        "print(metrics_sum.index.values[:10][:][:][0])\n"
      ],
      "execution_count": null,
      "outputs": []
    },
    {
      "cell_type": "code",
      "metadata": {
        "id": "3RWQa6oLGHhw"
      },
      "source": [
        "dftemp = df[['systemId', 'read_iops', 'read_cache_miss']]\n",
        "metrics = []\n",
        "metrics.append(dftemp.groupby('systemId').resample('W').sum())\n",
        "metrics.append(dftemp.groupby('systemId').resample('W').std())\n",
        "metrics.append(dftemp.groupby('systemId').resample('W').median())\n"
      ],
      "execution_count": null,
      "outputs": []
    },
    {
      "cell_type": "code",
      "metadata": {
        "id": "HKp7q1UuGWHF"
      },
      "source": [
        "metrics[2]['read_iops'].plot(subplots=True)"
      ],
      "execution_count": null,
      "outputs": []
    },
    {
      "cell_type": "code",
      "metadata": {
        "id": "mm5MN7DfSrfk"
      },
      "source": [
        "metrics[2].index.names\n",
        " \n",
        "\n"
      ],
      "execution_count": null,
      "outputs": []
    },
    {
      "cell_type": "code",
      "metadata": {
        "id": "1wfIH2u_F2gy"
      },
      "source": [
        "metrics_sum"
      ],
      "execution_count": null,
      "outputs": []
    },
    {
      "cell_type": "code",
      "metadata": {
        "id": "zN4wTbrjOy0p"
      },
      "source": [
        "\n",
        "dftemp = df[['systemId', 'read_iops', 'read_cache_miss']]\n",
        "df_grouped = dftemp.groupby('systemId')\n",
        "\n",
        "ct = 0\n",
        "for group_name, df_group in df_grouped:\n",
        "  ct = ct + 1\n",
        "  if ct>5: \n",
        "    break\n",
        "\n",
        "  print(f'\\n\\n ****** ct={ct}, {group_name} , shape={df_group.shape}****') \n",
        "  #print(df_group.index)\n",
        "  #print(df_group.head())\n",
        "\n",
        "  stat = df_group.resample('W', origin='start').median()\n",
        "  # rename columns\n",
        "  stat.columns = [group_name+'_read_iops_median', group_name+'_read_cache_miss_median']\n",
        "  #reset index to get grouped columns back\n",
        "  #stat = stat.reset_index()\n",
        "\n",
        "  print(f'\\n ****** {group_name} mean, shape={stat.shape}, stat type ={type(stat)}****') \n",
        "  print(stat)\n",
        "\n",
        "  if ct==1:\n",
        "    df_merged = stat\n",
        "  else:        \n",
        "    df_merged = pd.concat([df_merged, stat], axis=1) #ignore_index=True, \n",
        "\n",
        "  print(f'\\n ****** {group_name} mean, df_merged shape={df_merged.shape}, df_merged columns ={df_merged.columns}****') \n",
        "  print(f'**************** df_merged=\\n{df_merged}')\n"
      ],
      "execution_count": null,
      "outputs": []
    },
    {
      "cell_type": "code",
      "metadata": {
        "id": "a8GLpaQ3DlLY"
      },
      "source": [
        ""
      ],
      "execution_count": null,
      "outputs": []
    },
    {
      "cell_type": "code",
      "metadata": {
        "id": "JsaaUUMHOgxD"
      },
      "source": [
        "features = ['systemId','read_iops', 'read_cache_miss'] #, 'write_throughput', 'write_iosz', 'write_cache_miss', 'write_iops']\n",
        "dftemp = df[features]\n",
        "df_grouped = dftemp.groupby('systemId')\n"
      ],
      "execution_count": null,
      "outputs": []
    },
    {
      "cell_type": "code",
      "metadata": {
        "id": "KF6LAISRPB_U"
      },
      "source": [
        "df_grouped.head()"
      ],
      "execution_count": null,
      "outputs": []
    },
    {
      "cell_type": "code",
      "metadata": {
        "id": "Sj5AGYs4P2-p"
      },
      "source": [
        "type(df_grouped)"
      ],
      "execution_count": null,
      "outputs": []
    },
    {
      "cell_type": "code",
      "metadata": {
        "id": "QloeuNMmDaDE"
      },
      "source": [
        "df_grouped"
      ],
      "execution_count": null,
      "outputs": []
    },
    {
      "cell_type": "code",
      "metadata": {
        "id": "m5nvj3fVQPXd"
      },
      "source": [
        "len(df_grouped)\n"
      ],
      "execution_count": null,
      "outputs": []
    },
    {
      "cell_type": "code",
      "metadata": {
        "id": "0_16duswP64S"
      },
      "source": [
        "for x in df_grouped:\n",
        "  print(x)"
      ],
      "execution_count": null,
      "outputs": []
    },
    {
      "cell_type": "code",
      "metadata": {
        "id": "CDA9j-X7P67a"
      },
      "source": [
        "check_data_dims()"
      ],
      "execution_count": null,
      "outputs": []
    },
    {
      "cell_type": "code",
      "metadata": {
        "id": "EHHa5u4APCeC"
      },
      "source": [
        ""
      ],
      "execution_count": null,
      "outputs": []
    },
    {
      "cell_type": "code",
      "metadata": {
        "id": "Yl3dKXHTK0ua"
      },
      "source": [
        "def make_metrics_std_median(X, x_cols, std_median_cols, print_flag=False):\n",
        "  print(f' *** Inside make_metrics_std_median(): systemId={systemId_selected}, df shape={df.shape}')\n",
        "\n",
        "\n",
        "\n",
        "  df1[f] = df1[f].rolling(window=Window_Length).mean()\n",
        "\n",
        "# Run to add metrics\n",
        "std_median_cols = ['read_iops', 'read_cache_miss']\n",
        "make_metrics_std_median(X, x_cols, std_median_cols, True)\n"
      ],
      "execution_count": null,
      "outputs": []
    },
    {
      "cell_type": "code",
      "metadata": {
        "id": "YGPnrBE7OJbm"
      },
      "source": [
        "features = [['read_iops', 'read_cache_miss'],\n",
        "            ['write_throughput', 'write_iosz'],\n",
        "            ['write_cache_miss', 'write_iops']]\n",
        "\n",
        "for k in range(len(features)):\n",
        "  print(features[k])\n",
        "  for x in features[k]:\n",
        "    print(x)\n",
        "\n",
        "\n",
        "dftemp = df[['systemId', 'read_iops', 'read_cache_miss']]\n",
        "df_grouped = dftemp.groupby('systemId')\n",
        "\n",
        "ct = 0\n",
        "for group_name, df_group in df_grouped:\n",
        "  ct = ct + 1\n",
        "  if ct>2: \n",
        "    break\n",
        "  \n",
        "  df_group = df_group.sort_index()\n",
        "\n",
        "  print(f'\\n\\n ****** {group_name} , shape={df_group.shape}****') \n",
        "  print(df_group.head())\n",
        "\n",
        "  stat = df_group.resample('W', origin='start').sum()\n",
        "  print(f'\\n ****** {group_name} sum, shape={stat.shape}****') \n",
        "  print(stat)\n",
        "\n",
        "  stat = df_group.resample('W', origin='start').median()\n",
        "  print(f'\\n ****** {group_name} median, shape={stat.shape}****') \n",
        "  print(stat)\n",
        "    \n",
        "  stat = df_group.resample('W', origin='start').std()\n",
        "  print(f'\\n ****** {group_name} std, shape={stat.shape}****') \n",
        "  print(stat)"
      ],
      "execution_count": null,
      "outputs": []
    },
    {
      "cell_type": "code",
      "metadata": {
        "id": "isadwiEsLeu_"
      },
      "source": [
        "print(X.shape, len(x_cols))\n"
      ],
      "execution_count": null,
      "outputs": []
    },
    {
      "cell_type": "code",
      "metadata": {
        "id": "IwZYLRwrJtNM"
      },
      "source": [
        "\n",
        "# normalize, average, and plot\n",
        "def plot_columns_average(df, AVERAGE_METHOD, Window_Length):\n",
        "  df1 = df[df['systemId']=='sys1']\n",
        "\n",
        "  start_hour = 24*1+15;\n",
        "  interval_hour= 24*20 + 10\n",
        "  start = int(start_hour*hour/(5*60))\n",
        "  stop = int((start_hour + interval_hour)*hour/(5*60))\n",
        "\n",
        "  for f in cols_to_avg:\n",
        "    if AVERAGE_METHOD == 'rolling_moving_average':\n",
        "      df1[f] = df1[f].rolling(window=Window_Length).mean()\n",
        "    elif AVERAGE_METHOD == 'exponential_moving_average':\n",
        "      df1[f] = df1[f].ewm(span=Window_Length, adjust=False).mean()\n",
        "    elif AVERAGE_METHOD == 'cumulative_average': \n",
        "      df1[f] = df1[f].expanding(min_periods=Window_Length, adjust=False).mean()\n",
        "    else:\n",
        "      raise ValueError(f'AVERAGE_METHOD ={AVERAGE_METHOD} is not implemented!')\n",
        "        \n",
        "Window_Length = int(2*60/5) \n",
        "\n",
        "AVERAGE_METHOD_LIST = ['rolling_moving_average', 'exponential_moving_average', 'cumulative_average']\n",
        "AVERAGE_METHOD = AVERAGE_METHOD_LIST[1] \n",
        "plot_columns_average(df, AVERAGE_METHOD, Window_Length)\n"
      ],
      "execution_count": null,
      "outputs": []
    },
    {
      "cell_type": "code",
      "metadata": {
        "id": "33R0k37jKLxc"
      },
      "source": [
        "group = group.sort_values(by='timestamp_seconds')\n",
        "group.head(8)tmp = group.rolling(2).mean()\n",
        "tmp.head(8)\n",
        "\n",
        "group['rmean_write_throughput'] = tmp['write_throughput']\n",
        "group['rmean_write_iosz'] = tmp['write_iosz']\n",
        "group.head(8)"
      ],
      "execution_count": null,
      "outputs": []
    },
    {
      "cell_type": "code",
      "metadata": {
        "id": "V74KW2qUp1Bm"
      },
      "source": [
        "# fft plot TODO: for time ordered and single systemId \n",
        "def plot_fft(df_in, col_choice):\n",
        "  import tensorflow as tf\n",
        "  df = df_in[df_in['systemId']==SYSTEM_ID_SELECTED[0]]\n",
        "  fft = tf.signal.rfft(df[col_choice])\n",
        "  f_per_dataset = np.arange(0, len(fft))\n",
        "  print(f'df.shape={df.shape}, fft.shape={fft.shape}')\n",
        "  n_samples_h = len(df[col_choice])\n",
        "  plt.plot(f_per_dataset, np.abs(fft), '-+')\n",
        "  #plt.xscale('log')\n",
        "  plt.ylim(0, np.mean(np.abs(fft))*10)\n",
        "  plt.xlim([0.1, max(plt.xlim())])\n",
        "  _ = plt.xlabel('Frequency (log scale)')\n",
        "  plt.grid()\n"
      ],
      "execution_count": null,
      "outputs": []
    },
    {
      "cell_type": "code",
      "metadata": {
        "id": "JXWbL1MKUHUK"
      },
      "source": [
        "plot_fft(df, 'cpu_utilization')\n"
      ],
      "execution_count": null,
      "outputs": []
    },
    {
      "cell_type": "code",
      "metadata": {
        "id": "4Zkw_1g-NEAx"
      },
      "source": [
        "plot_fft(df, 'read_throughput')"
      ],
      "execution_count": null,
      "outputs": []
    },
    {
      "cell_type": "code",
      "metadata": {
        "id": "OnFVO6ylYnIl"
      },
      "source": [
        "plot_fft(df, 'write_throughput')"
      ],
      "execution_count": null,
      "outputs": []
    },
    {
      "cell_type": "code",
      "metadata": {
        "id": "Bk984iciULm4"
      },
      "source": [
        "plot_fft(df, 'Hour_Cos')\n"
      ],
      "execution_count": null,
      "outputs": []
    },
    {
      "cell_type": "code",
      "metadata": {
        "id": "Lw8C45N6VCMj"
      },
      "source": [
        "plot_fft(df, 'Day_Cos')\n",
        "7966/24/12"
      ],
      "execution_count": null,
      "outputs": []
    },
    {
      "cell_type": "code",
      "metadata": {
        "id": "Ix-gkEm8VOnH"
      },
      "source": [
        "plot_fft(df, 'Week_Cos')\n"
      ],
      "execution_count": null,
      "outputs": []
    },
    {
      "cell_type": "code",
      "metadata": {
        "id": "YMvlqIcDwVoC"
      },
      "source": [
        ""
      ],
      "execution_count": null,
      "outputs": []
    },
    {
      "cell_type": "code",
      "metadata": {
        "id": "pRDklfCQwcGf"
      },
      "source": [
        ""
      ],
      "execution_count": null,
      "outputs": []
    },
    {
      "cell_type": "code",
      "metadata": {
        "id": "_tkAAvJ2wKDP"
      },
      "source": [
        ""
      ],
      "execution_count": null,
      "outputs": []
    },
    {
      "cell_type": "code",
      "metadata": {
        "id": "aVK4DMG6E5DQ"
      },
      "source": [
        "\n",
        "if 0:\n",
        "  summary = []\n",
        "  for name, group in group_by_systemId:\n",
        "    summary.append(\n",
        "      {\n",
        "        name : \n",
        "          {\n",
        "            'length': len(group),\n",
        "            'min': group['read_iops'].min(),\n",
        "            'max': group['read_iops'].max(),\n",
        "            'mean': group['read_iops'].mean(),\n",
        "            'std': group['read_iops'].std(),\n",
        "            'median': group['read_iops'].median()\n",
        "          }\n",
        "      }\n",
        "    )\n",
        "  if 0:\n",
        "    print(f'name={name}, len = {len(group)}\\n')\n",
        "    print('systemId uniques=', np.unique(group['systemId']))\n",
        "    #print(f'group={group.head(2)}\\n')\n",
        "    print(f'summary={summary}')\n"
      ],
      "execution_count": null,
      "outputs": []
    },
    {
      "cell_type": "markdown",
      "metadata": {
        "id": "dpcmd8lhQwDh"
      },
      "source": [
        "## Q3. Generate a random distribution of samples from data such that each day should contain 12 continous samples and start of the sample should be random with that day"
      ]
    },
    {
      "cell_type": "code",
      "metadata": {
        "id": "IyzNxQmp3OkJ"
      },
      "source": [
        "check_data_dims()"
      ],
      "execution_count": null,
      "outputs": []
    },
    {
      "cell_type": "markdown",
      "metadata": {
        "id": "_kX575JMFcdg"
      },
      "source": [
        "## Q4. Fit a linear regression to this data with y as \"cpu_utilization\" column. Comment on the fit of the model"
      ]
    },
    {
      "cell_type": "markdown",
      "metadata": {
        "id": "jSYOL0BkSrcC"
      },
      "source": [
        "TODO: \n",
        "1. reserve a common test set for comparison scores like mse\n",
        "(time continuity ???)\n",
        "2. define a baseline model simply y[n]=y[n-1]\n",
        "3. Linear Regression, Ridge, Lasso with Grid Search\n",
        "4. GradientBoost, XGBoost\n"
      ]
    },
    {
      "cell_type": "code",
      "metadata": {
        "id": "VZeVOVe9FGPg"
      },
      "source": [
        "check_data_dims()"
      ],
      "execution_count": null,
      "outputs": []
    },
    {
      "cell_type": "code",
      "metadata": {
        "id": "CqYE2sDGM2a-"
      },
      "source": [
        "# First define a baseline prediction model as y[n] = y[n-1];\n",
        "# There are a few discontinuity points which can be ignored.\n",
        "\n",
        "# persistence model\n",
        "def model_persistence(x):\n",
        "\treturn x\n",
        "\n",
        "def baseline_timeseries_predictor_y(Y):\n",
        "  values = pd.DataFrame(Y)\n",
        "  from pandas import concat\n",
        "  from sklearn.metrics import mean_squared_error\n",
        "\n",
        "  # Create lagged dataset\n",
        "  dataframe = concat([values.shift(1), values], axis=1)\n",
        "  dataframe.columns = ['t-1', 't']\n",
        "  print(dataframe.head(5))\n",
        "\n",
        "  # time series is split into train and test sets\n",
        "  X = dataframe.values\n",
        "  train_size = int(len(X) * 0.66)\n",
        "  train, test = X[1:train_size], X[train_size:]\n",
        "  train_X, train_y = train[:,0], train[:,1]\n",
        "  test_X, test_y = test[:,0], test[:,1]\n",
        "\n",
        "  # walk-forward validation\n",
        "  predictions = list()\n",
        "  for x in test_X:\n",
        "    yhat = model_persistence(x)\n",
        "    predictions.append(yhat)\n",
        "\n",
        "  test_score = mean_squared_error(test_y, predictions)\n",
        "\n",
        "  print('Test MSE: %.3f' % test_score)\n",
        "\n",
        "  # plot predictions and expected results\n",
        "  stop_idx = 100 #len(test_y)\n",
        "  plt.figure()\n",
        "  plt.plot(test_y[:stop_idx], 'r-+')\n",
        "  plt.plot(predictions[:stop_idx], 'g-o')\n",
        "  fig = plt.gcf()\n",
        "  fig.set_size_inches(22.5, 3)\n",
        "\n",
        "  stop_idx = 100 #len(test_y)\n",
        "  plt.figure()\n",
        "  plt.plot(test_y[:stop_idx], 'r-+')\n",
        "  plt.plot(test_y[:stop_idx] - predictions[:stop_idx], 'g-o')\n",
        "  fig = plt.gcf()\n",
        "  fig.set_size_inches(22.5, 3)\n",
        "\n",
        "  plt.figure()\n",
        "  plt.plot(test_y, predictions, 'r+')\n",
        "  fig = plt.gcf()\n",
        "  fig.set_size_inches(10, 10)\n"
      ],
      "execution_count": null,
      "outputs": []
    },
    {
      "cell_type": "code",
      "metadata": {
        "id": "8DSqQ1RqNWgH"
      },
      "source": [
        "baseline_timeseries_predictor_y(Y)"
      ],
      "execution_count": null,
      "outputs": []
    },
    {
      "cell_type": "code",
      "metadata": {
        "id": "bt78-HKTG_IR"
      },
      "source": [
        "def RFE_timelagged_y(dataframe):\n",
        "  from sklearn.feature_selection import RFE\n",
        "  from sklearn.ensemble import RandomForestRegressor\n",
        "  from matplotlib import pyplot\n",
        "  array = dataframe.values\n",
        "  X = array[:,0:-1]\n",
        "  y = array[:,-1]\n",
        "  # perform feature selection\n",
        "  rfe = RFE(RandomForestRegressor(n_estimators=500, random_state=1), n_features_to_select=4)\n",
        "  fit = rfe.fit(X, y)\n",
        "  # report selected features\n",
        "  print('Selected Features:')\n",
        "  names = dataframe.columns.values[0:-1]\n",
        "  for i in range(len(fit.support_)):\n",
        "    if fit.support_[i]:\n",
        "      print(names[i])\n",
        "  # plot feature rank\n",
        "  names = dataframe.columns.values[0:-1]\n",
        "  ticks = [i for i in range(len(names))]\n",
        "  pyplot.bar(ticks, fit.ranking_)\n",
        "  pyplot.xticks(ticks, names)\n",
        "  pyplot.show()"
      ],
      "execution_count": null,
      "outputs": []
    },
    {
      "cell_type": "markdown",
      "metadata": {
        "id": "dLOOBhX3HCWo"
      },
      "source": [
        "Selected Features:\n",
        "t-6\n",
        "t-3\n",
        "t-2\n",
        "t-1"
      ]
    },
    {
      "cell_type": "code",
      "metadata": {
        "id": "Y8KFnDZNB8j3"
      },
      "source": [
        "df.shape"
      ],
      "execution_count": null,
      "outputs": []
    },
    {
      "cell_type": "code",
      "metadata": {
        "id": "oCR7KVUWB8xk"
      },
      "source": [
        "# create num_lags number of new columns of shifted observations\n",
        "def baseline_timeseries_multilags_y(Y, num_lags, rolling_window_widths, ewm_alphas):\n",
        "  from sklearn.linear_model import LinearRegression\n",
        "  values = pd.DataFrame(Y)\n",
        "  from sklearn.metrics import mean_squared_error\n",
        "\n",
        "  # Create lagged dataset\n",
        "  dataframe = pd.DataFrame()\n",
        "  for i in range(num_lags+1):\n",
        "    dataframe['t-'+str(i)] = values.shift(i).values[:,0]\n",
        "\n",
        "  if len(rolling_window_widths)>0:\n",
        "    for rolling_window in rolling_window_widths:\n",
        "      # temp solution: add rolling before target y as rolling mean of t-1 as we extract y as last column later\n",
        "      dataframe['rolling std '+str(rolling_window)] = dataframe['t-1'].rolling(window=rolling_window).std()\n",
        "      dataframe['rolling mean '+str(rolling_window)] = dataframe['t-1'].rolling(window=rolling_window).mean()\n",
        "  if len(ewm_alphas)>0:\n",
        "    for alpha in ewm_alphas: \n",
        "      dataframe['ewm_mean '+str(alpha)] = dataframe['t-1'].ewm(alpha=alpha).mean()\n",
        "      dataframe['ewm_std '+str(alpha)] = dataframe['t-1'].ewm(alpha=alpha).std()\n",
        "\n",
        "  #print(dataframe.head(num_lags+1))\n",
        "  ignored_nans = max(num_lags, len(rolling_window_widths), )\n",
        "  dataframe = dataframe[ignored_nans+1:]\n",
        "  dataframe.head(10)\n",
        "  return dataframe"
      ],
      "execution_count": null,
      "outputs": []
    },
    {
      "cell_type": "code",
      "metadata": {
        "id": "bhhnILYFKLXh"
      },
      "source": [
        "def LinearRegression_mse(dataframe):\n",
        "  from sklearn.metrics import mean_squared_error\n",
        "  from sklearn.linear_model import LinearRegression \n",
        "\n",
        "  #X = dataframe.values\n",
        "  train_size = int(len(dataframe) * 0.66)\n",
        "  train_y = dataframe.iloc[:train_size, 0].values\n",
        "  train_X = dataframe.iloc[:train_size, 1:].values\n",
        "\n",
        "  test_y = dataframe.iloc[train_size:, 0].values\n",
        "  test_X = dataframe.iloc[train_size:, 1:].values\n",
        "\n",
        "  train_y = train_y.reshape(train_y.shape[0], 1)\n",
        "  test_y = test_y.reshape(test_y.shape[0], 1)\n",
        "\n",
        "  print(f'**** train_X shape = {train_X.shape}, test_X shape = {test_X.shape}')\n",
        "  print(f'**** train_y shape = {train_y.shape}, test_y shape = {test_y.shape}')\n",
        "\n",
        "  model = LinearRegression()\n",
        "  model.fit(train_X, train_y)\n",
        "  predictions = model.predict(test_X)\n",
        "  test_score = mean_squared_error(test_y, predictions)\n",
        "\n",
        "  if 0:\n",
        "    print(type(train_X), type(train_y))\n",
        "    print(train_X.shape, train_y.shape)\n",
        "    print(test_X.shape, test_y.shape)\n",
        "    print(f'type model.coef_={type(model.coef_)}')\n",
        "  \n",
        "  print(f'model.coef_={model.coef_}')\n",
        "  print('Test MSE: %.3f' % test_score)  \n",
        "  print(f'model.coef_ shape={model.coef_.shape}, columns = {dataframe.columns[1:]}')\n",
        "\n",
        "  plt.figure()\n",
        "  model.coef_ = model.coef_.reshape(model.coef_.shape[1],)\n",
        "  plt.plot(dataframe.columns[1:], model.coef_, 'r-o')\n",
        "  plt.title('model coef')\n",
        "  plt.xticks(rotation = 60)\n",
        "  plt.grid()\n",
        "  fig = plt.gcf()\n",
        "  fig.set_size_inches(22.5, 3)\n",
        "\n",
        "  # plot predictions and expected results\n",
        "  stop_idx = 100 #len(test_y)\n",
        "  plt.figure()\n",
        "  plt.plot(test_y[:stop_idx], 'r-+')\n",
        "  plt.plot(predictions[:stop_idx], 'g-o')\n",
        "  fig = plt.gcf()\n",
        "  fig.set_size_inches(22.5, 3)\n",
        "\n",
        "  stop_idx = 100 #len(test_y)\n",
        "  plt.figure()\n",
        "  plt.plot(test_y[:stop_idx], 'r-+')\n",
        "  plt.plot(test_y[:stop_idx] - predictions[:stop_idx], 'g-o')\n",
        "  fig = plt.gcf()\n",
        "  fig.set_size_inches(22.5, 3)\n",
        "\n",
        "  plt.figure()\n",
        "  plt.plot(test_y, predictions, 'r+')\n",
        "  fig = plt.gcf()\n",
        "  fig.set_size_inches(5, 5)\n",
        "\n",
        "  return test_score\n"
      ],
      "execution_count": null,
      "outputs": []
    },
    {
      "cell_type": "code",
      "metadata": {
        "id": "6I9NCjdeLhkU"
      },
      "source": [
        "num_lags = 1\n",
        "rolling_window = []\n",
        "ewm_alphas = []\n",
        "y_lagged_df = baseline_timeseries_multilags_y(Y, num_lags, rolling_window, ewm_alphas)\n",
        "#y_lagged_df = y_lagged_df[['t-6', 't-3', 't-2', 't-1', 't']]\n",
        "(y_lagged_df.head())"
      ],
      "execution_count": null,
      "outputs": []
    },
    {
      "cell_type": "code",
      "metadata": {
        "id": "0JuwiKJOB8_p"
      },
      "source": [
        "num_lags = 5\n",
        "rolling_window = [6, 12]\n",
        "ewm_alphas = [0.75, 0.5, 0.1]\n",
        "y_lagged_df = baseline_timeseries_multilags_y(Y, num_lags, rolling_window, ewm_alphas)\n",
        "#y_lagged_df = y_lagged_df[['t-6', 't-3', 't-2', 't-1', 't']]\n",
        "(y_lagged_df.head())\n"
      ],
      "execution_count": null,
      "outputs": []
    },
    {
      "cell_type": "code",
      "metadata": {
        "id": "XDF7BXb9H-HP"
      },
      "source": [
        "mse = LinearRegression_mse(y_lagged_df)"
      ],
      "execution_count": null,
      "outputs": []
    },
    {
      "cell_type": "markdown",
      "metadata": {
        "id": "6W72KDRFPoFD"
      },
      "source": [
        "Adding 12 lags of target y yields MSE of 0.5 which is better than mse of 1.0 of naive model of single lag case but still worse;\n",
        "TODO:\n",
        "add lags to the feature sets inckuding read_tput etc;\n",
        "\n"
      ]
    },
    {
      "cell_type": "code",
      "metadata": {
        "id": "kJITjdxZHa2z"
      },
      "source": [
        "print(y_lagged_df.shape, type(y_lagged_df))\n",
        "y_lagged_df.head()"
      ],
      "execution_count": null,
      "outputs": []
    },
    {
      "cell_type": "markdown",
      "metadata": {
        "id": "E2dVi8Ibeiuc"
      },
      "source": [
        "Gradient Boost Regressor mse is 0.04 which is much smaller than mse of baseline mse of 1.02."
      ]
    },
    {
      "cell_type": "code",
      "metadata": {
        "id": "AyuR2EIzH-Y3"
      },
      "source": [
        "y_lagged_df.iloc[:3,:-1]"
      ],
      "execution_count": null,
      "outputs": []
    },
    {
      "cell_type": "code",
      "metadata": {
        "id": "1ehMGxorIyvi"
      },
      "source": [
        "y_lagged_df.iloc[:3,-1]"
      ],
      "execution_count": null,
      "outputs": []
    },
    {
      "cell_type": "code",
      "metadata": {
        "id": "l_3Xm8z7eovv"
      },
      "source": [
        "from sklearn.datasets import make_regression\n",
        "from sklearn.ensemble import GradientBoostingRegressor\n",
        "from sklearn.model_selection import train_test_split\n",
        "X_train, X_test, y_train, y_test = train_test_split(X, Y, random_state=0)\n",
        "reg = GradientBoostingRegressor(random_state=0)\n",
        "reg.fit(X_train, y_train)\n",
        "reg.score(X_test, y_test)\n"
      ],
      "execution_count": null,
      "outputs": []
    },
    {
      "cell_type": "code",
      "metadata": {
        "id": "tVSrXgoHfrIX"
      },
      "source": [
        "from sklearn.metrics import mean_squared_error\n",
        "y_hat = reg.predict(X_test)\n",
        "mse = mean_squared_error(y_test, y_hat)\n",
        "print(f'mse={mse}')\n",
        "plt.plot(y_test, y_hat, '+')"
      ],
      "execution_count": null,
      "outputs": []
    },
    {
      "cell_type": "markdown",
      "metadata": {
        "id": "P4_jA_iqFHL-"
      },
      "source": [
        "The effect of time in this data set is not clear as shown be correlation of time with target.\n",
        "Thus we can use KFold for cross-validation.\n"
      ]
    },
    {
      "cell_type": "markdown",
      "metadata": {
        "id": "xGLIPvv-PhR-"
      },
      "source": [
        ""
      ]
    },
    {
      "cell_type": "code",
      "metadata": {
        "id": "rIB0EOqZYNOT"
      },
      "source": [
        "# Use LinearRegression for regression, DecisionTreeRegressor for feature selection\n",
        "# explore the number of selected features for RFE\n",
        "# Try Ridge, Lasso, ElasticNet for regularization and feature selection\n",
        "from numpy import mean\n",
        "from numpy import std\n",
        "from sklearn.datasets import make_classification\n",
        "from sklearn.model_selection import cross_val_score\n",
        "from sklearn.model_selection import KFold\n",
        "from sklearn.feature_selection import RFE\n",
        "from sklearn.linear_model import LinearRegression, Ridge, Lasso, ElasticNet\n",
        "from sklearn.tree import DecisionTreeRegressor\n",
        "from sklearn.pipeline import Pipeline\n",
        "from matplotlib import pyplot\n",
        "\n",
        "n_features_to_select = [2, len(x_cols)]\n",
        "ridge_alpha = 0.1 # larger alpha stronger regularisation\n",
        "lasso_alpha = 0.1 # larger alpha stronger regularisation\n",
        "\n",
        "from enum import Enum\n",
        "class LRModel(Enum):\n",
        "   LR = 1\n",
        "   RIDGE = 2\n",
        "   LASSO = 3\n",
        "   ELASTICNET = 4\n",
        "\n",
        "# get the dataset\n",
        "def get_dataset(X, Y):\n",
        "\tX, y = X, Y\n",
        "\treturn X, y\n",
        "\n",
        "# get a list of models to evaluate\n",
        "def get_models(model_choice):\n",
        "  models = dict()\n",
        "  for i in range(n_features_to_select[0], n_features_to_select[1]):\n",
        "    #rfe = RFE(estimator=LinearRegression(), n_features_to_select=i)\n",
        "    rfe = RFE(estimator=DecisionTreeRegressor(), n_features_to_select=i)\n",
        "    if model_choice == LRModel.LR:\n",
        "      model = LinearRegression()\n",
        "    elif model_choice == LRModel.RIDGE:\n",
        "      model = Ridge()\n",
        "    elif model_choice == LRModel.LASSO:\n",
        "      model = Lasso()\n",
        "    elif model_choice == LRModel.ELASTICNET:\n",
        "      model = ElasticNet()\n",
        "    else:\n",
        "      print(\"Unexpected arg for LR model\")\n",
        "      raise\n",
        "  models[str(i)] = Pipeline(steps=[('s',rfe),('m',model)])\n",
        "  return models\n",
        "\n",
        "# evaluate a give model using cross-validation\n",
        "def evaluate_model(model, X, y):\n",
        "\tcv = KFold(n_splits=10, shuffle=False, random_state=1)\n",
        "\tscores = cross_val_score(model, X, y, scoring='neg_mean_squared_error', cv=cv, n_jobs=-1, error_score='raise')\n",
        "\treturn scores\n",
        "\n",
        "\n",
        "# define dataset\n",
        "X, y = get_dataset(X, Y)\n"
      ],
      "execution_count": null,
      "outputs": []
    },
    {
      "cell_type": "code",
      "metadata": {
        "id": "yhl4lvM1F2Sp"
      },
      "source": [
        "# RFE + LinearRegression/Ridge/Lasso/ElasticNet + evaluate_model\n",
        "# get the models to evaluate\n",
        "models = get_models(LRModel.RIDGE)\n",
        "\n",
        "# KFOLD Cross-validation\n",
        "# evaluate the models and store results\n",
        "results, names = list(), list()\n",
        "for name, model in models.items():\n",
        "\tscores = evaluate_model(model, X, y)\n",
        "\tresults.append(scores)\n",
        "\tnames.append(name)\n",
        "\tprint('>%s %.3f (%.3f)' % (name, mean(scores), std(scores)))\n",
        "# plot model performance for comparison\n",
        "pyplot.boxplot(results, labels=names, showmeans=True)\n",
        "pyplot.show()\n"
      ],
      "execution_count": null,
      "outputs": []
    },
    {
      "cell_type": "code",
      "metadata": {
        "id": "GlOcaazcGfeq"
      },
      "source": [
        "# Time-series split with time continuity kept\n",
        "# evaluate the models and store results\n",
        "\n",
        "TRAIN_FRACTION = 0.7\n",
        "L_train = int(len(Y)*TRAIN_FRACTION)\n",
        "\n",
        "X_train = X[:L_train, :]\n",
        "Y_train = Y[:L_train]\n",
        "X_test = X[L_train:, :]\n",
        "Y_test = Y[L_train:]\n",
        "\n",
        "results, names = list(), list()\n",
        "model.fit(X_train, Y_train)\n",
        "predicted = model.predict(X_test, Y_test)\n",
        "\n",
        "pyplot.boxplot(results, labels=names, showmeans=True)\n",
        "pyplot.show()"
      ],
      "execution_count": null,
      "outputs": []
    },
    {
      "cell_type": "code",
      "metadata": {
        "id": "NNwjNOPrGzl1"
      },
      "source": [
        ""
      ],
      "execution_count": null,
      "outputs": []
    },
    {
      "cell_type": "code",
      "metadata": {
        "id": "s5vgA3c2vtXx"
      },
      "source": [
        "# DNN regression\n",
        "NUM_SPLITS = 5\n",
        "NUM_EPOCHS = 1\n",
        "BATCH_SIZE = 10\n",
        "\n",
        "# Regression\n",
        "from keras.models import Sequential\n",
        "from keras.layers import Dense\n",
        "from keras.wrappers.scikit_learn import KerasRegressor\n",
        "from sklearn.model_selection import cross_val_score\n",
        "from sklearn.model_selection import KFold\n",
        "from sklearn.pipeline import Pipeline\n",
        "\n",
        "Y = data[:, Y_INDEX_DATA]\n",
        "X = data[:, X_FIRST_INDEX_DATA:]\n",
        "\n",
        "# define base model\n",
        "def baseline_model():\n",
        "\tmodel = Sequential()\n",
        "\tmodel.add(Dense(18, input_dim=X.shape[1], kernel_initializer='normal', activation='relu'))\n",
        "\tmodel.add(Dense(8, kernel_initializer='normal', activation='relu'))\n",
        "\tmodel.add(Dense(8, kernel_initializer='normal', activation='relu'))\n",
        "\tmodel.add(Dense(1, kernel_initializer='normal'))\n",
        "\tmodel.compile(loss='mean_squared_error', optimizer='adam')\n",
        "\treturn model\n",
        "  \n",
        "# Step: evaluate model with standardized dataset\n",
        "estimators = []\n",
        "estimators.append(('mlp', KerasRegressor(build_fn=baseline_model, epochs=NUM_EPOCHS, batch_size=BATCH_SIZE, verbose=2)))\n",
        "pipeline = Pipeline(estimators)\n",
        "\n",
        "kfold = KFold(n_splits = NUM_SPLITS, shuffle=False)\n",
        "print(f'X shape={X.shape}, Y shape = {Y.shape}')\n",
        "results = cross_val_score(pipeline, X, Y, cv=kfold)\n",
        "print(f'results of cross_val_score = {results}')\n",
        "print(\"Standardized: %.2f (%.2f) MSE\" % (results.mean(), results.std()))\n"
      ],
      "execution_count": null,
      "outputs": []
    },
    {
      "cell_type": "code",
      "metadata": {
        "id": "SSLnCrYavtk7"
      },
      "source": [
        "# DNN/MLP: get predicted values\n",
        "from sklearn.model_selection import cross_val_predict\n",
        "# TRY this also\n",
        "#from sklearn import linear_model\n",
        "\n",
        "# cross_val_predict returns an array of the same size as `y` where each entry\n",
        "# is a prediction obtained by cross validation:\n",
        "#results = cross_val_score(pipeline, X, Y, cv=kfold)\n",
        "predicted = cross_val_predict(pipeline, X, Y, cv=kfold)\n",
        "# method='predict', \n",
        "# X: array-like of shape (n_samples, n_features)\n",
        "# Returns: When method is ‘predict’: (n_samples,)\n",
        "\n",
        "fig, ax = plt.subplots()\n",
        "ax.scatter(Y, predicted)\n",
        "ax.plot([Y.min(), Y.max()], [Y.min(), Y.max()], 'k--', lw=4)\n",
        "ax.set_xlabel('Measured')\n",
        "ax.set_ylabel('Predicted')\n",
        "ax.grid()\n",
        "plt.show()"
      ],
      "execution_count": null,
      "outputs": []
    },
    {
      "cell_type": "code",
      "metadata": {
        "id": "fCTuPWtTwzAW"
      },
      "source": [
        "mse = mean_squared_error(Y, predicted)\n",
        "print(f'mse={mse}')\n"
      ],
      "execution_count": null,
      "outputs": []
    },
    {
      "cell_type": "markdown",
      "metadata": {
        "id": "7K1bRffESCD0"
      },
      "source": [
        "# DNN mse 0.06 is worse than GradientBoost 0.04"
      ]
    },
    {
      "cell_type": "code",
      "metadata": {
        "id": "wxCsofhfhijW"
      },
      "source": [
        "# plot against time IN transformed/scaled version\n",
        "def plot_prediction_time(start, stop, X, Y, predicted):\n",
        "  num_cols = 3\n",
        "  plt.subplot(num_cols, 1, 1)\n",
        "  plt.plot(X[start:stop, x_cols.index('timestamp_seconds')], Y[start:stop], 'b-+', label='rea target')\n",
        "  #plt.plot(X[start:stop, x_cols.index('timestamp_seconds')], ( predicted[start:stop]), 'g-o', label='predicted target')\n",
        "  plt.plot(X[start:stop, x_cols.index('timestamp_seconds')], (Y[start:stop] - predicted[start:stop]), 'g-o', label='error')\n",
        "  plt.ylabel('scaled target')\n",
        "  plt.xlabel('scaled time')\n",
        "  plt.grid(True)\n",
        "  plt.legend()\n",
        "\n",
        "  plt.subplot(num_cols, 1, 2)\n",
        "  plt.plot(data[start:stop, data_cols.index('timestamp_seconds')], (Y[start:stop] - predicted[start:stop])/(Y[start:stop]), 'r-*', label='error/real')\n",
        "  plt.ylim(0, 1)\n",
        "  plt.ylabel('scaled target')\n",
        "  plt.xlabel('scaled time')\n",
        "  plt.grid(True)\n",
        "  plt.legend()\n",
        "\n",
        "  plt.subplot(num_cols, 1, 3)\n",
        "  #plt.plot(X[start:stop, x_cols.index('timestamp_seconds')])\n",
        "  plt.hist((Y[start:stop] - predicted[start:stop])/(Y[start:stop]), bins=100)\n",
        "  plt.ylabel('scaled time')\n",
        "\n",
        "  fig = plt.gcf()\n",
        "  fig.set_size_inches(22.5, num_cols*3)\n",
        "\n",
        "\n",
        "# Get orignal target w/o transformation from df\n",
        "def get_target(df, systemId_selected, numerical_transform_cols):\n",
        "  if systemId_selected[0] == 'All':\n",
        "    df_tmp = df[numerical_transform_cols]\n",
        "  else:  \n",
        "    df_tmp = df[df['systemId']==systemId_selected[0]][numerical_transform_cols]\n",
        "  return df_tmp.values\n"
      ],
      "execution_count": null,
      "outputs": []
    },
    {
      "cell_type": "code",
      "metadata": {
        "id": "WBkHs8Gdxp6Y"
      },
      "source": [
        "start= 1000 #int(0*24*60/5)\n",
        "stop = 1111 #len(Y) #int(1*24*60/5)\n",
        "plot_prediction_time(start, stop, X, Y, predicted)\n",
        "\n"
      ],
      "execution_count": null,
      "outputs": []
    },
    {
      "cell_type": "code",
      "metadata": {
        "id": "YmJANDYhGtX8"
      },
      "source": [
        "start=100; stop=110\n",
        "print(Y[start:stop], '\\n',predicted[start:stop], '\\n',\n",
        "      Y[start:stop]- predicted[start:stop], '\\n', (Y[start:stop]- predicted[start:stop])/Y[start:stop])\n"
      ],
      "execution_count": null,
      "outputs": []
    },
    {
      "cell_type": "code",
      "metadata": {
        "id": "rGHpeYz6GIA3"
      },
      "source": [
        "plt.plot(Y, predicted, '+')\n",
        "plt.grid()\n",
        "fig = plt.gcf()\n",
        "fig.set_size_inches(22.5, 5)"
      ],
      "execution_count": null,
      "outputs": []
    },
    {
      "cell_type": "code",
      "metadata": {
        "id": "7edDXw2TxBV1"
      },
      "source": [
        "y_real = get_target(df, SYSTEM_ID_SELECTED, 'cpu_utilization' )\n",
        "\n",
        "# RUN: inverse_transform of predicted target \n",
        "y_hat = target_transformer.inverse_transform( predicted.reshape(predicted.shape[0], 1) )\n",
        "print(predicted.shape, y_hat.shape, type(y_hat))\n"
      ],
      "execution_count": null,
      "outputs": []
    },
    {
      "cell_type": "code",
      "metadata": {
        "id": "HDkxtKHexa_C"
      },
      "source": [
        "# RUN: inverse_transform TRUE target transformed\n",
        "y_real_inverse_transfomred = target_transformer.inverse_transform( Y.reshape(Y.shape[0], 1) )\n",
        "print(Y.shape, y_real_inverse_transfomred.shape, type(y_real_inverse_transfomred))\n"
      ],
      "execution_count": null,
      "outputs": []
    },
    {
      "cell_type": "code",
      "metadata": {
        "id": "wdxBPl5XzBQ4"
      },
      "source": [
        "plt.plot(y_real, y_real_inverse_transfomred, '+')\n",
        "plt.grid()\n",
        "fig = plt.gcf()\n",
        "fig.set_size_inches(22.5, 5)"
      ],
      "execution_count": null,
      "outputs": []
    },
    {
      "cell_type": "code",
      "metadata": {
        "id": "mkFDk0ASyHea"
      },
      "source": [
        "plt.plot(y_real_inverse_transfomred, y_hat, '+')\n",
        "plt.grid()\n",
        "fig = plt.gcf()\n",
        "fig.set_size_inches(22.5, 5)\n"
      ],
      "execution_count": null,
      "outputs": []
    },
    {
      "cell_type": "code",
      "metadata": {
        "id": "1iKuQORI0GEQ"
      },
      "source": [
        "# TODO: get real time in timedate\n",
        "#plot inverse transformed y_hat against time\n",
        "fig, ax = plt.subplots()\n",
        "start= int(0*24*60/5)\n",
        "stop = int(0.2*24*60/5)\n",
        "\n",
        "ax.plot(X[:, x_cols.index('timestamp_seconds')][start:stop], y_real[start:stop], 'b-+', label='real')\n",
        "ax.plot(X[:, x_cols.index('timestamp_seconds')][start:stop], y_hat[:, 0][start:stop], 'g-o', label='predicted')\n",
        "ax.set_xlabel('scaled time')\n",
        "ax.set_ylabel('Predicted')\n",
        "ax.grid()\n",
        "ax.legend()\n",
        "fig = plt.gcf()\n",
        "fig.set_size_inches(22.5, 3)\n",
        "plt.show()\n"
      ],
      "execution_count": null,
      "outputs": []
    },
    {
      "cell_type": "code",
      "metadata": {
        "id": "IqOQt7XBLb-s"
      },
      "source": [
        "# Run this after Standardarization\n",
        "# Add nonlinear transformation of features\n",
        "df['rw_cache_miss_ratio'] = df['read_cache_miss'] / df['write_cache_miss']\n",
        "df['rw_iops_ratio'] = df['read_iops'] / df['write_iops']\n",
        "df['rw_throughput_ratio'] = df['read_throughput'] / df['write_throughput']\n",
        "df['rw_iosz_ratio'] = df['read_iosz'] / df['write_iosz']\n",
        "\n",
        "df['rw_cache_miss_diff'] = df['read_cache_miss'] - df['write_cache_miss']\n",
        "df['rw_iops_diff'] = df['read_iops'] - df['write_iops']\n",
        "df['rw_throughput_diff'] = df['read_throughput'] - df['write_throughput']\n",
        "df['rw_iosz_diff'] = df['read_iosz'] - df['write_iosz']"
      ],
      "execution_count": null,
      "outputs": []
    },
    {
      "cell_type": "code",
      "metadata": {
        "id": "7vjiyYZ1U7x7"
      },
      "source": [
        "# remove cols_remove from cols;\n",
        "# divide cols into array of lists of size W \n",
        "def split_columns(cols, cols_remove, W):\n",
        "  for col in cols_remove:\n",
        "    cols.remove(col)\n",
        "  L = len(cols)\n",
        "  R = int(L/W)\n",
        "  x1 = list(np.array(cols[:R*W]).reshape(R,W))\n",
        "  x2 = cols[R*W:]\n",
        "  x1.append(x2)\n",
        "  return x1"
      ],
      "execution_count": null,
      "outputs": []
    },
    {
      "cell_type": "code",
      "metadata": {
        "id": "TM0rK8fcJAC4"
      },
      "source": [
        "# RUN: pairplotr VERY SLOW for larger number of features! !!\n",
        "def pairplot(df, systemId_selected, cols, title_str):\n",
        "  if len(systemId_selected)>0:\n",
        "    df = df[df['systemId']==systemId_selected]\n",
        "  sns.pairplot(df[cols], corner=True)\n",
        "  fig = plt.gcf()\n",
        "  fig.set_size_inches(15.5, 3*2)\n",
        "  fig.suptitle(f'{title_str}, systemId {systemId_selected[0]}')\n",
        "  plt.show()"
      ],
      "execution_count": null,
      "outputs": []
    },
    {
      "cell_type": "code",
      "metadata": {
        "id": "mHKHE7h5Z91t"
      },
      "source": [
        ""
      ],
      "execution_count": null,
      "outputs": []
    },
    {
      "cell_type": "code",
      "metadata": {
        "id": "nKyG7xdKHobv"
      },
      "source": [
        "systemId = 'sys1'\n",
        "cols = list(df.columns.values)\n",
        "cols_remove = ['timestamp_seconds', 'systemId', 'model_type']\n",
        "W = 4\n",
        "cols_groups = split_columns(cols, cols_remove, W)\n",
        "print(f'cols_groups={cols_groups}')\n",
        "title_str = 'Before Transformation'\n",
        "\n",
        "for col_subset in cols_groups:\n",
        "  pairplot(df, systemId, col_subset, title_str)"
      ],
      "execution_count": null,
      "outputs": []
    },
    {
      "cell_type": "code",
      "metadata": {
        "id": "SmqsItbZ_bCR"
      },
      "source": [
        "print(f' data.shape={data.shape}, data_cols len={len(data_cols)}\\n data_cols={data_cols}')\n"
      ],
      "execution_count": null,
      "outputs": []
    },
    {
      "cell_type": "code",
      "metadata": {
        "id": "3_jGhaNqH-FO"
      },
      "source": [
        ""
      ],
      "execution_count": null,
      "outputs": []
    },
    {
      "cell_type": "code",
      "metadata": {
        "id": "EgtNPUf0xp-x"
      },
      "source": [
        "\n",
        "fig, ax = plt.subplots()\n",
        "ax.scatter(y_real, y_hat[:, 0])\n",
        "ax.plot([y_real.min(), y_real.max()], [y_real.min(), y_real.max()], 'k--', lw=4)\n",
        "ax.set_xlabel('Measured')\n",
        "ax.set_ylabel('Predicted')\n",
        "ax.grid()\n",
        "fig = plt.gcf()\n",
        "fig.set_size_inches(18.5, 5)\n",
        "plt.show()\n",
        "predicted.shape\n"
      ],
      "execution_count": null,
      "outputs": []
    },
    {
      "cell_type": "code",
      "metadata": {
        "id": "UcgEv1n7xqD-"
      },
      "source": [
        ""
      ],
      "execution_count": null,
      "outputs": []
    },
    {
      "cell_type": "code",
      "metadata": {
        "id": "TyVV3Z8pvqgK"
      },
      "source": [
        ""
      ],
      "execution_count": null,
      "outputs": []
    },
    {
      "cell_type": "markdown",
      "metadata": {
        "id": "BMZkqYdVz_Gu"
      },
      "source": [
        "Finished regression here"
      ]
    },
    {
      "cell_type": "code",
      "metadata": {
        "id": "1eL3dMJyUnxm"
      },
      "source": [
        "# Use LinearRegression for regression, LinearRegression for feature selection\n",
        "# DecisionTreeRegressor for feature selection ??? TODO\n",
        "# explore the number of selected features for RFE\n",
        "from numpy import mean\n",
        "from numpy import std\n",
        "from sklearn.datasets import make_classification\n",
        "from sklearn.model_selection import cross_val_score\n",
        "from sklearn.model_selection import KFold\n",
        "from sklearn.feature_selection import RFE\n",
        "from sklearn.linear_model import LinearRegression\n",
        "from sklearn.tree import DecisionTreeRegressor\n",
        "\n",
        "from sklearn.pipeline import Pipeline\n",
        "from matplotlib import pyplot\n",
        "\n",
        "n_features_to_select = [2, len(x_cols)]\n",
        "\n",
        "# get the dataset\n",
        "def get_dataset(X, Y):\n",
        "\tX, y = X, Y\n",
        "\treturn X, y\n",
        "\n",
        "# get a list of models to evaluate\n",
        "def get_models():\n",
        "\tmodels = dict()\n",
        "\tfor i in range(n_features_to_select[0], n_features_to_select[1]):\n",
        "\t\t#rfe = RFE(estimator=LinearRegression(), n_features_to_select=i)\n",
        "\t\trfe = RFE(estimator=DecisionTreeRegressor(), n_features_to_select=i)\n",
        "\t\tmodel = LinearRegression()\n",
        "\t\tmodels[str(i)] = Pipeline(steps=[('s',rfe),('m',model)])\n",
        "\treturn models\n",
        "\n",
        "# evaluate a give model using cross-validation\n",
        "def evaluate_model(model, X, y):\n",
        "\tcv = KFold(n_splits=10, shuffle=False, random_state=1)\n",
        "\tscores = cross_val_score(model, X, y, scoring='neg_mean_squared_error', cv=cv, n_jobs=-1, error_score='raise')\n",
        "\treturn scores\n",
        "\n",
        "\n",
        "# define search space\n",
        "param_space = dict()\n",
        "param_space['n_estimators'] = [10, 100, 500]\n",
        "param_space['max_features'] = [2, 4, 6]\n",
        "\n",
        "def grid_search_regression(model, param_space):\n",
        "  cv_inner = KFold(n_splits=3, shuffle=True, random_state=1)\n",
        "  # define search\n",
        "  search = GridSearchCV(model, space, scoring=‘neg_mean_squared_error’, n_jobs=1, cv=cv_inner, refit=True)\n",
        "  # configure the cross-validation procedure\n",
        "  cv_outer = KFold(n_splits=10, shuffle=True, random_state=1)\n",
        "  # execute the nested cross-validation\n",
        "  scores = cross_val_score(search, X, y, scoring='accuracy', cv=cv_outer, n_jobs=-1)\n",
        "  # report performance\n",
        "  print('mse: %.3f (%.3f)' % (mean(scores), std(scores)))\n",
        "\n",
        "\n"
      ],
      "execution_count": null,
      "outputs": []
    },
    {
      "cell_type": "code",
      "metadata": {
        "id": "jGgXG65RwIAn"
      },
      "source": [
        "# grid search\n",
        "# define dataset\n",
        "X, y = get_dataset(X, Y)\n",
        "# get the models to evaluate\n",
        "models = get_models()\n",
        "# evaluate the models and store results\n",
        "results, names = list(), list()\n",
        "for name, model in models.items():\n",
        "\tscores = evaluate_model(model, X, y)\n",
        "\tresults.append(scores)\n",
        "\tnames.append(name)\n",
        "\tprint('>%s %.3f (%.3f)' % (name, mean(scores), std(scores)))\n",
        "# plot model performance for comparison\n",
        "pyplot.boxplot(results, labels=names, showmeans=True)\n",
        "pyplot.show()\n",
        "pyplot.grid()"
      ],
      "execution_count": null,
      "outputs": []
    },
    {
      "cell_type": "code",
      "metadata": {
        "id": "gCQb4VZIVVFd"
      },
      "source": [
        "# non grid search:\n",
        "# define dataset\n",
        "X, y = get_dataset(X, Y)\n",
        "# get the models to evaluate\n",
        "models = get_models()\n",
        "# evaluate the models and store results\n",
        "results, names = list(), list()\n",
        "for name, model in models.items():\n",
        "\tscores = evaluate_model(model, X, y)\n",
        "\tresults.append(scores)\n",
        "\tnames.append(name)\n",
        "\tprint('>%s %.3f (%.3f)' % (name, mean(scores), std(scores)))\n",
        "# plot model performance for comparison\n",
        "pyplot.boxplot(results, labels=names, showmeans=True)\n",
        "pyplot.show()\n",
        "pyplot.grid()"
      ],
      "execution_count": null,
      "outputs": []
    },
    {
      "cell_type": "markdown",
      "metadata": {
        "id": "_zREitEanNuH"
      },
      "source": [
        "## Q5. Create a column where cpu_utilization < 20 is 0 and cpu_utilization >= 20 as 1. Using this newly created column build a logistic regression. Commment on the evaluation of the model."
      ]
    },
    {
      "cell_type": "code",
      "metadata": {
        "id": "Twy9oe8xnNRM"
      },
      "source": [
        "check_data_dims()"
      ],
      "execution_count": null,
      "outputs": []
    },
    {
      "cell_type": "code",
      "metadata": {
        "id": "fG8Kz56q2VPx"
      },
      "source": [
        "target_threshold = target_transformer.transform([[20]])\n",
        "target_threshold = target_threshold[0]\n",
        "f = lambda x: x>target_threshold\n",
        "Y_cat = f(Y)"
      ],
      "execution_count": null,
      "outputs": []
    },
    {
      "cell_type": "code",
      "metadata": {
        "id": "NsE8yLmWwqhp"
      },
      "source": [
        ""
      ],
      "execution_count": null,
      "outputs": []
    },
    {
      "cell_type": "markdown",
      "metadata": {
        "id": "hS8EonF0wsTz"
      },
      "source": [
        "permutatation importance for regression"
      ]
    },
    {
      "cell_type": "code",
      "metadata": {
        "id": "-zhphLf4wzm0"
      },
      "source": [
        "# permutation feature importance with knn for regression\n",
        "# define the model\n",
        "def permutation_importance_regression(model, X, Y, x_cols, scoring, title):\n",
        "  from sklearn.model_selection import train_test_split\n",
        "  from sklearn.inspection import permutation_importance\n",
        "  X_train, X_test, y_train, y_test = train_test_split(\n",
        "      X, Y, random_state=0)\n",
        "  # fit the model\n",
        "  model.fit(X_train, y_train)\n",
        "  # perform permutation importance\n",
        "  results = permutation_importance(model, X_train, y_train, scoring=scoring)\n",
        "  # get importance\n",
        "  importance = results.importances_mean\n",
        "  # summarize feature importance\n",
        "  for i,v in enumerate(importance):\n",
        "    print('Feature: %0d, Score: %.5f' % (i,v))\n",
        "  # plot feature importance\n",
        "  plt.bar([x for x in x_cols], importance)\n",
        "  plt.title(title)\n",
        "  plt.xticks(rotation = 60) # Rotates X-Axis Ticks by 45-degrees\n",
        "  fig = plt.gcf()\n",
        "  fig.set_size_inches(18, 7)\n",
        "  plt.show()\n"
      ],
      "execution_count": null,
      "outputs": []
    },
    {
      "cell_type": "code",
      "metadata": {
        "id": "HLZkbebq0hay"
      },
      "source": [
        "from sklearn.neighbors import KNeighborsRegressor\n",
        "from sklearn.ensemble import GradientBoostingRegressor\n",
        "models = [GradientBoostingRegressor(), KNeighborsRegressor()]\n",
        "scoring='neg_mean_squared_error'\n",
        "title = 'Feature importance of GradientBoostingRegressor' +'scoring ' + scoring\n",
        "permutation_importance_regression(models[0], X, Y, x_cols, scoring, title)\n",
        "\n"
      ],
      "execution_count": null,
      "outputs": []
    },
    {
      "cell_type": "markdown",
      "metadata": {
        "id": "ysRLyqmf4Zwi"
      },
      "source": [
        "Base on regression model's permutation importance, the top 5 featurs are:\n",
        "1. write_throughput, \n",
        "2. write_iops, \n",
        "3. read_throughput, \n",
        "4. read_cache_miss,\n",
        "5. read_iops\n",
        "\n",
        "Base on calssification model's permutation importance, the top 5 featurs are:\n",
        " 1. write_iops,   \n",
        " 2. write_throughput, \n",
        " 3. read_throughput, \n",
        " 4. read_cache_miss,\n",
        " 5. read_iops\n",
        "\n",
        "Based on correlation with target cpu_utilization:\n",
        "(run: plot_corr(df, SYSTEM_ID_SELECTED))\n",
        "1. write_throughput     0.774564\n",
        "2. write_iops           0.758773\n",
        "3. read_cache_miss      0.620105\n",
        "4. read_throughput      0.483752\n",
        "5. write_cache_miss     0.453977\n",
        "6. read_iops            0.356857\n",
        "\n",
        "\n",
        "\n",
        "\n",
        "\n",
        "\n"
      ]
    },
    {
      "cell_type": "code",
      "metadata": {
        "id": "_OaEhH2m5V1o"
      },
      "source": [
        "print(type(Y_cat), Y_cat.shape)\n"
      ],
      "execution_count": null,
      "outputs": []
    },
    {
      "cell_type": "markdown",
      "metadata": {
        "id": "imhvnfYXc7ea"
      },
      "source": [
        "Permutation Importance\n"
      ]
    },
    {
      "cell_type": "code",
      "metadata": {
        "id": "Tn3qR1GBc5IX"
      },
      "source": [
        "# permutation importance for classifier\n",
        "from sklearn.ensemble import RandomForestClassifier\n",
        "from sklearn.inspection import permutation_importance\n",
        "from sklearn.model_selection import train_test_split\n",
        "rf = RandomForestClassifier(random_state=0)\n",
        "X_train, X_test, y_train, y_test = train_test_split(\n",
        "    X, Y_cat, stratify=Y_cat, random_state=42)\n",
        "rf.fit(X_train, y_train)\n",
        "\n",
        "print(\"RF train accuracy: %0.3f\" % rf.score(X_train, y_train))\n",
        "print(\"RF test accuracy: %0.3f\" % rf.score(X_test, y_test))\n"
      ],
      "execution_count": null,
      "outputs": []
    },
    {
      "cell_type": "code",
      "metadata": {
        "id": "2LMYKjaWkohN"
      },
      "source": [
        "def plot_permutation_importance(X, Y, title):\n",
        "  result = permutation_importance(rf, X, Y, n_repeats=10,\n",
        "                                  random_state=42, n_jobs=2)\n",
        "  sorted_idx = result.importances_mean.argsort()\n",
        "  fig, ax = plt.subplots()\n",
        "  ax.boxplot(result.importances[sorted_idx].T,\n",
        "            vert=False, labels=[x_cols[k] for k in sorted_idx])\n",
        "  ax.set_title(title)\n",
        "  fig.tight_layout()\n",
        "  plt.grid()\n",
        "  fig.set_size_inches(15, 5)\n",
        "  plt.show()\n",
        "\n"
      ],
      "execution_count": null,
      "outputs": []
    },
    {
      "cell_type": "code",
      "metadata": {
        "id": "UAXww-FSnJ1J"
      },
      "source": [
        "title = \"Permutation Importances (test set)\"\n",
        "plot_permutation_importance(X_test, y_test, title)\n"
      ],
      "execution_count": null,
      "outputs": []
    },
    {
      "cell_type": "code",
      "metadata": {
        "id": "szL7NKl_nJ7q"
      },
      "source": [
        "title = \"Permutation Importances (train set)\"\n",
        "plot_permutation_importance(X_train, y_train, title)\n"
      ],
      "execution_count": null,
      "outputs": []
    },
    {
      "cell_type": "markdown",
      "metadata": {
        "id": "p3ic2XIPYvDY"
      },
      "source": [
        "Tree’s Feature Importance from Mean Decrease in Impurity (MDI)¶\n",
        "\n",
        "\n"
      ]
    },
    {
      "cell_type": "code",
      "metadata": {
        "id": "oFvl_HPrYsAi"
      },
      "source": [
        "from sklearn.ensemble import RandomForestClassifier\n",
        "from sklearn.model_selection import train_test_split\n",
        "\n",
        "X_train, X_test, y_train, y_test = train_test_split(\n",
        "    X, Y_cat, stratify=Y_cat, random_state=42)\n",
        "feature_names = x_cols\n",
        "forest = RandomForestClassifier(random_state=0)\n",
        "\n",
        "forest.fit(X_train, y_train)\n",
        "import time\n",
        "start_time = time.time()\n",
        "importances = forest.feature_importances_\n",
        "std = np.std([\n",
        "    tree.feature_importances_ for tree in forest.estimators_], axis=0)\n",
        "elapsed_time = time.time() - start_time\n",
        "\n",
        "print(f\"Elapsed time to compute the importances: \"\n",
        "      f\"{elapsed_time:.3f} seconds\")\n",
        "import pandas as pd\n",
        "forest_importances = pd.Series(importances, index=feature_names)\n",
        "\n",
        "fig, ax = plt.subplots()\n",
        "forest_importances.plot.bar(yerr=std, ax=ax)\n",
        "ax.set_title(\"Feature importances using MDI\")\n",
        "ax.set_ylabel(\"Mean decrease in impurity\")\n",
        "fig.tight_layout()"
      ],
      "execution_count": null,
      "outputs": []
    },
    {
      "cell_type": "code",
      "metadata": {
        "id": "QdkH8I0faCK8"
      },
      "source": [
        ""
      ],
      "execution_count": null,
      "outputs": []
    },
    {
      "cell_type": "code",
      "metadata": {
        "id": "PY1SniiAaGwQ"
      },
      "source": [
        ""
      ],
      "execution_count": null,
      "outputs": []
    },
    {
      "cell_type": "code",
      "metadata": {
        "id": "0GLu3TcwaxSw"
      },
      "source": [
        "[forest_importances.values, std]"
      ],
      "execution_count": null,
      "outputs": []
    },
    {
      "cell_type": "markdown",
      "metadata": {
        "id": "SzzNQiOavOf6"
      },
      "source": [
        "# Use LDA to reduce dimensitionality and visualise\n",
        "# Use permutation to decide feature importance "
      ]
    },
    {
      "cell_type": "code",
      "metadata": {
        "id": "8bjufSXFnND8"
      },
      "source": [
        "\n"
      ],
      "execution_count": null,
      "outputs": []
    },
    {
      "cell_type": "code",
      "metadata": {
        "id": "v13ctAru_D86"
      },
      "source": [
        ""
      ],
      "execution_count": null,
      "outputs": []
    },
    {
      "cell_type": "code",
      "metadata": {
        "id": "5hBbzJ8G3Tht"
      },
      "source": [
        "# Get orignal target w/o transformation from df\n",
        "def get_target(df, systemId_selected, numerical_transform_cols):\n",
        "  if systemId_selected[0] == 'All':\n",
        "    df_tmp = df[numerical_transform_cols]\n",
        "  else:  \n",
        "    df_tmp = df[df['systemId']==systemId_selected[0]][numerical_transform_cols]\n",
        "  return df_tmp.values\n",
        "\n",
        "y_real = get_target(df, SYSTEM_ID_SELECTED, 'cpu_utilization' )\n",
        "_= plt.hist(y_real)\n",
        "\n",
        "\n",
        "_=plt.hist(Y)"
      ],
      "execution_count": null,
      "outputs": []
    },
    {
      "cell_type": "code",
      "metadata": {
        "id": "cd5FUhHC2JCb"
      },
      "source": [
        ""
      ],
      "execution_count": null,
      "outputs": []
    },
    {
      "cell_type": "code",
      "metadata": {
        "id": "Pu0fFZWt_MB1"
      },
      "source": [
        "f1 = lambda x: x>20\n",
        "y_real_cat = f1(y_real)*1\n",
        "_= plt.hist(y_real_cat)"
      ],
      "execution_count": null,
      "outputs": []
    },
    {
      "cell_type": "code",
      "metadata": {
        "id": "33Bd9EmonM2_"
      },
      "source": [
        "_= plt.hist(Y_cat)"
      ],
      "execution_count": null,
      "outputs": []
    },
    {
      "cell_type": "code",
      "metadata": {
        "id": "1f4_54yf88xW"
      },
      "source": [
        "# Use LogisticRegression for classification, DecisionTreeClassifier for feature selection\n",
        "\n",
        "# explore the number of selected features for RFE\n",
        "from numpy import mean\n",
        "from numpy import std\n",
        "from sklearn.datasets import make_classification\n",
        "from sklearn.model_selection import cross_val_score\n",
        "from sklearn.model_selection import RepeatedStratifiedKFold\n",
        "from sklearn.feature_selection import RFE\n",
        "from sklearn.tree import DecisionTreeClassifier\n",
        "from sklearn.linear_model import LogisticRegression\n",
        "\n",
        "from sklearn.ensemble import RandomForestClassifier\n",
        "\n",
        "from sklearn.pipeline import Pipeline\n",
        "from matplotlib import pyplot\n",
        "\n",
        "n_features_to_select = [2, len(x_cols)]\n",
        "\n",
        "# get the dataset\n",
        "def get_dataset(X, Y):\n",
        "\tX, y = X, Y\n",
        "\treturn X, y\n",
        "\n",
        "# get a list of models to evaluate\n",
        "def get_models():\n",
        "\tmodels = dict()\n",
        "\tfor i in range(n_features_to_select[0], n_features_to_select[1]):\n",
        "\t\trfe = RFE(estimator=DecisionTreeClassifier(), n_features_to_select=i)\n",
        "\t\tmodel = LogisticRegression()\n",
        "\t\tmodels[str(i)] = Pipeline(steps=[('s',rfe),('m',model)])\n",
        "\treturn models\n",
        "\n",
        "# evaluate a give model using cross-validation\n",
        "def evaluate_model(model, X, y):\n",
        "\tcv = RepeatedStratifiedKFold(n_splits=10, n_repeats=3, random_state=1)\n",
        "\tscores = cross_val_score(model, X, y, scoring='accuracy', cv=cv, n_jobs=-1, error_score='raise')\n",
        "\treturn scores\n",
        "\n",
        "# define dataset\n",
        "X, y = get_dataset(X, Y_cat)\n",
        "# get the models to evaluate\n",
        "models = get_models()\n",
        "# evaluate the models and store results\n",
        "results, names = list(), list()\n",
        "for name, model in models.items():\n",
        "\tscores = evaluate_model(model, X, y)\n",
        "\tresults.append(scores)\n",
        "\tnames.append(name)\n",
        "\tprint('>%s %.3f (%.3f)' % (name, mean(scores), std(scores)))\n",
        "# plot model performance for comparison\n",
        "pyplot.boxplot(results, labels=names, showmeans=True)\n",
        "pyplot.show()"
      ],
      "execution_count": null,
      "outputs": []
    },
    {
      "cell_type": "markdown",
      "metadata": {
        "id": "bWPq13WoFkwb"
      },
      "source": [
        "## Q6. Fit a simple decision tree regressor to this data. Comment about the fit of the model"
      ]
    },
    {
      "cell_type": "code",
      "metadata": {
        "id": "SlFfSEKWp2lM"
      },
      "source": [
        "check_data_dims()"
      ],
      "execution_count": null,
      "outputs": []
    },
    {
      "cell_type": "code",
      "metadata": {
        "id": "I6TorxADsQHj"
      },
      "source": [
        ""
      ],
      "execution_count": null,
      "outputs": []
    },
    {
      "cell_type": "code",
      "metadata": {
        "id": "Cm-XHcuoFzD9"
      },
      "source": [
        "# explore the number of selected features for RFE\n",
        "from numpy import mean\n",
        "from numpy import std\n",
        "from sklearn.datasets import make_classification\n",
        "from sklearn.model_selection import cross_val_score\n",
        "from sklearn.model_selection import RepeatedStratifiedKFold\n",
        "from sklearn.feature_selection import RFE\n",
        "from sklearn.tree import DecisionTreeClassifier\n",
        "from sklearn.pipeline import Pipeline\n",
        "from matplotlib import pyplot\n",
        "\n",
        "n_features_to_select = [2, len(x_cols)]\n",
        "\n",
        "# get the dataset\n",
        "def get_dataset(X, Y):\n",
        "\tX, y = X, Y\n",
        "\treturn X, y\n",
        "\n",
        "# get a list of models to evaluate\n",
        "def get_models():\n",
        "\tmodels = dict()\n",
        "\tfor i in range(n_features_to_select[0], n_features_to_select[1]):\n",
        "\t\trfe = RFE(estimator=DecisionTreeClassifier(), n_features_to_select=i)\n",
        "\t\tmodel = DecisionTreeClassifier()\n",
        "\t\tmodels[str(i)] = Pipeline(steps=[('s',rfe),('m',model)])\n",
        "\treturn models\n",
        "\n",
        "# evaluate a give model using cross-validation\n",
        "def evaluate_model(model, X, y):\n",
        "\tcv = RepeatedStratifiedKFold(n_splits=10, n_repeats=3, random_state=1)\n",
        "\tscores = cross_val_score(model, X, y, scoring='accuracy', cv=cv, n_jobs=-1, error_score='raise')\n",
        "\treturn scores\n",
        "\n",
        "# define dataset\n",
        "X, y = get_dataset(X, Y_cat)\n",
        "# get the models to evaluate\n",
        "models = get_models()\n",
        "# evaluate the models and store results\n",
        "results, names = list(), list()\n",
        "for name, model in models.items():\n",
        "\tscores = evaluate_model(model, X, y)\n",
        "\tresults.append(scores)\n",
        "\tnames.append(name)\n",
        "\tprint('>%s %.3f (%.3f)' % (name, mean(scores), std(scores)))\n",
        "# plot model performance for comparison\n",
        "pyplot.boxplot(results, labels=names, showmeans=True)\n",
        "pyplot.show()"
      ],
      "execution_count": null,
      "outputs": []
    },
    {
      "cell_type": "markdown",
      "metadata": {
        "id": "ISHSD3FTQV2H"
      },
      "source": [
        "## Q7. Fit a Random forest regressor. Compare this with simple dicision tree. If Random forest is better then why"
      ]
    },
    {
      "cell_type": "code",
      "metadata": {
        "id": "nvhtU37asU1f"
      },
      "source": [
        "check_data_dims()"
      ],
      "execution_count": null,
      "outputs": []
    },
    {
      "cell_type": "code",
      "metadata": {
        "id": "dErQUbu48RXx"
      },
      "source": [
        ""
      ],
      "execution_count": null,
      "outputs": []
    },
    {
      "cell_type": "markdown",
      "metadata": {
        "id": "deaH7RfM8ScG"
      },
      "source": [
        ""
      ]
    },
    {
      "cell_type": "code",
      "metadata": {
        "id": "GExRlPXA8RjC"
      },
      "source": [
        ""
      ],
      "execution_count": null,
      "outputs": []
    },
    {
      "cell_type": "code",
      "metadata": {
        "id": "Qq5mWNf3QkUD"
      },
      "source": [
        "# Use RandomForestClassifier for classification, DecisionTreeClassifier for feature selection\n",
        "# TODO: add f1-score for biased classification\n",
        "# explore the number of selected features for RFE\n",
        "from numpy import mean\n",
        "from numpy import std\n",
        "from sklearn.datasets import make_classification\n",
        "from sklearn.model_selection import cross_val_score\n",
        "from sklearn.model_selection import RepeatedStratifiedKFold\n",
        "from sklearn.feature_selection import RFE\n",
        "from sklearn.tree import DecisionTreeClassifier\n",
        "from sklearn.ensemble import RandomForestClassifier\n",
        "\n",
        "from sklearn.pipeline import Pipeline\n",
        "from matplotlib import pyplot\n",
        "\n",
        "n_features_to_select = [2, len(x_cols)]\n",
        "\n",
        "# get the dataset\n",
        "def get_dataset(X, Y):\n",
        "\tX, y = X, Y\n",
        "\treturn X, y\n",
        "\n",
        "# get a list of models to evaluate\n",
        "def get_models():\n",
        "\tmodels = dict()\n",
        "\tfor i in range(n_features_to_select[0], n_features_to_select[1]):\n",
        "\t\trfe = RFE(estimator=DecisionTreeClassifier(), n_features_to_select=i)\n",
        "\t\tmodel = RandomForestClassifier()\n",
        "\t\tmodels[str(i)] = Pipeline(steps=[('s',rfe),('m',model)])\n",
        "\treturn models\n",
        "\n",
        "# evaluate a give model using cross-validation\n",
        "def evaluate_model(model, X, y):\n",
        "\tcv = RepeatedStratifiedKFold(n_splits=10, n_repeats=3, random_state=1)\n",
        "\tscores = cross_val_score(model, X, y, scoring='accuracy', cv=cv, n_jobs=-1, error_score='raise')\n",
        "\treturn scores\n",
        "\n",
        "# define dataset\n",
        "X, y = get_dataset(X, Y_cat)\n",
        "# get the models to evaluate\n",
        "models = get_models()\n",
        "# evaluate the models and store results\n",
        "results, names = list(), list()\n",
        "for name, model in models.items():\n",
        "\tscores = evaluate_model(model, X, y)\n",
        "\tresults.append(scores)\n",
        "\tnames.append(name)\n",
        "\tprint('>%s %.3f (%.3f)' % (name, mean(scores), std(scores)))\n",
        "# plot model performance for comparison\n",
        "pyplot.boxplot(results, labels=names, showmeans=True)\n",
        "pyplot.show()"
      ],
      "execution_count": null,
      "outputs": []
    },
    {
      "cell_type": "markdown",
      "metadata": {
        "id": "C0iYXqC-8WF2"
      },
      "source": [
        ""
      ]
    },
    {
      "cell_type": "code",
      "metadata": {
        "id": "CXGqNRcp8VIo"
      },
      "source": [
        "#GridSerachCV for hyperparameters tuning\n",
        "\n",
        "# manual nested cross-validation for random forest on a classification dataset\n",
        "from numpy import mean\n",
        "from numpy import std\n",
        "from sklearn.model_selection import KFold\n",
        "from sklearn.model_selection import GridSearchCV\n",
        "from sklearn.ensemble import RandomForestClassifier\n",
        "from sklearn.metrics import accuracy_score, precision_score, f1_score, recall_score\n",
        "\n",
        "\n",
        "def gridsearch_CV_run(X, Y, scoring, space):\n",
        "  # configure the cross-validation procedure\n",
        "  cv_outer = KFold(n_splits=10, shuffle=True, random_state=1)\n",
        "  # enumerate splits\n",
        "  outer_recall, outer_precision, outer_f1, outer_accuracy = list(),list(),list(),list()\n",
        "  for train_ix, test_ix in cv_outer.split(X):\n",
        "    # split data\n",
        "    X_train, X_test = X[train_ix, :], X[test_ix, :]\n",
        "    y_train, y_test = Y[train_ix], Y[test_ix]\n",
        "    # configure the cross-validation procedure\n",
        "    cv_inner = KFold(n_splits=3, shuffle=True, random_state=1)\n",
        "    # define the model\n",
        "    model = RandomForestClassifier(random_state=1)\n",
        "    # define search\n",
        "    search = GridSearchCV(model, space, scoring=scoring, cv=cv_inner, refit=True)\n",
        "    # execute search\n",
        "    result = search.fit(X_train, y_train)\n",
        "    # get the best performing model fit on the whole training set\n",
        "    best_model = result.best_estimator_\n",
        "    # evaluate model on the hold out dataset\n",
        "    yhat = best_model.predict(X_test)\n",
        "\n",
        "    # evaluate the model\n",
        "    acc = accuracy_score(y_test, yhat)\n",
        "    outer_accuracy.append(acc)\n",
        "\n",
        "    precision = precision_score(y_test, yhat)\n",
        "    outer_precision.append(precision)\n",
        "\n",
        "    f1 = f1_score(y_test, yhat)\n",
        "    outer_f1.append(f1)\n",
        "\n",
        "    recall = recall_score(y_test, yhat)\n",
        "    outer_recall.append(recall)\n",
        "\n",
        "    # report progress\n",
        "    print('est=%.3f, cfg=%s' % (result.best_score_, result.best_params_))\n",
        "    print('acc=%.3f, precision=%.3f, recall=%.3f, f1=%.3f, ' % (acc, precision, recall, f1 ))\n",
        "\n",
        "  # summarize the estimated performance of the model\n",
        "  print(f'outer_accuracy: %.3f (%.3f)' % (mean(outer_accuracy), std(outer_accuracy)))\n",
        "  print(f'outer_precision: %.3f (%.3f)' % (mean(outer_precision), std(outer_precision)))\n",
        "  print(f'outer_recall: %.3f (%.3f)' % (mean(outer_recall), std(outer_recall)))\n",
        "  print(f'outer_f1: %.3f (%.3f)' % (mean(outer_f1), std(outer_f1)))\n"
      ],
      "execution_count": null,
      "outputs": []
    },
    {
      "cell_type": "code",
      "metadata": {
        "id": "iAQNxb2a834h"
      },
      "source": [
        "scoring = 'f1' #'accuracy'\n",
        "# define search space\n",
        "space = dict()\n",
        "space['n_estimators'] = [10, 100, 500]\n",
        "space['max_features'] = [1, 2, 4, 6]\n",
        "\n",
        "gridsearch_CV_run(X, Y_cat, scoring, space)\n"
      ],
      "execution_count": null,
      "outputs": []
    },
    {
      "cell_type": "code",
      "metadata": {
        "id": "_EmvM82G8VT1"
      },
      "source": [
        "X.shape\n"
      ],
      "execution_count": null,
      "outputs": []
    },
    {
      "cell_type": "markdown",
      "metadata": {
        "id": "4_oc59AaQl_2"
      },
      "source": [
        "## Q8. How do improve the accuracy of Random forest regressor"
      ]
    },
    {
      "cell_type": "code",
      "metadata": {
        "id": "UPz1m2MCQs5C"
      },
      "source": [
        "GradientBoost"
      ],
      "execution_count": null,
      "outputs": []
    },
    {
      "cell_type": "code",
      "metadata": {
        "id": "el_i1OMb9Gmh"
      },
      "source": [
        "#GridSerachCV for hyperparameters tuning\n",
        "\n",
        "# manual nested cross-validation for random forest on a classification dataset\n",
        "from numpy import mean\n",
        "from numpy import std\n",
        "from sklearn.model_selection import KFold\n",
        "from sklearn.model_selection import GridSearchCV\n",
        "from sklearn.ensemble import GradientBoostingClassifier\n",
        "from sklearn.metrics import accuracy_score, precision_score, f1_score, recall_score\n",
        "\n",
        "\n",
        "def gridsearch_CV_GBoost(X, Y, scoring, space):\n",
        "  # configure the cross-validation procedure\n",
        "  cv_outer = KFold(n_splits=10, shuffle=True, random_state=1)\n",
        "  # enumerate splits\n",
        "  outer_recall, outer_precision, outer_f1, outer_accuracy = list(),list(),list(),list()\n",
        "  for train_ix, test_ix in cv_outer.split(X):\n",
        "    # split data\n",
        "    X_train, X_test = X[train_ix, :], X[test_ix, :]\n",
        "    y_train, y_test = Y[train_ix], Y[test_ix]\n",
        "    # configure the cross-validation procedure\n",
        "    cv_inner = KFold(n_splits=3, shuffle=True, random_state=1)\n",
        "    # define the model\n",
        "    model = GradientBoostingClassifier(random_state=1)\n",
        "    # define search\n",
        "    search = GridSearchCV(model, space, scoring=scoring, cv=cv_inner, refit=True)\n",
        "    # execute search\n",
        "    result = search.fit(X_train, y_train)\n",
        "    # get the best performing model fit on the whole training set\n",
        "    best_model = result.best_estimator_\n",
        "    # evaluate model on the hold out dataset\n",
        "    yhat = best_model.predict(X_test)\n",
        "\n",
        "    # evaluate the model\n",
        "    acc = accuracy_score(y_test, yhat)\n",
        "    outer_accuracy.append(acc)\n",
        "\n",
        "    precision = precision_score(y_test, yhat)\n",
        "    outer_precision.append(precision)\n",
        "\n",
        "    f1 = f1_score(y_test, yhat)\n",
        "    outer_f1.append(f1)\n",
        "\n",
        "    recall = recall_score(y_test, yhat)\n",
        "    outer_recall.append(recall)\n",
        "\n",
        "    # report progress\n",
        "    print('est=%.3f, cfg=%s' % (result.best_score_, result.best_params_))\n",
        "    print('acc=%.3f, precision=%.3f, recall=%.3f, f1=%.3f, ' % (acc, precision, recall, f1 ))\n",
        "\n",
        "  # summarize the estimated performance of the model\n",
        "  print(f'outer_accuracy: %.3f (%.3f)' % (mean(outer_accuracy), std(outer_accuracy)))\n",
        "  print(f'outer_precision: %.3f (%.3f)' % (mean(outer_precision), std(outer_precision)))\n",
        "  print(f'outer_recall: %.3f (%.3f)' % (mean(outer_recall), std(outer_recall)))\n",
        "  print(f'outer_f1: %.3f (%.3f)' % (mean(outer_f1), std(outer_f1)))\n"
      ],
      "execution_count": null,
      "outputs": []
    },
    {
      "cell_type": "code",
      "metadata": {
        "id": "EzF3EJj2RQK6"
      },
      "source": [
        "\n",
        "scoring = 'f1' #'accuracy'\n",
        "# define search space\n",
        "space = dict()\n",
        "space['n_estimators'] = [10, 100, 500]\n",
        "space['max_features'] = [1, 2, 4, 6]\n",
        "parameters = {'learning_rate': [0.1],\n",
        "              'subsample'    : [0.9, 0.5],\n",
        "              'n_estimators' : [100, 500],\n",
        "              'max_depth'    : [2, 4, 6, 8],\n",
        "              'max_features' : [2, 4, 6]\n",
        "              }\n",
        "gridsearch_CV_GBoost(X, Y_cat, scoring, parameters)\n",
        "\n"
      ],
      "execution_count": null,
      "outputs": []
    },
    {
      "cell_type": "code",
      "metadata": {
        "id": "Kqn9vA-QdH8L"
      },
      "source": [
        "# 2nd time run\n",
        "# TODO: start with faster HalvingGridSearchCV, Try XGBoost iso GradientBoost\n",
        "scoring = 'f1' #'accuracy'\n",
        "# define search space\n",
        "space = dict()\n",
        "space['n_estimators'] = [10, 100, 500]\n",
        "space['max_features'] = [1, 2, 4, 6]\n",
        "parameters = {'learning_rate': [0.1],\n",
        "              'n_estimators' : [100, 500],\n",
        "              'max_depth'    : [2, 4, 6, 8],\n",
        "              'max_features' : [2, 4, 6]\n",
        "              }\n",
        "gridsearch_CV_GBoost(X, Y_cat, scoring, parameters)\n"
      ],
      "execution_count": null,
      "outputs": []
    },
    {
      "cell_type": "code",
      "metadata": {
        "id": "VhUdpuvqi0QC"
      },
      "source": [
        "# 3rd time run\n",
        "# TODO: start with faster HalvingGridSearchCV, Try XGBoost iso GradientBoost\n",
        "scoring = 'f1' #'accuracy'\n",
        "# define search space\n",
        "parameters = {'learning_rate': [0.1],\n",
        "              'n_estimators' : [1000],\n",
        "              'max_depth'    : [2, 4],\n",
        "              'max_features' : [2, 4, 6]\n",
        "              }\n",
        "gridsearch_CV_GBoost(X, Y_cat, scoring, parameters)"
      ],
      "execution_count": null,
      "outputs": []
    },
    {
      "cell_type": "markdown",
      "metadata": {
        "id": "o1BGrdNA8gSE"
      },
      "source": [
        "## Q9. Cluster the input variables using KMeans and GMM.\n",
        "       \n",
        "1.   Draw the contour plots\n",
        "2.   Explain the hyper-parameters you choose and why?\n",
        "\n",
        "use t-SNE for visualization\n",
        "\n",
        "PCA  + K-means OR DBSCAN\n",
        "1. PCA + cluster\n",
        "2. DBSCAN\n",
        "2. Clustering on the output of t-SNE with 80 perplexity; beware, t-SNE can produce \"fake\" patterns!\n",
        "If we would instead further increase the perplexity, the uniformity would increase, and the separation would reduce again.\n",
        "\n",
        "\n"
      ]
    },
    {
      "cell_type": "code",
      "metadata": {
        "id": "LPsuDzmHsXJ8"
      },
      "source": [
        "check_data_dims()"
      ],
      "execution_count": null,
      "outputs": []
    },
    {
      "cell_type": "code",
      "metadata": {
        "id": "auoYiJQXTNNW"
      },
      "source": [
        "#First, decide how many features we’d like to keep based on the cumulative variance plot.\n",
        "from sklearn.cluster import KMeans\n",
        "from sklearn.decomposition import PCA\n",
        "pca = PCA()\n",
        "pca.fit(X)\n",
        "print(len(pca.explained_variance_), pca.explained_variance_) \n",
        "print(len(pca.explained_variance_ratio_), pca.explained_variance_ratio_)\n",
        "print(pca.explained_variance_ratio_.cumsum())\n",
        "\n",
        "plt.figure(figsize=(10,8))\n",
        "plt.plot(range(1, X.shape[1]+1), pca.explained_variance_ratio_.cumsum(), marker='o', linestyle='--')\n",
        "plt.title('explained variance by components')\n",
        "plt.xlabel('Number of components')\n",
        "plt.ylabel('cumulative explained variance')\n",
        "plt.grid()"
      ],
      "execution_count": null,
      "outputs": []
    },
    {
      "cell_type": "code",
      "metadata": {
        "id": "_KZwtbRgX1Pc"
      },
      "source": [
        "# We keep the first 4 components to get a cumulative variance of 86 per cent;\n",
        "from sklearn.decomposition import PCA\n",
        "num_components_pca = 4\n",
        "pca = PCA(n_components = num_components_pca)\n",
        "pca.fit(X)\n",
        "pca_out = pca.transform(X)\n",
        "score_pca = pca.transform(X)\n",
        "print(pca_out.shape, X.shape)"
      ],
      "execution_count": null,
      "outputs": []
    },
    {
      "cell_type": "markdown",
      "metadata": {
        "id": "y--UyOYJrjbS"
      },
      "source": [
        "visualize clusters with PCA output as input to KMeans"
      ]
    },
    {
      "cell_type": "code",
      "metadata": {
        "id": "0Wc9-QorriIb"
      },
      "source": [
        "def plot_cluster_mesh(data, n_clusters, use_PCA, title):\n",
        "  if use_PCA:\n",
        "    reduced_data = PCA(n_components=2).fit_transform(data)\n",
        "  else:\n",
        "    reduced_data = data  \n",
        "  kmeans = KMeans(init=\"k-means++\", n_clusters=n_clusters, n_init=10)\n",
        "  kmeans.fit(reduced_data)\n",
        "\n",
        "  # Step size of the mesh. Decrease to increase the quality of the VQ.\n",
        "  h = .02     # point in the mesh [x_min, x_max]x[y_min, y_max].\n",
        "\n",
        "  # Plot the decision boundary. For that, we will assign a color to each\n",
        "  x_min, x_max = reduced_data[:, 0].min() - 1, reduced_data[:, 0].max() + 1\n",
        "  y_min, y_max = reduced_data[:, 1].min() - 1, reduced_data[:, 1].max() + 1\n",
        "  xx, yy = np.meshgrid(np.arange(x_min, x_max, h), np.arange(y_min, y_max, h))\n",
        "\n",
        "  # Obtain labels for each point in mesh. Use last trained model.\n",
        "  Z = kmeans.predict(np.c_[xx.ravel(), yy.ravel()])\n",
        "\n",
        "  # Put the result into a color plot\n",
        "  Z = Z.reshape(xx.shape)\n",
        "  plt.figure(1)\n",
        "  plt.clf()\n",
        "  plt.imshow(Z, interpolation=\"nearest\",\n",
        "            extent=(xx.min(), xx.max(), yy.min(), yy.max()),\n",
        "            cmap=plt.cm.Paired, aspect=\"auto\", origin=\"lower\")\n",
        "\n",
        "  plt.plot(reduced_data[:, 0], reduced_data[:, 1], 'k.', markersize=2)\n",
        "  # Plot the centroids as a white X\n",
        "  centroids = kmeans.cluster_centers_\n",
        "  plt.scatter(centroids[:, 0], centroids[:, 1], marker=\"x\", s=169, linewidths=3,\n",
        "              color=\"w\", zorder=10)\n",
        "  plt.title(title+ \" K-means clustering\"\n",
        "            \"Centroids are marked with white cross\")\n",
        "  plt.xlim(x_min, x_max)\n",
        "  plt.ylim(y_min, y_max)\n",
        "  plt.xticks(())\n",
        "  plt.yticks(())\n",
        "  plt.show()\n"
      ],
      "execution_count": null,
      "outputs": []
    },
    {
      "cell_type": "code",
      "metadata": {
        "id": "mxTE69T1smwV"
      },
      "source": [
        "n_clusters = 4\n",
        "use_PCA = False\n",
        "title = 'Not use PCA output;'\n",
        "plot_cluster_mesh(X[:,:2], n_clusters, use_PCA, title)\n",
        "\n"
      ],
      "execution_count": null,
      "outputs": []
    },
    {
      "cell_type": "code",
      "metadata": {
        "id": "lf9LIQgcsm5u"
      },
      "source": [
        "n_clusters = 4\n",
        "use_PCA = True\n",
        "title = 'use PCA output;'\n",
        "# TODO: add x_cols[:2]\n",
        "plot_cluster_mesh(X[:,:2], n_clusters, use_PCA, title)\n",
        "\n"
      ],
      "execution_count": null,
      "outputs": []
    },
    {
      "cell_type": "code",
      "metadata": {
        "id": "5CDc4s4Wt_dg"
      },
      "source": [
        "x_cols[:2]\n"
      ],
      "execution_count": null,
      "outputs": []
    },
    {
      "cell_type": "code",
      "metadata": {
        "id": "1_3WcMeo9FaA"
      },
      "source": [
        "# determine the optimal number of clusters;\n",
        "# apply Elbow method by plotting WCSS vs K \n",
        "def plot_kmeans_inertia(title, wcss):\n",
        "  plt.figure(figsize=(10,8))\n",
        "  plt.plot(range(1,num_clusters), wcss, marker='o', linestyle='--')\n",
        "  plt.xlabel('Number of Clusters')\n",
        "  plt.ylabel('WCSS')\n",
        "  plt.title(title)\n",
        "  plt.grid()\n",
        "  plt.show()\n",
        "\n",
        "def plot_elbow(data, title, num_clusters, random_state):\n",
        "  wcss = [] \n",
        "  for i in range(1, num_clusters):\n",
        "    kmeans = KMeans(n_clusters = i, init = 'k-means++', random_state=random_state)\n",
        "    kmeans.fit(data)\n",
        "    wcss.append(kmeans.inertia_)\n",
        "  plot_kmeans_inertia(title, wcss)\n",
        "\n",
        "\n"
      ],
      "execution_count": null,
      "outputs": []
    },
    {
      "cell_type": "code",
      "metadata": {
        "id": "Ct6LA6O6Zka6"
      },
      "source": [
        "title = 'K-Means without PCA'\n",
        "num_clusters = 27\n",
        "random_state_kmeans = 0\n",
        "plot_elbow(X, title, num_clusters, random_state_kmeans)"
      ],
      "execution_count": null,
      "outputs": []
    },
    {
      "cell_type": "code",
      "metadata": {
        "id": "tF16jNOxb973"
      },
      "source": [
        "title = f'K-Means using top {num_components_pca} components after PCA transform'\n",
        "num_clusters = 27\n",
        "random_state_kmeans = 0\n",
        "plot_elbow(pca_out, title, num_clusters, random_state_kmeans)"
      ],
      "execution_count": null,
      "outputs": []
    },
    {
      "cell_type": "markdown",
      "metadata": {
        "id": "SW9qQ7qVBY5r"
      },
      "source": [
        "From Elbow plot we can set final number of clusters as 4 where the WCSS starts decrease slower."
      ]
    },
    {
      "cell_type": "code",
      "metadata": {
        "id": "PDzhKQzmBlV4"
      },
      "source": [
        "# plot 3D of clusters \n",
        "from mpl_toolkits.mplot3d import Axes3D\n",
        "\n",
        "def plot_3d(X, opt_num_clusters, index_3d, axes_labels, title):\n",
        "\n",
        "  estimators = [('kmeans_opt_num_clusters', KMeans(n_clusters=opt_num_clusters))]\n",
        "\n",
        "  fignum = 1\n",
        "  for name, est in estimators:\n",
        "      fig = plt.figure(fignum, figsize=[8, 8])\n",
        "      ax = Axes3D(fig, rect=[0, 0, .95, 1], elev=48, azim=134)\n",
        "      est.fit(X)\n",
        "      labels = est.labels_\n",
        "\n",
        "      ax.scatter(X[:, index_3d[0]], X[:, index_3d[1]], X[:, index_3d[2]],\n",
        "                c=labels.astype(float), edgecolor='k')\n",
        "\n",
        "      ax.w_xaxis.set_ticklabels([])\n",
        "      ax.w_yaxis.set_ticklabels([])\n",
        "      ax.w_zaxis.set_ticklabels([])\n",
        "      ax.set_xlabel(axes_labels[0])\n",
        "      ax.set_ylabel(axes_labels[1])\n",
        "      ax.set_zlabel(axes_labels[2])\n",
        "      ax.set_title(title)\n",
        "      ax.dist = 12\n",
        "      fignum = fignum + 1\n",
        "  "
      ],
      "execution_count": null,
      "outputs": []
    },
    {
      "cell_type": "code",
      "metadata": {
        "id": "3Aav-WqoCdDt"
      },
      "source": [
        "# K-Means not using PCA outputs\n",
        "opt_num_clusters = 3\n",
        "title = f'{opt_num_clusters} cluster K-Means without using PCA outputs'\n",
        "index_3d = [0, 1, 2]\n",
        "plot_3d(X, opt_num_clusters, index_3d, x_cols, title)\n"
      ],
      "execution_count": null,
      "outputs": []
    },
    {
      "cell_type": "code",
      "metadata": {
        "id": "zGcHqVpJKrs9"
      },
      "source": [
        ""
      ],
      "execution_count": null,
      "outputs": []
    },
    {
      "cell_type": "code",
      "metadata": {
        "id": "vZIJfzsiMDPH"
      },
      "source": [
        "# plot 2d of clusters \n",
        "from mpl_toolkits.mplot3d import Axes3D\n",
        "\n",
        "def plot_2d(X, x_index_col, opt_num_clusters, axes_labels, title):\n",
        "  kmeans = KMeans(n_clusters = opt_num_clusters, init = \"k-means++\", random_state = 0)\n",
        "  y_kmeans = kmeans.fit_predict(X)\n",
        "  color_list = ['red', 'blue', 'green', 'yellow', 'violet']\n",
        "  plt.figure(figsize=(10,8))\n",
        "  for label in range(opt_num_clusters):\n",
        "    color = color_list[label]\n",
        "    x = X[y_kmeans == label, x_index_col[0]]\n",
        "    y = X[y_kmeans == label, x_index_col[1]]\n",
        "    plt.scatter(x, y, s = 60, c=color, label = f'Cluster{label}')\n",
        "  plt.scatter(kmeans.cluster_centers_[:, 0], kmeans.cluster_centers_[:, 1], s = 100, c = 'black', label = 'Centroids')\n",
        "  plt.xlabel(axes_labels[0]) \n",
        "  plt.ylabel(axes_labels[1]) \n",
        "  plt.legend() \n",
        "  plt.title(title)\n",
        "  plt.show()"
      ],
      "execution_count": null,
      "outputs": []
    },
    {
      "cell_type": "code",
      "metadata": {
        "id": "D2GHeblSNSX4"
      },
      "source": [
        "# 2-d plot of K-Means using PCA outputs\n",
        "index_col = [0, 1]\n",
        "opt_num_clusters = 3\n",
        "title = f'{opt_num_clusters} cluster K-Means using top {num_components_pca} components after PCA transform'\n",
        "axes_labels = [f'pca component {k}' for k in [1,2,3]]\n",
        "plot_2d(pca_out, index_col, opt_num_clusters, axes_labels, title)\n"
      ],
      "execution_count": null,
      "outputs": []
    },
    {
      "cell_type": "code",
      "metadata": {
        "id": "fsGi5PwkNYwL"
      },
      "source": [
        "# 2-d plot of K-Means not using PCA outputs\n",
        "index_col = [0, 1]\n",
        "opt_num_clusters = 3\n",
        "title = f'{opt_num_clusters} cluster K-Means not using PCA transform'\n",
        "plot_2d(pca_out, index_col, opt_num_clusters, x_cols, title)\n"
      ],
      "execution_count": null,
      "outputs": []
    },
    {
      "cell_type": "markdown",
      "metadata": {
        "id": "7MZTqB2GcvN3"
      },
      "source": [
        "DBSCAN\n"
      ]
    },
    {
      "cell_type": "code",
      "metadata": {
        "id": "OXgXgk9-duKV"
      },
      "source": [
        "check_data_dims()"
      ],
      "execution_count": null,
      "outputs": []
    },
    {
      "cell_type": "code",
      "metadata": {
        "id": "Bnxp-FHkd55G"
      },
      "source": [
        "# Use DBSCAN to estimate number of clusters\n",
        "from sklearn.cluster import DBSCAN\n",
        "from sklearn import metrics\n",
        "\n",
        "# Compute DBSCAN\n",
        "db = DBSCAN(eps=0.7, min_samples=20).fit(pca_out)\n",
        "core_samples_mask = np.zeros_like(db.labels_, dtype=bool)\n",
        "core_samples_mask[db.core_sample_indices_] = True\n",
        "labels = db.labels_\n",
        "\n",
        "# Number of clusters in labels, ignoring noise if present.\n",
        "n_clusters_ = len(set(labels)) - (1 if -1 in labels else 0)\n",
        "n_noise_ = list(labels).count(-1)\n",
        "\n",
        "print('Estimated number of clusters: %d' % n_clusters_)\n",
        "print('Estimated number of noise points: %d' % n_noise_)\n",
        "print(\"Silhouette Coefficient: %0.3f\"\n",
        "      % metrics.silhouette_score(X, labels))\n",
        "\n",
        "# Black removed and is used for noise instead.\n",
        "unique_labels = set(labels)\n",
        "for k in unique_labels:\n",
        "  print(k,np.sum(labels==k))\n",
        "\n",
        "print(f'unique_labels={unique_labels}, labels.shape={labels.shape}')\n",
        "colors = [plt.cm.Spectral(each)\n",
        "          for each in np.linspace(0, 1, len(unique_labels))]"
      ],
      "execution_count": null,
      "outputs": []
    },
    {
      "cell_type": "code",
      "metadata": {
        "id": "Kf2Lih1GNY2H"
      },
      "source": [
        "\n",
        "for k, col in zip(unique_labels, colors):\n",
        "    if k == -1:\n",
        "        # Black used for noise.\n",
        "        col = [0, 0, 0, 1]\n",
        "\n",
        "    class_member_mask = (labels == k)\n",
        "\n",
        "    xy = X[class_member_mask & core_samples_mask]\n",
        "    plt.plot(xy[:, 0], xy[:, 1], 'o', markerfacecolor=tuple(col),\n",
        "             markeredgecolor='k', markersize=14)\n",
        "\n",
        "    xy = X[class_member_mask & ~core_samples_mask]\n",
        "    plt.plot(xy[:, 0], xy[:, 1], 'o', markerfacecolor=tuple(col),\n",
        "             markeredgecolor='k', markersize=6)\n",
        "\n",
        "plt.title('Estimated number of clusters: %d' % n_clusters_)\n",
        "plt.show()"
      ],
      "execution_count": null,
      "outputs": []
    },
    {
      "cell_type": "code",
      "metadata": {
        "id": "Z16snsTXfhFa"
      },
      "source": [
        ""
      ],
      "execution_count": null,
      "outputs": []
    },
    {
      "cell_type": "markdown",
      "metadata": {
        "id": "HUlXEDtrWSWB"
      },
      "source": [
        "Decide number of clusters using Silhouette coefficients"
      ]
    },
    {
      "cell_type": "code",
      "metadata": {
        "id": "oIH_ToL3WcsH"
      },
      "source": [
        "def silhouette_cluster_number(X, title):\n",
        "  from sklearn.cluster import KMeans\n",
        "  from sklearn.metrics import silhouette_samples, silhouette_score\n",
        "\n",
        "  import matplotlib.pyplot as plt\n",
        "  import matplotlib.cm as cm\n",
        "  import numpy as np\n",
        "\n",
        "  print(__doc__)\n",
        "\n",
        "  range_n_clusters = [2, 3, 4, 5, 6]\n",
        "\n",
        "  for n_clusters in range_n_clusters:\n",
        "      # Create a subplot with 1 row and 2 columns\n",
        "      fig, (ax1, ax2) = plt.subplots(1, 2)\n",
        "      fig.set_size_inches(18, 7)\n",
        "\n",
        "      # The 1st subplot is the silhouette plot\n",
        "      # The silhouette coefficient can range from -1, 1 but in this example all\n",
        "      # lie within [-0.1, 1]\n",
        "      ax1.set_xlim([-0.1, 1])\n",
        "      # The (n_clusters+1)*10 is for inserting blank space between silhouette\n",
        "      # plots of individual clusters, to demarcate them clearly.\n",
        "      ax1.set_ylim([0, len(X) + (n_clusters + 1) * 10])\n",
        "\n",
        "      # Initialize the clusterer with n_clusters value and a random generator\n",
        "      # seed of 10 for reproducibility.\n",
        "      clusterer = KMeans(n_clusters=n_clusters, random_state=10)\n",
        "      cluster_labels = clusterer.fit_predict(X)\n",
        "\n",
        "      # The silhouette_score gives the average value for all the samples.\n",
        "      # This gives a perspective into the density and separation of the formed\n",
        "      # clusters\n",
        "      silhouette_avg = silhouette_score(X, cluster_labels)\n",
        "      print(\"For n_clusters =\", n_clusters,\n",
        "            \"The average silhouette_score is :\", silhouette_avg)\n",
        "\n",
        "      # Compute the silhouette scores for each sample\n",
        "      sample_silhouette_values = silhouette_samples(X, cluster_labels)\n",
        "\n",
        "      y_lower = 10\n",
        "      for i in range(n_clusters):\n",
        "          # Aggregate the silhouette scores for samples belonging to\n",
        "          # cluster i, and sort them\n",
        "          ith_cluster_silhouette_values = \\\n",
        "              sample_silhouette_values[cluster_labels == i]\n",
        "\n",
        "          ith_cluster_silhouette_values.sort()\n",
        "\n",
        "          size_cluster_i = ith_cluster_silhouette_values.shape[0]\n",
        "          y_upper = y_lower + size_cluster_i\n",
        "\n",
        "          color = cm.nipy_spectral(float(i) / n_clusters)\n",
        "          ax1.fill_betweenx(np.arange(y_lower, y_upper),\n",
        "                            0, ith_cluster_silhouette_values,\n",
        "                            facecolor=color, edgecolor=color, alpha=0.7)\n",
        "\n",
        "          # Label the silhouette plots with their cluster numbers at the middle\n",
        "          ax1.text(-0.05, y_lower + 0.5 * size_cluster_i, str(i))\n",
        "\n",
        "          # Compute the new y_lower for next plot\n",
        "          y_lower = y_upper + 10  # 10 for the 0 samples\n",
        "\n",
        "      ax1.set_title(\"The silhouette plot for the various clusters.\")\n",
        "      ax1.set_xlabel(\"The silhouette coefficient values\")\n",
        "      ax1.set_ylabel(\"Cluster label\")\n",
        "\n",
        "      # The vertical line for average silhouette score of all the values\n",
        "      ax1.axvline(x=silhouette_avg, color=\"red\", linestyle=\"--\")\n",
        "\n",
        "      ax1.set_yticks([])  # Clear the yaxis labels / ticks\n",
        "      ax1.set_xticks([-0.1, 0, 0.2, 0.4, 0.6, 0.8, 1])\n",
        "\n",
        "      # 2nd Plot showing the actual clusters formed\n",
        "      colors = cm.nipy_spectral(cluster_labels.astype(float) / n_clusters)\n",
        "      ax2.scatter(X[:, 0], X[:, 1], marker='.', s=30, lw=0, alpha=0.7,\n",
        "                  c=colors, edgecolor='k')\n",
        "\n",
        "      # Labeling the clusters\n",
        "      centers = clusterer.cluster_centers_\n",
        "      # Draw white circles at cluster centers\n",
        "      ax2.scatter(centers[:, 0], centers[:, 1], marker='o',\n",
        "                  c=\"white\", alpha=1, s=200, edgecolor='k')\n",
        "\n",
        "      for i, c in enumerate(centers):\n",
        "          ax2.scatter(c[0], c[1], marker='$%d$' % i, alpha=1,\n",
        "                      s=50, edgecolor='k')\n",
        "\n",
        "      ax2.set_title(\"The visualization of the clustered data.\")\n",
        "      ax2.set_xlabel(\"Feature space for the 1st feature\")\n",
        "      ax2.set_ylabel(\"Feature space for the 2nd feature\")\n",
        "\n",
        "      plt.suptitle((title + \" Silhouette analysis for KMeans \"\n",
        "                    \", n_clusters = %d\" % n_clusters),\n",
        "                  fontsize=14, fontweight='bold')\n",
        "\n",
        "  plt.show()"
      ],
      "execution_count": null,
      "outputs": []
    },
    {
      "cell_type": "code",
      "metadata": {
        "id": "A3yzNBGiYbt6"
      },
      "source": [
        "title = 'PCA output is used as input;'\n",
        "silhouette_cluster_number(pca_out, title)\n",
        "\n"
      ],
      "execution_count": null,
      "outputs": []
    },
    {
      "cell_type": "code",
      "metadata": {
        "id": "0EyDPSKSZEee"
      },
      "source": [
        "title = 'PCA not used;'\n",
        "silhouette_cluster_number(X, title)\n",
        "\n"
      ],
      "execution_count": null,
      "outputs": []
    },
    {
      "cell_type": "markdown",
      "metadata": {
        "id": "F4CFIQef3Jmo"
      },
      "source": [
        "\n",
        "> Indented block\n",
        "\n"
      ]
    },
    {
      "cell_type": "code",
      "metadata": {
        "id": "WwZTsJzB3334"
      },
      "source": [
        ""
      ],
      "execution_count": null,
      "outputs": []
    }
  ]
}