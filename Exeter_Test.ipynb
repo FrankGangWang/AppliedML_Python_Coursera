{
  "nbformat": 4,
  "nbformat_minor": 0,
  "metadata": {
    "colab": {
      "provenance": [],
      "authorship_tag": "ABX9TyO0ePRN35uMl7n3gfMYGMfW",
      "include_colab_link": true
    },
    "kernelspec": {
      "name": "python3",
      "display_name": "Python 3"
    },
    "language_info": {
      "name": "python"
    }
  },
  "cells": [
    {
      "cell_type": "markdown",
      "metadata": {
        "id": "view-in-github",
        "colab_type": "text"
      },
      "source": [
        "<a href=\"https://colab.research.google.com/github/FrankGangWang/AppliedML_Python_Coursera/blob/master/Exeter_Test.ipynb\" target=\"_parent\"><img src=\"https://colab.research.google.com/assets/colab-badge.svg\" alt=\"Open In Colab\"/></a>"
      ]
    },
    {
      "cell_type": "code",
      "execution_count": 57,
      "metadata": {
        "colab": {
          "base_uri": "https://localhost:8080/"
        },
        "id": "EjzBNGn_DOmd",
        "outputId": "2502604e-3faf-458b-8f68-0d238f610b3a"
      },
      "outputs": [
        {
          "output_type": "stream",
          "name": "stdout",
          "text": [
            "<class 'str'> 105 105\n",
            "line= CFCGGGDEGE \n",
            " t= ['C', 'F', 'C', 'G', 'G', 'G', 'D', 'E', 'G', 'E']\n",
            "<class 'str'> 113 218\n",
            "line= DEGECGCEGE \n",
            " t= ['D', 'E', 'G', 'E', 'C', 'G', 'C', 'E', 'G', 'E']\n",
            "number of lines= 300\n"
          ]
        }
      ],
      "source": [
        "f = open(\"test.txt\", \"r\")\n",
        "t = []\n",
        "\n",
        "c = 0\n",
        "for line in f:\n",
        "  c = c + 1\n",
        "  line = line.rstrip('\\n')\n",
        "  for ch in line:\n",
        "    t.append(ch)\n",
        "\n",
        "  if c<3:\n",
        "    print(type(line), len(line), len(t))\n",
        "    print('line=', line[-10:], '\\n t=', t[-10:])\n",
        "f.close()\n",
        "print('number of lines=', c)\n",
        "\n"
      ]
    },
    {
      "cell_type": "code",
      "source": [
        "f = open(\"test.txt\", \"r\")\n",
        "t1 = f.readlines()\n",
        "#t = f.read()\n",
        "f.close()\n",
        "\n",
        "x = []\n",
        "for c in t:\n",
        "  if c != '\\n':\n",
        "    x.append(c)\n",
        "\n",
        "#str.strip() returns a string with leading+trailing whitespace removed, .lstrip and .rstrip for only leading and trailing respectively.\n",
        "#grades.append(lists[i].rstrip('\\n').split(','))\n",
        "print(type(t), len(t), len(t[0]), '\\n', t[0])\n",
        "\n"
      ],
      "metadata": {
        "colab": {
          "base_uri": "https://localhost:8080/"
        },
        "id": "vSg-3TroFMa_",
        "outputId": "3aeedd26-d2cd-4b61-fc2d-5d771eac6d1a"
      },
      "execution_count": 60,
      "outputs": [
        {
          "output_type": "stream",
          "name": "stdout",
          "text": [
            "<class 'list'> 32363 1 \n",
            " E\n"
          ]
        }
      ]
    },
    {
      "cell_type": "code",
      "source": [],
      "metadata": {
        "id": "cnd6kzkiKr--"
      },
      "execution_count": null,
      "outputs": []
    },
    {
      "cell_type": "code",
      "source": [
        "from collections import Counter\n",
        "counter = Counter(t)\n",
        "print(counter)\n",
        "counter = Counter(x)\n",
        "print(counter)\n"
      ],
      "metadata": {
        "colab": {
          "base_uri": "https://localhost:8080/"
        },
        "id": "6xhM7rHNFMR6",
        "outputId": "7abd58e9-0687-406d-9236-67c3efb66ce7"
      },
      "execution_count": 61,
      "outputs": [
        {
          "output_type": "stream",
          "name": "stdout",
          "text": [
            "Counter({'E': 10615, 'G': 9351, 'C': 5081, 'F': 4462, 'D': 2854})\n",
            "Counter({'E': 10615, 'G': 9351, 'C': 5081, 'F': 4462, 'D': 2854})\n"
          ]
        }
      ]
    },
    {
      "cell_type": "code",
      "source": [
        "\n"
      ],
      "metadata": {
        "id": "-33TScZ3FL_Q"
      },
      "execution_count": 15,
      "outputs": []
    },
    {
      "cell_type": "code",
      "source": [],
      "metadata": {
        "id": "fPVLjMxVGZcm"
      },
      "execution_count": null,
      "outputs": []
    },
    {
      "cell_type": "code",
      "source": [
        "uniue_char = list(set(x))\n",
        "print(uniue_char)\n"
      ],
      "metadata": {
        "colab": {
          "base_uri": "https://localhost:8080/"
        },
        "id": "DJEOgHPZGZYH",
        "outputId": "bc028b89-b755-4835-d357-6ba1c8dd50d1"
      },
      "execution_count": 62,
      "outputs": [
        {
          "output_type": "stream",
          "name": "stdout",
          "text": [
            "['E', 'C', 'G', 'F', 'D']\n"
          ]
        }
      ]
    },
    {
      "cell_type": "code",
      "source": [],
      "metadata": {
        "id": "wIKQ1w0aGZTJ"
      },
      "execution_count": null,
      "outputs": []
    },
    {
      "cell_type": "code",
      "source": [],
      "metadata": {
        "id": "-Ss3aE7dGZOX"
      },
      "execution_count": null,
      "outputs": []
    }
  ]
}