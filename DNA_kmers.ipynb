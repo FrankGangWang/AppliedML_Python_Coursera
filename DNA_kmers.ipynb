{
  "nbformat": 4,
  "nbformat_minor": 0,
  "metadata": {
    "colab": {
      "provenance": [],
      "authorship_tag": "ABX9TyPHYGs0IKvMZfWjyI9w7+uX",
      "include_colab_link": true
    },
    "kernelspec": {
      "name": "python3",
      "display_name": "Python 3"
    },
    "language_info": {
      "name": "python"
    }
  },
  "cells": [
    {
      "cell_type": "markdown",
      "metadata": {
        "id": "view-in-github",
        "colab_type": "text"
      },
      "source": [
        "<a href=\"https://colab.research.google.com/github/FrankGangWang/AppliedML_Python_Coursera/blob/master/DNA_kmers.ipynb\" target=\"_parent\"><img src=\"https://colab.research.google.com/assets/colab-badge.svg\" alt=\"Open In Colab\"/></a>"
      ]
    },
    {
      "cell_type": "markdown",
      "source": [
        "Ref:\n",
        "https://www.theaidream.com/post/demystify-dna-sequencing-with-machine-learning-and-python\n",
        "\n",
        "You can get the whole code in this Github repository:\n",
        "https://github.com/nageshsinghc4/DNA-Sequence-Machine-learning\n",
        "\n",
        "\n",
        "#Note:\n",
        "You can tune k-mers both the **word length and the amount of overlap**. This allows you to determine how the DNA sequence information and vocabulary size will be important in your application. For example, if you use words of length 6, and there are 4 letters, you have a vocabulary of size 4096 possible words. You can then go on and create a bag-of-words model like you would in NLP.\n",
        "\n",
        "\n"
      ],
      "metadata": {
        "id": "t7cpoxecTtjp"
      }
    },
    {
      "cell_type": "code",
      "execution_count": 3,
      "metadata": {
        "id": "lquaAbWkTlMW"
      },
      "outputs": [],
      "source": [
        "human_datafile = 'https://raw.githubusercontent.com/nageshsinghc4/DNA-Sequence-Machine-learning/master/human_data.txt'\n",
        "chimp_datafile = 'https://raw.githubusercontent.com/nageshsinghc4/DNA-Sequence-Machine-learning/master/chimp_data.txt'\n",
        "dog_datafile = 'https://raw.githubusercontent.com/nageshsinghc4/DNA-Sequence-Machine-learning/master/dog_data.txt'"
      ]
    },
    {
      "cell_type": "code",
      "source": [
        "import numpy as np\n",
        "import pandas as pd\n",
        "import matplotlib.pyplot as plt\n",
        "%matplotlib inline\n",
        "human_dna = pd.read_table(human_datafile)\n",
        "chimp_dna = pd.read_table(chimp_datafile)\n",
        "dog_dna = pd.read_table(dog_datafile)\n",
        "human_dna.head()"
      ],
      "metadata": {
        "colab": {
          "base_uri": "https://localhost:8080/",
          "height": 206
        },
        "id": "8WzA-f_fT3ii",
        "outputId": "e9aa7e10-16e2-453f-bc5e-48b141b4278a"
      },
      "execution_count": 16,
      "outputs": [
        {
          "output_type": "execute_result",
          "data": {
            "text/plain": [
              "                                            sequence  class\n",
              "0  ATGCCCCAACTAAATACTACCGTATGGCCCACCATAATTACCCCCA...      4\n",
              "1  ATGAACGAAAATCTGTTCGCTTCATTCATTGCCCCCACAATCCTAG...      4\n",
              "2  ATGTGTGGCATTTGGGCGCTGTTTGGCAGTGATGATTGCCTTTCTG...      3\n",
              "3  ATGTGTGGCATTTGGGCGCTGTTTGGCAGTGATGATTGCCTTTCTG...      3\n",
              "4  ATGCAACAGCATTTTGAATTTGAATACCAGACCAAAGTGGATGGTG...      3"
            ],
            "text/html": [
              "\n",
              "  <div id=\"df-b452cc3b-e782-4eb1-b531-a86cfcfae6e1\" class=\"colab-df-container\">\n",
              "    <div>\n",
              "<style scoped>\n",
              "    .dataframe tbody tr th:only-of-type {\n",
              "        vertical-align: middle;\n",
              "    }\n",
              "\n",
              "    .dataframe tbody tr th {\n",
              "        vertical-align: top;\n",
              "    }\n",
              "\n",
              "    .dataframe thead th {\n",
              "        text-align: right;\n",
              "    }\n",
              "</style>\n",
              "<table border=\"1\" class=\"dataframe\">\n",
              "  <thead>\n",
              "    <tr style=\"text-align: right;\">\n",
              "      <th></th>\n",
              "      <th>sequence</th>\n",
              "      <th>class</th>\n",
              "    </tr>\n",
              "  </thead>\n",
              "  <tbody>\n",
              "    <tr>\n",
              "      <th>0</th>\n",
              "      <td>ATGCCCCAACTAAATACTACCGTATGGCCCACCATAATTACCCCCA...</td>\n",
              "      <td>4</td>\n",
              "    </tr>\n",
              "    <tr>\n",
              "      <th>1</th>\n",
              "      <td>ATGAACGAAAATCTGTTCGCTTCATTCATTGCCCCCACAATCCTAG...</td>\n",
              "      <td>4</td>\n",
              "    </tr>\n",
              "    <tr>\n",
              "      <th>2</th>\n",
              "      <td>ATGTGTGGCATTTGGGCGCTGTTTGGCAGTGATGATTGCCTTTCTG...</td>\n",
              "      <td>3</td>\n",
              "    </tr>\n",
              "    <tr>\n",
              "      <th>3</th>\n",
              "      <td>ATGTGTGGCATTTGGGCGCTGTTTGGCAGTGATGATTGCCTTTCTG...</td>\n",
              "      <td>3</td>\n",
              "    </tr>\n",
              "    <tr>\n",
              "      <th>4</th>\n",
              "      <td>ATGCAACAGCATTTTGAATTTGAATACCAGACCAAAGTGGATGGTG...</td>\n",
              "      <td>3</td>\n",
              "    </tr>\n",
              "  </tbody>\n",
              "</table>\n",
              "</div>\n",
              "    <div class=\"colab-df-buttons\">\n",
              "\n",
              "  <div class=\"colab-df-container\">\n",
              "    <button class=\"colab-df-convert\" onclick=\"convertToInteractive('df-b452cc3b-e782-4eb1-b531-a86cfcfae6e1')\"\n",
              "            title=\"Convert this dataframe to an interactive table.\"\n",
              "            style=\"display:none;\">\n",
              "\n",
              "  <svg xmlns=\"http://www.w3.org/2000/svg\" height=\"24px\" viewBox=\"0 -960 960 960\">\n",
              "    <path d=\"M120-120v-720h720v720H120Zm60-500h600v-160H180v160Zm220 220h160v-160H400v160Zm0 220h160v-160H400v160ZM180-400h160v-160H180v160Zm440 0h160v-160H620v160ZM180-180h160v-160H180v160Zm440 0h160v-160H620v160Z\"/>\n",
              "  </svg>\n",
              "    </button>\n",
              "\n",
              "  <style>\n",
              "    .colab-df-container {\n",
              "      display:flex;\n",
              "      gap: 12px;\n",
              "    }\n",
              "\n",
              "    .colab-df-convert {\n",
              "      background-color: #E8F0FE;\n",
              "      border: none;\n",
              "      border-radius: 50%;\n",
              "      cursor: pointer;\n",
              "      display: none;\n",
              "      fill: #1967D2;\n",
              "      height: 32px;\n",
              "      padding: 0 0 0 0;\n",
              "      width: 32px;\n",
              "    }\n",
              "\n",
              "    .colab-df-convert:hover {\n",
              "      background-color: #E2EBFA;\n",
              "      box-shadow: 0px 1px 2px rgba(60, 64, 67, 0.3), 0px 1px 3px 1px rgba(60, 64, 67, 0.15);\n",
              "      fill: #174EA6;\n",
              "    }\n",
              "\n",
              "    .colab-df-buttons div {\n",
              "      margin-bottom: 4px;\n",
              "    }\n",
              "\n",
              "    [theme=dark] .colab-df-convert {\n",
              "      background-color: #3B4455;\n",
              "      fill: #D2E3FC;\n",
              "    }\n",
              "\n",
              "    [theme=dark] .colab-df-convert:hover {\n",
              "      background-color: #434B5C;\n",
              "      box-shadow: 0px 1px 3px 1px rgba(0, 0, 0, 0.15);\n",
              "      filter: drop-shadow(0px 1px 2px rgba(0, 0, 0, 0.3));\n",
              "      fill: #FFFFFF;\n",
              "    }\n",
              "  </style>\n",
              "\n",
              "    <script>\n",
              "      const buttonEl =\n",
              "        document.querySelector('#df-b452cc3b-e782-4eb1-b531-a86cfcfae6e1 button.colab-df-convert');\n",
              "      buttonEl.style.display =\n",
              "        google.colab.kernel.accessAllowed ? 'block' : 'none';\n",
              "\n",
              "      async function convertToInteractive(key) {\n",
              "        const element = document.querySelector('#df-b452cc3b-e782-4eb1-b531-a86cfcfae6e1');\n",
              "        const dataTable =\n",
              "          await google.colab.kernel.invokeFunction('convertToInteractive',\n",
              "                                                    [key], {});\n",
              "        if (!dataTable) return;\n",
              "\n",
              "        const docLinkHtml = 'Like what you see? Visit the ' +\n",
              "          '<a target=\"_blank\" href=https://colab.research.google.com/notebooks/data_table.ipynb>data table notebook</a>'\n",
              "          + ' to learn more about interactive tables.';\n",
              "        element.innerHTML = '';\n",
              "        dataTable['output_type'] = 'display_data';\n",
              "        await google.colab.output.renderOutput(dataTable, element);\n",
              "        const docLink = document.createElement('div');\n",
              "        docLink.innerHTML = docLinkHtml;\n",
              "        element.appendChild(docLink);\n",
              "      }\n",
              "    </script>\n",
              "  </div>\n",
              "\n",
              "\n",
              "<div id=\"df-e0b11e74-3582-4522-ae15-7b94e6f39f8a\">\n",
              "  <button class=\"colab-df-quickchart\" onclick=\"quickchart('df-e0b11e74-3582-4522-ae15-7b94e6f39f8a')\"\n",
              "            title=\"Suggest charts\"\n",
              "            style=\"display:none;\">\n",
              "\n",
              "<svg xmlns=\"http://www.w3.org/2000/svg\" height=\"24px\"viewBox=\"0 0 24 24\"\n",
              "     width=\"24px\">\n",
              "    <g>\n",
              "        <path d=\"M19 3H5c-1.1 0-2 .9-2 2v14c0 1.1.9 2 2 2h14c1.1 0 2-.9 2-2V5c0-1.1-.9-2-2-2zM9 17H7v-7h2v7zm4 0h-2V7h2v10zm4 0h-2v-4h2v4z\"/>\n",
              "    </g>\n",
              "</svg>\n",
              "  </button>\n",
              "\n",
              "<style>\n",
              "  .colab-df-quickchart {\n",
              "      --bg-color: #E8F0FE;\n",
              "      --fill-color: #1967D2;\n",
              "      --hover-bg-color: #E2EBFA;\n",
              "      --hover-fill-color: #174EA6;\n",
              "      --disabled-fill-color: #AAA;\n",
              "      --disabled-bg-color: #DDD;\n",
              "  }\n",
              "\n",
              "  [theme=dark] .colab-df-quickchart {\n",
              "      --bg-color: #3B4455;\n",
              "      --fill-color: #D2E3FC;\n",
              "      --hover-bg-color: #434B5C;\n",
              "      --hover-fill-color: #FFFFFF;\n",
              "      --disabled-bg-color: #3B4455;\n",
              "      --disabled-fill-color: #666;\n",
              "  }\n",
              "\n",
              "  .colab-df-quickchart {\n",
              "    background-color: var(--bg-color);\n",
              "    border: none;\n",
              "    border-radius: 50%;\n",
              "    cursor: pointer;\n",
              "    display: none;\n",
              "    fill: var(--fill-color);\n",
              "    height: 32px;\n",
              "    padding: 0;\n",
              "    width: 32px;\n",
              "  }\n",
              "\n",
              "  .colab-df-quickchart:hover {\n",
              "    background-color: var(--hover-bg-color);\n",
              "    box-shadow: 0 1px 2px rgba(60, 64, 67, 0.3), 0 1px 3px 1px rgba(60, 64, 67, 0.15);\n",
              "    fill: var(--button-hover-fill-color);\n",
              "  }\n",
              "\n",
              "  .colab-df-quickchart-complete:disabled,\n",
              "  .colab-df-quickchart-complete:disabled:hover {\n",
              "    background-color: var(--disabled-bg-color);\n",
              "    fill: var(--disabled-fill-color);\n",
              "    box-shadow: none;\n",
              "  }\n",
              "\n",
              "  .colab-df-spinner {\n",
              "    border: 2px solid var(--fill-color);\n",
              "    border-color: transparent;\n",
              "    border-bottom-color: var(--fill-color);\n",
              "    animation:\n",
              "      spin 1s steps(1) infinite;\n",
              "  }\n",
              "\n",
              "  @keyframes spin {\n",
              "    0% {\n",
              "      border-color: transparent;\n",
              "      border-bottom-color: var(--fill-color);\n",
              "      border-left-color: var(--fill-color);\n",
              "    }\n",
              "    20% {\n",
              "      border-color: transparent;\n",
              "      border-left-color: var(--fill-color);\n",
              "      border-top-color: var(--fill-color);\n",
              "    }\n",
              "    30% {\n",
              "      border-color: transparent;\n",
              "      border-left-color: var(--fill-color);\n",
              "      border-top-color: var(--fill-color);\n",
              "      border-right-color: var(--fill-color);\n",
              "    }\n",
              "    40% {\n",
              "      border-color: transparent;\n",
              "      border-right-color: var(--fill-color);\n",
              "      border-top-color: var(--fill-color);\n",
              "    }\n",
              "    60% {\n",
              "      border-color: transparent;\n",
              "      border-right-color: var(--fill-color);\n",
              "    }\n",
              "    80% {\n",
              "      border-color: transparent;\n",
              "      border-right-color: var(--fill-color);\n",
              "      border-bottom-color: var(--fill-color);\n",
              "    }\n",
              "    90% {\n",
              "      border-color: transparent;\n",
              "      border-bottom-color: var(--fill-color);\n",
              "    }\n",
              "  }\n",
              "</style>\n",
              "\n",
              "  <script>\n",
              "    async function quickchart(key) {\n",
              "      const quickchartButtonEl =\n",
              "        document.querySelector('#' + key + ' button');\n",
              "      quickchartButtonEl.disabled = true;  // To prevent multiple clicks.\n",
              "      quickchartButtonEl.classList.add('colab-df-spinner');\n",
              "      try {\n",
              "        const charts = await google.colab.kernel.invokeFunction(\n",
              "            'suggestCharts', [key], {});\n",
              "      } catch (error) {\n",
              "        console.error('Error during call to suggestCharts:', error);\n",
              "      }\n",
              "      quickchartButtonEl.classList.remove('colab-df-spinner');\n",
              "      quickchartButtonEl.classList.add('colab-df-quickchart-complete');\n",
              "    }\n",
              "    (() => {\n",
              "      let quickchartButtonEl =\n",
              "        document.querySelector('#df-e0b11e74-3582-4522-ae15-7b94e6f39f8a button');\n",
              "      quickchartButtonEl.style.display =\n",
              "        google.colab.kernel.accessAllowed ? 'block' : 'none';\n",
              "    })();\n",
              "  </script>\n",
              "</div>\n",
              "    </div>\n",
              "  </div>\n"
            ]
          },
          "metadata": {},
          "execution_count": 16
        }
      ]
    },
    {
      "cell_type": "code",
      "source": [],
      "metadata": {
        "id": "qNjTT61zUA6e"
      },
      "execution_count": 14,
      "outputs": []
    },
    {
      "cell_type": "markdown",
      "source": [
        "Now we have all our data loaded, the next step is to convert a sequence of characters into k-mer words, default size = 6 (hexamers). The function Kmers_funct() will collect all possible overlapping k-mers of a specified length from any sequence string.\n"
      ],
      "metadata": {
        "id": "4AMh_6-hUyp1"
      }
    },
    {
      "cell_type": "code",
      "source": [
        "kmers_size = 6\n",
        "\n",
        "def Kmers_funct(seq, size=6):\n",
        "   return [seq[x:x+size].lower() for x in range(len(seq) - size + 1)]\n",
        "#convert our training data sequences into short overlapping k-mers of length 6. Lets do that for each species of data we have using our Kmers_funct function.\n",
        "\n",
        "human_dna['words'] = human_dna.apply(lambda x: Kmers_funct(x['sequence'], kmers_size), axis=1)\n",
        "human_dna = human_dna.drop('sequence', axis=1)\n",
        "chimp_dna['words'] = chimp_dna.apply(lambda x: Kmers_funct(x['sequence'], kmers_size), axis=1)\n",
        "chimp_dna = chimp_dna.drop('sequence', axis=1)\n",
        "dog_dna['words'] = dog_dna.apply(lambda x: Kmers_funct(x['sequence'], kmers_size), axis=1)\n",
        "dog_dna = dog_dna.drop('sequence', axis=1)\n"
      ],
      "metadata": {
        "id": "h92qrS-dUA3G"
      },
      "execution_count": 17,
      "outputs": []
    },
    {
      "cell_type": "code",
      "source": [
        "#The DNA sequence is changed to lowercase, divided into all possible k-mer words of length 6, and ready for the next step.\n",
        "human_dna.head()\n"
      ],
      "metadata": {
        "colab": {
          "base_uri": "https://localhost:8080/",
          "height": 206
        },
        "id": "T9gRym3CUAz5",
        "outputId": "0dcdc598-e03d-4567-c2b9-c7199d383800"
      },
      "execution_count": 18,
      "outputs": [
        {
          "output_type": "execute_result",
          "data": {
            "text/plain": [
              "   class                                              words\n",
              "0      4  [atgccc, tgcccc, gcccca, ccccaa, cccaac, ccaac...\n",
              "1      4  [atgaac, tgaacg, gaacga, aacgaa, acgaaa, cgaaa...\n",
              "2      3  [atgtgt, tgtgtg, gtgtgg, tgtggc, gtggca, tggca...\n",
              "3      3  [atgtgt, tgtgtg, gtgtgg, tgtggc, gtggca, tggca...\n",
              "4      3  [atgcaa, tgcaac, gcaaca, caacag, aacagc, acagc..."
            ],
            "text/html": [
              "\n",
              "  <div id=\"df-fda3ac34-fcdb-4950-bd7b-c5e7a0a99c80\" class=\"colab-df-container\">\n",
              "    <div>\n",
              "<style scoped>\n",
              "    .dataframe tbody tr th:only-of-type {\n",
              "        vertical-align: middle;\n",
              "    }\n",
              "\n",
              "    .dataframe tbody tr th {\n",
              "        vertical-align: top;\n",
              "    }\n",
              "\n",
              "    .dataframe thead th {\n",
              "        text-align: right;\n",
              "    }\n",
              "</style>\n",
              "<table border=\"1\" class=\"dataframe\">\n",
              "  <thead>\n",
              "    <tr style=\"text-align: right;\">\n",
              "      <th></th>\n",
              "      <th>class</th>\n",
              "      <th>words</th>\n",
              "    </tr>\n",
              "  </thead>\n",
              "  <tbody>\n",
              "    <tr>\n",
              "      <th>0</th>\n",
              "      <td>4</td>\n",
              "      <td>[atgccc, tgcccc, gcccca, ccccaa, cccaac, ccaac...</td>\n",
              "    </tr>\n",
              "    <tr>\n",
              "      <th>1</th>\n",
              "      <td>4</td>\n",
              "      <td>[atgaac, tgaacg, gaacga, aacgaa, acgaaa, cgaaa...</td>\n",
              "    </tr>\n",
              "    <tr>\n",
              "      <th>2</th>\n",
              "      <td>3</td>\n",
              "      <td>[atgtgt, tgtgtg, gtgtgg, tgtggc, gtggca, tggca...</td>\n",
              "    </tr>\n",
              "    <tr>\n",
              "      <th>3</th>\n",
              "      <td>3</td>\n",
              "      <td>[atgtgt, tgtgtg, gtgtgg, tgtggc, gtggca, tggca...</td>\n",
              "    </tr>\n",
              "    <tr>\n",
              "      <th>4</th>\n",
              "      <td>3</td>\n",
              "      <td>[atgcaa, tgcaac, gcaaca, caacag, aacagc, acagc...</td>\n",
              "    </tr>\n",
              "  </tbody>\n",
              "</table>\n",
              "</div>\n",
              "    <div class=\"colab-df-buttons\">\n",
              "\n",
              "  <div class=\"colab-df-container\">\n",
              "    <button class=\"colab-df-convert\" onclick=\"convertToInteractive('df-fda3ac34-fcdb-4950-bd7b-c5e7a0a99c80')\"\n",
              "            title=\"Convert this dataframe to an interactive table.\"\n",
              "            style=\"display:none;\">\n",
              "\n",
              "  <svg xmlns=\"http://www.w3.org/2000/svg\" height=\"24px\" viewBox=\"0 -960 960 960\">\n",
              "    <path d=\"M120-120v-720h720v720H120Zm60-500h600v-160H180v160Zm220 220h160v-160H400v160Zm0 220h160v-160H400v160ZM180-400h160v-160H180v160Zm440 0h160v-160H620v160ZM180-180h160v-160H180v160Zm440 0h160v-160H620v160Z\"/>\n",
              "  </svg>\n",
              "    </button>\n",
              "\n",
              "  <style>\n",
              "    .colab-df-container {\n",
              "      display:flex;\n",
              "      gap: 12px;\n",
              "    }\n",
              "\n",
              "    .colab-df-convert {\n",
              "      background-color: #E8F0FE;\n",
              "      border: none;\n",
              "      border-radius: 50%;\n",
              "      cursor: pointer;\n",
              "      display: none;\n",
              "      fill: #1967D2;\n",
              "      height: 32px;\n",
              "      padding: 0 0 0 0;\n",
              "      width: 32px;\n",
              "    }\n",
              "\n",
              "    .colab-df-convert:hover {\n",
              "      background-color: #E2EBFA;\n",
              "      box-shadow: 0px 1px 2px rgba(60, 64, 67, 0.3), 0px 1px 3px 1px rgba(60, 64, 67, 0.15);\n",
              "      fill: #174EA6;\n",
              "    }\n",
              "\n",
              "    .colab-df-buttons div {\n",
              "      margin-bottom: 4px;\n",
              "    }\n",
              "\n",
              "    [theme=dark] .colab-df-convert {\n",
              "      background-color: #3B4455;\n",
              "      fill: #D2E3FC;\n",
              "    }\n",
              "\n",
              "    [theme=dark] .colab-df-convert:hover {\n",
              "      background-color: #434B5C;\n",
              "      box-shadow: 0px 1px 3px 1px rgba(0, 0, 0, 0.15);\n",
              "      filter: drop-shadow(0px 1px 2px rgba(0, 0, 0, 0.3));\n",
              "      fill: #FFFFFF;\n",
              "    }\n",
              "  </style>\n",
              "\n",
              "    <script>\n",
              "      const buttonEl =\n",
              "        document.querySelector('#df-fda3ac34-fcdb-4950-bd7b-c5e7a0a99c80 button.colab-df-convert');\n",
              "      buttonEl.style.display =\n",
              "        google.colab.kernel.accessAllowed ? 'block' : 'none';\n",
              "\n",
              "      async function convertToInteractive(key) {\n",
              "        const element = document.querySelector('#df-fda3ac34-fcdb-4950-bd7b-c5e7a0a99c80');\n",
              "        const dataTable =\n",
              "          await google.colab.kernel.invokeFunction('convertToInteractive',\n",
              "                                                    [key], {});\n",
              "        if (!dataTable) return;\n",
              "\n",
              "        const docLinkHtml = 'Like what you see? Visit the ' +\n",
              "          '<a target=\"_blank\" href=https://colab.research.google.com/notebooks/data_table.ipynb>data table notebook</a>'\n",
              "          + ' to learn more about interactive tables.';\n",
              "        element.innerHTML = '';\n",
              "        dataTable['output_type'] = 'display_data';\n",
              "        await google.colab.output.renderOutput(dataTable, element);\n",
              "        const docLink = document.createElement('div');\n",
              "        docLink.innerHTML = docLinkHtml;\n",
              "        element.appendChild(docLink);\n",
              "      }\n",
              "    </script>\n",
              "  </div>\n",
              "\n",
              "\n",
              "<div id=\"df-70a04bfb-1161-4f34-8b6c-a52089d4c4ef\">\n",
              "  <button class=\"colab-df-quickchart\" onclick=\"quickchart('df-70a04bfb-1161-4f34-8b6c-a52089d4c4ef')\"\n",
              "            title=\"Suggest charts\"\n",
              "            style=\"display:none;\">\n",
              "\n",
              "<svg xmlns=\"http://www.w3.org/2000/svg\" height=\"24px\"viewBox=\"0 0 24 24\"\n",
              "     width=\"24px\">\n",
              "    <g>\n",
              "        <path d=\"M19 3H5c-1.1 0-2 .9-2 2v14c0 1.1.9 2 2 2h14c1.1 0 2-.9 2-2V5c0-1.1-.9-2-2-2zM9 17H7v-7h2v7zm4 0h-2V7h2v10zm4 0h-2v-4h2v4z\"/>\n",
              "    </g>\n",
              "</svg>\n",
              "  </button>\n",
              "\n",
              "<style>\n",
              "  .colab-df-quickchart {\n",
              "      --bg-color: #E8F0FE;\n",
              "      --fill-color: #1967D2;\n",
              "      --hover-bg-color: #E2EBFA;\n",
              "      --hover-fill-color: #174EA6;\n",
              "      --disabled-fill-color: #AAA;\n",
              "      --disabled-bg-color: #DDD;\n",
              "  }\n",
              "\n",
              "  [theme=dark] .colab-df-quickchart {\n",
              "      --bg-color: #3B4455;\n",
              "      --fill-color: #D2E3FC;\n",
              "      --hover-bg-color: #434B5C;\n",
              "      --hover-fill-color: #FFFFFF;\n",
              "      --disabled-bg-color: #3B4455;\n",
              "      --disabled-fill-color: #666;\n",
              "  }\n",
              "\n",
              "  .colab-df-quickchart {\n",
              "    background-color: var(--bg-color);\n",
              "    border: none;\n",
              "    border-radius: 50%;\n",
              "    cursor: pointer;\n",
              "    display: none;\n",
              "    fill: var(--fill-color);\n",
              "    height: 32px;\n",
              "    padding: 0;\n",
              "    width: 32px;\n",
              "  }\n",
              "\n",
              "  .colab-df-quickchart:hover {\n",
              "    background-color: var(--hover-bg-color);\n",
              "    box-shadow: 0 1px 2px rgba(60, 64, 67, 0.3), 0 1px 3px 1px rgba(60, 64, 67, 0.15);\n",
              "    fill: var(--button-hover-fill-color);\n",
              "  }\n",
              "\n",
              "  .colab-df-quickchart-complete:disabled,\n",
              "  .colab-df-quickchart-complete:disabled:hover {\n",
              "    background-color: var(--disabled-bg-color);\n",
              "    fill: var(--disabled-fill-color);\n",
              "    box-shadow: none;\n",
              "  }\n",
              "\n",
              "  .colab-df-spinner {\n",
              "    border: 2px solid var(--fill-color);\n",
              "    border-color: transparent;\n",
              "    border-bottom-color: var(--fill-color);\n",
              "    animation:\n",
              "      spin 1s steps(1) infinite;\n",
              "  }\n",
              "\n",
              "  @keyframes spin {\n",
              "    0% {\n",
              "      border-color: transparent;\n",
              "      border-bottom-color: var(--fill-color);\n",
              "      border-left-color: var(--fill-color);\n",
              "    }\n",
              "    20% {\n",
              "      border-color: transparent;\n",
              "      border-left-color: var(--fill-color);\n",
              "      border-top-color: var(--fill-color);\n",
              "    }\n",
              "    30% {\n",
              "      border-color: transparent;\n",
              "      border-left-color: var(--fill-color);\n",
              "      border-top-color: var(--fill-color);\n",
              "      border-right-color: var(--fill-color);\n",
              "    }\n",
              "    40% {\n",
              "      border-color: transparent;\n",
              "      border-right-color: var(--fill-color);\n",
              "      border-top-color: var(--fill-color);\n",
              "    }\n",
              "    60% {\n",
              "      border-color: transparent;\n",
              "      border-right-color: var(--fill-color);\n",
              "    }\n",
              "    80% {\n",
              "      border-color: transparent;\n",
              "      border-right-color: var(--fill-color);\n",
              "      border-bottom-color: var(--fill-color);\n",
              "    }\n",
              "    90% {\n",
              "      border-color: transparent;\n",
              "      border-bottom-color: var(--fill-color);\n",
              "    }\n",
              "  }\n",
              "</style>\n",
              "\n",
              "  <script>\n",
              "    async function quickchart(key) {\n",
              "      const quickchartButtonEl =\n",
              "        document.querySelector('#' + key + ' button');\n",
              "      quickchartButtonEl.disabled = true;  // To prevent multiple clicks.\n",
              "      quickchartButtonEl.classList.add('colab-df-spinner');\n",
              "      try {\n",
              "        const charts = await google.colab.kernel.invokeFunction(\n",
              "            'suggestCharts', [key], {});\n",
              "      } catch (error) {\n",
              "        console.error('Error during call to suggestCharts:', error);\n",
              "      }\n",
              "      quickchartButtonEl.classList.remove('colab-df-spinner');\n",
              "      quickchartButtonEl.classList.add('colab-df-quickchart-complete');\n",
              "    }\n",
              "    (() => {\n",
              "      let quickchartButtonEl =\n",
              "        document.querySelector('#df-70a04bfb-1161-4f34-8b6c-a52089d4c4ef button');\n",
              "      quickchartButtonEl.style.display =\n",
              "        google.colab.kernel.accessAllowed ? 'block' : 'none';\n",
              "    })();\n",
              "  </script>\n",
              "</div>\n",
              "    </div>\n",
              "  </div>\n"
            ]
          },
          "metadata": {},
          "execution_count": 18
        }
      ]
    },
    {
      "cell_type": "code",
      "source": [
        "test_range = 10\n",
        "print('human_dna type=', type(human_dna), 'human_dna shape=', human_dna.shape)\n",
        "print('human_dna words len=\\n', [len(k) for k in human_dna.iloc[0:test_range]['words']])\n",
        "print('human_dna class=\\n',human_dna.iloc[0:test_range]['class'])"
      ],
      "metadata": {
        "colab": {
          "base_uri": "https://localhost:8080/"
        },
        "id": "zcKuoXUNUAxJ",
        "outputId": "7fcf23ba-1f16-45ba-c98c-a540f4fbf7d1"
      },
      "execution_count": 48,
      "outputs": [
        {
          "output_type": "stream",
          "name": "stdout",
          "text": [
            "human_dna type= <class 'pandas.core.frame.DataFrame'> human_dna shape= (4380, 2)\n",
            "human_dna words len=\n",
            " [202, 676, 1681, 1201, 1432, 1681, 1618, 1432, 1618, 639]\n",
            "human_dna class=\n",
            " 0    4\n",
            "1    4\n",
            "2    3\n",
            "3    3\n",
            "4    3\n",
            "5    3\n",
            "6    3\n",
            "7    3\n",
            "8    3\n",
            "9    3\n",
            "Name: class, dtype: int64\n"
          ]
        }
      ]
    },
    {
      "cell_type": "markdown",
      "source": [
        "![image.png](data:image/png;base64,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)"
      ],
      "metadata": {
        "id": "1nvvH2RsX13V"
      }
    },
    {
      "cell_type": "code",
      "source": [
        "for k in range(7):\n",
        "  print(k, np.sum(human_dna['class']==k))"
      ],
      "metadata": {
        "colab": {
          "base_uri": "https://localhost:8080/"
        },
        "id": "LwMfbB-6Xo-t",
        "outputId": "fbe3675d-3cdc-4f9d-98ae-c38dc0ddcc4b"
      },
      "execution_count": 35,
      "outputs": [
        {
          "output_type": "stream",
          "name": "stdout",
          "text": [
            "0 531\n",
            "1 534\n",
            "2 349\n",
            "3 672\n",
            "4 711\n",
            "5 240\n",
            "6 1343\n"
          ]
        }
      ]
    },
    {
      "cell_type": "code",
      "source": [
        "human_dna.info()"
      ],
      "metadata": {
        "colab": {
          "base_uri": "https://localhost:8080/"
        },
        "id": "jJZgMtmsXmk8",
        "outputId": "fd7407ed-d695-40b5-c093-e4fda60b0fa4"
      },
      "execution_count": 31,
      "outputs": [
        {
          "output_type": "stream",
          "name": "stdout",
          "text": [
            "<class 'pandas.core.frame.DataFrame'>\n",
            "RangeIndex: 4380 entries, 0 to 4379\n",
            "Data columns (total 2 columns):\n",
            " #   Column  Non-Null Count  Dtype \n",
            "---  ------  --------------  ----- \n",
            " 0   class   4380 non-null   int64 \n",
            " 1   words   4380 non-null   object\n",
            "dtypes: int64(1), object(1)\n",
            "memory usage: 68.6+ KB\n"
          ]
        }
      ]
    },
    {
      "cell_type": "code",
      "source": [
        "human_dna.describe()"
      ],
      "metadata": {
        "colab": {
          "base_uri": "https://localhost:8080/",
          "height": 300
        },
        "id": "aCu7tl8SUAt_",
        "outputId": "0155c1ec-c6c4-4ed2-f7d8-8f743d6cd4db"
      },
      "execution_count": 30,
      "outputs": [
        {
          "output_type": "execute_result",
          "data": {
            "text/plain": [
              "             class\n",
              "count  4380.000000\n",
              "mean      3.504566\n",
              "std       2.132134\n",
              "min       0.000000\n",
              "25%       2.000000\n",
              "50%       4.000000\n",
              "75%       6.000000\n",
              "max       6.000000"
            ],
            "text/html": [
              "\n",
              "  <div id=\"df-50204c4e-a05b-4758-8f64-9df73818bcd4\" class=\"colab-df-container\">\n",
              "    <div>\n",
              "<style scoped>\n",
              "    .dataframe tbody tr th:only-of-type {\n",
              "        vertical-align: middle;\n",
              "    }\n",
              "\n",
              "    .dataframe tbody tr th {\n",
              "        vertical-align: top;\n",
              "    }\n",
              "\n",
              "    .dataframe thead th {\n",
              "        text-align: right;\n",
              "    }\n",
              "</style>\n",
              "<table border=\"1\" class=\"dataframe\">\n",
              "  <thead>\n",
              "    <tr style=\"text-align: right;\">\n",
              "      <th></th>\n",
              "      <th>class</th>\n",
              "    </tr>\n",
              "  </thead>\n",
              "  <tbody>\n",
              "    <tr>\n",
              "      <th>count</th>\n",
              "      <td>4380.000000</td>\n",
              "    </tr>\n",
              "    <tr>\n",
              "      <th>mean</th>\n",
              "      <td>3.504566</td>\n",
              "    </tr>\n",
              "    <tr>\n",
              "      <th>std</th>\n",
              "      <td>2.132134</td>\n",
              "    </tr>\n",
              "    <tr>\n",
              "      <th>min</th>\n",
              "      <td>0.000000</td>\n",
              "    </tr>\n",
              "    <tr>\n",
              "      <th>25%</th>\n",
              "      <td>2.000000</td>\n",
              "    </tr>\n",
              "    <tr>\n",
              "      <th>50%</th>\n",
              "      <td>4.000000</td>\n",
              "    </tr>\n",
              "    <tr>\n",
              "      <th>75%</th>\n",
              "      <td>6.000000</td>\n",
              "    </tr>\n",
              "    <tr>\n",
              "      <th>max</th>\n",
              "      <td>6.000000</td>\n",
              "    </tr>\n",
              "  </tbody>\n",
              "</table>\n",
              "</div>\n",
              "    <div class=\"colab-df-buttons\">\n",
              "\n",
              "  <div class=\"colab-df-container\">\n",
              "    <button class=\"colab-df-convert\" onclick=\"convertToInteractive('df-50204c4e-a05b-4758-8f64-9df73818bcd4')\"\n",
              "            title=\"Convert this dataframe to an interactive table.\"\n",
              "            style=\"display:none;\">\n",
              "\n",
              "  <svg xmlns=\"http://www.w3.org/2000/svg\" height=\"24px\" viewBox=\"0 -960 960 960\">\n",
              "    <path d=\"M120-120v-720h720v720H120Zm60-500h600v-160H180v160Zm220 220h160v-160H400v160Zm0 220h160v-160H400v160ZM180-400h160v-160H180v160Zm440 0h160v-160H620v160ZM180-180h160v-160H180v160Zm440 0h160v-160H620v160Z\"/>\n",
              "  </svg>\n",
              "    </button>\n",
              "\n",
              "  <style>\n",
              "    .colab-df-container {\n",
              "      display:flex;\n",
              "      gap: 12px;\n",
              "    }\n",
              "\n",
              "    .colab-df-convert {\n",
              "      background-color: #E8F0FE;\n",
              "      border: none;\n",
              "      border-radius: 50%;\n",
              "      cursor: pointer;\n",
              "      display: none;\n",
              "      fill: #1967D2;\n",
              "      height: 32px;\n",
              "      padding: 0 0 0 0;\n",
              "      width: 32px;\n",
              "    }\n",
              "\n",
              "    .colab-df-convert:hover {\n",
              "      background-color: #E2EBFA;\n",
              "      box-shadow: 0px 1px 2px rgba(60, 64, 67, 0.3), 0px 1px 3px 1px rgba(60, 64, 67, 0.15);\n",
              "      fill: #174EA6;\n",
              "    }\n",
              "\n",
              "    .colab-df-buttons div {\n",
              "      margin-bottom: 4px;\n",
              "    }\n",
              "\n",
              "    [theme=dark] .colab-df-convert {\n",
              "      background-color: #3B4455;\n",
              "      fill: #D2E3FC;\n",
              "    }\n",
              "\n",
              "    [theme=dark] .colab-df-convert:hover {\n",
              "      background-color: #434B5C;\n",
              "      box-shadow: 0px 1px 3px 1px rgba(0, 0, 0, 0.15);\n",
              "      filter: drop-shadow(0px 1px 2px rgba(0, 0, 0, 0.3));\n",
              "      fill: #FFFFFF;\n",
              "    }\n",
              "  </style>\n",
              "\n",
              "    <script>\n",
              "      const buttonEl =\n",
              "        document.querySelector('#df-50204c4e-a05b-4758-8f64-9df73818bcd4 button.colab-df-convert');\n",
              "      buttonEl.style.display =\n",
              "        google.colab.kernel.accessAllowed ? 'block' : 'none';\n",
              "\n",
              "      async function convertToInteractive(key) {\n",
              "        const element = document.querySelector('#df-50204c4e-a05b-4758-8f64-9df73818bcd4');\n",
              "        const dataTable =\n",
              "          await google.colab.kernel.invokeFunction('convertToInteractive',\n",
              "                                                    [key], {});\n",
              "        if (!dataTable) return;\n",
              "\n",
              "        const docLinkHtml = 'Like what you see? Visit the ' +\n",
              "          '<a target=\"_blank\" href=https://colab.research.google.com/notebooks/data_table.ipynb>data table notebook</a>'\n",
              "          + ' to learn more about interactive tables.';\n",
              "        element.innerHTML = '';\n",
              "        dataTable['output_type'] = 'display_data';\n",
              "        await google.colab.output.renderOutput(dataTable, element);\n",
              "        const docLink = document.createElement('div');\n",
              "        docLink.innerHTML = docLinkHtml;\n",
              "        element.appendChild(docLink);\n",
              "      }\n",
              "    </script>\n",
              "  </div>\n",
              "\n",
              "\n",
              "<div id=\"df-c5edeb3a-869c-4f76-bc72-9cbc1fc51496\">\n",
              "  <button class=\"colab-df-quickchart\" onclick=\"quickchart('df-c5edeb3a-869c-4f76-bc72-9cbc1fc51496')\"\n",
              "            title=\"Suggest charts\"\n",
              "            style=\"display:none;\">\n",
              "\n",
              "<svg xmlns=\"http://www.w3.org/2000/svg\" height=\"24px\"viewBox=\"0 0 24 24\"\n",
              "     width=\"24px\">\n",
              "    <g>\n",
              "        <path d=\"M19 3H5c-1.1 0-2 .9-2 2v14c0 1.1.9 2 2 2h14c1.1 0 2-.9 2-2V5c0-1.1-.9-2-2-2zM9 17H7v-7h2v7zm4 0h-2V7h2v10zm4 0h-2v-4h2v4z\"/>\n",
              "    </g>\n",
              "</svg>\n",
              "  </button>\n",
              "\n",
              "<style>\n",
              "  .colab-df-quickchart {\n",
              "      --bg-color: #E8F0FE;\n",
              "      --fill-color: #1967D2;\n",
              "      --hover-bg-color: #E2EBFA;\n",
              "      --hover-fill-color: #174EA6;\n",
              "      --disabled-fill-color: #AAA;\n",
              "      --disabled-bg-color: #DDD;\n",
              "  }\n",
              "\n",
              "  [theme=dark] .colab-df-quickchart {\n",
              "      --bg-color: #3B4455;\n",
              "      --fill-color: #D2E3FC;\n",
              "      --hover-bg-color: #434B5C;\n",
              "      --hover-fill-color: #FFFFFF;\n",
              "      --disabled-bg-color: #3B4455;\n",
              "      --disabled-fill-color: #666;\n",
              "  }\n",
              "\n",
              "  .colab-df-quickchart {\n",
              "    background-color: var(--bg-color);\n",
              "    border: none;\n",
              "    border-radius: 50%;\n",
              "    cursor: pointer;\n",
              "    display: none;\n",
              "    fill: var(--fill-color);\n",
              "    height: 32px;\n",
              "    padding: 0;\n",
              "    width: 32px;\n",
              "  }\n",
              "\n",
              "  .colab-df-quickchart:hover {\n",
              "    background-color: var(--hover-bg-color);\n",
              "    box-shadow: 0 1px 2px rgba(60, 64, 67, 0.3), 0 1px 3px 1px rgba(60, 64, 67, 0.15);\n",
              "    fill: var(--button-hover-fill-color);\n",
              "  }\n",
              "\n",
              "  .colab-df-quickchart-complete:disabled,\n",
              "  .colab-df-quickchart-complete:disabled:hover {\n",
              "    background-color: var(--disabled-bg-color);\n",
              "    fill: var(--disabled-fill-color);\n",
              "    box-shadow: none;\n",
              "  }\n",
              "\n",
              "  .colab-df-spinner {\n",
              "    border: 2px solid var(--fill-color);\n",
              "    border-color: transparent;\n",
              "    border-bottom-color: var(--fill-color);\n",
              "    animation:\n",
              "      spin 1s steps(1) infinite;\n",
              "  }\n",
              "\n",
              "  @keyframes spin {\n",
              "    0% {\n",
              "      border-color: transparent;\n",
              "      border-bottom-color: var(--fill-color);\n",
              "      border-left-color: var(--fill-color);\n",
              "    }\n",
              "    20% {\n",
              "      border-color: transparent;\n",
              "      border-left-color: var(--fill-color);\n",
              "      border-top-color: var(--fill-color);\n",
              "    }\n",
              "    30% {\n",
              "      border-color: transparent;\n",
              "      border-left-color: var(--fill-color);\n",
              "      border-top-color: var(--fill-color);\n",
              "      border-right-color: var(--fill-color);\n",
              "    }\n",
              "    40% {\n",
              "      border-color: transparent;\n",
              "      border-right-color: var(--fill-color);\n",
              "      border-top-color: var(--fill-color);\n",
              "    }\n",
              "    60% {\n",
              "      border-color: transparent;\n",
              "      border-right-color: var(--fill-color);\n",
              "    }\n",
              "    80% {\n",
              "      border-color: transparent;\n",
              "      border-right-color: var(--fill-color);\n",
              "      border-bottom-color: var(--fill-color);\n",
              "    }\n",
              "    90% {\n",
              "      border-color: transparent;\n",
              "      border-bottom-color: var(--fill-color);\n",
              "    }\n",
              "  }\n",
              "</style>\n",
              "\n",
              "  <script>\n",
              "    async function quickchart(key) {\n",
              "      const quickchartButtonEl =\n",
              "        document.querySelector('#' + key + ' button');\n",
              "      quickchartButtonEl.disabled = true;  // To prevent multiple clicks.\n",
              "      quickchartButtonEl.classList.add('colab-df-spinner');\n",
              "      try {\n",
              "        const charts = await google.colab.kernel.invokeFunction(\n",
              "            'suggestCharts', [key], {});\n",
              "      } catch (error) {\n",
              "        console.error('Error during call to suggestCharts:', error);\n",
              "      }\n",
              "      quickchartButtonEl.classList.remove('colab-df-spinner');\n",
              "      quickchartButtonEl.classList.add('colab-df-quickchart-complete');\n",
              "    }\n",
              "    (() => {\n",
              "      let quickchartButtonEl =\n",
              "        document.querySelector('#df-c5edeb3a-869c-4f76-bc72-9cbc1fc51496 button');\n",
              "      quickchartButtonEl.style.display =\n",
              "        google.colab.kernel.accessAllowed ? 'block' : 'none';\n",
              "    })();\n",
              "  </script>\n",
              "</div>\n",
              "    </div>\n",
              "  </div>\n"
            ]
          },
          "metadata": {},
          "execution_count": 30
        }
      ]
    },
    {
      "cell_type": "markdown",
      "source": [
        "We need to now convert the lists of k-mers for each gene into string sentences of words that can be used to create the Bag of Words model. We will make a target variable y to hold the class labels.\n"
      ],
      "metadata": {
        "id": "PYH82z63Z2Vn"
      }
    },
    {
      "cell_type": "code",
      "source": [
        "#do the same for chimp and dog\n",
        "human_texts = list(human_dna['words'])\n",
        "for item in range(len(human_texts)):\n",
        "   human_texts[item] = ' '.join(human_texts[item])\n",
        "#separate labels\n",
        "y_human = human_dna.iloc[:, 0].values # y_human for human_dna\n",
        "#Now let's do the same for chimp and dog.\n",
        "chimp_texts = list(chimp_dna['words'])\n",
        "for item in range(len(chimp_texts)):\n",
        "   chimp_texts[item] = ' '.join(chimp_texts[item])\n",
        "#separate labels\n",
        "y_chim = chimp_dna.iloc[:, 0].values # y_chim for chimp_dna\n",
        "dog_texts = list(dog_dna['words'])\n",
        "for item in range(len(dog_texts)):\n",
        "   dog_texts[item] = ' '.join(dog_texts[item])\n",
        "#separate labels\n",
        "y_dog = dog_dna.iloc[:, 0].values  # y_dog for dog_dna\n",
        "\n",
        "#So the target variable contains an array of class values.\n",
        "#array([4, 4, 3, …, 6, 6, 6])\n"
      ],
      "metadata": {
        "id": "GKIgjMhbUAql"
      },
      "execution_count": 49,
      "outputs": []
    },
    {
      "cell_type": "markdown",
      "source": [
        "Convert our k-mer words into uniform length numerical vectors that represent counts for every k-mer in the vocabulary:\n",
        "\n",
        "shapes\n",
        "(4380, 232414)\n",
        "(1682, 232414)\n",
        "(820, 232414)\n"
      ],
      "metadata": {
        "id": "eGiFw4BPaD3W"
      }
    },
    {
      "cell_type": "code",
      "source": [
        "#Creating the Bag of Words model:\n",
        "from sklearn.feature_extraction.text import CountVectorizer\n",
        "cv = CountVectorizer(ngram_range=(4,4))\n",
        "#The n-gram size of 4 is previously determined by testing\n",
        "# analyzer{‘word’, ‘char’, ‘char_wb’} or callable, default=’word’\n",
        "\n",
        "X = cv.fit_transform(human_texts)\n",
        "X_chimp = cv.transform(chimp_texts)\n",
        "X_dog = cv.transform(dog_texts)\n",
        "\n",
        "#You may want to check the shape of each of these training data.\n",
        "print(X.shape)\n",
        "print(X_chimp.shape)\n",
        "print(X_dog.shape)"
      ],
      "metadata": {
        "colab": {
          "base_uri": "https://localhost:8080/"
        },
        "id": "2DVmUl24UAnO",
        "outputId": "32a4f122-1e35-4475-b52f-2e4a2230a075"
      },
      "execution_count": 50,
      "outputs": [
        {
          "output_type": "stream",
          "name": "stdout",
          "text": [
            "(4380, 232414)\n",
            "(1682, 232414)\n",
            "(820, 232414)\n"
          ]
        }
      ]
    },
    {
      "cell_type": "markdown",
      "source": [
        "Example of N-gram such as unigram (“This”, “article”, “is”, “on”, “NLP”)  or bi-gram (‘This article’, ‘article is’, ‘is on’,’on NLP’).\n",
        "\n",
        "\n",
        "cv.vocabulary_ has rows:\\\n",
        "0 atgccc tgcccc gcccca ccccaa\\\n",
        "1 tgcccc gcccca ccccaa cccaac\\\n",
        "2 gcccca ccccaa cccaac ccaact\\\n",
        "3 ccccaa cccaac ccaact caacta\\\n",
        "4 cccaac ccaact caacta aactaa\\\n",
        "5 ccaact caacta aactaa actaaa\\\n",
        "6 caacta aactaa actaaa ctaaat\\\n",
        "7 aactaa actaaa ctaaat taaata\\\n",
        "8 actaaa ctaaat taaata aaatac\\\n",
        "9 ctaaat taaata aaatac aatact\\"
      ],
      "metadata": {
        "id": "ZxEkCTFpjr1A"
      }
    },
    {
      "cell_type": "code",
      "source": [
        "#[k for k in cv.vocabulary_ if k.value()==60202]\n",
        "#type(cv.vocabulary_)\n",
        "for i, k in enumerate(cv.vocabulary_):\n",
        "   if i < 10:\n",
        "     print(i, k)"
      ],
      "metadata": {
        "colab": {
          "base_uri": "https://localhost:8080/"
        },
        "id": "-_R5oxsPiLBs",
        "outputId": "cf3205f4-9f78-4447-bec0-143b9632177e"
      },
      "execution_count": 76,
      "outputs": [
        {
          "output_type": "stream",
          "name": "stdout",
          "text": [
            "0 atgccc tgcccc gcccca ccccaa\n",
            "1 tgcccc gcccca ccccaa cccaac\n",
            "2 gcccca ccccaa cccaac ccaact\n",
            "3 ccccaa cccaac ccaact caacta\n",
            "4 cccaac ccaact caacta aactaa\n",
            "5 ccaact caacta aactaa actaaa\n",
            "6 caacta aactaa actaaa ctaaat\n",
            "7 aactaa actaaa ctaaat taaata\n",
            "8 actaaa ctaaat taaata aaatac\n",
            "9 ctaaat taaata aaatac aatact\n"
          ]
        }
      ]
    },
    {
      "cell_type": "code",
      "source": [
        "# type of X is compressed sparse row (CSR) or compressed row storage (CRS) or Yale format\n",
        "#represents a matrix M by three (one-dimensional) arrays, that respectively contain\n",
        "#nonzero values, the extents of rows, and column indices.\n",
        "\n",
        "type(X), X.shape, X[0].toarray().shape\n"
      ],
      "metadata": {
        "colab": {
          "base_uri": "https://localhost:8080/"
        },
        "id": "WAQ5oc1JhMIW",
        "outputId": "01de1a28-76f1-485a-9977-bd78d6df3e88"
      },
      "execution_count": 67,
      "outputs": [
        {
          "output_type": "execute_result",
          "data": {
            "text/plain": [
              "(scipy.sparse._csr.csr_matrix, (4380, 232414), (1, 232414))"
            ]
          },
          "metadata": {},
          "execution_count": 67
        }
      ]
    },
    {
      "cell_type": "code",
      "source": [
        "type(cv.vocabulary_), len(cv.vocabulary_)"
      ],
      "metadata": {
        "colab": {
          "base_uri": "https://localhost:8080/"
        },
        "id": "fcLf2MPwaYAd",
        "outputId": "1bb8b7e3-48a8-4cf5-e617-c9863954aabb"
      },
      "execution_count": 53,
      "outputs": [
        {
          "output_type": "execute_result",
          "data": {
            "text/plain": [
              "(dict, 232414)"
            ]
          },
          "metadata": {},
          "execution_count": 53
        }
      ]
    },
    {
      "cell_type": "markdown",
      "source": [
        "So, for humans we have 4380 genes converted into uniform length feature vectors of 4-gram k-mer (length 6) counts. For chimps and dogs, we have the same number of features with 1682 and 820 genes respectively.\n",
        "\n",
        "\n",
        "So now that we know how to transform our DNA sequences into uniform length numerical vectors in the form of k-mer counts and ngrams, we can now go ahead and build a classification model that can predict the DNA sequence function based only on the sequence itself.\n",
        "\n",
        "\n",
        "Here I will use the human data to train the model, holding out 20% of the human data to test the model. Then we can challenge the model’s generalizability by trying to predict sequence function in other species (the chimpanzee and dog).\n",
        "\n",
        "\n",
        "Next, train/test split human dataset and build simple multinomial naive Bayes classifier.\n",
        "\n",
        "\n",
        "You might want to do some parameter tuning and build a model with different ngram sizes, here I’ll go ahead with an ngram size of 4 and a model alpha of 0.1.\n",
        "\n",
        "\n",
        "\n"
      ],
      "metadata": {
        "id": "lmBYpyNbanSJ"
      }
    },
    {
      "cell_type": "code",
      "source": [
        "# Splitting the human dataset into the training set and test set\n",
        "from sklearn.model_selection import train_test_split\n",
        "\n",
        "X_train, X_test, y_train, y_test = train_test_split(X,\n",
        "                                                   y_human,\n",
        "                                                   test_size = 0.20,\n",
        "                                                   random_state=42)\n",
        "\n",
        "### Multinomial Naive Bayes Classifier ###\n",
        "from sklearn.naive_bayes import MultinomialNB\n",
        "classifier = MultinomialNB(alpha=0.1)\n",
        "classifier.fit(X_train, y_train)"
      ],
      "metadata": {
        "colab": {
          "base_uri": "https://localhost:8080/",
          "height": 74
        },
        "id": "RUKTLgdAapRh",
        "outputId": "6bbe1f85-aef9-4857-82ee-d54f9e8418cc"
      },
      "execution_count": 54,
      "outputs": [
        {
          "output_type": "execute_result",
          "data": {
            "text/plain": [
              "MultinomialNB(alpha=0.1)"
            ],
            "text/html": [
              "<style>#sk-container-id-1 {color: black;background-color: white;}#sk-container-id-1 pre{padding: 0;}#sk-container-id-1 div.sk-toggleable {background-color: white;}#sk-container-id-1 label.sk-toggleable__label {cursor: pointer;display: block;width: 100%;margin-bottom: 0;padding: 0.3em;box-sizing: border-box;text-align: center;}#sk-container-id-1 label.sk-toggleable__label-arrow:before {content: \"▸\";float: left;margin-right: 0.25em;color: #696969;}#sk-container-id-1 label.sk-toggleable__label-arrow:hover:before {color: black;}#sk-container-id-1 div.sk-estimator:hover label.sk-toggleable__label-arrow:before {color: black;}#sk-container-id-1 div.sk-toggleable__content {max-height: 0;max-width: 0;overflow: hidden;text-align: left;background-color: #f0f8ff;}#sk-container-id-1 div.sk-toggleable__content pre {margin: 0.2em;color: black;border-radius: 0.25em;background-color: #f0f8ff;}#sk-container-id-1 input.sk-toggleable__control:checked~div.sk-toggleable__content {max-height: 200px;max-width: 100%;overflow: auto;}#sk-container-id-1 input.sk-toggleable__control:checked~label.sk-toggleable__label-arrow:before {content: \"▾\";}#sk-container-id-1 div.sk-estimator input.sk-toggleable__control:checked~label.sk-toggleable__label {background-color: #d4ebff;}#sk-container-id-1 div.sk-label input.sk-toggleable__control:checked~label.sk-toggleable__label {background-color: #d4ebff;}#sk-container-id-1 input.sk-hidden--visually {border: 0;clip: rect(1px 1px 1px 1px);clip: rect(1px, 1px, 1px, 1px);height: 1px;margin: -1px;overflow: hidden;padding: 0;position: absolute;width: 1px;}#sk-container-id-1 div.sk-estimator {font-family: monospace;background-color: #f0f8ff;border: 1px dotted black;border-radius: 0.25em;box-sizing: border-box;margin-bottom: 0.5em;}#sk-container-id-1 div.sk-estimator:hover {background-color: #d4ebff;}#sk-container-id-1 div.sk-parallel-item::after {content: \"\";width: 100%;border-bottom: 1px solid gray;flex-grow: 1;}#sk-container-id-1 div.sk-label:hover label.sk-toggleable__label {background-color: #d4ebff;}#sk-container-id-1 div.sk-serial::before {content: \"\";position: absolute;border-left: 1px solid gray;box-sizing: border-box;top: 0;bottom: 0;left: 50%;z-index: 0;}#sk-container-id-1 div.sk-serial {display: flex;flex-direction: column;align-items: center;background-color: white;padding-right: 0.2em;padding-left: 0.2em;position: relative;}#sk-container-id-1 div.sk-item {position: relative;z-index: 1;}#sk-container-id-1 div.sk-parallel {display: flex;align-items: stretch;justify-content: center;background-color: white;position: relative;}#sk-container-id-1 div.sk-item::before, #sk-container-id-1 div.sk-parallel-item::before {content: \"\";position: absolute;border-left: 1px solid gray;box-sizing: border-box;top: 0;bottom: 0;left: 50%;z-index: -1;}#sk-container-id-1 div.sk-parallel-item {display: flex;flex-direction: column;z-index: 1;position: relative;background-color: white;}#sk-container-id-1 div.sk-parallel-item:first-child::after {align-self: flex-end;width: 50%;}#sk-container-id-1 div.sk-parallel-item:last-child::after {align-self: flex-start;width: 50%;}#sk-container-id-1 div.sk-parallel-item:only-child::after {width: 0;}#sk-container-id-1 div.sk-dashed-wrapped {border: 1px dashed gray;margin: 0 0.4em 0.5em 0.4em;box-sizing: border-box;padding-bottom: 0.4em;background-color: white;}#sk-container-id-1 div.sk-label label {font-family: monospace;font-weight: bold;display: inline-block;line-height: 1.2em;}#sk-container-id-1 div.sk-label-container {text-align: center;}#sk-container-id-1 div.sk-container {/* jupyter's `normalize.less` sets `[hidden] { display: none; }` but bootstrap.min.css set `[hidden] { display: none !important; }` so we also need the `!important` here to be able to override the default hidden behavior on the sphinx rendered scikit-learn.org. See: https://github.com/scikit-learn/scikit-learn/issues/21755 */display: inline-block !important;position: relative;}#sk-container-id-1 div.sk-text-repr-fallback {display: none;}</style><div id=\"sk-container-id-1\" class=\"sk-top-container\"><div class=\"sk-text-repr-fallback\"><pre>MultinomialNB(alpha=0.1)</pre><b>In a Jupyter environment, please rerun this cell to show the HTML representation or trust the notebook. <br />On GitHub, the HTML representation is unable to render, please try loading this page with nbviewer.org.</b></div><div class=\"sk-container\" hidden><div class=\"sk-item\"><div class=\"sk-estimator sk-toggleable\"><input class=\"sk-toggleable__control sk-hidden--visually\" id=\"sk-estimator-id-1\" type=\"checkbox\" checked><label for=\"sk-estimator-id-1\" class=\"sk-toggleable__label sk-toggleable__label-arrow\">MultinomialNB</label><div class=\"sk-toggleable__content\"><pre>MultinomialNB(alpha=0.1)</pre></div></div></div></div></div>"
            ]
          },
          "metadata": {},
          "execution_count": 54
        }
      ]
    },
    {
      "cell_type": "code",
      "source": [
        "#Now let’s make predictions on the human hold-out test set and see how it performs on test data.\n",
        "\n",
        "y_pred = classifier.predict(X_test)"
      ],
      "metadata": {
        "id": "ODwnskUaa3KH"
      },
      "execution_count": 55,
      "outputs": []
    },
    {
      "cell_type": "markdown",
      "source": [
        "\n",
        "\n",
        "Okay, so let’s look at some model performance metrics like the confusion matrix, accuracy, precision, recall, and f1 score. We are getting really good results on our unseen data, so it looks like our model did not overfit the training data.\n",
        "\n",
        "\n"
      ],
      "metadata": {
        "id": "EThNpdgmawrK"
      }
    },
    {
      "cell_type": "code",
      "source": [],
      "metadata": {
        "id": "XuQfS0Msapwe"
      },
      "execution_count": null,
      "outputs": []
    },
    {
      "cell_type": "code",
      "source": [
        "from sklearn.metrics import accuracy_score, f1_score, precision_score, recall_score\n",
        "\n",
        "print(\"Confusion matrix for predictions on human test DNA sequence\\n\")\n",
        "\n",
        "print(pd.crosstab(pd.Series(y_test, name='Actual'), pd.Series(y_pred, name='Predicted')))\n",
        "\n",
        "def get_metrics(y_test, y_predicted):\n",
        "   accuracy = accuracy_score(y_test, y_predicted)\n",
        "   precision = precision_score(y_test, y_predicted, average='weighted')\n",
        "   recall = recall_score(y_test, y_predicted, average='weighted')\n",
        "   f1 = f1_score(y_test, y_predicted, average='weighted')\n",
        "   return accuracy, precision, recall, f1\n",
        "\n",
        "accuracy, precision, recall, f1 = get_metrics(y_test, y_pred)\n",
        "\n",
        "print(\"accuracy = %.3f \\nprecision = %.3f \\nrecall = %.3f \\nf1 = %.3f\" % (accuracy, precision, recall, f1))"
      ],
      "metadata": {
        "colab": {
          "base_uri": "https://localhost:8080/"
        },
        "id": "cX1IcgOsaznX",
        "outputId": "bb8b240f-ea29-4cb0-ae6c-ac608403e0e5"
      },
      "execution_count": 56,
      "outputs": [
        {
          "output_type": "stream",
          "name": "stdout",
          "text": [
            "Confusion matrix for predictions on human test DNA sequence\n",
            "\n",
            "Predicted   0    1   2    3    4   5    6\n",
            "Actual                                   \n",
            "0          99    0   0    0    1   0    2\n",
            "1           0  104   0    0    0   0    2\n",
            "2           0    0  78    0    0   0    0\n",
            "3           0    0   0  124    0   0    1\n",
            "4           1    0   0    0  143   0    5\n",
            "5           0    0   0    0    0  51    0\n",
            "6           1    0   0    1    0   0  263\n",
            "accuracy = 0.984 \n",
            "precision = 0.984 \n",
            "recall = 0.984 \n",
            "f1 = 0.984\n"
          ]
        }
      ]
    },
    {
      "cell_type": "markdown",
      "source": [
        "Let’s see how our model performs on the DNA sequences from other species. First, we’ll try the Chimpanzee, which we would expect to be very similar to humans. then the Dog DNA sequences.\n"
      ],
      "metadata": {
        "id": "dkX3EMqwbDmf"
      }
    },
    {
      "cell_type": "code",
      "source": [
        "# Predicting the chimp, dog and worm sequences\n",
        "y_pred_chimp = classifier.predict(X_chimp)\n",
        "\n",
        "#Check the accuracy matrix:\n",
        "# performance on chimpanzee genes\n",
        "print(\"Confusion matrix for predictions on Chimpanzee test DNA sequence\\n\")\n",
        "print(pd.crosstab(pd.Series(y_chim, name='Actual'), pd.Series(y_pred_chimp, name='Predicted')))\n",
        "accuracy, precision, recall, f1 = get_metrics(y_chim, y_pred_chimp)\n",
        "print(\"accuracy = %.3f \\nprecision = %.3f \\nrecall = %.3f \\nf1 = %.3f\" % (accuracy, precision, recall, f1))\n"
      ],
      "metadata": {
        "colab": {
          "base_uri": "https://localhost:8080/"
        },
        "id": "L3WK_69GbCBZ",
        "outputId": "a04ce3d0-4ab1-4abc-b05c-9ac02c0fc217"
      },
      "execution_count": 57,
      "outputs": [
        {
          "output_type": "stream",
          "name": "stdout",
          "text": [
            "Confusion matrix for predictions on Chimpanzee test DNA sequence\n",
            "\n",
            "Predicted    0    1    2    3    4    5    6\n",
            "Actual                                      \n",
            "0          232    0    0    0    0    0    2\n",
            "1            0  184    0    0    0    0    1\n",
            "2            0    0  144    0    0    0    0\n",
            "3            0    0    0  227    0    0    1\n",
            "4            2    0    0    0  254    0    5\n",
            "5            0    0    0    0    0  109    0\n",
            "6            0    0    0    0    0    0  521\n",
            "accuracy = 0.993 \n",
            "precision = 0.994 \n",
            "recall = 0.993 \n",
            "f1 = 0.993\n"
          ]
        }
      ]
    },
    {
      "cell_type": "code",
      "source": [
        "#Let us now do predictions on Dog test DNA sequence:\n",
        "\n",
        "\n",
        "y_pred_dog = classifier.predict(X_dog)\n",
        "\n",
        "#Check the accuracy matrix:\n",
        "\n",
        "\n",
        "# performance on dog genes\n",
        "print(\"Confusion matrix for predictions on Dog test DNA sequence\\n\")\n",
        "print(pd.crosstab(pd.Series(y_dog, name='Actual'), pd.Series(y_pred_dog, name='Predicted')))\n",
        "accuracy, precision, recall, f1 = get_metrics(y_dog, y_pred_dog)\n",
        "print(\"accuracy = %.3f \\nprecision = %.3f \\nrecall = %.3f \\nf1 = %.3f\" % (accuracy, precision, recall, f1))\n"
      ],
      "metadata": {
        "colab": {
          "base_uri": "https://localhost:8080/"
        },
        "id": "fF1l8FAkbLjn",
        "outputId": "3b63511b-0e13-4f67-c68f-cdec831a9c8a"
      },
      "execution_count": 58,
      "outputs": [
        {
          "output_type": "stream",
          "name": "stdout",
          "text": [
            "Confusion matrix for predictions on Dog test DNA sequence\n",
            "\n",
            "Predicted    0   1   2   3    4   5    6\n",
            "Actual                                  \n",
            "0          127   0   0   0    0   0    4\n",
            "1            0  63   0   0    1   0   11\n",
            "2            0   0  49   0    1   0   14\n",
            "3            1   0   0  81    2   0   11\n",
            "4            4   0   0   1  126   0    4\n",
            "5            4   0   0   0    1  53    2\n",
            "6            0   0   0   0    0   0  260\n",
            "accuracy = 0.926 \n",
            "precision = 0.934 \n",
            "recall = 0.926 \n",
            "f1 = 0.925\n"
          ]
        }
      ]
    },
    {
      "cell_type": "markdown",
      "source": [
        "The model seems to produce good results on human data. It also does on chimpanzees which is because the chimpanzees and humans share the same genetic hierarchy. The performance of the dog is not quite as good which is because the dog is more diverging from humans than the chimpanzee.\n",
        "\n",
        "Conclusion\n",
        "In this article, we learned how to interpret DNA sequence data, visualize it, and how different encoding techniques can be used to represent these sequences into matrices. Finally, we created a Naive Byes model that can detect the gene family in test data of humans, dogs, and Chimpanzees.\n",
        "\n"
      ],
      "metadata": {
        "id": "JasNm2pgbSUR"
      }
    }
  ]
}