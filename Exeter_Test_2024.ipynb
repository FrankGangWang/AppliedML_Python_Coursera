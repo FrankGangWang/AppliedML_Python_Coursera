{
  "nbformat": 4,
  "nbformat_minor": 0,
  "metadata": {
    "colab": {
      "provenance": [],
      "authorship_tag": "ABX9TyNjFW9VOnbqY/799B3ZkAtq",
      "include_colab_link": true
    },
    "kernelspec": {
      "name": "python3",
      "display_name": "Python 3"
    },
    "language_info": {
      "name": "python"
    }
  },
  "cells": [
    {
      "cell_type": "markdown",
      "metadata": {
        "id": "view-in-github",
        "colab_type": "text"
      },
      "source": [
        "<a href=\"https://colab.research.google.com/github/FrankGangWang/AppliedML_Python_Coursera/blob/master/Exeter_Test_2024.ipynb\" target=\"_parent\"><img src=\"https://colab.research.google.com/assets/colab-badge.svg\" alt=\"Open In Colab\"/></a>"
      ]
    },
    {
      "cell_type": "markdown",
      "source": [
        "Feature extraction methods:\n",
        "1. spatial autocorrelation of alist of lags per sample;\n",
        "2. histogram per sample;\n"
      ],
      "metadata": {
        "id": "zivjTsUMPB8D"
      }
    },
    {
      "cell_type": "code",
      "source": [
        "def func_count_chars(line, counter):\n",
        "  \"\"\"func to get unique chars in 'line' based on current 'counter'.\n",
        "  Note: set counter = set() for the first line;\n",
        "  \"\"\"\n",
        "  for c in line:\n",
        "    counter.add(c)\n",
        "  return (counter)\n",
        "  #sorted(set) returns a list"
      ],
      "metadata": {
        "id": "iBtNTKRvQ30s"
      },
      "execution_count": 57,
      "outputs": []
    },
    {
      "cell_type": "code",
      "execution_count": 58,
      "metadata": {
        "colab": {
          "base_uri": "https://localhost:8080/"
        },
        "id": "pBhzIuZkm4Zp",
        "outputId": "8d969f9b-02c1-44b3-df51-0276dad26c49"
      },
      "outputs": [
        {
          "output_type": "stream",
          "name": "stdout",
          "text": [
            "Line 0: \t 105 chars, last 5 =GDEGE,    count=105,\t total =105,\t uniques=['C', 'D', 'E', 'F', 'G']\n",
            "Line 1: \t 113 chars, last 5 =GCEGE,    count=113,\t total =218,\t uniques=['C', 'D', 'E', 'F', 'G']\n",
            "Line 2: \t 113 chars, last 5 =GCEGC,    count=113,\t total =331,\t uniques=['C', 'D', 'E', 'F', 'G']\n",
            "Line 3: \t 112 chars, last 5 =ECGCE,    count=112,\t total =443,\t uniques=['C', 'D', 'E', 'F', 'G']\n",
            "Line 4: \t 115 chars, last 5 =CEGEE,    count=115,\t total =558,\t uniques=['C', 'D', 'E', 'F', 'G']\n",
            "Line 5: \t 103 chars, last 5 =GGDEG,    count=103,\t total =661,\t uniques=['C', 'D', 'E', 'F', 'G']\n",
            "Line 6: \t 102 chars, last 5 =GGDEE,    count=102,\t total =763,\t uniques=['C', 'D', 'E', 'F', 'G']\n",
            "Line 7: \t 102 chars, last 5 =GDEGE,    count=102,\t total =865,\t uniques=['C', 'D', 'E', 'F', 'G']\n",
            "Line 8: \t 112 chars, last 5 =ECGGE,    count=112,\t total =977,\t uniques=['C', 'D', 'E', 'F', 'G']\n",
            "Line 9: \t 112 chars, last 5 =GCEGE,    count=112,\t total =1089,\t uniques=['C', 'D', 'E', 'F', 'G']\n",
            "Line 10: \t 115 chars, last 5 =GEEGE,    count=115,\t total =1204,\t uniques=['C', 'D', 'E', 'F', 'G']\n",
            "Line 11: \t 117 chars, last 5 =GEGEE,    count=117,\t total =1321,\t uniques=['C', 'D', 'E', 'F', 'G']\n",
            "Line 12: \t 102 chars, last 5 =GGGDE,    count=102,\t total =1423,\t uniques=['C', 'D', 'E', 'F', 'G']\n",
            "Line 13: \t 104 chars, last 5 =EGECE,    count=104,\t total =1527,\t uniques=['C', 'D', 'E', 'F', 'G']\n",
            "Line 14: \t 111 chars, last 5 =GECGC,    count=111,\t total =1638,\t uniques=['C', 'D', 'E', 'F', 'G']\n",
            "Line 15: \t 109 chars, last 5 =ECECG,    count=109,\t total =1747,\t uniques=['C', 'D', 'E', 'F', 'G']\n",
            "Line 16: \t 108 chars, last 5 =GECGC,    count=108,\t total =1855,\t uniques=['C', 'D', 'E', 'F', 'G']\n",
            "Line 17: \t 103 chars, last 5 =GDEGE,    count=103,\t total =1958,\t uniques=['C', 'D', 'E', 'F', 'G']\n",
            "Line 18: \t 114 chars, last 5 =CGCEG,    count=114,\t total =2072,\t uniques=['C', 'D', 'E', 'F', 'G']\n",
            "Line 19: \t 106 chars, last 5 =GGCEG,    count=106,\t total =2178,\t uniques=['C', 'D', 'E', 'F', 'G']\n",
            "Line 20: \t 111 chars, last 5 =DECGC,    count=111,\t total =2289,\t uniques=['C', 'D', 'E', 'F', 'G']\n",
            "Line 21: \t 100 chars, last 5 =GGGDE,    count=100,\t total =2389,\t uniques=['C', 'D', 'E', 'F', 'G']\n",
            "Line 22: \t 113 chars, last 5 =CCFEG,    count=113,\t total =2502,\t uniques=['C', 'D', 'E', 'F', 'G']\n",
            "Line 23: \t 101 chars, last 5 =GGGCD,    count=101,\t total =2603,\t uniques=['C', 'D', 'E', 'F', 'G']\n",
            "Line 24: \t 107 chars, last 5 =CFCEG,    count=107,\t total =2710,\t uniques=['C', 'D', 'E', 'F', 'G']\n",
            "Line 25: \t 117 chars, last 5 =CEGEE,    count=117,\t total =2827,\t uniques=['C', 'D', 'E', 'F', 'G']\n",
            "Line 26: \t 106 chars, last 5 =CGDDG,    count=106,\t total =2933,\t uniques=['C', 'D', 'E', 'F', 'G']\n",
            "Line 27: \t 109 chars, last 5 =ECEGC,    count=109,\t total =3042,\t uniques=['C', 'D', 'E', 'F', 'G']\n",
            "Line 28: \t 113 chars, last 5 =GFDGC,    count=113,\t total =3155,\t uniques=['C', 'D', 'E', 'F', 'G']\n",
            "Line 29: \t 110 chars, last 5 =DEGEC,    count=110,\t total =3265,\t uniques=['C', 'D', 'E', 'F', 'G']\n",
            "Line 30: \t 106 chars, last 5 =GCGCE,    count=106,\t total =3371,\t uniques=['C', 'D', 'E', 'F', 'G']\n",
            "Line 31: \t 109 chars, last 5 =CEEEE,    count=109,\t total =3480,\t uniques=['C', 'D', 'E', 'F', 'G']\n",
            "Line 32: \t 108 chars, last 5 =EGECG,    count=108,\t total =3588,\t uniques=['C', 'D', 'E', 'F', 'G']\n",
            "Line 33: \t 111 chars, last 5 =GECGC,    count=111,\t total =3699,\t uniques=['C', 'D', 'E', 'F', 'G']\n",
            "Line 34: \t 105 chars, last 5 =DGDEG,    count=105,\t total =3804,\t uniques=['C', 'D', 'E', 'F', 'G']\n",
            "Line 35: \t 104 chars, last 5 =DEGEC,    count=104,\t total =3908,\t uniques=['C', 'D', 'E', 'F', 'G']\n",
            "Line 36: \t 104 chars, last 5 =GGEGE,    count=104,\t total =4012,\t uniques=['C', 'D', 'E', 'F', 'G']\n",
            "Line 37: \t 108 chars, last 5 =FGGDE,    count=108,\t total =4120,\t uniques=['C', 'D', 'E', 'F', 'G']\n",
            "Line 38: \t 111 chars, last 5 =ECGCE,    count=111,\t total =4231,\t uniques=['C', 'D', 'E', 'F', 'G']\n",
            "Line 39: \t 106 chars, last 5 =DEGEC,    count=106,\t total =4337,\t uniques=['C', 'D', 'E', 'F', 'G']\n",
            "Line 40: \t 109 chars, last 5 =FEGED,    count=109,\t total =4446,\t uniques=['C', 'D', 'E', 'F', 'G']\n",
            "Line 41: \t 114 chars, last 5 =CEGEC,    count=114,\t total =4560,\t uniques=['C', 'D', 'E', 'F', 'G']\n",
            "Line 42: \t 106 chars, last 5 =GGGDE,    count=106,\t total =4666,\t uniques=['C', 'D', 'E', 'F', 'G']\n",
            "Line 43: \t 104 chars, last 5 =GDEGE,    count=104,\t total =4770,\t uniques=['C', 'D', 'E', 'F', 'G']\n",
            "Line 44: \t 106 chars, last 5 =EGECG,    count=106,\t total =4876,\t uniques=['C', 'D', 'E', 'F', 'G']\n",
            "Line 45: \t 111 chars, last 5 =CECEG,    count=111,\t total =4987,\t uniques=['C', 'D', 'E', 'F', 'G']\n",
            "Line 46: \t 106 chars, last 5 =GECGC,    count=106,\t total =5093,\t uniques=['C', 'D', 'E', 'F', 'G']\n",
            "Line 47: \t 112 chars, last 5 =CEGEE,    count=112,\t total =5205,\t uniques=['C', 'D', 'E', 'F', 'G']\n",
            "Line 48: \t 105 chars, last 5 =EGECF,    count=105,\t total =5310,\t uniques=['C', 'D', 'E', 'F', 'G']\n",
            "Line 49: \t 111 chars, last 5 =ECGCE,    count=111,\t total =5421,\t uniques=['C', 'D', 'E', 'F', 'G']\n"
          ]
        }
      ],
      "source": [
        "chars_list = set() # unique set of chars in all samples\n",
        "\n",
        "f = open(\"test.txt\", \"r\")\n",
        "\n",
        "count_chars = 0\n",
        "for number_of_lines, line in enumerate(f):\n",
        "  line = line.rstrip('\\n')\n",
        "  count_chars += len(line)\n",
        "  chars_list = func_count_chars(line, chars_list)\n",
        "\n",
        "  if number_of_lines<50:\n",
        "    print(f'Line {number_of_lines}: \\t {len(line)} chars, last 5 ={line[-5:]},\\\n",
        "    count={len(line)},\\t total ={count_chars},\\t uniques={sorted(chars_list)}')\n",
        "\n",
        "f.close()\n",
        "number_of_lines = number_of_lines + 1\n",
        "chars_list = sorted(chars_list) # not chars_list is a list"
      ]
    },
    {
      "cell_type": "code",
      "source": [
        "\n"
      ],
      "metadata": {
        "id": "ocDtKV2CFojw"
      },
      "execution_count": null,
      "outputs": []
    },
    {
      "cell_type": "code",
      "source": [
        "print('number of lines=', number_of_lines)\n",
        "print('number of chars \\t=', count_chars)\n",
        "#print('sum counts per char\\t=', func_sum_counts(chars_list))\n",
        "print('counts per char=', chars_list)"
      ],
      "metadata": {
        "colab": {
          "base_uri": "https://localhost:8080/"
        },
        "id": "zRDgBBtanWfO",
        "outputId": "2e6db553-57f8-4961-a197-ece68e92c148"
      },
      "execution_count": 59,
      "outputs": [
        {
          "output_type": "stream",
          "name": "stdout",
          "text": [
            "number of lines= 300\n",
            "number of chars \t= 32363\n",
            "counts per char= ['C', 'D', 'E', 'F', 'G']\n"
          ]
        }
      ]
    },
    {
      "cell_type": "code",
      "source": [],
      "metadata": {
        "id": "tdGXld5GQKDv"
      },
      "execution_count": null,
      "outputs": []
    },
    {
      "cell_type": "code",
      "source": [
        "import numpy as np\n",
        "def func_count_chars_ordered(line, chars):\n",
        "  \"\"\"func to count number of strings in string 'line' based on current 'counter'.\n",
        "  Note: set counter = {} for the first line;\n",
        "  \"\"\"\n",
        "  counter = np.zeros((len(chars, )))\n",
        "  #print(counter, line, chars)\n",
        "  for id, c in enumerate(chars):\n",
        "    #print(f'id={id}, ch={chars[id]}')\n",
        "    counter[id] = line.count(chars[id])\n",
        "  return counter\n"
      ],
      "metadata": {
        "id": "AMcQdvOQsDct"
      },
      "execution_count": 73,
      "outputs": []
    },
    {
      "cell_type": "code",
      "source": [
        "tmp = func_count_chars_ordered('ABC DEFGDEFG DDD', chars_list)\n",
        "tmp = [{chars_list[id]:tmp[id]} for id in range(len(chars_list))]\n",
        "print(tmp)"
      ],
      "metadata": {
        "colab": {
          "base_uri": "https://localhost:8080/"
        },
        "id": "R20I5z32stRl",
        "outputId": "2a0313e3-b1ef-41cd-8a0a-46cd7e79ec7f"
      },
      "execution_count": 74,
      "outputs": [
        {
          "output_type": "stream",
          "name": "stdout",
          "text": [
            "[{'C': 1.0}, {'D': 5.0}, {'E': 2.0}, {'F': 2.0}, {'G': 2.0}]\n"
          ]
        }
      ]
    },
    {
      "cell_type": "code",
      "source": [
        "import numpy as np\n",
        "import pandas as pd\n",
        "\n",
        "df = np.zeros((number_of_lines, len(chars_list)))\n",
        "print(chars_list, df.shape)\n",
        "\n",
        "f = open(\"test.txt\", \"r\")\n",
        "for c, line in enumerate(f):\n",
        "  if c<5:\n",
        "    print(f'***num of chars in line {c} is {len(line), {line[-5:]}}')\n",
        "  line = line.rstrip('\\n')\n",
        "  df[c] = func_count_chars_ordered(line, chars_list)\n",
        "f.close()\n",
        "\n",
        "df = pd.DataFrame(df, columns=chars_list)\n"
      ],
      "metadata": {
        "colab": {
          "base_uri": "https://localhost:8080/"
        },
        "id": "tQXxDN2EnWbt",
        "outputId": "b0bbb0aa-3f17-48cc-a1b1-b04e9ddca3d9"
      },
      "execution_count": 76,
      "outputs": [
        {
          "output_type": "stream",
          "name": "stdout",
          "text": [
            "['C', 'D', 'E', 'F', 'G'] (300, 5)\n",
            "***num of chars in line 0 is (106, {'DEGE\\n'})\n",
            "***num of chars in line 1 is (114, {'CEGE\\n'})\n",
            "***num of chars in line 2 is (114, {'CEGC\\n'})\n",
            "***num of chars in line 3 is (113, {'CGCE\\n'})\n",
            "***num of chars in line 4 is (116, {'EGEE\\n'})\n"
          ]
        }
      ]
    },
    {
      "cell_type": "code",
      "source": [
        "df.info()"
      ],
      "metadata": {
        "colab": {
          "base_uri": "https://localhost:8080/"
        },
        "id": "oj6jEjZMnWYl",
        "outputId": "f50ad636-fa91-4a67-fa2b-d0f3b194501e"
      },
      "execution_count": 77,
      "outputs": [
        {
          "output_type": "stream",
          "name": "stdout",
          "text": [
            "<class 'pandas.core.frame.DataFrame'>\n",
            "RangeIndex: 300 entries, 0 to 299\n",
            "Data columns (total 5 columns):\n",
            " #   Column  Non-Null Count  Dtype  \n",
            "---  ------  --------------  -----  \n",
            " 0   C       300 non-null    float64\n",
            " 1   D       300 non-null    float64\n",
            " 2   E       300 non-null    float64\n",
            " 3   F       300 non-null    float64\n",
            " 4   G       300 non-null    float64\n",
            "dtypes: float64(5)\n",
            "memory usage: 11.8 KB\n"
          ]
        }
      ]
    },
    {
      "cell_type": "code",
      "source": [
        "df.describe()"
      ],
      "metadata": {
        "colab": {
          "base_uri": "https://localhost:8080/",
          "height": 300
        },
        "id": "Qh-zGwzFWDJ-",
        "outputId": "822292f2-a967-4d71-cfa4-128a1f8406ba"
      },
      "execution_count": 78,
      "outputs": [
        {
          "output_type": "execute_result",
          "data": {
            "text/plain": [
              "                C           D           E           F          G\n",
              "count  300.000000  300.000000  300.000000  300.000000  300.00000\n",
              "mean    16.936667    9.513333   35.383333   14.873333   31.17000\n",
              "std      1.062899    0.661777    2.068167    0.725057    1.59465\n",
              "min     14.000000    6.000000   30.000000   11.000000   25.00000\n",
              "25%     16.000000    9.000000   34.000000   15.000000   30.00000\n",
              "50%     17.000000   10.000000   35.000000   15.000000   31.00000\n",
              "75%     18.000000   10.000000   37.000000   15.000000   32.00000\n",
              "max     18.000000   10.000000   40.000000   16.000000   34.00000"
            ],
            "text/html": [
              "\n",
              "  <div id=\"df-7f1f7cc7-de88-4b87-87b5-b6cd6acea9f9\" class=\"colab-df-container\">\n",
              "    <div>\n",
              "<style scoped>\n",
              "    .dataframe tbody tr th:only-of-type {\n",
              "        vertical-align: middle;\n",
              "    }\n",
              "\n",
              "    .dataframe tbody tr th {\n",
              "        vertical-align: top;\n",
              "    }\n",
              "\n",
              "    .dataframe thead th {\n",
              "        text-align: right;\n",
              "    }\n",
              "</style>\n",
              "<table border=\"1\" class=\"dataframe\">\n",
              "  <thead>\n",
              "    <tr style=\"text-align: right;\">\n",
              "      <th></th>\n",
              "      <th>C</th>\n",
              "      <th>D</th>\n",
              "      <th>E</th>\n",
              "      <th>F</th>\n",
              "      <th>G</th>\n",
              "    </tr>\n",
              "  </thead>\n",
              "  <tbody>\n",
              "    <tr>\n",
              "      <th>count</th>\n",
              "      <td>300.000000</td>\n",
              "      <td>300.000000</td>\n",
              "      <td>300.000000</td>\n",
              "      <td>300.000000</td>\n",
              "      <td>300.00000</td>\n",
              "    </tr>\n",
              "    <tr>\n",
              "      <th>mean</th>\n",
              "      <td>16.936667</td>\n",
              "      <td>9.513333</td>\n",
              "      <td>35.383333</td>\n",
              "      <td>14.873333</td>\n",
              "      <td>31.17000</td>\n",
              "    </tr>\n",
              "    <tr>\n",
              "      <th>std</th>\n",
              "      <td>1.062899</td>\n",
              "      <td>0.661777</td>\n",
              "      <td>2.068167</td>\n",
              "      <td>0.725057</td>\n",
              "      <td>1.59465</td>\n",
              "    </tr>\n",
              "    <tr>\n",
              "      <th>min</th>\n",
              "      <td>14.000000</td>\n",
              "      <td>6.000000</td>\n",
              "      <td>30.000000</td>\n",
              "      <td>11.000000</td>\n",
              "      <td>25.00000</td>\n",
              "    </tr>\n",
              "    <tr>\n",
              "      <th>25%</th>\n",
              "      <td>16.000000</td>\n",
              "      <td>9.000000</td>\n",
              "      <td>34.000000</td>\n",
              "      <td>15.000000</td>\n",
              "      <td>30.00000</td>\n",
              "    </tr>\n",
              "    <tr>\n",
              "      <th>50%</th>\n",
              "      <td>17.000000</td>\n",
              "      <td>10.000000</td>\n",
              "      <td>35.000000</td>\n",
              "      <td>15.000000</td>\n",
              "      <td>31.00000</td>\n",
              "    </tr>\n",
              "    <tr>\n",
              "      <th>75%</th>\n",
              "      <td>18.000000</td>\n",
              "      <td>10.000000</td>\n",
              "      <td>37.000000</td>\n",
              "      <td>15.000000</td>\n",
              "      <td>32.00000</td>\n",
              "    </tr>\n",
              "    <tr>\n",
              "      <th>max</th>\n",
              "      <td>18.000000</td>\n",
              "      <td>10.000000</td>\n",
              "      <td>40.000000</td>\n",
              "      <td>16.000000</td>\n",
              "      <td>34.00000</td>\n",
              "    </tr>\n",
              "  </tbody>\n",
              "</table>\n",
              "</div>\n",
              "    <div class=\"colab-df-buttons\">\n",
              "\n",
              "  <div class=\"colab-df-container\">\n",
              "    <button class=\"colab-df-convert\" onclick=\"convertToInteractive('df-7f1f7cc7-de88-4b87-87b5-b6cd6acea9f9')\"\n",
              "            title=\"Convert this dataframe to an interactive table.\"\n",
              "            style=\"display:none;\">\n",
              "\n",
              "  <svg xmlns=\"http://www.w3.org/2000/svg\" height=\"24px\" viewBox=\"0 -960 960 960\">\n",
              "    <path d=\"M120-120v-720h720v720H120Zm60-500h600v-160H180v160Zm220 220h160v-160H400v160Zm0 220h160v-160H400v160ZM180-400h160v-160H180v160Zm440 0h160v-160H620v160ZM180-180h160v-160H180v160Zm440 0h160v-160H620v160Z\"/>\n",
              "  </svg>\n",
              "    </button>\n",
              "\n",
              "  <style>\n",
              "    .colab-df-container {\n",
              "      display:flex;\n",
              "      gap: 12px;\n",
              "    }\n",
              "\n",
              "    .colab-df-convert {\n",
              "      background-color: #E8F0FE;\n",
              "      border: none;\n",
              "      border-radius: 50%;\n",
              "      cursor: pointer;\n",
              "      display: none;\n",
              "      fill: #1967D2;\n",
              "      height: 32px;\n",
              "      padding: 0 0 0 0;\n",
              "      width: 32px;\n",
              "    }\n",
              "\n",
              "    .colab-df-convert:hover {\n",
              "      background-color: #E2EBFA;\n",
              "      box-shadow: 0px 1px 2px rgba(60, 64, 67, 0.3), 0px 1px 3px 1px rgba(60, 64, 67, 0.15);\n",
              "      fill: #174EA6;\n",
              "    }\n",
              "\n",
              "    .colab-df-buttons div {\n",
              "      margin-bottom: 4px;\n",
              "    }\n",
              "\n",
              "    [theme=dark] .colab-df-convert {\n",
              "      background-color: #3B4455;\n",
              "      fill: #D2E3FC;\n",
              "    }\n",
              "\n",
              "    [theme=dark] .colab-df-convert:hover {\n",
              "      background-color: #434B5C;\n",
              "      box-shadow: 0px 1px 3px 1px rgba(0, 0, 0, 0.15);\n",
              "      filter: drop-shadow(0px 1px 2px rgba(0, 0, 0, 0.3));\n",
              "      fill: #FFFFFF;\n",
              "    }\n",
              "  </style>\n",
              "\n",
              "    <script>\n",
              "      const buttonEl =\n",
              "        document.querySelector('#df-7f1f7cc7-de88-4b87-87b5-b6cd6acea9f9 button.colab-df-convert');\n",
              "      buttonEl.style.display =\n",
              "        google.colab.kernel.accessAllowed ? 'block' : 'none';\n",
              "\n",
              "      async function convertToInteractive(key) {\n",
              "        const element = document.querySelector('#df-7f1f7cc7-de88-4b87-87b5-b6cd6acea9f9');\n",
              "        const dataTable =\n",
              "          await google.colab.kernel.invokeFunction('convertToInteractive',\n",
              "                                                    [key], {});\n",
              "        if (!dataTable) return;\n",
              "\n",
              "        const docLinkHtml = 'Like what you see? Visit the ' +\n",
              "          '<a target=\"_blank\" href=https://colab.research.google.com/notebooks/data_table.ipynb>data table notebook</a>'\n",
              "          + ' to learn more about interactive tables.';\n",
              "        element.innerHTML = '';\n",
              "        dataTable['output_type'] = 'display_data';\n",
              "        await google.colab.output.renderOutput(dataTable, element);\n",
              "        const docLink = document.createElement('div');\n",
              "        docLink.innerHTML = docLinkHtml;\n",
              "        element.appendChild(docLink);\n",
              "      }\n",
              "    </script>\n",
              "  </div>\n",
              "\n",
              "\n",
              "<div id=\"df-23830189-2e70-4492-bc65-6e61068461ce\">\n",
              "  <button class=\"colab-df-quickchart\" onclick=\"quickchart('df-23830189-2e70-4492-bc65-6e61068461ce')\"\n",
              "            title=\"Suggest charts\"\n",
              "            style=\"display:none;\">\n",
              "\n",
              "<svg xmlns=\"http://www.w3.org/2000/svg\" height=\"24px\"viewBox=\"0 0 24 24\"\n",
              "     width=\"24px\">\n",
              "    <g>\n",
              "        <path d=\"M19 3H5c-1.1 0-2 .9-2 2v14c0 1.1.9 2 2 2h14c1.1 0 2-.9 2-2V5c0-1.1-.9-2-2-2zM9 17H7v-7h2v7zm4 0h-2V7h2v10zm4 0h-2v-4h2v4z\"/>\n",
              "    </g>\n",
              "</svg>\n",
              "  </button>\n",
              "\n",
              "<style>\n",
              "  .colab-df-quickchart {\n",
              "      --bg-color: #E8F0FE;\n",
              "      --fill-color: #1967D2;\n",
              "      --hover-bg-color: #E2EBFA;\n",
              "      --hover-fill-color: #174EA6;\n",
              "      --disabled-fill-color: #AAA;\n",
              "      --disabled-bg-color: #DDD;\n",
              "  }\n",
              "\n",
              "  [theme=dark] .colab-df-quickchart {\n",
              "      --bg-color: #3B4455;\n",
              "      --fill-color: #D2E3FC;\n",
              "      --hover-bg-color: #434B5C;\n",
              "      --hover-fill-color: #FFFFFF;\n",
              "      --disabled-bg-color: #3B4455;\n",
              "      --disabled-fill-color: #666;\n",
              "  }\n",
              "\n",
              "  .colab-df-quickchart {\n",
              "    background-color: var(--bg-color);\n",
              "    border: none;\n",
              "    border-radius: 50%;\n",
              "    cursor: pointer;\n",
              "    display: none;\n",
              "    fill: var(--fill-color);\n",
              "    height: 32px;\n",
              "    padding: 0;\n",
              "    width: 32px;\n",
              "  }\n",
              "\n",
              "  .colab-df-quickchart:hover {\n",
              "    background-color: var(--hover-bg-color);\n",
              "    box-shadow: 0 1px 2px rgba(60, 64, 67, 0.3), 0 1px 3px 1px rgba(60, 64, 67, 0.15);\n",
              "    fill: var(--button-hover-fill-color);\n",
              "  }\n",
              "\n",
              "  .colab-df-quickchart-complete:disabled,\n",
              "  .colab-df-quickchart-complete:disabled:hover {\n",
              "    background-color: var(--disabled-bg-color);\n",
              "    fill: var(--disabled-fill-color);\n",
              "    box-shadow: none;\n",
              "  }\n",
              "\n",
              "  .colab-df-spinner {\n",
              "    border: 2px solid var(--fill-color);\n",
              "    border-color: transparent;\n",
              "    border-bottom-color: var(--fill-color);\n",
              "    animation:\n",
              "      spin 1s steps(1) infinite;\n",
              "  }\n",
              "\n",
              "  @keyframes spin {\n",
              "    0% {\n",
              "      border-color: transparent;\n",
              "      border-bottom-color: var(--fill-color);\n",
              "      border-left-color: var(--fill-color);\n",
              "    }\n",
              "    20% {\n",
              "      border-color: transparent;\n",
              "      border-left-color: var(--fill-color);\n",
              "      border-top-color: var(--fill-color);\n",
              "    }\n",
              "    30% {\n",
              "      border-color: transparent;\n",
              "      border-left-color: var(--fill-color);\n",
              "      border-top-color: var(--fill-color);\n",
              "      border-right-color: var(--fill-color);\n",
              "    }\n",
              "    40% {\n",
              "      border-color: transparent;\n",
              "      border-right-color: var(--fill-color);\n",
              "      border-top-color: var(--fill-color);\n",
              "    }\n",
              "    60% {\n",
              "      border-color: transparent;\n",
              "      border-right-color: var(--fill-color);\n",
              "    }\n",
              "    80% {\n",
              "      border-color: transparent;\n",
              "      border-right-color: var(--fill-color);\n",
              "      border-bottom-color: var(--fill-color);\n",
              "    }\n",
              "    90% {\n",
              "      border-color: transparent;\n",
              "      border-bottom-color: var(--fill-color);\n",
              "    }\n",
              "  }\n",
              "</style>\n",
              "\n",
              "  <script>\n",
              "    async function quickchart(key) {\n",
              "      const quickchartButtonEl =\n",
              "        document.querySelector('#' + key + ' button');\n",
              "      quickchartButtonEl.disabled = true;  // To prevent multiple clicks.\n",
              "      quickchartButtonEl.classList.add('colab-df-spinner');\n",
              "      try {\n",
              "        const charts = await google.colab.kernel.invokeFunction(\n",
              "            'suggestCharts', [key], {});\n",
              "      } catch (error) {\n",
              "        console.error('Error during call to suggestCharts:', error);\n",
              "      }\n",
              "      quickchartButtonEl.classList.remove('colab-df-spinner');\n",
              "      quickchartButtonEl.classList.add('colab-df-quickchart-complete');\n",
              "    }\n",
              "    (() => {\n",
              "      let quickchartButtonEl =\n",
              "        document.querySelector('#df-23830189-2e70-4492-bc65-6e61068461ce button');\n",
              "      quickchartButtonEl.style.display =\n",
              "        google.colab.kernel.accessAllowed ? 'block' : 'none';\n",
              "    })();\n",
              "  </script>\n",
              "</div>\n",
              "    </div>\n",
              "  </div>\n"
            ]
          },
          "metadata": {},
          "execution_count": 78
        }
      ]
    },
    {
      "cell_type": "code",
      "source": [
        "pd.plotting.lag_plot(df, lag=1)\n"
      ],
      "metadata": {
        "colab": {
          "base_uri": "https://localhost:8080/",
          "height": 466
        },
        "id": "9MKasRZ2nWVk",
        "outputId": "2a5b8a18-7b86-4150-f503-2a0c128e7015"
      },
      "execution_count": 79,
      "outputs": [
        {
          "output_type": "execute_result",
          "data": {
            "text/plain": [
              "<Axes: xlabel='y(t)', ylabel='y(t + 1)'>"
            ]
          },
          "metadata": {},
          "execution_count": 79
        },
        {
          "output_type": "display_data",
          "data": {
            "text/plain": [
              "<Figure size 640x480 with 1 Axes>"
            ],
            "image/png": "[encoded data removed]"
          },
          "metadata": {}
        }
      ]
    },
    {
      "cell_type": "code",
      "source": [
        "from numpy import mean\n",
        "from numpy import std\n",
        "\n",
        "# calculate summary statistics\n",
        "data_mean, data_std = mean(df), std(df)\n",
        "# identify outliers\n",
        "cut_off = data_std * 2\n",
        "lower, upper = data_mean - cut_off, data_mean + cut_off\n",
        "# identify outliers\n",
        "for ch in chars:\n",
        "  outliers = [x for x in df[ch] if x < lower[ch] or x > upper[ch]]\n",
        "  outliers_idx = df.index[df[ch]==outliers[0]].tolist()\n",
        "\n",
        "  print(ch, outliers, '\\n', outliers_idx)"
      ],
      "metadata": {
        "id": "DhY1tZUgnWSt"
      },
      "execution_count": null,
      "outputs": []
    },
    {
      "cell_type": "code",
      "source": [
        "#df['C']==14.0\n",
        "df.index[df['C']==14.0].tolist()\n"
      ],
      "metadata": {
        "id": "7NSfAJmCxymr"
      },
      "execution_count": null,
      "outputs": []
    },
    {
      "cell_type": "code",
      "source": [],
      "metadata": {
        "id": "3YbCFUfaxych"
      },
      "execution_count": null,
      "outputs": []
    },
    {
      "cell_type": "code",
      "source": [
        "data_mean, data_std"
      ],
      "metadata": {
        "id": "ZghcdQnMwwgQ"
      },
      "execution_count": null,
      "outputs": []
    },
    {
      "cell_type": "code",
      "source": [
        "lower, upper"
      ],
      "metadata": {
        "id": "O8MVt1yxwwYN"
      },
      "execution_count": null,
      "outputs": []
    },
    {
      "cell_type": "code",
      "source": [
        "df['C']"
      ],
      "metadata": {
        "id": "qJIBM2j4xNd_"
      },
      "execution_count": null,
      "outputs": []
    },
    {
      "cell_type": "code",
      "source": [
        "df.describe()"
      ],
      "metadata": {
        "id": "U4XHHcd4wwVH"
      },
      "execution_count": null,
      "outputs": []
    },
    {
      "cell_type": "code",
      "source": [],
      "metadata": {
        "id": "J9tg4HDpzoUp"
      },
      "execution_count": null,
      "outputs": []
    },
    {
      "cell_type": "code",
      "source": [
        "import plotly.express as px\n",
        "#create a histogram\n",
        "\n",
        "fig = px.histogram(df, x='C')\n",
        "\n",
        "fig.show()"
      ],
      "metadata": {
        "id": "SE3TQux2zoRw"
      },
      "execution_count": null,
      "outputs": []
    },
    {
      "cell_type": "code",
      "source": [
        "#create a box plot\n",
        "\n",
        "fig = px.box(df, y='C')\n",
        "\n",
        "fig.show()"
      ],
      "metadata": {
        "id": "T8lWk-h4zoOt"
      },
      "execution_count": null,
      "outputs": []
    },
    {
      "cell_type": "code",
      "source": [
        "chars"
      ],
      "metadata": {
        "id": "P5w5Un_30PUI"
      },
      "execution_count": null,
      "outputs": []
    },
    {
      "cell_type": "code",
      "source": [
        "fig = px.scatter(x=df['C'], y=df['D'])\n",
        "\n",
        "fig.show()"
      ],
      "metadata": {
        "id": "7AIMvs0dzoLv"
      },
      "execution_count": null,
      "outputs": []
    },
    {
      "cell_type": "code",
      "source": [
        "import numpy as np\n",
        "from sklearn.neighbors import LocalOutlierFactor\n",
        "X = [[-1.1], [0.2], [101.1], [0.3]]\n",
        "clf = LocalOutlierFactor(n_neighbors=2)\n",
        "print(clf.fit_predict(X))\n",
        "\n",
        "print(clf.negative_outlier_factor_)\n"
      ],
      "metadata": {
        "id": "8TZtoIWx2NVl"
      },
      "execution_count": null,
      "outputs": []
    },
    {
      "cell_type": "code",
      "source": [
        "n_neighbors = 50\n",
        "clf = LocalOutlierFactor(n_neighbors=n_neighbors)\n",
        "results = clf.fit_predict(df)\n",
        "print(np.where(results==-1))"
      ],
      "metadata": {
        "id": "O-zaILWG2NRn"
      },
      "execution_count": null,
      "outputs": []
    },
    {
      "cell_type": "code",
      "source": [
        "n_neighbors = 100\n",
        "clf = LocalOutlierFactor(n_neighbors=n_neighbors)\n",
        "results = clf.fit_predict(df)\n",
        "print(np.where(results==-1))"
      ],
      "metadata": {
        "id": "TBdEeaXlArau"
      },
      "execution_count": null,
      "outputs": []
    },
    {
      "cell_type": "code",
      "source": [
        "from sklearn.neighbors import LocalOutlierFactor\n",
        "#Note that neighbors.LocalOutlierFactor does not support predict, decision_function\n",
        "#and score_samples methods by default but only a fit_predict method, as this estimator\n",
        "#was originally meant to be applied for outlier detection. The scores of abnormality\n",
        "#of the training samples are accessible through the negative_outlier_factor_ attribute.\n",
        "\n",
        "n_neighbors = 150\n",
        "clf = LocalOutlierFactor(n_neighbors=n_neighbors)\n",
        "results = clf.fit_predict(df) #\n",
        "print(np.where(results==-1))\n",
        "#estimator.predict(X_test): Inliers are labeled 1, while outliers are labeled -1.\n",
        "#clf.negative_outlier_factor_\n",
        "#The decision_function method is also defined from the scoring function, in such\n",
        "#a way that negative values are outliers and non-negative ones are inliers:\n",
        "#estimator.decision_function(X_test)\n",
        "\n",
        "#negative_outlier_factor_: The opposite LOF of the training samples. The higher, the more normal.\n",
        "#Inliers tend to have a LOF score close to 1 (negative_outlier_factor_ close to -1), while outliers tend to have a larger LOF score.\n"
      ],
      "metadata": {
        "id": "WX94zj-XAmeD"
      },
      "execution_count": null,
      "outputs": []
    },
    {
      "cell_type": "code",
      "source": [
        "df.iloc[np.where(results==-1)].T"
      ],
      "metadata": {
        "id": "E-DcAW5z2yZI"
      },
      "execution_count": null,
      "outputs": []
    },
    {
      "cell_type": "code",
      "source": [
        "n_neighbors = 50\n",
        "clf = LocalOutlierFactor(n_neighbors=n_neighbors)\n",
        "results = clf.fit_predict(df)\n",
        "print(np.where(results==-1))\n",
        "print(df.iloc[np.where(results==-1)].T)\n"
      ],
      "metadata": {
        "id": "bSQAAVIEBIhB"
      },
      "execution_count": null,
      "outputs": []
    },
    {
      "cell_type": "code",
      "source": [
        "df.iloc[np.where(results==-1)]"
      ],
      "metadata": {
        "id": "vt8YZz_3AwGc"
      },
      "execution_count": null,
      "outputs": []
    },
    {
      "cell_type": "code",
      "source": [
        "df.iloc[[1,2]]"
      ],
      "metadata": {
        "id": "-4zbZpkKKVfy"
      },
      "execution_count": null,
      "outputs": []
    },
    {
      "cell_type": "code",
      "source": [
        "df.boxplot(column=['C', 'D', 'F'])\n"
      ],
      "metadata": {
        "id": "VVu2UsN9JbmF"
      },
      "execution_count": null,
      "outputs": []
    },
    {
      "cell_type": "code",
      "source": [
        "df.boxplot()\n"
      ],
      "metadata": {
        "id": "mI31HeP34CIt"
      },
      "execution_count": null,
      "outputs": []
    },
    {
      "cell_type": "code",
      "source": [
        "df.boxplot(column=['E', 'G'])\n"
      ],
      "metadata": {
        "id": "6NU3FYBmKNyL"
      },
      "execution_count": null,
      "outputs": []
    },
    {
      "cell_type": "code",
      "source": [
        "df.describe()"
      ],
      "metadata": {
        "id": "8LAfiqHw4CNU"
      },
      "execution_count": null,
      "outputs": []
    },
    {
      "cell_type": "code",
      "source": [
        "print(clf.negative_outlier_factor_)"
      ],
      "metadata": {
        "id": "lfaqvgsv2NNl"
      },
      "execution_count": null,
      "outputs": []
    },
    {
      "cell_type": "code",
      "source": [],
      "metadata": {
        "id": "7dE4QH8A2NKN"
      },
      "execution_count": null,
      "outputs": []
    },
    {
      "cell_type": "markdown",
      "source": [
        "https://scikit-learn.org/stable/auto_examples/neighbors/plot_lof_outlier_detection.html#sphx-glr-auto-examples-neighbors-plot-lof-outlier-detection-py\n",
        "\n",
        "Outlier detection with Local Outlier Factor (LOF)\n"
      ],
      "metadata": {
        "id": "DVmYbnlqPDS5"
      }
    },
    {
      "cell_type": "code",
      "source": [
        "import numpy as np\n",
        "\n",
        "np.random.seed(42)\n",
        "\n",
        "X_inliers = 0.3 * np.random.randn(100, 2)\n",
        "X_inliers = np.r_[X_inliers + 2, X_inliers - 2]\n",
        "X_outliers = np.random.uniform(low=-4, high=4, size=(20, 2))\n",
        "X = np.r_[X_inliers, X_outliers]\n",
        "\n",
        "n_outliers = len(X_outliers)\n",
        "ground_truth = np.ones(len(X), dtype=int)\n",
        "ground_truth[-n_outliers:] = -1"
      ],
      "metadata": {
        "id": "EqeZWZAWPETq"
      },
      "execution_count": null,
      "outputs": []
    },
    {
      "cell_type": "code",
      "source": [
        "X_inliers.shape, np.random.randn(100, 2).shape, X_outliers.shape, n_outliers, X.shape"
      ],
      "metadata": {
        "id": "u-OwZoqePaj6"
      },
      "execution_count": null,
      "outputs": []
    },
    {
      "cell_type": "code",
      "source": [],
      "metadata": {
        "id": "NbYzTOmxPaUB"
      },
      "execution_count": null,
      "outputs": []
    },
    {
      "cell_type": "code",
      "source": [
        "from sklearn.neighbors import LocalOutlierFactor\n",
        "\n",
        "clf = LocalOutlierFactor(n_neighbors=20, contamination=0.1)\n",
        "y_pred = clf.fit_predict(X)\n",
        "n_errors = (y_pred != ground_truth).sum()\n",
        "X_scores = clf.negative_outlier_factor_"
      ],
      "metadata": {
        "id": "tlygJ2moPN77"
      },
      "execution_count": null,
      "outputs": []
    },
    {
      "cell_type": "code",
      "source": [
        "import matplotlib.pyplot as plt\n",
        "from matplotlib.legend_handler import HandlerPathCollection\n",
        "\n",
        "\n",
        "def update_legend_marker_size(handle, orig):\n",
        "    \"Customize size of the legend marker\"\n",
        "    handle.update_from(orig)\n",
        "    handle.set_sizes([20])\n",
        "\n",
        "\n",
        "plt.scatter(X[:, 0], X[:, 1], color=\"k\", s=3.0, label=\"Data points\")\n",
        "# plot circles with radius proportional to the outlier scores\n",
        "radius = (X_scores.max() - X_scores) / (X_scores.max() - X_scores.min())\n",
        "scatter = plt.scatter(\n",
        "    X[:, 0],\n",
        "    X[:, 1],\n",
        "    s=1000 * radius,\n",
        "    edgecolors=\"r\",\n",
        "    facecolors=\"none\",\n",
        "    label=\"Outlier scores\",\n",
        ")\n",
        "plt.axis(\"tight\")\n",
        "plt.xlim((-5, 5))\n",
        "plt.ylim((-5, 5))\n",
        "plt.xlabel(\"prediction errors: %d\" % (n_errors))\n",
        "plt.legend(\n",
        "    handler_map={scatter: HandlerPathCollection(update_func=update_legend_marker_size)}\n",
        ")\n",
        "plt.title(\"Local Outlier Factor (LOF)\")\n",
        "plt.show()"
      ],
      "metadata": {
        "id": "jgldZkclPQUS"
      },
      "execution_count": null,
      "outputs": []
    }
  ]
}