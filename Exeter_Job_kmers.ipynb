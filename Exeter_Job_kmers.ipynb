{
  "nbformat": 4,
  "nbformat_minor": 0,
  "metadata": {
    "colab": {
      "provenance": [],
      "authorship_tag": "ABX9TyPel/tLyUf3BGh2WjYR4W1g",
      "include_colab_link": true
    },
    "kernelspec": {
      "name": "python3",
      "display_name": "Python 3"
    },
    "language_info": {
      "name": "python"
    }
  },
  "cells": [
    {
      "cell_type": "markdown",
      "metadata": {
        "id": "view-in-github",
        "colab_type": "text"
      },
      "source": [
        "<a href=\"https://colab.research.google.com/github/FrankGangWang/AppliedML_Python_Coursera/blob/master/Exeter_Job_kmers.ipynb\" target=\"_parent\"><img src=\"https://colab.research.google.com/assets/colab-badge.svg\" alt=\"Open In Colab\"/></a>"
      ]
    },
    {
      "cell_type": "markdown",
      "source": [
        "Feature extraction methods:\n",
        "1. spatial autocorrelation of alist of lags per sample;\n",
        "2. histogram of '1-mer' per sample = 0th markov model;\n",
        "\n",
        "There are 3 general approaches to encoding sequence data:\n",
        "\n",
        "1.   Ordinal encoding DNA Sequence\n",
        "2.   One-hot encoding DNA Sequence\n",
        "3.   DNA sequence as a “language”, known as k-mer counting\n",
        "\n",
        "\n",
        "Ref:\n",
        "\n",
        "https://www.theaidream.com/post/demystify-dna-sequencing-with-machine-learning-and-python\n"
      ],
      "metadata": {
        "id": "zivjTsUMPB8D"
      }
    },
    {
      "cell_type": "markdown",
      "source": [
        "#Ordinal encoding DNA sequence data\n",
        "\n",
        "In this approach, we need to encode each nitrogen base as an ordinal value. For example “ATGC” becomes [0.25, 0.5, 0.75, 1.0]. Any other base such as “N” can be a 0.\n",
        "\n",
        "\n",
        "So let us create functions such as creating a NumPy array object from a sequence string, and a label encoder with the DNA sequence alphabet “a”, “c”, “g” and “t”, but also a character for anything else, “n”."
      ],
      "metadata": {
        "id": "h1HSDdPNDGDh"
      }
    },
    {
      "cell_type": "code",
      "source": [
        "file_path = '/content/test.txt'"
      ],
      "metadata": {
        "id": "DqAl90tKS6HK"
      },
      "execution_count": 157,
      "outputs": []
    },
    {
      "cell_type": "markdown",
      "source": [
        "#One-hot encoding DNA Sequence\n",
        "\n",
        "Another approach is to use one-hot encoding to represent the DNA sequence. This is widely used in deep learning methods and lends itself well to algorithms like convolutional neural networks. In this example, “ATGC” would become [0,0,0,1], [0,0,1,0], [0,1,0,0], [1,0,0,0]. And these one-hot encoded vectors can either be concatenated or turned into 2-dimensional arrays.\n"
      ],
      "metadata": {
        "id": "1K3DHprVX3i5"
      }
    },
    {
      "cell_type": "code",
      "source": [
        "from sklearn.preprocessing import OneHotEncoder\n",
        "from sklearn.preprocessing import LabelEncoder\n",
        "label_encoder = LabelEncoder()\n",
        "label_encoder.fit(np.array(['a','c','g','t','z']))\n",
        "\n",
        "def one_hot_encoder(seq_string):\n",
        "  seq_string = string_to_array(seq_string)\n",
        "  int_encoded = label_encoder.transform(seq_string)\n",
        "  print('my int_encoded', int_encoded)\n",
        "\n",
        "  onehot_encoder = OneHotEncoder(sparse=False, dtype=int)\n",
        "  int_encoded = int_encoded.reshape(len(int_encoded), 1)\n",
        "  onehot_encoded = onehot_encoder.fit_transform(int_encoded)\n",
        "  onehot_encoded = np.delete(onehot_encoded, -1, 1)\n",
        "  return onehot_encoded\n",
        "\n",
        "int_encoded = label_encoder.transform(string_to_array('ACGTZnv'))\n",
        "onehot_encoder = OneHotEncoder(sparse=False, dtype=int)\n",
        "print('int_encoded', int_encoded)\n",
        "int_encoded = int_encoded.reshape(len(int_encoded), 1)\n",
        "onehot_encoder.fit(int_encoded)\n",
        "print('onehot_encoder ', onehot_encoder.categories_)\n",
        "onehot_encoder.transform(int_encoded)"
      ],
      "metadata": {
        "id": "fMcist9GXILG"
      },
      "execution_count": null,
      "outputs": []
    },
    {
      "cell_type": "markdown",
      "source": [
        "#outlier detection by 1-mers\n"
      ],
      "metadata": {
        "id": "YG07FruBC3B8"
      }
    },
    {
      "cell_type": "code",
      "execution_count": 158,
      "metadata": {
        "id": "pBhzIuZkm4Zp",
        "colab": {
          "base_uri": "https://localhost:8080/"
        },
        "outputId": "73ce6e02-5ce5-47db-e1c9-ca2d23e19894"
      },
      "outputs": [
        {
          "output_type": "stream",
          "name": "stdout",
          "text": [
            "Line 0 has\t105 chars, count_chars =105,            the last 5 chars =GDEGE, uniques=['C', 'D', 'E', 'F', 'G']\n",
            "Line 1 has\t113 chars, count_chars =218,            the last 5 chars =GCEGE, uniques=['C', 'D', 'E', 'F', 'G']\n",
            "Line 2 has\t113 chars, count_chars =331,            the last 5 chars =GCEGC, uniques=['C', 'D', 'E', 'F', 'G']\n",
            "Line 3 has\t112 chars, count_chars =443,            the last 5 chars =ECGCE, uniques=['C', 'D', 'E', 'F', 'G']\n",
            "Line 4 has\t115 chars, count_chars =558,            the last 5 chars =CEGEE, uniques=['C', 'D', 'E', 'F', 'G']\n",
            "*** Summary: number of lines =\t 300\n",
            "number of chars =\t 32363\n",
            "unique chars = ['C', 'D', 'E', 'F', 'G']\n"
          ]
        }
      ],
      "source": [
        "# extract the unique chars 'chars_list' from all the samples\n",
        "chars_list = set()\n",
        "count_chars = 0\n",
        "\n",
        "def func_count_unique_chars(line, counter):\n",
        "  \"\"\"func to get unique chars in 'line' based on current 'counter'.\n",
        "  Note: set counter = set() for the first line;\n",
        "  \"\"\"\n",
        "  for c in line:\n",
        "    counter.add(c)\n",
        "  return (counter)\n",
        "  #sorted(set) returns a list\n",
        "\n",
        "f = open(\"test.txt\", \"r\")\n",
        "for number_of_lines, line in enumerate(f):\n",
        "  line = line.rstrip('\\n')\n",
        "  count_chars += len(line)\n",
        "  chars_list = func_count_unique_chars(line, chars_list)\n",
        "  if number_of_lines<5:\n",
        "    print(f'Line {number_of_lines} has\\t{len(line)} chars, count_chars ={count_chars},\\\n",
        "            the last 5 chars ={line[-5:]}, uniques={sorted(chars_list)}')\n",
        "\n",
        "f.close()\n",
        "number_of_lines = number_of_lines + 1\n",
        "chars_list = sorted(chars_list)\n",
        "print('*** Summary: number of lines =\\t', number_of_lines)\n",
        "print('number of chars =\\t', count_chars)\n",
        "print('unique chars =', chars_list)"
      ]
    },
    {
      "cell_type": "code",
      "source": [
        "# 1-mers feature: generate features as the frequency of each unique chars per sample;\n",
        "# equivalent to 0th order markov chain model;\n",
        "import pandas as pd\n",
        "import numpy as np\n",
        "def func_count_chars_ordered(line, chars):\n",
        "  \"\"\"func to count number of strings in string 'line' based on current 'counter'.\n",
        "  Note: set counter = {} for the first line;\n",
        "  \"\"\"\n",
        "  counter = np.zeros((len(chars, )))\n",
        "  #print(counter, line, chars)\n",
        "  for id, c in enumerate(chars):\n",
        "    #print(f'id={id}, ch={chars[id]}')\n",
        "    counter[id] = line.count(chars[id])\n",
        "  return counter\n",
        "\n",
        "def func_1mers_feature(file_path, number_of_lines, chars_list):\n",
        "  df = np.zeros((number_of_lines, len(chars_list)))\n",
        "  #print(chars_list, df.shape)\n",
        "\n",
        "  f = open(file_path, \"r\")\n",
        "  for c, line in enumerate(f):\n",
        "    if c<0:\n",
        "      print(f'***num of chars in line {c} is {len(line), {line[-5:]}}')\n",
        "    line = line.rstrip('\\n')\n",
        "    df[c] = func_count_chars_ordered(line, chars_list)\n",
        "  f.close()\n",
        "\n",
        "  df = pd.DataFrame(df, columns=chars_list)\n",
        "  return df"
      ],
      "metadata": {
        "id": "tQXxDN2EnWbt"
      },
      "execution_count": 160,
      "outputs": []
    },
    {
      "cell_type": "code",
      "source": [
        "df = func_1mers_feature(file_path, number_of_lines, chars_list)"
      ],
      "metadata": {
        "id": "oj6jEjZMnWYl"
      },
      "execution_count": 161,
      "outputs": []
    },
    {
      "cell_type": "code",
      "source": [
        "df.head(3)"
      ],
      "metadata": {
        "colab": {
          "base_uri": "https://localhost:8080/",
          "height": 143
        },
        "id": "ySzr0Y1p0XOw",
        "outputId": "febdaa43-05dd-489a-ab24-aad9900c6a01"
      },
      "execution_count": 162,
      "outputs": [
        {
          "output_type": "execute_result",
          "data": {
            "text/plain": [
              "      C     D     E     F     G\n",
              "0  17.0  10.0  32.0  15.0  31.0\n",
              "1  18.0  10.0  37.0  15.0  33.0\n",
              "2  17.0  10.0  38.0  15.0  33.0"
            ],
            "text/html": [
              "\n",
              "  <div id=\"df-4662e181-3436-4c10-a035-3e5e26e52b01\" class=\"colab-df-container\">\n",
              "    <div>\n",
              "<style scoped>\n",
              "    .dataframe tbody tr th:only-of-type {\n",
              "        vertical-align: middle;\n",
              "    }\n",
              "\n",
              "    .dataframe tbody tr th {\n",
              "        vertical-align: top;\n",
              "    }\n",
              "\n",
              "    .dataframe thead th {\n",
              "        text-align: right;\n",
              "    }\n",
              "</style>\n",
              "<table border=\"1\" class=\"dataframe\">\n",
              "  <thead>\n",
              "    <tr style=\"text-align: right;\">\n",
              "      <th></th>\n",
              "      <th>C</th>\n",
              "      <th>D</th>\n",
              "      <th>E</th>\n",
              "      <th>F</th>\n",
              "      <th>G</th>\n",
              "    </tr>\n",
              "  </thead>\n",
              "  <tbody>\n",
              "    <tr>\n",
              "      <th>0</th>\n",
              "      <td>17.0</td>\n",
              "      <td>10.0</td>\n",
              "      <td>32.0</td>\n",
              "      <td>15.0</td>\n",
              "      <td>31.0</td>\n",
              "    </tr>\n",
              "    <tr>\n",
              "      <th>1</th>\n",
              "      <td>18.0</td>\n",
              "      <td>10.0</td>\n",
              "      <td>37.0</td>\n",
              "      <td>15.0</td>\n",
              "      <td>33.0</td>\n",
              "    </tr>\n",
              "    <tr>\n",
              "      <th>2</th>\n",
              "      <td>17.0</td>\n",
              "      <td>10.0</td>\n",
              "      <td>38.0</td>\n",
              "      <td>15.0</td>\n",
              "      <td>33.0</td>\n",
              "    </tr>\n",
              "  </tbody>\n",
              "</table>\n",
              "</div>\n",
              "    <div class=\"colab-df-buttons\">\n",
              "\n",
              "  <div class=\"colab-df-container\">\n",
              "    <button class=\"colab-df-convert\" onclick=\"convertToInteractive('df-4662e181-3436-4c10-a035-3e5e26e52b01')\"\n",
              "            title=\"Convert this dataframe to an interactive table.\"\n",
              "            style=\"display:none;\">\n",
              "\n",
              "  <svg xmlns=\"http://www.w3.org/2000/svg\" height=\"24px\" viewBox=\"0 -960 960 960\">\n",
              "    <path d=\"M120-120v-720h720v720H120Zm60-500h600v-160H180v160Zm220 220h160v-160H400v160Zm0 220h160v-160H400v160ZM180-400h160v-160H180v160Zm440 0h160v-160H620v160ZM180-180h160v-160H180v160Zm440 0h160v-160H620v160Z\"/>\n",
              "  </svg>\n",
              "    </button>\n",
              "\n",
              "  <style>\n",
              "    .colab-df-container {\n",
              "      display:flex;\n",
              "      gap: 12px;\n",
              "    }\n",
              "\n",
              "    .colab-df-convert {\n",
              "      background-color: #E8F0FE;\n",
              "      border: none;\n",
              "      border-radius: 50%;\n",
              "      cursor: pointer;\n",
              "      display: none;\n",
              "      fill: #1967D2;\n",
              "      height: 32px;\n",
              "      padding: 0 0 0 0;\n",
              "      width: 32px;\n",
              "    }\n",
              "\n",
              "    .colab-df-convert:hover {\n",
              "      background-color: #E2EBFA;\n",
              "      box-shadow: 0px 1px 2px rgba(60, 64, 67, 0.3), 0px 1px 3px 1px rgba(60, 64, 67, 0.15);\n",
              "      fill: #174EA6;\n",
              "    }\n",
              "\n",
              "    .colab-df-buttons div {\n",
              "      margin-bottom: 4px;\n",
              "    }\n",
              "\n",
              "    [theme=dark] .colab-df-convert {\n",
              "      background-color: #3B4455;\n",
              "      fill: #D2E3FC;\n",
              "    }\n",
              "\n",
              "    [theme=dark] .colab-df-convert:hover {\n",
              "      background-color: #434B5C;\n",
              "      box-shadow: 0px 1px 3px 1px rgba(0, 0, 0, 0.15);\n",
              "      filter: drop-shadow(0px 1px 2px rgba(0, 0, 0, 0.3));\n",
              "      fill: #FFFFFF;\n",
              "    }\n",
              "  </style>\n",
              "\n",
              "    <script>\n",
              "      const buttonEl =\n",
              "        document.querySelector('#df-4662e181-3436-4c10-a035-3e5e26e52b01 button.colab-df-convert');\n",
              "      buttonEl.style.display =\n",
              "        google.colab.kernel.accessAllowed ? 'block' : 'none';\n",
              "\n",
              "      async function convertToInteractive(key) {\n",
              "        const element = document.querySelector('#df-4662e181-3436-4c10-a035-3e5e26e52b01');\n",
              "        const dataTable =\n",
              "          await google.colab.kernel.invokeFunction('convertToInteractive',\n",
              "                                                    [key], {});\n",
              "        if (!dataTable) return;\n",
              "\n",
              "        const docLinkHtml = 'Like what you see? Visit the ' +\n",
              "          '<a target=\"_blank\" href=https://colab.research.google.com/notebooks/data_table.ipynb>data table notebook</a>'\n",
              "          + ' to learn more about interactive tables.';\n",
              "        element.innerHTML = '';\n",
              "        dataTable['output_type'] = 'display_data';\n",
              "        await google.colab.output.renderOutput(dataTable, element);\n",
              "        const docLink = document.createElement('div');\n",
              "        docLink.innerHTML = docLinkHtml;\n",
              "        element.appendChild(docLink);\n",
              "      }\n",
              "    </script>\n",
              "  </div>\n",
              "\n",
              "\n",
              "<div id=\"df-99efe965-93bc-4414-9d23-5f5ce052c8c4\">\n",
              "  <button class=\"colab-df-quickchart\" onclick=\"quickchart('df-99efe965-93bc-4414-9d23-5f5ce052c8c4')\"\n",
              "            title=\"Suggest charts\"\n",
              "            style=\"display:none;\">\n",
              "\n",
              "<svg xmlns=\"http://www.w3.org/2000/svg\" height=\"24px\"viewBox=\"0 0 24 24\"\n",
              "     width=\"24px\">\n",
              "    <g>\n",
              "        <path d=\"M19 3H5c-1.1 0-2 .9-2 2v14c0 1.1.9 2 2 2h14c1.1 0 2-.9 2-2V5c0-1.1-.9-2-2-2zM9 17H7v-7h2v7zm4 0h-2V7h2v10zm4 0h-2v-4h2v4z\"/>\n",
              "    </g>\n",
              "</svg>\n",
              "  </button>\n",
              "\n",
              "<style>\n",
              "  .colab-df-quickchart {\n",
              "      --bg-color: #E8F0FE;\n",
              "      --fill-color: #1967D2;\n",
              "      --hover-bg-color: #E2EBFA;\n",
              "      --hover-fill-color: #174EA6;\n",
              "      --disabled-fill-color: #AAA;\n",
              "      --disabled-bg-color: #DDD;\n",
              "  }\n",
              "\n",
              "  [theme=dark] .colab-df-quickchart {\n",
              "      --bg-color: #3B4455;\n",
              "      --fill-color: #D2E3FC;\n",
              "      --hover-bg-color: #434B5C;\n",
              "      --hover-fill-color: #FFFFFF;\n",
              "      --disabled-bg-color: #3B4455;\n",
              "      --disabled-fill-color: #666;\n",
              "  }\n",
              "\n",
              "  .colab-df-quickchart {\n",
              "    background-color: var(--bg-color);\n",
              "    border: none;\n",
              "    border-radius: 50%;\n",
              "    cursor: pointer;\n",
              "    display: none;\n",
              "    fill: var(--fill-color);\n",
              "    height: 32px;\n",
              "    padding: 0;\n",
              "    width: 32px;\n",
              "  }\n",
              "\n",
              "  .colab-df-quickchart:hover {\n",
              "    background-color: var(--hover-bg-color);\n",
              "    box-shadow: 0 1px 2px rgba(60, 64, 67, 0.3), 0 1px 3px 1px rgba(60, 64, 67, 0.15);\n",
              "    fill: var(--button-hover-fill-color);\n",
              "  }\n",
              "\n",
              "  .colab-df-quickchart-complete:disabled,\n",
              "  .colab-df-quickchart-complete:disabled:hover {\n",
              "    background-color: var(--disabled-bg-color);\n",
              "    fill: var(--disabled-fill-color);\n",
              "    box-shadow: none;\n",
              "  }\n",
              "\n",
              "  .colab-df-spinner {\n",
              "    border: 2px solid var(--fill-color);\n",
              "    border-color: transparent;\n",
              "    border-bottom-color: var(--fill-color);\n",
              "    animation:\n",
              "      spin 1s steps(1) infinite;\n",
              "  }\n",
              "\n",
              "  @keyframes spin {\n",
              "    0% {\n",
              "      border-color: transparent;\n",
              "      border-bottom-color: var(--fill-color);\n",
              "      border-left-color: var(--fill-color);\n",
              "    }\n",
              "    20% {\n",
              "      border-color: transparent;\n",
              "      border-left-color: var(--fill-color);\n",
              "      border-top-color: var(--fill-color);\n",
              "    }\n",
              "    30% {\n",
              "      border-color: transparent;\n",
              "      border-left-color: var(--fill-color);\n",
              "      border-top-color: var(--fill-color);\n",
              "      border-right-color: var(--fill-color);\n",
              "    }\n",
              "    40% {\n",
              "      border-color: transparent;\n",
              "      border-right-color: var(--fill-color);\n",
              "      border-top-color: var(--fill-color);\n",
              "    }\n",
              "    60% {\n",
              "      border-color: transparent;\n",
              "      border-right-color: var(--fill-color);\n",
              "    }\n",
              "    80% {\n",
              "      border-color: transparent;\n",
              "      border-right-color: var(--fill-color);\n",
              "      border-bottom-color: var(--fill-color);\n",
              "    }\n",
              "    90% {\n",
              "      border-color: transparent;\n",
              "      border-bottom-color: var(--fill-color);\n",
              "    }\n",
              "  }\n",
              "</style>\n",
              "\n",
              "  <script>\n",
              "    async function quickchart(key) {\n",
              "      const quickchartButtonEl =\n",
              "        document.querySelector('#' + key + ' button');\n",
              "      quickchartButtonEl.disabled = true;  // To prevent multiple clicks.\n",
              "      quickchartButtonEl.classList.add('colab-df-spinner');\n",
              "      try {\n",
              "        const charts = await google.colab.kernel.invokeFunction(\n",
              "            'suggestCharts', [key], {});\n",
              "      } catch (error) {\n",
              "        console.error('Error during call to suggestCharts:', error);\n",
              "      }\n",
              "      quickchartButtonEl.classList.remove('colab-df-spinner');\n",
              "      quickchartButtonEl.classList.add('colab-df-quickchart-complete');\n",
              "    }\n",
              "    (() => {\n",
              "      let quickchartButtonEl =\n",
              "        document.querySelector('#df-99efe965-93bc-4414-9d23-5f5ce052c8c4 button');\n",
              "      quickchartButtonEl.style.display =\n",
              "        google.colab.kernel.accessAllowed ? 'block' : 'none';\n",
              "    })();\n",
              "  </script>\n",
              "</div>\n",
              "    </div>\n",
              "  </div>\n"
            ]
          },
          "metadata": {},
          "execution_count": 162
        }
      ]
    },
    {
      "cell_type": "code",
      "source": [],
      "metadata": {
        "id": "b8gjbqiS0XK0"
      },
      "execution_count": null,
      "outputs": []
    },
    {
      "cell_type": "markdown",
      "source": [
        "#Feature based on k-mers and CountVectorizer"
      ],
      "metadata": {
        "id": "3vj44G5h0Y6r"
      }
    },
    {
      "cell_type": "code",
      "source": [
        "# k-mers: generate features based on k-mers and CountVectorizer per sample;\n",
        "import pandas as pd\n",
        "import numpy as np\n",
        "from sklearn.feature_extraction.text import CountVectorizer\n",
        "\n",
        "def func_Kmers(seq, size=6):\n",
        "   return [seq[x:x+size].lower() for x in range(len(seq) - size + 1)]\n",
        "#convert our training data sequences into short overlapping k-mers of length 6.\n",
        "#Lets do that for each species of data we have using our Kmers_funct function.\n",
        "\n",
        "def feature_gen(file_path, kmers_size=2):\n",
        "  if kmers_size==1:\n",
        "    print('kmers_size must be larger than 1!')\n",
        "    return;\n",
        "  df = pd.read_table(file_path, header=None, names=['sequence'])\n",
        "  print(f'Inside feature_gen: df has columns: {df.columns}')\n",
        "  df[f'{kmers_size}-mers'] = df.apply(lambda x: func_Kmers(x[df.columns[0]], kmers_size), axis=1)\n",
        "  df = df.drop(df.columns[0], axis=1)\n",
        "  print(f'Inside feature_gen: df has columns: {df.columns}')\n",
        "\n",
        "  X = list(df[df.columns[0]])\n",
        "  for item in range(len(X)):\n",
        "    X[item] = ' '.join(X[item])\n",
        "\n",
        "  #Creating the Bag of Words model:\n",
        "  cv = CountVectorizer(ngram_range=(1, 1))\n",
        "  #TODO: ngram_range needs to be hyperparameterized\n",
        "  X = cv.fit_transform(X)\n",
        "  print(f'Inside feature_gen: df shape is {df.shape}, X shape is {X.shape}')\n",
        "  return X"
      ],
      "metadata": {
        "id": "GBKCrT0JYhwS"
      },
      "execution_count": 1,
      "outputs": []
    },
    {
      "cell_type": "code",
      "source": [
        "kmers_size = 3\n",
        "file_path = \"test.txt\"\n",
        "X = feature_gen(file_path, kmers_size)\n",
        "vector_size = X.shape[1]\n",
        "print(f'vector_size = {vector_size}, X shape is {X.shape}, X type is {type(X)}')"
      ],
      "metadata": {
        "colab": {
          "base_uri": "https://localhost:8080/"
        },
        "id": "l6oNQXm_1apq",
        "outputId": "48a0b93f-1f8d-4535-a2c3-701a16f1b383"
      },
      "execution_count": 168,
      "outputs": [
        {
          "output_type": "stream",
          "name": "stdout",
          "text": [
            "Inside feature_gen: df has columns: Index(['sequence'], dtype='object')\n",
            "Inside feature_gen: df has columns: Index(['3-mers'], dtype='object')\n",
            "Inside feature_gen: df shape is (300, 1), X shape is (300, 125)\n",
            "vector_size = 125, X shape is (300, 125), X type is <class 'scipy.sparse._csr.csr_matrix'>\n"
          ]
        }
      ]
    },
    {
      "cell_type": "markdown",
      "source": [
        "We need to now convert the lists of k-mers for each gene into string sentences of words that can be used to create the Bag of Words model. We will make a target variable y to hold the class labels."
      ],
      "metadata": {
        "id": "_a_fXLQGDsnR"
      }
    },
    {
      "cell_type": "code",
      "source": [
        "X[0:3].toarray()"
      ],
      "metadata": {
        "colab": {
          "base_uri": "https://localhost:8080/"
        },
        "id": "xpdqQm4oEsjE",
        "outputId": "268ef21f-5efb-44ba-cd33-6e1ef36a8dc1"
      },
      "execution_count": 7,
      "outputs": [
        {
          "output_type": "execute_result",
          "data": {
            "text/plain": [
              "array([[ 2,  1,  6,  2,  6,  3,  0,  3,  0,  4,  3,  5,  8,  7,  8,  5,\n",
              "         1,  4,  1,  4,  4,  3, 10,  5,  9],\n",
              "       [ 1,  2,  8,  1,  6,  0,  0,  6,  0,  4,  7,  4,  9,  8,  8,  3,\n",
              "         1,  3,  3,  5,  7,  3, 10,  3, 10],\n",
              "       [ 0,  1,  6,  3,  6,  1,  0,  5,  0,  4,  8,  4, 11,  6,  9,  2,\n",
              "         1,  5,  2,  5,  6,  4, 10,  4,  9]])"
            ]
          },
          "metadata": {},
          "execution_count": 7
        }
      ]
    },
    {
      "cell_type": "code",
      "source": [],
      "metadata": {
        "id": "Z1a_T-uYAAP8"
      },
      "execution_count": null,
      "outputs": []
    },
    {
      "cell_type": "markdown",
      "source": [
        "# k-mers: Step 2 — Training an ‘Auto-Encoder’ neural network\n",
        "\n",
        "As our process is completely unsupervised and we don’t have labeled data (as outlier/non-outlier), we will use 5-layer deep ‘Auto-encoder’ neural network to train our model. It is a special type of neural network which copies input data to output data. This process is known as ‘reconstruction’. ‘Hidden layers’ of the network does the feature extraction & decoding work. At the end of the entire process definitely, some loss gets generated and the data point which is dissimilar from others incurs more loss.\n",
        "\n",
        "Denote vector_size as the input data size;\n",
        "\n",
        "Auto-encoder layer structure will look like:\n",
        "\n",
        "vector_size -> 600 -> 50 -> 600 -> vector_size\n",
        "\n",
        "Layer 1(Input Layer) has vector_size features, \\\n",
        "Layer 2 has 600 features, \\\n",
        "Layer 3 has 50 features, \\\n",
        "Layer 4 has 600 features, \\\n",
        "Layer 5(Output Layer)has vector_size features. \\\n",
        "\n",
        "Layer 1, as usual, will have all ‘Doc2Vec’ generated features from ‘Step 1’. Layer 2, 3 & 4 are hidden layers doing the actual data messaging (expansion & shrinking) and information extraction part. Actually, Layer 2 is known as ‘encoding layer’ and Layer 4 is known as ‘decoding layer’. Ultimately, the output will come out from Layer 5. ‘Autoencoders’ are trained with the same data as input & output both. So, Layer 5 output is nothing but a reconstructed version of the input with some loss. Normal data points will go through smoothly between layers, with minimal loss, but data loss for the ‘outliers’ will be more as those don’t follow the hidden data pattern.\n",
        "\n",
        "This is the graphical representation of our 5-layer ‘Auto-encoder"
      ],
      "metadata": {
        "id": "UZg-VDJWAFsq"
      }
    },
    {
      "cell_type": "code",
      "source": [
        "from sklearn.neural_network import MLPRegressor\n",
        "# hyperparameters\n",
        "layer_features = [600, 100, 600]\n",
        "\n",
        "auto_encoder = MLPRegressor(hidden_layer_sizes=(layer_features))\n",
        "auto_encoder.fit(X.toarray(), X.toarray())\n",
        "predicted_vectors = auto_encoder.predict(np.asarray(X.toarray()))\n",
        "\n",
        "print(f'X shape is {X.shape}, X type is {type(X)}')\n",
        "print(f'predicted_vectors shape is {predicted_vectors.shape}, predicted_vectors type is {type(predicted_vectors)}')\n",
        "auto_encoder.score(predicted_vectors, X.toarray())"
      ],
      "metadata": {
        "colab": {
          "base_uri": "https://localhost:8080/"
        },
        "id": "ghx6KFHcEsZF",
        "outputId": "d77dff05-e0a5-4d79-c4c1-7a6664d97ddb"
      },
      "execution_count": 126,
      "outputs": [
        {
          "output_type": "stream",
          "name": "stdout",
          "text": [
            "X shape is (300, 5769), X type is <class 'scipy.sparse._csr.csr_matrix'>\n",
            "predicted_vectors shape is (300, 5769), predicted_vectors type is <class 'numpy.ndarray'>\n"
          ]
        },
        {
          "output_type": "execute_result",
          "data": {
            "text/plain": [
              "0.8091166318024923"
            ]
          },
          "metadata": {},
          "execution_count": 126
        }
      ]
    },
    {
      "cell_type": "code",
      "source": [
        "pd.DataFrame(auto_encoder.loss_curve_).plot()\n"
      ],
      "metadata": {
        "colab": {
          "base_uri": "https://localhost:8080/",
          "height": 448
        },
        "id": "45XgMgM6Lprb",
        "outputId": "1e44a3ab-a5d3-490f-f6e2-4d42c2b91973"
      },
      "execution_count": 127,
      "outputs": [
        {
          "output_type": "execute_result",
          "data": {
            "text/plain": [
              "<Axes: >"
            ]
          },
          "metadata": {},
          "execution_count": 127
        },
        {
          "output_type": "display_data",
          "data": {
            "text/plain": [
              "<Figure size 640x480 with 1 Axes>"
            ],
            "image/png": "[encoded data removed]"
          },
          "metadata": {}
        }
      ]
    },
    {
      "cell_type": "markdown",
      "source": [
        "Here X-axis denotes no of iterations.\n",
        "\n",
        "#Step 3 — Similarity measure with output and actual work\n",
        "\n",
        "Once we get the output vectors, we can now measure the loss. ‘Loss’ is ideally given by ‘outlier factor’ expression\n",
        "\n",
        "\n",
        "\n"
      ],
      "metadata": {
        "id": "XKWy1CDJEWEo"
      }
    },
    {
      "cell_type": "code",
      "source": [
        "print(X.shape, predicted_vectors.shape)\n",
        "print(X[0].toarray())\n",
        "print(predicted_vectors[0])"
      ],
      "metadata": {
        "id": "8KbXnfCuFcjd"
      },
      "execution_count": null,
      "outputs": []
    },
    {
      "cell_type": "code",
      "source": [
        "dataSetI = [3, 45, 7, 2]\n",
        "dataSetII = [2, 54, 13, 15]\n",
        "dataSetII = dataSetI\n",
        "\n",
        "result = 1 - cosine(dataSetI, dataSetII)\n",
        "print(result, cosine(dataSetI, dataSetII))"
      ],
      "metadata": {
        "id": "KaHE3W0FNEH6"
      },
      "execution_count": null,
      "outputs": []
    },
    {
      "cell_type": "code",
      "source": [],
      "metadata": {
        "id": "2aboHcO0ND5Z"
      },
      "execution_count": null,
      "outputs": []
    },
    {
      "cell_type": "code",
      "source": [
        "from scipy.spatial.distance import cosine\n",
        "#Note: when x=y, 1-cosine(x,y) gets highest 1.0;\n",
        "# Thus we want to find smallest cosine_similarities\n",
        "\n",
        "def key_consine_similarity(tupple):\n",
        "    return tupple[1]\n",
        "\n",
        "def get_computed_similarities(vectors, predicted_vectors, reverse=False):\n",
        "    data_size = vectors.shape[0]\n",
        "    cosine_similarities = []\n",
        "    for i in range(data_size):\n",
        "        cosine_sim_val = (1 - cosine(vectors[i], predicted_vectors[i]))\n",
        "        cosine_similarities.append((i, cosine_sim_val))\n",
        "\n",
        "    return sorted(cosine_similarities, key=key_consine_similarity, reverse=reverse)\n",
        "\n",
        "def display_top_n(sorted_cosine_similarities, n=5):\n",
        "    for i in range(n):\n",
        "        index, consine_sim_val = sorted_cosine_similarities[i]\n",
        "        print('Saple Row Index: ', index) #df.iloc[index, 0])\n",
        "        print('Cosine Sim Val :', consine_sim_val)\n",
        "        print('---------------------------------')\n",
        "\n",
        "#We can call the above functions in order to get top ‘k’ outliers\n",
        "top_numbers = 5\n",
        "print(f'Top {top_numbers} outliers')\n",
        "sorted_cosine_similarities = get_computed_similarities(vectors=X.toarray(), predicted_vectors=predicted_vectors)\n",
        "display_top_n(sorted_cosine_similarities, top_numbers)"
      ],
      "metadata": {
        "colab": {
          "base_uri": "https://localhost:8080/"
        },
        "id": "IbP-37sVD_-M",
        "outputId": "cf863bc7-2543-48f4-f9ff-fae17652b24d"
      },
      "execution_count": 128,
      "outputs": [
        {
          "output_type": "stream",
          "name": "stdout",
          "text": [
            "Top 5 outliers\n",
            "Saple Row Index:  275\n",
            "Cosine Sim Val : 0.8187873307078802\n",
            "---------------------------------\n",
            "Saple Row Index:  122\n",
            "Cosine Sim Val : 0.8208173474660064\n",
            "---------------------------------\n",
            "Saple Row Index:  51\n",
            "Cosine Sim Val : 0.8208452627987122\n",
            "---------------------------------\n",
            "Saple Row Index:  170\n",
            "Cosine Sim Val : 0.837710186119192\n",
            "---------------------------------\n",
            "Saple Row Index:  265\n",
            "Cosine Sim Val : 0.8390247737687594\n",
            "---------------------------------\n"
          ]
        }
      ]
    },
    {
      "cell_type": "code",
      "source": [
        "\n"
      ],
      "metadata": {
        "id": "c6ArGTm6D_3z"
      },
      "execution_count": null,
      "outputs": []
    },
    {
      "cell_type": "code",
      "source": [
        "sorted_cosine_similarities[:5], sorted_cosine_similarities[-5: ]"
      ],
      "metadata": {
        "colab": {
          "base_uri": "https://localhost:8080/"
        },
        "id": "s5bX_GGhJCkl",
        "outputId": "33a01948-0b68-4bbb-8986-acaa8bfb56cd"
      },
      "execution_count": 129,
      "outputs": [
        {
          "output_type": "execute_result",
          "data": {
            "text/plain": [
              "([(275, 0.8187873307078802),\n",
              "  (122, 0.8208173474660064),\n",
              "  (51, 0.8208452627987122),\n",
              "  (170, 0.837710186119192),\n",
              "  (265, 0.8390247737687594)],\n",
              " [(141, 0.9899236611923461),\n",
              "  (138, 0.98995316055809),\n",
              "  (164, 0.9903769892496852),\n",
              "  (162, 0.9906964985157108),\n",
              "  (144, 0.9913247572908251)])"
            ]
          },
          "metadata": {},
          "execution_count": 129
        }
      ]
    },
    {
      "cell_type": "code",
      "source": [
        "(sorted_cosine_similarities[0][0])\n",
        "#type(sorted_cosine_similarities[0][0])\n",
        "#, sorted_cosine_similarities[-5: ]"
      ],
      "metadata": {
        "colab": {
          "base_uri": "https://localhost:8080/"
        },
        "id": "tYrhgmBeJfdv",
        "outputId": "824284b3-38f2-41e6-ed26-6a284d5d2ad2"
      },
      "execution_count": 112,
      "outputs": [
        {
          "output_type": "execute_result",
          "data": {
            "text/plain": [
              "140"
            ]
          },
          "metadata": {},
          "execution_count": 112
        }
      ]
    },
    {
      "cell_type": "code",
      "source": [
        "import matplotlib.pyplot as plt\n",
        "for k in range(top_numbers):\n",
        "  idx = sorted_cosine_similarities[k][0]\n",
        "  plt.figure()\n",
        "  plt.plot(list(X[idx].toarray()[0]),  'r+')\n",
        "  plt.plot(predicted_vectors[idx], 'ko')"
      ],
      "metadata": {
        "id": "lnLDD7qfD_ze"
      },
      "execution_count": null,
      "outputs": []
    },
    {
      "cell_type": "code",
      "source": [],
      "metadata": {
        "id": "RcUHmOqaLSqm"
      },
      "execution_count": null,
      "outputs": []
    },
    {
      "cell_type": "code",
      "source": [],
      "metadata": {
        "id": "WtQbtQ6DLSmn"
      },
      "execution_count": null,
      "outputs": []
    },
    {
      "cell_type": "code",
      "source": [],
      "metadata": {
        "id": "SWqci1uJD_vE"
      },
      "execution_count": null,
      "outputs": []
    },
    {
      "cell_type": "code",
      "source": [
        "#pd.plotting.lag_plot(df.loc[:, [\"C\"]], lag=1)\n",
        "import matplotlib.pyplot as plt\n",
        "for col in df.columns:\n",
        "  #plt.figure()\n",
        "  pd.plotting.autocorrelation_plot(df.loc[:, [col]])\n",
        "plt.legend(df.columns, loc='upper right')\n",
        "plt.grid()"
      ],
      "metadata": {
        "id": "INyEKGhNYpUF"
      },
      "execution_count": null,
      "outputs": []
    },
    {
      "cell_type": "code",
      "source": [
        "for lag in range(1,5):\n",
        "  plt.figure()\n",
        "  pd.plotting.lag_plot(df, lag=lag)\n"
      ],
      "metadata": {
        "id": "SoVGprmBXEJ-"
      },
      "execution_count": null,
      "outputs": []
    },
    {
      "cell_type": "code",
      "source": [
        "chars_list"
      ],
      "metadata": {
        "id": "7YFEYJnoWxXN"
      },
      "execution_count": null,
      "outputs": []
    },
    {
      "cell_type": "code",
      "source": [
        "df.describe()"
      ],
      "metadata": {
        "id": "7qJJTIAmhIQ-"
      },
      "execution_count": null,
      "outputs": []
    },
    {
      "cell_type": "code",
      "source": [
        "from numpy import mean\n",
        "from numpy import std\n",
        "\n",
        "# calculate summary statistics\n",
        "data_mean, data_std = mean(df), std(df)\n",
        "# identify outliers\n",
        "cut_off = data_std * 2\n",
        "lower, upper = data_mean - cut_off, data_mean + cut_off\n",
        "print(f'data_mean=\\n{data_mean}, data_std=\\n{data_std}')\n",
        "print(f'lower=\\n{lower}, upper=\\n{upper}')"
      ],
      "metadata": {
        "id": "qODl28qahidQ"
      },
      "execution_count": null,
      "outputs": []
    },
    {
      "cell_type": "code",
      "source": [
        "outliers_idx, ch, df.loc[outliers_idx, ch]"
      ],
      "metadata": {
        "id": "kWTINzoqizAS"
      },
      "execution_count": null,
      "outputs": []
    },
    {
      "cell_type": "code",
      "source": [
        "# identify outliers\n",
        "for ch in chars_list:\n",
        "  outliers = [x for x in df[ch] if x < lower[ch] or x > upper[ch]]\n",
        "  outliers_idx = df.index[df[ch]==outliers[0]].tolist()\n",
        "  #print(ch, outliers, '\\n', outliers_idx, '\\n')\n",
        "  print(outliers_idx)\n"
      ],
      "metadata": {
        "id": "DhY1tZUgnWSt"
      },
      "execution_count": null,
      "outputs": []
    },
    {
      "cell_type": "markdown",
      "source": [
        "# Conclusion: outlier is\n",
        "269 by 'C, G' \\\n",
        "161 by 'C, D' \\\n"
      ],
      "metadata": {
        "id": "ILmPBejPjX1Y"
      }
    },
    {
      "cell_type": "code",
      "source": [
        "df.boxplot(column=['C', 'D', 'F'])\n"
      ],
      "metadata": {
        "id": "bYO2UnXImvi2"
      },
      "execution_count": null,
      "outputs": []
    },
    {
      "cell_type": "code",
      "source": [
        "df.boxplot(column=['E', 'G'])"
      ],
      "metadata": {
        "id": "TvjTXry2mz9t"
      },
      "execution_count": null,
      "outputs": []
    },
    {
      "cell_type": "code",
      "source": [
        "df.boxplot()"
      ],
      "metadata": {
        "id": "V6GSoKOzm1p0"
      },
      "execution_count": null,
      "outputs": []
    },
    {
      "cell_type": "markdown",
      "source": [
        "from sklearn.neighbors import LocalOutlierFactor\n",
        "#Note that neighbors.LocalOutlierFactor does not support predict, decision_function\n",
        "#and score_samples methods by default but only a fit_predict method, as this estimator\n",
        "#was originally meant to be applied for outlier detection. The scores of abnormality\n",
        "#of the training samples are accessible through the negative_outlier_factor_ attribute.\n",
        "\n",
        "n_neighbors = 150\n",
        "clf = LocalOutlierFactor(n_neighbors=n_neighbors)\n",
        "results = clf.fit_predict(df) #\n",
        "print(np.where(results==-1))\n",
        "#estimator.predict(X_test): Inliers are labeled 1, while outliers are labeled -1.\n",
        "#clf.negative_outlier_factor_\n",
        "#The decision_function method is also defined from the scoring function, in such\n",
        "#a way that negative values are outliers and non-negative ones are inliers:\n",
        "#estimator.decision_function(X_test)\n",
        "\n",
        "#negative_outlier_factor_: The opposite LOF of the training samples. The higher, the more normal.\n",
        "#Inliers tend to have a LOF score close to 1 (negative_outlier_factor_ close to -1), while outliers tend to have a larger LOF score.\n"
      ],
      "metadata": {
        "id": "QXew3phhmh2d"
      }
    },
    {
      "cell_type": "code",
      "source": [
        "kmers_size = 2\n",
        "file_path = \"test.txt\"\n",
        "X = feature_gen(file_path, kmers_size)\n",
        "vector_size = X.shape[1]\n",
        "print(f'vector_size = {vector_size}, X shape is {X.shape}, X type is {type(X)}')"
      ],
      "metadata": {
        "colab": {
          "base_uri": "https://localhost:8080/"
        },
        "id": "cP2VLqL0QlNp",
        "outputId": "1cedd532-a24e-4f91-87fe-7c148a9cb10d"
      },
      "execution_count": 173,
      "outputs": [
        {
          "output_type": "stream",
          "name": "stdout",
          "text": [
            "Inside feature_gen: df has columns: Index(['sequence'], dtype='object')\n",
            "Inside feature_gen: df has columns: Index(['2-mers'], dtype='object')\n",
            "Inside feature_gen: df shape is (300, 1), X shape is (300, 25)\n",
            "vector_size = 25, X shape is (300, 25), X type is <class 'scipy.sparse._csr.csr_matrix'>\n"
          ]
        }
      ]
    },
    {
      "cell_type": "code",
      "source": [
        "from sklearn.neighbors import LocalOutlierFactor\n",
        "n_neighbors = 2\n",
        "clf = LocalOutlierFactor(n_neighbors=n_neighbors)\n",
        "results = clf.fit_predict(X.toarray())\n",
        "outlier_idx = np.where(results==-1)\n",
        "print(f'outlier index={outlier_idx}')\n",
        "print(f'outlier results={results[outlier_idx]}')\n",
        "print(f'outlier negative_outlier_factor_={clf.negative_outlier_factor_[outlier_idx]}')\n",
        "print(f'first 10 negative_outlier_factor_={clf.negative_outlier_factor_[:10]}')"
      ],
      "metadata": {
        "colab": {
          "base_uri": "https://localhost:8080/"
        },
        "id": "qvLQpe5vQQ6_",
        "outputId": "f1bbf735-d814-48ee-8fb4-f337da141593"
      },
      "execution_count": 175,
      "outputs": [
        {
          "output_type": "stream",
          "name": "stdout",
          "text": [
            "outlier index=(array([134, 152, 161, 165, 295]),)\n",
            "outlier results=[-1 -1 -1 -1 -1]\n",
            "outlier negative_outlier_factor_=[-1.59845129 -1.62653131 -1.6882683  -1.6084096  -1.62794681]\n",
            "first 10 negative_outlier_factor_=[-1.12573084 -1.08079427 -1.04471476 -1.04932073 -1.25113538 -1.02872418\n",
            " -1.00637272 -1.09592942 -1.13801801 -1.06051919]\n"
          ]
        }
      ]
    },
    {
      "cell_type": "code",
      "source": [
        "df = func_1mers_feature(file_path, number_of_lines, chars_list)"
      ],
      "metadata": {
        "id": "V0zKvKz7QQva"
      },
      "execution_count": 163,
      "outputs": []
    },
    {
      "cell_type": "code",
      "source": [
        "from sklearn.neighbors import LocalOutlierFactor\n",
        "n_neighbors = 25\n",
        "clf = LocalOutlierFactor(n_neighbors=n_neighbors)\n",
        "results = clf.fit_predict(df)\n",
        "outlier_idx = np.where(results==-1)\n",
        "print(f'outlier index={outlier_idx}')\n",
        "print(f'outlier results={results[outlier_idx]}')\n",
        "print(f'outlier negative_outlier_factor_={clf.negative_outlier_factor_[outlier_idx]}')\n",
        "print(f'first 10 negative_outlier_factor_={clf.negative_outlier_factor_[:10]}')"
      ],
      "metadata": {
        "id": "kg2eQRusmNRj",
        "colab": {
          "base_uri": "https://localhost:8080/"
        },
        "outputId": "7075f410-dfae-46c4-a366-88b50ab04461"
      },
      "execution_count": 167,
      "outputs": [
        {
          "output_type": "stream",
          "name": "stdout",
          "text": [
            "outlier index=(array([ 45, 137, 140, 143, 146, 148, 155, 164, 190, 262, 288]),)\n",
            "outlier results=[-1 -1 -1 -1 -1 -1 -1 -1 -1 -1 -1]\n",
            "outlier negative_outlier_factor_=[-1.6248564  -1.81192977 -1.87802966 -1.54783341 -1.68208315 -1.56941368\n",
            " -1.74870834 -1.63221913 -1.52045987 -1.91856182 -1.70071625]\n",
            "first 10 negative_outlier_factor_=[-1.07490544 -0.94729289 -1.01444357 -1.01625166 -1.07140791 -0.98924822\n",
            " -1.04564772 -1.15528783 -0.9813854  -1.0602941 ]\n"
          ]
        }
      ]
    },
    {
      "cell_type": "code",
      "source": [
        "df.boxplot()"
      ],
      "metadata": {
        "id": "H-oMXChFoxIa"
      },
      "execution_count": null,
      "outputs": []
    },
    {
      "cell_type": "markdown",
      "source": [
        "\n",
        "outliers as indicated by out of range of mean by 2*std:\\\n",
        "Conclusion: outlier with shared columns is:\\\n",
        "161 by 'C, D' \\\n",
        "269 by 'C, G' \\\n",
        "\n",
        "C [50, 77, 161, 170, 265, 269]\\\n",
        "D [24, 63, 100, 104, 122, 133, 151, 154, 159, 161, 164, 169, 187, 202, 228, 252]\\\n",
        "E [11, 25, 135, 141, 166, 283, 287]\\\n",
        "F [13, 54, 56, 147, 152, 154, 155, 163, 176]\\\n",
        "G [94, 269]\\\n",
        "\n"
      ],
      "metadata": {
        "id": "vVMf204HnSTk"
      }
    },
    {
      "cell_type": "code",
      "source": [
        "from sklearn.neighbors import LocalOutlierFactor\n",
        "n_neighbors = 2\n",
        "clf = LocalOutlierFactor(n_neighbors=n_neighbors)\n",
        "#results = clf.fit_predict(df[['G']])\n",
        "results = clf.fit_predict(df)\n",
        "\n",
        "outlier_idx = np.where(results==-1)\n",
        "print(f'outlier index={outlier_idx}')\n",
        "print(f'outlier results={results[outlier_idx]}')\n",
        "print(f'outlier negative_outlier_factor_={clf.negative_outlier_factor_[outlier_idx]}')\n",
        "print(f'first 10 negative_outlier_factor_={clf.negative_outlier_factor_[:10]}')"
      ],
      "metadata": {
        "id": "O-zaILWG2NRn"
      },
      "execution_count": null,
      "outputs": []
    },
    {
      "cell_type": "markdown",
      "source": [
        "https://scikit-learn.org/stable/auto_examples/neighbors/plot_lof_outlier_detection.html#sphx-glr-auto-examples-neighbors-plot-lof-outlier-detection-py\n",
        "\n",
        "Outlier detection with Local Outlier Factor (LOF)\n"
      ],
      "metadata": {
        "id": "DVmYbnlqPDS5"
      }
    },
    {
      "cell_type": "code",
      "source": [
        "import numpy as np\n",
        "\n",
        "np.random.seed(42)\n",
        "\n",
        "X_inliers = 0.3 * np.random.randn(100, 2)\n",
        "X_inliers = np.r_[X_inliers + 2, X_inliers - 2]\n",
        "X_outliers = np.random.uniform(low=-4, high=4, size=(20, 2))\n",
        "X = np.r_[X_inliers, X_outliers]\n",
        "\n",
        "n_outliers = len(X_outliers)\n",
        "ground_truth = np.ones(len(X), dtype=int)\n",
        "ground_truth[-n_outliers:] = -1"
      ],
      "metadata": {
        "id": "EqeZWZAWPETq"
      },
      "execution_count": null,
      "outputs": []
    },
    {
      "cell_type": "code",
      "source": [
        "X_inliers.shape, np.random.randn(100, 2).shape, X_outliers.shape, n_outliers, X.shape"
      ],
      "metadata": {
        "id": "u-OwZoqePaj6"
      },
      "execution_count": null,
      "outputs": []
    },
    {
      "cell_type": "code",
      "source": [],
      "metadata": {
        "id": "NbYzTOmxPaUB"
      },
      "execution_count": null,
      "outputs": []
    },
    {
      "cell_type": "code",
      "source": [
        "from sklearn.neighbors import LocalOutlierFactor\n",
        "\n",
        "clf = LocalOutlierFactor(n_neighbors=20, contamination=0.1)\n",
        "y_pred = clf.fit_predict(X)\n",
        "n_errors = (y_pred != ground_truth).sum()\n",
        "X_scores = clf.negative_outlier_factor_"
      ],
      "metadata": {
        "id": "tlygJ2moPN77"
      },
      "execution_count": null,
      "outputs": []
    },
    {
      "cell_type": "code",
      "source": [
        "import matplotlib.pyplot as plt\n",
        "from matplotlib.legend_handler import HandlerPathCollection\n",
        "\n",
        "\n",
        "def update_legend_marker_size(handle, orig):\n",
        "    \"Customize size of the legend marker\"\n",
        "    handle.update_from(orig)\n",
        "    handle.set_sizes([20])\n",
        "\n",
        "\n",
        "plt.scatter(X[:, 0], X[:, 1], color=\"k\", s=3.0, label=\"Data points\")\n",
        "# plot circles with radius proportional to the outlier scores\n",
        "radius = (X_scores.max() - X_scores) / (X_scores.max() - X_scores.min())\n",
        "scatter = plt.scatter(\n",
        "    X[:, 0],\n",
        "    X[:, 1],\n",
        "    s=1000 * radius,\n",
        "    edgecolors=\"r\",\n",
        "    facecolors=\"none\",\n",
        "    label=\"Outlier scores\",\n",
        ")\n",
        "plt.axis(\"tight\")\n",
        "plt.xlim((-5, 5))\n",
        "plt.ylim((-5, 5))\n",
        "plt.xlabel(\"prediction errors: %d\" % (n_errors))\n",
        "plt.legend(\n",
        "    handler_map={scatter: HandlerPathCollection(update_func=update_legend_marker_size)}\n",
        ")\n",
        "plt.title(\"Local Outlier Factor (LOF)\")\n",
        "plt.show()"
      ],
      "metadata": {
        "id": "jgldZkclPQUS"
      },
      "execution_count": null,
      "outputs": []
    },
    {
      "cell_type": "markdown",
      "source": [
        "#Simple Anomaly Detection using Unsupervised KNN\n",
        "\n",
        "Ref: https://www.kaggle.com/code/kimchanyoung/simple-anomaly-detection-using-unsupervised-knn\n",
        "\n",
        "KNN is a supervised learning-based algorithm.\n",
        "However, using KNN's distance calculation method can also be used as an unsupervised learning method.\n",
        "\n",
        "In this work, we will use Scikit-Learn's NearestNeighbors, which we can use it for unsupervised learning\n",
        "\n",
        "sklearn.neighbors.NearestNeighbors\n",
        "class sklearn.neighbors.NearestNeighbors(*, n_neighbors=5, radius=1.0, algorithm='auto', leaf_size=30, metric='minkowski', p=2, metric_params=None, n_jobs=None)\n",
        "n_neighbors : int, default=5 (Number of neighbors to use by default for kneighbors queries.)\n",
        "radius : float, default=1.0 (Range of parameter space to use by default for radius_neighbors queries.)\n",
        "algorithm : {‘auto’, ‘ball_tree’, ‘kd_tree’, ‘brute’}, default=’auto’ (Algorithm used to compute the nearest neighbors)\n",
        "metric : str or callable, default=’minkowski’ (the distance metric to use for the tree.)\n",
        "p : int, default=2 (Parameter for the Minkowski metric from sklearn.metrics.pairwise.pairwise_distances. When p = 1, this is equivalent to using manhattan_distance (l1), and euclidean_distance (l2) for p = 2.)\n",
        "\n",
        "\n",
        "\n"
      ],
      "metadata": {
        "id": "HEUu5NZzxWLv"
      }
    },
    {
      "cell_type": "code",
      "source": [
        "import pandas as pd\n",
        "import numpy as np\n",
        "import matplotlib.pyplot as plt\n",
        "from sklearn.neighbors import NearestNeighbors"
      ],
      "metadata": {
        "id": "7yP-lM5AxW0t"
      },
      "execution_count": null,
      "outputs": []
    },
    {
      "cell_type": "code",
      "source": [
        "df.columns"
      ],
      "metadata": {
        "id": "LtXSY5_uxk31"
      },
      "execution_count": null,
      "outputs": []
    },
    {
      "cell_type": "code",
      "source": [
        "fig, ax = plt.subplots(figsize=(20,8))\n",
        "plt.scatter(df[\"C\"], df[\"D\"], color='Red')\n",
        "ax.set_xlabel('C', fontsize='11')\n",
        "ax.set_ylabel('D', fontsize='11')\n",
        "plt.title('C vs D frequency')\n",
        "plt.grid()\n",
        "plt.show()"
      ],
      "metadata": {
        "id": "5NBX96Wyxi0g"
      },
      "execution_count": null,
      "outputs": []
    },
    {
      "cell_type": "code",
      "source": [
        "# create model\n",
        "n_neighbors = 10\n",
        "nbrs = NearestNeighbors(n_neighbors = n_neighbors)\n",
        "# fit model\n",
        "nbrs.fit(df)\n"
      ],
      "metadata": {
        "id": "nMLmoVmayQf3"
      },
      "execution_count": null,
      "outputs": []
    },
    {
      "cell_type": "code",
      "source": [
        "# distances and indexes of k-neaighbors from model outputs\n",
        "distances, indexes = nbrs.kneighbors(df)\n",
        "# plot\n",
        "plt.figure(figsize=(15, 7))\n",
        "plt.plot(distances.mean(axis =1))"
      ],
      "metadata": {
        "id": "zP-kVsmkyWBL"
      },
      "execution_count": null,
      "outputs": []
    },
    {
      "cell_type": "code",
      "source": [
        "distances = pd.DataFrame(distances)\n",
        "distances_mean = distances.mean(axis =1)\n",
        "distances_mean"
      ],
      "metadata": {
        "id": "j5eNQFoEyV98"
      },
      "execution_count": null,
      "outputs": []
    },
    {
      "cell_type": "code",
      "source": [
        "distances"
      ],
      "metadata": {
        "id": "Rsx6yNCPyV6v"
      },
      "execution_count": null,
      "outputs": []
    },
    {
      "cell_type": "code",
      "source": [
        "#Set thresholds with reference to statistics.\n",
        "\n",
        "distances_mean.describe()\n"
      ],
      "metadata": {
        "id": "WrsqxAtwyV3B"
      },
      "execution_count": null,
      "outputs": []
    },
    {
      "cell_type": "code",
      "source": [
        "np.linspace(0, 3, num=4)"
      ],
      "metadata": {
        "id": "VnB2uyhY0Rmw"
      },
      "execution_count": null,
      "outputs": []
    },
    {
      "cell_type": "code",
      "source": [
        "#Since 75th percentile is 8.35, we will set threshold into 9.0\n",
        "#Since 75th percentile is 1.32, we will set threshold into 1.5\n",
        "for th in np.linspace(1.9, 3, num=5):\n",
        "  outlier_index = np.where(distances_mean > th)\n",
        "  print(th, len(list(outlier_index[0])), outlier_index)\n"
      ],
      "metadata": {
        "id": "de2UFlpOyVvG"
      },
      "execution_count": null,
      "outputs": []
    },
    {
      "cell_type": "code",
      "source": [
        "outlier_values = df.iloc[outlier_index]\n",
        "outlier_values"
      ],
      "metadata": {
        "id": "iBo4gKE1zn_a"
      },
      "execution_count": null,
      "outputs": []
    },
    {
      "cell_type": "code",
      "source": [
        "outlier_values"
      ],
      "metadata": {
        "id": "1c3DEHBm7VRq"
      },
      "execution_count": null,
      "outputs": []
    },
    {
      "cell_type": "code",
      "source": [
        "fig, axs = plt.subplots(1, len(chars_list), figsize=(15, 6), facecolor='w', edgecolor='k')\n",
        "fig.subplots_adjust(hspace = .5, wspace=.001)\n",
        "axs = axs.ravel()\n",
        "for i in range(0, len(chars_list)):\n",
        "    axs[i].plot(df[chars_list[i]], color = \"b\", marker=\"+\")\n",
        "    axs[i].plot(outlier_values[chars_list[i]], color='r', marker=\"o\") #s=80, facecolors='none', edgecolors='r'\n",
        "    axs[i].set_title(chars_list[i])"
      ],
      "metadata": {
        "id": "0ywwIRDp2Vei"
      },
      "execution_count": null,
      "outputs": []
    },
    {
      "cell_type": "code",
      "source": [
        "fig, axs = plt.subplots(1, len(chars_list)-1, figsize=(15, 6), facecolor='w', edgecolor='k')\n",
        "fig.subplots_adjust(hspace = .5, wspace=.001)\n",
        "axs = axs.ravel()\n",
        "for i in range(1, len(chars_list)):\n",
        "    axs[i-1].scatter(df[\"C\"], df[chars_list[i]], color = \"b\", marker=\"+\")\n",
        "    axs[i-1].scatter(outlier_values[\"C\"], outlier_values[chars_list[i]], marker=\"o\", s=80, facecolors='none', edgecolors='r')\n",
        "    axs[i-1].set_title(chars_list[i])"
      ],
      "metadata": {
        "id": "JgE12m533fe3"
      },
      "execution_count": null,
      "outputs": []
    },
    {
      "cell_type": "markdown",
      "source": [
        "# Conclusion of outlier with single feature separately:\n",
        "269 by 'C, G' \\\n",
        "161 by 'C, D' \\"
      ],
      "metadata": {
        "id": "KpXqjv_5zU5L"
      }
    },
    {
      "cell_type": "markdown",
      "source": [
        "#Isolation Forest\n",
        "One efficient way of performing outlier detection in high-dimensional datasets is to use random forests. The ensemble.IsolationForest ‘isolates’ observations by randomly selecting a feature and then randomly selecting a split value between the maximum and minimum values of the selected feature.\n"
      ],
      "metadata": {
        "id": "AlZYa5Sv7wBF"
      }
    },
    {
      "cell_type": "markdown",
      "source": [
        "#max_features int or float, default=1.0\n",
        "The number of features to draw from X to train each base estimator.\n",
        "\n",
        "If int, then draw max_features features.\n",
        "\n",
        "If float, then draw max(1, int(max_features * n_features_in_)) features.\n",
        "\n",
        "Note: using a float number less than 1.0 or integer less than number of features will enable feature subsampling and leads to a longer runtime.\n"
      ],
      "metadata": {
        "id": "Ws_G0lFS8LFy"
      }
    },
    {
      "cell_type": "code",
      "source": [
        "from sklearn.ensemble import IsolationForest\n",
        "\n",
        "clf = IsolationForest(max_samples=100, random_state=0) #len(chars_list))\n",
        "clf.fit(df)"
      ],
      "metadata": {
        "id": "Y8ZbeQJU7vfQ"
      },
      "execution_count": null,
      "outputs": []
    },
    {
      "cell_type": "code",
      "source": [
        "clf.n_features_in_, clf.feature_names_in_"
      ],
      "metadata": {
        "id": "E2k_JDhiAWde"
      },
      "execution_count": null,
      "outputs": []
    },
    {
      "cell_type": "code",
      "source": [
        "#Predict if a particular sample is an outlier or not.\n",
        "results = clf.predict(df)\n",
        "outlier_idx = np.where(results==-1)\n",
        "print(f'num of outliers = {len(outlier_idx[0])}, outlier_idx={outlier_idx}')"
      ],
      "metadata": {
        "id": "gsfM5PGW_UBs"
      },
      "execution_count": null,
      "outputs": []
    },
    {
      "cell_type": "code",
      "source": [
        "results.shape, len(outlier_idx[0])"
      ],
      "metadata": {
        "id": "ZiT7Xm4TBk89"
      },
      "execution_count": null,
      "outputs": []
    },
    {
      "cell_type": "code",
      "source": [
        "#Opposite of the anomaly score defined in the original paper.\n",
        "results = clf.score_samples(df)\n",
        "plt.plot(range(300), results)\n",
        "plt.plot(outlier_idx[0], results[outlier_idx[0]], 'r+')"
      ],
      "metadata": {
        "id": "Ci6A06x8A7zu"
      },
      "execution_count": null,
      "outputs": []
    },
    {
      "cell_type": "code",
      "source": [
        "plt.plot(results[outlier_idx])\n"
      ],
      "metadata": {
        "id": "lm7ERkCEBK5d"
      },
      "execution_count": null,
      "outputs": []
    },
    {
      "cell_type": "code",
      "source": [
        "clf = IsolationForest(max_samples=100, random_state=0, max_features=2) #len(chars_list))\n",
        "clf.fit(df[['C', 'D']])\n",
        "\n",
        "import matplotlib.pyplot as plt\n",
        "\n",
        "from sklearn.inspection import DecisionBoundaryDisplay\n",
        "\n",
        "disp = DecisionBoundaryDisplay.from_estimator(\n",
        "    clf,\n",
        "    df[['C', 'D']],\n",
        "    response_method=\"predict\",\n",
        "    alpha=0.5,\n",
        ")\n",
        "disp.ax_.scatter(df['C'], df['D'], s=20, edgecolor=\"k\")\n",
        "disp.ax_.set_title(\"Binary decision boundary \\nof IsolationForest\")\n",
        "plt.axis(\"square\")\n",
        "plt.legend(handles=handles, labels=[\"outliers\", \"inliers\"], title=\"true class\")\n",
        "plt.show()"
      ],
      "metadata": {
        "id": "2CNGTw0h8KuQ"
      },
      "execution_count": null,
      "outputs": []
    }
  ]
}