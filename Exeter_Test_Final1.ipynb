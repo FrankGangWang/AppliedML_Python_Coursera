{
  "nbformat": 4,
  "nbformat_minor": 0,
  "metadata": {
    "colab": {
      "provenance": [],
      "authorship_tag": "ABX9TyOGy4jyr0NqKFmprAEi9zeL",
      "include_colab_link": true
    },
    "kernelspec": {
      "name": "python3",
      "display_name": "Python 3"
    },
    "language_info": {
      "name": "python"
    }
  },
  "cells": [
    {
      "cell_type": "markdown",
      "metadata": {
        "id": "view-in-github",
        "colab_type": "text"
      },
      "source": [
        "<a href=\"https://colab.research.google.com/github/FrankGangWang/AppliedML_Python_Coursera/blob/master/Exeter_Test_Final1.ipynb\" target=\"_parent\"><img src=\"https://colab.research.google.com/assets/colab-badge.svg\" alt=\"Open In Colab\"/></a>"
      ]
    },
    {
      "cell_type": "markdown",
      "source": [
        "Feature extraction methods:\n",
        "1. spatial autocorrelation of alist of lags per sample;\n",
        "2. histogram of '1-mer' per sample = 0th markov model;\n",
        "\n",
        "Key observations:\n",
        "1. MAD method for outlier detection based on MSE distance to mean gives wider spread;\n",
        "2. cosine similarity is worse for outlier detection as its narrowly distributed around 1.0;\n",
        "\n",
        "\n",
        "functions:\n",
        "1. func_gen_features\n",
        "\n",
        "\n",
        "There are 3 general approaches to encoding sequence data:\n",
        "\n",
        "1.   Ordinal encoding DNA Sequence\n",
        "2.   One-hot encoding DNA Sequence\n",
        "3.   DNA sequence as a “language”, known as k-mer counting\n",
        "\n",
        "\n",
        "Ref:\n",
        "\n",
        "https://www.theaidream.com/post/demystify-dna-sequencing-with-machine-learning-and-python\n"
      ],
      "metadata": {
        "id": "zivjTsUMPB8D"
      }
    },
    {
      "cell_type": "code",
      "source": [
        "file_path = '/content/test.txt'\n",
        "kmers_size = 3\n",
        "#featrue_method ='1mers'\n",
        "featrue_method ='kmers'\n",
        "THRESHOLD = 3"
      ],
      "metadata": {
        "id": "DqAl90tKS6HK"
      },
      "execution_count": 4,
      "outputs": []
    },
    {
      "cell_type": "markdown",
      "source": [
        "#generate 1-mers based features  \n"
      ],
      "metadata": {
        "id": "YG07FruBC3B8"
      }
    },
    {
      "cell_type": "code",
      "execution_count": 5,
      "metadata": {
        "id": "pBhzIuZkm4Zp",
        "colab": {
          "base_uri": "https://localhost:8080/"
        },
        "outputId": "247eb6bc-b7fa-4d94-96ac-b204a2ceb187"
      },
      "outputs": [
        {
          "output_type": "stream",
          "name": "stdout",
          "text": [
            "Line 0 has\t105 chars, count_chars =105,            the last 5 chars =GDEGE, uniques=['C', 'D', 'E', 'F', 'G']\n",
            "Line 1 has\t113 chars, count_chars =218,            the last 5 chars =GCEGE, uniques=['C', 'D', 'E', 'F', 'G']\n",
            "Line 2 has\t113 chars, count_chars =331,            the last 5 chars =GCEGC, uniques=['C', 'D', 'E', 'F', 'G']\n",
            "Line 3 has\t112 chars, count_chars =443,            the last 5 chars =ECGCE, uniques=['C', 'D', 'E', 'F', 'G']\n",
            "Line 4 has\t115 chars, count_chars =558,            the last 5 chars =CEGEE, uniques=['C', 'D', 'E', 'F', 'G']\n",
            "*** Summary: number of lines =\t 300\n",
            "number of chars =\t 32363\n",
            "unique chars = ['C', 'D', 'E', 'F', 'G']\n"
          ]
        }
      ],
      "source": [
        "# generate 1-mers based features;\n",
        "# extract the unique chars 'chars_list' from all the samples\n",
        "chars_list = set()\n",
        "count_chars = 0\n",
        "\n",
        "def func_count_unique_chars(line, counter):\n",
        "  \"\"\"func to get unique chars in 'line' based on current 'counter'.\n",
        "  Note: set counter = set() for the first line;\n",
        "  \"\"\"\n",
        "  for c in line:\n",
        "    counter.add(c)\n",
        "  return (counter)\n",
        "  #sorted(set) returns a list\n",
        "\n",
        "f = open(\"test.txt\", \"r\")\n",
        "for number_of_lines, line in enumerate(f):\n",
        "  line = line.rstrip('\\n')\n",
        "  count_chars += len(line)\n",
        "  chars_list = func_count_unique_chars(line, chars_list)\n",
        "  if number_of_lines<5:\n",
        "    print(f'Line {number_of_lines} has\\t{len(line)} chars, count_chars ={count_chars},\\\n",
        "            the last 5 chars ={line[-5:]}, uniques={sorted(chars_list)}')\n",
        "f.close()\n",
        "number_of_lines = number_of_lines + 1\n",
        "chars_list = sorted(chars_list)\n",
        "print('*** Summary: number of lines =\\t', number_of_lines)\n",
        "print('number of chars =\\t', count_chars)\n",
        "print('unique chars =', chars_list)\n",
        "\n",
        "# 1-mers feature: generate features as the frequency of each unique chars per sample;\n",
        "# equivalent to 0th order markov chain model;\n",
        "import pandas as pd\n",
        "import numpy as np\n",
        "def func_count_chars_ordered(line, chars):\n",
        "  \"\"\"func to count number of strings in string 'line' based on current 'counter'.\n",
        "  Note: set counter = {} for the first line;\n",
        "  \"\"\"\n",
        "  counter = np.zeros((len(chars, )))\n",
        "  #print(counter, line, chars)\n",
        "  for id, c in enumerate(chars):\n",
        "    #print(f'id={id}, ch={chars[id]}')\n",
        "    counter[id] = line.count(chars[id])\n",
        "  return counter\n",
        "\n",
        "def func_1mers_feature(file_path, number_of_lines, chars_list):\n",
        "  df = np.zeros((number_of_lines, len(chars_list)))\n",
        "  #print(chars_list, df.shape)\n",
        "\n",
        "  f = open(file_path, \"r\")\n",
        "  for c, line in enumerate(f):\n",
        "    if c<0:\n",
        "      print(f'***num of chars in line {c} is {len(line), {line[-5:]}}')\n",
        "    line = line.rstrip('\\n')\n",
        "    df[c] = func_count_chars_ordered(line, chars_list)\n",
        "  f.close()\n",
        "\n",
        "  df = pd.DataFrame(df, columns=chars_list)\n",
        "  return df"
      ]
    },
    {
      "cell_type": "code",
      "source": [
        "X = func_1mers_feature(file_path, number_of_lines, chars_list)\n",
        "X.head(3)"
      ],
      "metadata": {
        "id": "oj6jEjZMnWYl",
        "colab": {
          "base_uri": "https://localhost:8080/",
          "height": 143
        },
        "outputId": "add7d52c-c434-457e-c944-dffd4dc7c963"
      },
      "execution_count": 6,
      "outputs": [
        {
          "output_type": "execute_result",
          "data": {
            "text/plain": [
              "      C     D     E     F     G\n",
              "0  17.0  10.0  32.0  15.0  31.0\n",
              "1  18.0  10.0  37.0  15.0  33.0\n",
              "2  17.0  10.0  38.0  15.0  33.0"
            ],
            "text/html": [
              "\n",
              "  <div id=\"df-3911bf36-e8e2-4859-9a3e-7767dd9f48f6\" class=\"colab-df-container\">\n",
              "    <div>\n",
              "<style scoped>\n",
              "    .dataframe tbody tr th:only-of-type {\n",
              "        vertical-align: middle;\n",
              "    }\n",
              "\n",
              "    .dataframe tbody tr th {\n",
              "        vertical-align: top;\n",
              "    }\n",
              "\n",
              "    .dataframe thead th {\n",
              "        text-align: right;\n",
              "    }\n",
              "</style>\n",
              "<table border=\"1\" class=\"dataframe\">\n",
              "  <thead>\n",
              "    <tr style=\"text-align: right;\">\n",
              "      <th></th>\n",
              "      <th>C</th>\n",
              "      <th>D</th>\n",
              "      <th>E</th>\n",
              "      <th>F</th>\n",
              "      <th>G</th>\n",
              "    </tr>\n",
              "  </thead>\n",
              "  <tbody>\n",
              "    <tr>\n",
              "      <th>0</th>\n",
              "      <td>17.0</td>\n",
              "      <td>10.0</td>\n",
              "      <td>32.0</td>\n",
              "      <td>15.0</td>\n",
              "      <td>31.0</td>\n",
              "    </tr>\n",
              "    <tr>\n",
              "      <th>1</th>\n",
              "      <td>18.0</td>\n",
              "      <td>10.0</td>\n",
              "      <td>37.0</td>\n",
              "      <td>15.0</td>\n",
              "      <td>33.0</td>\n",
              "    </tr>\n",
              "    <tr>\n",
              "      <th>2</th>\n",
              "      <td>17.0</td>\n",
              "      <td>10.0</td>\n",
              "      <td>38.0</td>\n",
              "      <td>15.0</td>\n",
              "      <td>33.0</td>\n",
              "    </tr>\n",
              "  </tbody>\n",
              "</table>\n",
              "</div>\n",
              "    <div class=\"colab-df-buttons\">\n",
              "\n",
              "  <div class=\"colab-df-container\">\n",
              "    <button class=\"colab-df-convert\" onclick=\"convertToInteractive('df-3911bf36-e8e2-4859-9a3e-7767dd9f48f6')\"\n",
              "            title=\"Convert this dataframe to an interactive table.\"\n",
              "            style=\"display:none;\">\n",
              "\n",
              "  <svg xmlns=\"http://www.w3.org/2000/svg\" height=\"24px\" viewBox=\"0 -960 960 960\">\n",
              "    <path d=\"M120-120v-720h720v720H120Zm60-500h600v-160H180v160Zm220 220h160v-160H400v160Zm0 220h160v-160H400v160ZM180-400h160v-160H180v160Zm440 0h160v-160H620v160ZM180-180h160v-160H180v160Zm440 0h160v-160H620v160Z\"/>\n",
              "  </svg>\n",
              "    </button>\n",
              "\n",
              "  <style>\n",
              "    .colab-df-container {\n",
              "      display:flex;\n",
              "      gap: 12px;\n",
              "    }\n",
              "\n",
              "    .colab-df-convert {\n",
              "      background-color: #E8F0FE;\n",
              "      border: none;\n",
              "      border-radius: 50%;\n",
              "      cursor: pointer;\n",
              "      display: none;\n",
              "      fill: #1967D2;\n",
              "      height: 32px;\n",
              "      padding: 0 0 0 0;\n",
              "      width: 32px;\n",
              "    }\n",
              "\n",
              "    .colab-df-convert:hover {\n",
              "      background-color: #E2EBFA;\n",
              "      box-shadow: 0px 1px 2px rgba(60, 64, 67, 0.3), 0px 1px 3px 1px rgba(60, 64, 67, 0.15);\n",
              "      fill: #174EA6;\n",
              "    }\n",
              "\n",
              "    .colab-df-buttons div {\n",
              "      margin-bottom: 4px;\n",
              "    }\n",
              "\n",
              "    [theme=dark] .colab-df-convert {\n",
              "      background-color: #3B4455;\n",
              "      fill: #D2E3FC;\n",
              "    }\n",
              "\n",
              "    [theme=dark] .colab-df-convert:hover {\n",
              "      background-color: #434B5C;\n",
              "      box-shadow: 0px 1px 3px 1px rgba(0, 0, 0, 0.15);\n",
              "      filter: drop-shadow(0px 1px 2px rgba(0, 0, 0, 0.3));\n",
              "      fill: #FFFFFF;\n",
              "    }\n",
              "  </style>\n",
              "\n",
              "    <script>\n",
              "      const buttonEl =\n",
              "        document.querySelector('#df-3911bf36-e8e2-4859-9a3e-7767dd9f48f6 button.colab-df-convert');\n",
              "      buttonEl.style.display =\n",
              "        google.colab.kernel.accessAllowed ? 'block' : 'none';\n",
              "\n",
              "      async function convertToInteractive(key) {\n",
              "        const element = document.querySelector('#df-3911bf36-e8e2-4859-9a3e-7767dd9f48f6');\n",
              "        const dataTable =\n",
              "          await google.colab.kernel.invokeFunction('convertToInteractive',\n",
              "                                                    [key], {});\n",
              "        if (!dataTable) return;\n",
              "\n",
              "        const docLinkHtml = 'Like what you see? Visit the ' +\n",
              "          '<a target=\"_blank\" href=https://colab.research.google.com/notebooks/data_table.ipynb>data table notebook</a>'\n",
              "          + ' to learn more about interactive tables.';\n",
              "        element.innerHTML = '';\n",
              "        dataTable['output_type'] = 'display_data';\n",
              "        await google.colab.output.renderOutput(dataTable, element);\n",
              "        const docLink = document.createElement('div');\n",
              "        docLink.innerHTML = docLinkHtml;\n",
              "        element.appendChild(docLink);\n",
              "      }\n",
              "    </script>\n",
              "  </div>\n",
              "\n",
              "\n",
              "<div id=\"df-59092414-02b0-4373-834d-7c4a922f497e\">\n",
              "  <button class=\"colab-df-quickchart\" onclick=\"quickchart('df-59092414-02b0-4373-834d-7c4a922f497e')\"\n",
              "            title=\"Suggest charts\"\n",
              "            style=\"display:none;\">\n",
              "\n",
              "<svg xmlns=\"http://www.w3.org/2000/svg\" height=\"24px\"viewBox=\"0 0 24 24\"\n",
              "     width=\"24px\">\n",
              "    <g>\n",
              "        <path d=\"M19 3H5c-1.1 0-2 .9-2 2v14c0 1.1.9 2 2 2h14c1.1 0 2-.9 2-2V5c0-1.1-.9-2-2-2zM9 17H7v-7h2v7zm4 0h-2V7h2v10zm4 0h-2v-4h2v4z\"/>\n",
              "    </g>\n",
              "</svg>\n",
              "  </button>\n",
              "\n",
              "<style>\n",
              "  .colab-df-quickchart {\n",
              "      --bg-color: #E8F0FE;\n",
              "      --fill-color: #1967D2;\n",
              "      --hover-bg-color: #E2EBFA;\n",
              "      --hover-fill-color: #174EA6;\n",
              "      --disabled-fill-color: #AAA;\n",
              "      --disabled-bg-color: #DDD;\n",
              "  }\n",
              "\n",
              "  [theme=dark] .colab-df-quickchart {\n",
              "      --bg-color: #3B4455;\n",
              "      --fill-color: #D2E3FC;\n",
              "      --hover-bg-color: #434B5C;\n",
              "      --hover-fill-color: #FFFFFF;\n",
              "      --disabled-bg-color: #3B4455;\n",
              "      --disabled-fill-color: #666;\n",
              "  }\n",
              "\n",
              "  .colab-df-quickchart {\n",
              "    background-color: var(--bg-color);\n",
              "    border: none;\n",
              "    border-radius: 50%;\n",
              "    cursor: pointer;\n",
              "    display: none;\n",
              "    fill: var(--fill-color);\n",
              "    height: 32px;\n",
              "    padding: 0;\n",
              "    width: 32px;\n",
              "  }\n",
              "\n",
              "  .colab-df-quickchart:hover {\n",
              "    background-color: var(--hover-bg-color);\n",
              "    box-shadow: 0 1px 2px rgba(60, 64, 67, 0.3), 0 1px 3px 1px rgba(60, 64, 67, 0.15);\n",
              "    fill: var(--button-hover-fill-color);\n",
              "  }\n",
              "\n",
              "  .colab-df-quickchart-complete:disabled,\n",
              "  .colab-df-quickchart-complete:disabled:hover {\n",
              "    background-color: var(--disabled-bg-color);\n",
              "    fill: var(--disabled-fill-color);\n",
              "    box-shadow: none;\n",
              "  }\n",
              "\n",
              "  .colab-df-spinner {\n",
              "    border: 2px solid var(--fill-color);\n",
              "    border-color: transparent;\n",
              "    border-bottom-color: var(--fill-color);\n",
              "    animation:\n",
              "      spin 1s steps(1) infinite;\n",
              "  }\n",
              "\n",
              "  @keyframes spin {\n",
              "    0% {\n",
              "      border-color: transparent;\n",
              "      border-bottom-color: var(--fill-color);\n",
              "      border-left-color: var(--fill-color);\n",
              "    }\n",
              "    20% {\n",
              "      border-color: transparent;\n",
              "      border-left-color: var(--fill-color);\n",
              "      border-top-color: var(--fill-color);\n",
              "    }\n",
              "    30% {\n",
              "      border-color: transparent;\n",
              "      border-left-color: var(--fill-color);\n",
              "      border-top-color: var(--fill-color);\n",
              "      border-right-color: var(--fill-color);\n",
              "    }\n",
              "    40% {\n",
              "      border-color: transparent;\n",
              "      border-right-color: var(--fill-color);\n",
              "      border-top-color: var(--fill-color);\n",
              "    }\n",
              "    60% {\n",
              "      border-color: transparent;\n",
              "      border-right-color: var(--fill-color);\n",
              "    }\n",
              "    80% {\n",
              "      border-color: transparent;\n",
              "      border-right-color: var(--fill-color);\n",
              "      border-bottom-color: var(--fill-color);\n",
              "    }\n",
              "    90% {\n",
              "      border-color: transparent;\n",
              "      border-bottom-color: var(--fill-color);\n",
              "    }\n",
              "  }\n",
              "</style>\n",
              "\n",
              "  <script>\n",
              "    async function quickchart(key) {\n",
              "      const quickchartButtonEl =\n",
              "        document.querySelector('#' + key + ' button');\n",
              "      quickchartButtonEl.disabled = true;  // To prevent multiple clicks.\n",
              "      quickchartButtonEl.classList.add('colab-df-spinner');\n",
              "      try {\n",
              "        const charts = await google.colab.kernel.invokeFunction(\n",
              "            'suggestCharts', [key], {});\n",
              "      } catch (error) {\n",
              "        console.error('Error during call to suggestCharts:', error);\n",
              "      }\n",
              "      quickchartButtonEl.classList.remove('colab-df-spinner');\n",
              "      quickchartButtonEl.classList.add('colab-df-quickchart-complete');\n",
              "    }\n",
              "    (() => {\n",
              "      let quickchartButtonEl =\n",
              "        document.querySelector('#df-59092414-02b0-4373-834d-7c4a922f497e button');\n",
              "      quickchartButtonEl.style.display =\n",
              "        google.colab.kernel.accessAllowed ? 'block' : 'none';\n",
              "    })();\n",
              "  </script>\n",
              "</div>\n",
              "    </div>\n",
              "  </div>\n"
            ]
          },
          "metadata": {},
          "execution_count": 6
        }
      ]
    },
    {
      "cell_type": "markdown",
      "source": [
        "#Generate features based on k-mers and CountVectorizer"
      ],
      "metadata": {
        "id": "3vj44G5h0Y6r"
      }
    },
    {
      "cell_type": "code",
      "source": [
        "# k-mers: generate features based on k-mers and CountVectorizer per sample;\n",
        "import pandas as pd\n",
        "import numpy as np\n",
        "from sklearn.feature_extraction.text import CountVectorizer\n",
        "\n",
        "def func_Kmers(seq, size=2):\n",
        "   return [seq[x:x+size].lower() for x in range(len(seq) - size + 1)]\n",
        "#convert our training data sequences into short overlapping k-mers of length 6.\n",
        "#Lets do that for each species of data we have using our Kmers_funct function.\n",
        "\n",
        "def func_kmers_feature(file_path, kmers_size=2):\n",
        "  if kmers_size==1:\n",
        "    print('kmers_size must be larger than 1!')\n",
        "    return;\n",
        "  df = pd.read_table(file_path, header=None, names=['sequence'])\n",
        "  #print(f'Inside func_kmers_feature: df has columns: {df.columns}')\n",
        "  df[f'{kmers_size}-mers'] = df.apply(lambda x: func_Kmers(x[df.columns[0]], kmers_size), axis=1)\n",
        "  df = df.drop(df.columns[0], axis=1)\n",
        "  #print(f'Inside func_kmers_feature: df has columns: {df.columns}')\n",
        "\n",
        "  X = list(df[df.columns[0]])\n",
        "  for item in range(len(X)):\n",
        "    X[item] = ' '.join(X[item])\n",
        "\n",
        "  #Creating the Bag of Words model:\n",
        "  cv = CountVectorizer(ngram_range=(1, 1))\n",
        "  #TODO: ngram_range needs to be hyperparameterized\n",
        "  X = cv.fit_transform(X)\n",
        "  print(f'Inside func_kmers_feature: df shape is {df.shape}, X shape is {X.shape}')\n",
        "  return X"
      ],
      "metadata": {
        "id": "GBKCrT0JYhwS"
      },
      "execution_count": 7,
      "outputs": []
    },
    {
      "cell_type": "markdown",
      "source": [
        "#generate features"
      ],
      "metadata": {
        "id": "K40UDlF9-xpx"
      }
    },
    {
      "cell_type": "code",
      "source": [
        "# generic feature generation function\n",
        "def func_gen_features(featrue_method, kmers_size, file_path=file_path, number_of_lines=number_of_lines, chars_list=chars_list):\n",
        "  if featrue_method =='1mers':\n",
        "    print(f'The featrue generation method used: {featrue_method}')\n",
        "    df = func_1mers_feature(file_path, number_of_lines, chars_list)\n",
        "    print(df.head(3))\n",
        "    return df\n",
        "  else:\n",
        "    print(f'The featrue generation method used: {featrue_method}, kmers_size={kmers_size}')\n",
        "    X = func_kmers_feature(file_path, kmers_size)\n",
        "    feature_vector_size = X.shape[1]\n",
        "    print(f'feature_vector_size = {feature_vector_size}, X shape is {X.shape}, X type is {type(X)}')\n",
        "    return X\n"
      ],
      "metadata": {
        "id": "l6oNQXm_1apq"
      },
      "execution_count": 8,
      "outputs": []
    },
    {
      "cell_type": "markdown",
      "source": [
        "We need to now convert the lists of k-mers for each gene into string sentences of words that can be used to create the Bag of Words model. We will make a target variable y to hold the class labels."
      ],
      "metadata": {
        "id": "_a_fXLQGDsnR"
      }
    },
    {
      "cell_type": "markdown",
      "source": [
        "# k-mers: Step 2 — Training an ‘Auto-Encoder’ neural network\n",
        "\n",
        "As our process is completely unsupervised and we don’t have labeled data (as outlier/non-outlier), we will use 5-layer deep ‘Auto-encoder’ neural network to train our model. It is a special type of neural network which copies input data to output data. This process is known as ‘reconstruction’. ‘Hidden layers’ of the network does the feature extraction & decoding work. At the end of the entire process definitely, some loss gets generated and the data point which is dissimilar from others incurs more loss.\n",
        "\n",
        "Denote feature_vector_size as the input data size;\n",
        "\n",
        "Auto-encoder layer structure will look like:\n",
        "\n",
        "feature_vector_size -> 600 -> 50 -> 600 -> feature_vector_size\n",
        "\n",
        "Layer 1(Input Layer) has feature_vector_size features, \\\n",
        "Layer 2 has 600 features, \\\n",
        "Layer 3 has 50 features, \\\n",
        "Layer 4 has 600 features, \\\n",
        "Layer 5(Output Layer)has feature_vector_size features. \\\n",
        "\n",
        "Layer 1, as usual, will have all ‘Doc2Vec’ generated features from ‘Step 1’. Layer 2, 3 & 4 are hidden layers doing the actual data messaging (expansion & shrinking) and information extraction part. Actually, Layer 2 is known as ‘encoding layer’ and Layer 4 is known as ‘decoding layer’. Ultimately, the output will come out from Layer 5. ‘Autoencoders’ are trained with the same data as input & output both. So, Layer 5 output is nothing but a reconstructed version of the input with some loss. Normal data points will go through smoothly between layers, with minimal loss, but data loss for the ‘outliers’ will be more as those don’t follow the hidden data pattern.\n",
        "\n",
        "This is the graphical representation of our 5-layer ‘Auto-encoder"
      ],
      "metadata": {
        "id": "UZg-VDJWAFsq"
      }
    },
    {
      "cell_type": "code",
      "source": [
        "featrue_method = 'kmers'\n",
        "kmers_size = 3\n",
        "X = func_gen_features(featrue_method, kmers_size, file_path)"
      ],
      "metadata": {
        "colab": {
          "base_uri": "https://localhost:8080/"
        },
        "id": "9u0UII7JCzv6",
        "outputId": "f66d8804-467a-43c2-d62a-73dd35f246b8"
      },
      "execution_count": 9,
      "outputs": [
        {
          "output_type": "stream",
          "name": "stdout",
          "text": [
            "The featrue generation method used: kmers, kmers_size=3\n",
            "Inside func_kmers_feature: df shape is (300, 1), X shape is (300, 125)\n",
            "feature_vector_size = 125, X shape is (300, 125), X type is <class 'scipy.sparse._csr.csr_matrix'>\n"
          ]
        }
      ]
    },
    {
      "cell_type": "code",
      "source": [
        "X.toarray()[:2,:3]"
      ],
      "metadata": {
        "colab": {
          "base_uri": "https://localhost:8080/"
        },
        "id": "VvIcMUhqQid_",
        "outputId": "baacc0ae-8811-49a2-ef2b-52a8617548ca"
      },
      "execution_count": 10,
      "outputs": [
        {
          "output_type": "execute_result",
          "data": {
            "text/plain": [
              "array([[0, 0, 1],\n",
              "       [0, 0, 1]])"
            ]
          },
          "metadata": {},
          "execution_count": 10
        }
      ]
    },
    {
      "cell_type": "code",
      "source": [
        "from sklearn.preprocessing import Normalizer, MinMaxScaler\n",
        "from sklearn.pipeline import Pipeline\n",
        "\n",
        "# configure our pipeline\n",
        "pipeline = Pipeline([('normalizer', Normalizer()),\n",
        "                     ('scaler', MinMaxScaler())])\n",
        "\n",
        "# get normalization parameters by fitting to the training data\n",
        "pipeline.fit(X.toarray());\n",
        "\n",
        "# transform the training and validation data with these parameters\n",
        "X = pipeline.transform(X.toarray())\n",
        "#X_validate_transformed = pipeline.transform(X_validate)"
      ],
      "metadata": {
        "id": "Z7zYHONOQiXF"
      },
      "execution_count": 11,
      "outputs": []
    },
    {
      "cell_type": "code",
      "source": [
        "type(X), X[:2,:3]"
      ],
      "metadata": {
        "colab": {
          "base_uri": "https://localhost:8080/"
        },
        "id": "I7mMdFYvQ0T2",
        "outputId": "37862d44-041e-4972-9ba6-138b470f32cb"
      },
      "execution_count": 12,
      "outputs": [
        {
          "output_type": "execute_result",
          "data": {
            "text/plain": [
              "(numpy.ndarray,\n",
              " array([[0.        , 0.        , 0.38763264],\n",
              "        [0.        , 0.        , 0.33591735]]))"
            ]
          },
          "metadata": {},
          "execution_count": 12
        }
      ]
    },
    {
      "cell_type": "code",
      "source": [
        "from sklearn.neural_network import MLPRegressor\n",
        "# hyperparameters\n",
        "layer_features = [600, 100, 600]\n",
        "\n",
        "auto_encoder = MLPRegressor(hidden_layer_sizes=(layer_features))\n",
        "#auto_encoder.fit(X.toarray(), X.toarray())\n",
        "auto_encoder.fit(X, X)\n",
        "predicted_vectors = auto_encoder.predict(X)\n",
        "\n",
        "print(f'X shape is {X.shape}, X type is {type(X)}')\n",
        "print(f'predicted_vectors shape is {predicted_vectors.shape}, predicted_vectors type is {type(predicted_vectors)}')\n",
        "auto_encoder.score(predicted_vectors, X)"
      ],
      "metadata": {
        "colab": {
          "base_uri": "https://localhost:8080/"
        },
        "id": "ghx6KFHcEsZF",
        "outputId": "8fae1d27-3e49-4cc8-ea6c-eec801b3cfde"
      },
      "execution_count": 13,
      "outputs": [
        {
          "output_type": "stream",
          "name": "stdout",
          "text": [
            "X shape is (300, 125), X type is <class 'numpy.ndarray'>\n",
            "predicted_vectors shape is (300, 125), predicted_vectors type is <class 'numpy.ndarray'>\n"
          ]
        },
        {
          "output_type": "execute_result",
          "data": {
            "text/plain": [
              "0.7940425834155795"
            ]
          },
          "metadata": {},
          "execution_count": 13
        }
      ]
    },
    {
      "cell_type": "code",
      "source": [
        "# another AutoEncoder\n",
        "# data dimensions // hyperparameters\n",
        "import tensorflow as tf\n",
        "input_dim = X.shape[1]\n",
        "BATCH_SIZE = 256\n",
        "EPOCHS = 12\n",
        "\n",
        "# https://keras.io/layers/core/\n",
        "autoencoder = tf.keras.models.Sequential([\n",
        "    # deconstruct / encode\n",
        "    tf.keras.layers.Dense(input_dim, activation='elu', input_shape=(input_dim, )),\n",
        "    tf.keras.layers.Dense(16, activation='elu'),\n",
        "    tf.keras.layers.Dense(8, activation='elu'),\n",
        "    tf.keras.layers.Dense(4, activation='elu'),\n",
        "    tf.keras.layers.Dense(2, activation='elu'),\n",
        "\n",
        "    # reconstruction / decode\n",
        "    tf.keras.layers.Dense(4, activation='elu'),\n",
        "    tf.keras.layers.Dense(8, activation='elu'),\n",
        "    tf.keras.layers.Dense(16, activation='elu'),\n",
        "    tf.keras.layers.Dense(input_dim, activation='elu')\n",
        "])\n",
        "\n",
        "# https://keras.io/api/models/model_training_apis/\n",
        "autoencoder.compile(optimizer=\"adam\",\n",
        "                    loss=\"mse\",\n",
        "                    metrics=[\"acc\"])\n",
        "\n",
        "# print an overview of our model\n",
        "autoencoder.summary();"
      ],
      "metadata": {
        "colab": {
          "base_uri": "https://localhost:8080/"
        },
        "id": "pb9PqS3PTV7o",
        "outputId": "9e58054a-f232-44ab-c9f1-79c1a4d6a69f"
      },
      "execution_count": 14,
      "outputs": [
        {
          "output_type": "stream",
          "name": "stdout",
          "text": [
            "Model: \"sequential\"\n",
            "_________________________________________________________________\n",
            " Layer (type)                Output Shape              Param #   \n",
            "=================================================================\n",
            " dense (Dense)               (None, 125)               15750     \n",
            "                                                                 \n",
            " dense_1 (Dense)             (None, 16)                2016      \n",
            "                                                                 \n",
            " dense_2 (Dense)             (None, 8)                 136       \n",
            "                                                                 \n",
            " dense_3 (Dense)             (None, 4)                 36        \n",
            "                                                                 \n",
            " dense_4 (Dense)             (None, 2)                 10        \n",
            "                                                                 \n",
            " dense_5 (Dense)             (None, 4)                 12        \n",
            "                                                                 \n",
            " dense_6 (Dense)             (None, 8)                 40        \n",
            "                                                                 \n",
            " dense_7 (Dense)             (None, 16)                144       \n",
            "                                                                 \n",
            " dense_8 (Dense)             (None, 125)               2125      \n",
            "                                                                 \n",
            "=================================================================\n",
            "Total params: 20269 (79.18 KB)\n",
            "Trainable params: 20269 (79.18 KB)\n",
            "Non-trainable params: 0 (0.00 Byte)\n",
            "_________________________________________________________________\n"
          ]
        }
      ]
    },
    {
      "cell_type": "code",
      "source": [
        "history = autoencoder.fit(\n",
        "    X, X,\n",
        "    shuffle=True,\n",
        "    epochs=EPOCHS,\n",
        "    batch_size=BATCH_SIZE,\n",
        "    #callbacks=cb,\n",
        "    #validation_data=(X_validate_transformed, X_validate_transformed)\n",
        ");"
      ],
      "metadata": {
        "colab": {
          "base_uri": "https://localhost:8080/"
        },
        "id": "AO3oqKvdTVvG",
        "outputId": "20230e33-0775-4421-c2a7-a242d178958c"
      },
      "execution_count": 15,
      "outputs": [
        {
          "output_type": "stream",
          "name": "stdout",
          "text": [
            "Epoch 1/12\n",
            "2/2 [==============================] - 2s 14ms/step - loss: 0.1016 - acc: 0.0067\n",
            "Epoch 2/12\n",
            "2/2 [==============================] - 0s 13ms/step - loss: 0.1001 - acc: 0.0067\n",
            "Epoch 3/12\n",
            "2/2 [==============================] - 0s 9ms/step - loss: 0.0989 - acc: 0.0067\n",
            "Epoch 4/12\n",
            "2/2 [==============================] - 0s 12ms/step - loss: 0.0974 - acc: 0.0067\n",
            "Epoch 5/12\n",
            "2/2 [==============================] - 0s 9ms/step - loss: 0.0959 - acc: 0.0033\n",
            "Epoch 6/12\n",
            "2/2 [==============================] - 0s 15ms/step - loss: 0.0942 - acc: 0.0033\n",
            "Epoch 7/12\n",
            "2/2 [==============================] - 0s 12ms/step - loss: 0.0922 - acc: 0.0033\n",
            "Epoch 8/12\n",
            "2/2 [==============================] - 0s 9ms/step - loss: 0.0900 - acc: 0.0033\n",
            "Epoch 9/12\n",
            "2/2 [==============================] - 0s 8ms/step - loss: 0.0876 - acc: 0.0033\n",
            "Epoch 10/12\n",
            "2/2 [==============================] - 0s 8ms/step - loss: 0.0850 - acc: 0.0033\n",
            "Epoch 11/12\n",
            "2/2 [==============================] - 0s 8ms/step - loss: 0.0822 - acc: 0.0033\n",
            "Epoch 12/12\n",
            "2/2 [==============================] - 0s 9ms/step - loss: 0.0792 - acc: 0.0033\n"
          ]
        }
      ]
    },
    {
      "cell_type": "code",
      "source": [
        "# transform the test set with the pipeline fitted to the training set\n",
        "#X_test_transformed = pipeline.transform(X)\n",
        "\n",
        "# pass the transformed test set through the autoencoder to get the reconstructed result\n",
        "reconstructions = autoencoder.predict(X)\n",
        "#Calculate the reconstruction loss for every transaction and draw a sample.\n",
        "\n",
        "# calculating the mean squared error reconstruction loss per row in the numpy array\n",
        "mse = np.mean(np.power(X - reconstructions, 2), axis=1)"
      ],
      "metadata": {
        "colab": {
          "base_uri": "https://localhost:8080/"
        },
        "id": "N3f3g-INTVm-",
        "outputId": "151a9fc6-b165-4414-eb9a-269c30eba8da"
      },
      "execution_count": 16,
      "outputs": [
        {
          "output_type": "stream",
          "name": "stdout",
          "text": [
            "10/10 [==============================] - 0s 3ms/step\n"
          ]
        }
      ]
    },
    {
      "cell_type": "code",
      "source": [
        "mse.shape, X.shape, reconstructions.shape"
      ],
      "metadata": {
        "colab": {
          "base_uri": "https://localhost:8080/"
        },
        "id": "ge0tJj7aUXxA",
        "outputId": "fc86e0bd-9e24-4050-b42d-8eac482b027b"
      },
      "execution_count": 17,
      "outputs": [
        {
          "output_type": "execute_result",
          "data": {
            "text/plain": [
              "((300,), (300, 125), (300, 125))"
            ]
          },
          "metadata": {},
          "execution_count": 17
        }
      ]
    },
    {
      "cell_type": "markdown",
      "source": [
        "clean = mse[y_test==0]\n",
        "fraud = mse[y_test==1]\n",
        "\n",
        "fig, ax = plt.subplots(figsize=(6,6))\n",
        "\n",
        "ax.hist(clean, bins=50, density=True, label=\"clean\", alpha=.6, color=\"green\")\n",
        "ax.hist(fraud, bins=50, density=True, label=\"fraud\", alpha=.6, color=\"red\")\n",
        "\n",
        "plt.title(\"(Normalized) Distribution of the Reconstruction Loss\")\n",
        "plt.legend()\n",
        "plt.show()\n"
      ],
      "metadata": {
        "id": "q25suviLVHd1"
      }
    },
    {
      "cell_type": "code",
      "source": [
        "import matplotlib.pyplot as plt\n",
        "fig, ax = plt.subplots(figsize=(6,2))\n",
        "ax.hist(mse, bins=50, density=True, label=\"mse\", alpha=.6, color=\"green\")\n",
        "plt.title(\"(Normalized) Distribution of the Reconstruction Loss\")\n",
        "plt.legend()\n",
        "plt.show()"
      ],
      "metadata": {
        "colab": {
          "base_uri": "https://localhost:8080/",
          "height": 237
        },
        "id": "93UQnsgyVFva",
        "outputId": "5b6e32de-1d5a-4c85-df58-7dd598c78c70"
      },
      "execution_count": 19,
      "outputs": [
        {
          "output_type": "display_data",
          "data": {
            "text/plain": [
              "<Figure size 600x200 with 1 Axes>"
            ],
            "image/png": "[encoded data removed]"
          },
          "metadata": {}
        }
      ]
    },
    {
      "cell_type": "markdown",
      "source": [
        "#AutoEncoder: Setting a threshold for classification\n",
        "Unsupervised\n",
        "Normally, in an unsupervised solution, this is where the story would end. We would set a threshold that limits the amount of false positives to a manageable degree, and captures the most anomalous data points.\n",
        "\n",
        "#Percentiles\n",
        "We could set this threshold by taking the top x% of the dataset and considering it anomalous.\n",
        "\n",
        "#MAD\n",
        "We could also use a modified Z-score using the Median Absolute Deviation to define outliers on our reconstruction data. Here is a good blog post on the topic by João Rodrigues, illustrating why this algorithm is more robust and scalable than the percentiles method."
      ],
      "metadata": {
        "id": "ihKLr4WDVcAB"
      }
    },
    {
      "cell_type": "code",
      "source": [
        "def mad_score(points):\n",
        "    \"\"\"https://www.itl.nist.gov/div898/handbook/eda/section3/eda35h.htm \"\"\"\n",
        "    m = np.median(points)\n",
        "    ad = np.abs(points - m)\n",
        "    mad = np.median(ad)\n",
        "\n",
        "    return 0.6745 * ad / mad\n",
        "\n",
        "def func_outlier_mad_index(X, reconstructions):\n",
        "  mse = np.mean(np.power(X - reconstructions, 2), axis=1)\n",
        "  z_scores = mad_score(mse)\n",
        "  outliers = z_scores > THRESHOLD\n",
        "  outliers_idx = list(np.where(outliers == True)[0])\n",
        "  inliers_idx = list(np.where(outliers == False)[0])\n",
        "  return outliers_idx, inliers_idx\n",
        "\n",
        "outliers_idx, inliers_idx= func_outlier_mad_index(X, reconstructions)\n",
        "print(len(outliers_idx), len(inliers_idx))\n",
        "print(outliers_idx)"
      ],
      "metadata": {
        "colab": {
          "base_uri": "https://localhost:8080/"
        },
        "id": "wAir1ZgiUXta",
        "outputId": "78611428-a6db-4981-c1a4-2dbfbe48a36c"
      },
      "execution_count": 23,
      "outputs": [
        {
          "output_type": "stream",
          "name": "stdout",
          "text": [
            "11 289\n",
            "[0, 21, 134, 138, 139, 143, 150, 155, 156, 160, 161]\n"
          ]
        }
      ]
    },
    {
      "cell_type": "markdown",
      "source": [
        "\n",
        "ready autoencoder: [0, 69, 93, 111, 127, 145, 159, 212, 253, 255, 260, 272, 278, 292, 296]\n",
        "\n",
        "own autoencoder: [0, 21, 95, 132, 134, 138, 139, 141, 142, 143, 146, 149, 150, 151, 152, 153, 154, 155, 156, 159, 160, 161, 162, 163, 164, 165, 194, 206, 215, 274, 276]\n",
        "\n"
      ],
      "metadata": {
        "id": "PLxYjiWjdIfg"
      }
    },
    {
      "cell_type": "code",
      "source": [],
      "metadata": {
        "id": "uVLJfxIydIHY"
      },
      "execution_count": null,
      "outputs": []
    },
    {
      "cell_type": "code",
      "source": [
        "fig, ax = plt.subplots(figsize=(5,2))\n",
        "ax.hist(mse, bins=50, density=True, label=\"mse\", alpha=.6, color=\"green\")\n",
        "plt.title(\"(Normalized) Distribution of the Reconstruction Loss\")\n",
        "plt.legend()\n",
        "plt.show()\n"
      ],
      "metadata": {
        "colab": {
          "base_uri": "https://localhost:8080/",
          "height": 237
        },
        "id": "z_BFwGW-YSYU",
        "outputId": "cb53c548-a70c-4d22-f114-6ede0fe0f195"
      },
      "execution_count": 166,
      "outputs": [
        {
          "output_type": "display_data",
          "data": {
            "text/plain": [
              "<Figure size 500x200 with 1 Axes>"
            ],
            "image/png": "[encoded data removed]"
          },
          "metadata": {}
        }
      ]
    },
    {
      "cell_type": "code",
      "source": [
        "fig, ax = plt.subplots(figsize=(6,3))\n",
        "ax.hist(mse[outliers_idx], bins=50, density=False, label=\"mse outliers\", alpha=.06, color=\"red\")\n",
        "ax.hist(mse[inliers_idx], bins=50, density=False, label=\"mse\", alpha=.6, color=\"green\")\n",
        "plt.title(\"(Normalized) Distribution of the Reconstruction Loss\")\n",
        "plt.legend()\n",
        "plt.show()"
      ],
      "metadata": {
        "colab": {
          "base_uri": "https://localhost:8080/",
          "height": 314
        },
        "id": "NS7wIQthWD5G",
        "outputId": "09b5e5ec-b4fd-4677-9234-ceaf463b38ae"
      },
      "execution_count": 167,
      "outputs": [
        {
          "output_type": "display_data",
          "data": {
            "text/plain": [
              "<Figure size 600x300 with 1 Axes>"
            ],
            "image/png": "[encoded data removed]"
          },
          "metadata": {}
        }
      ]
    },
    {
      "cell_type": "code",
      "source": [],
      "metadata": {
        "id": "ZKJyXTIoWD1f"
      },
      "execution_count": null,
      "outputs": []
    },
    {
      "cell_type": "code",
      "source": [],
      "metadata": {
        "id": "l0VecYqsWDxv"
      },
      "execution_count": null,
      "outputs": []
    },
    {
      "cell_type": "code",
      "source": [
        "pd.DataFrame(auto_encoder.loss_curve_).plot()"
      ],
      "metadata": {
        "colab": {
          "base_uri": "https://localhost:8080/",
          "height": 448
        },
        "id": "45XgMgM6Lprb",
        "outputId": "f8a09eae-a040-4d9e-86e3-521433e6be6a"
      },
      "execution_count": 91,
      "outputs": [
        {
          "output_type": "execute_result",
          "data": {
            "text/plain": [
              "<Axes: >"
            ]
          },
          "metadata": {},
          "execution_count": 91
        },
        {
          "output_type": "display_data",
          "data": {
            "text/plain": [
              "<Figure size 640x480 with 1 Axes>"
            ],
            "image/png": "[encoded data removed]"
          },
          "metadata": {}
        }
      ]
    },
    {
      "cell_type": "markdown",
      "source": [
        "Here X-axis denotes no of iterations.\n",
        "\n",
        "#Step 3 — Similarity measure with output and actual work\n",
        "\n",
        "Once we get the output vectors, we can now measure the loss. ‘Loss’ is ideally given by ‘outlier factor’ expression\n",
        "\n",
        "\n",
        "\n"
      ],
      "metadata": {
        "id": "XKWy1CDJEWEo"
      }
    },
    {
      "cell_type": "code",
      "source": [
        "print(X.shape, predicted_vectors.shape)\n",
        "print(type(X), type(predicted_vectors))\n",
        "print(f'X[0] = {X[0, :5]}')\n",
        "print(f'predicted_vectors[0] = {predicted_vectors[0, :5]}')"
      ],
      "metadata": {
        "id": "8KbXnfCuFcjd",
        "colab": {
          "base_uri": "https://localhost:8080/"
        },
        "outputId": "690da864-55e7-421b-9494-95a74b6da93f"
      },
      "execution_count": 97,
      "outputs": [
        {
          "output_type": "stream",
          "name": "stdout",
          "text": [
            "(300, 125) (300, 125)\n",
            "<class 'numpy.ndarray'> <class 'numpy.ndarray'>\n",
            "X[0] = [0.         0.         0.38763264 0.52403378 0.        ]\n",
            "predicted_vectors[0] = [ 0.20608807 -0.00793152  0.30497918  0.57013352  0.02113444]\n"
          ]
        }
      ]
    },
    {
      "cell_type": "code",
      "source": [
        "from scipy.spatial.distance import cosine\n",
        "\n",
        "def key_consine_similarity(tupple):\n",
        "    return tupple[1]\n",
        "\n",
        "def get_computed_similarities(vectors, predicted_vectors, reverse=False):\n",
        "    # This returns a cosine-based similarity, the larger the returned value the\n",
        "    # original feature fector is more similar to the re-generated vector\n",
        "    # The outliers are the ones with the smaller cosine_similarities.\n",
        "\n",
        "    data_size = vectors.shape[0]\n",
        "    cosine_similarities = []\n",
        "    for i in range(data_size):\n",
        "        cosine_sim_val = (1 - cosine(vectors[i], predicted_vectors[i]))\n",
        "        cosine_similarities.append((i, cosine_sim_val))\n",
        "\n",
        "    return sorted(cosine_similarities, key=key_consine_similarity, reverse=reverse)\n",
        "\n",
        "def display_top_n(sorted_cosine_similarities, n=5):\n",
        "    for i in range(n):\n",
        "        index, consine_sim_val = sorted_cosine_similarities[i]\n",
        "        print(f'Potential outlier row index= {index},\\t Cosine Sim Val= {consine_sim_val}')\n",
        "\n",
        "#We can call the above functions in order to get top ‘k’ outliers\n",
        "top_numbers = 15\n",
        "print(f'Top {top_numbers} outliers')\n",
        "sorted_cosine_similarities = get_computed_similarities(vectors=X, predicted_vectors=predicted_vectors)\n",
        "display_top_n(sorted_cosine_similarities, top_numbers)"
      ],
      "metadata": {
        "colab": {
          "base_uri": "https://localhost:8080/"
        },
        "id": "IbP-37sVD_-M",
        "outputId": "4d80ccc2-d636-44a9-cdc0-bcd476d9a41a"
      },
      "execution_count": 21,
      "outputs": [
        {
          "output_type": "stream",
          "name": "stdout",
          "text": [
            "Top 15 outliers\n",
            "Potential outlier row index= 133,\t Cosine Sim Val= 0.9452759426175937\n",
            "Potential outlier row index= 169,\t Cosine Sim Val= 0.9485621105694066\n",
            "Potential outlier row index= 220,\t Cosine Sim Val= 0.9487419280152408\n",
            "Potential outlier row index= 93,\t Cosine Sim Val= 0.9519950341338648\n",
            "Potential outlier row index= 111,\t Cosine Sim Val= 0.9535582346125178\n",
            "Potential outlier row index= 102,\t Cosine Sim Val= 0.9537288079177028\n",
            "Potential outlier row index= 12,\t Cosine Sim Val= 0.953843255336335\n",
            "Potential outlier row index= 273,\t Cosine Sim Val= 0.9540109778341944\n",
            "Potential outlier row index= 226,\t Cosine Sim Val= 0.9542800595182757\n",
            "Potential outlier row index= 175,\t Cosine Sim Val= 0.9551100898802122\n",
            "Potential outlier row index= 86,\t Cosine Sim Val= 0.955584833874594\n",
            "Potential outlier row index= 195,\t Cosine Sim Val= 0.9556628858443303\n",
            "Potential outlier row index= 60,\t Cosine Sim Val= 0.955683758615355\n",
            "Potential outlier row index= 260,\t Cosine Sim Val= 0.9557834449484325\n",
            "Potential outlier row index= 149,\t Cosine Sim Val= 0.9561014241663385\n"
          ]
        }
      ]
    },
    {
      "cell_type": "code",
      "source": [
        "outliers_idx, inliers_idx= func_outlier_mad_index(X, predicted_vectors)\n",
        "print(len(outliers_idx), len(inliers_idx))\n",
        "print(outliers_idx)"
      ],
      "metadata": {
        "colab": {
          "base_uri": "https://localhost:8080/"
        },
        "id": "qwzGJKfpcw3f",
        "outputId": "f8bed628-ac83-4266-f4d0-7453eb51e150"
      },
      "execution_count": 24,
      "outputs": [
        {
          "output_type": "stream",
          "name": "stdout",
          "text": [
            "2 298\n",
            "[133, 149]\n"
          ]
        }
      ]
    },
    {
      "cell_type": "code",
      "source": [
        "sorted_cosine_similarities[:5], sorted_cosine_similarities[-5: ]"
      ],
      "metadata": {
        "colab": {
          "base_uri": "https://localhost:8080/"
        },
        "id": "s5bX_GGhJCkl",
        "outputId": "8d5ad596-55d2-4d1c-e205-782db9c2956d"
      },
      "execution_count": 25,
      "outputs": [
        {
          "output_type": "execute_result",
          "data": {
            "text/plain": [
              "([(133, 0.9452759426175937),\n",
              "  (169, 0.9485621105694066),\n",
              "  (220, 0.9487419280152408),\n",
              "  (93, 0.9519950341338648),\n",
              "  (111, 0.9535582346125178)],\n",
              " [(134, 0.9888429068541513),\n",
              "  (138, 0.9897017059269703),\n",
              "  (165, 0.9908812852263811),\n",
              "  (143, 0.9918705311063897),\n",
              "  (161, 0.993421048597076)])"
            ]
          },
          "metadata": {},
          "execution_count": 25
        }
      ]
    },
    {
      "cell_type": "code",
      "source": [
        "import matplotlib.pyplot as plt\n",
        "plt.hist(np.array(sorted_cosine_similarities)[:, 1])"
      ],
      "metadata": {
        "colab": {
          "base_uri": "https://localhost:8080/",
          "height": 520
        },
        "id": "9OWAAxKnhpml",
        "outputId": "23f1d675-eaf9-48d5-ca47-6aa9b4f40220"
      },
      "execution_count": 38,
      "outputs": [
        {
          "output_type": "execute_result",
          "data": {
            "text/plain": [
              "(array([ 3.,  6., 18., 32., 59., 88., 53., 24., 12.,  5.]),\n",
              " array([0.94527594, 0.95009045, 0.95490496, 0.95971947, 0.96453399,\n",
              "        0.9693485 , 0.97416301, 0.97897752, 0.98379203, 0.98860654,\n",
              "        0.99342105]),\n",
              " <BarContainer object of 10 artists>)"
            ]
          },
          "metadata": {},
          "execution_count": 38
        },
        {
          "output_type": "display_data",
          "data": {
            "text/plain": [
              "<Figure size 640x480 with 1 Axes>"
            ],
            "image/png": "[encoded data removed]"
          },
          "metadata": {}
        }
      ]
    },
    {
      "cell_type": "code",
      "source": [
        "import matplotlib.pyplot as plt\n",
        "for k in range(3):\n",
        "  idx = sorted_cosine_similarities[k][0]\n",
        "  plt.figure()\n",
        "  plt.plot(list(X[idx,:]),  'r-+')\n",
        "  plt.plot(predicted_vectors[idx], 'k-o')"
      ],
      "metadata": {
        "id": "lnLDD7qfD_ze",
        "colab": {
          "base_uri": "https://localhost:8080/",
          "height": 1000
        },
        "outputId": "5c27ae4a-7f24-4ca2-972b-0fe0cfa38b38"
      },
      "execution_count": 26,
      "outputs": [
        {
          "output_type": "display_data",
          "data": {
            "text/plain": [
              "<Figure size 640x480 with 1 Axes>"
            ],
            "image/png": "[encoded data removed]"
          },
          "metadata": {}
        },
        {
          "output_type": "display_data",
          "data": {
            "text/plain": [
              "<Figure size 640x480 with 1 Axes>"
            ],
            "image/png": "[encoded data removed]"
          },
          "metadata": {}
        },
        {
          "output_type": "display_data",
          "data": {
            "text/plain": [
              "<Figure size 640x480 with 1 Axes>"
            ],
            "image/png": "[encoded data removed]"
          },
          "metadata": {}
        }
      ]
    },
    {
      "cell_type": "markdown",
      "source": [
        "#Imporve AutoEncoder based outlier detection: compute reconstruction error only using ‘normal points’\n",
        "https://www.sciencedirect.com/science/article/abs/pii/S0957417422019224\n",
        "\n",
        "Deep learning-based unsupervised techniques (autoencoder) minimize the reconstruction error using each data instance in the dataset and subsequently, data points with higher reconstruction error are treated as outlier points. However, autoencoder based model overestimates the reconstruction error for normal points whereas it is underestimated for outlier points. As a result, genuine outliers are missed by this approach.\n",
        "\n",
        "We propose two techniques to address the issue of reconstruction error stated earlier. Main idea of our techniques is to compute reconstruction error only using ‘normal points’. In the proposed techniques, we identify probable outliers utilizing the clustering approaches intelligently and subsequently, we do not include them in the minimization process of reconstruction error. We exploit recently recognized clustering approach Density Peak Clustering (DPC) to identify the probable outlier points based on density and distance to the higher density points. However, DPC has inherent drawback of setting threshold which plays important role in deciding density. Therefore, Self Organizing Map (SOM) is exploited as another clustering approach in this article. Subsequently, we conducted experiments on synthetic as well as real world datasets and the results show that the proposed technique outperforms the popular existing deep learning model like RandNet, Boosting-based Autoencoder Ensemble method (BAE), One Class Support Vector Machine (OCSVM) and density-based algorithms like LOF, LDOF, INFLO, and RDOS."
      ],
      "metadata": {
        "id": "-7N1Cf7iKX_K"
      }
    },
    {
      "cell_type": "code",
      "source": [],
      "metadata": {
        "id": "RcUHmOqaLSqm"
      },
      "execution_count": null,
      "outputs": []
    },
    {
      "cell_type": "code",
      "source": [],
      "metadata": {
        "id": "WtQbtQ6DLSmn"
      },
      "execution_count": null,
      "outputs": []
    },
    {
      "cell_type": "code",
      "source": [],
      "metadata": {
        "id": "SWqci1uJD_vE"
      },
      "execution_count": null,
      "outputs": []
    },
    {
      "cell_type": "code",
      "source": [
        "#pd.plotting.lag_plot(df.loc[:, [\"C\"]], lag=1)\n",
        "import matplotlib.pyplot as plt\n",
        "for col in df.columns:\n",
        "  #plt.figure()\n",
        "  pd.plotting.autocorrelation_plot(df.loc[:, [col]])\n",
        "plt.legend(df.columns, loc='upper right')\n",
        "plt.grid()"
      ],
      "metadata": {
        "id": "INyEKGhNYpUF"
      },
      "execution_count": null,
      "outputs": []
    },
    {
      "cell_type": "code",
      "source": [
        "for lag in range(1,5):\n",
        "  plt.figure()\n",
        "  pd.plotting.lag_plot(df, lag=lag)\n"
      ],
      "metadata": {
        "id": "SoVGprmBXEJ-"
      },
      "execution_count": null,
      "outputs": []
    },
    {
      "cell_type": "code",
      "source": [
        "chars_list"
      ],
      "metadata": {
        "id": "7YFEYJnoWxXN"
      },
      "execution_count": null,
      "outputs": []
    },
    {
      "cell_type": "code",
      "source": [
        "df.describe()"
      ],
      "metadata": {
        "id": "7qJJTIAmhIQ-"
      },
      "execution_count": null,
      "outputs": []
    },
    {
      "cell_type": "code",
      "source": [
        "from numpy import mean\n",
        "from numpy import std\n",
        "\n",
        "# calculate summary statistics\n",
        "data_mean, data_std = mean(df), std(df)\n",
        "# identify outliers\n",
        "cut_off = data_std * 2\n",
        "lower, upper = data_mean - cut_off, data_mean + cut_off\n",
        "print(f'data_mean=\\n{data_mean}, data_std=\\n{data_std}')\n",
        "print(f'lower=\\n{lower}, upper=\\n{upper}')"
      ],
      "metadata": {
        "id": "qODl28qahidQ"
      },
      "execution_count": null,
      "outputs": []
    },
    {
      "cell_type": "code",
      "source": [
        "outliers_idx, ch, df.loc[outliers_idx, ch]"
      ],
      "metadata": {
        "id": "kWTINzoqizAS"
      },
      "execution_count": null,
      "outputs": []
    },
    {
      "cell_type": "code",
      "source": [
        "# identify outliers\n",
        "for ch in chars_list:\n",
        "  outliers = [x for x in df[ch] if x < lower[ch] or x > upper[ch]]\n",
        "  outliers_idx = df.index[df[ch]==outliers[0]].tolist()\n",
        "  #print(ch, outliers, '\\n', outliers_idx, '\\n')\n",
        "  print(outliers_idx)\n"
      ],
      "metadata": {
        "id": "DhY1tZUgnWSt"
      },
      "execution_count": null,
      "outputs": []
    },
    {
      "cell_type": "markdown",
      "source": [
        "# Conclusion: outlier is\n",
        "269 by 'C, G' \\\n",
        "161 by 'C, D' \\\n"
      ],
      "metadata": {
        "id": "ILmPBejPjX1Y"
      }
    },
    {
      "cell_type": "code",
      "source": [
        "df.boxplot(column=['C', 'D', 'F'])\n"
      ],
      "metadata": {
        "id": "bYO2UnXImvi2"
      },
      "execution_count": null,
      "outputs": []
    },
    {
      "cell_type": "code",
      "source": [
        "df.boxplot(column=['E', 'G'])"
      ],
      "metadata": {
        "id": "TvjTXry2mz9t"
      },
      "execution_count": null,
      "outputs": []
    },
    {
      "cell_type": "code",
      "source": [
        "df.boxplot()"
      ],
      "metadata": {
        "id": "V6GSoKOzm1p0"
      },
      "execution_count": null,
      "outputs": []
    },
    {
      "cell_type": "markdown",
      "source": [
        "from sklearn.neighbors import LocalOutlierFactor\n",
        "#Note that neighbors.LocalOutlierFactor does not support predict, decision_function\n",
        "#and score_samples methods by default but only a fit_predict method, as this estimator\n",
        "#was originally meant to be applied for outlier detection. The scores of abnormality\n",
        "#of the training samples are accessible through the negative_outlier_factor_ attribute.\n",
        "\n",
        "n_neighbors = 150\n",
        "clf = LocalOutlierFactor(n_neighbors=n_neighbors)\n",
        "results = clf.fit_predict(df) #\n",
        "print(np.where(results==-1))\n",
        "#estimator.predict(X_test): Inliers are labeled 1, while outliers are labeled -1.\n",
        "#clf.negative_outlier_factor_\n",
        "#The decision_function method is also defined from the scoring function, in such\n",
        "#a way that negative values are outliers and non-negative ones are inliers:\n",
        "#estimator.decision_function(X_test)\n",
        "\n",
        "#negative_outlier_factor_: The opposite LOF of the training samples. The higher, the more normal.\n",
        "#Inliers tend to have a LOF score close to 1 (negative_outlier_factor_ close to -1), while outliers tend to have a larger LOF score.\n"
      ],
      "metadata": {
        "id": "QXew3phhmh2d"
      }
    },
    {
      "cell_type": "code",
      "source": [
        "kmers_size = 2\n",
        "file_path = \"test.txt\"\n",
        "X = func_kmers_feature(file_path, kmers_size)\n",
        "feature_vector_size = X.shape[1]\n",
        "print(f'feature_vector_size = {feature_vector_size}, X shape is {X.shape}, X type is {type(X)}')"
      ],
      "metadata": {
        "id": "cP2VLqL0QlNp"
      },
      "execution_count": null,
      "outputs": []
    },
    {
      "cell_type": "code",
      "source": [
        "from sklearn.neighbors import LocalOutlierFactor\n",
        "n_neighbors = 2\n",
        "clf = LocalOutlierFactor(n_neighbors=n_neighbors)\n",
        "results = clf.fit_predict(X.toarray())\n",
        "outlier_idx = np.where(results==-1)\n",
        "print(f'outlier index={outlier_idx}')\n",
        "print(f'outlier results={results[outlier_idx]}')\n",
        "print(f'outlier negative_outlier_factor_={clf.negative_outlier_factor_[outlier_idx]}')\n",
        "print(f'first 10 negative_outlier_factor_={clf.negative_outlier_factor_[:10]}')"
      ],
      "metadata": {
        "colab": {
          "base_uri": "https://localhost:8080/"
        },
        "id": "qvLQpe5vQQ6_",
        "outputId": "f1bbf735-d814-48ee-8fb4-f337da141593"
      },
      "execution_count": null,
      "outputs": [
        {
          "output_type": "stream",
          "name": "stdout",
          "text": [
            "outlier index=(array([134, 152, 161, 165, 295]),)\n",
            "outlier results=[-1 -1 -1 -1 -1]\n",
            "outlier negative_outlier_factor_=[-1.59845129 -1.62653131 -1.6882683  -1.6084096  -1.62794681]\n",
            "first 10 negative_outlier_factor_=[-1.12573084 -1.08079427 -1.04471476 -1.04932073 -1.25113538 -1.02872418\n",
            " -1.00637272 -1.09592942 -1.13801801 -1.06051919]\n"
          ]
        }
      ]
    },
    {
      "cell_type": "code",
      "source": [
        "df = func_1mers_feature(file_path, number_of_lines, chars_list)"
      ],
      "metadata": {
        "id": "V0zKvKz7QQva"
      },
      "execution_count": null,
      "outputs": []
    },
    {
      "cell_type": "code",
      "source": [
        "from sklearn.neighbors import LocalOutlierFactor\n",
        "n_neighbors = 25\n",
        "clf = LocalOutlierFactor(n_neighbors=n_neighbors)\n",
        "results = clf.fit_predict(df)\n",
        "outlier_idx = np.where(results==-1)\n",
        "print(f'outlier index={outlier_idx}')\n",
        "print(f'outlier results={results[outlier_idx]}')\n",
        "print(f'outlier negative_outlier_factor_={clf.negative_outlier_factor_[outlier_idx]}')\n",
        "print(f'first 10 negative_outlier_factor_={clf.negative_outlier_factor_[:10]}')"
      ],
      "metadata": {
        "id": "kg2eQRusmNRj",
        "colab": {
          "base_uri": "https://localhost:8080/"
        },
        "outputId": "7075f410-dfae-46c4-a366-88b50ab04461"
      },
      "execution_count": null,
      "outputs": [
        {
          "output_type": "stream",
          "name": "stdout",
          "text": [
            "outlier index=(array([ 45, 137, 140, 143, 146, 148, 155, 164, 190, 262, 288]),)\n",
            "outlier results=[-1 -1 -1 -1 -1 -1 -1 -1 -1 -1 -1]\n",
            "outlier negative_outlier_factor_=[-1.6248564  -1.81192977 -1.87802966 -1.54783341 -1.68208315 -1.56941368\n",
            " -1.74870834 -1.63221913 -1.52045987 -1.91856182 -1.70071625]\n",
            "first 10 negative_outlier_factor_=[-1.07490544 -0.94729289 -1.01444357 -1.01625166 -1.07140791 -0.98924822\n",
            " -1.04564772 -1.15528783 -0.9813854  -1.0602941 ]\n"
          ]
        }
      ]
    },
    {
      "cell_type": "code",
      "source": [
        "df.boxplot()"
      ],
      "metadata": {
        "id": "H-oMXChFoxIa"
      },
      "execution_count": null,
      "outputs": []
    },
    {
      "cell_type": "markdown",
      "source": [
        "\n",
        "outliers as indicated by out of range of mean by 2*std:\\\n",
        "Conclusion: outlier with shared columns is:\\\n",
        "161 by 'C, D' \\\n",
        "269 by 'C, G' \\\n",
        "\n",
        "C [50, 77, 161, 170, 265, 269]\\\n",
        "D [24, 63, 100, 104, 122, 133, 151, 154, 159, 161, 164, 169, 187, 202, 228, 252]\\\n",
        "E [11, 25, 135, 141, 166, 283, 287]\\\n",
        "F [13, 54, 56, 147, 152, 154, 155, 163, 176]\\\n",
        "G [94, 269]\\\n",
        "\n"
      ],
      "metadata": {
        "id": "vVMf204HnSTk"
      }
    },
    {
      "cell_type": "code",
      "source": [
        "from sklearn.neighbors import LocalOutlierFactor\n",
        "n_neighbors = 2\n",
        "clf = LocalOutlierFactor(n_neighbors=n_neighbors)\n",
        "#results = clf.fit_predict(df[['G']])\n",
        "results = clf.fit_predict(df)\n",
        "\n",
        "outlier_idx = np.where(results==-1)\n",
        "print(f'outlier index={outlier_idx}')\n",
        "print(f'outlier results={results[outlier_idx]}')\n",
        "print(f'outlier negative_outlier_factor_={clf.negative_outlier_factor_[outlier_idx]}')\n",
        "print(f'first 10 negative_outlier_factor_={clf.negative_outlier_factor_[:10]}')"
      ],
      "metadata": {
        "id": "O-zaILWG2NRn"
      },
      "execution_count": null,
      "outputs": []
    },
    {
      "cell_type": "markdown",
      "source": [
        "https://scikit-learn.org/stable/auto_examples/neighbors/plot_lof_outlier_detection.html#sphx-glr-auto-examples-neighbors-plot-lof-outlier-detection-py\n",
        "\n",
        "Outlier detection with Local Outlier Factor (LOF)\n"
      ],
      "metadata": {
        "id": "DVmYbnlqPDS5"
      }
    },
    {
      "cell_type": "code",
      "source": [
        "import numpy as np\n",
        "\n",
        "np.random.seed(42)\n",
        "\n",
        "X_inliers = 0.3 * np.random.randn(100, 2)\n",
        "X_inliers = np.r_[X_inliers + 2, X_inliers - 2]\n",
        "X_outliers = np.random.uniform(low=-4, high=4, size=(20, 2))\n",
        "X = np.r_[X_inliers, X_outliers]\n",
        "\n",
        "n_outliers = len(X_outliers)\n",
        "ground_truth = np.ones(len(X), dtype=int)\n",
        "ground_truth[-n_outliers:] = -1"
      ],
      "metadata": {
        "id": "EqeZWZAWPETq"
      },
      "execution_count": null,
      "outputs": []
    },
    {
      "cell_type": "code",
      "source": [
        "X_inliers.shape, np.random.randn(100, 2).shape, X_outliers.shape, n_outliers, X.shape"
      ],
      "metadata": {
        "id": "u-OwZoqePaj6"
      },
      "execution_count": null,
      "outputs": []
    },
    {
      "cell_type": "code",
      "source": [],
      "metadata": {
        "id": "NbYzTOmxPaUB"
      },
      "execution_count": null,
      "outputs": []
    },
    {
      "cell_type": "code",
      "source": [
        "from sklearn.neighbors import LocalOutlierFactor\n",
        "\n",
        "clf = LocalOutlierFactor(n_neighbors=20, contamination=0.1)\n",
        "y_pred = clf.fit_predict(X)\n",
        "n_errors = (y_pred != ground_truth).sum()\n",
        "X_scores = clf.negative_outlier_factor_"
      ],
      "metadata": {
        "id": "tlygJ2moPN77"
      },
      "execution_count": null,
      "outputs": []
    },
    {
      "cell_type": "code",
      "source": [
        "import matplotlib.pyplot as plt\n",
        "from matplotlib.legend_handler import HandlerPathCollection\n",
        "\n",
        "\n",
        "def update_legend_marker_size(handle, orig):\n",
        "    \"Customize size of the legend marker\"\n",
        "    handle.update_from(orig)\n",
        "    handle.set_sizes([20])\n",
        "\n",
        "\n",
        "plt.scatter(X[:, 0], X[:, 1], color=\"k\", s=3.0, label=\"Data points\")\n",
        "# plot circles with radius proportional to the outlier scores\n",
        "radius = (X_scores.max() - X_scores) / (X_scores.max() - X_scores.min())\n",
        "scatter = plt.scatter(\n",
        "    X[:, 0],\n",
        "    X[:, 1],\n",
        "    s=1000 * radius,\n",
        "    edgecolors=\"r\",\n",
        "    facecolors=\"none\",\n",
        "    label=\"Outlier scores\",\n",
        ")\n",
        "plt.axis(\"tight\")\n",
        "plt.xlim((-5, 5))\n",
        "plt.ylim((-5, 5))\n",
        "plt.xlabel(\"prediction errors: %d\" % (n_errors))\n",
        "plt.legend(\n",
        "    handler_map={scatter: HandlerPathCollection(update_func=update_legend_marker_size)}\n",
        ")\n",
        "plt.title(\"Local Outlier Factor (LOF)\")\n",
        "plt.show()"
      ],
      "metadata": {
        "id": "jgldZkclPQUS"
      },
      "execution_count": null,
      "outputs": []
    },
    {
      "cell_type": "markdown",
      "source": [
        "#Simple Anomaly Detection using Unsupervised KNN\n",
        "\n",
        "Ref: https://www.kaggle.com/code/kimchanyoung/simple-anomaly-detection-using-unsupervised-knn\n",
        "\n",
        "KNN is a supervised learning-based algorithm.\n",
        "However, using KNN's distance calculation method can also be used as an unsupervised learning method.\n",
        "\n",
        "In this work, we will use Scikit-Learn's NearestNeighbors, which we can use it for unsupervised learning\n",
        "\n",
        "sklearn.neighbors.NearestNeighbors\n",
        "class sklearn.neighbors.NearestNeighbors(*, n_neighbors=5, radius=1.0, algorithm='auto', leaf_size=30, metric='minkowski', p=2, metric_params=None, n_jobs=None)\n",
        "n_neighbors : int, default=5 (Number of neighbors to use by default for kneighbors queries.)\n",
        "radius : float, default=1.0 (Range of parameter space to use by default for radius_neighbors queries.)\n",
        "algorithm : {‘auto’, ‘ball_tree’, ‘kd_tree’, ‘brute’}, default=’auto’ (Algorithm used to compute the nearest neighbors)\n",
        "metric : str or callable, default=’minkowski’ (the distance metric to use for the tree.)\n",
        "p : int, default=2 (Parameter for the Minkowski metric from sklearn.metrics.pairwise.pairwise_distances. When p = 1, this is equivalent to using manhattan_distance (l1), and euclidean_distance (l2) for p = 2.)\n",
        "\n",
        "\n",
        "\n"
      ],
      "metadata": {
        "id": "HEUu5NZzxWLv"
      }
    },
    {
      "cell_type": "code",
      "source": [
        "import pandas as pd\n",
        "import numpy as np\n",
        "import matplotlib.pyplot as plt\n",
        "from sklearn.neighbors import NearestNeighbors"
      ],
      "metadata": {
        "id": "7yP-lM5AxW0t"
      },
      "execution_count": null,
      "outputs": []
    },
    {
      "cell_type": "code",
      "source": [
        "df.columns"
      ],
      "metadata": {
        "id": "LtXSY5_uxk31"
      },
      "execution_count": null,
      "outputs": []
    },
    {
      "cell_type": "code",
      "source": [
        "fig, ax = plt.subplots(figsize=(20,8))\n",
        "plt.scatter(df[\"C\"], df[\"D\"], color='Red')\n",
        "ax.set_xlabel('C', fontsize='11')\n",
        "ax.set_ylabel('D', fontsize='11')\n",
        "plt.title('C vs D frequency')\n",
        "plt.grid()\n",
        "plt.show()"
      ],
      "metadata": {
        "id": "5NBX96Wyxi0g"
      },
      "execution_count": null,
      "outputs": []
    },
    {
      "cell_type": "code",
      "source": [
        "# create model\n",
        "n_neighbors = 10\n",
        "nbrs = NearestNeighbors(n_neighbors = n_neighbors)\n",
        "# fit model\n",
        "nbrs.fit(df)\n"
      ],
      "metadata": {
        "id": "nMLmoVmayQf3"
      },
      "execution_count": null,
      "outputs": []
    },
    {
      "cell_type": "code",
      "source": [
        "# distances and indexes of k-neaighbors from model outputs\n",
        "distances, indexes = nbrs.kneighbors(df)\n",
        "# plot\n",
        "plt.figure(figsize=(15, 7))\n",
        "plt.plot(distances.mean(axis =1))"
      ],
      "metadata": {
        "id": "zP-kVsmkyWBL"
      },
      "execution_count": null,
      "outputs": []
    },
    {
      "cell_type": "code",
      "source": [
        "distances = pd.DataFrame(distances)\n",
        "distances_mean = distances.mean(axis =1)\n",
        "distances_mean"
      ],
      "metadata": {
        "id": "j5eNQFoEyV98"
      },
      "execution_count": null,
      "outputs": []
    },
    {
      "cell_type": "code",
      "source": [
        "distances"
      ],
      "metadata": {
        "id": "Rsx6yNCPyV6v"
      },
      "execution_count": null,
      "outputs": []
    },
    {
      "cell_type": "code",
      "source": [
        "#Set thresholds with reference to statistics.\n",
        "\n",
        "distances_mean.describe()\n"
      ],
      "metadata": {
        "id": "WrsqxAtwyV3B"
      },
      "execution_count": null,
      "outputs": []
    },
    {
      "cell_type": "code",
      "source": [
        "np.linspace(0, 3, num=4)"
      ],
      "metadata": {
        "id": "VnB2uyhY0Rmw"
      },
      "execution_count": null,
      "outputs": []
    },
    {
      "cell_type": "code",
      "source": [
        "#Since 75th percentile is 8.35, we will set threshold into 9.0\n",
        "#Since 75th percentile is 1.32, we will set threshold into 1.5\n",
        "for th in np.linspace(1.9, 3, num=5):\n",
        "  outlier_index = np.where(distances_mean > th)\n",
        "  print(th, len(list(outlier_index[0])), outlier_index)\n"
      ],
      "metadata": {
        "id": "de2UFlpOyVvG"
      },
      "execution_count": null,
      "outputs": []
    },
    {
      "cell_type": "code",
      "source": [
        "outlier_values = df.iloc[outlier_index]\n",
        "outlier_values"
      ],
      "metadata": {
        "id": "iBo4gKE1zn_a"
      },
      "execution_count": null,
      "outputs": []
    },
    {
      "cell_type": "code",
      "source": [
        "outlier_values"
      ],
      "metadata": {
        "id": "1c3DEHBm7VRq"
      },
      "execution_count": null,
      "outputs": []
    },
    {
      "cell_type": "code",
      "source": [
        "fig, axs = plt.subplots(1, len(chars_list), figsize=(15, 6), facecolor='w', edgecolor='k')\n",
        "fig.subplots_adjust(hspace = .5, wspace=.001)\n",
        "axs = axs.ravel()\n",
        "for i in range(0, len(chars_list)):\n",
        "    axs[i].plot(df[chars_list[i]], color = \"b\", marker=\"+\")\n",
        "    axs[i].plot(outlier_values[chars_list[i]], color='r', marker=\"o\") #s=80, facecolors='none', edgecolors='r'\n",
        "    axs[i].set_title(chars_list[i])"
      ],
      "metadata": {
        "id": "0ywwIRDp2Vei"
      },
      "execution_count": null,
      "outputs": []
    },
    {
      "cell_type": "code",
      "source": [
        "fig, axs = plt.subplots(1, len(chars_list)-1, figsize=(15, 6), facecolor='w', edgecolor='k')\n",
        "fig.subplots_adjust(hspace = .5, wspace=.001)\n",
        "axs = axs.ravel()\n",
        "for i in range(1, len(chars_list)):\n",
        "    axs[i-1].scatter(df[\"C\"], df[chars_list[i]], color = \"b\", marker=\"+\")\n",
        "    axs[i-1].scatter(outlier_values[\"C\"], outlier_values[chars_list[i]], marker=\"o\", s=80, facecolors='none', edgecolors='r')\n",
        "    axs[i-1].set_title(chars_list[i])"
      ],
      "metadata": {
        "id": "JgE12m533fe3"
      },
      "execution_count": null,
      "outputs": []
    },
    {
      "cell_type": "markdown",
      "source": [
        "# Conclusion of outlier with single feature separately:\n",
        "269 by 'C, G' \\\n",
        "161 by 'C, D' \\"
      ],
      "metadata": {
        "id": "KpXqjv_5zU5L"
      }
    },
    {
      "cell_type": "markdown",
      "source": [
        "#Isolation Forest\n",
        "One efficient way of performing outlier detection in high-dimensional datasets is to use random forests. The ensemble.IsolationForest ‘isolates’ observations by randomly selecting a feature and then randomly selecting a split value between the maximum and minimum values of the selected feature.\n"
      ],
      "metadata": {
        "id": "AlZYa5Sv7wBF"
      }
    },
    {
      "cell_type": "markdown",
      "source": [
        "#max_features int or float, default=1.0\n",
        "The number of features to draw from X to train each base estimator.\n",
        "\n",
        "If int, then draw max_features features.\n",
        "\n",
        "If float, then draw max(1, int(max_features * n_features_in_)) features.\n",
        "\n",
        "Note: using a float number less than 1.0 or integer less than number of features will enable feature subsampling and leads to a longer runtime.\n"
      ],
      "metadata": {
        "id": "Ws_G0lFS8LFy"
      }
    },
    {
      "cell_type": "code",
      "source": [
        "from sklearn.ensemble import IsolationForest\n",
        "\n",
        "clf = IsolationForest(max_samples=100, random_state=0) #len(chars_list))\n",
        "clf.fit(df)"
      ],
      "metadata": {
        "id": "Y8ZbeQJU7vfQ"
      },
      "execution_count": null,
      "outputs": []
    },
    {
      "cell_type": "code",
      "source": [
        "clf.n_features_in_, clf.feature_names_in_"
      ],
      "metadata": {
        "id": "E2k_JDhiAWde"
      },
      "execution_count": null,
      "outputs": []
    },
    {
      "cell_type": "code",
      "source": [
        "#Predict if a particular sample is an outlier or not.\n",
        "results = clf.predict(df)\n",
        "outlier_idx = np.where(results==-1)\n",
        "print(f'num of outliers = {len(outlier_idx[0])}, outlier_idx={outlier_idx}')"
      ],
      "metadata": {
        "id": "gsfM5PGW_UBs"
      },
      "execution_count": null,
      "outputs": []
    },
    {
      "cell_type": "code",
      "source": [
        "results.shape, len(outlier_idx[0])"
      ],
      "metadata": {
        "id": "ZiT7Xm4TBk89"
      },
      "execution_count": null,
      "outputs": []
    },
    {
      "cell_type": "code",
      "source": [
        "#Opposite of the anomaly score defined in the original paper.\n",
        "results = clf.score_samples(df)\n",
        "plt.plot(range(300), results)\n",
        "plt.plot(outlier_idx[0], results[outlier_idx[0]], 'r+')"
      ],
      "metadata": {
        "id": "Ci6A06x8A7zu"
      },
      "execution_count": null,
      "outputs": []
    },
    {
      "cell_type": "code",
      "source": [
        "plt.plot(results[outlier_idx])\n"
      ],
      "metadata": {
        "id": "lm7ERkCEBK5d"
      },
      "execution_count": null,
      "outputs": []
    },
    {
      "cell_type": "code",
      "source": [
        "clf = IsolationForest(max_samples=100, random_state=0, max_features=2) #len(chars_list))\n",
        "clf.fit(df[['C', 'D']])\n",
        "\n",
        "import matplotlib.pyplot as plt\n",
        "\n",
        "from sklearn.inspection import DecisionBoundaryDisplay\n",
        "\n",
        "disp = DecisionBoundaryDisplay.from_estimator(\n",
        "    clf,\n",
        "    df[['C', 'D']],\n",
        "    response_method=\"predict\",\n",
        "    alpha=0.5,\n",
        ")\n",
        "disp.ax_.scatter(df['C'], df['D'], s=20, edgecolor=\"k\")\n",
        "disp.ax_.set_title(\"Binary decision boundary \\nof IsolationForest\")\n",
        "plt.axis(\"square\")\n",
        "plt.legend(handles=handles, labels=[\"outliers\", \"inliers\"], title=\"true class\")\n",
        "plt.show()"
      ],
      "metadata": {
        "id": "2CNGTw0h8KuQ"
      },
      "execution_count": null,
      "outputs": []
    },
    {
      "cell_type": "code",
      "source": [],
      "metadata": {
        "id": "gnM7HEHh7Ws3"
      },
      "execution_count": null,
      "outputs": []
    },
    {
      "cell_type": "code",
      "source": [],
      "metadata": {
        "id": "kqnHzX8m7XML"
      },
      "execution_count": null,
      "outputs": []
    },
    {
      "cell_type": "markdown",
      "source": [
        "#Ordinal encoding DNA sequence data\n",
        "\n",
        "In this approach, we need to encode each nitrogen base as an ordinal value. For example “ATGC” becomes [0.25, 0.5, 0.75, 1.0]. Any other base such as “N” can be a 0.\n",
        "\n",
        "\n",
        "So let us create functions such as creating a NumPy array object from a sequence string, and a label encoder with the DNA sequence alphabet “a”, “c”, “g” and “t”, but also a character for anything else, “n”."
      ],
      "metadata": {
        "id": "h1HSDdPNDGDh"
      }
    },
    {
      "cell_type": "markdown",
      "source": [
        "#One-hot encoding DNA Sequence\n",
        "\n",
        "Another approach is to use one-hot encoding to represent the DNA sequence. This is widely used in deep learning methods and lends itself well to algorithms like convolutional neural networks. In this example, “ATGC” would become [0,0,0,1], [0,0,1,0], [0,1,0,0], [1,0,0,0]. And these one-hot encoded vectors can either be concatenated or turned into 2-dimensional arrays.\n"
      ],
      "metadata": {
        "id": "1K3DHprVX3i5"
      }
    },
    {
      "cell_type": "code",
      "source": [
        "from sklearn.preprocessing import OneHotEncoder\n",
        "from sklearn.preprocessing import LabelEncoder\n",
        "label_encoder = LabelEncoder()\n",
        "label_encoder.fit(np.array(['a','c','g','t','z']))\n",
        "\n",
        "def one_hot_encoder(seq_string):\n",
        "  seq_string = string_to_array(seq_string)\n",
        "  int_encoded = label_encoder.transform(seq_string)\n",
        "  print('my int_encoded', int_encoded)\n",
        "\n",
        "  onehot_encoder = OneHotEncoder(sparse=False, dtype=int)\n",
        "  int_encoded = int_encoded.reshape(len(int_encoded), 1)\n",
        "  onehot_encoded = onehot_encoder.fit_transform(int_encoded)\n",
        "  onehot_encoded = np.delete(onehot_encoded, -1, 1)\n",
        "  return onehot_encoded\n",
        "\n",
        "int_encoded = label_encoder.transform(string_to_array('ACGTZnv'))\n",
        "onehot_encoder = OneHotEncoder(sparse=False, dtype=int)\n",
        "print('int_encoded', int_encoded)\n",
        "int_encoded = int_encoded.reshape(len(int_encoded), 1)\n",
        "onehot_encoder.fit(int_encoded)\n",
        "print('onehot_encoder ', onehot_encoder.categories_)\n",
        "onehot_encoder.transform(int_encoded)"
      ],
      "metadata": {
        "id": "fMcist9GXILG"
      },
      "execution_count": null,
      "outputs": []
    },
    {
      "cell_type": "code",
      "source": [],
      "metadata": {
        "id": "AlWKZRu2NIa7"
      },
      "execution_count": null,
      "outputs": []
    },
    {
      "cell_type": "code",
      "source": [
        "from sklearn.model_selection import train_test_split\n",
        "VALIDATE_SIZE = 0.2\n",
        "RANDOM_SEED = 123\n",
        "# train // validate - no labels since they're all clean anyway\n",
        "X_train, X_test = train_test_split(X,\n",
        "                                   test_size=VALIDATE_SIZE,\n",
        "                                   random_state=RANDOM_SEED)\n",
        "\n",
        "# manually splitting the labels from the test df\n",
        "#X_test, y_test = X_test.drop('label', axis=1).values, X_test.label.values"
      ],
      "metadata": {
        "id": "G1SDGykbNITr"
      },
      "execution_count": 58,
      "outputs": []
    },
    {
      "cell_type": "code",
      "source": [
        "print(X.shape, X_train.shape, X_test.shape)"
      ],
      "metadata": {
        "colab": {
          "base_uri": "https://localhost:8080/"
        },
        "id": "jE5-KuC8NiiG",
        "outputId": "4ab93ae9-3914-4cf8-bbcb-4f0fc53f7f76"
      },
      "execution_count": 59,
      "outputs": [
        {
          "output_type": "stream",
          "name": "stdout",
          "text": [
            "(300, 125) (240, 125) (60, 125)\n"
          ]
        }
      ]
    },
    {
      "cell_type": "code",
      "source": [],
      "metadata": {
        "id": "Woq0AmaMOOrj"
      },
      "execution_count": 60,
      "outputs": []
    },
    {
      "cell_type": "code",
      "source": [],
      "metadata": {
        "id": "RqgirXmmOR_O"
      },
      "execution_count": 62,
      "outputs": []
    },
    {
      "cell_type": "code",
      "source": [],
      "metadata": {
        "id": "Ge5-7UPFOlbr"
      },
      "execution_count": 67,
      "outputs": []
    },
    {
      "cell_type": "code",
      "source": [
        "print(X_train[0].toarray()[:2], X_train_transformed)\n"
      ],
      "metadata": {
        "colab": {
          "base_uri": "https://localhost:8080/"
        },
        "id": "BqaWY8gPObn0",
        "outputId": "f8041e86-0e36-4854-9bb2-c7f75cc89e79"
      },
      "execution_count": 68,
      "outputs": [
        {
          "output_type": "stream",
          "name": "stdout",
          "text": [
            "[[0 0 1 0 0 1 0 0 0 1 0 1 1 1 4 1 0 0 0 1 1 0 1 2 2 0 0 2 0 1 0 0 1 0 0 0\n",
            "  0 3 0 0 0 0 0 0 0 2 0 0 0 1 0 0 0 1 3 1 0 2 0 2 1 3 6 1 2 2 0 0 1 1 2 0\n",
            "  4 2 0 1 1 1 0 1 1 0 0 0 0 0 0 1 0 2 0 0 0 0 1 0 0 0 2 3 0 1 3 1 1 0 1 0\n",
            "  0 0 3 0 2 2 1 1 1 3 0 2 1 1 3 1 4]] [[0.         0.         0.3392335  ... 0.49801192 0.31426968 0.64292013]\n",
            " [0.         0.         0.72123462 ... 0.52940444 0.33407988 0.51258527]\n",
            " [0.         0.         0.         ... 0.16835876 0.31872763 0.32602001]\n",
            " ...\n",
            " [0.95118973 0.         0.35431783 ... 0.69354198 0.         0.50363113]\n",
            " [0.         0.         0.33856241 ... 0.49702673 0.31364798 0.32082414]\n",
            " [0.         0.         0.62707283 ... 0.76714551 0.         0.44566399]]\n"
          ]
        }
      ]
    },
    {
      "cell_type": "code",
      "source": [
        "#X_train.shape, type(X_train), X_train.toarray().shape\n",
        "X_train.toarray()[:2,:3]"
      ],
      "metadata": {
        "colab": {
          "base_uri": "https://localhost:8080/"
        },
        "id": "skbGjq36PpkU",
        "outputId": "5ab9c215-3064-4603-fbab-19b2cecd8037"
      },
      "execution_count": 80,
      "outputs": [
        {
          "output_type": "execute_result",
          "data": {
            "text/plain": [
              "array([[0, 0, 1],\n",
              "       [0, 0, 2]])"
            ]
          },
          "metadata": {},
          "execution_count": 80
        }
      ]
    },
    {
      "cell_type": "code",
      "source": [
        "import seaborn as sns\n",
        "\n",
        "#g = sns.PairGrid(X_train.iloc[:,:3].sample(600, random_state=RANDOM_SEED))\n",
        "g = sns.PairGrid(X_train.toarray()[:,:3]) #.sample(600, random_state=RANDOM_SEED))\n",
        "plt.subplots_adjust(top=0.9)\n",
        "g.fig.suptitle('Before:')\n",
        "g.map_diag(sns.kdeplot)\n",
        "g.map_offdiag(sns.kdeplot);"
      ],
      "metadata": {
        "id": "Epue-Bl8POgk"
      },
      "execution_count": null,
      "outputs": []
    }
  ]
}